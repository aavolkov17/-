{
 "cells": [
  {
   "cell_type": "markdown",
   "metadata": {},
   "source": [
    "**Импортируем библиотеки.**"
   ]
  },
  {
   "cell_type": "code",
   "execution_count": 1,
   "metadata": {},
   "outputs": [],
   "source": [
    "import pandas as pd\n",
    "import numpy as np\n",
    "import seaborn as sns\n",
    "import matplotlib.pyplot as plt\n",
    "import scipy"
   ]
  },
  {
   "cell_type": "markdown",
   "metadata": {},
   "source": [
    "**Загрузим датасеты по очереди**"
   ]
  },
  {
   "cell_type": "code",
   "execution_count": 2,
   "metadata": {},
   "outputs": [],
   "source": [
    "calls = pd.read_csv('/datasets/calls.csv')\n",
    "internet = pd.read_csv('/datasets/internet.csv')\n",
    "messages = pd.read_csv('/datasets/messages.csv')\n",
    "tariffs = pd.read_csv('/datasets/tariffs.csv')\n",
    "users = pd.read_csv('/datasets/users.csv')"
   ]
  },
  {
   "cell_type": "markdown",
   "metadata": {},
   "source": [
    "##  Шаг 1. Посмотрим на общую информацию каждого датасета."
   ]
  },
  {
   "cell_type": "markdown",
   "metadata": {},
   "source": [
    "### Рассмотрим датасет \"calls\"."
   ]
  },
  {
   "cell_type": "code",
   "execution_count": 3,
   "metadata": {},
   "outputs": [
    {
     "data": {
      "text/html": [
       "<div>\n",
       "<style scoped>\n",
       "    .dataframe tbody tr th:only-of-type {\n",
       "        vertical-align: middle;\n",
       "    }\n",
       "\n",
       "    .dataframe tbody tr th {\n",
       "        vertical-align: top;\n",
       "    }\n",
       "\n",
       "    .dataframe thead th {\n",
       "        text-align: right;\n",
       "    }\n",
       "</style>\n",
       "<table border=\"1\" class=\"dataframe\">\n",
       "  <thead>\n",
       "    <tr style=\"text-align: right;\">\n",
       "      <th></th>\n",
       "      <th>id</th>\n",
       "      <th>call_date</th>\n",
       "      <th>duration</th>\n",
       "      <th>user_id</th>\n",
       "    </tr>\n",
       "  </thead>\n",
       "  <tbody>\n",
       "    <tr>\n",
       "      <td>0</td>\n",
       "      <td>1000_0</td>\n",
       "      <td>2018-07-25</td>\n",
       "      <td>0.00</td>\n",
       "      <td>1000</td>\n",
       "    </tr>\n",
       "    <tr>\n",
       "      <td>1</td>\n",
       "      <td>1000_1</td>\n",
       "      <td>2018-08-17</td>\n",
       "      <td>0.00</td>\n",
       "      <td>1000</td>\n",
       "    </tr>\n",
       "    <tr>\n",
       "      <td>2</td>\n",
       "      <td>1000_2</td>\n",
       "      <td>2018-06-11</td>\n",
       "      <td>2.85</td>\n",
       "      <td>1000</td>\n",
       "    </tr>\n",
       "    <tr>\n",
       "      <td>3</td>\n",
       "      <td>1000_3</td>\n",
       "      <td>2018-09-21</td>\n",
       "      <td>13.80</td>\n",
       "      <td>1000</td>\n",
       "    </tr>\n",
       "    <tr>\n",
       "      <td>4</td>\n",
       "      <td>1000_4</td>\n",
       "      <td>2018-12-15</td>\n",
       "      <td>5.18</td>\n",
       "      <td>1000</td>\n",
       "    </tr>\n",
       "  </tbody>\n",
       "</table>\n",
       "</div>"
      ],
      "text/plain": [
       "       id   call_date  duration  user_id\n",
       "0  1000_0  2018-07-25      0.00     1000\n",
       "1  1000_1  2018-08-17      0.00     1000\n",
       "2  1000_2  2018-06-11      2.85     1000\n",
       "3  1000_3  2018-09-21     13.80     1000\n",
       "4  1000_4  2018-12-15      5.18     1000"
      ]
     },
     "execution_count": 3,
     "metadata": {},
     "output_type": "execute_result"
    }
   ],
   "source": [
    "calls.head()"
   ]
  },
  {
   "cell_type": "code",
   "execution_count": 4,
   "metadata": {},
   "outputs": [
    {
     "name": "stdout",
     "output_type": "stream",
     "text": [
      "<class 'pandas.core.frame.DataFrame'>\n",
      "RangeIndex: 202607 entries, 0 to 202606\n",
      "Data columns (total 4 columns):\n",
      "id           202607 non-null object\n",
      "call_date    202607 non-null object\n",
      "duration     202607 non-null float64\n",
      "user_id      202607 non-null int64\n",
      "dtypes: float64(1), int64(1), object(2)\n",
      "memory usage: 6.2+ MB\n"
     ]
    }
   ],
   "source": [
    "calls.info()"
   ]
  },
  {
   "cell_type": "markdown",
   "metadata": {},
   "source": [
    "**В датасете \"calls\" нет пропусков и ошибок в названиях столбцов.**"
   ]
  },
  {
   "cell_type": "markdown",
   "metadata": {},
   "source": [
    "### Рассмотрим датасет \"internet\"."
   ]
  },
  {
   "cell_type": "code",
   "execution_count": 5,
   "metadata": {},
   "outputs": [
    {
     "data": {
      "text/html": [
       "<div>\n",
       "<style scoped>\n",
       "    .dataframe tbody tr th:only-of-type {\n",
       "        vertical-align: middle;\n",
       "    }\n",
       "\n",
       "    .dataframe tbody tr th {\n",
       "        vertical-align: top;\n",
       "    }\n",
       "\n",
       "    .dataframe thead th {\n",
       "        text-align: right;\n",
       "    }\n",
       "</style>\n",
       "<table border=\"1\" class=\"dataframe\">\n",
       "  <thead>\n",
       "    <tr style=\"text-align: right;\">\n",
       "      <th></th>\n",
       "      <th>Unnamed: 0</th>\n",
       "      <th>id</th>\n",
       "      <th>mb_used</th>\n",
       "      <th>session_date</th>\n",
       "      <th>user_id</th>\n",
       "    </tr>\n",
       "  </thead>\n",
       "  <tbody>\n",
       "    <tr>\n",
       "      <td>0</td>\n",
       "      <td>0</td>\n",
       "      <td>1000_0</td>\n",
       "      <td>112.95</td>\n",
       "      <td>2018-11-25</td>\n",
       "      <td>1000</td>\n",
       "    </tr>\n",
       "    <tr>\n",
       "      <td>1</td>\n",
       "      <td>1</td>\n",
       "      <td>1000_1</td>\n",
       "      <td>1052.81</td>\n",
       "      <td>2018-09-07</td>\n",
       "      <td>1000</td>\n",
       "    </tr>\n",
       "    <tr>\n",
       "      <td>2</td>\n",
       "      <td>2</td>\n",
       "      <td>1000_2</td>\n",
       "      <td>1197.26</td>\n",
       "      <td>2018-06-25</td>\n",
       "      <td>1000</td>\n",
       "    </tr>\n",
       "    <tr>\n",
       "      <td>3</td>\n",
       "      <td>3</td>\n",
       "      <td>1000_3</td>\n",
       "      <td>550.27</td>\n",
       "      <td>2018-08-22</td>\n",
       "      <td>1000</td>\n",
       "    </tr>\n",
       "    <tr>\n",
       "      <td>4</td>\n",
       "      <td>4</td>\n",
       "      <td>1000_4</td>\n",
       "      <td>302.56</td>\n",
       "      <td>2018-09-24</td>\n",
       "      <td>1000</td>\n",
       "    </tr>\n",
       "  </tbody>\n",
       "</table>\n",
       "</div>"
      ],
      "text/plain": [
       "   Unnamed: 0      id  mb_used session_date  user_id\n",
       "0           0  1000_0   112.95   2018-11-25     1000\n",
       "1           1  1000_1  1052.81   2018-09-07     1000\n",
       "2           2  1000_2  1197.26   2018-06-25     1000\n",
       "3           3  1000_3   550.27   2018-08-22     1000\n",
       "4           4  1000_4   302.56   2018-09-24     1000"
      ]
     },
     "execution_count": 5,
     "metadata": {},
     "output_type": "execute_result"
    }
   ],
   "source": [
    "internet.head()"
   ]
  },
  {
   "cell_type": "code",
   "execution_count": 6,
   "metadata": {},
   "outputs": [
    {
     "name": "stdout",
     "output_type": "stream",
     "text": [
      "<class 'pandas.core.frame.DataFrame'>\n",
      "RangeIndex: 149396 entries, 0 to 149395\n",
      "Data columns (total 5 columns):\n",
      "Unnamed: 0      149396 non-null int64\n",
      "id              149396 non-null object\n",
      "mb_used         149396 non-null float64\n",
      "session_date    149396 non-null object\n",
      "user_id         149396 non-null int64\n",
      "dtypes: float64(1), int64(2), object(2)\n",
      "memory usage: 5.7+ MB\n"
     ]
    }
   ],
   "source": [
    "internet.info()"
   ]
  },
  {
   "cell_type": "markdown",
   "metadata": {},
   "source": [
    "**В датасете \"internet\" нет ошибок в названиях столбцов и пропусков. Но есть колонка \"Unnamed\". Это индекс по умолчанию  , образовавшийся при формировании дата-фрейма из источника данных. Избавимся от этой колонки.**"
   ]
  },
  {
   "cell_type": "code",
   "execution_count": 7,
   "metadata": {},
   "outputs": [],
   "source": [
    "internet.drop(['Unnamed: 0'], axis=1, inplace=True)"
   ]
  },
  {
   "cell_type": "code",
   "execution_count": 8,
   "metadata": {},
   "outputs": [
    {
     "data": {
      "text/html": [
       "<div>\n",
       "<style scoped>\n",
       "    .dataframe tbody tr th:only-of-type {\n",
       "        vertical-align: middle;\n",
       "    }\n",
       "\n",
       "    .dataframe tbody tr th {\n",
       "        vertical-align: top;\n",
       "    }\n",
       "\n",
       "    .dataframe thead th {\n",
       "        text-align: right;\n",
       "    }\n",
       "</style>\n",
       "<table border=\"1\" class=\"dataframe\">\n",
       "  <thead>\n",
       "    <tr style=\"text-align: right;\">\n",
       "      <th></th>\n",
       "      <th>id</th>\n",
       "      <th>mb_used</th>\n",
       "      <th>session_date</th>\n",
       "      <th>user_id</th>\n",
       "    </tr>\n",
       "  </thead>\n",
       "  <tbody>\n",
       "    <tr>\n",
       "      <td>0</td>\n",
       "      <td>1000_0</td>\n",
       "      <td>112.95</td>\n",
       "      <td>2018-11-25</td>\n",
       "      <td>1000</td>\n",
       "    </tr>\n",
       "    <tr>\n",
       "      <td>1</td>\n",
       "      <td>1000_1</td>\n",
       "      <td>1052.81</td>\n",
       "      <td>2018-09-07</td>\n",
       "      <td>1000</td>\n",
       "    </tr>\n",
       "    <tr>\n",
       "      <td>2</td>\n",
       "      <td>1000_2</td>\n",
       "      <td>1197.26</td>\n",
       "      <td>2018-06-25</td>\n",
       "      <td>1000</td>\n",
       "    </tr>\n",
       "    <tr>\n",
       "      <td>3</td>\n",
       "      <td>1000_3</td>\n",
       "      <td>550.27</td>\n",
       "      <td>2018-08-22</td>\n",
       "      <td>1000</td>\n",
       "    </tr>\n",
       "    <tr>\n",
       "      <td>4</td>\n",
       "      <td>1000_4</td>\n",
       "      <td>302.56</td>\n",
       "      <td>2018-09-24</td>\n",
       "      <td>1000</td>\n",
       "    </tr>\n",
       "  </tbody>\n",
       "</table>\n",
       "</div>"
      ],
      "text/plain": [
       "       id  mb_used session_date  user_id\n",
       "0  1000_0   112.95   2018-11-25     1000\n",
       "1  1000_1  1052.81   2018-09-07     1000\n",
       "2  1000_2  1197.26   2018-06-25     1000\n",
       "3  1000_3   550.27   2018-08-22     1000\n",
       "4  1000_4   302.56   2018-09-24     1000"
      ]
     },
     "execution_count": 8,
     "metadata": {},
     "output_type": "execute_result"
    }
   ],
   "source": [
    "internet.head()"
   ]
  },
  {
   "cell_type": "markdown",
   "metadata": {},
   "source": [
    "### Рассмотрим датасет \"messages\""
   ]
  },
  {
   "cell_type": "code",
   "execution_count": 9,
   "metadata": {
    "scrolled": true
   },
   "outputs": [
    {
     "data": {
      "text/html": [
       "<div>\n",
       "<style scoped>\n",
       "    .dataframe tbody tr th:only-of-type {\n",
       "        vertical-align: middle;\n",
       "    }\n",
       "\n",
       "    .dataframe tbody tr th {\n",
       "        vertical-align: top;\n",
       "    }\n",
       "\n",
       "    .dataframe thead th {\n",
       "        text-align: right;\n",
       "    }\n",
       "</style>\n",
       "<table border=\"1\" class=\"dataframe\">\n",
       "  <thead>\n",
       "    <tr style=\"text-align: right;\">\n",
       "      <th></th>\n",
       "      <th>id</th>\n",
       "      <th>message_date</th>\n",
       "      <th>user_id</th>\n",
       "    </tr>\n",
       "  </thead>\n",
       "  <tbody>\n",
       "    <tr>\n",
       "      <td>0</td>\n",
       "      <td>1000_0</td>\n",
       "      <td>2018-06-27</td>\n",
       "      <td>1000</td>\n",
       "    </tr>\n",
       "    <tr>\n",
       "      <td>1</td>\n",
       "      <td>1000_1</td>\n",
       "      <td>2018-10-08</td>\n",
       "      <td>1000</td>\n",
       "    </tr>\n",
       "    <tr>\n",
       "      <td>2</td>\n",
       "      <td>1000_2</td>\n",
       "      <td>2018-08-04</td>\n",
       "      <td>1000</td>\n",
       "    </tr>\n",
       "    <tr>\n",
       "      <td>3</td>\n",
       "      <td>1000_3</td>\n",
       "      <td>2018-06-16</td>\n",
       "      <td>1000</td>\n",
       "    </tr>\n",
       "    <tr>\n",
       "      <td>4</td>\n",
       "      <td>1000_4</td>\n",
       "      <td>2018-12-05</td>\n",
       "      <td>1000</td>\n",
       "    </tr>\n",
       "  </tbody>\n",
       "</table>\n",
       "</div>"
      ],
      "text/plain": [
       "       id message_date  user_id\n",
       "0  1000_0   2018-06-27     1000\n",
       "1  1000_1   2018-10-08     1000\n",
       "2  1000_2   2018-08-04     1000\n",
       "3  1000_3   2018-06-16     1000\n",
       "4  1000_4   2018-12-05     1000"
      ]
     },
     "execution_count": 9,
     "metadata": {},
     "output_type": "execute_result"
    }
   ],
   "source": [
    "messages.head()"
   ]
  },
  {
   "cell_type": "code",
   "execution_count": 10,
   "metadata": {},
   "outputs": [
    {
     "name": "stdout",
     "output_type": "stream",
     "text": [
      "<class 'pandas.core.frame.DataFrame'>\n",
      "RangeIndex: 123036 entries, 0 to 123035\n",
      "Data columns (total 3 columns):\n",
      "id              123036 non-null object\n",
      "message_date    123036 non-null object\n",
      "user_id         123036 non-null int64\n",
      "dtypes: int64(1), object(2)\n",
      "memory usage: 2.8+ MB\n"
     ]
    }
   ],
   "source": [
    "messages.info()"
   ]
  },
  {
   "cell_type": "markdown",
   "metadata": {},
   "source": [
    "**В датасете \"messages\" нет пропусков и ошибок в название колонок.**"
   ]
  },
  {
   "cell_type": "markdown",
   "metadata": {},
   "source": [
    "### Рассмотрим датасет \"tariffs\"."
   ]
  },
  {
   "cell_type": "code",
   "execution_count": 11,
   "metadata": {},
   "outputs": [
    {
     "data": {
      "text/html": [
       "<div>\n",
       "<style scoped>\n",
       "    .dataframe tbody tr th:only-of-type {\n",
       "        vertical-align: middle;\n",
       "    }\n",
       "\n",
       "    .dataframe tbody tr th {\n",
       "        vertical-align: top;\n",
       "    }\n",
       "\n",
       "    .dataframe thead th {\n",
       "        text-align: right;\n",
       "    }\n",
       "</style>\n",
       "<table border=\"1\" class=\"dataframe\">\n",
       "  <thead>\n",
       "    <tr style=\"text-align: right;\">\n",
       "      <th></th>\n",
       "      <th>messages_included</th>\n",
       "      <th>mb_per_month_included</th>\n",
       "      <th>minutes_included</th>\n",
       "      <th>rub_monthly_fee</th>\n",
       "      <th>rub_per_gb</th>\n",
       "      <th>rub_per_message</th>\n",
       "      <th>rub_per_minute</th>\n",
       "      <th>tariff_name</th>\n",
       "    </tr>\n",
       "  </thead>\n",
       "  <tbody>\n",
       "    <tr>\n",
       "      <td>0</td>\n",
       "      <td>50</td>\n",
       "      <td>15360</td>\n",
       "      <td>500</td>\n",
       "      <td>550</td>\n",
       "      <td>200</td>\n",
       "      <td>3</td>\n",
       "      <td>3</td>\n",
       "      <td>smart</td>\n",
       "    </tr>\n",
       "    <tr>\n",
       "      <td>1</td>\n",
       "      <td>1000</td>\n",
       "      <td>30720</td>\n",
       "      <td>3000</td>\n",
       "      <td>1950</td>\n",
       "      <td>150</td>\n",
       "      <td>1</td>\n",
       "      <td>1</td>\n",
       "      <td>ultra</td>\n",
       "    </tr>\n",
       "  </tbody>\n",
       "</table>\n",
       "</div>"
      ],
      "text/plain": [
       "   messages_included  mb_per_month_included  minutes_included  \\\n",
       "0                 50                  15360               500   \n",
       "1               1000                  30720              3000   \n",
       "\n",
       "   rub_monthly_fee  rub_per_gb  rub_per_message  rub_per_minute tariff_name  \n",
       "0              550         200                3               3       smart  \n",
       "1             1950         150                1               1       ultra  "
      ]
     },
     "execution_count": 11,
     "metadata": {},
     "output_type": "execute_result"
    }
   ],
   "source": [
    "tariffs.head()"
   ]
  },
  {
   "cell_type": "code",
   "execution_count": 12,
   "metadata": {},
   "outputs": [
    {
     "name": "stdout",
     "output_type": "stream",
     "text": [
      "<class 'pandas.core.frame.DataFrame'>\n",
      "RangeIndex: 2 entries, 0 to 1\n",
      "Data columns (total 8 columns):\n",
      "messages_included        2 non-null int64\n",
      "mb_per_month_included    2 non-null int64\n",
      "minutes_included         2 non-null int64\n",
      "rub_monthly_fee          2 non-null int64\n",
      "rub_per_gb               2 non-null int64\n",
      "rub_per_message          2 non-null int64\n",
      "rub_per_minute           2 non-null int64\n",
      "tariff_name              2 non-null object\n",
      "dtypes: int64(7), object(1)\n",
      "memory usage: 256.0+ bytes\n"
     ]
    }
   ],
   "source": [
    "tariffs.info()"
   ]
  },
  {
   "cell_type": "markdown",
   "metadata": {},
   "source": [
    "**В датасете \"tariffs\" нет пропусков, названия колонок соответствуют регистру snake_case.**"
   ]
  },
  {
   "cell_type": "markdown",
   "metadata": {},
   "source": [
    "### Рассмотрим датасет \"users\"."
   ]
  },
  {
   "cell_type": "code",
   "execution_count": 13,
   "metadata": {},
   "outputs": [
    {
     "data": {
      "text/html": [
       "<div>\n",
       "<style scoped>\n",
       "    .dataframe tbody tr th:only-of-type {\n",
       "        vertical-align: middle;\n",
       "    }\n",
       "\n",
       "    .dataframe tbody tr th {\n",
       "        vertical-align: top;\n",
       "    }\n",
       "\n",
       "    .dataframe thead th {\n",
       "        text-align: right;\n",
       "    }\n",
       "</style>\n",
       "<table border=\"1\" class=\"dataframe\">\n",
       "  <thead>\n",
       "    <tr style=\"text-align: right;\">\n",
       "      <th></th>\n",
       "      <th>user_id</th>\n",
       "      <th>age</th>\n",
       "      <th>churn_date</th>\n",
       "      <th>city</th>\n",
       "      <th>first_name</th>\n",
       "      <th>last_name</th>\n",
       "      <th>reg_date</th>\n",
       "      <th>tariff</th>\n",
       "    </tr>\n",
       "  </thead>\n",
       "  <tbody>\n",
       "    <tr>\n",
       "      <td>0</td>\n",
       "      <td>1000</td>\n",
       "      <td>52</td>\n",
       "      <td>NaN</td>\n",
       "      <td>Краснодар</td>\n",
       "      <td>Рафаил</td>\n",
       "      <td>Верещагин</td>\n",
       "      <td>2018-05-25</td>\n",
       "      <td>ultra</td>\n",
       "    </tr>\n",
       "    <tr>\n",
       "      <td>1</td>\n",
       "      <td>1001</td>\n",
       "      <td>41</td>\n",
       "      <td>NaN</td>\n",
       "      <td>Москва</td>\n",
       "      <td>Иван</td>\n",
       "      <td>Ежов</td>\n",
       "      <td>2018-11-01</td>\n",
       "      <td>smart</td>\n",
       "    </tr>\n",
       "    <tr>\n",
       "      <td>2</td>\n",
       "      <td>1002</td>\n",
       "      <td>59</td>\n",
       "      <td>NaN</td>\n",
       "      <td>Стерлитамак</td>\n",
       "      <td>Евгений</td>\n",
       "      <td>Абрамович</td>\n",
       "      <td>2018-06-17</td>\n",
       "      <td>smart</td>\n",
       "    </tr>\n",
       "    <tr>\n",
       "      <td>3</td>\n",
       "      <td>1003</td>\n",
       "      <td>23</td>\n",
       "      <td>NaN</td>\n",
       "      <td>Москва</td>\n",
       "      <td>Белла</td>\n",
       "      <td>Белякова</td>\n",
       "      <td>2018-08-17</td>\n",
       "      <td>ultra</td>\n",
       "    </tr>\n",
       "    <tr>\n",
       "      <td>4</td>\n",
       "      <td>1004</td>\n",
       "      <td>68</td>\n",
       "      <td>NaN</td>\n",
       "      <td>Новокузнецк</td>\n",
       "      <td>Татьяна</td>\n",
       "      <td>Авдеенко</td>\n",
       "      <td>2018-05-14</td>\n",
       "      <td>ultra</td>\n",
       "    </tr>\n",
       "  </tbody>\n",
       "</table>\n",
       "</div>"
      ],
      "text/plain": [
       "   user_id  age churn_date         city first_name  last_name    reg_date  \\\n",
       "0     1000   52        NaN    Краснодар     Рафаил  Верещагин  2018-05-25   \n",
       "1     1001   41        NaN       Москва       Иван       Ежов  2018-11-01   \n",
       "2     1002   59        NaN  Стерлитамак    Евгений  Абрамович  2018-06-17   \n",
       "3     1003   23        NaN       Москва      Белла   Белякова  2018-08-17   \n",
       "4     1004   68        NaN  Новокузнецк    Татьяна   Авдеенко  2018-05-14   \n",
       "\n",
       "  tariff  \n",
       "0  ultra  \n",
       "1  smart  \n",
       "2  smart  \n",
       "3  ultra  \n",
       "4  ultra  "
      ]
     },
     "execution_count": 13,
     "metadata": {},
     "output_type": "execute_result"
    }
   ],
   "source": [
    "users.head()"
   ]
  },
  {
   "cell_type": "code",
   "execution_count": 14,
   "metadata": {},
   "outputs": [
    {
     "name": "stdout",
     "output_type": "stream",
     "text": [
      "<class 'pandas.core.frame.DataFrame'>\n",
      "RangeIndex: 500 entries, 0 to 499\n",
      "Data columns (total 8 columns):\n",
      "user_id       500 non-null int64\n",
      "age           500 non-null int64\n",
      "churn_date    38 non-null object\n",
      "city          500 non-null object\n",
      "first_name    500 non-null object\n",
      "last_name     500 non-null object\n",
      "reg_date      500 non-null object\n",
      "tariff        500 non-null object\n",
      "dtypes: int64(2), object(6)\n",
      "memory usage: 31.4+ KB\n"
     ]
    }
   ],
   "source": [
    "users.info()"
   ]
  },
  {
   "cell_type": "markdown",
   "metadata": {},
   "source": [
    "**В датасете \"users\" есть пропуски в колонке \"churn_date\" (дата прекращения полльзования тарифом). Данные пропуски означают, что тариф действовал на момент выгрузки данных. Названия колонок соответствуют регистру snake_case.**"
   ]
  },
  {
   "cell_type": "markdown",
   "metadata": {},
   "source": [
    "### Вывод"
   ]
  },
  {
   "cell_type": "markdown",
   "metadata": {},
   "source": [
    "1. **Названия всех колонок соответствуют регистру snake_case.**  \n",
    "\n",
    "\n",
    "2. **В данных нет пропусков, которые потребовалось бы заполнять.**\n",
    "\n",
    "\n",
    "3. **Формат колонки, содержащий дату необходимо привести к типу datetime64.**\n",
    "\n",
    "\n",
    "4. **В датасете \"internet\" при чтение файла образовалась колонка \"Unnamed\" с индексом по умолчанию. Принял решение избавится от нее на старте.**"
   ]
  },
  {
   "cell_type": "markdown",
   "metadata": {},
   "source": [
    "## Шаг 2. Подготовка данных."
   ]
  },
  {
   "cell_type": "markdown",
   "metadata": {},
   "source": [
    "**Изменим в дата-сетах тип колонок с датой с object на datetime64, а так же добавим столбец с номером месяца в дата-сеты оказанных услуг для удобства рассчета.**"
   ]
  },
  {
   "cell_type": "code",
   "execution_count": 15,
   "metadata": {},
   "outputs": [],
   "source": [
    "dict_with_column_for_datetime_and_name_of_df = {\n",
    "    \"call_date\": calls,\n",
    "    \"session_date\": internet,\n",
    "    \"message_date\": messages,\n",
    "    \"reg_date\": users,\n",
    "    \"churn_date\": users\n",
    "    }\n",
    "\n",
    "for k, v in dict_with_column_for_datetime_and_name_of_df.items():\n",
    "    v[k] = pd.to_datetime(v[k], format='%Y-%m-%d')\n",
    "    v['month'] = pd.to_datetime(v[k], format='%Y-%m-%d').dt.month"
   ]
  },
  {
   "cell_type": "markdown",
   "metadata": {},
   "source": [
    "### <u>Посчитаем для каждого пользователя по месяцам:</u>"
   ]
  },
  {
   "cell_type": "markdown",
   "metadata": {},
   "source": [
    "### Количество сделанных звонков и израсходованных минут разговора. Так же будем учитывать, что \"Мегалайн\" всегда округляет секунды до минут. Звонки, длительность которых равна 0, буду считаться пропущенными, а значит учтивыить их в подсчете не буду."
   ]
  },
  {
   "cell_type": "code",
   "execution_count": 16,
   "metadata": {},
   "outputs": [],
   "source": [
    "calls['ceil_duration'] = np.ceil(calls['duration'])"
   ]
  },
  {
   "cell_type": "code",
   "execution_count": 17,
   "metadata": {},
   "outputs": [],
   "source": [
    "full_df = calls.query('duration != 0').pivot_table(index=[\"user_id\", \"month\"], values=['call_date','ceil_duration'], aggfunc={'call_date': 'count', 'ceil_duration': 'sum'}).reset_index().rename(columns={'call_date': 'calls_count', 'ceil_duration': 'duration_calls'})"
   ]
  },
  {
   "cell_type": "code",
   "execution_count": 18,
   "metadata": {
    "scrolled": true
   },
   "outputs": [
    {
     "data": {
      "text/html": [
       "<div>\n",
       "<style scoped>\n",
       "    .dataframe tbody tr th:only-of-type {\n",
       "        vertical-align: middle;\n",
       "    }\n",
       "\n",
       "    .dataframe tbody tr th {\n",
       "        vertical-align: top;\n",
       "    }\n",
       "\n",
       "    .dataframe thead th {\n",
       "        text-align: right;\n",
       "    }\n",
       "</style>\n",
       "<table border=\"1\" class=\"dataframe\">\n",
       "  <thead>\n",
       "    <tr style=\"text-align: right;\">\n",
       "      <th></th>\n",
       "      <th>user_id</th>\n",
       "      <th>month</th>\n",
       "      <th>calls_count</th>\n",
       "      <th>duration_calls</th>\n",
       "    </tr>\n",
       "  </thead>\n",
       "  <tbody>\n",
       "    <tr>\n",
       "      <td>0</td>\n",
       "      <td>1000</td>\n",
       "      <td>5</td>\n",
       "      <td>17</td>\n",
       "      <td>159.0</td>\n",
       "    </tr>\n",
       "    <tr>\n",
       "      <td>1</td>\n",
       "      <td>1000</td>\n",
       "      <td>6</td>\n",
       "      <td>28</td>\n",
       "      <td>172.0</td>\n",
       "    </tr>\n",
       "    <tr>\n",
       "      <td>2</td>\n",
       "      <td>1000</td>\n",
       "      <td>7</td>\n",
       "      <td>41</td>\n",
       "      <td>340.0</td>\n",
       "    </tr>\n",
       "    <tr>\n",
       "      <td>3</td>\n",
       "      <td>1000</td>\n",
       "      <td>8</td>\n",
       "      <td>42</td>\n",
       "      <td>408.0</td>\n",
       "    </tr>\n",
       "    <tr>\n",
       "      <td>4</td>\n",
       "      <td>1000</td>\n",
       "      <td>9</td>\n",
       "      <td>46</td>\n",
       "      <td>466.0</td>\n",
       "    </tr>\n",
       "  </tbody>\n",
       "</table>\n",
       "</div>"
      ],
      "text/plain": [
       "   user_id  month  calls_count  duration_calls\n",
       "0     1000      5           17           159.0\n",
       "1     1000      6           28           172.0\n",
       "2     1000      7           41           340.0\n",
       "3     1000      8           42           408.0\n",
       "4     1000      9           46           466.0"
      ]
     },
     "execution_count": 18,
     "metadata": {},
     "output_type": "execute_result"
    }
   ],
   "source": [
    "full_df.head()"
   ]
  },
  {
   "cell_type": "markdown",
   "metadata": {},
   "source": [
    "### Количество отправленных сообщений по месяцам."
   ]
  },
  {
   "cell_type": "code",
   "execution_count": 19,
   "metadata": {},
   "outputs": [],
   "source": [
    "full_df = full_df.merge(messages.pivot_table(index=['user_id','month'], values='message_date', aggfunc='count'), on=['user_id','month'], how='outer').rename(columns={'message_date': 'sms_count'})"
   ]
  },
  {
   "cell_type": "code",
   "execution_count": 20,
   "metadata": {
    "scrolled": true
   },
   "outputs": [
    {
     "data": {
      "text/html": [
       "<div>\n",
       "<style scoped>\n",
       "    .dataframe tbody tr th:only-of-type {\n",
       "        vertical-align: middle;\n",
       "    }\n",
       "\n",
       "    .dataframe tbody tr th {\n",
       "        vertical-align: top;\n",
       "    }\n",
       "\n",
       "    .dataframe thead th {\n",
       "        text-align: right;\n",
       "    }\n",
       "</style>\n",
       "<table border=\"1\" class=\"dataframe\">\n",
       "  <thead>\n",
       "    <tr style=\"text-align: right;\">\n",
       "      <th></th>\n",
       "      <th>user_id</th>\n",
       "      <th>month</th>\n",
       "      <th>calls_count</th>\n",
       "      <th>duration_calls</th>\n",
       "      <th>sms_count</th>\n",
       "    </tr>\n",
       "  </thead>\n",
       "  <tbody>\n",
       "    <tr>\n",
       "      <td>0</td>\n",
       "      <td>1000</td>\n",
       "      <td>5</td>\n",
       "      <td>17.0</td>\n",
       "      <td>159.0</td>\n",
       "      <td>22.0</td>\n",
       "    </tr>\n",
       "    <tr>\n",
       "      <td>1</td>\n",
       "      <td>1000</td>\n",
       "      <td>6</td>\n",
       "      <td>28.0</td>\n",
       "      <td>172.0</td>\n",
       "      <td>60.0</td>\n",
       "    </tr>\n",
       "    <tr>\n",
       "      <td>2</td>\n",
       "      <td>1000</td>\n",
       "      <td>7</td>\n",
       "      <td>41.0</td>\n",
       "      <td>340.0</td>\n",
       "      <td>75.0</td>\n",
       "    </tr>\n",
       "    <tr>\n",
       "      <td>3</td>\n",
       "      <td>1000</td>\n",
       "      <td>8</td>\n",
       "      <td>42.0</td>\n",
       "      <td>408.0</td>\n",
       "      <td>81.0</td>\n",
       "    </tr>\n",
       "    <tr>\n",
       "      <td>4</td>\n",
       "      <td>1000</td>\n",
       "      <td>9</td>\n",
       "      <td>46.0</td>\n",
       "      <td>466.0</td>\n",
       "      <td>57.0</td>\n",
       "    </tr>\n",
       "  </tbody>\n",
       "</table>\n",
       "</div>"
      ],
      "text/plain": [
       "   user_id  month  calls_count  duration_calls  sms_count\n",
       "0     1000      5         17.0           159.0       22.0\n",
       "1     1000      6         28.0           172.0       60.0\n",
       "2     1000      7         41.0           340.0       75.0\n",
       "3     1000      8         42.0           408.0       81.0\n",
       "4     1000      9         46.0           466.0       57.0"
      ]
     },
     "execution_count": 20,
     "metadata": {},
     "output_type": "execute_result"
    }
   ],
   "source": [
    "full_df.head()"
   ]
  },
  {
   "cell_type": "markdown",
   "metadata": {},
   "source": [
    "### Объем израсходованного интернет-трафика, учитывая, что отдельные сессии не считаются. Вместо этого общая сумма за месяц округляется в бо́льшую сторону.(мегабайты до гигабайт)"
   ]
  },
  {
   "cell_type": "code",
   "execution_count": 21,
   "metadata": {},
   "outputs": [],
   "source": [
    "full_df = full_df.merge(internet.pivot_table(index=['user_id','month'], values='mb_used', aggfunc='sum'), on=['user_id','month'], how='outer')"
   ]
  },
  {
   "cell_type": "code",
   "execution_count": 22,
   "metadata": {
    "scrolled": true
   },
   "outputs": [
    {
     "data": {
      "text/html": [
       "<div>\n",
       "<style scoped>\n",
       "    .dataframe tbody tr th:only-of-type {\n",
       "        vertical-align: middle;\n",
       "    }\n",
       "\n",
       "    .dataframe tbody tr th {\n",
       "        vertical-align: top;\n",
       "    }\n",
       "\n",
       "    .dataframe thead th {\n",
       "        text-align: right;\n",
       "    }\n",
       "</style>\n",
       "<table border=\"1\" class=\"dataframe\">\n",
       "  <thead>\n",
       "    <tr style=\"text-align: right;\">\n",
       "      <th></th>\n",
       "      <th>user_id</th>\n",
       "      <th>month</th>\n",
       "      <th>calls_count</th>\n",
       "      <th>duration_calls</th>\n",
       "      <th>sms_count</th>\n",
       "      <th>mb_used</th>\n",
       "    </tr>\n",
       "  </thead>\n",
       "  <tbody>\n",
       "    <tr>\n",
       "      <td>0</td>\n",
       "      <td>1000</td>\n",
       "      <td>5</td>\n",
       "      <td>17.0</td>\n",
       "      <td>159.0</td>\n",
       "      <td>22.0</td>\n",
       "      <td>2253.49</td>\n",
       "    </tr>\n",
       "    <tr>\n",
       "      <td>1</td>\n",
       "      <td>1000</td>\n",
       "      <td>6</td>\n",
       "      <td>28.0</td>\n",
       "      <td>172.0</td>\n",
       "      <td>60.0</td>\n",
       "      <td>23233.77</td>\n",
       "    </tr>\n",
       "    <tr>\n",
       "      <td>2</td>\n",
       "      <td>1000</td>\n",
       "      <td>7</td>\n",
       "      <td>41.0</td>\n",
       "      <td>340.0</td>\n",
       "      <td>75.0</td>\n",
       "      <td>14003.64</td>\n",
       "    </tr>\n",
       "    <tr>\n",
       "      <td>3</td>\n",
       "      <td>1000</td>\n",
       "      <td>8</td>\n",
       "      <td>42.0</td>\n",
       "      <td>408.0</td>\n",
       "      <td>81.0</td>\n",
       "      <td>14055.93</td>\n",
       "    </tr>\n",
       "    <tr>\n",
       "      <td>4</td>\n",
       "      <td>1000</td>\n",
       "      <td>9</td>\n",
       "      <td>46.0</td>\n",
       "      <td>466.0</td>\n",
       "      <td>57.0</td>\n",
       "      <td>14568.91</td>\n",
       "    </tr>\n",
       "  </tbody>\n",
       "</table>\n",
       "</div>"
      ],
      "text/plain": [
       "   user_id  month  calls_count  duration_calls  sms_count   mb_used\n",
       "0     1000      5         17.0           159.0       22.0   2253.49\n",
       "1     1000      6         28.0           172.0       60.0  23233.77\n",
       "2     1000      7         41.0           340.0       75.0  14003.64\n",
       "3     1000      8         42.0           408.0       81.0  14055.93\n",
       "4     1000      9         46.0           466.0       57.0  14568.91"
      ]
     },
     "execution_count": 22,
     "metadata": {},
     "output_type": "execute_result"
    }
   ],
   "source": [
    "full_df.head()"
   ]
  },
  {
   "cell_type": "code",
   "execution_count": 23,
   "metadata": {},
   "outputs": [
    {
     "name": "stderr",
     "output_type": "stream",
     "text": [
      "/opt/conda/lib/python3.7/site-packages/ipykernel_launcher.py:3: RuntimeWarning: invalid value encountered in double_scalars\n",
      "  This is separate from the ipykernel package so we can avoid doing imports until\n"
     ]
    }
   ],
   "source": [
    "def round_up_to_gb(row):\n",
    "    val = row['mb_used']\n",
    "    val -= val % -(2**10)\n",
    "    val = val / 1024\n",
    "    return val\n",
    "\n",
    "full_df['gb_used'] = full_df.apply(round_up_to_gb, axis=1)"
   ]
  },
  {
   "cell_type": "code",
   "execution_count": 24,
   "metadata": {},
   "outputs": [
    {
     "data": {
      "text/html": [
       "<div>\n",
       "<style scoped>\n",
       "    .dataframe tbody tr th:only-of-type {\n",
       "        vertical-align: middle;\n",
       "    }\n",
       "\n",
       "    .dataframe tbody tr th {\n",
       "        vertical-align: top;\n",
       "    }\n",
       "\n",
       "    .dataframe thead th {\n",
       "        text-align: right;\n",
       "    }\n",
       "</style>\n",
       "<table border=\"1\" class=\"dataframe\">\n",
       "  <thead>\n",
       "    <tr style=\"text-align: right;\">\n",
       "      <th></th>\n",
       "      <th>user_id</th>\n",
       "      <th>month</th>\n",
       "      <th>calls_count</th>\n",
       "      <th>duration_calls</th>\n",
       "      <th>sms_count</th>\n",
       "      <th>mb_used</th>\n",
       "      <th>gb_used</th>\n",
       "    </tr>\n",
       "  </thead>\n",
       "  <tbody>\n",
       "    <tr>\n",
       "      <td>0</td>\n",
       "      <td>1000</td>\n",
       "      <td>5</td>\n",
       "      <td>17.0</td>\n",
       "      <td>159.0</td>\n",
       "      <td>22.0</td>\n",
       "      <td>2253.49</td>\n",
       "      <td>3.0</td>\n",
       "    </tr>\n",
       "    <tr>\n",
       "      <td>1</td>\n",
       "      <td>1000</td>\n",
       "      <td>6</td>\n",
       "      <td>28.0</td>\n",
       "      <td>172.0</td>\n",
       "      <td>60.0</td>\n",
       "      <td>23233.77</td>\n",
       "      <td>23.0</td>\n",
       "    </tr>\n",
       "    <tr>\n",
       "      <td>2</td>\n",
       "      <td>1000</td>\n",
       "      <td>7</td>\n",
       "      <td>41.0</td>\n",
       "      <td>340.0</td>\n",
       "      <td>75.0</td>\n",
       "      <td>14003.64</td>\n",
       "      <td>14.0</td>\n",
       "    </tr>\n",
       "    <tr>\n",
       "      <td>3</td>\n",
       "      <td>1000</td>\n",
       "      <td>8</td>\n",
       "      <td>42.0</td>\n",
       "      <td>408.0</td>\n",
       "      <td>81.0</td>\n",
       "      <td>14055.93</td>\n",
       "      <td>14.0</td>\n",
       "    </tr>\n",
       "    <tr>\n",
       "      <td>4</td>\n",
       "      <td>1000</td>\n",
       "      <td>9</td>\n",
       "      <td>46.0</td>\n",
       "      <td>466.0</td>\n",
       "      <td>57.0</td>\n",
       "      <td>14568.91</td>\n",
       "      <td>15.0</td>\n",
       "    </tr>\n",
       "  </tbody>\n",
       "</table>\n",
       "</div>"
      ],
      "text/plain": [
       "   user_id  month  calls_count  duration_calls  sms_count   mb_used  gb_used\n",
       "0     1000      5         17.0           159.0       22.0   2253.49      3.0\n",
       "1     1000      6         28.0           172.0       60.0  23233.77     23.0\n",
       "2     1000      7         41.0           340.0       75.0  14003.64     14.0\n",
       "3     1000      8         42.0           408.0       81.0  14055.93     14.0\n",
       "4     1000      9         46.0           466.0       57.0  14568.91     15.0"
      ]
     },
     "execution_count": 24,
     "metadata": {},
     "output_type": "execute_result"
    }
   ],
   "source": [
    "full_df.head()"
   ]
  },
  {
   "cell_type": "markdown",
   "metadata": {},
   "source": [
    "**Добавим информацию по тарифам для каждого пользователя.**"
   ]
  },
  {
   "cell_type": "code",
   "execution_count": 25,
   "metadata": {},
   "outputs": [],
   "source": [
    "full_df = full_df.merge(users[['user_id', 'tariff', 'city']], on=['user_id'], how='outer')"
   ]
  },
  {
   "cell_type": "code",
   "execution_count": 26,
   "metadata": {},
   "outputs": [
    {
     "data": {
      "text/html": [
       "<div>\n",
       "<style scoped>\n",
       "    .dataframe tbody tr th:only-of-type {\n",
       "        vertical-align: middle;\n",
       "    }\n",
       "\n",
       "    .dataframe tbody tr th {\n",
       "        vertical-align: top;\n",
       "    }\n",
       "\n",
       "    .dataframe thead th {\n",
       "        text-align: right;\n",
       "    }\n",
       "</style>\n",
       "<table border=\"1\" class=\"dataframe\">\n",
       "  <thead>\n",
       "    <tr style=\"text-align: right;\">\n",
       "      <th></th>\n",
       "      <th>user_id</th>\n",
       "      <th>month</th>\n",
       "      <th>calls_count</th>\n",
       "      <th>duration_calls</th>\n",
       "      <th>sms_count</th>\n",
       "      <th>mb_used</th>\n",
       "      <th>gb_used</th>\n",
       "      <th>tariff</th>\n",
       "      <th>city</th>\n",
       "    </tr>\n",
       "  </thead>\n",
       "  <tbody>\n",
       "    <tr>\n",
       "      <td>0</td>\n",
       "      <td>1000</td>\n",
       "      <td>5.0</td>\n",
       "      <td>17.0</td>\n",
       "      <td>159.0</td>\n",
       "      <td>22.0</td>\n",
       "      <td>2253.49</td>\n",
       "      <td>3.0</td>\n",
       "      <td>ultra</td>\n",
       "      <td>Краснодар</td>\n",
       "    </tr>\n",
       "    <tr>\n",
       "      <td>1</td>\n",
       "      <td>1000</td>\n",
       "      <td>6.0</td>\n",
       "      <td>28.0</td>\n",
       "      <td>172.0</td>\n",
       "      <td>60.0</td>\n",
       "      <td>23233.77</td>\n",
       "      <td>23.0</td>\n",
       "      <td>ultra</td>\n",
       "      <td>Краснодар</td>\n",
       "    </tr>\n",
       "    <tr>\n",
       "      <td>2</td>\n",
       "      <td>1000</td>\n",
       "      <td>7.0</td>\n",
       "      <td>41.0</td>\n",
       "      <td>340.0</td>\n",
       "      <td>75.0</td>\n",
       "      <td>14003.64</td>\n",
       "      <td>14.0</td>\n",
       "      <td>ultra</td>\n",
       "      <td>Краснодар</td>\n",
       "    </tr>\n",
       "    <tr>\n",
       "      <td>3</td>\n",
       "      <td>1000</td>\n",
       "      <td>8.0</td>\n",
       "      <td>42.0</td>\n",
       "      <td>408.0</td>\n",
       "      <td>81.0</td>\n",
       "      <td>14055.93</td>\n",
       "      <td>14.0</td>\n",
       "      <td>ultra</td>\n",
       "      <td>Краснодар</td>\n",
       "    </tr>\n",
       "    <tr>\n",
       "      <td>4</td>\n",
       "      <td>1000</td>\n",
       "      <td>9.0</td>\n",
       "      <td>46.0</td>\n",
       "      <td>466.0</td>\n",
       "      <td>57.0</td>\n",
       "      <td>14568.91</td>\n",
       "      <td>15.0</td>\n",
       "      <td>ultra</td>\n",
       "      <td>Краснодар</td>\n",
       "    </tr>\n",
       "  </tbody>\n",
       "</table>\n",
       "</div>"
      ],
      "text/plain": [
       "   user_id  month  calls_count  duration_calls  sms_count   mb_used  gb_used  \\\n",
       "0     1000    5.0         17.0           159.0       22.0   2253.49      3.0   \n",
       "1     1000    6.0         28.0           172.0       60.0  23233.77     23.0   \n",
       "2     1000    7.0         41.0           340.0       75.0  14003.64     14.0   \n",
       "3     1000    8.0         42.0           408.0       81.0  14055.93     14.0   \n",
       "4     1000    9.0         46.0           466.0       57.0  14568.91     15.0   \n",
       "\n",
       "  tariff       city  \n",
       "0  ultra  Краснодар  \n",
       "1  ultra  Краснодар  \n",
       "2  ultra  Краснодар  \n",
       "3  ultra  Краснодар  \n",
       "4  ultra  Краснодар  "
      ]
     },
     "execution_count": 26,
     "metadata": {},
     "output_type": "execute_result"
    }
   ],
   "source": [
    "full_df.head()"
   ]
  },
  {
   "cell_type": "markdown",
   "metadata": {},
   "source": [
    "### А теперь помесячную выручку с каждого пользователя. Для этого вычтем бесплатный лимит из суммарного количества звонков, сообщений и интернет-трафика; остаток умножим на значение из тарифного плана; прибавим абонентскую плату, соответствующую тарифному плану."
   ]
  },
  {
   "cell_type": "code",
   "execution_count": 27,
   "metadata": {},
   "outputs": [
    {
     "name": "stdout",
     "output_type": "stream",
     "text": [
      "<class 'pandas.core.frame.DataFrame'>\n",
      "Int64Index: 3216 entries, 0 to 3215\n",
      "Data columns (total 9 columns):\n",
      "user_id           3216 non-null int64\n",
      "month             3214 non-null float64\n",
      "calls_count       3168 non-null float64\n",
      "duration_calls    3168 non-null float64\n",
      "sms_count         2717 non-null float64\n",
      "mb_used           3203 non-null float64\n",
      "gb_used           3203 non-null float64\n",
      "tariff            3216 non-null object\n",
      "city              3216 non-null object\n",
      "dtypes: float64(6), int64(1), object(2)\n",
      "memory usage: 251.2+ KB\n"
     ]
    }
   ],
   "source": [
    "full_df.info()"
   ]
  },
  {
   "cell_type": "markdown",
   "metadata": {},
   "source": [
    "**Пропуски образовавшиеся при слиянии, означают, что услагами не пользовались. Заполню такие пропуски нулями.**"
   ]
  },
  {
   "cell_type": "code",
   "execution_count": 28,
   "metadata": {
    "scrolled": false
   },
   "outputs": [
    {
     "name": "stdout",
     "output_type": "stream",
     "text": [
      "<class 'pandas.core.frame.DataFrame'>\n",
      "Int64Index: 3216 entries, 0 to 3215\n",
      "Data columns (total 9 columns):\n",
      "user_id           3216 non-null int64\n",
      "month             3216 non-null float64\n",
      "calls_count       3216 non-null float64\n",
      "duration_calls    3216 non-null float64\n",
      "sms_count         3216 non-null float64\n",
      "mb_used           3216 non-null float64\n",
      "gb_used           3216 non-null float64\n",
      "tariff            3216 non-null object\n",
      "city              3216 non-null object\n",
      "dtypes: float64(6), int64(1), object(2)\n",
      "memory usage: 251.2+ KB\n"
     ]
    }
   ],
   "source": [
    "full_df = full_df.fillna(0)\n",
    "full_df.info()"
   ]
  },
  {
   "cell_type": "code",
   "execution_count": 29,
   "metadata": {},
   "outputs": [],
   "source": [
    "dct_tariff = tariffs.set_index('tariff_name').to_dict()\n",
    "\n",
    "def get_total_revenu(row):\n",
    "    total_revenue = 0\n",
    "    tariff_name = row['tariff']\n",
    "    monthly_flee = dct_tariff['rub_monthly_fee'][tariff_name]\n",
    "    minutes = ((row['duration_calls'] - dct_tariff['minutes_included'][tariff_name])) * dct_tariff['rub_per_minute'][tariff_name]\n",
    "    sms = (row['sms_count'] - dct_tariff['messages_included'][tariff_name]) * dct_tariff['rub_per_message'][tariff_name]\n",
    "    gb = (row['gb_used'] - dct_tariff['mb_per_month_included'][tariff_name] / 1024) * dct_tariff['rub_per_gb'][tariff_name]\n",
    "    for service in [minutes, sms, gb]:\n",
    "        if service > 0:\n",
    "            total_revenue += service\n",
    "    total_revenue +=  monthly_flee\n",
    "    return total_revenue\n",
    "\n",
    "full_df['total_revenue'] = full_df.apply(get_total_revenu, axis=1)\n",
    "    "
   ]
  },
  {
   "cell_type": "code",
   "execution_count": 30,
   "metadata": {},
   "outputs": [
    {
     "data": {
      "text/html": [
       "<div>\n",
       "<style scoped>\n",
       "    .dataframe tbody tr th:only-of-type {\n",
       "        vertical-align: middle;\n",
       "    }\n",
       "\n",
       "    .dataframe tbody tr th {\n",
       "        vertical-align: top;\n",
       "    }\n",
       "\n",
       "    .dataframe thead th {\n",
       "        text-align: right;\n",
       "    }\n",
       "</style>\n",
       "<table border=\"1\" class=\"dataframe\">\n",
       "  <thead>\n",
       "    <tr style=\"text-align: right;\">\n",
       "      <th></th>\n",
       "      <th>user_id</th>\n",
       "      <th>month</th>\n",
       "      <th>calls_count</th>\n",
       "      <th>duration_calls</th>\n",
       "      <th>sms_count</th>\n",
       "      <th>mb_used</th>\n",
       "      <th>gb_used</th>\n",
       "      <th>tariff</th>\n",
       "      <th>city</th>\n",
       "      <th>total_revenue</th>\n",
       "    </tr>\n",
       "  </thead>\n",
       "  <tbody>\n",
       "    <tr>\n",
       "      <td>0</td>\n",
       "      <td>1000</td>\n",
       "      <td>5.0</td>\n",
       "      <td>17.0</td>\n",
       "      <td>159.0</td>\n",
       "      <td>22.0</td>\n",
       "      <td>2253.49</td>\n",
       "      <td>3.0</td>\n",
       "      <td>ultra</td>\n",
       "      <td>Краснодар</td>\n",
       "      <td>1950.0</td>\n",
       "    </tr>\n",
       "    <tr>\n",
       "      <td>1</td>\n",
       "      <td>1000</td>\n",
       "      <td>6.0</td>\n",
       "      <td>28.0</td>\n",
       "      <td>172.0</td>\n",
       "      <td>60.0</td>\n",
       "      <td>23233.77</td>\n",
       "      <td>23.0</td>\n",
       "      <td>ultra</td>\n",
       "      <td>Краснодар</td>\n",
       "      <td>1950.0</td>\n",
       "    </tr>\n",
       "    <tr>\n",
       "      <td>2</td>\n",
       "      <td>1000</td>\n",
       "      <td>7.0</td>\n",
       "      <td>41.0</td>\n",
       "      <td>340.0</td>\n",
       "      <td>75.0</td>\n",
       "      <td>14003.64</td>\n",
       "      <td>14.0</td>\n",
       "      <td>ultra</td>\n",
       "      <td>Краснодар</td>\n",
       "      <td>1950.0</td>\n",
       "    </tr>\n",
       "    <tr>\n",
       "      <td>3</td>\n",
       "      <td>1000</td>\n",
       "      <td>8.0</td>\n",
       "      <td>42.0</td>\n",
       "      <td>408.0</td>\n",
       "      <td>81.0</td>\n",
       "      <td>14055.93</td>\n",
       "      <td>14.0</td>\n",
       "      <td>ultra</td>\n",
       "      <td>Краснодар</td>\n",
       "      <td>1950.0</td>\n",
       "    </tr>\n",
       "    <tr>\n",
       "      <td>4</td>\n",
       "      <td>1000</td>\n",
       "      <td>9.0</td>\n",
       "      <td>46.0</td>\n",
       "      <td>466.0</td>\n",
       "      <td>57.0</td>\n",
       "      <td>14568.91</td>\n",
       "      <td>15.0</td>\n",
       "      <td>ultra</td>\n",
       "      <td>Краснодар</td>\n",
       "      <td>1950.0</td>\n",
       "    </tr>\n",
       "  </tbody>\n",
       "</table>\n",
       "</div>"
      ],
      "text/plain": [
       "   user_id  month  calls_count  duration_calls  sms_count   mb_used  gb_used  \\\n",
       "0     1000    5.0         17.0           159.0       22.0   2253.49      3.0   \n",
       "1     1000    6.0         28.0           172.0       60.0  23233.77     23.0   \n",
       "2     1000    7.0         41.0           340.0       75.0  14003.64     14.0   \n",
       "3     1000    8.0         42.0           408.0       81.0  14055.93     14.0   \n",
       "4     1000    9.0         46.0           466.0       57.0  14568.91     15.0   \n",
       "\n",
       "  tariff       city  total_revenue  \n",
       "0  ultra  Краснодар         1950.0  \n",
       "1  ultra  Краснодар         1950.0  \n",
       "2  ultra  Краснодар         1950.0  \n",
       "3  ultra  Краснодар         1950.0  \n",
       "4  ultra  Краснодар         1950.0  "
      ]
     },
     "execution_count": 30,
     "metadata": {},
     "output_type": "execute_result"
    }
   ],
   "source": [
    "full_df.head()"
   ]
  },
  {
   "cell_type": "markdown",
   "metadata": {},
   "source": [
    "**Приведем к целочисленному типу колонки, значения которых равны целому числу.**"
   ]
  },
  {
   "cell_type": "code",
   "execution_count": 31,
   "metadata": {},
   "outputs": [],
   "source": [
    "l_with_columns = ['user_id', 'month', 'calls_count', 'duration_calls', 'sms_count', 'gb_used', 'total_revenue']\n",
    "\n",
    "for column in l_with_columns:\n",
    "    full_df[column] = full_df[column].astype('int')"
   ]
  },
  {
   "cell_type": "markdown",
   "metadata": {},
   "source": [
    "### Вывод"
   ]
  },
  {
   "cell_type": "markdown",
   "metadata": {},
   "source": [
    "**Произведены рассчеты для каждого пользователя по месяцам количества сообщений, звонков, длительности телефонного разговора, размера интеренет трафика. Так же было произведено преобразование итогового размера трафика из мегабайт в гигабайты, так как цена в тарифе указывается за гигабайт. В том числе оругление размера итоговой сессии за месяц.**\n"
   ]
  },
  {
   "cell_type": "markdown",
   "metadata": {},
   "source": [
    "## Шаг 3. Анализ данных."
   ]
  },
  {
   "cell_type": "markdown",
   "metadata": {},
   "source": [
    "### Изучим длительность телефонных разговоров пользователей для обоих тарифов."
   ]
  },
  {
   "cell_type": "code",
   "execution_count": 32,
   "metadata": {},
   "outputs": [
    {
     "data": {
      "text/plain": [
       "count    2230.000000\n",
       "mean      417.747534\n",
       "std       190.476754\n",
       "min         0.000000\n",
       "25%       282.000000\n",
       "50%       421.500000\n",
       "75%       545.000000\n",
       "max      1435.000000\n",
       "Name: duration_calls, dtype: float64"
      ]
     },
     "execution_count": 32,
     "metadata": {},
     "output_type": "execute_result"
    }
   ],
   "source": [
    "df_smart = full_df.query('tariff == \"smart\"')\n",
    "df_smart['duration_calls'].describe()"
   ]
  },
  {
   "cell_type": "markdown",
   "metadata": {},
   "source": [
    "**И так, стандартное отклонение велико, а значит в выборке присутствуют выбросы/аномалии. Медина немного больше среднего, а значит датасет будет иметь небольшой скос влево(отрицательная скошенность).**"
   ]
  },
  {
   "cell_type": "code",
   "execution_count": 33,
   "metadata": {},
   "outputs": [
    {
     "data": {
      "text/plain": [
       "count     986.000000\n",
       "mean      526.089249\n",
       "std       317.887549\n",
       "min         0.000000\n",
       "25%       282.500000\n",
       "50%       518.000000\n",
       "75%       751.750000\n",
       "max      1673.000000\n",
       "Name: duration_calls, dtype: float64"
      ]
     },
     "execution_count": 33,
     "metadata": {},
     "output_type": "execute_result"
    }
   ],
   "source": [
    "df_ultra = full_df.query('tariff == \"ultra\"')\n",
    "df_ultra['duration_calls'].describe()"
   ]
  },
  {
   "cell_type": "markdown",
   "metadata": {},
   "source": [
    "**Медиана в тарифе \"Ультра\" немного меньше среднего, значит дата-сет будет иметь скошенность вправо(положительная скошенность).**"
   ]
  },
  {
   "cell_type": "markdown",
   "metadata": {},
   "source": [
    "**Рассчитаем среднее, дисперсию и стандартное отклонение для каждого тарифа.\n",
    "Далее построим гистограммы , в качестве метода будем использовать distplot() библиотеки seaborn. Seaborn содержит более адекватные дефолтные настройки оформления графиков.**"
   ]
  },
  {
   "cell_type": "code",
   "execution_count": 34,
   "metadata": {
    "scrolled": true
   },
   "outputs": [
    {
     "name": "stdout",
     "output_type": "stream",
     "text": [
      "Параметры \"Смарт\": Среднее - 417.747533632287, Дисперсия - 36281.39383644458, Стандартное отклонение - 190.4767540579285\n",
      "\n",
      "Параметры \"Ультра\": Среднее - 526.0892494929006, Дисперсия - 101052.49354928388, Стандартное отклонение - 317.8875485911392\n"
     ]
    }
   ],
   "source": [
    "smart_call_dev = np.std(df_smart['duration_calls'], ddof=1) # Тут и далее буду использовать параметр ddof=1, т.к. рассчитываем по выборке.\n",
    "smart_call_var = np.var(df_smart['duration_calls'], ddof=1)\n",
    "smart_call_mean = np.mean(df_smart['duration_calls'])\n",
    "\n",
    "ultra_call_dev = np.std(df_ultra['duration_calls'], ddof=1)\n",
    "ultra_call_var = np.var(df_ultra['duration_calls'], ddof=1)\n",
    "ultra_call_mean = np.mean(df_ultra['duration_calls'])\n",
    "\n",
    "print(f'Параметры \"Смарт\": Среднее - {smart_call_mean}, Дисперсия - {smart_call_var}, Стандартное отклонение - {smart_call_dev}')\n",
    "print()\n",
    "print(f'Параметры \"Ультра\": Среднее - {ultra_call_mean}, Дисперсия - {ultra_call_var}, Стандартное отклонение - {ultra_call_dev}')"
   ]
  },
  {
   "cell_type": "code",
   "execution_count": 35,
   "metadata": {},
   "outputs": [],
   "source": [
    "plt.rcParams[\"figure.figsize\"]=[20,5]"
   ]
  },
  {
   "cell_type": "code",
   "execution_count": 36,
   "metadata": {},
   "outputs": [
    {
     "data": {
      "image/png": "[encoded data removed]",
      "text/plain": [
       "<Figure size 1440x360 with 1 Axes>"
      ]
     },
     "metadata": {},
     "output_type": "display_data"
    }
   ],
   "source": [
    "sns.set_style('darkgrid')\n",
    "plt.title('Распределение минут для тарифов \"SMART\" и \"ULTRA\"', fontsize=20)\n",
    "sns.distplot(df_ultra['duration_calls'], label='ULTRA', kde=False)\n",
    "sns.distplot(df_smart['duration_calls'], label='SMART', kde=False)\n",
    "plt.axvline(np.mean(df_smart['duration_calls']),color='g', linestyle='-', label='SMART СРЕДНЕЕ')\n",
    "plt.axvline(np.mean(df_ultra['duration_calls']),color='g', linestyle='--', label='ULTRA СРЕДНЕЕ')\n",
    "plt.legend();"
   ]
  },
  {
   "cell_type": "markdown",
   "metadata": {},
   "source": [
    "**Пользователям тарифа \"Смарт\" в среднем в месяц требуеться окло 450 минут. График тарифа напоминает колокол, что характерно для нормального распределения. Количетсва базовых минут хватает не всем.**\n",
    "\n",
    "**Пользователи тарифа \"Ультра\" в среднем тратят в месяц  около 550 минут.  График напоминает нормальное распределение , но присутствует большой разброс данных. Базового запаса минут хватает всем.**"
   ]
  },
  {
   "cell_type": "markdown",
   "metadata": {},
   "source": [
    "### Изучим количество отправленных сообщений для пользователей обоих тарифов."
   ]
  },
  {
   "cell_type": "code",
   "execution_count": 37,
   "metadata": {
    "scrolled": true
   },
   "outputs": [
    {
     "data": {
      "text/plain": [
       "count    2230.000000\n",
       "mean       33.369058\n",
       "std        28.230396\n",
       "min         0.000000\n",
       "25%        10.000000\n",
       "50%        28.000000\n",
       "75%        51.000000\n",
       "max       143.000000\n",
       "Name: sms_count, dtype: float64"
      ]
     },
     "execution_count": 37,
     "metadata": {},
     "output_type": "execute_result"
    }
   ],
   "source": [
    "df_smart['sms_count'].describe()"
   ]
  },
  {
   "cell_type": "markdown",
   "metadata": {},
   "source": [
    "**Среднее больше медианы, датасет будет иметь положительную скошенность.**"
   ]
  },
  {
   "cell_type": "code",
   "execution_count": 38,
   "metadata": {
    "scrolled": true
   },
   "outputs": [
    {
     "data": {
      "text/plain": [
       "count    986.000000\n",
       "mean      49.313387\n",
       "std       47.806040\n",
       "min        0.000000\n",
       "25%        6.000000\n",
       "50%       38.000000\n",
       "75%       78.750000\n",
       "max      224.000000\n",
       "Name: sms_count, dtype: float64"
      ]
     },
     "execution_count": 38,
     "metadata": {},
     "output_type": "execute_result"
    }
   ],
   "source": [
    "df_ultra['sms_count'].describe()"
   ]
  },
  {
   "cell_type": "markdown",
   "metadata": {},
   "source": [
    "**Снова медиана меньше среднего, данный датасет тоже будет иметь скошенность вправо.**"
   ]
  },
  {
   "cell_type": "code",
   "execution_count": 39,
   "metadata": {
    "scrolled": true
   },
   "outputs": [
    {
     "name": "stdout",
     "output_type": "stream",
     "text": [
      "Параметры \"Смарт\": Среднее - 33.36905829596412, Дисперсия - 796.9552557301129, Стандартное отклонение - 28.230395954185852\n",
      "\n",
      "Параметры \"Ультра\": Среднее - 49.31338742393509, Дисперсия - 2285.4174246558414, Стандартное отклонение - 47.80603962530092\n"
     ]
    }
   ],
   "source": [
    "smart_sms_dev = np.std(df_smart['sms_count'], ddof=1)\n",
    "smart_sms_var = np.var(df_smart['sms_count'], ddof=1)\n",
    "smart_sms_mean = np.mean(df_smart['sms_count'])\n",
    "\n",
    "ultra_sms_dev = np.std(df_ultra['sms_count'], ddof=1)\n",
    "ultra_sms_var = np.var(df_ultra['sms_count'], ddof=1)\n",
    "ultra_sms_mean = np.mean(df_ultra['sms_count'])\n",
    "\n",
    "print(f'Параметры \"Смарт\": Среднее - {smart_sms_mean}, Дисперсия - {smart_sms_var}, Стандартное отклонение - {smart_sms_dev}')\n",
    "print()\n",
    "print(f'Параметры \"Ультра\": Среднее - {ultra_sms_mean}, Дисперсия - {ultra_sms_var}, Стандартное отклонение - {ultra_sms_dev}')"
   ]
  },
  {
   "cell_type": "code",
   "execution_count": 40,
   "metadata": {},
   "outputs": [
    {
     "data": {
      "image/png": "[encoded data removed]",
      "text/plain": [
       "<Figure size 1440x360 with 1 Axes>"
      ]
     },
     "metadata": {},
     "output_type": "display_data"
    }
   ],
   "source": [
    "sns.set_style('darkgrid')\n",
    "plt.title('Распределение количества сообщений для тарифов \"SMART\" и \"ULTRA\"', fontsize=20)\n",
    "sns.distplot(df_ultra['sms_count'], label='ULTRA', kde=False)\n",
    "sns.distplot(df_smart['sms_count'], label='SMART', kde=False)\n",
    "plt.axvline(np.mean(df_smart['sms_count']),color='g', linestyle='-', label='SMART СРЕДНЕЕ')\n",
    "plt.axvline(np.mean(df_ultra['sms_count']),color='g', linestyle='--', label='ULTRA СРЕДНЕЕ')\n",
    "plt.legend();"
   ]
  },
  {
   "cell_type": "markdown",
   "metadata": {},
   "source": [
    "**Для обоих тарифов характерно использование не большого количестова смс. Оба графика идут на убыль, пиковые значения: 30 для \"Смарт\" и 50 для \"Ультра\". Можно сделать вывод, что данная услуга не пользуется популярностью. Так же есть пики в диапазоне от 0 до 15 , похоже эта группа пользователей практически совсем не пользуется услугой.**"
   ]
  },
  {
   "cell_type": "markdown",
   "metadata": {},
   "source": [
    "### А теперь рассмотрим объем потраченного пользователями интернет-трафика в каждом тарифе."
   ]
  },
  {
   "cell_type": "code",
   "execution_count": 41,
   "metadata": {},
   "outputs": [
    {
     "data": {
      "text/plain": [
       "count    2230.000000\n",
       "mean       16.321525\n",
       "std         5.756167\n",
       "min         0.000000\n",
       "25%        13.000000\n",
       "50%        17.000000\n",
       "75%        20.000000\n",
       "max        38.000000\n",
       "Name: gb_used, dtype: float64"
      ]
     },
     "execution_count": 41,
     "metadata": {},
     "output_type": "execute_result"
    }
   ],
   "source": [
    "df_smart['gb_used'].describe()"
   ]
  },
  {
   "cell_type": "markdown",
   "metadata": {},
   "source": [
    "**Все квантили находятся примерно рядом со средним, поэтому стандартное отклонение не велико.**"
   ]
  },
  {
   "cell_type": "code",
   "execution_count": 42,
   "metadata": {},
   "outputs": [
    {
     "data": {
      "text/plain": [
       "count    986.000000\n",
       "mean      19.474645\n",
       "std        9.868057\n",
       "min        0.000000\n",
       "25%       12.000000\n",
       "50%       19.000000\n",
       "75%       27.000000\n",
       "max       49.000000\n",
       "Name: gb_used, dtype: float64"
      ]
     },
     "execution_count": 42,
     "metadata": {},
     "output_type": "execute_result"
    }
   ],
   "source": [
    "df_ultra['gb_used'].describe()"
   ]
  },
  {
   "cell_type": "markdown",
   "metadata": {},
   "source": [
    "**Медиана практически равна среднему, график будет стремится к нормальному распределению.**"
   ]
  },
  {
   "cell_type": "markdown",
   "metadata": {},
   "source": [
    "**Рассчитаем среднее, дисперсию и стандартное отклонение для каждого тарифа.\n",
    "Далее построим гистограммы , в качестве метода будем использовать distplot() библиотеки seaborn. Seaborn содержит более адекватные дефолтные настройки оформления графиков.**\""
   ]
  },
  {
   "cell_type": "code",
   "execution_count": 43,
   "metadata": {},
   "outputs": [
    {
     "name": "stdout",
     "output_type": "stream",
     "text": [
      "Параметры \"Смарт\": Среднее - 16.32152466367713, Дисперсия - 33.133453035506285, Стандартное отклонение - 5.7561665225657155\n",
      "\n",
      "Параметры \"Ультра\": Среднее - 19.474645030425965, Дисперсия - 97.37854429011234, Стандартное отклонение - 9.868056763624352\n"
     ]
    }
   ],
   "source": [
    "smart_gb_dev = np.std(df_smart['gb_used'], ddof=1)\n",
    "smart_gb_var = np.var(df_smart['gb_used'], ddof=1)\n",
    "smart_gb_mean = np.mean(df_smart['gb_used'])\n",
    "\n",
    "ultra_gb_dev = np.std(df_ultra['gb_used'], ddof=1)\n",
    "ultra_gb_var = np.var(df_ultra['gb_used'], ddof=1)\n",
    "ultra_gb_mean = np.mean(df_ultra['gb_used'])\n",
    "\n",
    "print(f'Параметры \"Смарт\": Среднее - {smart_gb_mean}, Дисперсия - {smart_gb_var}, Стандартное отклонение - {smart_gb_dev}')\n",
    "print()\n",
    "print(f'Параметры \"Ультра\": Среднее - {ultra_gb_mean}, Дисперсия - {ultra_gb_var}, Стандартное отклонение - {ultra_gb_dev}')"
   ]
  },
  {
   "cell_type": "code",
   "execution_count": 44,
   "metadata": {},
   "outputs": [
    {
     "data": {
      "image/png": "[encoded data removed]",
      "text/plain": [
       "<Figure size 1440x360 with 1 Axes>"
      ]
     },
     "metadata": {},
     "output_type": "display_data"
    }
   ],
   "source": [
    "sns.set_style('darkgrid')\n",
    "plt.title('Распределение интернет-трафика для тарифов \"SMART\" и \"ULTRA\"', fontsize=20)\n",
    "sns.distplot(df_ultra['gb_used'], label='ULTRA', kde=False)\n",
    "sns.distplot(df_smart['gb_used'], label='SMART', kde=False)\n",
    "plt.axvline(np.mean(df_smart['gb_used']),color='g', linestyle='-', label='SMART СРЕДНЕЕ')\n",
    "plt.axvline(np.mean(df_ultra['gb_used']),color='g', linestyle='--', label='ULTRA СРЕДНЕЕ')\n",
    "plt.legend();"
   ]
  },
  {
   "cell_type": "markdown",
   "metadata": {},
   "source": [
    "**Для тарифа \"Смарт\" средний объем интернет-трафика равен 16 гб., а для тарифа \"Ультра\" - 19 гб. Оба графика имеют примерно нормальное распределение.**\n",
    "\n",
    "**Можно сделать вывод что далеко не всем пользователям тарифа \"Смарт\" хватает включенного в тариф пакета гигобайтов. Для пользователей \"Ультра\" наоборот трафика хватает с остатком.**"
   ]
  },
  {
   "cell_type": "markdown",
   "metadata": {},
   "source": [
    "### Вывод"
   ]
  },
  {
   "cell_type": "markdown",
   "metadata": {},
   "source": [
    "**Учитываю полученную выше информацию можно сделать вывод, что для большинства пользователей тарифа \"Ультра\" в основном хватает базового пакета, и даже не всегда используют его полностью. Пользователи тарифа \"Смарт\" практически полностью используют все базовые ресурсы, и иногда доплачивают за дополнительные.**"
   ]
  },
  {
   "cell_type": "markdown",
   "metadata": {},
   "source": [
    "## Шаг 4. Проверка гипотез."
   ]
  },
  {
   "cell_type": "markdown",
   "metadata": {},
   "source": [
    "*Нулевая гипотеза (H₀) всегда формируется так, чтобы использовать знак равенства.   \n",
    "Исходя из формулировки H₀ формуриуется альтернативная гипотеза (H₁). Это утверждение, которое принимается верным, когда отбрасывается нулевая гипотеза.*\n",
    "\n",
    "*Пороговое значение сделаю равное 5%, как общепринятое.*\n",
    "\n",
    "<u>*Логика проверки.*</u>\n",
    "\n",
    "*Вычислю вероятность (p-value) получить наблюдаемое на выборке значение, при условии, что H₀ верна. Если вероятность будет большой (сравним с пороговым значением), то нулевую гипотезу не отвергаем.*\n",
    "\n"
   ]
  },
  {
   "cell_type": "markdown",
   "metadata": {},
   "source": [
    "### Проверим гипотезу : \"Средняя выручка пользователей тарифов «Ультра» и «Смарт» различаются\"."
   ]
  },
  {
   "cell_type": "markdown",
   "metadata": {},
   "source": [
    "<u>***Сформируем гипотезу.***</u>\n",
    "\n",
    "**H₀:  Средняя выручка тарифа \"Ультра\" равна средней выручке тарифа \"Смарт\".**\n",
    "\n",
    "**H₁:  Средняя выручка тарифа \"Ультра\" и средняя выручка тарифа \"Смарт\" различаются. Альтернативная гипотеза говорит о проверке равенства средних двух генеральных совокупностей.**\n",
    "\n",
    "***Выборки по тарифам различатся по размеру, есть сомнения, что дисперсии совокупностей одинаковы. Поэтому в методе ttest_ind укажу параметру equal_var значение False, чтобы посчитать дисперсии выборок по отдельности.***\n"
   ]
  },
  {
   "cell_type": "code",
   "execution_count": 45,
   "metadata": {},
   "outputs": [
    {
     "name": "stdout",
     "output_type": "stream",
     "text": [
      "\n",
      "Значение p-value:  1.927011394420941e-250\n",
      "\n",
      "Отвергаем нулевую гипотезу\n"
     ]
    }
   ],
   "source": [
    "alpha = .05\n",
    "res = scipy.stats.ttest_ind(df_smart['total_revenue'], df_ultra['total_revenue'], equal_var=False)\n",
    "\n",
    "print('\\nЗначение p-value: ', res.pvalue)\n",
    "\n",
    "if res.pvalue < alpha:\n",
    "    print('\\nОтвергаем нулевую гипотезу')\n",
    "else:\n",
    "    print('\\nНе отвергаем нулевую гипотезу')"
   ]
  },
  {
   "cell_type": "markdown",
   "metadata": {},
   "source": [
    "**Итог проверки: Средние выручки по тарифам не равны.**"
   ]
  },
  {
   "cell_type": "markdown",
   "metadata": {},
   "source": [
    "### Проверим гипотезу : \"Cредняя выручка пользователей из Москвы отличается от выручки пользователей из других регионов\""
   ]
  },
  {
   "cell_type": "markdown",
   "metadata": {},
   "source": [
    "<u>***Сформируем гипотезу.***</u>\n",
    "\n",
    "**H₀:  Средняя выручка тарифа пользователей из Москвы равна выручке пользователей из других регионов.**\n",
    "\n",
    "**H₁:  Средняя выручка пользователей из Москвы и средняя выручка пользоватлей из других регионов различаются. Альтернативная гипотеза говорит о проверке равенства средних двух генеральных совокупностей.**\n",
    "\n",
    "***Выборки по тарифам различатся по размеру, есть сомнения, что дисперсии совокупностей одинаковы. Поэтому в методе ttest_ind укажу параметру equal_var значение False, чтобы посчитать дисперсии выборок по отдельности.***\n"
   ]
  },
  {
   "cell_type": "code",
   "execution_count": 46,
   "metadata": {},
   "outputs": [
    {
     "data": {
      "text/plain": [
       "array(['Краснодар', 'Москва', 'Стерлитамак', 'Новокузнецк',\n",
       "       'Набережные Челны', 'Ульяновск', 'Челябинск', 'Пермь', 'Тюмень',\n",
       "       'Самара', 'Санкт-Петербург', 'Иваново', 'Чебоксары', 'Омск', 'Уфа',\n",
       "       'Томск', 'Чита', 'Мурманск', 'Петрозаводск', 'Тверь',\n",
       "       'Екатеринбург', 'Махачкала', 'Вологда', 'Череповец', 'Ярославль',\n",
       "       'Сочи', 'Хабаровск', 'Ставрополь', 'Рязань', 'Улан-Удэ', 'Тула',\n",
       "       'Саратов', 'Ростов-на-Дону', 'Казань', 'Иркутск', 'Курск',\n",
       "       'Калуга', 'Якутск', 'Астрахань', 'Химки', 'Владикавказ',\n",
       "       'Волгоград', 'Саранск', 'Ижевск', 'Новосибирск', 'Брянск',\n",
       "       'Тольятти', 'Нижний Тагил', 'Орёл', 'Белгород', 'Воронеж',\n",
       "       'Курган', 'Барнаул', 'Красноярск', 'Архангельск', 'Липецк',\n",
       "       'Кемерово', 'Киров', 'Сургут', 'Пенза', 'Волжский', 'Магнитогорск',\n",
       "       'Нижний Новгород', 'Кострома', 'Владивосток', 'Тамбов', 'Балашиха',\n",
       "       'Севастополь', 'Калининград', 'Оренбург', 'Смоленск',\n",
       "       'Нижневартовск', 'Владимир', 'Новороссийск', 'Грозный', 'Подольск'],\n",
       "      dtype=object)"
      ]
     },
     "execution_count": 46,
     "metadata": {},
     "output_type": "execute_result"
    }
   ],
   "source": [
    "full_df['city'].unique() # Еще раз проверю названия городов, нет ли опечаток в написании"
   ]
  },
  {
   "cell_type": "code",
   "execution_count": 47,
   "metadata": {},
   "outputs": [
    {
     "name": "stdout",
     "output_type": "stream",
     "text": [
      "\n",
      "Значение p-value: 0.5216952110000279\n",
      "\n",
      "Не отвергаем нулевую гипотезу\n"
     ]
    }
   ],
   "source": [
    "alpha = .05\n",
    "res2 = scipy.stats.ttest_ind(full_df.query('city == \"Москва\"')['total_revenue'], full_df.query('city != \"Москва\"')['total_revenue'], equal_var=False)\n",
    "\n",
    "print('\\nЗначение p-value:', res2.pvalue)\n",
    "\n",
    "if res2.pvalue < alpha:\n",
    "    print('\\nОтвергаем нулевую гипотезу')\n",
    "else:\n",
    "    print('\\nНе отвергаем нулевую гипотезу')"
   ]
  },
  {
   "cell_type": "markdown",
   "metadata": {},
   "source": [
    "**Итог проверки: \"Выручки не различаются\".**"
   ]
  },
  {
   "cell_type": "markdown",
   "metadata": {},
   "source": [
    "### Вывод."
   ]
  },
  {
   "cell_type": "markdown",
   "metadata": {},
   "source": [
    "**Выручки по тарифам разные, а вот места нахождения клиентов практически на выручки по тарифам не влияют.**"
   ]
  },
  {
   "cell_type": "markdown",
   "metadata": {},
   "source": [
    "## Шаг 5. Общий вывод."
   ]
  },
  {
   "cell_type": "code",
   "execution_count": 48,
   "metadata": {},
   "outputs": [],
   "source": [
    "total_revenue_for_smart = df_smart['total_revenue'].sum()\n",
    "number_of_tariff_users_smart = len(df_smart['user_id'].unique())\n",
    "total_revenue_for_ultra = df_ultra['total_revenue'].sum()\n",
    "number_of_tariff_users_ultra = len(df_ultra['user_id'].unique())"
   ]
  },
  {
   "cell_type": "code",
   "execution_count": 49,
   "metadata": {
    "scrolled": true
   },
   "outputs": [
    {
     "name": "stdout",
     "output_type": "stream",
     "text": [
      "\n",
      "Выручка за год по тарифу \"Смарт\": 2875901 и количество пользователей: 351\n",
      "\n",
      "Выручка за год по тарифу \"Ультра\": 2041050 и количество пользователей: 149\n"
     ]
    }
   ],
   "source": [
    "print(f'\\nВыручка за год по тарифу \"Смарт\": {total_revenue_for_smart} и количество пользователей: {number_of_tariff_users_smart}')\n",
    "print(f'\\nВыручка за год по тарифу \"Ультра\": {total_revenue_for_ultra} и количество пользователей: {number_of_tariff_users_ultra}')"
   ]
  },
  {
   "cell_type": "code",
   "execution_count": 50,
   "metadata": {},
   "outputs": [
    {
     "data": {
      "text/html": [
       "<div>\n",
       "<style scoped>\n",
       "    .dataframe tbody tr th:only-of-type {\n",
       "        vertical-align: middle;\n",
       "    }\n",
       "\n",
       "    .dataframe tbody tr th {\n",
       "        vertical-align: top;\n",
       "    }\n",
       "\n",
       "    .dataframe thead th {\n",
       "        text-align: right;\n",
       "    }\n",
       "</style>\n",
       "<table border=\"1\" class=\"dataframe\">\n",
       "  <thead>\n",
       "    <tr style=\"text-align: right;\">\n",
       "      <th></th>\n",
       "      <th>messages_included</th>\n",
       "      <th>mb_per_month_included</th>\n",
       "      <th>minutes_included</th>\n",
       "      <th>rub_monthly_fee</th>\n",
       "      <th>rub_per_gb</th>\n",
       "      <th>rub_per_message</th>\n",
       "      <th>rub_per_minute</th>\n",
       "      <th>tariff_name</th>\n",
       "    </tr>\n",
       "  </thead>\n",
       "  <tbody>\n",
       "    <tr>\n",
       "      <td>0</td>\n",
       "      <td>50</td>\n",
       "      <td>15360</td>\n",
       "      <td>500</td>\n",
       "      <td>550</td>\n",
       "      <td>200</td>\n",
       "      <td>3</td>\n",
       "      <td>3</td>\n",
       "      <td>smart</td>\n",
       "    </tr>\n",
       "    <tr>\n",
       "      <td>1</td>\n",
       "      <td>1000</td>\n",
       "      <td>30720</td>\n",
       "      <td>3000</td>\n",
       "      <td>1950</td>\n",
       "      <td>150</td>\n",
       "      <td>1</td>\n",
       "      <td>1</td>\n",
       "      <td>ultra</td>\n",
       "    </tr>\n",
       "  </tbody>\n",
       "</table>\n",
       "</div>"
      ],
      "text/plain": [
       "   messages_included  mb_per_month_included  minutes_included  \\\n",
       "0                 50                  15360               500   \n",
       "1               1000                  30720              3000   \n",
       "\n",
       "   rub_monthly_fee  rub_per_gb  rub_per_message  rub_per_minute tariff_name  \n",
       "0              550         200                3               3       smart  \n",
       "1             1950         150                1               1       ultra  "
      ]
     },
     "execution_count": 50,
     "metadata": {},
     "output_type": "execute_result"
    }
   ],
   "source": [
    "tariffs.head()"
   ]
  },
  {
   "cell_type": "markdown",
   "metadata": {},
   "source": [
    "**Тариф \"Смарт\" более популярен, хотя базового пакета хватает не всегда. Плата за дополнительные ресурсы значительно дороже чем в \"Ультре\", как результат доход \"Смарт\" приносит больше.**\n",
    "\n",
    "**Не смотря на то, что в тарифе \"Ультра\" пользователей почти в два раз меньше и базовый пакет покрывает требования почти большинства, стабильная абонетская плата приносит хороший доход.**\n",
    "\n",
    "**Наиболее выгоден для компании тариф \"Смарт\". Стабильная, не высокая абонентская плата, привлекает пользователей, а небольшой базовый пакет услуг провоцирует на дополнительные траты, что приносит значительную прибыль компании.**\n"
   ]
  }
 ],
 "metadata": {
  "ExecuteTimeLog": [
   {
    "duration": 243,
    "start_time": "2022-01-18T17:50:12.928Z"
   },
   {
    "duration": 201,
    "start_time": "2022-01-18T17:51:46.653Z"
   },
   {
    "duration": 202,
    "start_time": "2022-01-18T17:51:49.417Z"
   },
   {
    "duration": 613,
    "start_time": "2022-01-18T17:51:55.329Z"
   },
   {
    "duration": 1564,
    "start_time": "2022-01-18T17:51:56.869Z"
   },
   {
    "duration": -49,
    "start_time": "2022-01-18T17:51:58.484Z"
   },
   {
    "duration": 1692,
    "start_time": "2022-01-18T17:52:17.058Z"
   },
   {
    "duration": -10,
    "start_time": "2022-01-18T17:52:18.762Z"
   },
   {
    "duration": 160,
    "start_time": "2022-01-18T17:52:41.398Z"
   },
   {
    "duration": 14,
    "start_time": "2022-01-18T17:52:42.186Z"
   },
   {
    "duration": 442,
    "start_time": "2022-01-18T17:58:23.372Z"
   },
   {
    "duration": 21,
    "start_time": "2022-01-18T17:59:55.396Z"
   },
   {
    "duration": 9,
    "start_time": "2022-01-18T18:00:01.422Z"
   },
   {
    "duration": 20,
    "start_time": "2022-01-18T18:00:06.481Z"
   },
   {
    "duration": 303,
    "start_time": "2022-01-18T18:00:30.905Z"
   },
   {
    "duration": 97,
    "start_time": "2022-01-18T18:00:43.794Z"
   },
   {
    "duration": 9,
    "start_time": "2022-01-18T18:01:23.096Z"
   },
   {
    "duration": 10,
    "start_time": "2022-01-18T18:01:34.299Z"
   },
   {
    "duration": 9,
    "start_time": "2022-01-18T18:01:45.972Z"
   },
   {
    "duration": 10,
    "start_time": "2022-01-18T18:01:58.329Z"
   },
   {
    "duration": 8,
    "start_time": "2022-01-18T18:04:45.775Z"
   },
   {
    "duration": 17,
    "start_time": "2022-01-18T18:05:05.158Z"
   },
   {
    "duration": 7,
    "start_time": "2022-01-18T18:08:52.044Z"
   },
   {
    "duration": 15,
    "start_time": "2022-01-18T18:09:18.740Z"
   },
   {
    "duration": 8,
    "start_time": "2022-01-18T18:11:06.184Z"
   },
   {
    "duration": 8,
    "start_time": "2022-01-18T18:13:32.585Z"
   },
   {
    "duration": 9,
    "start_time": "2022-01-18T18:16:50.830Z"
   },
   {
    "duration": 7,
    "start_time": "2022-01-18T18:17:01.304Z"
   },
   {
    "duration": 403,
    "start_time": "2022-01-18T18:28:19.749Z"
   },
   {
    "duration": 216,
    "start_time": "2022-01-18T18:29:13.661Z"
   },
   {
    "duration": 202,
    "start_time": "2022-01-18T18:33:51.372Z"
   },
   {
    "duration": 9,
    "start_time": "2022-01-18T18:33:56.960Z"
   },
   {
    "duration": 11,
    "start_time": "2022-01-18T18:34:12.087Z"
   },
   {
    "duration": 18,
    "start_time": "2022-01-18T18:34:27.152Z"
   },
   {
    "duration": 8,
    "start_time": "2022-01-18T18:35:47.145Z"
   },
   {
    "duration": 13,
    "start_time": "2022-01-18T18:50:00.078Z"
   },
   {
    "duration": 9,
    "start_time": "2022-01-18T18:50:09.174Z"
   },
   {
    "duration": 559,
    "start_time": "2022-01-18T19:25:47.581Z"
   },
   {
    "duration": 413,
    "start_time": "2022-01-18T19:25:48.142Z"
   },
   {
    "duration": 13,
    "start_time": "2022-01-18T19:25:48.558Z"
   },
   {
    "duration": 30,
    "start_time": "2022-01-18T19:25:48.573Z"
   },
   {
    "duration": 8,
    "start_time": "2022-01-18T19:25:48.605Z"
   },
   {
    "duration": 21,
    "start_time": "2022-01-18T19:25:48.615Z"
   },
   {
    "duration": 24,
    "start_time": "2022-01-18T19:25:48.637Z"
   },
   {
    "duration": 22,
    "start_time": "2022-01-18T19:25:48.664Z"
   },
   {
    "duration": 14,
    "start_time": "2022-01-18T19:25:48.689Z"
   },
   {
    "duration": 16,
    "start_time": "2022-01-18T19:25:48.704Z"
   },
   {
    "duration": 8,
    "start_time": "2022-01-18T19:25:48.722Z"
   },
   {
    "duration": 8,
    "start_time": "2022-01-18T19:25:48.732Z"
   },
   {
    "duration": 25,
    "start_time": "2022-01-18T19:25:48.742Z"
   },
   {
    "duration": 7,
    "start_time": "2022-01-18T19:25:48.769Z"
   },
   {
    "duration": 9,
    "start_time": "2022-01-18T19:29:03.383Z"
   },
   {
    "duration": 9,
    "start_time": "2022-01-18T19:29:08.608Z"
   },
   {
    "duration": 21,
    "start_time": "2022-01-18T19:29:16.324Z"
   },
   {
    "duration": 33,
    "start_time": "2022-01-18T19:30:33.065Z"
   },
   {
    "duration": 9,
    "start_time": "2022-01-18T19:30:41.187Z"
   },
   {
    "duration": 16,
    "start_time": "2022-01-18T19:30:50.389Z"
   },
   {
    "duration": 17,
    "start_time": "2022-01-18T19:32:28.145Z"
   },
   {
    "duration": 20,
    "start_time": "2022-01-18T19:33:35.867Z"
   },
   {
    "duration": 8,
    "start_time": "2022-01-18T19:33:42.210Z"
   },
   {
    "duration": 25,
    "start_time": "2022-01-18T19:34:11.821Z"
   },
   {
    "duration": 9,
    "start_time": "2022-01-18T19:39:39.741Z"
   },
   {
    "duration": 5,
    "start_time": "2022-01-18T19:41:50.609Z"
   },
   {
    "duration": 4,
    "start_time": "2022-01-18T19:42:58.747Z"
   },
   {
    "duration": 3,
    "start_time": "2022-01-18T19:43:30.770Z"
   },
   {
    "duration": 261,
    "start_time": "2022-01-18T19:44:08.933Z"
   },
   {
    "duration": 4,
    "start_time": "2022-01-18T19:44:12.800Z"
   },
   {
    "duration": 5238,
    "start_time": "2022-01-18T19:44:41.098Z"
   },
   {
    "duration": 212,
    "start_time": "2022-01-18T19:45:13.749Z"
   },
   {
    "duration": 4,
    "start_time": "2022-01-18T19:45:40.889Z"
   },
   {
    "duration": 4,
    "start_time": "2022-01-18T19:45:51.003Z"
   },
   {
    "duration": 80,
    "start_time": "2022-01-18T19:46:14.645Z"
   },
   {
    "duration": 197,
    "start_time": "2022-01-18T19:46:32.534Z"
   },
   {
    "duration": 228,
    "start_time": "2022-01-18T19:48:50.973Z"
   },
   {
    "duration": 208,
    "start_time": "2022-01-18T19:49:12.376Z"
   },
   {
    "duration": 5,
    "start_time": "2022-01-18T19:49:20.934Z"
   },
   {
    "duration": 4,
    "start_time": "2022-01-18T19:49:37.601Z"
   },
   {
    "duration": 201,
    "start_time": "2022-01-18T19:52:12.287Z"
   },
   {
    "duration": 213,
    "start_time": "2022-01-18T19:52:35.908Z"
   },
   {
    "duration": 192,
    "start_time": "2022-01-18T19:53:42.290Z"
   },
   {
    "duration": 196,
    "start_time": "2022-01-18T19:53:59.296Z"
   },
   {
    "duration": 4,
    "start_time": "2022-01-18T19:54:14.012Z"
   },
   {
    "duration": 220,
    "start_time": "2022-01-18T19:54:34.813Z"
   },
   {
    "duration": 196,
    "start_time": "2022-01-18T19:54:39.723Z"
   },
   {
    "duration": 592,
    "start_time": "2022-01-18T19:54:56.674Z"
   },
   {
    "duration": 421,
    "start_time": "2022-01-18T19:54:57.268Z"
   },
   {
    "duration": 16,
    "start_time": "2022-01-18T19:54:57.692Z"
   },
   {
    "duration": 35,
    "start_time": "2022-01-18T19:54:57.710Z"
   },
   {
    "duration": 9,
    "start_time": "2022-01-18T19:54:57.746Z"
   },
   {
    "duration": 23,
    "start_time": "2022-01-18T19:54:57.757Z"
   },
   {
    "duration": 8,
    "start_time": "2022-01-18T19:54:57.782Z"
   },
   {
    "duration": 12,
    "start_time": "2022-01-18T19:54:57.792Z"
   },
   {
    "duration": 9,
    "start_time": "2022-01-18T19:54:57.806Z"
   },
   {
    "duration": 18,
    "start_time": "2022-01-18T19:54:57.816Z"
   },
   {
    "duration": 26,
    "start_time": "2022-01-18T19:54:57.836Z"
   },
   {
    "duration": 11,
    "start_time": "2022-01-18T19:54:57.863Z"
   },
   {
    "duration": 17,
    "start_time": "2022-01-18T19:54:57.876Z"
   },
   {
    "duration": 12,
    "start_time": "2022-01-18T19:54:57.895Z"
   },
   {
    "duration": 268,
    "start_time": "2022-01-18T19:54:57.908Z"
   },
   {
    "duration": -36,
    "start_time": "2022-01-18T19:54:58.214Z"
   },
   {
    "duration": 202,
    "start_time": "2022-01-18T19:55:05.247Z"
   },
   {
    "duration": 568,
    "start_time": "2022-01-18T19:55:22.515Z"
   },
   {
    "duration": 433,
    "start_time": "2022-01-18T19:55:23.085Z"
   },
   {
    "duration": 15,
    "start_time": "2022-01-18T19:55:23.520Z"
   },
   {
    "duration": 28,
    "start_time": "2022-01-18T19:55:23.537Z"
   },
   {
    "duration": 8,
    "start_time": "2022-01-18T19:55:23.567Z"
   },
   {
    "duration": 25,
    "start_time": "2022-01-18T19:55:23.577Z"
   },
   {
    "duration": 10,
    "start_time": "2022-01-18T19:55:23.604Z"
   },
   {
    "duration": 17,
    "start_time": "2022-01-18T19:55:23.617Z"
   },
   {
    "duration": 26,
    "start_time": "2022-01-18T19:55:23.636Z"
   },
   {
    "duration": 15,
    "start_time": "2022-01-18T19:55:23.664Z"
   },
   {
    "duration": 8,
    "start_time": "2022-01-18T19:55:23.681Z"
   },
   {
    "duration": 17,
    "start_time": "2022-01-18T19:55:23.691Z"
   },
   {
    "duration": 19,
    "start_time": "2022-01-18T19:55:23.710Z"
   },
   {
    "duration": 8,
    "start_time": "2022-01-18T19:55:23.731Z"
   },
   {
    "duration": 276,
    "start_time": "2022-01-18T19:55:23.741Z"
   },
   {
    "duration": 5,
    "start_time": "2022-01-18T19:56:09.288Z"
   },
   {
    "duration": 4,
    "start_time": "2022-01-18T19:56:44.526Z"
   },
   {
    "duration": 226,
    "start_time": "2022-01-18T19:56:50.125Z"
   },
   {
    "duration": 197,
    "start_time": "2022-01-18T19:58:39.637Z"
   },
   {
    "duration": 234,
    "start_time": "2022-01-18T20:03:53.097Z"
   },
   {
    "duration": 5,
    "start_time": "2022-01-18T20:04:03.934Z"
   },
   {
    "duration": 209,
    "start_time": "2022-01-18T20:05:11.040Z"
   },
   {
    "duration": 203,
    "start_time": "2022-01-18T20:06:19.133Z"
   },
   {
    "duration": 67,
    "start_time": "2022-01-18T20:07:07.922Z"
   },
   {
    "duration": 67,
    "start_time": "2022-01-18T20:07:11.823Z"
   },
   {
    "duration": 6,
    "start_time": "2022-01-18T20:07:16.270Z"
   },
   {
    "duration": 101,
    "start_time": "2022-01-18T20:10:49.625Z"
   },
   {
    "duration": 221,
    "start_time": "2022-01-18T20:10:59.654Z"
   },
   {
    "duration": 271,
    "start_time": "2022-01-18T20:11:27.800Z"
   },
   {
    "duration": 201,
    "start_time": "2022-01-18T20:14:12.177Z"
   },
   {
    "duration": 205,
    "start_time": "2022-01-18T20:14:26.942Z"
   },
   {
    "duration": 4,
    "start_time": "2022-01-18T20:14:32.528Z"
   },
   {
    "duration": 3,
    "start_time": "2022-01-18T20:14:39.313Z"
   },
   {
    "duration": 206,
    "start_time": "2022-01-18T20:14:53.027Z"
   },
   {
    "duration": 205,
    "start_time": "2022-01-18T20:18:32.595Z"
   },
   {
    "duration": 266,
    "start_time": "2022-01-18T20:18:48.484Z"
   },
   {
    "duration": 226,
    "start_time": "2022-01-18T20:19:00.544Z"
   },
   {
    "duration": 4,
    "start_time": "2022-01-18T20:23:02.990Z"
   },
   {
    "duration": 4,
    "start_time": "2022-01-18T20:23:06.526Z"
   },
   {
    "duration": 4,
    "start_time": "2022-01-18T20:25:28.068Z"
   },
   {
    "duration": 234,
    "start_time": "2022-01-18T20:25:41.453Z"
   },
   {
    "duration": 344,
    "start_time": "2022-01-18T20:26:41.858Z"
   },
   {
    "duration": 218,
    "start_time": "2022-01-18T20:27:29.178Z"
   },
   {
    "duration": 233,
    "start_time": "2022-01-18T20:29:01.178Z"
   },
   {
    "duration": 5,
    "start_time": "2022-01-18T20:31:16.753Z"
   },
   {
    "duration": 190,
    "start_time": "2022-01-18T20:31:48.984Z"
   },
   {
    "duration": 197,
    "start_time": "2022-01-18T20:31:53.908Z"
   },
   {
    "duration": 215,
    "start_time": "2022-01-18T20:32:07.789Z"
   },
   {
    "duration": 68,
    "start_time": "2022-01-18T20:35:19.128Z"
   },
   {
    "duration": 19,
    "start_time": "2022-01-18T20:35:38.636Z"
   },
   {
    "duration": 8,
    "start_time": "2022-01-18T20:35:50.732Z"
   },
   {
    "duration": 6,
    "start_time": "2022-01-18T20:40:43.877Z"
   },
   {
    "duration": 5,
    "start_time": "2022-01-18T20:40:56.676Z"
   },
   {
    "duration": 3,
    "start_time": "2022-01-18T20:41:24.310Z"
   },
   {
    "duration": 385,
    "start_time": "2022-01-18T20:41:27.990Z"
   },
   {
    "duration": 199,
    "start_time": "2022-01-18T20:41:40.825Z"
   },
   {
    "duration": 5,
    "start_time": "2022-01-18T20:41:44.762Z"
   },
   {
    "duration": 6,
    "start_time": "2022-01-18T20:42:11.934Z"
   },
   {
    "duration": 5,
    "start_time": "2022-01-18T20:42:16.566Z"
   },
   {
    "duration": 207,
    "start_time": "2022-01-18T21:04:57.901Z"
   },
   {
    "duration": 208,
    "start_time": "2022-01-18T21:05:47.850Z"
   },
   {
    "duration": 10,
    "start_time": "2022-01-18T21:06:10.945Z"
   },
   {
    "duration": 587,
    "start_time": "2022-01-18T21:06:25.865Z"
   },
   {
    "duration": 499,
    "start_time": "2022-01-18T21:06:26.454Z"
   },
   {
    "duration": 15,
    "start_time": "2022-01-18T21:06:26.956Z"
   },
   {
    "duration": 22,
    "start_time": "2022-01-18T21:06:26.973Z"
   },
   {
    "duration": 8,
    "start_time": "2022-01-18T21:06:26.997Z"
   },
   {
    "duration": 19,
    "start_time": "2022-01-18T21:06:27.006Z"
   },
   {
    "duration": 10,
    "start_time": "2022-01-18T21:06:27.026Z"
   },
   {
    "duration": 8,
    "start_time": "2022-01-18T21:06:27.062Z"
   },
   {
    "duration": 9,
    "start_time": "2022-01-18T21:06:27.072Z"
   },
   {
    "duration": 18,
    "start_time": "2022-01-18T21:06:27.082Z"
   },
   {
    "duration": 9,
    "start_time": "2022-01-18T21:06:27.102Z"
   },
   {
    "duration": 11,
    "start_time": "2022-01-18T21:06:27.112Z"
   },
   {
    "duration": 15,
    "start_time": "2022-01-18T21:06:27.124Z"
   },
   {
    "duration": 7,
    "start_time": "2022-01-18T21:06:27.161Z"
   },
   {
    "duration": 36,
    "start_time": "2022-01-18T21:06:27.170Z"
   },
   {
    "duration": 2,
    "start_time": "2022-01-18T21:06:27.208Z"
   },
   {
    "duration": 17,
    "start_time": "2022-01-18T21:06:43.045Z"
   },
   {
    "duration": 51,
    "start_time": "2022-01-18T21:09:38.385Z"
   },
   {
    "duration": 12,
    "start_time": "2022-01-18T21:09:48.013Z"
   },
   {
    "duration": 7,
    "start_time": "2022-01-18T21:09:53.137Z"
   },
   {
    "duration": 574,
    "start_time": "2022-01-18T21:10:00.385Z"
   },
   {
    "duration": 434,
    "start_time": "2022-01-18T21:10:00.961Z"
   },
   {
    "duration": 17,
    "start_time": "2022-01-18T21:10:01.397Z"
   },
   {
    "duration": 34,
    "start_time": "2022-01-18T21:10:01.416Z"
   },
   {
    "duration": 9,
    "start_time": "2022-01-18T21:10:01.452Z"
   },
   {
    "duration": 29,
    "start_time": "2022-01-18T21:10:01.463Z"
   },
   {
    "duration": 8,
    "start_time": "2022-01-18T21:10:01.494Z"
   },
   {
    "duration": 10,
    "start_time": "2022-01-18T21:10:01.505Z"
   },
   {
    "duration": 8,
    "start_time": "2022-01-18T21:10:01.518Z"
   },
   {
    "duration": 37,
    "start_time": "2022-01-18T21:10:01.528Z"
   },
   {
    "duration": 8,
    "start_time": "2022-01-18T21:10:01.567Z"
   },
   {
    "duration": 31,
    "start_time": "2022-01-18T21:10:01.577Z"
   },
   {
    "duration": 20,
    "start_time": "2022-01-18T21:10:01.610Z"
   },
   {
    "duration": 24,
    "start_time": "2022-01-18T21:10:01.632Z"
   },
   {
    "duration": 93,
    "start_time": "2022-01-18T21:10:01.658Z"
   },
   {
    "duration": 8,
    "start_time": "2022-01-18T21:10:01.753Z"
   },
   {
    "duration": 23,
    "start_time": "2022-01-18T21:10:01.763Z"
   },
   {
    "duration": 547,
    "start_time": "2022-01-18T21:11:39.313Z"
   },
   {
    "duration": 408,
    "start_time": "2022-01-18T21:11:39.861Z"
   },
   {
    "duration": 17,
    "start_time": "2022-01-18T21:11:40.271Z"
   },
   {
    "duration": 26,
    "start_time": "2022-01-18T21:11:40.290Z"
   },
   {
    "duration": 36,
    "start_time": "2022-01-18T21:11:40.319Z"
   },
   {
    "duration": 47,
    "start_time": "2022-01-18T21:11:40.357Z"
   },
   {
    "duration": 12,
    "start_time": "2022-01-18T21:11:40.406Z"
   },
   {
    "duration": 34,
    "start_time": "2022-01-18T21:11:40.421Z"
   },
   {
    "duration": 13,
    "start_time": "2022-01-18T21:11:40.457Z"
   },
   {
    "duration": 40,
    "start_time": "2022-01-18T21:11:40.472Z"
   },
   {
    "duration": 40,
    "start_time": "2022-01-18T21:11:40.514Z"
   },
   {
    "duration": 32,
    "start_time": "2022-01-18T21:11:40.555Z"
   },
   {
    "duration": 32,
    "start_time": "2022-01-18T21:11:40.589Z"
   },
   {
    "duration": 11,
    "start_time": "2022-01-18T21:11:40.623Z"
   },
   {
    "duration": 107,
    "start_time": "2022-01-18T21:11:40.636Z"
   },
   {
    "duration": 7,
    "start_time": "2022-01-18T21:11:40.745Z"
   },
   {
    "duration": 30,
    "start_time": "2022-01-18T21:11:40.755Z"
   },
   {
    "duration": 13,
    "start_time": "2022-01-18T21:11:49.563Z"
   },
   {
    "duration": 617,
    "start_time": "2022-01-19T15:55:43.138Z"
   },
   {
    "duration": 417,
    "start_time": "2022-01-19T15:55:43.757Z"
   },
   {
    "duration": 14,
    "start_time": "2022-01-19T15:55:44.176Z"
   },
   {
    "duration": 23,
    "start_time": "2022-01-19T15:55:44.192Z"
   },
   {
    "duration": 8,
    "start_time": "2022-01-19T15:55:44.216Z"
   },
   {
    "duration": 20,
    "start_time": "2022-01-19T15:55:44.226Z"
   },
   {
    "duration": 8,
    "start_time": "2022-01-19T15:55:44.248Z"
   },
   {
    "duration": 11,
    "start_time": "2022-01-19T15:55:44.258Z"
   },
   {
    "duration": 8,
    "start_time": "2022-01-19T15:55:44.271Z"
   },
   {
    "duration": 29,
    "start_time": "2022-01-19T15:55:44.280Z"
   },
   {
    "duration": 9,
    "start_time": "2022-01-19T15:55:44.311Z"
   },
   {
    "duration": 9,
    "start_time": "2022-01-19T15:55:44.322Z"
   },
   {
    "duration": 12,
    "start_time": "2022-01-19T15:55:44.332Z"
   },
   {
    "duration": 8,
    "start_time": "2022-01-19T15:55:44.346Z"
   },
   {
    "duration": 102,
    "start_time": "2022-01-19T15:55:44.356Z"
   },
   {
    "duration": 10,
    "start_time": "2022-01-19T15:56:06.786Z"
   },
   {
    "duration": 9,
    "start_time": "2022-01-19T16:00:15.909Z"
   },
   {
    "duration": 15,
    "start_time": "2022-01-19T16:00:29.680Z"
   },
   {
    "duration": 280,
    "start_time": "2022-01-19T16:00:41.128Z"
   },
   {
    "duration": 7,
    "start_time": "2022-01-19T16:00:47.139Z"
   },
   {
    "duration": 13,
    "start_time": "2022-01-19T16:01:27.121Z"
   },
   {
    "duration": 9,
    "start_time": "2022-01-19T16:01:33.218Z"
   },
   {
    "duration": 11,
    "start_time": "2022-01-19T16:01:51.643Z"
   },
   {
    "duration": 6,
    "start_time": "2022-01-19T16:06:39.516Z"
   },
   {
    "duration": 539,
    "start_time": "2022-01-19T16:06:49.117Z"
   },
   {
    "duration": 226,
    "start_time": "2022-01-19T16:06:52.375Z"
   },
   {
    "duration": 30,
    "start_time": "2022-01-19T16:08:07.742Z"
   },
   {
    "duration": 10,
    "start_time": "2022-01-19T16:08:20.964Z"
   },
   {
    "duration": 25,
    "start_time": "2022-01-19T16:08:36.257Z"
   },
   {
    "duration": 25,
    "start_time": "2022-01-19T16:13:07.074Z"
   },
   {
    "duration": 292,
    "start_time": "2022-01-19T16:13:10.138Z"
   },
   {
    "duration": 24,
    "start_time": "2022-01-19T16:13:14.826Z"
   },
   {
    "duration": 9,
    "start_time": "2022-01-19T16:13:22.009Z"
   },
   {
    "duration": 6,
    "start_time": "2022-01-19T16:16:12.641Z"
   },
   {
    "duration": 239,
    "start_time": "2022-01-19T16:16:30.395Z"
   },
   {
    "duration": 241,
    "start_time": "2022-01-19T16:16:33.379Z"
   },
   {
    "duration": 9,
    "start_time": "2022-01-19T16:16:51.427Z"
   },
   {
    "duration": 71,
    "start_time": "2022-01-19T16:17:04.261Z"
   },
   {
    "duration": 76,
    "start_time": "2022-01-19T16:17:06.710Z"
   },
   {
    "duration": 7,
    "start_time": "2022-01-19T16:17:09.684Z"
   },
   {
    "duration": 6,
    "start_time": "2022-01-19T16:17:15.508Z"
   },
   {
    "duration": 24,
    "start_time": "2022-01-19T16:19:25.174Z"
   },
   {
    "duration": 17,
    "start_time": "2022-01-19T16:19:36.272Z"
   },
   {
    "duration": 20,
    "start_time": "2022-01-19T16:19:46.563Z"
   },
   {
    "duration": 16,
    "start_time": "2022-01-19T16:19:59.920Z"
   },
   {
    "duration": 16,
    "start_time": "2022-01-19T16:20:04.141Z"
   },
   {
    "duration": 15,
    "start_time": "2022-01-19T16:20:10.205Z"
   },
   {
    "duration": 298,
    "start_time": "2022-01-19T16:20:20.417Z"
   },
   {
    "duration": 11,
    "start_time": "2022-01-19T16:20:26.424Z"
   },
   {
    "duration": 538,
    "start_time": "2022-01-19T16:20:41.262Z"
   },
   {
    "duration": 384,
    "start_time": "2022-01-19T16:20:41.802Z"
   },
   {
    "duration": 13,
    "start_time": "2022-01-19T16:20:42.188Z"
   },
   {
    "duration": 24,
    "start_time": "2022-01-19T16:20:42.202Z"
   },
   {
    "duration": 8,
    "start_time": "2022-01-19T16:20:42.228Z"
   },
   {
    "duration": 25,
    "start_time": "2022-01-19T16:20:42.237Z"
   },
   {
    "duration": 7,
    "start_time": "2022-01-19T16:20:42.263Z"
   },
   {
    "duration": 27,
    "start_time": "2022-01-19T16:20:42.272Z"
   },
   {
    "duration": 7,
    "start_time": "2022-01-19T16:20:42.301Z"
   },
   {
    "duration": 15,
    "start_time": "2022-01-19T16:20:42.310Z"
   },
   {
    "duration": 9,
    "start_time": "2022-01-19T16:20:42.327Z"
   },
   {
    "duration": 7,
    "start_time": "2022-01-19T16:20:42.338Z"
   },
   {
    "duration": 11,
    "start_time": "2022-01-19T16:20:42.347Z"
   },
   {
    "duration": 45,
    "start_time": "2022-01-19T16:20:42.359Z"
   },
   {
    "duration": 79,
    "start_time": "2022-01-19T16:20:42.406Z"
   },
   {
    "duration": 13,
    "start_time": "2022-01-19T16:20:42.487Z"
   },
   {
    "duration": 9,
    "start_time": "2022-01-19T16:20:42.502Z"
   },
   {
    "duration": 26,
    "start_time": "2022-01-19T16:20:42.513Z"
   },
   {
    "duration": 6,
    "start_time": "2022-01-19T16:21:16.943Z"
   },
   {
    "duration": 11,
    "start_time": "2022-01-19T16:21:22.657Z"
   },
   {
    "duration": 19,
    "start_time": "2022-01-19T16:21:25.908Z"
   },
   {
    "duration": 8,
    "start_time": "2022-01-19T16:21:49.399Z"
   },
   {
    "duration": 27,
    "start_time": "2022-01-19T16:36:08.628Z"
   },
   {
    "duration": 10,
    "start_time": "2022-01-19T16:36:29.480Z"
   },
   {
    "duration": 25,
    "start_time": "2022-01-19T16:36:45.759Z"
   },
   {
    "duration": 11,
    "start_time": "2022-01-19T16:37:06.488Z"
   },
   {
    "duration": 9,
    "start_time": "2022-01-19T16:37:14.433Z"
   },
   {
    "duration": 26,
    "start_time": "2022-01-19T16:38:15.183Z"
   },
   {
    "duration": 24,
    "start_time": "2022-01-19T16:38:25.278Z"
   },
   {
    "duration": 84,
    "start_time": "2022-01-19T16:39:03.034Z"
   },
   {
    "duration": 14,
    "start_time": "2022-01-19T16:39:15.020Z"
   },
   {
    "duration": 6,
    "start_time": "2022-01-19T16:39:21.488Z"
   },
   {
    "duration": 94,
    "start_time": "2022-01-19T16:39:45.651Z"
   },
   {
    "duration": 80,
    "start_time": "2022-01-19T16:40:11.360Z"
   },
   {
    "duration": 78,
    "start_time": "2022-01-19T16:40:37.292Z"
   },
   {
    "duration": 107,
    "start_time": "2022-01-19T16:41:00.863Z"
   },
   {
    "duration": 26,
    "start_time": "2022-01-19T16:41:25.912Z"
   },
   {
    "duration": 25,
    "start_time": "2022-01-19T16:41:32.935Z"
   },
   {
    "duration": 25,
    "start_time": "2022-01-19T16:41:56.632Z"
   },
   {
    "duration": 79,
    "start_time": "2022-01-19T16:42:36.279Z"
   },
   {
    "duration": 62,
    "start_time": "2022-01-19T16:44:15.005Z"
   },
   {
    "duration": 60,
    "start_time": "2022-01-19T16:44:30.247Z"
   },
   {
    "duration": 78,
    "start_time": "2022-01-19T16:44:35.387Z"
   },
   {
    "duration": 83,
    "start_time": "2022-01-19T16:44:40.003Z"
   },
   {
    "duration": 79,
    "start_time": "2022-01-19T16:45:18.669Z"
   },
   {
    "duration": 86,
    "start_time": "2022-01-19T16:50:05.472Z"
   },
   {
    "duration": 13,
    "start_time": "2022-01-19T16:50:37.651Z"
   },
   {
    "duration": 5,
    "start_time": "2022-01-19T16:51:13.724Z"
   },
   {
    "duration": 6,
    "start_time": "2022-01-19T16:51:20.983Z"
   },
   {
    "duration": 14,
    "start_time": "2022-01-19T16:51:31.107Z"
   },
   {
    "duration": 13,
    "start_time": "2022-01-19T16:52:45.003Z"
   },
   {
    "duration": 294,
    "start_time": "2022-01-19T16:53:13.342Z"
   },
   {
    "duration": 216,
    "start_time": "2022-01-19T16:54:45.755Z"
   },
   {
    "duration": 34,
    "start_time": "2022-01-19T16:55:19.460Z"
   },
   {
    "duration": 34,
    "start_time": "2022-01-19T16:56:11.967Z"
   },
   {
    "duration": 540,
    "start_time": "2022-01-19T17:28:56.936Z"
   },
   {
    "duration": 387,
    "start_time": "2022-01-19T17:28:57.478Z"
   },
   {
    "duration": 14,
    "start_time": "2022-01-19T17:28:57.867Z"
   },
   {
    "duration": 21,
    "start_time": "2022-01-19T17:28:57.883Z"
   },
   {
    "duration": 8,
    "start_time": "2022-01-19T17:28:57.906Z"
   },
   {
    "duration": 18,
    "start_time": "2022-01-19T17:28:57.916Z"
   },
   {
    "duration": 6,
    "start_time": "2022-01-19T17:28:57.936Z"
   },
   {
    "duration": 11,
    "start_time": "2022-01-19T17:28:57.944Z"
   },
   {
    "duration": 8,
    "start_time": "2022-01-19T17:28:57.958Z"
   },
   {
    "duration": 41,
    "start_time": "2022-01-19T17:28:57.967Z"
   },
   {
    "duration": 8,
    "start_time": "2022-01-19T17:28:58.010Z"
   },
   {
    "duration": 7,
    "start_time": "2022-01-19T17:28:58.019Z"
   },
   {
    "duration": 12,
    "start_time": "2022-01-19T17:28:58.028Z"
   },
   {
    "duration": 8,
    "start_time": "2022-01-19T17:28:58.042Z"
   },
   {
    "duration": 92,
    "start_time": "2022-01-19T17:28:58.052Z"
   },
   {
    "duration": 33,
    "start_time": "2022-01-19T17:28:58.146Z"
   },
   {
    "duration": 103,
    "start_time": "2022-01-19T17:28:58.181Z"
   },
   {
    "duration": 33,
    "start_time": "2022-01-19T17:28:58.286Z"
   },
   {
    "duration": 133,
    "start_time": "2022-01-19T17:29:49.886Z"
   },
   {
    "duration": 5,
    "start_time": "2022-01-19T17:32:35.535Z"
   },
   {
    "duration": 5,
    "start_time": "2022-01-19T17:32:51.548Z"
   },
   {
    "duration": 28,
    "start_time": "2022-01-19T17:32:58.721Z"
   },
   {
    "duration": 17,
    "start_time": "2022-01-19T17:33:17.983Z"
   },
   {
    "duration": 16,
    "start_time": "2022-01-19T17:33:38.101Z"
   },
   {
    "duration": 18,
    "start_time": "2022-01-19T17:33:45.190Z"
   },
   {
    "duration": 8,
    "start_time": "2022-01-19T17:34:10.455Z"
   },
   {
    "duration": 8,
    "start_time": "2022-01-19T17:34:22.528Z"
   },
   {
    "duration": 27,
    "start_time": "2022-01-19T17:50:03.417Z"
   },
   {
    "duration": 3,
    "start_time": "2022-01-19T17:53:49.480Z"
   },
   {
    "duration": 312,
    "start_time": "2022-01-19T17:54:51.227Z"
   },
   {
    "duration": 2,
    "start_time": "2022-01-19T17:56:53.543Z"
   },
   {
    "duration": 29,
    "start_time": "2022-01-19T17:57:05.325Z"
   },
   {
    "duration": 29,
    "start_time": "2022-01-19T17:57:11.199Z"
   },
   {
    "duration": 28,
    "start_time": "2022-01-19T17:57:18.991Z"
   },
   {
    "duration": 71,
    "start_time": "2022-01-19T17:57:23.125Z"
   },
   {
    "duration": 27,
    "start_time": "2022-01-19T17:57:30.863Z"
   },
   {
    "duration": 28,
    "start_time": "2022-01-19T17:58:45.680Z"
   },
   {
    "duration": 25,
    "start_time": "2022-01-19T17:58:56.305Z"
   },
   {
    "duration": 27,
    "start_time": "2022-01-19T17:59:15.003Z"
   },
   {
    "duration": 1115,
    "start_time": "2022-01-19T18:09:29.894Z"
   },
   {
    "duration": 1034,
    "start_time": "2022-01-19T18:13:36.364Z"
   },
   {
    "duration": 1093,
    "start_time": "2022-01-19T18:13:52.798Z"
   },
   {
    "duration": 1062,
    "start_time": "2022-01-19T18:14:39.146Z"
   },
   {
    "duration": 1404,
    "start_time": "2022-01-19T18:14:55.092Z"
   },
   {
    "duration": 207,
    "start_time": "2022-01-19T18:16:47.792Z"
   },
   {
    "duration": 233,
    "start_time": "2022-01-19T18:17:02.128Z"
   },
   {
    "duration": 27,
    "start_time": "2022-01-19T18:17:30.776Z"
   },
   {
    "duration": 25,
    "start_time": "2022-01-19T18:17:38.935Z"
   },
   {
    "duration": 1061,
    "start_time": "2022-01-19T18:18:35.233Z"
   },
   {
    "duration": 46,
    "start_time": "2022-01-19T18:20:20.603Z"
   },
   {
    "duration": 40377,
    "start_time": "2022-01-19T18:20:32.605Z"
   },
   {
    "duration": 5,
    "start_time": "2022-01-19T18:22:06.803Z"
   },
   {
    "duration": 53,
    "start_time": "2022-01-19T18:22:49.459Z"
   },
   {
    "duration": 253,
    "start_time": "2022-01-19T18:32:24.695Z"
   },
   {
    "duration": -19,
    "start_time": "2022-01-19T18:35:29.107Z"
   },
   {
    "duration": 29631,
    "start_time": "2022-01-19T18:35:31.683Z"
   },
   {
    "duration": 3488,
    "start_time": "2022-01-19T18:38:56.679Z"
   },
   {
    "duration": 14844,
    "start_time": "2022-01-19T18:39:26.608Z"
   },
   {
    "duration": 9609,
    "start_time": "2022-01-19T18:39:48.685Z"
   },
   {
    "duration": 17042,
    "start_time": "2022-01-19T18:40:42.908Z"
   },
   {
    "duration": 418410,
    "start_time": "2022-01-19T18:42:22.437Z"
   },
   {
    "duration": 4,
    "start_time": "2022-01-19T18:49:42.101Z"
   },
   {
    "duration": 5,
    "start_time": "2022-01-19T18:50:04.731Z"
   },
   {
    "duration": 3,
    "start_time": "2022-01-19T18:50:17.511Z"
   },
   {
    "duration": 412721,
    "start_time": "2022-01-19T18:56:11.784Z"
   },
   {
    "duration": 220,
    "start_time": "2022-01-19T19:07:27.687Z"
   },
   {
    "duration": 5,
    "start_time": "2022-01-19T19:08:01.556Z"
   },
   {
    "duration": 8,
    "start_time": "2022-01-19T19:08:10.757Z"
   },
   {
    "duration": 477,
    "start_time": "2022-01-19T19:20:40.564Z"
   },
   {
    "duration": 33,
    "start_time": "2022-01-19T19:21:15.438Z"
   },
   {
    "duration": 19,
    "start_time": "2022-01-19T19:21:32.223Z"
   },
   {
    "duration": 22,
    "start_time": "2022-01-19T19:22:33.782Z"
   },
   {
    "duration": 66,
    "start_time": "2022-01-19T19:24:36.856Z"
   },
   {
    "duration": 32,
    "start_time": "2022-01-19T19:25:29.474Z"
   },
   {
    "duration": 240,
    "start_time": "2022-01-19T19:25:57.375Z"
   },
   {
    "duration": 235,
    "start_time": "2022-01-19T19:26:03.178Z"
   },
   {
    "duration": 28,
    "start_time": "2022-01-19T19:26:55.034Z"
   },
   {
    "duration": 94,
    "start_time": "2022-01-19T19:27:11.219Z"
   },
   {
    "duration": 83,
    "start_time": "2022-01-19T19:27:18.154Z"
   },
   {
    "duration": 230,
    "start_time": "2022-01-19T19:27:40.872Z"
   },
   {
    "duration": 3,
    "start_time": "2022-01-19T19:28:35.606Z"
   },
   {
    "duration": 7295,
    "start_time": "2022-01-19T19:29:24.305Z"
   },
   {
    "duration": 80,
    "start_time": "2022-01-19T19:29:50.532Z"
   },
   {
    "duration": 7472,
    "start_time": "2022-01-19T19:30:12.312Z"
   },
   {
    "duration": 67,
    "start_time": "2022-01-19T19:32:30.666Z"
   },
   {
    "duration": 270,
    "start_time": "2022-01-19T19:32:44.164Z"
   },
   {
    "duration": 82,
    "start_time": "2022-01-19T19:33:09.468Z"
   },
   {
    "duration": 275,
    "start_time": "2022-01-19T19:33:24.913Z"
   },
   {
    "duration": 57,
    "start_time": "2022-01-19T19:33:41.771Z"
   },
   {
    "duration": 59,
    "start_time": "2022-01-19T19:34:27.963Z"
   },
   {
    "duration": 266,
    "start_time": "2022-01-19T19:34:39.815Z"
   },
   {
    "duration": 59,
    "start_time": "2022-01-19T19:34:44.412Z"
   },
   {
    "duration": 21,
    "start_time": "2022-01-19T19:38:32.552Z"
   },
   {
    "duration": 16,
    "start_time": "2022-01-19T19:38:39.756Z"
   },
   {
    "duration": 226,
    "start_time": "2022-01-19T19:38:54.091Z"
   },
   {
    "duration": 31,
    "start_time": "2022-01-19T19:38:56.145Z"
   },
   {
    "duration": 4406,
    "start_time": "2022-01-19T19:39:09.394Z"
   },
   {
    "duration": 5305,
    "start_time": "2022-01-19T19:39:38.676Z"
   },
   {
    "duration": 17,
    "start_time": "2022-01-19T19:40:34.402Z"
   },
   {
    "duration": 21,
    "start_time": "2022-01-19T19:40:41.853Z"
   },
   {
    "duration": 255,
    "start_time": "2022-01-19T19:40:50.524Z"
   },
   {
    "duration": 14,
    "start_time": "2022-01-19T19:41:09.706Z"
   },
   {
    "duration": 26,
    "start_time": "2022-01-19T19:41:11.971Z"
   },
   {
    "duration": 87,
    "start_time": "2022-01-19T19:41:33.250Z"
   },
   {
    "duration": 25,
    "start_time": "2022-01-19T19:41:44.112Z"
   },
   {
    "duration": 21,
    "start_time": "2022-01-19T19:42:28.757Z"
   },
   {
    "duration": 38,
    "start_time": "2022-01-19T19:48:09.795Z"
   },
   {
    "duration": 49,
    "start_time": "2022-01-19T19:48:34.164Z"
   },
   {
    "duration": 43,
    "start_time": "2022-01-19T19:51:07.131Z"
   },
   {
    "duration": 20,
    "start_time": "2022-01-19T19:54:24.134Z"
   },
   {
    "duration": 79,
    "start_time": "2022-01-19T19:55:24.980Z"
   },
   {
    "duration": 41,
    "start_time": "2022-01-19T19:55:36.963Z"
   },
   {
    "duration": 219,
    "start_time": "2022-01-19T19:56:27.768Z"
   },
   {
    "duration": 24,
    "start_time": "2022-01-19T19:56:37.581Z"
   },
   {
    "duration": 207,
    "start_time": "2022-01-19T19:58:19.419Z"
   },
   {
    "duration": 70,
    "start_time": "2022-01-19T19:58:25.460Z"
   },
   {
    "duration": 395,
    "start_time": "2022-01-19T19:58:30.107Z"
   },
   {
    "duration": 24,
    "start_time": "2022-01-19T19:58:35.116Z"
   },
   {
    "duration": 40,
    "start_time": "2022-01-19T20:02:16.923Z"
   },
   {
    "duration": 46,
    "start_time": "2022-01-19T20:02:24.342Z"
   },
   {
    "duration": 49,
    "start_time": "2022-01-19T20:02:30.717Z"
   },
   {
    "duration": 252,
    "start_time": "2022-01-19T20:03:17.086Z"
   },
   {
    "duration": 83,
    "start_time": "2022-01-19T20:03:34.838Z"
   },
   {
    "duration": 277,
    "start_time": "2022-01-19T20:04:40.949Z"
   },
   {
    "duration": 31,
    "start_time": "2022-01-19T20:04:52.201Z"
   },
   {
    "duration": 315,
    "start_time": "2022-01-19T20:05:21.957Z"
   },
   {
    "duration": 2437,
    "start_time": "2022-01-19T20:07:15.506Z"
   },
   {
    "duration": 325,
    "start_time": "2022-01-19T20:07:32.745Z"
   },
   {
    "duration": 32,
    "start_time": "2022-01-19T20:07:42.267Z"
   },
   {
    "duration": 23,
    "start_time": "2022-01-19T20:08:17.209Z"
   },
   {
    "duration": 236,
    "start_time": "2022-01-19T20:08:25.360Z"
   },
   {
    "duration": 79,
    "start_time": "2022-01-19T20:09:58.015Z"
   },
   {
    "duration": 51,
    "start_time": "2022-01-19T20:10:05.999Z"
   },
   {
    "duration": 27,
    "start_time": "2022-01-19T20:10:19.389Z"
   },
   {
    "duration": 24,
    "start_time": "2022-01-19T20:10:58.585Z"
   },
   {
    "duration": 22,
    "start_time": "2022-01-19T20:11:22.789Z"
   },
   {
    "duration": 24,
    "start_time": "2022-01-19T20:11:25.840Z"
   },
   {
    "duration": 27,
    "start_time": "2022-01-19T20:11:29.069Z"
   },
   {
    "duration": 231,
    "start_time": "2022-01-19T20:11:37.736Z"
   },
   {
    "duration": 35,
    "start_time": "2022-01-19T20:11:57.522Z"
   },
   {
    "duration": 221,
    "start_time": "2022-01-19T20:17:10.183Z"
   },
   {
    "duration": 62,
    "start_time": "2022-01-19T20:17:51.803Z"
   },
   {
    "duration": 9,
    "start_time": "2022-01-19T20:18:07.627Z"
   },
   {
    "duration": 62,
    "start_time": "2022-01-19T20:19:25.390Z"
   },
   {
    "duration": 11,
    "start_time": "2022-01-19T20:19:26.572Z"
   },
   {
    "duration": 13,
    "start_time": "2022-01-19T20:19:35.583Z"
   },
   {
    "duration": 11,
    "start_time": "2022-01-19T20:19:49.523Z"
   },
   {
    "duration": 70,
    "start_time": "2022-01-19T20:20:07.404Z"
   },
   {
    "duration": 12,
    "start_time": "2022-01-19T20:20:09.522Z"
   },
   {
    "duration": 66,
    "start_time": "2022-01-19T20:20:17.229Z"
   },
   {
    "duration": 12,
    "start_time": "2022-01-19T20:20:17.741Z"
   },
   {
    "duration": 596,
    "start_time": "2022-01-19T20:20:46.568Z"
   },
   {
    "duration": 424,
    "start_time": "2022-01-19T20:20:47.166Z"
   },
   {
    "duration": 15,
    "start_time": "2022-01-19T20:20:47.592Z"
   },
   {
    "duration": 24,
    "start_time": "2022-01-19T20:20:47.608Z"
   },
   {
    "duration": 8,
    "start_time": "2022-01-19T20:20:47.633Z"
   },
   {
    "duration": 25,
    "start_time": "2022-01-19T20:20:47.643Z"
   },
   {
    "duration": 7,
    "start_time": "2022-01-19T20:20:47.669Z"
   },
   {
    "duration": 27,
    "start_time": "2022-01-19T20:20:47.678Z"
   },
   {
    "duration": 9,
    "start_time": "2022-01-19T20:20:47.707Z"
   },
   {
    "duration": 17,
    "start_time": "2022-01-19T20:20:47.717Z"
   },
   {
    "duration": 7,
    "start_time": "2022-01-19T20:20:47.736Z"
   },
   {
    "duration": 8,
    "start_time": "2022-01-19T20:20:47.745Z"
   },
   {
    "duration": 11,
    "start_time": "2022-01-19T20:20:47.754Z"
   },
   {
    "duration": 6,
    "start_time": "2022-01-19T20:20:47.799Z"
   },
   {
    "duration": 142,
    "start_time": "2022-01-19T20:20:47.807Z"
   },
   {
    "duration": 11,
    "start_time": "2022-01-19T20:20:47.951Z"
   },
   {
    "duration": 43,
    "start_time": "2022-01-19T20:20:47.964Z"
   },
   {
    "duration": 3,
    "start_time": "2022-01-19T20:20:48.009Z"
   },
   {
    "duration": 29,
    "start_time": "2022-01-19T20:20:48.014Z"
   },
   {
    "duration": 24,
    "start_time": "2022-01-19T20:20:48.044Z"
   },
   {
    "duration": 12,
    "start_time": "2022-01-19T20:21:02.928Z"
   },
   {
    "duration": 12,
    "start_time": "2022-01-19T20:21:17.914Z"
   },
   {
    "duration": 68,
    "start_time": "2022-01-19T20:22:39.474Z"
   },
   {
    "duration": 56,
    "start_time": "2022-01-19T20:22:49.021Z"
   },
   {
    "duration": 44,
    "start_time": "2022-01-19T20:24:31.896Z"
   },
   {
    "duration": 72,
    "start_time": "2022-01-19T20:27:03.746Z"
   },
   {
    "duration": 62,
    "start_time": "2022-01-19T20:29:32.808Z"
   },
   {
    "duration": 62,
    "start_time": "2022-01-19T20:31:27.254Z"
   },
   {
    "duration": 318,
    "start_time": "2022-01-19T20:32:02.071Z"
   },
   {
    "duration": 261,
    "start_time": "2022-01-19T20:33:16.929Z"
   },
   {
    "duration": 61,
    "start_time": "2022-01-19T20:33:23.361Z"
   },
   {
    "duration": 60,
    "start_time": "2022-01-19T20:33:44.407Z"
   },
   {
    "duration": 251,
    "start_time": "2022-01-19T20:40:55.082Z"
   },
   {
    "duration": 252,
    "start_time": "2022-01-19T20:41:03.890Z"
   },
   {
    "duration": 245,
    "start_time": "2022-01-19T20:41:36.495Z"
   },
   {
    "duration": 58,
    "start_time": "2022-01-19T20:46:41.338Z"
   },
   {
    "duration": 72,
    "start_time": "2022-01-19T20:48:07.346Z"
   },
   {
    "duration": 33,
    "start_time": "2022-01-19T20:48:11.022Z"
   },
   {
    "duration": 4,
    "start_time": "2022-01-19T20:48:13.142Z"
   },
   {
    "duration": 58,
    "start_time": "2022-01-19T20:48:19.882Z"
   },
   {
    "duration": 59,
    "start_time": "2022-01-19T20:50:03.039Z"
   },
   {
    "duration": 260,
    "start_time": "2022-01-19T20:50:42.976Z"
   },
   {
    "duration": 255,
    "start_time": "2022-01-19T20:50:49.845Z"
   },
   {
    "duration": 270,
    "start_time": "2022-01-19T20:50:56.956Z"
   },
   {
    "duration": 279,
    "start_time": "2022-01-19T20:51:05.058Z"
   },
   {
    "duration": 269,
    "start_time": "2022-01-19T20:56:14.798Z"
   },
   {
    "duration": 4,
    "start_time": "2022-01-19T20:56:22.521Z"
   },
   {
    "duration": 248,
    "start_time": "2022-01-19T20:57:40.081Z"
   },
   {
    "duration": 7,
    "start_time": "2022-01-19T20:57:52.948Z"
   },
   {
    "duration": 4,
    "start_time": "2022-01-19T20:58:34.040Z"
   },
   {
    "duration": 58,
    "start_time": "2022-01-19T20:58:58.655Z"
   },
   {
    "duration": 21,
    "start_time": "2022-01-19T20:59:27.735Z"
   },
   {
    "duration": 23,
    "start_time": "2022-01-19T20:59:39.758Z"
   },
   {
    "duration": 33,
    "start_time": "2022-01-19T21:00:09.295Z"
   },
   {
    "duration": 218,
    "start_time": "2022-01-19T21:00:46.982Z"
   },
   {
    "duration": 34,
    "start_time": "2022-01-19T21:00:50.385Z"
   },
   {
    "duration": 69,
    "start_time": "2022-01-19T21:01:08.697Z"
   },
   {
    "duration": 67,
    "start_time": "2022-01-19T21:02:23.420Z"
   },
   {
    "duration": 64,
    "start_time": "2022-01-19T21:02:29.819Z"
   },
   {
    "duration": 75,
    "start_time": "2022-01-19T21:03:50.256Z"
   },
   {
    "duration": 7,
    "start_time": "2022-01-19T21:05:07.685Z"
   },
   {
    "duration": 11,
    "start_time": "2022-01-19T21:05:15.934Z"
   },
   {
    "duration": 13,
    "start_time": "2022-01-19T21:05:27.187Z"
   },
   {
    "duration": 13,
    "start_time": "2022-01-19T21:05:37.457Z"
   },
   {
    "duration": 81,
    "start_time": "2022-01-19T21:06:27.932Z"
   },
   {
    "duration": 85,
    "start_time": "2022-01-19T21:07:05.483Z"
   },
   {
    "duration": 5,
    "start_time": "2022-01-19T21:08:26.207Z"
   },
   {
    "duration": 80,
    "start_time": "2022-01-19T21:09:10.418Z"
   },
   {
    "duration": 82,
    "start_time": "2022-01-19T21:09:41.291Z"
   },
   {
    "duration": 81,
    "start_time": "2022-01-19T21:09:45.567Z"
   },
   {
    "duration": 82,
    "start_time": "2022-01-19T21:10:04.658Z"
   },
   {
    "duration": 457,
    "start_time": "2022-01-19T21:10:31.405Z"
   },
   {
    "duration": 7,
    "start_time": "2022-01-19T21:10:51.663Z"
   },
   {
    "duration": 71,
    "start_time": "2022-01-19T21:10:54.583Z"
   },
   {
    "duration": 15,
    "start_time": "2022-01-19T21:10:54.923Z"
   },
   {
    "duration": 9,
    "start_time": "2022-01-19T21:11:11.585Z"
   },
   {
    "duration": 11,
    "start_time": "2022-01-19T21:11:17.812Z"
   },
   {
    "duration": 70,
    "start_time": "2022-01-19T21:12:35.812Z"
   },
   {
    "duration": 10,
    "start_time": "2022-01-19T21:12:36.856Z"
   },
   {
    "duration": 8,
    "start_time": "2022-01-19T21:13:08.026Z"
   },
   {
    "duration": 217,
    "start_time": "2022-01-19T21:14:16.769Z"
   },
   {
    "duration": 216,
    "start_time": "2022-01-19T21:14:41.264Z"
   },
   {
    "duration": 213,
    "start_time": "2022-01-19T21:14:55.352Z"
   },
   {
    "duration": 225,
    "start_time": "2022-01-19T21:15:00.772Z"
   },
   {
    "duration": 216,
    "start_time": "2022-01-19T21:15:53.591Z"
   },
   {
    "duration": 218,
    "start_time": "2022-01-19T21:16:10.101Z"
   },
   {
    "duration": 18,
    "start_time": "2022-01-19T21:16:22.420Z"
   },
   {
    "duration": 244,
    "start_time": "2022-01-19T21:16:33.448Z"
   },
   {
    "duration": 11,
    "start_time": "2022-01-19T21:16:37.527Z"
   },
   {
    "duration": 13,
    "start_time": "2022-01-19T21:16:45.454Z"
   },
   {
    "duration": 13,
    "start_time": "2022-01-19T21:16:56.870Z"
   },
   {
    "duration": 19,
    "start_time": "2022-01-19T21:17:08.590Z"
   },
   {
    "duration": 381,
    "start_time": "2022-01-19T21:17:18.117Z"
   },
   {
    "duration": 20,
    "start_time": "2022-01-19T21:17:27.798Z"
   },
   {
    "duration": 23,
    "start_time": "2022-01-19T21:18:19.028Z"
   },
   {
    "duration": 28,
    "start_time": "2022-01-19T21:18:35.390Z"
   },
   {
    "duration": 12884,
    "start_time": "2022-01-19T21:20:17.029Z"
   },
   {
    "duration": 29,
    "start_time": "2022-01-19T21:20:45.146Z"
   },
   {
    "duration": 253,
    "start_time": "2022-01-19T21:22:16.317Z"
   },
   {
    "duration": 29,
    "start_time": "2022-01-19T21:22:27.645Z"
   },
   {
    "duration": 29,
    "start_time": "2022-01-19T21:22:41.691Z"
   },
   {
    "duration": 228,
    "start_time": "2022-01-19T21:23:08.973Z"
   },
   {
    "duration": 28,
    "start_time": "2022-01-19T21:25:05.911Z"
   },
   {
    "duration": 27,
    "start_time": "2022-01-19T21:25:11.072Z"
   },
   {
    "duration": 29,
    "start_time": "2022-01-19T21:25:16.361Z"
   },
   {
    "duration": 29,
    "start_time": "2022-01-19T21:25:33.189Z"
   },
   {
    "duration": 29,
    "start_time": "2022-01-19T21:25:46.044Z"
   },
   {
    "duration": 29,
    "start_time": "2022-01-19T21:25:50.475Z"
   },
   {
    "duration": 28,
    "start_time": "2022-01-19T21:25:55.989Z"
   },
   {
    "duration": 27,
    "start_time": "2022-01-19T21:26:06.694Z"
   },
   {
    "duration": 30,
    "start_time": "2022-01-19T21:26:12.222Z"
   },
   {
    "duration": 47,
    "start_time": "2022-01-19T21:26:20.976Z"
   },
   {
    "duration": 40,
    "start_time": "2022-01-19T21:26:25.247Z"
   },
   {
    "duration": 30,
    "start_time": "2022-01-19T21:26:39.980Z"
   },
   {
    "duration": 30,
    "start_time": "2022-01-19T21:27:50.000Z"
   },
   {
    "duration": 29,
    "start_time": "2022-01-19T21:27:57.401Z"
   },
   {
    "duration": 9,
    "start_time": "2022-01-19T21:28:44.208Z"
   },
   {
    "duration": 520,
    "start_time": "2022-01-19T21:29:25.557Z"
   },
   {
    "duration": 409,
    "start_time": "2022-01-19T21:29:26.079Z"
   },
   {
    "duration": 15,
    "start_time": "2022-01-19T21:29:26.490Z"
   },
   {
    "duration": 23,
    "start_time": "2022-01-19T21:29:26.507Z"
   },
   {
    "duration": 8,
    "start_time": "2022-01-19T21:29:26.532Z"
   },
   {
    "duration": 21,
    "start_time": "2022-01-19T21:29:26.541Z"
   },
   {
    "duration": 9,
    "start_time": "2022-01-19T21:29:26.563Z"
   },
   {
    "duration": 30,
    "start_time": "2022-01-19T21:29:26.575Z"
   },
   {
    "duration": 9,
    "start_time": "2022-01-19T21:29:26.607Z"
   },
   {
    "duration": 18,
    "start_time": "2022-01-19T21:29:26.618Z"
   },
   {
    "duration": 10,
    "start_time": "2022-01-19T21:29:26.638Z"
   },
   {
    "duration": 7,
    "start_time": "2022-01-19T21:29:26.650Z"
   },
   {
    "duration": 40,
    "start_time": "2022-01-19T21:29:26.659Z"
   },
   {
    "duration": 7,
    "start_time": "2022-01-19T21:29:26.700Z"
   },
   {
    "duration": 141,
    "start_time": "2022-01-19T21:29:26.708Z"
   },
   {
    "duration": 6,
    "start_time": "2022-01-19T21:29:26.851Z"
   },
   {
    "duration": 103,
    "start_time": "2022-01-19T21:29:26.859Z"
   },
   {
    "duration": 72,
    "start_time": "2022-01-19T21:29:26.963Z"
   },
   {
    "duration": 9,
    "start_time": "2022-01-19T21:29:27.036Z"
   },
   {
    "duration": 31,
    "start_time": "2022-01-19T21:29:27.047Z"
   },
   {
    "duration": 23,
    "start_time": "2022-01-19T21:29:27.080Z"
   },
   {
    "duration": 283,
    "start_time": "2022-01-19T21:32:02.376Z"
   },
   {
    "duration": 6,
    "start_time": "2022-01-19T21:32:18.990Z"
   },
   {
    "duration": 17,
    "start_time": "2022-01-19T21:32:26.919Z"
   },
   {
    "duration": 14,
    "start_time": "2022-01-19T21:32:36.390Z"
   },
   {
    "duration": 22,
    "start_time": "2022-01-19T21:32:45.656Z"
   },
   {
    "duration": 20,
    "start_time": "2022-01-19T21:32:59.351Z"
   },
   {
    "duration": 16,
    "start_time": "2022-01-19T21:33:11.079Z"
   },
   {
    "duration": 78,
    "start_time": "2022-01-19T21:34:30.898Z"
   },
   {
    "duration": 17,
    "start_time": "2022-01-19T21:34:52.769Z"
   },
   {
    "duration": 1424,
    "start_time": "2022-01-19T21:35:43.924Z"
   },
   {
    "duration": 202,
    "start_time": "2022-01-19T21:38:38.352Z"
   },
   {
    "duration": 5,
    "start_time": "2022-01-19T21:38:44.059Z"
   },
   {
    "duration": 10,
    "start_time": "2022-01-19T21:39:17.436Z"
   },
   {
    "duration": 69,
    "start_time": "2022-01-19T21:39:28.165Z"
   },
   {
    "duration": 10,
    "start_time": "2022-01-19T21:39:33.303Z"
   },
   {
    "duration": 70,
    "start_time": "2022-01-19T21:40:41.379Z"
   },
   {
    "duration": 10,
    "start_time": "2022-01-19T21:40:57.976Z"
   },
   {
    "duration": 71,
    "start_time": "2022-01-19T21:41:15.411Z"
   },
   {
    "duration": 11,
    "start_time": "2022-01-19T21:41:17.828Z"
   },
   {
    "duration": 572,
    "start_time": "2022-01-19T21:41:24.598Z"
   },
   {
    "duration": 403,
    "start_time": "2022-01-19T21:41:25.172Z"
   },
   {
    "duration": 13,
    "start_time": "2022-01-19T21:41:25.577Z"
   },
   {
    "duration": 22,
    "start_time": "2022-01-19T21:41:25.592Z"
   },
   {
    "duration": 7,
    "start_time": "2022-01-19T21:41:25.616Z"
   },
   {
    "duration": 20,
    "start_time": "2022-01-19T21:41:25.624Z"
   },
   {
    "duration": 9,
    "start_time": "2022-01-19T21:41:25.646Z"
   },
   {
    "duration": 11,
    "start_time": "2022-01-19T21:41:25.657Z"
   },
   {
    "duration": 9,
    "start_time": "2022-01-19T21:41:25.670Z"
   },
   {
    "duration": 14,
    "start_time": "2022-01-19T21:41:25.699Z"
   },
   {
    "duration": 9,
    "start_time": "2022-01-19T21:41:25.715Z"
   },
   {
    "duration": 10,
    "start_time": "2022-01-19T21:41:25.726Z"
   },
   {
    "duration": 14,
    "start_time": "2022-01-19T21:41:25.738Z"
   },
   {
    "duration": 8,
    "start_time": "2022-01-19T21:41:25.754Z"
   },
   {
    "duration": 164,
    "start_time": "2022-01-19T21:41:25.764Z"
   },
   {
    "duration": 7,
    "start_time": "2022-01-19T21:41:25.930Z"
   },
   {
    "duration": 97,
    "start_time": "2022-01-19T21:41:25.939Z"
   },
   {
    "duration": 12,
    "start_time": "2022-01-19T21:41:26.037Z"
   },
   {
    "duration": 35,
    "start_time": "2022-01-19T21:41:26.051Z"
   },
   {
    "duration": 24,
    "start_time": "2022-01-19T21:41:26.099Z"
   },
   {
    "duration": 45,
    "start_time": "2022-01-19T21:44:20.009Z"
   },
   {
    "duration": 10,
    "start_time": "2022-01-19T21:44:31.360Z"
   },
   {
    "duration": 289,
    "start_time": "2022-01-19T21:47:13.102Z"
   },
   {
    "duration": 74,
    "start_time": "2022-01-19T21:47:32.591Z"
   },
   {
    "duration": 69,
    "start_time": "2022-01-19T21:47:47.315Z"
   },
   {
    "duration": 44,
    "start_time": "2022-01-19T21:48:10.518Z"
   },
   {
    "duration": 44,
    "start_time": "2022-01-19T21:48:31.504Z"
   },
   {
    "duration": 41,
    "start_time": "2022-01-19T21:48:40.095Z"
   },
   {
    "duration": 604,
    "start_time": "2022-01-19T21:48:47.193Z"
   },
   {
    "duration": 409,
    "start_time": "2022-01-19T21:48:47.799Z"
   },
   {
    "duration": 15,
    "start_time": "2022-01-19T21:48:48.210Z"
   },
   {
    "duration": 25,
    "start_time": "2022-01-19T21:48:48.227Z"
   },
   {
    "duration": 8,
    "start_time": "2022-01-19T21:48:48.253Z"
   },
   {
    "duration": 19,
    "start_time": "2022-01-19T21:48:48.263Z"
   },
   {
    "duration": 23,
    "start_time": "2022-01-19T21:48:48.284Z"
   },
   {
    "duration": 10,
    "start_time": "2022-01-19T21:48:48.309Z"
   },
   {
    "duration": 7,
    "start_time": "2022-01-19T21:48:48.321Z"
   },
   {
    "duration": 17,
    "start_time": "2022-01-19T21:48:48.329Z"
   },
   {
    "duration": 8,
    "start_time": "2022-01-19T21:48:48.347Z"
   },
   {
    "duration": 9,
    "start_time": "2022-01-19T21:48:48.356Z"
   },
   {
    "duration": 37,
    "start_time": "2022-01-19T21:48:48.366Z"
   },
   {
    "duration": 8,
    "start_time": "2022-01-19T21:48:48.404Z"
   },
   {
    "duration": 144,
    "start_time": "2022-01-19T21:48:48.413Z"
   },
   {
    "duration": 5,
    "start_time": "2022-01-19T21:48:48.559Z"
   },
   {
    "duration": 60,
    "start_time": "2022-01-19T21:48:48.566Z"
   },
   {
    "duration": 9,
    "start_time": "2022-01-19T21:48:48.627Z"
   },
   {
    "duration": 313,
    "start_time": "2022-01-19T21:48:48.637Z"
   },
   {
    "duration": 55,
    "start_time": "2022-01-19T21:48:48.897Z"
   },
   {
    "duration": 40,
    "start_time": "2022-01-19T21:49:00.529Z"
   },
   {
    "duration": 11,
    "start_time": "2022-01-19T21:49:01.247Z"
   },
   {
    "duration": 221,
    "start_time": "2022-01-19T21:50:03.328Z"
   },
   {
    "duration": 13,
    "start_time": "2022-01-19T21:50:08.614Z"
   },
   {
    "duration": 36,
    "start_time": "2022-01-19T21:50:15.926Z"
   },
   {
    "duration": 13,
    "start_time": "2022-01-19T21:50:16.772Z"
   },
   {
    "duration": 11,
    "start_time": "2022-01-19T21:50:22.403Z"
   },
   {
    "duration": 70,
    "start_time": "2022-01-19T21:51:48.153Z"
   },
   {
    "duration": 28,
    "start_time": "2022-01-19T21:52:00.048Z"
   },
   {
    "duration": 9,
    "start_time": "2022-01-19T21:52:02.135Z"
   },
   {
    "duration": 35,
    "start_time": "2022-01-19T21:52:11.274Z"
   },
   {
    "duration": 210,
    "start_time": "2022-01-19T21:52:55.477Z"
   },
   {
    "duration": 42,
    "start_time": "2022-01-19T21:53:04.155Z"
   },
   {
    "duration": 10,
    "start_time": "2022-01-19T21:53:09.136Z"
   },
   {
    "duration": 42,
    "start_time": "2022-01-19T21:53:56.746Z"
   },
   {
    "duration": 241,
    "start_time": "2022-01-19T21:53:57.556Z"
   },
   {
    "duration": 47,
    "start_time": "2022-01-19T21:54:15.802Z"
   },
   {
    "duration": 208,
    "start_time": "2022-01-19T21:54:16.779Z"
   },
   {
    "duration": 578,
    "start_time": "2022-01-19T21:54:24.703Z"
   },
   {
    "duration": 401,
    "start_time": "2022-01-19T21:54:25.283Z"
   },
   {
    "duration": 14,
    "start_time": "2022-01-19T21:54:25.686Z"
   },
   {
    "duration": 21,
    "start_time": "2022-01-19T21:54:25.702Z"
   },
   {
    "duration": 8,
    "start_time": "2022-01-19T21:54:25.725Z"
   },
   {
    "duration": 20,
    "start_time": "2022-01-19T21:54:25.735Z"
   },
   {
    "duration": 7,
    "start_time": "2022-01-19T21:54:25.757Z"
   },
   {
    "duration": 8,
    "start_time": "2022-01-19T21:54:25.767Z"
   },
   {
    "duration": 7,
    "start_time": "2022-01-19T21:54:25.799Z"
   },
   {
    "duration": 17,
    "start_time": "2022-01-19T21:54:25.807Z"
   },
   {
    "duration": 8,
    "start_time": "2022-01-19T21:54:25.825Z"
   },
   {
    "duration": 11,
    "start_time": "2022-01-19T21:54:25.835Z"
   },
   {
    "duration": 15,
    "start_time": "2022-01-19T21:54:25.847Z"
   },
   {
    "duration": 11,
    "start_time": "2022-01-19T21:54:25.864Z"
   },
   {
    "duration": 159,
    "start_time": "2022-01-19T21:54:25.876Z"
   },
   {
    "duration": 6,
    "start_time": "2022-01-19T21:54:26.037Z"
   },
   {
    "duration": 67,
    "start_time": "2022-01-19T21:54:26.045Z"
   },
   {
    "duration": 473,
    "start_time": "2022-01-19T21:54:26.114Z"
   },
   {
    "duration": 21,
    "start_time": "2022-01-19T21:54:26.568Z"
   },
   {
    "duration": 19,
    "start_time": "2022-01-19T21:54:26.571Z"
   },
   {
    "duration": 40,
    "start_time": "2022-01-19T21:55:16.992Z"
   },
   {
    "duration": 11,
    "start_time": "2022-01-19T21:55:19.172Z"
   },
   {
    "duration": 67,
    "start_time": "2022-01-19T21:55:44.908Z"
   },
   {
    "duration": 11,
    "start_time": "2022-01-19T21:55:45.932Z"
   },
   {
    "duration": 69,
    "start_time": "2022-01-19T21:56:08.850Z"
   },
   {
    "duration": 9,
    "start_time": "2022-01-19T21:56:10.154Z"
   },
   {
    "duration": 72,
    "start_time": "2022-01-19T21:58:25.176Z"
   },
   {
    "duration": 11,
    "start_time": "2022-01-19T21:58:28.673Z"
   },
   {
    "duration": 42,
    "start_time": "2022-01-19T21:58:44.138Z"
   },
   {
    "duration": 11,
    "start_time": "2022-01-19T21:58:44.588Z"
   },
   {
    "duration": 38,
    "start_time": "2022-01-19T21:58:57.602Z"
   },
   {
    "duration": 11,
    "start_time": "2022-01-19T21:58:57.979Z"
   },
   {
    "duration": 34,
    "start_time": "2022-01-19T21:59:07.458Z"
   },
   {
    "duration": 30,
    "start_time": "2022-01-19T21:59:48.947Z"
   },
   {
    "duration": 32,
    "start_time": "2022-01-19T22:00:05.429Z"
   },
   {
    "duration": 25,
    "start_time": "2022-01-19T22:00:13.869Z"
   },
   {
    "duration": 30,
    "start_time": "2022-01-19T22:00:17.912Z"
   },
   {
    "duration": 254,
    "start_time": "2022-01-19T22:00:47.784Z"
   },
   {
    "duration": 4,
    "start_time": "2022-01-19T22:00:50.569Z"
   },
   {
    "duration": 9,
    "start_time": "2022-01-19T22:01:32.878Z"
   },
   {
    "duration": 37,
    "start_time": "2022-01-19T22:01:40.566Z"
   },
   {
    "duration": 10,
    "start_time": "2022-01-19T22:01:41.199Z"
   },
   {
    "duration": 88,
    "start_time": "2022-01-19T22:04:47.375Z"
   },
   {
    "duration": 31,
    "start_time": "2022-01-19T22:04:50.841Z"
   },
   {
    "duration": 261,
    "start_time": "2022-01-19T22:05:00.980Z"
   },
   {
    "duration": 35,
    "start_time": "2022-01-19T22:05:08.949Z"
   },
   {
    "duration": 28,
    "start_time": "2022-01-19T22:06:08.494Z"
   },
   {
    "duration": 9,
    "start_time": "2022-01-19T22:06:09.784Z"
   },
   {
    "duration": 73,
    "start_time": "2022-01-19T22:06:25.449Z"
   },
   {
    "duration": 76,
    "start_time": "2022-01-19T22:06:35.497Z"
   },
   {
    "duration": 9,
    "start_time": "2022-01-19T22:06:38.776Z"
   },
   {
    "duration": 8,
    "start_time": "2022-01-19T22:06:41.323Z"
   },
   {
    "duration": 28,
    "start_time": "2022-01-19T22:06:52.111Z"
   },
   {
    "duration": 76,
    "start_time": "2022-01-19T22:07:06.451Z"
   },
   {
    "duration": 78,
    "start_time": "2022-01-19T22:07:13.961Z"
   },
   {
    "duration": 29,
    "start_time": "2022-01-19T22:07:16.115Z"
   },
   {
    "duration": 28,
    "start_time": "2022-01-19T22:07:38.882Z"
   },
   {
    "duration": 8,
    "start_time": "2022-01-19T22:07:44.856Z"
   },
   {
    "duration": 32,
    "start_time": "2022-01-19T22:08:20.052Z"
   },
   {
    "duration": 9,
    "start_time": "2022-01-19T22:08:21.325Z"
   },
   {
    "duration": 32,
    "start_time": "2022-01-19T22:08:32.475Z"
   },
   {
    "duration": 9,
    "start_time": "2022-01-19T22:08:32.873Z"
   },
   {
    "duration": 46,
    "start_time": "2022-01-19T22:08:48.661Z"
   },
   {
    "duration": 10,
    "start_time": "2022-01-19T22:08:49.655Z"
   },
   {
    "duration": 219,
    "start_time": "2022-01-19T22:09:00.612Z"
   },
   {
    "duration": 13,
    "start_time": "2022-01-19T22:09:06.474Z"
   },
   {
    "duration": 13,
    "start_time": "2022-01-19T22:09:22.440Z"
   },
   {
    "duration": 13,
    "start_time": "2022-01-19T22:09:25.472Z"
   },
   {
    "duration": 10,
    "start_time": "2022-01-19T22:09:31.089Z"
   },
   {
    "duration": 46,
    "start_time": "2022-01-19T22:09:32.862Z"
   },
   {
    "duration": 10,
    "start_time": "2022-01-19T22:09:33.506Z"
   },
   {
    "duration": 46,
    "start_time": "2022-01-19T22:09:47.841Z"
   },
   {
    "duration": 11,
    "start_time": "2022-01-19T22:09:48.391Z"
   },
   {
    "duration": 31,
    "start_time": "2022-01-19T22:10:19.762Z"
   },
   {
    "duration": 10,
    "start_time": "2022-01-19T22:10:20.736Z"
   },
   {
    "duration": 41,
    "start_time": "2022-01-19T22:10:39.906Z"
   },
   {
    "duration": 10,
    "start_time": "2022-01-19T22:10:41.147Z"
   },
   {
    "duration": 80,
    "start_time": "2022-01-19T22:10:54.336Z"
   },
   {
    "duration": 80,
    "start_time": "2022-01-19T22:11:04.036Z"
   },
   {
    "duration": 5707,
    "start_time": "2022-01-19T22:11:21.699Z"
   },
   {
    "duration": -23,
    "start_time": "2022-01-19T22:11:27.431Z"
   },
   {
    "duration": 216,
    "start_time": "2022-01-19T22:15:38.588Z"
   },
   {
    "duration": 257,
    "start_time": "2022-01-19T22:16:17.748Z"
   },
   {
    "duration": 599,
    "start_time": "2022-01-19T22:16:26.498Z"
   },
   {
    "duration": 390,
    "start_time": "2022-01-19T22:16:27.099Z"
   },
   {
    "duration": 13,
    "start_time": "2022-01-19T22:16:27.491Z"
   },
   {
    "duration": 23,
    "start_time": "2022-01-19T22:16:27.506Z"
   },
   {
    "duration": 8,
    "start_time": "2022-01-19T22:16:27.530Z"
   },
   {
    "duration": 18,
    "start_time": "2022-01-19T22:16:27.539Z"
   },
   {
    "duration": 7,
    "start_time": "2022-01-19T22:16:27.558Z"
   },
   {
    "duration": 33,
    "start_time": "2022-01-19T22:16:27.566Z"
   },
   {
    "duration": 7,
    "start_time": "2022-01-19T22:16:27.601Z"
   },
   {
    "duration": 17,
    "start_time": "2022-01-19T22:16:27.610Z"
   },
   {
    "duration": 9,
    "start_time": "2022-01-19T22:16:27.629Z"
   },
   {
    "duration": 7,
    "start_time": "2022-01-19T22:16:27.639Z"
   },
   {
    "duration": 13,
    "start_time": "2022-01-19T22:16:27.648Z"
   },
   {
    "duration": 9,
    "start_time": "2022-01-19T22:16:27.662Z"
   },
   {
    "duration": 170,
    "start_time": "2022-01-19T22:16:27.672Z"
   },
   {
    "duration": 501,
    "start_time": "2022-01-19T22:17:02.227Z"
   },
   {
    "duration": 584,
    "start_time": "2022-01-19T22:17:09.715Z"
   },
   {
    "duration": 401,
    "start_time": "2022-01-19T22:17:10.301Z"
   },
   {
    "duration": 14,
    "start_time": "2022-01-19T22:17:10.704Z"
   },
   {
    "duration": 24,
    "start_time": "2022-01-19T22:17:10.720Z"
   },
   {
    "duration": 8,
    "start_time": "2022-01-19T22:17:10.745Z"
   },
   {
    "duration": 18,
    "start_time": "2022-01-19T22:17:10.755Z"
   },
   {
    "duration": 29,
    "start_time": "2022-01-19T22:17:10.774Z"
   },
   {
    "duration": 10,
    "start_time": "2022-01-19T22:17:10.805Z"
   },
   {
    "duration": 9,
    "start_time": "2022-01-19T22:17:10.817Z"
   },
   {
    "duration": 16,
    "start_time": "2022-01-19T22:17:10.828Z"
   },
   {
    "duration": 8,
    "start_time": "2022-01-19T22:17:10.846Z"
   },
   {
    "duration": 12,
    "start_time": "2022-01-19T22:17:10.855Z"
   },
   {
    "duration": 35,
    "start_time": "2022-01-19T22:17:10.869Z"
   },
   {
    "duration": 8,
    "start_time": "2022-01-19T22:17:10.906Z"
   },
   {
    "duration": 143,
    "start_time": "2022-01-19T22:17:10.916Z"
   },
   {
    "duration": 322,
    "start_time": "2022-01-19T22:17:11.060Z"
   },
   {
    "duration": 36,
    "start_time": "2022-01-19T22:17:11.348Z"
   },
   {
    "duration": 22,
    "start_time": "2022-01-19T22:17:11.363Z"
   },
   {
    "duration": 22,
    "start_time": "2022-01-19T22:17:11.364Z"
   },
   {
    "duration": 14,
    "start_time": "2022-01-19T22:17:11.373Z"
   },
   {
    "duration": 13,
    "start_time": "2022-01-19T22:17:11.375Z"
   },
   {
    "duration": 244,
    "start_time": "2022-01-19T22:17:37.965Z"
   },
   {
    "duration": 218,
    "start_time": "2022-01-19T22:18:28.406Z"
   },
   {
    "duration": 212,
    "start_time": "2022-01-19T22:18:33.529Z"
   },
   {
    "duration": 222,
    "start_time": "2022-01-19T22:18:37.904Z"
   },
   {
    "duration": 231,
    "start_time": "2022-01-19T22:18:51.459Z"
   },
   {
    "duration": 224,
    "start_time": "2022-01-19T22:20:39.402Z"
   },
   {
    "duration": 232,
    "start_time": "2022-01-19T22:22:07.702Z"
   },
   {
    "duration": 460,
    "start_time": "2022-01-19T22:25:06.162Z"
   },
   {
    "duration": 60,
    "start_time": "2022-01-19T22:26:24.645Z"
   },
   {
    "duration": 82,
    "start_time": "2022-01-19T22:27:01.347Z"
   },
   {
    "duration": 88,
    "start_time": "2022-01-19T22:27:06.185Z"
   },
   {
    "duration": 247,
    "start_time": "2022-01-19T22:28:04.906Z"
   },
   {
    "duration": 88,
    "start_time": "2022-01-19T22:28:13.654Z"
   },
   {
    "duration": 63,
    "start_time": "2022-01-19T22:28:34.367Z"
   },
   {
    "duration": 88,
    "start_time": "2022-01-19T22:28:57.246Z"
   },
   {
    "duration": 44,
    "start_time": "2022-01-19T22:29:09.169Z"
   },
   {
    "duration": 597,
    "start_time": "2022-01-19T22:30:17.794Z"
   },
   {
    "duration": 397,
    "start_time": "2022-01-19T22:30:18.394Z"
   },
   {
    "duration": 13,
    "start_time": "2022-01-19T22:30:18.793Z"
   },
   {
    "duration": 25,
    "start_time": "2022-01-19T22:30:18.808Z"
   },
   {
    "duration": 11,
    "start_time": "2022-01-19T22:30:18.834Z"
   },
   {
    "duration": 18,
    "start_time": "2022-01-19T22:30:18.846Z"
   },
   {
    "duration": 7,
    "start_time": "2022-01-19T22:30:18.865Z"
   },
   {
    "duration": 30,
    "start_time": "2022-01-19T22:30:18.874Z"
   },
   {
    "duration": 9,
    "start_time": "2022-01-19T22:30:18.906Z"
   },
   {
    "duration": 17,
    "start_time": "2022-01-19T22:30:18.916Z"
   },
   {
    "duration": 8,
    "start_time": "2022-01-19T22:30:18.934Z"
   },
   {
    "duration": 9,
    "start_time": "2022-01-19T22:30:18.943Z"
   },
   {
    "duration": 11,
    "start_time": "2022-01-19T22:30:18.954Z"
   },
   {
    "duration": 35,
    "start_time": "2022-01-19T22:30:18.967Z"
   },
   {
    "duration": 142,
    "start_time": "2022-01-19T22:30:19.003Z"
   },
   {
    "duration": 59,
    "start_time": "2022-01-19T22:30:19.147Z"
   },
   {
    "duration": 4,
    "start_time": "2022-01-19T22:30:19.207Z"
   },
   {
    "duration": 5863,
    "start_time": "2022-01-19T22:30:19.212Z"
   },
   {
    "duration": -14,
    "start_time": "2022-01-19T22:30:25.091Z"
   },
   {
    "duration": -15,
    "start_time": "2022-01-19T22:30:25.093Z"
   },
   {
    "duration": -17,
    "start_time": "2022-01-19T22:30:25.096Z"
   },
   {
    "duration": 57,
    "start_time": "2022-01-19T22:30:38.206Z"
   },
   {
    "duration": 62,
    "start_time": "2022-01-19T22:30:53.843Z"
   },
   {
    "duration": 62,
    "start_time": "2022-01-19T22:31:14.157Z"
   },
   {
    "duration": 261,
    "start_time": "2022-01-19T22:36:01.230Z"
   },
   {
    "duration": 247,
    "start_time": "2022-01-19T22:36:21.459Z"
   },
   {
    "duration": 216,
    "start_time": "2022-01-19T22:36:34.439Z"
   },
   {
    "duration": 37,
    "start_time": "2022-01-19T22:38:30.685Z"
   },
   {
    "duration": 56,
    "start_time": "2022-01-19T22:38:36.133Z"
   },
   {
    "duration": 39,
    "start_time": "2022-01-19T22:38:40.558Z"
   },
   {
    "duration": 21,
    "start_time": "2022-01-19T22:38:47.266Z"
   },
   {
    "duration": 252,
    "start_time": "2022-01-19T22:38:59.910Z"
   },
   {
    "duration": 44,
    "start_time": "2022-01-19T22:41:02.235Z"
   },
   {
    "duration": 11,
    "start_time": "2022-01-19T22:41:03.403Z"
   },
   {
    "duration": 41,
    "start_time": "2022-01-19T22:42:36.562Z"
   },
   {
    "duration": 9,
    "start_time": "2022-01-19T22:42:38.586Z"
   },
   {
    "duration": 5,
    "start_time": "2022-01-19T22:43:01.268Z"
   },
   {
    "duration": 9,
    "start_time": "2022-01-19T22:43:16.881Z"
   },
   {
    "duration": 11,
    "start_time": "2022-01-19T22:46:01.874Z"
   },
   {
    "duration": 69,
    "start_time": "2022-01-19T22:46:22.906Z"
   },
   {
    "duration": 105,
    "start_time": "2022-01-19T22:48:26.981Z"
   },
   {
    "duration": 11,
    "start_time": "2022-01-19T22:48:28.085Z"
   },
   {
    "duration": 80,
    "start_time": "2022-01-19T22:50:57.798Z"
   },
   {
    "duration": 79,
    "start_time": "2022-01-19T22:51:30.527Z"
   },
   {
    "duration": 72,
    "start_time": "2022-01-19T22:53:06.768Z"
   },
   {
    "duration": 9,
    "start_time": "2022-01-19T22:53:08.557Z"
   },
   {
    "duration": 605,
    "start_time": "2022-01-19T22:53:18.273Z"
   },
   {
    "duration": 394,
    "start_time": "2022-01-19T22:53:18.879Z"
   },
   {
    "duration": 15,
    "start_time": "2022-01-19T22:53:19.275Z"
   },
   {
    "duration": 22,
    "start_time": "2022-01-19T22:53:19.292Z"
   },
   {
    "duration": 8,
    "start_time": "2022-01-19T22:53:19.315Z"
   },
   {
    "duration": 20,
    "start_time": "2022-01-19T22:53:19.325Z"
   },
   {
    "duration": 6,
    "start_time": "2022-01-19T22:53:19.347Z"
   },
   {
    "duration": 12,
    "start_time": "2022-01-19T22:53:19.355Z"
   },
   {
    "duration": 9,
    "start_time": "2022-01-19T22:53:19.369Z"
   },
   {
    "duration": 26,
    "start_time": "2022-01-19T22:53:19.380Z"
   },
   {
    "duration": 11,
    "start_time": "2022-01-19T22:53:19.407Z"
   },
   {
    "duration": 9,
    "start_time": "2022-01-19T22:53:19.419Z"
   },
   {
    "duration": 18,
    "start_time": "2022-01-19T22:53:19.429Z"
   },
   {
    "duration": 17,
    "start_time": "2022-01-19T22:53:19.449Z"
   },
   {
    "duration": 136,
    "start_time": "2022-01-19T22:53:19.468Z"
   },
   {
    "duration": 6,
    "start_time": "2022-01-19T22:53:19.605Z"
   },
   {
    "duration": 72,
    "start_time": "2022-01-19T22:53:19.613Z"
   },
   {
    "duration": 56,
    "start_time": "2022-01-19T22:53:19.632Z"
   },
   {
    "duration": 54,
    "start_time": "2022-01-19T22:53:19.635Z"
   },
   {
    "duration": 54,
    "start_time": "2022-01-19T22:53:19.636Z"
   },
   {
    "duration": 65,
    "start_time": "2022-01-19T22:53:32.862Z"
   },
   {
    "duration": 10,
    "start_time": "2022-01-19T22:53:34.639Z"
   },
   {
    "duration": 10,
    "start_time": "2022-01-19T22:53:47.652Z"
   },
   {
    "duration": 568,
    "start_time": "2022-01-19T22:53:54.514Z"
   },
   {
    "duration": 395,
    "start_time": "2022-01-19T22:53:55.084Z"
   },
   {
    "duration": 14,
    "start_time": "2022-01-19T22:53:55.481Z"
   },
   {
    "duration": 26,
    "start_time": "2022-01-19T22:53:55.497Z"
   },
   {
    "duration": 7,
    "start_time": "2022-01-19T22:53:55.525Z"
   },
   {
    "duration": 17,
    "start_time": "2022-01-19T22:53:55.534Z"
   },
   {
    "duration": 6,
    "start_time": "2022-01-19T22:53:55.553Z"
   },
   {
    "duration": 12,
    "start_time": "2022-01-19T22:53:55.562Z"
   },
   {
    "duration": 27,
    "start_time": "2022-01-19T22:53:55.576Z"
   },
   {
    "duration": 17,
    "start_time": "2022-01-19T22:53:55.605Z"
   },
   {
    "duration": 8,
    "start_time": "2022-01-19T22:53:55.624Z"
   },
   {
    "duration": 7,
    "start_time": "2022-01-19T22:53:55.633Z"
   },
   {
    "duration": 15,
    "start_time": "2022-01-19T22:53:55.642Z"
   },
   {
    "duration": 9,
    "start_time": "2022-01-19T22:53:55.659Z"
   },
   {
    "duration": 160,
    "start_time": "2022-01-19T22:53:55.670Z"
   },
   {
    "duration": 7,
    "start_time": "2022-01-19T22:53:55.831Z"
   },
   {
    "duration": 76,
    "start_time": "2022-01-19T22:53:55.840Z"
   },
   {
    "duration": 10,
    "start_time": "2022-01-19T22:53:55.917Z"
   },
   {
    "duration": 32,
    "start_time": "2022-01-19T22:53:55.928Z"
   },
   {
    "duration": 38,
    "start_time": "2022-01-19T22:53:55.961Z"
   },
   {
    "duration": 53,
    "start_time": "2022-01-19T22:54:14.883Z"
   },
   {
    "duration": 10,
    "start_time": "2022-01-19T22:54:15.721Z"
   },
   {
    "duration": 4,
    "start_time": "2022-01-19T22:54:25.131Z"
   },
   {
    "duration": 49,
    "start_time": "2022-01-19T22:54:37.249Z"
   },
   {
    "duration": 49,
    "start_time": "2022-01-19T22:54:41.222Z"
   },
   {
    "duration": 4,
    "start_time": "2022-01-19T22:54:41.636Z"
   },
   {
    "duration": 49,
    "start_time": "2022-01-19T22:54:56.955Z"
   },
   {
    "duration": 4,
    "start_time": "2022-01-19T22:54:57.454Z"
   },
   {
    "duration": 49,
    "start_time": "2022-01-19T22:55:08.670Z"
   },
   {
    "duration": 4,
    "start_time": "2022-01-19T22:55:09.252Z"
   },
   {
    "duration": 52,
    "start_time": "2022-01-19T22:55:49.740Z"
   },
   {
    "duration": 4,
    "start_time": "2022-01-19T22:55:50.014Z"
   },
   {
    "duration": 53,
    "start_time": "2022-01-19T22:56:01.717Z"
   },
   {
    "duration": 5,
    "start_time": "2022-01-19T22:56:02.127Z"
   },
   {
    "duration": 48,
    "start_time": "2022-01-19T22:58:00.698Z"
   },
   {
    "duration": 275,
    "start_time": "2022-01-19T22:58:01.157Z"
   },
   {
    "duration": 285,
    "start_time": "2022-01-19T22:58:21.985Z"
   },
   {
    "duration": 215,
    "start_time": "2022-01-19T22:58:23.161Z"
   },
   {
    "duration": 45,
    "start_time": "2022-01-19T22:58:43.767Z"
   },
   {
    "duration": 4,
    "start_time": "2022-01-19T22:58:44.740Z"
   },
   {
    "duration": 10,
    "start_time": "2022-01-19T23:00:59.108Z"
   },
   {
    "duration": 29,
    "start_time": "2022-01-19T23:01:11.239Z"
   },
   {
    "duration": 50,
    "start_time": "2022-01-19T23:01:38.506Z"
   },
   {
    "duration": 10,
    "start_time": "2022-01-19T23:01:39.209Z"
   },
   {
    "duration": 59,
    "start_time": "2022-01-19T23:01:59.649Z"
   },
   {
    "duration": 11,
    "start_time": "2022-01-19T23:02:00.011Z"
   },
   {
    "duration": 286,
    "start_time": "2022-01-19T23:02:15.999Z"
   },
   {
    "duration": 10,
    "start_time": "2022-01-19T23:02:16.391Z"
   },
   {
    "duration": 63,
    "start_time": "2022-01-19T23:02:25.028Z"
   },
   {
    "duration": 10,
    "start_time": "2022-01-19T23:02:31.963Z"
   },
   {
    "duration": 15,
    "start_time": "2022-01-19T23:03:22.051Z"
   },
   {
    "duration": 41,
    "start_time": "2022-01-19T23:03:30.040Z"
   },
   {
    "duration": 8,
    "start_time": "2022-01-19T23:03:39.217Z"
   },
   {
    "duration": 6555,
    "start_time": "2022-01-19T23:04:01.244Z"
   },
   {
    "duration": -13,
    "start_time": "2022-01-19T23:04:07.813Z"
   },
   {
    "duration": 76,
    "start_time": "2022-01-19T23:04:31.315Z"
   },
   {
    "duration": 11,
    "start_time": "2022-01-19T23:04:32.529Z"
   },
   {
    "duration": 73,
    "start_time": "2022-01-19T23:04:49.718Z"
   },
   {
    "duration": 11,
    "start_time": "2022-01-19T23:04:50.275Z"
   },
   {
    "duration": 76,
    "start_time": "2022-01-19T23:06:27.928Z"
   },
   {
    "duration": 218,
    "start_time": "2022-01-19T23:06:28.403Z"
   },
   {
    "duration": 71,
    "start_time": "2022-01-19T23:06:37.895Z"
   },
   {
    "duration": 10,
    "start_time": "2022-01-19T23:06:38.581Z"
   },
   {
    "duration": 72,
    "start_time": "2022-01-19T23:06:45.983Z"
   },
   {
    "duration": 213,
    "start_time": "2022-01-19T23:06:49.676Z"
   },
   {
    "duration": 230,
    "start_time": "2022-01-19T23:06:58.252Z"
   },
   {
    "duration": 212,
    "start_time": "2022-01-19T23:07:03.976Z"
   },
   {
    "duration": 230,
    "start_time": "2022-01-19T23:07:30.193Z"
   },
   {
    "duration": 74,
    "start_time": "2022-01-19T23:07:33.191Z"
   },
   {
    "duration": 202,
    "start_time": "2022-01-19T23:07:33.513Z"
   },
   {
    "duration": 73,
    "start_time": "2022-01-19T23:07:45.029Z"
   },
   {
    "duration": 209,
    "start_time": "2022-01-19T23:07:45.491Z"
   },
   {
    "duration": 523,
    "start_time": "2022-01-19T23:07:51.753Z"
   },
   {
    "duration": 391,
    "start_time": "2022-01-19T23:07:52.278Z"
   },
   {
    "duration": 19,
    "start_time": "2022-01-19T23:07:52.672Z"
   },
   {
    "duration": 31,
    "start_time": "2022-01-19T23:07:52.693Z"
   },
   {
    "duration": 8,
    "start_time": "2022-01-19T23:07:52.726Z"
   },
   {
    "duration": 20,
    "start_time": "2022-01-19T23:07:52.736Z"
   },
   {
    "duration": 7,
    "start_time": "2022-01-19T23:07:52.757Z"
   },
   {
    "duration": 33,
    "start_time": "2022-01-19T23:07:52.766Z"
   },
   {
    "duration": 6,
    "start_time": "2022-01-19T23:07:52.801Z"
   },
   {
    "duration": 16,
    "start_time": "2022-01-19T23:07:52.809Z"
   },
   {
    "duration": 8,
    "start_time": "2022-01-19T23:07:52.826Z"
   },
   {
    "duration": 8,
    "start_time": "2022-01-19T23:07:52.836Z"
   },
   {
    "duration": 11,
    "start_time": "2022-01-19T23:07:52.845Z"
   },
   {
    "duration": 7,
    "start_time": "2022-01-19T23:07:52.858Z"
   },
   {
    "duration": 169,
    "start_time": "2022-01-19T23:07:52.866Z"
   },
   {
    "duration": 6,
    "start_time": "2022-01-19T23:07:53.037Z"
   },
   {
    "duration": 89,
    "start_time": "2022-01-19T23:07:53.045Z"
   },
   {
    "duration": 267,
    "start_time": "2022-01-19T23:07:53.136Z"
   },
   {
    "duration": 83,
    "start_time": "2022-01-19T23:07:53.322Z"
   },
   {
    "duration": 67,
    "start_time": "2022-01-19T23:07:53.339Z"
   },
   {
    "duration": 70,
    "start_time": "2022-01-19T23:08:18.048Z"
   },
   {
    "duration": 214,
    "start_time": "2022-01-19T23:08:18.661Z"
   },
   {
    "duration": 10,
    "start_time": "2022-01-19T23:08:24.213Z"
   },
   {
    "duration": 67,
    "start_time": "2022-01-19T23:09:25.840Z"
   },
   {
    "duration": 66,
    "start_time": "2022-01-19T23:10:12.139Z"
   },
   {
    "duration": 298,
    "start_time": "2022-01-19T23:11:26.134Z"
   },
   {
    "duration": 313,
    "start_time": "2022-01-19T23:11:41.658Z"
   },
   {
    "duration": 295,
    "start_time": "2022-01-19T23:11:50.489Z"
   },
   {
    "duration": 10,
    "start_time": "2022-01-19T23:11:51.336Z"
   },
   {
    "duration": 286,
    "start_time": "2022-01-19T23:12:06.276Z"
   },
   {
    "duration": 73,
    "start_time": "2022-01-19T23:12:27.974Z"
   },
   {
    "duration": 9,
    "start_time": "2022-01-19T23:12:29.266Z"
   },
   {
    "duration": 43,
    "start_time": "2022-01-19T23:13:06.244Z"
   },
   {
    "duration": 243,
    "start_time": "2022-01-19T23:14:13.432Z"
   },
   {
    "duration": 44,
    "start_time": "2022-01-19T23:14:25.586Z"
   },
   {
    "duration": 44,
    "start_time": "2022-01-19T23:14:34.258Z"
   },
   {
    "duration": 571,
    "start_time": "2022-01-19T23:14:44.527Z"
   },
   {
    "duration": 389,
    "start_time": "2022-01-19T23:14:45.100Z"
   },
   {
    "duration": 15,
    "start_time": "2022-01-19T23:14:45.493Z"
   },
   {
    "duration": 36,
    "start_time": "2022-01-19T23:14:45.510Z"
   },
   {
    "duration": 8,
    "start_time": "2022-01-19T23:14:45.547Z"
   },
   {
    "duration": 41,
    "start_time": "2022-01-19T23:14:45.557Z"
   },
   {
    "duration": 7,
    "start_time": "2022-01-19T23:14:45.601Z"
   },
   {
    "duration": 12,
    "start_time": "2022-01-19T23:14:45.610Z"
   },
   {
    "duration": 21,
    "start_time": "2022-01-19T23:14:45.624Z"
   },
   {
    "duration": 22,
    "start_time": "2022-01-19T23:14:45.647Z"
   },
   {
    "duration": 25,
    "start_time": "2022-01-19T23:14:45.671Z"
   },
   {
    "duration": 19,
    "start_time": "2022-01-19T23:14:45.697Z"
   },
   {
    "duration": 22,
    "start_time": "2022-01-19T23:14:45.718Z"
   },
   {
    "duration": 23,
    "start_time": "2022-01-19T23:14:45.741Z"
   },
   {
    "duration": 146,
    "start_time": "2022-01-19T23:14:45.766Z"
   },
   {
    "duration": 6,
    "start_time": "2022-01-19T23:14:45.914Z"
   },
   {
    "duration": 69,
    "start_time": "2022-01-19T23:14:45.921Z"
   },
   {
    "duration": 10,
    "start_time": "2022-01-19T23:14:45.992Z"
   },
   {
    "duration": 44,
    "start_time": "2022-01-19T23:14:46.003Z"
   },
   {
    "duration": 20,
    "start_time": "2022-01-19T23:14:46.049Z"
   },
   {
    "duration": 45,
    "start_time": "2022-01-19T23:16:25.294Z"
   },
   {
    "duration": 9,
    "start_time": "2022-01-19T23:16:26.496Z"
   },
   {
    "duration": 47,
    "start_time": "2022-01-19T23:16:53.644Z"
   },
   {
    "duration": 8,
    "start_time": "2022-01-19T23:16:54.152Z"
   },
   {
    "duration": 5,
    "start_time": "2022-01-19T23:17:03.820Z"
   },
   {
    "duration": 9,
    "start_time": "2022-01-19T23:17:12.027Z"
   },
   {
    "duration": 48,
    "start_time": "2022-01-19T23:17:21.953Z"
   },
   {
    "duration": 10,
    "start_time": "2022-01-19T23:17:22.339Z"
   },
   {
    "duration": 49,
    "start_time": "2022-01-19T23:17:42.358Z"
   },
   {
    "duration": 9,
    "start_time": "2022-01-19T23:17:42.825Z"
   },
   {
    "duration": 28,
    "start_time": "2022-01-19T23:17:57.461Z"
   },
   {
    "duration": 22,
    "start_time": "2022-01-19T23:17:59.785Z"
   },
   {
    "duration": 72,
    "start_time": "2022-01-19T23:19:04.615Z"
   },
   {
    "duration": 28,
    "start_time": "2022-01-19T23:19:12.971Z"
   },
   {
    "duration": 567,
    "start_time": "2022-01-19T23:19:27.634Z"
   },
   {
    "duration": 28,
    "start_time": "2022-01-19T23:19:40.686Z"
   },
   {
    "duration": 21,
    "start_time": "2022-01-19T23:20:10.144Z"
   },
   {
    "duration": 20,
    "start_time": "2022-01-19T23:20:15.243Z"
   },
   {
    "duration": 12,
    "start_time": "2022-01-19T23:20:25.865Z"
   },
   {
    "duration": 23,
    "start_time": "2022-01-19T23:20:30.767Z"
   },
   {
    "duration": 769,
    "start_time": "2022-01-20T08:48:16.748Z"
   },
   {
    "duration": 532,
    "start_time": "2022-01-20T08:48:17.520Z"
   },
   {
    "duration": 21,
    "start_time": "2022-01-20T08:48:18.055Z"
   },
   {
    "duration": 38,
    "start_time": "2022-01-20T08:48:18.078Z"
   },
   {
    "duration": 12,
    "start_time": "2022-01-20T08:48:18.119Z"
   },
   {
    "duration": 48,
    "start_time": "2022-01-20T08:48:18.134Z"
   },
   {
    "duration": 12,
    "start_time": "2022-01-20T08:48:18.185Z"
   },
   {
    "duration": 15,
    "start_time": "2022-01-20T08:48:18.202Z"
   },
   {
    "duration": 12,
    "start_time": "2022-01-20T08:48:18.220Z"
   },
   {
    "duration": 48,
    "start_time": "2022-01-20T08:48:18.234Z"
   },
   {
    "duration": 11,
    "start_time": "2022-01-20T08:48:18.285Z"
   },
   {
    "duration": 10,
    "start_time": "2022-01-20T08:48:18.298Z"
   },
   {
    "duration": 17,
    "start_time": "2022-01-20T08:48:18.310Z"
   },
   {
    "duration": 47,
    "start_time": "2022-01-20T08:48:18.329Z"
   },
   {
    "duration": 205,
    "start_time": "2022-01-20T08:48:18.378Z"
   },
   {
    "duration": 7,
    "start_time": "2022-01-20T08:48:18.585Z"
   },
   {
    "duration": 92,
    "start_time": "2022-01-20T08:48:18.594Z"
   },
   {
    "duration": 12,
    "start_time": "2022-01-20T08:48:18.689Z"
   },
   {
    "duration": 41,
    "start_time": "2022-01-20T08:48:18.703Z"
   },
   {
    "duration": 33,
    "start_time": "2022-01-20T08:48:18.770Z"
   },
   {
    "duration": 42,
    "start_time": "2022-01-20T08:57:00.047Z"
   },
   {
    "duration": 41,
    "start_time": "2022-01-20T08:57:19.193Z"
   },
   {
    "duration": 42,
    "start_time": "2022-01-20T08:57:20.352Z"
   },
   {
    "duration": 42,
    "start_time": "2022-01-20T08:57:25.132Z"
   },
   {
    "duration": 12,
    "start_time": "2022-01-20T08:58:15.076Z"
   },
   {
    "duration": 769,
    "start_time": "2022-01-20T08:58:39.019Z"
   },
   {
    "duration": 538,
    "start_time": "2022-01-20T08:58:39.790Z"
   },
   {
    "duration": 21,
    "start_time": "2022-01-20T08:58:40.331Z"
   },
   {
    "duration": 28,
    "start_time": "2022-01-20T08:58:40.355Z"
   },
   {
    "duration": 12,
    "start_time": "2022-01-20T08:58:40.385Z"
   },
   {
    "duration": 24,
    "start_time": "2022-01-20T08:58:40.399Z"
   },
   {
    "duration": 43,
    "start_time": "2022-01-20T08:58:40.426Z"
   },
   {
    "duration": 12,
    "start_time": "2022-01-20T08:58:40.473Z"
   },
   {
    "duration": 10,
    "start_time": "2022-01-20T08:58:40.488Z"
   },
   {
    "duration": 23,
    "start_time": "2022-01-20T08:58:40.500Z"
   },
   {
    "duration": 52,
    "start_time": "2022-01-20T08:58:40.526Z"
   },
   {
    "duration": 11,
    "start_time": "2022-01-20T08:58:40.580Z"
   },
   {
    "duration": 17,
    "start_time": "2022-01-20T08:58:40.594Z"
   },
   {
    "duration": 9,
    "start_time": "2022-01-20T08:58:40.614Z"
   },
   {
    "duration": 224,
    "start_time": "2022-01-20T08:58:40.625Z"
   },
   {
    "duration": 17,
    "start_time": "2022-01-20T08:58:40.852Z"
   },
   {
    "duration": 86,
    "start_time": "2022-01-20T08:58:40.872Z"
   },
   {
    "duration": 22,
    "start_time": "2022-01-20T08:58:40.960Z"
   },
   {
    "duration": 47,
    "start_time": "2022-01-20T08:58:40.985Z"
   },
   {
    "duration": 74,
    "start_time": "2022-01-20T08:58:41.034Z"
   },
   {
    "duration": 12,
    "start_time": "2022-01-20T08:58:41.110Z"
   },
   {
    "duration": 43,
    "start_time": "2022-01-20T09:00:30.110Z"
   },
   {
    "duration": 43,
    "start_time": "2022-01-20T09:00:40.755Z"
   },
   {
    "duration": 42,
    "start_time": "2022-01-20T09:00:47.267Z"
   },
   {
    "duration": 15,
    "start_time": "2022-01-20T09:02:10.476Z"
   },
   {
    "duration": 5,
    "start_time": "2022-01-20T09:02:21.838Z"
   },
   {
    "duration": 6,
    "start_time": "2022-01-20T09:02:53.208Z"
   },
   {
    "duration": 54,
    "start_time": "2022-01-20T09:03:07.703Z"
   },
   {
    "duration": 7,
    "start_time": "2022-01-20T09:03:08.800Z"
   },
   {
    "duration": 892,
    "start_time": "2022-01-20T09:03:15.519Z"
   },
   {
    "duration": 6,
    "start_time": "2022-01-20T09:03:32.782Z"
   },
   {
    "duration": 47,
    "start_time": "2022-01-20T09:04:11.297Z"
   },
   {
    "duration": 13,
    "start_time": "2022-01-20T09:04:22.957Z"
   },
   {
    "duration": 751,
    "start_time": "2022-01-20T09:04:33.882Z"
   },
   {
    "duration": 737,
    "start_time": "2022-01-20T09:04:34.636Z"
   },
   {
    "duration": 31,
    "start_time": "2022-01-20T09:04:35.376Z"
   },
   {
    "duration": 41,
    "start_time": "2022-01-20T09:04:35.410Z"
   },
   {
    "duration": 26,
    "start_time": "2022-01-20T09:04:35.453Z"
   },
   {
    "duration": 24,
    "start_time": "2022-01-20T09:04:35.481Z"
   },
   {
    "duration": 10,
    "start_time": "2022-01-20T09:04:35.507Z"
   },
   {
    "duration": 49,
    "start_time": "2022-01-20T09:04:35.521Z"
   },
   {
    "duration": 10,
    "start_time": "2022-01-20T09:04:35.573Z"
   },
   {
    "duration": 22,
    "start_time": "2022-01-20T09:04:35.585Z"
   },
   {
    "duration": 12,
    "start_time": "2022-01-20T09:04:35.610Z"
   },
   {
    "duration": 51,
    "start_time": "2022-01-20T09:04:35.625Z"
   },
   {
    "duration": 14,
    "start_time": "2022-01-20T09:04:35.679Z"
   },
   {
    "duration": 14,
    "start_time": "2022-01-20T09:04:35.696Z"
   },
   {
    "duration": 240,
    "start_time": "2022-01-20T09:04:35.712Z"
   },
   {
    "duration": 18,
    "start_time": "2022-01-20T09:04:35.955Z"
   },
   {
    "duration": 94,
    "start_time": "2022-01-20T09:04:35.975Z"
   },
   {
    "duration": 14,
    "start_time": "2022-01-20T09:04:36.072Z"
   },
   {
    "duration": 52,
    "start_time": "2022-01-20T09:04:36.089Z"
   },
   {
    "duration": 35,
    "start_time": "2022-01-20T09:04:36.144Z"
   },
   {
    "duration": 50,
    "start_time": "2022-01-20T09:04:36.182Z"
   },
   {
    "duration": 5,
    "start_time": "2022-01-20T09:04:36.234Z"
   },
   {
    "duration": 47,
    "start_time": "2022-01-20T09:05:35.599Z"
   },
   {
    "duration": 13,
    "start_time": "2022-01-20T09:05:36.332Z"
   },
   {
    "duration": 13,
    "start_time": "2022-01-20T09:05:42.847Z"
   },
   {
    "duration": 47,
    "start_time": "2022-01-20T09:05:48.199Z"
   },
   {
    "duration": 13,
    "start_time": "2022-01-20T09:05:49.425Z"
   },
   {
    "duration": 46,
    "start_time": "2022-01-20T09:06:15.511Z"
   },
   {
    "duration": 13,
    "start_time": "2022-01-20T09:06:16.200Z"
   },
   {
    "duration": 46,
    "start_time": "2022-01-20T09:06:26.178Z"
   },
   {
    "duration": 100,
    "start_time": "2022-01-20T09:11:48.050Z"
   },
   {
    "duration": 136,
    "start_time": "2022-01-20T09:12:02.469Z"
   },
   {
    "duration": 91,
    "start_time": "2022-01-20T09:12:28.960Z"
   },
   {
    "duration": 105,
    "start_time": "2022-01-20T09:14:05.770Z"
   },
   {
    "duration": 110,
    "start_time": "2022-01-20T09:14:15.468Z"
   },
   {
    "duration": 59,
    "start_time": "2022-01-20T09:14:41.389Z"
   },
   {
    "duration": 15,
    "start_time": "2022-01-20T09:14:42.226Z"
   },
   {
    "duration": 86,
    "start_time": "2022-01-20T09:14:59.830Z"
   },
   {
    "duration": 15,
    "start_time": "2022-01-20T09:15:00.489Z"
   },
   {
    "duration": 95,
    "start_time": "2022-01-20T09:16:08.493Z"
   },
   {
    "duration": 15,
    "start_time": "2022-01-20T09:16:09.854Z"
   },
   {
    "duration": 403,
    "start_time": "2022-01-20T09:17:46.014Z"
   },
   {
    "duration": 7749,
    "start_time": "2022-01-20T09:17:52.089Z"
   },
   {
    "duration": 55,
    "start_time": "2022-01-20T09:19:34.920Z"
   },
   {
    "duration": 12,
    "start_time": "2022-01-20T09:19:35.657Z"
   },
   {
    "duration": 7730,
    "start_time": "2022-01-20T09:19:44.479Z"
   },
   {
    "duration": 0,
    "start_time": "2022-01-20T09:19:52.212Z"
   },
   {
    "duration": 59,
    "start_time": "2022-01-20T09:20:15.089Z"
   },
   {
    "duration": 14,
    "start_time": "2022-01-20T09:20:16.279Z"
   },
   {
    "duration": 108,
    "start_time": "2022-01-20T09:22:58.353Z"
   },
   {
    "duration": 97,
    "start_time": "2022-01-20T09:23:08.773Z"
   },
   {
    "duration": 57,
    "start_time": "2022-01-20T09:23:13.937Z"
   },
   {
    "duration": 13,
    "start_time": "2022-01-20T09:23:15.058Z"
   },
   {
    "duration": 469,
    "start_time": "2022-01-20T09:28:09.278Z"
   },
   {
    "duration": 392,
    "start_time": "2022-01-20T09:28:34.881Z"
   },
   {
    "duration": 57,
    "start_time": "2022-01-20T09:28:47.632Z"
   },
   {
    "duration": 12,
    "start_time": "2022-01-20T09:28:49.649Z"
   },
   {
    "duration": 98,
    "start_time": "2022-01-20T09:31:13.145Z"
   },
   {
    "duration": 111,
    "start_time": "2022-01-20T09:31:45.069Z"
   },
   {
    "duration": 124,
    "start_time": "2022-01-20T09:32:17.089Z"
   },
   {
    "duration": 63,
    "start_time": "2022-01-20T09:35:53.234Z"
   },
   {
    "duration": 15,
    "start_time": "2022-01-20T09:35:53.906Z"
   },
   {
    "duration": 63,
    "start_time": "2022-01-20T09:37:41.034Z"
   },
   {
    "duration": 13,
    "start_time": "2022-01-20T09:37:41.661Z"
   },
   {
    "duration": 338,
    "start_time": "2022-01-20T09:41:45.535Z"
   },
   {
    "duration": 55,
    "start_time": "2022-01-20T09:42:37.106Z"
   },
   {
    "duration": 13,
    "start_time": "2022-01-20T09:42:49.257Z"
   },
   {
    "duration": 63,
    "start_time": "2022-01-20T09:43:59.957Z"
   },
   {
    "duration": 916,
    "start_time": "2022-01-20T09:44:08.220Z"
   },
   {
    "duration": 549,
    "start_time": "2022-01-20T09:44:09.140Z"
   },
   {
    "duration": 21,
    "start_time": "2022-01-20T09:44:09.692Z"
   },
   {
    "duration": 60,
    "start_time": "2022-01-20T09:44:09.717Z"
   },
   {
    "duration": 13,
    "start_time": "2022-01-20T09:44:09.779Z"
   },
   {
    "duration": 78,
    "start_time": "2022-01-20T09:44:09.794Z"
   },
   {
    "duration": 11,
    "start_time": "2022-01-20T09:44:09.875Z"
   },
   {
    "duration": 19,
    "start_time": "2022-01-20T09:44:09.890Z"
   },
   {
    "duration": 13,
    "start_time": "2022-01-20T09:44:09.912Z"
   },
   {
    "duration": 43,
    "start_time": "2022-01-20T09:44:09.928Z"
   },
   {
    "duration": 12,
    "start_time": "2022-01-20T09:44:09.974Z"
   },
   {
    "duration": 12,
    "start_time": "2022-01-20T09:44:09.988Z"
   },
   {
    "duration": 23,
    "start_time": "2022-01-20T09:44:10.003Z"
   },
   {
    "duration": 14,
    "start_time": "2022-01-20T09:44:10.029Z"
   },
   {
    "duration": 320,
    "start_time": "2022-01-20T09:44:10.070Z"
   },
   {
    "duration": 9,
    "start_time": "2022-01-20T09:44:10.392Z"
   },
   {
    "duration": 90,
    "start_time": "2022-01-20T09:44:10.404Z"
   },
   {
    "duration": 13,
    "start_time": "2022-01-20T09:44:10.496Z"
   },
   {
    "duration": 76,
    "start_time": "2022-01-20T09:44:10.511Z"
   },
   {
    "duration": 11,
    "start_time": "2022-01-20T09:44:10.589Z"
   },
   {
    "duration": 51,
    "start_time": "2022-01-20T09:44:10.602Z"
   },
   {
    "duration": 6,
    "start_time": "2022-01-20T09:44:10.670Z"
   },
   {
    "duration": 50,
    "start_time": "2022-01-20T09:44:32.292Z"
   },
   {
    "duration": 13,
    "start_time": "2022-01-20T09:44:33.110Z"
   },
   {
    "duration": 76,
    "start_time": "2022-01-20T09:44:56.101Z"
   },
   {
    "duration": 15,
    "start_time": "2022-01-20T09:44:56.981Z"
   },
   {
    "duration": 60,
    "start_time": "2022-01-20T09:45:00.360Z"
   },
   {
    "duration": 16,
    "start_time": "2022-01-20T09:45:02.739Z"
   },
   {
    "duration": 49,
    "start_time": "2022-01-20T09:46:23.729Z"
   },
   {
    "duration": 7,
    "start_time": "2022-01-20T09:46:40.347Z"
   },
   {
    "duration": 5,
    "start_time": "2022-01-20T09:47:07.706Z"
   },
   {
    "duration": 58,
    "start_time": "2022-01-20T09:47:08.215Z"
   },
   {
    "duration": 11,
    "start_time": "2022-01-20T09:47:08.829Z"
   },
   {
    "duration": 31,
    "start_time": "2022-01-20T09:50:43.799Z"
   },
   {
    "duration": 14,
    "start_time": "2022-01-20T09:50:44.610Z"
   },
   {
    "duration": 49,
    "start_time": "2022-01-20T09:51:15.851Z"
   },
   {
    "duration": 6,
    "start_time": "2022-01-20T09:51:17.895Z"
   },
   {
    "duration": 24,
    "start_time": "2022-01-20T09:51:23.698Z"
   },
   {
    "duration": 437,
    "start_time": "2022-01-20T09:52:05.028Z"
   },
   {
    "duration": 25,
    "start_time": "2022-01-20T09:52:05.514Z"
   },
   {
    "duration": 35,
    "start_time": "2022-01-20T09:52:25.099Z"
   },
   {
    "duration": 945,
    "start_time": "2022-01-20T09:53:22.727Z"
   },
   {
    "duration": 686,
    "start_time": "2022-01-20T09:53:23.676Z"
   },
   {
    "duration": 24,
    "start_time": "2022-01-20T09:53:24.366Z"
   },
   {
    "duration": 29,
    "start_time": "2022-01-20T09:53:24.394Z"
   },
   {
    "duration": 13,
    "start_time": "2022-01-20T09:53:24.425Z"
   },
   {
    "duration": 34,
    "start_time": "2022-01-20T09:53:24.471Z"
   },
   {
    "duration": 12,
    "start_time": "2022-01-20T09:53:24.508Z"
   },
   {
    "duration": 49,
    "start_time": "2022-01-20T09:53:24.525Z"
   },
   {
    "duration": 11,
    "start_time": "2022-01-20T09:53:24.579Z"
   },
   {
    "duration": 21,
    "start_time": "2022-01-20T09:53:24.593Z"
   },
   {
    "duration": 15,
    "start_time": "2022-01-20T09:53:24.617Z"
   },
   {
    "duration": 12,
    "start_time": "2022-01-20T09:53:24.670Z"
   },
   {
    "duration": 18,
    "start_time": "2022-01-20T09:53:24.684Z"
   },
   {
    "duration": 10,
    "start_time": "2022-01-20T09:53:24.704Z"
   },
   {
    "duration": 290,
    "start_time": "2022-01-20T09:53:24.717Z"
   },
   {
    "duration": 8,
    "start_time": "2022-01-20T09:53:25.010Z"
   },
   {
    "duration": 102,
    "start_time": "2022-01-20T09:53:25.021Z"
   },
   {
    "duration": 15,
    "start_time": "2022-01-20T09:53:25.126Z"
   },
   {
    "duration": 59,
    "start_time": "2022-01-20T09:53:25.144Z"
   },
   {
    "duration": 19,
    "start_time": "2022-01-20T09:53:25.206Z"
   },
   {
    "duration": 69,
    "start_time": "2022-01-20T09:53:25.227Z"
   },
   {
    "duration": 24,
    "start_time": "2022-01-20T09:53:25.299Z"
   },
   {
    "duration": 48,
    "start_time": "2022-01-20T09:55:28.392Z"
   },
   {
    "duration": 27,
    "start_time": "2022-01-20T09:55:28.876Z"
   },
   {
    "duration": 33,
    "start_time": "2022-01-20T09:55:42.415Z"
   },
   {
    "duration": 21,
    "start_time": "2022-01-20T09:55:43.910Z"
   },
   {
    "duration": 23,
    "start_time": "2022-01-20T09:55:49.061Z"
   },
   {
    "duration": 434,
    "start_time": "2022-01-20T09:55:58.986Z"
   },
   {
    "duration": 22,
    "start_time": "2022-01-20T09:55:59.850Z"
   },
   {
    "duration": 36,
    "start_time": "2022-01-20T09:56:32.335Z"
   },
   {
    "duration": 31,
    "start_time": "2022-01-20T09:56:32.906Z"
   },
   {
    "duration": 58,
    "start_time": "2022-01-20T09:56:50.032Z"
   },
   {
    "duration": 12,
    "start_time": "2022-01-20T09:56:50.587Z"
   },
   {
    "duration": 32,
    "start_time": "2022-01-20T09:56:59.322Z"
   },
   {
    "duration": 15,
    "start_time": "2022-01-20T09:56:59.797Z"
   },
   {
    "duration": 411,
    "start_time": "2022-01-20T09:57:11.219Z"
   },
   {
    "duration": 14,
    "start_time": "2022-01-20T09:57:11.647Z"
   },
   {
    "duration": 30,
    "start_time": "2022-01-20T09:57:20.640Z"
   },
   {
    "duration": 16,
    "start_time": "2022-01-20T09:57:21.216Z"
   },
   {
    "duration": 368,
    "start_time": "2022-01-20T09:57:32.187Z"
   },
   {
    "duration": 16,
    "start_time": "2022-01-20T09:57:34.525Z"
   },
   {
    "duration": 369,
    "start_time": "2022-01-20T09:57:38.627Z"
   },
   {
    "duration": 29,
    "start_time": "2022-01-20T09:57:47.802Z"
   },
   {
    "duration": 17,
    "start_time": "2022-01-20T09:57:48.942Z"
   },
   {
    "duration": 767,
    "start_time": "2022-01-20T09:58:12.455Z"
   },
   {
    "duration": 533,
    "start_time": "2022-01-20T09:58:13.225Z"
   },
   {
    "duration": 22,
    "start_time": "2022-01-20T09:58:13.761Z"
   },
   {
    "duration": 30,
    "start_time": "2022-01-20T09:58:13.785Z"
   },
   {
    "duration": 12,
    "start_time": "2022-01-20T09:58:13.817Z"
   },
   {
    "duration": 49,
    "start_time": "2022-01-20T09:58:13.831Z"
   },
   {
    "duration": 9,
    "start_time": "2022-01-20T09:58:13.883Z"
   },
   {
    "duration": 22,
    "start_time": "2022-01-20T09:58:13.894Z"
   },
   {
    "duration": 12,
    "start_time": "2022-01-20T09:58:13.921Z"
   },
   {
    "duration": 56,
    "start_time": "2022-01-20T09:58:13.936Z"
   },
   {
    "duration": 16,
    "start_time": "2022-01-20T09:58:13.995Z"
   },
   {
    "duration": 11,
    "start_time": "2022-01-20T09:58:14.013Z"
   },
   {
    "duration": 17,
    "start_time": "2022-01-20T09:58:14.026Z"
   },
   {
    "duration": 30,
    "start_time": "2022-01-20T09:58:14.045Z"
   },
   {
    "duration": 207,
    "start_time": "2022-01-20T09:58:14.078Z"
   },
   {
    "duration": 9,
    "start_time": "2022-01-20T09:58:14.288Z"
   },
   {
    "duration": 89,
    "start_time": "2022-01-20T09:58:14.299Z"
   },
   {
    "duration": 11,
    "start_time": "2022-01-20T09:58:14.391Z"
   },
   {
    "duration": 32,
    "start_time": "2022-01-20T09:58:14.404Z"
   },
   {
    "duration": 33,
    "start_time": "2022-01-20T09:58:14.439Z"
   },
   {
    "duration": 38,
    "start_time": "2022-01-20T09:58:14.475Z"
   },
   {
    "duration": 15,
    "start_time": "2022-01-20T09:58:14.516Z"
   },
   {
    "duration": 36,
    "start_time": "2022-01-20T09:58:48.877Z"
   },
   {
    "duration": 17,
    "start_time": "2022-01-20T09:58:49.498Z"
   },
   {
    "duration": 776,
    "start_time": "2022-01-20T09:58:58.664Z"
   },
   {
    "duration": 525,
    "start_time": "2022-01-20T09:58:59.443Z"
   },
   {
    "duration": 21,
    "start_time": "2022-01-20T09:58:59.971Z"
   },
   {
    "duration": 27,
    "start_time": "2022-01-20T09:58:59.995Z"
   },
   {
    "duration": 11,
    "start_time": "2022-01-20T09:59:00.025Z"
   },
   {
    "duration": 23,
    "start_time": "2022-01-20T09:59:00.070Z"
   },
   {
    "duration": 10,
    "start_time": "2022-01-20T09:59:00.095Z"
   },
   {
    "duration": 24,
    "start_time": "2022-01-20T09:59:00.109Z"
   },
   {
    "duration": 33,
    "start_time": "2022-01-20T09:59:00.136Z"
   },
   {
    "duration": 22,
    "start_time": "2022-01-20T09:59:00.171Z"
   },
   {
    "duration": 17,
    "start_time": "2022-01-20T09:59:00.195Z"
   },
   {
    "duration": 12,
    "start_time": "2022-01-20T09:59:00.214Z"
   },
   {
    "duration": 44,
    "start_time": "2022-01-20T09:59:00.229Z"
   },
   {
    "duration": 11,
    "start_time": "2022-01-20T09:59:00.276Z"
   },
   {
    "duration": 213,
    "start_time": "2022-01-20T09:59:00.290Z"
   },
   {
    "duration": 7,
    "start_time": "2022-01-20T09:59:00.505Z"
   },
   {
    "duration": 87,
    "start_time": "2022-01-20T09:59:00.514Z"
   },
   {
    "duration": 11,
    "start_time": "2022-01-20T09:59:00.603Z"
   },
   {
    "duration": 45,
    "start_time": "2022-01-20T09:59:00.617Z"
   },
   {
    "duration": 16,
    "start_time": "2022-01-20T09:59:00.664Z"
   },
   {
    "duration": 38,
    "start_time": "2022-01-20T09:59:00.682Z"
   },
   {
    "duration": 18,
    "start_time": "2022-01-20T09:59:00.722Z"
   },
   {
    "duration": 59,
    "start_time": "2022-01-20T10:01:21.133Z"
   },
   {
    "duration": 12,
    "start_time": "2022-01-20T10:01:21.632Z"
   },
   {
    "duration": 57,
    "start_time": "2022-01-20T10:02:03.848Z"
   },
   {
    "duration": 12,
    "start_time": "2022-01-20T10:02:04.470Z"
   },
   {
    "duration": 755,
    "start_time": "2022-01-20T10:03:25.685Z"
   },
   {
    "duration": 530,
    "start_time": "2022-01-20T10:03:26.443Z"
   },
   {
    "duration": 21,
    "start_time": "2022-01-20T10:03:26.976Z"
   },
   {
    "duration": 29,
    "start_time": "2022-01-20T10:03:27.001Z"
   },
   {
    "duration": 43,
    "start_time": "2022-01-20T10:03:27.033Z"
   },
   {
    "duration": 24,
    "start_time": "2022-01-20T10:03:27.079Z"
   },
   {
    "duration": 12,
    "start_time": "2022-01-20T10:03:27.106Z"
   },
   {
    "duration": 49,
    "start_time": "2022-01-20T10:03:27.123Z"
   },
   {
    "duration": 12,
    "start_time": "2022-01-20T10:03:27.176Z"
   },
   {
    "duration": 21,
    "start_time": "2022-01-20T10:03:27.191Z"
   },
   {
    "duration": 11,
    "start_time": "2022-01-20T10:03:27.215Z"
   },
   {
    "duration": 8,
    "start_time": "2022-01-20T10:03:27.270Z"
   },
   {
    "duration": 21,
    "start_time": "2022-01-20T10:03:27.281Z"
   },
   {
    "duration": 13,
    "start_time": "2022-01-20T10:03:27.304Z"
   },
   {
    "duration": 215,
    "start_time": "2022-01-20T10:03:27.320Z"
   },
   {
    "duration": 7,
    "start_time": "2022-01-20T10:03:27.538Z"
   },
   {
    "duration": 93,
    "start_time": "2022-01-20T10:03:27.547Z"
   },
   {
    "duration": 12,
    "start_time": "2022-01-20T10:03:27.642Z"
   },
   {
    "duration": 41,
    "start_time": "2022-01-20T10:03:27.656Z"
   },
   {
    "duration": 13,
    "start_time": "2022-01-20T10:03:27.699Z"
   },
   {
    "duration": 63,
    "start_time": "2022-01-20T10:03:27.715Z"
   },
   {
    "duration": 16,
    "start_time": "2022-01-20T10:03:27.780Z"
   },
   {
    "duration": 15,
    "start_time": "2022-01-20T10:04:24.340Z"
   },
   {
    "duration": 14,
    "start_time": "2022-01-20T10:04:38.228Z"
   },
   {
    "duration": 14,
    "start_time": "2022-01-20T10:04:41.911Z"
   },
   {
    "duration": 6,
    "start_time": "2022-01-20T10:06:09.826Z"
   },
   {
    "duration": 31,
    "start_time": "2022-01-20T10:06:16.749Z"
   },
   {
    "duration": 14,
    "start_time": "2022-01-20T10:17:39.137Z"
   },
   {
    "duration": 775,
    "start_time": "2022-01-20T10:17:47.228Z"
   },
   {
    "duration": 559,
    "start_time": "2022-01-20T10:17:48.006Z"
   },
   {
    "duration": 21,
    "start_time": "2022-01-20T10:17:48.568Z"
   },
   {
    "duration": 30,
    "start_time": "2022-01-20T10:17:48.592Z"
   },
   {
    "duration": 11,
    "start_time": "2022-01-20T10:17:48.625Z"
   },
   {
    "duration": 50,
    "start_time": "2022-01-20T10:17:48.639Z"
   },
   {
    "duration": 11,
    "start_time": "2022-01-20T10:17:48.691Z"
   },
   {
    "duration": 14,
    "start_time": "2022-01-20T10:17:48.705Z"
   },
   {
    "duration": 13,
    "start_time": "2022-01-20T10:17:48.722Z"
   },
   {
    "duration": 49,
    "start_time": "2022-01-20T10:17:48.737Z"
   },
   {
    "duration": 12,
    "start_time": "2022-01-20T10:17:48.788Z"
   },
   {
    "duration": 8,
    "start_time": "2022-01-20T10:17:48.802Z"
   },
   {
    "duration": 19,
    "start_time": "2022-01-20T10:17:48.813Z"
   },
   {
    "duration": 41,
    "start_time": "2022-01-20T10:17:48.835Z"
   },
   {
    "duration": 213,
    "start_time": "2022-01-20T10:17:48.878Z"
   },
   {
    "duration": 9,
    "start_time": "2022-01-20T10:17:49.094Z"
   },
   {
    "duration": 98,
    "start_time": "2022-01-20T10:17:49.108Z"
   },
   {
    "duration": 11,
    "start_time": "2022-01-20T10:17:49.209Z"
   },
   {
    "duration": 49,
    "start_time": "2022-01-20T10:17:49.222Z"
   },
   {
    "duration": 13,
    "start_time": "2022-01-20T10:17:49.274Z"
   },
   {
    "duration": 40,
    "start_time": "2022-01-20T10:17:49.290Z"
   },
   {
    "duration": 40,
    "start_time": "2022-01-20T10:17:49.334Z"
   },
   {
    "duration": 5,
    "start_time": "2022-01-20T10:17:49.377Z"
   },
   {
    "duration": 16,
    "start_time": "2022-01-20T10:17:49.384Z"
   },
   {
    "duration": 69,
    "start_time": "2022-01-20T10:41:00.750Z"
   },
   {
    "duration": 14,
    "start_time": "2022-01-20T10:41:02.077Z"
   },
   {
    "duration": 68,
    "start_time": "2022-01-20T10:45:10.390Z"
   },
   {
    "duration": 14,
    "start_time": "2022-01-20T10:45:11.892Z"
   },
   {
    "duration": 6,
    "start_time": "2022-01-20T10:50:57.001Z"
   },
   {
    "duration": 14,
    "start_time": "2022-01-20T10:50:57.605Z"
   },
   {
    "duration": 35,
    "start_time": "2022-01-20T10:51:14.508Z"
   },
   {
    "duration": 16,
    "start_time": "2022-01-20T10:51:14.938Z"
   },
   {
    "duration": 7925,
    "start_time": "2022-01-20T10:51:15.676Z"
   },
   {
    "duration": 25,
    "start_time": "2022-01-20T10:51:23.579Z"
   },
   {
    "duration": 786,
    "start_time": "2022-01-20T10:51:50.648Z"
   },
   {
    "duration": 544,
    "start_time": "2022-01-20T10:51:51.437Z"
   },
   {
    "duration": 24,
    "start_time": "2022-01-20T10:51:51.985Z"
   },
   {
    "duration": 32,
    "start_time": "2022-01-20T10:51:52.012Z"
   },
   {
    "duration": 14,
    "start_time": "2022-01-20T10:51:52.070Z"
   },
   {
    "duration": 28,
    "start_time": "2022-01-20T10:51:52.087Z"
   },
   {
    "duration": 12,
    "start_time": "2022-01-20T10:51:52.118Z"
   },
   {
    "duration": 46,
    "start_time": "2022-01-20T10:51:52.135Z"
   },
   {
    "duration": 16,
    "start_time": "2022-01-20T10:51:52.185Z"
   },
   {
    "duration": 22,
    "start_time": "2022-01-20T10:51:52.204Z"
   },
   {
    "duration": 47,
    "start_time": "2022-01-20T10:51:52.229Z"
   },
   {
    "duration": 11,
    "start_time": "2022-01-20T10:51:52.279Z"
   },
   {
    "duration": 18,
    "start_time": "2022-01-20T10:51:52.293Z"
   },
   {
    "duration": 13,
    "start_time": "2022-01-20T10:51:52.313Z"
   },
   {
    "duration": 237,
    "start_time": "2022-01-20T10:51:52.328Z"
   },
   {
    "duration": 9,
    "start_time": "2022-01-20T10:51:52.567Z"
   },
   {
    "duration": 75,
    "start_time": "2022-01-20T10:51:52.578Z"
   },
   {
    "duration": 24,
    "start_time": "2022-01-20T10:51:52.655Z"
   },
   {
    "duration": 36,
    "start_time": "2022-01-20T10:51:52.681Z"
   },
   {
    "duration": 13,
    "start_time": "2022-01-20T10:51:52.719Z"
   },
   {
    "duration": 68,
    "start_time": "2022-01-20T10:51:52.734Z"
   },
   {
    "duration": 14,
    "start_time": "2022-01-20T10:51:52.805Z"
   },
   {
    "duration": 6,
    "start_time": "2022-01-20T10:51:52.823Z"
   },
   {
    "duration": 46,
    "start_time": "2022-01-20T10:51:52.831Z"
   },
   {
    "duration": 6,
    "start_time": "2022-01-20T10:53:36.842Z"
   },
   {
    "duration": 16,
    "start_time": "2022-01-20T10:53:38.978Z"
   },
   {
    "duration": 5,
    "start_time": "2022-01-20T10:55:10.842Z"
   },
   {
    "duration": 15,
    "start_time": "2022-01-20T10:55:11.527Z"
   },
   {
    "duration": 66,
    "start_time": "2022-01-20T10:56:55.368Z"
   },
   {
    "duration": 16,
    "start_time": "2022-01-20T10:56:55.918Z"
   },
   {
    "duration": 36,
    "start_time": "2022-01-20T10:56:59.789Z"
   },
   {
    "duration": 17,
    "start_time": "2022-01-20T10:57:00.228Z"
   },
   {
    "duration": 995,
    "start_time": "2022-01-20T10:57:12.769Z"
   },
   {
    "duration": 742,
    "start_time": "2022-01-20T10:57:13.768Z"
   },
   {
    "duration": 31,
    "start_time": "2022-01-20T10:57:14.514Z"
   },
   {
    "duration": 43,
    "start_time": "2022-01-20T10:57:14.549Z"
   },
   {
    "duration": 12,
    "start_time": "2022-01-20T10:57:14.594Z"
   },
   {
    "duration": 29,
    "start_time": "2022-01-20T10:57:14.608Z"
   },
   {
    "duration": 32,
    "start_time": "2022-01-20T10:57:14.640Z"
   },
   {
    "duration": 16,
    "start_time": "2022-01-20T10:57:14.677Z"
   },
   {
    "duration": 14,
    "start_time": "2022-01-20T10:57:14.696Z"
   },
   {
    "duration": 63,
    "start_time": "2022-01-20T10:57:14.713Z"
   },
   {
    "duration": 17,
    "start_time": "2022-01-20T10:57:14.779Z"
   },
   {
    "duration": 9,
    "start_time": "2022-01-20T10:57:14.799Z"
   },
   {
    "duration": 14,
    "start_time": "2022-01-20T10:57:14.810Z"
   },
   {
    "duration": 45,
    "start_time": "2022-01-20T10:57:14.827Z"
   },
   {
    "duration": 218,
    "start_time": "2022-01-20T10:57:14.874Z"
   },
   {
    "duration": 8,
    "start_time": "2022-01-20T10:57:15.094Z"
   },
   {
    "duration": 93,
    "start_time": "2022-01-20T10:57:15.104Z"
   },
   {
    "duration": 9,
    "start_time": "2022-01-20T10:57:15.200Z"
   },
   {
    "duration": 33,
    "start_time": "2022-01-20T10:57:15.212Z"
   },
   {
    "duration": 28,
    "start_time": "2022-01-20T10:57:15.247Z"
   },
   {
    "duration": 38,
    "start_time": "2022-01-20T10:57:15.278Z"
   },
   {
    "duration": 14,
    "start_time": "2022-01-20T10:57:15.319Z"
   },
   {
    "duration": 70,
    "start_time": "2022-01-20T10:57:15.371Z"
   },
   {
    "duration": 30,
    "start_time": "2022-01-20T10:57:15.443Z"
   },
   {
    "duration": 10,
    "start_time": "2022-01-20T10:59:39.566Z"
   },
   {
    "duration": 16,
    "start_time": "2022-01-20T10:59:43.880Z"
   },
   {
    "duration": 44,
    "start_time": "2022-01-20T11:03:14.399Z"
   },
   {
    "duration": 424,
    "start_time": "2022-01-20T11:03:40.052Z"
   },
   {
    "duration": 382,
    "start_time": "2022-01-20T11:04:27.110Z"
   },
   {
    "duration": 338,
    "start_time": "2022-01-20T11:05:16.926Z"
   },
   {
    "duration": 6,
    "start_time": "2022-01-20T11:06:19.852Z"
   },
   {
    "duration": 6,
    "start_time": "2022-01-20T11:06:25.530Z"
   },
   {
    "duration": 10,
    "start_time": "2022-01-20T11:06:28.100Z"
   },
   {
    "duration": 18,
    "start_time": "2022-01-20T11:06:36.253Z"
   },
   {
    "duration": 16,
    "start_time": "2022-01-20T11:06:54.880Z"
   },
   {
    "duration": 39,
    "start_time": "2022-01-20T11:07:30.233Z"
   },
   {
    "duration": 334,
    "start_time": "2022-01-20T11:08:03.697Z"
   },
   {
    "duration": 41,
    "start_time": "2022-01-20T11:09:55.417Z"
   },
   {
    "duration": 13,
    "start_time": "2022-01-20T11:10:20.668Z"
   },
   {
    "duration": 311,
    "start_time": "2022-01-20T11:10:32.660Z"
   },
   {
    "duration": 35,
    "start_time": "2022-01-20T11:10:39.428Z"
   },
   {
    "duration": 286,
    "start_time": "2022-01-20T11:10:57.056Z"
   },
   {
    "duration": 18,
    "start_time": "2022-01-20T11:11:01.400Z"
   },
   {
    "duration": 36,
    "start_time": "2022-01-20T11:11:15.671Z"
   },
   {
    "duration": 7,
    "start_time": "2022-01-20T11:11:19.282Z"
   },
   {
    "duration": 40,
    "start_time": "2022-01-20T11:11:24.101Z"
   },
   {
    "duration": 759,
    "start_time": "2022-01-20T11:13:34.985Z"
   },
   {
    "duration": 565,
    "start_time": "2022-01-20T11:13:35.748Z"
   },
   {
    "duration": 22,
    "start_time": "2022-01-20T11:13:36.316Z"
   },
   {
    "duration": 34,
    "start_time": "2022-01-20T11:13:36.340Z"
   },
   {
    "duration": 12,
    "start_time": "2022-01-20T11:13:36.377Z"
   },
   {
    "duration": 27,
    "start_time": "2022-01-20T11:13:36.392Z"
   },
   {
    "duration": 11,
    "start_time": "2022-01-20T11:13:36.421Z"
   },
   {
    "duration": 40,
    "start_time": "2022-01-20T11:13:36.435Z"
   },
   {
    "duration": 12,
    "start_time": "2022-01-20T11:13:36.478Z"
   },
   {
    "duration": 24,
    "start_time": "2022-01-20T11:13:36.492Z"
   },
   {
    "duration": 14,
    "start_time": "2022-01-20T11:13:36.519Z"
   },
   {
    "duration": 42,
    "start_time": "2022-01-20T11:13:36.535Z"
   },
   {
    "duration": 20,
    "start_time": "2022-01-20T11:13:36.579Z"
   },
   {
    "duration": 13,
    "start_time": "2022-01-20T11:13:36.601Z"
   },
   {
    "duration": 492,
    "start_time": "2022-01-20T11:13:36.617Z"
   },
   {
    "duration": 136,
    "start_time": "2022-01-20T11:13:36.976Z"
   },
   {
    "duration": 135,
    "start_time": "2022-01-20T11:13:36.978Z"
   },
   {
    "duration": 41,
    "start_time": "2022-01-20T11:13:37.074Z"
   },
   {
    "duration": 39,
    "start_time": "2022-01-20T11:13:37.077Z"
   },
   {
    "duration": 38,
    "start_time": "2022-01-20T11:13:37.080Z"
   },
   {
    "duration": 38,
    "start_time": "2022-01-20T11:13:37.081Z"
   },
   {
    "duration": 37,
    "start_time": "2022-01-20T11:13:37.083Z"
   },
   {
    "duration": 34,
    "start_time": "2022-01-20T11:13:37.088Z"
   },
   {
    "duration": 25,
    "start_time": "2022-01-20T11:13:37.098Z"
   },
   {
    "duration": 25,
    "start_time": "2022-01-20T11:13:37.100Z"
   },
   {
    "duration": 22,
    "start_time": "2022-01-20T11:13:37.104Z"
   },
   {
    "duration": 717,
    "start_time": "2022-01-20T11:15:17.113Z"
   },
   {
    "duration": 544,
    "start_time": "2022-01-20T11:15:17.833Z"
   },
   {
    "duration": 23,
    "start_time": "2022-01-20T11:15:18.379Z"
   },
   {
    "duration": 29,
    "start_time": "2022-01-20T11:15:18.405Z"
   },
   {
    "duration": 12,
    "start_time": "2022-01-20T11:15:18.436Z"
   },
   {
    "duration": 23,
    "start_time": "2022-01-20T11:15:18.470Z"
   },
   {
    "duration": 10,
    "start_time": "2022-01-20T11:15:18.495Z"
   },
   {
    "duration": 13,
    "start_time": "2022-01-20T11:15:18.509Z"
   },
   {
    "duration": 47,
    "start_time": "2022-01-20T11:15:18.525Z"
   },
   {
    "duration": 20,
    "start_time": "2022-01-20T11:15:18.575Z"
   },
   {
    "duration": 12,
    "start_time": "2022-01-20T11:15:18.598Z"
   },
   {
    "duration": 9,
    "start_time": "2022-01-20T11:15:18.612Z"
   },
   {
    "duration": 49,
    "start_time": "2022-01-20T11:15:18.624Z"
   },
   {
    "duration": 9,
    "start_time": "2022-01-20T11:15:18.675Z"
   },
   {
    "duration": 443,
    "start_time": "2022-01-20T11:15:18.687Z"
   },
   {
    "duration": 119,
    "start_time": "2022-01-20T11:15:19.014Z"
   },
   {
    "duration": 112,
    "start_time": "2022-01-20T11:15:19.023Z"
   },
   {
    "duration": 109,
    "start_time": "2022-01-20T11:15:19.027Z"
   },
   {
    "duration": 108,
    "start_time": "2022-01-20T11:15:19.029Z"
   },
   {
    "duration": 107,
    "start_time": "2022-01-20T11:15:19.031Z"
   },
   {
    "duration": 106,
    "start_time": "2022-01-20T11:15:19.033Z"
   },
   {
    "duration": 106,
    "start_time": "2022-01-20T11:15:19.034Z"
   },
   {
    "duration": 106,
    "start_time": "2022-01-20T11:15:19.036Z"
   },
   {
    "duration": 104,
    "start_time": "2022-01-20T11:15:19.039Z"
   },
   {
    "duration": 101,
    "start_time": "2022-01-20T11:15:19.043Z"
   },
   {
    "duration": 101,
    "start_time": "2022-01-20T11:15:19.045Z"
   },
   {
    "duration": 411,
    "start_time": "2022-01-20T11:15:42.248Z"
   },
   {
    "duration": 76,
    "start_time": "2022-01-20T11:16:20.598Z"
   },
   {
    "duration": 56,
    "start_time": "2022-01-20T11:16:25.110Z"
   },
   {
    "duration": 5,
    "start_time": "2022-01-20T11:16:27.231Z"
   },
   {
    "duration": 74,
    "start_time": "2022-01-20T11:16:27.988Z"
   },
   {
    "duration": 10,
    "start_time": "2022-01-20T11:16:28.670Z"
   },
   {
    "duration": 756,
    "start_time": "2022-01-20T11:16:36.178Z"
   },
   {
    "duration": 544,
    "start_time": "2022-01-20T11:16:36.938Z"
   },
   {
    "duration": 22,
    "start_time": "2022-01-20T11:16:37.485Z"
   },
   {
    "duration": 29,
    "start_time": "2022-01-20T11:16:37.510Z"
   },
   {
    "duration": 29,
    "start_time": "2022-01-20T11:16:37.542Z"
   },
   {
    "duration": 27,
    "start_time": "2022-01-20T11:16:37.574Z"
   },
   {
    "duration": 10,
    "start_time": "2022-01-20T11:16:37.603Z"
   },
   {
    "duration": 29,
    "start_time": "2022-01-20T11:16:37.616Z"
   },
   {
    "duration": 26,
    "start_time": "2022-01-20T11:16:37.647Z"
   },
   {
    "duration": 35,
    "start_time": "2022-01-20T11:16:37.675Z"
   },
   {
    "duration": 11,
    "start_time": "2022-01-20T11:16:37.713Z"
   },
   {
    "duration": 20,
    "start_time": "2022-01-20T11:16:37.726Z"
   },
   {
    "duration": 30,
    "start_time": "2022-01-20T11:16:37.748Z"
   },
   {
    "duration": 14,
    "start_time": "2022-01-20T11:16:37.780Z"
   },
   {
    "duration": 155,
    "start_time": "2022-01-20T11:16:37.797Z"
   },
   {
    "duration": 15,
    "start_time": "2022-01-20T11:16:37.954Z"
   },
   {
    "duration": 447,
    "start_time": "2022-01-20T11:16:37.973Z"
   },
   {
    "duration": 92,
    "start_time": "2022-01-20T11:16:38.332Z"
   },
   {
    "duration": 90,
    "start_time": "2022-01-20T11:16:38.336Z"
   },
   {
    "duration": 90,
    "start_time": "2022-01-20T11:16:38.338Z"
   },
   {
    "duration": 90,
    "start_time": "2022-01-20T11:16:38.340Z"
   },
   {
    "duration": 91,
    "start_time": "2022-01-20T11:16:38.342Z"
   },
   {
    "duration": 91,
    "start_time": "2022-01-20T11:16:38.344Z"
   },
   {
    "duration": 91,
    "start_time": "2022-01-20T11:16:38.346Z"
   },
   {
    "duration": 92,
    "start_time": "2022-01-20T11:16:38.348Z"
   },
   {
    "duration": 92,
    "start_time": "2022-01-20T11:16:38.350Z"
   },
   {
    "duration": 806,
    "start_time": "2022-01-20T11:17:17.913Z"
   },
   {
    "duration": 532,
    "start_time": "2022-01-20T11:17:18.722Z"
   },
   {
    "duration": 21,
    "start_time": "2022-01-20T11:17:19.257Z"
   },
   {
    "duration": 30,
    "start_time": "2022-01-20T11:17:19.281Z"
   },
   {
    "duration": 12,
    "start_time": "2022-01-20T11:17:19.314Z"
   },
   {
    "duration": 48,
    "start_time": "2022-01-20T11:17:19.328Z"
   },
   {
    "duration": 10,
    "start_time": "2022-01-20T11:17:19.379Z"
   },
   {
    "duration": 12,
    "start_time": "2022-01-20T11:17:19.393Z"
   },
   {
    "duration": 10,
    "start_time": "2022-01-20T11:17:19.408Z"
   },
   {
    "duration": 59,
    "start_time": "2022-01-20T11:17:19.420Z"
   },
   {
    "duration": 12,
    "start_time": "2022-01-20T11:17:19.481Z"
   },
   {
    "duration": 9,
    "start_time": "2022-01-20T11:17:19.496Z"
   },
   {
    "duration": 16,
    "start_time": "2022-01-20T11:17:19.507Z"
   },
   {
    "duration": 51,
    "start_time": "2022-01-20T11:17:19.525Z"
   },
   {
    "duration": 212,
    "start_time": "2022-01-20T11:17:19.579Z"
   },
   {
    "duration": 9,
    "start_time": "2022-01-20T11:17:19.794Z"
   },
   {
    "duration": 87,
    "start_time": "2022-01-20T11:17:19.805Z"
   },
   {
    "duration": 11,
    "start_time": "2022-01-20T11:17:19.894Z"
   },
   {
    "duration": 32,
    "start_time": "2022-01-20T11:17:19.907Z"
   },
   {
    "duration": 34,
    "start_time": "2022-01-20T11:17:19.941Z"
   },
   {
    "duration": 42,
    "start_time": "2022-01-20T11:17:19.977Z"
   },
   {
    "duration": 13,
    "start_time": "2022-01-20T11:17:20.022Z"
   },
   {
    "duration": 95,
    "start_time": "2022-01-20T11:17:20.039Z"
   },
   {
    "duration": 16,
    "start_time": "2022-01-20T11:17:20.136Z"
   },
   {
    "duration": 17,
    "start_time": "2022-01-20T11:17:20.170Z"
   },
   {
    "duration": 29,
    "start_time": "2022-01-20T11:17:20.190Z"
   },
   {
    "duration": 12,
    "start_time": "2022-01-20T11:18:25.835Z"
   },
   {
    "duration": 10,
    "start_time": "2022-01-20T11:18:45.001Z"
   },
   {
    "duration": 400,
    "start_time": "2022-01-20T11:19:39.570Z"
   },
   {
    "duration": 33,
    "start_time": "2022-01-20T11:22:27.941Z"
   },
   {
    "duration": 15,
    "start_time": "2022-01-20T11:24:50.921Z"
   },
   {
    "duration": 12,
    "start_time": "2022-01-20T11:25:52.141Z"
   },
   {
    "duration": 21,
    "start_time": "2022-01-20T11:26:03.251Z"
   },
   {
    "duration": 16,
    "start_time": "2022-01-20T11:26:18.489Z"
   },
   {
    "duration": 22,
    "start_time": "2022-01-20T11:26:24.660Z"
   },
   {
    "duration": 18,
    "start_time": "2022-01-20T11:26:36.430Z"
   },
   {
    "duration": 11173,
    "start_time": "2022-01-20T11:36:02.160Z"
   },
   {
    "duration": 11,
    "start_time": "2022-01-20T11:36:13.325Z"
   },
   {
    "duration": 13,
    "start_time": "2022-01-20T11:36:28.405Z"
   },
   {
    "duration": 8,
    "start_time": "2022-01-20T11:36:43.129Z"
   },
   {
    "duration": 13,
    "start_time": "2022-01-20T11:37:09.628Z"
   },
   {
    "duration": 759,
    "start_time": "2022-01-20T12:55:46.108Z"
   },
   {
    "duration": 558,
    "start_time": "2022-01-20T12:55:46.871Z"
   },
   {
    "duration": 24,
    "start_time": "2022-01-20T12:55:47.431Z"
   },
   {
    "duration": 29,
    "start_time": "2022-01-20T12:55:47.458Z"
   },
   {
    "duration": 12,
    "start_time": "2022-01-20T12:55:47.489Z"
   },
   {
    "duration": 24,
    "start_time": "2022-01-20T12:55:47.503Z"
   },
   {
    "duration": 9,
    "start_time": "2022-01-20T12:55:47.529Z"
   },
   {
    "duration": 12,
    "start_time": "2022-01-20T12:55:47.570Z"
   },
   {
    "duration": 13,
    "start_time": "2022-01-20T12:55:47.585Z"
   },
   {
    "duration": 21,
    "start_time": "2022-01-20T12:55:47.600Z"
   },
   {
    "duration": 11,
    "start_time": "2022-01-20T12:55:47.624Z"
   },
   {
    "duration": 37,
    "start_time": "2022-01-20T12:55:47.638Z"
   },
   {
    "duration": 15,
    "start_time": "2022-01-20T12:55:47.678Z"
   },
   {
    "duration": 12,
    "start_time": "2022-01-20T12:55:47.696Z"
   },
   {
    "duration": 242,
    "start_time": "2022-01-20T12:55:47.711Z"
   },
   {
    "duration": 13,
    "start_time": "2022-01-20T12:55:47.956Z"
   },
   {
    "duration": 75,
    "start_time": "2022-01-20T12:55:47.972Z"
   },
   {
    "duration": 26,
    "start_time": "2022-01-20T12:55:48.049Z"
   },
   {
    "duration": 33,
    "start_time": "2022-01-20T12:55:48.078Z"
   },
   {
    "duration": 13,
    "start_time": "2022-01-20T12:55:48.113Z"
   },
   {
    "duration": 74,
    "start_time": "2022-01-20T12:55:48.128Z"
   },
   {
    "duration": 15,
    "start_time": "2022-01-20T12:55:48.204Z"
   },
   {
    "duration": 91,
    "start_time": "2022-01-20T12:55:48.224Z"
   },
   {
    "duration": 14,
    "start_time": "2022-01-20T12:55:48.317Z"
   },
   {
    "duration": 15,
    "start_time": "2022-01-20T12:55:48.334Z"
   },
   {
    "duration": 33,
    "start_time": "2022-01-20T12:55:48.351Z"
   },
   {
    "duration": 15,
    "start_time": "2022-01-20T12:55:48.386Z"
   },
   {
    "duration": 159,
    "start_time": "2022-01-20T12:55:48.403Z"
   },
   {
    "duration": 790,
    "start_time": "2022-01-20T12:57:18.350Z"
   },
   {
    "duration": 540,
    "start_time": "2022-01-20T12:57:19.142Z"
   },
   {
    "duration": 23,
    "start_time": "2022-01-20T12:57:19.685Z"
   },
   {
    "duration": 38,
    "start_time": "2022-01-20T12:57:19.710Z"
   },
   {
    "duration": 19,
    "start_time": "2022-01-20T12:57:19.750Z"
   },
   {
    "duration": 23,
    "start_time": "2022-01-20T12:57:19.772Z"
   },
   {
    "duration": 11,
    "start_time": "2022-01-20T12:57:19.797Z"
   },
   {
    "duration": 15,
    "start_time": "2022-01-20T12:57:19.812Z"
   },
   {
    "duration": 42,
    "start_time": "2022-01-20T12:57:19.830Z"
   },
   {
    "duration": 21,
    "start_time": "2022-01-20T12:57:19.875Z"
   },
   {
    "duration": 12,
    "start_time": "2022-01-20T12:57:19.899Z"
   },
   {
    "duration": 15,
    "start_time": "2022-01-20T12:57:19.914Z"
   },
   {
    "duration": 47,
    "start_time": "2022-01-20T12:57:19.931Z"
   },
   {
    "duration": 16,
    "start_time": "2022-01-20T12:57:19.980Z"
   },
   {
    "duration": 210,
    "start_time": "2022-01-20T12:57:19.999Z"
   },
   {
    "duration": 9,
    "start_time": "2022-01-20T12:57:20.212Z"
   },
   {
    "duration": 88,
    "start_time": "2022-01-20T12:57:20.224Z"
   },
   {
    "duration": 12,
    "start_time": "2022-01-20T12:57:20.315Z"
   },
   {
    "duration": 52,
    "start_time": "2022-01-20T12:57:20.331Z"
   },
   {
    "duration": 12,
    "start_time": "2022-01-20T12:57:20.386Z"
   },
   {
    "duration": 39,
    "start_time": "2022-01-20T12:57:20.401Z"
   },
   {
    "duration": 15,
    "start_time": "2022-01-20T12:57:20.469Z"
   },
   {
    "duration": 94,
    "start_time": "2022-01-20T12:57:20.491Z"
   },
   {
    "duration": 13,
    "start_time": "2022-01-20T12:57:20.587Z"
   },
   {
    "duration": 15,
    "start_time": "2022-01-20T12:57:20.603Z"
   },
   {
    "duration": 15,
    "start_time": "2022-01-20T12:57:20.620Z"
   },
   {
    "duration": 42,
    "start_time": "2022-01-20T12:57:20.637Z"
   },
   {
    "duration": 116,
    "start_time": "2022-01-20T12:57:20.682Z"
   },
   {
    "duration": 10839,
    "start_time": "2022-01-20T13:09:28.316Z"
   },
   {
    "duration": 9,
    "start_time": "2022-01-20T13:10:25.886Z"
   },
   {
    "duration": 10,
    "start_time": "2022-01-20T13:10:34.418Z"
   },
   {
    "duration": 25,
    "start_time": "2022-01-20T13:11:38.693Z"
   },
   {
    "duration": 6,
    "start_time": "2022-01-20T13:11:48.520Z"
   },
   {
    "duration": 11,
    "start_time": "2022-01-20T13:11:58.843Z"
   },
   {
    "duration": 9281,
    "start_time": "2022-01-20T13:12:07.048Z"
   },
   {
    "duration": 9,
    "start_time": "2022-01-20T13:13:08.031Z"
   },
   {
    "duration": 719,
    "start_time": "2022-01-20T13:13:14.123Z"
   },
   {
    "duration": 544,
    "start_time": "2022-01-20T13:13:14.846Z"
   },
   {
    "duration": 23,
    "start_time": "2022-01-20T13:13:15.394Z"
   },
   {
    "duration": 30,
    "start_time": "2022-01-20T13:13:15.421Z"
   },
   {
    "duration": 21,
    "start_time": "2022-01-20T13:13:15.454Z"
   },
   {
    "duration": 23,
    "start_time": "2022-01-20T13:13:15.477Z"
   },
   {
    "duration": 11,
    "start_time": "2022-01-20T13:13:15.502Z"
   },
   {
    "duration": 12,
    "start_time": "2022-01-20T13:13:15.516Z"
   },
   {
    "duration": 43,
    "start_time": "2022-01-20T13:13:15.531Z"
   },
   {
    "duration": 21,
    "start_time": "2022-01-20T13:13:15.577Z"
   },
   {
    "duration": 14,
    "start_time": "2022-01-20T13:13:15.600Z"
   },
   {
    "duration": 12,
    "start_time": "2022-01-20T13:13:15.616Z"
   },
   {
    "duration": 51,
    "start_time": "2022-01-20T13:13:15.631Z"
   },
   {
    "duration": 14,
    "start_time": "2022-01-20T13:13:15.685Z"
   },
   {
    "duration": 212,
    "start_time": "2022-01-20T13:13:15.701Z"
   },
   {
    "duration": 7,
    "start_time": "2022-01-20T13:13:15.916Z"
   },
   {
    "duration": 85,
    "start_time": "2022-01-20T13:13:15.926Z"
   },
   {
    "duration": 11,
    "start_time": "2022-01-20T13:13:16.014Z"
   },
   {
    "duration": 59,
    "start_time": "2022-01-20T13:13:16.028Z"
   },
   {
    "duration": 13,
    "start_time": "2022-01-20T13:13:16.089Z"
   },
   {
    "duration": 64,
    "start_time": "2022-01-20T13:13:16.105Z"
   },
   {
    "duration": 15,
    "start_time": "2022-01-20T13:13:16.172Z"
   },
   {
    "duration": 102,
    "start_time": "2022-01-20T13:13:16.194Z"
   },
   {
    "duration": 12,
    "start_time": "2022-01-20T13:13:16.299Z"
   },
   {
    "duration": 17,
    "start_time": "2022-01-20T13:13:16.314Z"
   },
   {
    "duration": 37,
    "start_time": "2022-01-20T13:13:16.333Z"
   },
   {
    "duration": 9,
    "start_time": "2022-01-20T13:13:16.373Z"
   },
   {
    "duration": 10,
    "start_time": "2022-01-20T13:13:16.384Z"
   },
   {
    "duration": 9136,
    "start_time": "2022-01-20T13:13:16.397Z"
   },
   {
    "duration": 8341,
    "start_time": "2022-01-20T13:16:59.385Z"
   },
   {
    "duration": 5,
    "start_time": "2022-01-20T13:17:24.017Z"
   },
   {
    "duration": 16,
    "start_time": "2022-01-20T13:17:29.573Z"
   },
   {
    "duration": 11,
    "start_time": "2022-01-20T13:24:22.888Z"
   },
   {
    "duration": 345,
    "start_time": "2022-01-20T13:27:12.708Z"
   },
   {
    "duration": 115,
    "start_time": "2022-01-20T13:27:35.927Z"
   },
   {
    "duration": 26,
    "start_time": "2022-01-20T13:27:40.439Z"
   },
   {
    "duration": 23,
    "start_time": "2022-01-20T13:28:04.619Z"
   },
   {
    "duration": 25,
    "start_time": "2022-01-20T13:28:16.917Z"
   },
   {
    "duration": 11645,
    "start_time": "2022-01-20T13:31:29.538Z"
   },
   {
    "duration": 511,
    "start_time": "2022-01-20T13:34:47.709Z"
   },
   {
    "duration": 772,
    "start_time": "2022-01-20T13:35:36.262Z"
   },
   {
    "duration": 545,
    "start_time": "2022-01-20T13:35:37.037Z"
   },
   {
    "duration": 23,
    "start_time": "2022-01-20T13:35:37.586Z"
   },
   {
    "duration": 32,
    "start_time": "2022-01-20T13:35:37.612Z"
   },
   {
    "duration": 28,
    "start_time": "2022-01-20T13:35:37.646Z"
   },
   {
    "duration": 25,
    "start_time": "2022-01-20T13:35:37.676Z"
   },
   {
    "duration": 13,
    "start_time": "2022-01-20T13:35:37.703Z"
   },
   {
    "duration": 12,
    "start_time": "2022-01-20T13:35:37.720Z"
   },
   {
    "duration": 38,
    "start_time": "2022-01-20T13:35:37.735Z"
   },
   {
    "duration": 20,
    "start_time": "2022-01-20T13:35:37.776Z"
   },
   {
    "duration": 11,
    "start_time": "2022-01-20T13:35:37.798Z"
   },
   {
    "duration": 9,
    "start_time": "2022-01-20T13:35:37.811Z"
   },
   {
    "duration": 51,
    "start_time": "2022-01-20T13:35:37.823Z"
   },
   {
    "duration": 9,
    "start_time": "2022-01-20T13:35:37.877Z"
   },
   {
    "duration": 209,
    "start_time": "2022-01-20T13:35:37.889Z"
   },
   {
    "duration": 7,
    "start_time": "2022-01-20T13:35:38.100Z"
   },
   {
    "duration": 84,
    "start_time": "2022-01-20T13:35:38.109Z"
   },
   {
    "duration": 10,
    "start_time": "2022-01-20T13:35:38.195Z"
   },
   {
    "duration": 37,
    "start_time": "2022-01-20T13:35:38.207Z"
   },
   {
    "duration": 29,
    "start_time": "2022-01-20T13:35:38.246Z"
   },
   {
    "duration": 39,
    "start_time": "2022-01-20T13:35:38.277Z"
   },
   {
    "duration": 13,
    "start_time": "2022-01-20T13:35:38.318Z"
   },
   {
    "duration": 97,
    "start_time": "2022-01-20T13:35:38.335Z"
   },
   {
    "duration": 13,
    "start_time": "2022-01-20T13:35:38.434Z"
   },
   {
    "duration": 25,
    "start_time": "2022-01-20T13:35:38.449Z"
   },
   {
    "duration": 14,
    "start_time": "2022-01-20T13:35:38.477Z"
   },
   {
    "duration": 11,
    "start_time": "2022-01-20T13:35:38.493Z"
   },
   {
    "duration": 10,
    "start_time": "2022-01-20T13:35:38.506Z"
   },
   {
    "duration": 653,
    "start_time": "2022-01-20T13:35:38.518Z"
   },
   {
    "duration": 29,
    "start_time": "2022-01-20T13:35:39.145Z"
   },
   {
    "duration": 4,
    "start_time": "2022-01-20T13:36:38.402Z"
   },
   {
    "duration": 7,
    "start_time": "2022-01-20T13:36:45.193Z"
   },
   {
    "duration": 9,
    "start_time": "2022-01-20T13:36:51.082Z"
   },
   {
    "duration": 7,
    "start_time": "2022-01-20T13:37:02.294Z"
   },
   {
    "duration": 4,
    "start_time": "2022-01-20T13:37:29.200Z"
   },
   {
    "duration": 17,
    "start_time": "2022-01-20T13:37:41.948Z"
   },
   {
    "duration": 146,
    "start_time": "2022-01-20T13:38:49.848Z"
   },
   {
    "duration": 333,
    "start_time": "2022-01-20T13:43:12.054Z"
   },
   {
    "duration": 21,
    "start_time": "2022-01-20T13:43:26.908Z"
   },
   {
    "duration": 27,
    "start_time": "2022-01-20T13:43:35.200Z"
   },
   {
    "duration": 96,
    "start_time": "2022-01-20T13:46:57.903Z"
   },
   {
    "duration": 35,
    "start_time": "2022-01-20T13:47:45.545Z"
   },
   {
    "duration": 51,
    "start_time": "2022-01-20T13:49:24.546Z"
   },
   {
    "duration": 8,
    "start_time": "2022-01-20T13:54:49.602Z"
   },
   {
    "duration": 1622,
    "start_time": "2022-01-20T13:54:59.964Z"
   },
   {
    "duration": 533,
    "start_time": "2022-01-20T13:55:01.589Z"
   },
   {
    "duration": 23,
    "start_time": "2022-01-20T13:55:02.125Z"
   },
   {
    "duration": 31,
    "start_time": "2022-01-20T13:55:02.152Z"
   },
   {
    "duration": 13,
    "start_time": "2022-01-20T13:55:02.186Z"
   },
   {
    "duration": 26,
    "start_time": "2022-01-20T13:55:02.202Z"
   },
   {
    "duration": 43,
    "start_time": "2022-01-20T13:55:02.230Z"
   },
   {
    "duration": 16,
    "start_time": "2022-01-20T13:55:02.278Z"
   },
   {
    "duration": 18,
    "start_time": "2022-01-20T13:55:02.297Z"
   },
   {
    "duration": 24,
    "start_time": "2022-01-20T13:55:02.317Z"
   },
   {
    "duration": 33,
    "start_time": "2022-01-20T13:55:02.343Z"
   },
   {
    "duration": 9,
    "start_time": "2022-01-20T13:55:02.378Z"
   },
   {
    "duration": 15,
    "start_time": "2022-01-20T13:55:02.390Z"
   },
   {
    "duration": 11,
    "start_time": "2022-01-20T13:55:02.407Z"
   },
   {
    "duration": 232,
    "start_time": "2022-01-20T13:55:02.421Z"
   },
   {
    "duration": 13,
    "start_time": "2022-01-20T13:55:02.656Z"
   },
   {
    "duration": 69,
    "start_time": "2022-01-20T13:55:02.671Z"
   },
   {
    "duration": 25,
    "start_time": "2022-01-20T13:55:02.743Z"
   },
   {
    "duration": 30,
    "start_time": "2022-01-20T13:55:02.771Z"
   },
   {
    "duration": 12,
    "start_time": "2022-01-20T13:55:02.803Z"
   },
   {
    "duration": 72,
    "start_time": "2022-01-20T13:55:02.818Z"
   },
   {
    "duration": 16,
    "start_time": "2022-01-20T13:55:02.893Z"
   },
   {
    "duration": 86,
    "start_time": "2022-01-20T13:55:02.915Z"
   },
   {
    "duration": 13,
    "start_time": "2022-01-20T13:55:03.004Z"
   },
   {
    "duration": 13,
    "start_time": "2022-01-20T13:55:03.019Z"
   },
   {
    "duration": 34,
    "start_time": "2022-01-20T13:55:03.035Z"
   },
   {
    "duration": 9,
    "start_time": "2022-01-20T13:55:03.071Z"
   },
   {
    "duration": 10,
    "start_time": "2022-01-20T13:55:03.082Z"
   },
   {
    "duration": 79,
    "start_time": "2022-01-20T13:55:03.094Z"
   },
   {
    "duration": 3,
    "start_time": "2022-01-20T13:55:03.175Z"
   },
   {
    "duration": 22,
    "start_time": "2022-01-20T13:55:03.180Z"
   },
   {
    "duration": 15,
    "start_time": "2022-01-20T13:55:20.027Z"
   },
   {
    "duration": 18,
    "start_time": "2022-01-20T13:55:27.303Z"
   },
   {
    "duration": 45,
    "start_time": "2022-01-20T14:00:39.893Z"
   },
   {
    "duration": 770,
    "start_time": "2022-01-20T14:02:04.581Z"
   },
   {
    "duration": 566,
    "start_time": "2022-01-20T14:02:05.354Z"
   },
   {
    "duration": 31,
    "start_time": "2022-01-20T14:02:05.924Z"
   },
   {
    "duration": 51,
    "start_time": "2022-01-20T14:02:05.959Z"
   },
   {
    "duration": 16,
    "start_time": "2022-01-20T14:02:06.013Z"
   },
   {
    "duration": 38,
    "start_time": "2022-01-20T14:02:06.031Z"
   },
   {
    "duration": 10,
    "start_time": "2022-01-20T14:02:06.072Z"
   },
   {
    "duration": 21,
    "start_time": "2022-01-20T14:02:06.086Z"
   },
   {
    "duration": 25,
    "start_time": "2022-01-20T14:02:06.110Z"
   },
   {
    "duration": 36,
    "start_time": "2022-01-20T14:02:06.138Z"
   },
   {
    "duration": 11,
    "start_time": "2022-01-20T14:02:06.177Z"
   },
   {
    "duration": 14,
    "start_time": "2022-01-20T14:02:06.190Z"
   },
   {
    "duration": 21,
    "start_time": "2022-01-20T14:02:06.206Z"
   },
   {
    "duration": 17,
    "start_time": "2022-01-20T14:02:06.229Z"
   },
   {
    "duration": 201,
    "start_time": "2022-01-20T14:02:06.269Z"
   },
   {
    "duration": 6,
    "start_time": "2022-01-20T14:02:06.473Z"
   },
   {
    "duration": 87,
    "start_time": "2022-01-20T14:02:06.482Z"
   },
   {
    "duration": 10,
    "start_time": "2022-01-20T14:02:06.572Z"
   },
   {
    "duration": 32,
    "start_time": "2022-01-20T14:02:06.584Z"
   },
   {
    "duration": 12,
    "start_time": "2022-01-20T14:02:06.618Z"
   },
   {
    "duration": 69,
    "start_time": "2022-01-20T14:02:06.633Z"
   },
   {
    "duration": 13,
    "start_time": "2022-01-20T14:02:06.705Z"
   },
   {
    "duration": 91,
    "start_time": "2022-01-20T14:02:06.722Z"
   },
   {
    "duration": 12,
    "start_time": "2022-01-20T14:02:06.816Z"
   },
   {
    "duration": 415,
    "start_time": "2022-01-20T14:02:06.831Z"
   },
   {
    "duration": 92,
    "start_time": "2022-01-20T14:02:07.158Z"
   },
   {
    "duration": 88,
    "start_time": "2022-01-20T14:02:07.163Z"
   },
   {
    "duration": 86,
    "start_time": "2022-01-20T14:02:07.167Z"
   },
   {
    "duration": 85,
    "start_time": "2022-01-20T14:02:07.170Z"
   },
   {
    "duration": 75,
    "start_time": "2022-01-20T14:02:07.181Z"
   },
   {
    "duration": 17,
    "start_time": "2022-01-20T14:02:41.761Z"
   },
   {
    "duration": 22,
    "start_time": "2022-01-20T14:02:44.914Z"
   },
   {
    "duration": 28,
    "start_time": "2022-01-20T14:03:02.689Z"
   },
   {
    "duration": 23,
    "start_time": "2022-01-20T14:03:13.762Z"
   },
   {
    "duration": 13,
    "start_time": "2022-01-20T14:03:25.522Z"
   },
   {
    "duration": 36,
    "start_time": "2022-01-20T14:03:27.339Z"
   },
   {
    "duration": 319,
    "start_time": "2022-01-20T14:04:09.508Z"
   },
   {
    "duration": 6,
    "start_time": "2022-01-20T14:04:12.739Z"
   },
   {
    "duration": 27,
    "start_time": "2022-01-20T14:06:38.731Z"
   },
   {
    "duration": 6,
    "start_time": "2022-01-20T14:06:39.646Z"
   },
   {
    "duration": 33,
    "start_time": "2022-01-20T14:06:44.806Z"
   },
   {
    "duration": 726,
    "start_time": "2022-01-20T14:06:57.102Z"
   },
   {
    "duration": 529,
    "start_time": "2022-01-20T14:06:57.831Z"
   },
   {
    "duration": 23,
    "start_time": "2022-01-20T14:06:58.363Z"
   },
   {
    "duration": 29,
    "start_time": "2022-01-20T14:06:58.389Z"
   },
   {
    "duration": 12,
    "start_time": "2022-01-20T14:06:58.421Z"
   },
   {
    "duration": 48,
    "start_time": "2022-01-20T14:06:58.436Z"
   },
   {
    "duration": 10,
    "start_time": "2022-01-20T14:06:58.486Z"
   },
   {
    "duration": 15,
    "start_time": "2022-01-20T14:06:58.501Z"
   },
   {
    "duration": 13,
    "start_time": "2022-01-20T14:06:58.519Z"
   },
   {
    "duration": 28,
    "start_time": "2022-01-20T14:06:58.570Z"
   },
   {
    "duration": 15,
    "start_time": "2022-01-20T14:06:58.601Z"
   },
   {
    "duration": 10,
    "start_time": "2022-01-20T14:06:58.619Z"
   },
   {
    "duration": 44,
    "start_time": "2022-01-20T14:06:58.631Z"
   },
   {
    "duration": 10,
    "start_time": "2022-01-20T14:06:58.678Z"
   },
   {
    "duration": 204,
    "start_time": "2022-01-20T14:06:58.690Z"
   },
   {
    "duration": 7,
    "start_time": "2022-01-20T14:06:58.897Z"
   },
   {
    "duration": 91,
    "start_time": "2022-01-20T14:06:58.906Z"
   },
   {
    "duration": 12,
    "start_time": "2022-01-20T14:06:58.999Z"
   },
   {
    "duration": 56,
    "start_time": "2022-01-20T14:06:59.013Z"
   },
   {
    "duration": 12,
    "start_time": "2022-01-20T14:06:59.072Z"
   },
   {
    "duration": 39,
    "start_time": "2022-01-20T14:06:59.087Z"
   },
   {
    "duration": 40,
    "start_time": "2022-01-20T14:06:59.129Z"
   },
   {
    "duration": 64,
    "start_time": "2022-01-20T14:06:59.174Z"
   },
   {
    "duration": 30,
    "start_time": "2022-01-20T14:06:59.241Z"
   },
   {
    "duration": 13,
    "start_time": "2022-01-20T14:06:59.273Z"
   },
   {
    "duration": 14,
    "start_time": "2022-01-20T14:06:59.288Z"
   },
   {
    "duration": 13,
    "start_time": "2022-01-20T14:06:59.305Z"
   },
   {
    "duration": 51,
    "start_time": "2022-01-20T14:06:59.321Z"
   },
   {
    "duration": 46,
    "start_time": "2022-01-20T14:06:59.374Z"
   },
   {
    "duration": 3,
    "start_time": "2022-01-20T14:06:59.422Z"
   },
   {
    "duration": 382,
    "start_time": "2022-01-20T14:10:07.146Z"
   },
   {
    "duration": 331,
    "start_time": "2022-01-20T14:10:38.835Z"
   },
   {
    "duration": 333,
    "start_time": "2022-01-20T14:10:49.996Z"
   },
   {
    "duration": 6,
    "start_time": "2022-01-20T14:13:09.125Z"
   },
   {
    "duration": 66,
    "start_time": "2022-01-20T14:17:46.856Z"
   },
   {
    "duration": 530,
    "start_time": "2022-01-20T14:23:26.768Z"
   },
   {
    "duration": 23866,
    "start_time": "2022-01-20T14:24:39.062Z"
   },
   {
    "duration": 14,
    "start_time": "2022-01-20T14:28:32.608Z"
   },
   {
    "duration": 11,
    "start_time": "2022-01-20T14:28:43.063Z"
   },
   {
    "duration": 18,
    "start_time": "2022-01-20T14:28:52.449Z"
   },
   {
    "duration": 743,
    "start_time": "2022-01-20T17:16:55.331Z"
   },
   {
    "duration": 487,
    "start_time": "2022-01-20T17:16:56.077Z"
   },
   {
    "duration": 24,
    "start_time": "2022-01-20T17:16:56.567Z"
   },
   {
    "duration": 44,
    "start_time": "2022-01-20T17:16:56.594Z"
   },
   {
    "duration": 15,
    "start_time": "2022-01-20T17:16:56.641Z"
   },
   {
    "duration": 24,
    "start_time": "2022-01-20T17:16:56.658Z"
   },
   {
    "duration": 8,
    "start_time": "2022-01-20T17:16:56.684Z"
   },
   {
    "duration": 16,
    "start_time": "2022-01-20T17:16:56.734Z"
   },
   {
    "duration": 13,
    "start_time": "2022-01-20T17:16:56.755Z"
   },
   {
    "duration": 61,
    "start_time": "2022-01-20T17:16:56.771Z"
   },
   {
    "duration": 16,
    "start_time": "2022-01-20T17:16:56.836Z"
   },
   {
    "duration": 9,
    "start_time": "2022-01-20T17:16:56.855Z"
   },
   {
    "duration": 16,
    "start_time": "2022-01-20T17:16:56.866Z"
   },
   {
    "duration": 8,
    "start_time": "2022-01-20T17:16:56.884Z"
   },
   {
    "duration": 233,
    "start_time": "2022-01-20T17:16:56.894Z"
   },
   {
    "duration": 7,
    "start_time": "2022-01-20T17:16:57.133Z"
   },
   {
    "duration": 75,
    "start_time": "2022-01-20T17:16:57.142Z"
   },
   {
    "duration": 21,
    "start_time": "2022-01-20T17:16:57.220Z"
   },
   {
    "duration": 35,
    "start_time": "2022-01-20T17:16:57.243Z"
   },
   {
    "duration": 12,
    "start_time": "2022-01-20T17:16:57.280Z"
   },
   {
    "duration": 64,
    "start_time": "2022-01-20T17:16:57.294Z"
   },
   {
    "duration": 13,
    "start_time": "2022-01-20T17:16:57.361Z"
   },
   {
    "duration": 86,
    "start_time": "2022-01-20T17:16:57.378Z"
   },
   {
    "duration": 13,
    "start_time": "2022-01-20T17:16:57.467Z"
   },
   {
    "duration": 14,
    "start_time": "2022-01-20T17:16:57.483Z"
   },
   {
    "duration": 42,
    "start_time": "2022-01-20T17:16:57.499Z"
   },
   {
    "duration": 11,
    "start_time": "2022-01-20T17:16:57.543Z"
   },
   {
    "duration": 10,
    "start_time": "2022-01-20T17:16:57.556Z"
   },
   {
    "duration": 7,
    "start_time": "2022-01-20T17:17:07.402Z"
   },
   {
    "duration": 12,
    "start_time": "2022-01-20T17:17:46.203Z"
   },
   {
    "duration": 8,
    "start_time": "2022-01-20T17:18:07.685Z"
   },
   {
    "duration": 8,
    "start_time": "2022-01-20T17:18:14.771Z"
   },
   {
    "duration": 5,
    "start_time": "2022-01-20T17:18:36.262Z"
   },
   {
    "duration": 6,
    "start_time": "2022-01-20T17:18:37.928Z"
   },
   {
    "duration": 5,
    "start_time": "2022-01-20T17:18:51.767Z"
   },
   {
    "duration": 559,
    "start_time": "2022-01-20T17:20:32.688Z"
   },
   {
    "duration": 347,
    "start_time": "2022-01-20T17:20:39.751Z"
   },
   {
    "duration": 278,
    "start_time": "2022-01-20T17:20:51.254Z"
   },
   {
    "duration": 355,
    "start_time": "2022-01-20T17:20:54.046Z"
   },
   {
    "duration": 8,
    "start_time": "2022-01-20T17:21:40.077Z"
   },
   {
    "duration": 24,
    "start_time": "2022-01-20T17:26:32.278Z"
   },
   {
    "duration": 698,
    "start_time": "2022-01-20T17:37:52.709Z"
   },
   {
    "duration": 675,
    "start_time": "2022-01-20T17:38:02.733Z"
   },
   {
    "duration": 341,
    "start_time": "2022-01-20T17:38:48.634Z"
   },
   {
    "duration": 25,
    "start_time": "2022-01-20T17:38:56.737Z"
   },
   {
    "duration": 35,
    "start_time": "2022-01-20T17:39:22.123Z"
   },
   {
    "duration": 25,
    "start_time": "2022-01-20T17:39:57.863Z"
   },
   {
    "duration": 21,
    "start_time": "2022-01-20T17:59:34.248Z"
   },
   {
    "duration": 5,
    "start_time": "2022-01-20T17:59:40.433Z"
   },
   {
    "duration": 6,
    "start_time": "2022-01-20T17:59:51.686Z"
   },
   {
    "duration": 21,
    "start_time": "2022-01-20T17:59:59.578Z"
   },
   {
    "duration": 7,
    "start_time": "2022-01-20T18:00:01.305Z"
   },
   {
    "duration": 8,
    "start_time": "2022-01-20T18:00:38.549Z"
   },
   {
    "duration": 11,
    "start_time": "2022-01-20T18:00:43.438Z"
   },
   {
    "duration": 528,
    "start_time": "2022-01-20T18:03:43.153Z"
   },
   {
    "duration": 756,
    "start_time": "2022-01-20T18:04:18.860Z"
   },
   {
    "duration": 192,
    "start_time": "2022-01-20T18:05:19.299Z"
   },
   {
    "duration": 191,
    "start_time": "2022-01-20T18:05:22.788Z"
   },
   {
    "duration": 22,
    "start_time": "2022-01-20T18:05:29.338Z"
   },
   {
    "duration": 24,
    "start_time": "2022-01-20T18:07:41.360Z"
   },
   {
    "duration": 23,
    "start_time": "2022-01-20T18:07:52.174Z"
   },
   {
    "duration": 15,
    "start_time": "2022-01-20T18:08:27.945Z"
   },
   {
    "duration": 711,
    "start_time": "2022-01-20T18:14:01.471Z"
   },
   {
    "duration": 495,
    "start_time": "2022-01-20T18:14:02.186Z"
   },
   {
    "duration": 20,
    "start_time": "2022-01-20T18:14:02.684Z"
   },
   {
    "duration": 30,
    "start_time": "2022-01-20T18:14:02.707Z"
   },
   {
    "duration": 12,
    "start_time": "2022-01-20T18:14:02.739Z"
   },
   {
    "duration": 25,
    "start_time": "2022-01-20T18:14:02.753Z"
   },
   {
    "duration": 10,
    "start_time": "2022-01-20T18:14:02.780Z"
   },
   {
    "duration": 44,
    "start_time": "2022-01-20T18:14:02.793Z"
   },
   {
    "duration": 10,
    "start_time": "2022-01-20T18:14:02.840Z"
   },
   {
    "duration": 19,
    "start_time": "2022-01-20T18:14:02.853Z"
   },
   {
    "duration": 11,
    "start_time": "2022-01-20T18:14:02.874Z"
   },
   {
    "duration": 46,
    "start_time": "2022-01-20T18:14:02.888Z"
   },
   {
    "duration": 15,
    "start_time": "2022-01-20T18:14:02.936Z"
   },
   {
    "duration": 12,
    "start_time": "2022-01-20T18:14:02.954Z"
   },
   {
    "duration": 226,
    "start_time": "2022-01-20T18:14:02.969Z"
   },
   {
    "duration": 9,
    "start_time": "2022-01-20T18:14:03.198Z"
   },
   {
    "duration": 86,
    "start_time": "2022-01-20T18:14:03.210Z"
   },
   {
    "duration": 12,
    "start_time": "2022-01-20T18:14:03.299Z"
   },
   {
    "duration": 49,
    "start_time": "2022-01-20T18:14:03.314Z"
   },
   {
    "duration": 13,
    "start_time": "2022-01-20T18:14:03.366Z"
   },
   {
    "duration": 72,
    "start_time": "2022-01-20T18:14:03.382Z"
   },
   {
    "duration": 15,
    "start_time": "2022-01-20T18:14:03.457Z"
   },
   {
    "duration": 93,
    "start_time": "2022-01-20T18:14:03.479Z"
   },
   {
    "duration": 18,
    "start_time": "2022-01-20T18:14:03.575Z"
   },
   {
    "duration": 36,
    "start_time": "2022-01-20T18:14:03.596Z"
   },
   {
    "duration": 17,
    "start_time": "2022-01-20T18:14:03.634Z"
   },
   {
    "duration": 12,
    "start_time": "2022-01-20T18:14:03.654Z"
   },
   {
    "duration": 11,
    "start_time": "2022-01-20T18:14:03.669Z"
   },
   {
    "duration": 58,
    "start_time": "2022-01-20T18:14:03.683Z"
   },
   {
    "duration": 222,
    "start_time": "2022-01-20T18:14:03.744Z"
   },
   {
    "duration": 19,
    "start_time": "2022-01-20T18:14:03.969Z"
   },
   {
    "duration": 401,
    "start_time": "2022-01-20T18:54:11.804Z"
   },
   {
    "duration": 12,
    "start_time": "2022-01-20T18:54:16.180Z"
   },
   {
    "duration": 97,
    "start_time": "2022-01-20T19:07:10.330Z"
   },
   {
    "duration": 180,
    "start_time": "2022-01-20T19:07:33.269Z"
   },
   {
    "duration": 724,
    "start_time": "2022-01-20T19:07:41.484Z"
   },
   {
    "duration": 511,
    "start_time": "2022-01-20T19:07:42.211Z"
   },
   {
    "duration": 24,
    "start_time": "2022-01-20T19:07:42.725Z"
   },
   {
    "duration": 28,
    "start_time": "2022-01-20T19:07:42.751Z"
   },
   {
    "duration": 11,
    "start_time": "2022-01-20T19:07:42.781Z"
   },
   {
    "duration": 47,
    "start_time": "2022-01-20T19:07:42.794Z"
   },
   {
    "duration": 13,
    "start_time": "2022-01-20T19:07:42.843Z"
   },
   {
    "duration": 23,
    "start_time": "2022-01-20T19:07:42.858Z"
   },
   {
    "duration": 14,
    "start_time": "2022-01-20T19:07:42.885Z"
   },
   {
    "duration": 42,
    "start_time": "2022-01-20T19:07:42.902Z"
   },
   {
    "duration": 15,
    "start_time": "2022-01-20T19:07:42.947Z"
   },
   {
    "duration": 10,
    "start_time": "2022-01-20T19:07:42.965Z"
   },
   {
    "duration": 15,
    "start_time": "2022-01-20T19:07:42.977Z"
   },
   {
    "duration": 41,
    "start_time": "2022-01-20T19:07:42.994Z"
   },
   {
    "duration": 209,
    "start_time": "2022-01-20T19:07:43.038Z"
   },
   {
    "duration": 7,
    "start_time": "2022-01-20T19:07:43.250Z"
   },
   {
    "duration": 81,
    "start_time": "2022-01-20T19:07:43.260Z"
   },
   {
    "duration": 10,
    "start_time": "2022-01-20T19:07:43.344Z"
   },
   {
    "duration": 41,
    "start_time": "2022-01-20T19:07:43.357Z"
   },
   {
    "duration": 31,
    "start_time": "2022-01-20T19:07:43.401Z"
   },
   {
    "duration": 36,
    "start_time": "2022-01-20T19:07:43.435Z"
   },
   {
    "duration": 14,
    "start_time": "2022-01-20T19:07:43.473Z"
   },
   {
    "duration": 109,
    "start_time": "2022-01-20T19:07:43.489Z"
   },
   {
    "duration": 15,
    "start_time": "2022-01-20T19:07:43.601Z"
   },
   {
    "duration": 27,
    "start_time": "2022-01-20T19:07:43.618Z"
   },
   {
    "duration": 17,
    "start_time": "2022-01-20T19:07:43.648Z"
   },
   {
    "duration": 10,
    "start_time": "2022-01-20T19:07:43.670Z"
   },
   {
    "duration": 52,
    "start_time": "2022-01-20T19:07:43.682Z"
   },
   {
    "duration": 12,
    "start_time": "2022-01-20T19:07:43.736Z"
   },
   {
    "duration": 208,
    "start_time": "2022-01-20T19:07:43.750Z"
   },
   {
    "duration": 20,
    "start_time": "2022-01-20T19:07:43.961Z"
   },
   {
    "duration": 29,
    "start_time": "2022-01-20T19:21:41.378Z"
   },
   {
    "duration": 8,
    "start_time": "2022-01-20T19:51:44.292Z"
   },
   {
    "duration": -28,
    "start_time": "2022-01-20T19:51:55.463Z"
   },
   {
    "duration": 13,
    "start_time": "2022-01-20T19:51:57.431Z"
   },
   {
    "duration": 14,
    "start_time": "2022-01-20T19:58:23.672Z"
   },
   {
    "duration": 15,
    "start_time": "2022-01-20T20:06:33.410Z"
   },
   {
    "duration": 6,
    "start_time": "2022-01-20T20:22:21.552Z"
   },
   {
    "duration": 4342,
    "start_time": "2022-01-20T20:22:21.972Z"
   },
   {
    "duration": 18,
    "start_time": "2022-01-20T20:22:29.800Z"
   },
   {
    "duration": 11,
    "start_time": "2022-01-20T20:22:43.517Z"
   },
   {
    "duration": 16,
    "start_time": "2022-01-20T20:23:00.039Z"
   },
   {
    "duration": 14,
    "start_time": "2022-01-20T20:23:23.528Z"
   },
   {
    "duration": 508,
    "start_time": "2022-01-20T20:27:53.471Z"
   },
   {
    "duration": 8,
    "start_time": "2022-01-20T20:28:14.584Z"
   },
   {
    "duration": 11,
    "start_time": "2022-01-20T20:30:45.341Z"
   },
   {
    "duration": 290,
    "start_time": "2022-01-20T20:54:43.992Z"
   },
   {
    "duration": 300,
    "start_time": "2022-01-20T20:54:52.065Z"
   },
   {
    "duration": 6,
    "start_time": "2022-01-20T20:59:49.716Z"
   },
   {
    "duration": 6,
    "start_time": "2022-01-20T21:00:57.374Z"
   },
   {
    "duration": 317,
    "start_time": "2022-01-20T21:01:05.589Z"
   },
   {
    "duration": 5,
    "start_time": "2022-01-20T21:01:26.483Z"
   },
   {
    "duration": 6,
    "start_time": "2022-01-20T21:01:57.941Z"
   },
   {
    "duration": 111,
    "start_time": "2022-01-20T21:02:06.315Z"
   },
   {
    "duration": 101,
    "start_time": "2022-01-20T21:05:40.754Z"
   },
   {
    "duration": 118,
    "start_time": "2022-01-20T21:06:00.480Z"
   },
   {
    "duration": 320,
    "start_time": "2022-01-20T21:06:18.197Z"
   },
   {
    "duration": 346,
    "start_time": "2022-01-20T21:07:06.203Z"
   },
   {
    "duration": 1164,
    "start_time": "2022-01-20T21:07:19.306Z"
   },
   {
    "duration": 19,
    "start_time": "2022-01-20T21:07:20.457Z"
   },
   {
    "duration": 9,
    "start_time": "2022-01-20T21:07:20.469Z"
   },
   {
    "duration": 5,
    "start_time": "2022-01-20T21:07:20.474Z"
   },
   {
    "duration": 4,
    "start_time": "2022-01-20T21:07:20.477Z"
   },
   {
    "duration": 2,
    "start_time": "2022-01-20T21:07:20.480Z"
   },
   {
    "duration": 2,
    "start_time": "2022-01-20T21:07:20.482Z"
   },
   {
    "duration": 0,
    "start_time": "2022-01-20T21:07:20.485Z"
   },
   {
    "duration": -1,
    "start_time": "2022-01-20T21:07:20.488Z"
   },
   {
    "duration": -3,
    "start_time": "2022-01-20T21:07:20.491Z"
   },
   {
    "duration": -4,
    "start_time": "2022-01-20T21:07:20.493Z"
   },
   {
    "duration": -5,
    "start_time": "2022-01-20T21:07:20.495Z"
   },
   {
    "duration": -5,
    "start_time": "2022-01-20T21:07:20.497Z"
   },
   {
    "duration": -6,
    "start_time": "2022-01-20T21:07:20.499Z"
   },
   {
    "duration": -7,
    "start_time": "2022-01-20T21:07:20.501Z"
   },
   {
    "duration": -8,
    "start_time": "2022-01-20T21:07:20.504Z"
   },
   {
    "duration": -9,
    "start_time": "2022-01-20T21:07:20.506Z"
   },
   {
    "duration": -10,
    "start_time": "2022-01-20T21:07:20.508Z"
   },
   {
    "duration": -11,
    "start_time": "2022-01-20T21:07:20.510Z"
   },
   {
    "duration": -13,
    "start_time": "2022-01-20T21:07:20.513Z"
   },
   {
    "duration": -12,
    "start_time": "2022-01-20T21:07:20.514Z"
   },
   {
    "duration": -21,
    "start_time": "2022-01-20T21:07:20.524Z"
   },
   {
    "duration": -23,
    "start_time": "2022-01-20T21:07:20.527Z"
   },
   {
    "duration": -24,
    "start_time": "2022-01-20T21:07:20.529Z"
   },
   {
    "duration": -24,
    "start_time": "2022-01-20T21:07:20.531Z"
   },
   {
    "duration": -25,
    "start_time": "2022-01-20T21:07:20.533Z"
   },
   {
    "duration": -26,
    "start_time": "2022-01-20T21:07:20.535Z"
   },
   {
    "duration": -26,
    "start_time": "2022-01-20T21:07:20.537Z"
   },
   {
    "duration": -27,
    "start_time": "2022-01-20T21:07:20.539Z"
   },
   {
    "duration": -29,
    "start_time": "2022-01-20T21:07:20.542Z"
   },
   {
    "duration": -11,
    "start_time": "2022-01-20T21:07:20.544Z"
   },
   {
    "duration": -12,
    "start_time": "2022-01-20T21:07:20.547Z"
   },
   {
    "duration": -13,
    "start_time": "2022-01-20T21:07:20.549Z"
   },
   {
    "duration": -13,
    "start_time": "2022-01-20T21:07:20.551Z"
   },
   {
    "duration": -14,
    "start_time": "2022-01-20T21:07:20.553Z"
   },
   {
    "duration": -13,
    "start_time": "2022-01-20T21:07:20.554Z"
   },
   {
    "duration": 1158,
    "start_time": "2022-01-20T21:07:44.615Z"
   },
   {
    "duration": -72,
    "start_time": "2022-01-20T21:07:45.851Z"
   },
   {
    "duration": -74,
    "start_time": "2022-01-20T21:07:45.858Z"
   },
   {
    "duration": -76,
    "start_time": "2022-01-20T21:07:45.861Z"
   },
   {
    "duration": -81,
    "start_time": "2022-01-20T21:07:45.868Z"
   },
   {
    "duration": -83,
    "start_time": "2022-01-20T21:07:45.872Z"
   },
   {
    "duration": -85,
    "start_time": "2022-01-20T21:07:45.875Z"
   },
   {
    "duration": -85,
    "start_time": "2022-01-20T21:07:45.877Z"
   },
   {
    "duration": -85,
    "start_time": "2022-01-20T21:07:45.879Z"
   },
   {
    "duration": -86,
    "start_time": "2022-01-20T21:07:45.881Z"
   },
   {
    "duration": -87,
    "start_time": "2022-01-20T21:07:45.884Z"
   },
   {
    "duration": -87,
    "start_time": "2022-01-20T21:07:45.886Z"
   },
   {
    "duration": -87,
    "start_time": "2022-01-20T21:07:45.889Z"
   },
   {
    "duration": -88,
    "start_time": "2022-01-20T21:07:45.891Z"
   },
   {
    "duration": -88,
    "start_time": "2022-01-20T21:07:45.893Z"
   },
   {
    "duration": -88,
    "start_time": "2022-01-20T21:07:45.895Z"
   },
   {
    "duration": -88,
    "start_time": "2022-01-20T21:07:45.897Z"
   },
   {
    "duration": -89,
    "start_time": "2022-01-20T21:07:45.899Z"
   },
   {
    "duration": -89,
    "start_time": "2022-01-20T21:07:45.901Z"
   },
   {
    "duration": -90,
    "start_time": "2022-01-20T21:07:45.903Z"
   },
   {
    "duration": -90,
    "start_time": "2022-01-20T21:07:45.905Z"
   },
   {
    "duration": -75,
    "start_time": "2022-01-20T21:07:45.907Z"
   },
   {
    "duration": -76,
    "start_time": "2022-01-20T21:07:45.909Z"
   },
   {
    "duration": -76,
    "start_time": "2022-01-20T21:07:45.911Z"
   },
   {
    "duration": -77,
    "start_time": "2022-01-20T21:07:45.913Z"
   },
   {
    "duration": -77,
    "start_time": "2022-01-20T21:07:45.915Z"
   },
   {
    "duration": -77,
    "start_time": "2022-01-20T21:07:45.916Z"
   },
   {
    "duration": -78,
    "start_time": "2022-01-20T21:07:45.919Z"
   },
   {
    "duration": -79,
    "start_time": "2022-01-20T21:07:45.921Z"
   },
   {
    "duration": -79,
    "start_time": "2022-01-20T21:07:45.923Z"
   },
   {
    "duration": -80,
    "start_time": "2022-01-20T21:07:45.925Z"
   },
   {
    "duration": -80,
    "start_time": "2022-01-20T21:07:45.927Z"
   },
   {
    "duration": -81,
    "start_time": "2022-01-20T21:07:45.929Z"
   },
   {
    "duration": -81,
    "start_time": "2022-01-20T21:07:45.931Z"
   },
   {
    "duration": -82,
    "start_time": "2022-01-20T21:07:45.933Z"
   },
   {
    "duration": -81,
    "start_time": "2022-01-20T21:07:45.934Z"
   },
   {
    "duration": 1239,
    "start_time": "2022-01-20T21:08:37.611Z"
   },
   {
    "duration": 754,
    "start_time": "2022-01-20T21:08:38.854Z"
   },
   {
    "duration": 17,
    "start_time": "2022-01-20T21:08:39.612Z"
   },
   {
    "duration": 28,
    "start_time": "2022-01-20T21:08:39.632Z"
   },
   {
    "duration": 12,
    "start_time": "2022-01-20T21:08:39.663Z"
   },
   {
    "duration": 25,
    "start_time": "2022-01-20T21:08:39.678Z"
   },
   {
    "duration": 12,
    "start_time": "2022-01-20T21:08:39.733Z"
   },
   {
    "duration": 14,
    "start_time": "2022-01-20T21:08:39.749Z"
   },
   {
    "duration": 12,
    "start_time": "2022-01-20T21:08:39.766Z"
   },
   {
    "duration": 20,
    "start_time": "2022-01-20T21:08:39.780Z"
   },
   {
    "duration": 12,
    "start_time": "2022-01-20T21:08:39.833Z"
   },
   {
    "duration": 11,
    "start_time": "2022-01-20T21:08:39.848Z"
   },
   {
    "duration": 19,
    "start_time": "2022-01-20T21:08:39.862Z"
   },
   {
    "duration": 9,
    "start_time": "2022-01-20T21:08:39.884Z"
   },
   {
    "duration": 192,
    "start_time": "2022-01-20T21:08:39.932Z"
   },
   {
    "duration": 6,
    "start_time": "2022-01-20T21:08:40.127Z"
   },
   {
    "duration": 74,
    "start_time": "2022-01-20T21:08:40.136Z"
   },
   {
    "duration": 23,
    "start_time": "2022-01-20T21:08:40.212Z"
   },
   {
    "duration": 33,
    "start_time": "2022-01-20T21:08:40.237Z"
   },
   {
    "duration": 13,
    "start_time": "2022-01-20T21:08:40.272Z"
   },
   {
    "duration": 70,
    "start_time": "2022-01-20T21:08:40.287Z"
   },
   {
    "duration": 14,
    "start_time": "2022-01-20T21:08:40.359Z"
   },
   {
    "duration": 90,
    "start_time": "2022-01-20T21:08:40.378Z"
   },
   {
    "duration": 15,
    "start_time": "2022-01-20T21:08:40.471Z"
   },
   {
    "duration": 15,
    "start_time": "2022-01-20T21:08:40.489Z"
   },
   {
    "duration": 37,
    "start_time": "2022-01-20T21:08:40.507Z"
   },
   {
    "duration": 9,
    "start_time": "2022-01-20T21:08:40.546Z"
   },
   {
    "duration": 12,
    "start_time": "2022-01-20T21:08:40.558Z"
   },
   {
    "duration": 14,
    "start_time": "2022-01-20T21:08:40.573Z"
   },
   {
    "duration": 199,
    "start_time": "2022-01-20T21:08:40.633Z"
   },
   {
    "duration": 17,
    "start_time": "2022-01-20T21:08:40.834Z"
   },
   {
    "duration": 18,
    "start_time": "2022-01-20T21:08:40.853Z"
   },
   {
    "duration": 15,
    "start_time": "2022-01-20T21:08:40.873Z"
   },
   {
    "duration": 45,
    "start_time": "2022-01-20T21:08:40.891Z"
   },
   {
    "duration": 11,
    "start_time": "2022-01-20T21:08:40.939Z"
   },
   {
    "duration": 500,
    "start_time": "2022-01-20T21:08:40.952Z"
   },
   {
    "duration": 321,
    "start_time": "2022-01-20T21:14:08.388Z"
   },
   {
    "duration": 785,
    "start_time": "2022-01-20T21:15:06.983Z"
   },
   {
    "duration": 791,
    "start_time": "2022-01-20T21:15:15.468Z"
   },
   {
    "duration": 327,
    "start_time": "2022-01-20T21:16:26.901Z"
   },
   {
    "duration": 359,
    "start_time": "2022-01-20T21:16:52.429Z"
   },
   {
    "duration": 331,
    "start_time": "2022-01-20T21:17:48.204Z"
   },
   {
    "duration": 15,
    "start_time": "2022-01-20T21:20:50.558Z"
   },
   {
    "duration": 13,
    "start_time": "2022-01-20T21:22:59.301Z"
   },
   {
    "duration": 11,
    "start_time": "2022-01-20T21:28:16.815Z"
   },
   {
    "duration": 6,
    "start_time": "2022-01-20T21:28:37.236Z"
   },
   {
    "duration": 367,
    "start_time": "2022-01-20T21:28:42.438Z"
   },
   {
    "duration": 10,
    "start_time": "2022-01-20T21:29:00.784Z"
   },
   {
    "duration": 7,
    "start_time": "2022-01-20T21:29:07.080Z"
   },
   {
    "duration": 326,
    "start_time": "2022-01-20T21:29:43.923Z"
   },
   {
    "duration": 290,
    "start_time": "2022-01-20T21:29:57.778Z"
   },
   {
    "duration": 368,
    "start_time": "2022-01-20T21:30:08.122Z"
   },
   {
    "duration": 493,
    "start_time": "2022-01-20T21:44:03.173Z"
   },
   {
    "duration": 113,
    "start_time": "2022-01-20T21:53:13.660Z"
   },
   {
    "duration": 806,
    "start_time": "2022-01-21T12:09:46.358Z"
   },
   {
    "duration": 445,
    "start_time": "2022-01-21T12:09:47.167Z"
   },
   {
    "duration": 15,
    "start_time": "2022-01-21T12:09:47.615Z"
   },
   {
    "duration": 25,
    "start_time": "2022-01-21T12:09:47.632Z"
   },
   {
    "duration": 12,
    "start_time": "2022-01-21T12:09:47.659Z"
   },
   {
    "duration": 50,
    "start_time": "2022-01-21T12:09:47.673Z"
   },
   {
    "duration": 11,
    "start_time": "2022-01-21T12:09:47.725Z"
   },
   {
    "duration": 14,
    "start_time": "2022-01-21T12:09:47.740Z"
   },
   {
    "duration": 13,
    "start_time": "2022-01-21T12:09:47.757Z"
   },
   {
    "duration": 19,
    "start_time": "2022-01-21T12:09:47.773Z"
   },
   {
    "duration": 37,
    "start_time": "2022-01-21T12:09:47.795Z"
   },
   {
    "duration": 9,
    "start_time": "2022-01-21T12:09:47.835Z"
   },
   {
    "duration": 20,
    "start_time": "2022-01-21T12:09:47.847Z"
   },
   {
    "duration": 10,
    "start_time": "2022-01-21T12:09:47.870Z"
   },
   {
    "duration": 215,
    "start_time": "2022-01-21T12:09:47.883Z"
   },
   {
    "duration": 7,
    "start_time": "2022-01-21T12:09:48.100Z"
   },
   {
    "duration": 74,
    "start_time": "2022-01-21T12:09:48.109Z"
   },
   {
    "duration": 9,
    "start_time": "2022-01-21T12:09:48.185Z"
   },
   {
    "duration": 44,
    "start_time": "2022-01-21T12:09:48.197Z"
   },
   {
    "duration": 11,
    "start_time": "2022-01-21T12:09:48.244Z"
   },
   {
    "duration": 39,
    "start_time": "2022-01-21T12:09:48.258Z"
   },
   {
    "duration": 30,
    "start_time": "2022-01-21T12:09:48.299Z"
   },
   {
    "duration": 62,
    "start_time": "2022-01-21T12:09:48.334Z"
   },
   {
    "duration": 26,
    "start_time": "2022-01-21T12:09:48.399Z"
   },
   {
    "duration": 13,
    "start_time": "2022-01-21T12:09:48.427Z"
   },
   {
    "duration": 14,
    "start_time": "2022-01-21T12:09:48.442Z"
   },
   {
    "duration": 10,
    "start_time": "2022-01-21T12:09:48.459Z"
   },
   {
    "duration": 10,
    "start_time": "2022-01-21T12:09:48.471Z"
   },
   {
    "duration": 11,
    "start_time": "2022-01-21T12:09:48.523Z"
   },
   {
    "duration": 165,
    "start_time": "2022-01-21T12:09:48.536Z"
   },
   {
    "duration": 24,
    "start_time": "2022-01-21T12:09:48.703Z"
   },
   {
    "duration": 14,
    "start_time": "2022-01-21T12:09:48.730Z"
   },
   {
    "duration": 13,
    "start_time": "2022-01-21T12:09:48.746Z"
   },
   {
    "duration": 9,
    "start_time": "2022-01-21T12:09:48.761Z"
   },
   {
    "duration": 6,
    "start_time": "2022-01-21T12:09:48.772Z"
   },
   {
    "duration": 484,
    "start_time": "2022-01-21T12:09:48.823Z"
   },
   {
    "duration": 3,
    "start_time": "2022-01-21T12:10:12.576Z"
   },
   {
    "duration": 600,
    "start_time": "2022-01-21T12:10:13.269Z"
   },
   {
    "duration": 702,
    "start_time": "2022-01-21T12:18:04.008Z"
   },
   {
    "duration": 456,
    "start_time": "2022-01-21T12:19:26.652Z"
   },
   {
    "duration": 615,
    "start_time": "2022-01-21T12:19:45.710Z"
   },
   {
    "duration": 626,
    "start_time": "2022-01-21T12:21:42.705Z"
   },
   {
    "duration": 827,
    "start_time": "2022-01-21T12:29:22.531Z"
   },
   {
    "duration": 465,
    "start_time": "2022-01-21T12:29:23.360Z"
   },
   {
    "duration": 16,
    "start_time": "2022-01-21T12:29:23.828Z"
   },
   {
    "duration": 27,
    "start_time": "2022-01-21T12:29:23.846Z"
   },
   {
    "duration": 11,
    "start_time": "2022-01-21T12:29:23.876Z"
   },
   {
    "duration": 51,
    "start_time": "2022-01-21T12:29:23.889Z"
   },
   {
    "duration": 12,
    "start_time": "2022-01-21T12:29:23.942Z"
   },
   {
    "duration": 13,
    "start_time": "2022-01-21T12:29:23.959Z"
   },
   {
    "duration": 52,
    "start_time": "2022-01-21T12:29:23.976Z"
   },
   {
    "duration": 20,
    "start_time": "2022-01-21T12:29:24.031Z"
   },
   {
    "duration": 12,
    "start_time": "2022-01-21T12:29:24.055Z"
   },
   {
    "duration": 10,
    "start_time": "2022-01-21T12:29:24.069Z"
   },
   {
    "duration": 53,
    "start_time": "2022-01-21T12:29:24.081Z"
   },
   {
    "duration": 11,
    "start_time": "2022-01-21T12:29:24.137Z"
   },
   {
    "duration": 200,
    "start_time": "2022-01-21T12:29:24.151Z"
   },
   {
    "duration": 9,
    "start_time": "2022-01-21T12:29:24.353Z"
   },
   {
    "duration": 84,
    "start_time": "2022-01-21T12:29:24.364Z"
   },
   {
    "duration": 10,
    "start_time": "2022-01-21T12:29:24.450Z"
   },
   {
    "duration": 27,
    "start_time": "2022-01-21T12:29:24.462Z"
   },
   {
    "duration": 34,
    "start_time": "2022-01-21T12:29:24.491Z"
   },
   {
    "duration": 42,
    "start_time": "2022-01-21T12:29:24.527Z"
   },
   {
    "duration": 13,
    "start_time": "2022-01-21T12:29:24.571Z"
   },
   {
    "duration": 3851,
    "start_time": "2022-01-21T12:29:24.589Z"
   },
   {
    "duration": 15,
    "start_time": "2022-01-21T12:29:28.443Z"
   },
   {
    "duration": 43,
    "start_time": "2022-01-21T12:29:28.461Z"
   },
   {
    "duration": 22,
    "start_time": "2022-01-21T12:29:28.506Z"
   },
   {
    "duration": 33,
    "start_time": "2022-01-21T12:29:28.530Z"
   },
   {
    "duration": 76,
    "start_time": "2022-01-21T12:29:28.565Z"
   },
   {
    "duration": 9424,
    "start_time": "2022-01-21T12:29:28.643Z"
   },
   {
    "duration": 16,
    "start_time": "2022-01-21T12:29:38.070Z"
   },
   {
    "duration": 53,
    "start_time": "2022-01-21T12:29:38.088Z"
   },
   {
    "duration": 29,
    "start_time": "2022-01-21T12:29:38.143Z"
   },
   {
    "duration": 17,
    "start_time": "2022-01-21T12:29:38.174Z"
   },
   {
    "duration": 31,
    "start_time": "2022-01-21T12:29:38.194Z"
   },
   {
    "duration": 11,
    "start_time": "2022-01-21T12:29:38.228Z"
   },
   {
    "duration": 705,
    "start_time": "2022-01-21T12:29:38.241Z"
   },
   {
    "duration": 879,
    "start_time": "2022-01-21T12:35:16.104Z"
   },
   {
    "duration": 520,
    "start_time": "2022-01-21T12:35:16.985Z"
   },
   {
    "duration": 15,
    "start_time": "2022-01-21T12:35:17.507Z"
   },
   {
    "duration": 25,
    "start_time": "2022-01-21T12:35:17.525Z"
   },
   {
    "duration": 11,
    "start_time": "2022-01-21T12:35:17.552Z"
   },
   {
    "duration": 23,
    "start_time": "2022-01-21T12:35:17.565Z"
   },
   {
    "duration": 40,
    "start_time": "2022-01-21T12:35:17.590Z"
   },
   {
    "duration": 16,
    "start_time": "2022-01-21T12:35:17.634Z"
   },
   {
    "duration": 9,
    "start_time": "2022-01-21T12:35:17.653Z"
   },
   {
    "duration": 23,
    "start_time": "2022-01-21T12:35:17.664Z"
   },
   {
    "duration": 35,
    "start_time": "2022-01-21T12:35:17.690Z"
   },
   {
    "duration": 10,
    "start_time": "2022-01-21T12:35:17.727Z"
   },
   {
    "duration": 16,
    "start_time": "2022-01-21T12:35:17.740Z"
   },
   {
    "duration": 11,
    "start_time": "2022-01-21T12:35:17.759Z"
   },
   {
    "duration": 216,
    "start_time": "2022-01-21T12:35:17.773Z"
   },
   {
    "duration": 9,
    "start_time": "2022-01-21T12:35:17.992Z"
   },
   {
    "duration": 90,
    "start_time": "2022-01-21T12:35:18.004Z"
   },
   {
    "duration": 27,
    "start_time": "2022-01-21T12:35:18.096Z"
   },
   {
    "duration": 32,
    "start_time": "2022-01-21T12:35:18.125Z"
   },
   {
    "duration": 12,
    "start_time": "2022-01-21T12:35:18.160Z"
   },
   {
    "duration": 70,
    "start_time": "2022-01-21T12:35:18.174Z"
   },
   {
    "duration": 13,
    "start_time": "2022-01-21T12:35:18.247Z"
   },
   {
    "duration": 96,
    "start_time": "2022-01-21T12:35:18.265Z"
   },
   {
    "duration": 15,
    "start_time": "2022-01-21T12:35:18.363Z"
   },
   {
    "duration": 16,
    "start_time": "2022-01-21T12:35:18.381Z"
   },
   {
    "duration": 19,
    "start_time": "2022-01-21T12:35:18.422Z"
   },
   {
    "duration": 10,
    "start_time": "2022-01-21T12:35:18.444Z"
   },
   {
    "duration": 10,
    "start_time": "2022-01-21T12:35:18.456Z"
   },
   {
    "duration": 221,
    "start_time": "2022-01-21T12:35:18.469Z"
   },
   {
    "duration": 31,
    "start_time": "2022-01-21T12:35:18.692Z"
   },
   {
    "duration": 14,
    "start_time": "2022-01-21T12:35:18.725Z"
   },
   {
    "duration": 14,
    "start_time": "2022-01-21T12:35:18.742Z"
   },
   {
    "duration": 10,
    "start_time": "2022-01-21T12:35:18.758Z"
   },
   {
    "duration": 13,
    "start_time": "2022-01-21T12:35:18.770Z"
   },
   {
    "duration": 41,
    "start_time": "2022-01-21T12:35:18.785Z"
   },
   {
    "duration": 658,
    "start_time": "2022-01-21T12:35:18.828Z"
   },
   {
    "duration": 849,
    "start_time": "2022-01-21T12:38:46.118Z"
   },
   {
    "duration": 470,
    "start_time": "2022-01-21T12:38:46.970Z"
   },
   {
    "duration": 15,
    "start_time": "2022-01-21T12:38:47.442Z"
   },
   {
    "duration": 25,
    "start_time": "2022-01-21T12:38:47.460Z"
   },
   {
    "duration": 11,
    "start_time": "2022-01-21T12:38:47.488Z"
   },
   {
    "duration": 32,
    "start_time": "2022-01-21T12:38:47.501Z"
   },
   {
    "duration": 10,
    "start_time": "2022-01-21T12:38:47.535Z"
   },
   {
    "duration": 24,
    "start_time": "2022-01-21T12:38:47.548Z"
   },
   {
    "duration": 12,
    "start_time": "2022-01-21T12:38:47.575Z"
   },
   {
    "duration": 39,
    "start_time": "2022-01-21T12:38:47.589Z"
   },
   {
    "duration": 10,
    "start_time": "2022-01-21T12:38:47.631Z"
   },
   {
    "duration": 11,
    "start_time": "2022-01-21T12:38:47.644Z"
   },
   {
    "duration": 15,
    "start_time": "2022-01-21T12:38:47.657Z"
   },
   {
    "duration": 8,
    "start_time": "2022-01-21T12:38:47.674Z"
   },
   {
    "duration": 187,
    "start_time": "2022-01-21T12:38:47.723Z"
   },
   {
    "duration": 12,
    "start_time": "2022-01-21T12:38:47.912Z"
   },
   {
    "duration": 73,
    "start_time": "2022-01-21T12:38:47.926Z"
   },
   {
    "duration": 23,
    "start_time": "2022-01-21T12:38:48.001Z"
   },
   {
    "duration": 31,
    "start_time": "2022-01-21T12:38:48.027Z"
   },
   {
    "duration": 13,
    "start_time": "2022-01-21T12:38:48.060Z"
   },
   {
    "duration": 70,
    "start_time": "2022-01-21T12:38:48.076Z"
   },
   {
    "duration": 18,
    "start_time": "2022-01-21T12:38:48.148Z"
   },
   {
    "duration": 134,
    "start_time": "2022-01-21T12:38:48.174Z"
   },
   {
    "duration": 18,
    "start_time": "2022-01-21T12:38:48.312Z"
   },
   {
    "duration": 15,
    "start_time": "2022-01-21T12:38:48.334Z"
   },
   {
    "duration": 18,
    "start_time": "2022-01-21T12:38:48.352Z"
   },
   {
    "duration": 51,
    "start_time": "2022-01-21T12:38:48.372Z"
   },
   {
    "duration": 11,
    "start_time": "2022-01-21T12:38:48.426Z"
   },
   {
    "duration": 191,
    "start_time": "2022-01-21T12:38:48.440Z"
   },
   {
    "duration": 19,
    "start_time": "2022-01-21T12:38:48.633Z"
   },
   {
    "duration": 17,
    "start_time": "2022-01-21T12:38:48.654Z"
   },
   {
    "duration": 14,
    "start_time": "2022-01-21T12:38:48.673Z"
   },
   {
    "duration": 43,
    "start_time": "2022-01-21T12:38:48.689Z"
   },
   {
    "duration": 10,
    "start_time": "2022-01-21T12:38:48.734Z"
   },
   {
    "duration": 4,
    "start_time": "2022-01-21T12:38:48.746Z"
   },
   {
    "duration": 678,
    "start_time": "2022-01-21T12:38:48.753Z"
   },
   {
    "duration": 785,
    "start_time": "2022-01-21T12:50:42.378Z"
   },
   {
    "duration": 456,
    "start_time": "2022-01-21T12:50:43.165Z"
   },
   {
    "duration": 15,
    "start_time": "2022-01-21T12:50:43.624Z"
   },
   {
    "duration": 26,
    "start_time": "2022-01-21T12:50:43.641Z"
   },
   {
    "duration": 10,
    "start_time": "2022-01-21T12:50:43.669Z"
   },
   {
    "duration": 54,
    "start_time": "2022-01-21T12:50:43.681Z"
   },
   {
    "duration": 11,
    "start_time": "2022-01-21T12:50:43.737Z"
   },
   {
    "duration": 11,
    "start_time": "2022-01-21T12:50:43.752Z"
   },
   {
    "duration": 10,
    "start_time": "2022-01-21T12:50:43.766Z"
   },
   {
    "duration": 47,
    "start_time": "2022-01-21T12:50:43.778Z"
   },
   {
    "duration": 11,
    "start_time": "2022-01-21T12:50:43.828Z"
   },
   {
    "duration": 10,
    "start_time": "2022-01-21T12:50:43.841Z"
   },
   {
    "duration": 18,
    "start_time": "2022-01-21T12:50:43.853Z"
   },
   {
    "duration": 8,
    "start_time": "2022-01-21T12:50:43.873Z"
   },
   {
    "duration": 207,
    "start_time": "2022-01-21T12:50:43.883Z"
   },
   {
    "duration": 7,
    "start_time": "2022-01-21T12:50:44.092Z"
   },
   {
    "duration": 77,
    "start_time": "2022-01-21T12:50:44.101Z"
   },
   {
    "duration": 9,
    "start_time": "2022-01-21T12:50:44.180Z"
   },
   {
    "duration": 45,
    "start_time": "2022-01-21T12:50:44.192Z"
   },
   {
    "duration": 12,
    "start_time": "2022-01-21T12:50:44.239Z"
   },
   {
    "duration": 37,
    "start_time": "2022-01-21T12:50:44.253Z"
   },
   {
    "duration": 34,
    "start_time": "2022-01-21T12:50:44.292Z"
   },
   {
    "duration": 65,
    "start_time": "2022-01-21T12:50:44.332Z"
   },
   {
    "duration": 32,
    "start_time": "2022-01-21T12:50:44.400Z"
   },
   {
    "duration": 14,
    "start_time": "2022-01-21T12:50:44.435Z"
   },
   {
    "duration": 17,
    "start_time": "2022-01-21T12:50:44.451Z"
   },
   {
    "duration": 53,
    "start_time": "2022-01-21T12:50:44.470Z"
   },
   {
    "duration": 13,
    "start_time": "2022-01-21T12:50:44.526Z"
   },
   {
    "duration": 182,
    "start_time": "2022-01-21T12:50:44.542Z"
   },
   {
    "duration": 18,
    "start_time": "2022-01-21T12:50:44.727Z"
   },
   {
    "duration": 17,
    "start_time": "2022-01-21T12:50:44.748Z"
   },
   {
    "duration": 14,
    "start_time": "2022-01-21T12:50:44.767Z"
   },
   {
    "duration": 44,
    "start_time": "2022-01-21T12:50:44.783Z"
   },
   {
    "duration": 5,
    "start_time": "2022-01-21T12:50:44.830Z"
   },
   {
    "duration": 4,
    "start_time": "2022-01-21T12:50:44.838Z"
   },
   {
    "duration": 648,
    "start_time": "2022-01-21T12:50:44.845Z"
   },
   {
    "duration": 836,
    "start_time": "2022-01-21T12:52:32.410Z"
   },
   {
    "duration": 523,
    "start_time": "2022-01-21T12:52:33.249Z"
   },
   {
    "duration": 18,
    "start_time": "2022-01-21T12:52:33.775Z"
   },
   {
    "duration": 35,
    "start_time": "2022-01-21T12:52:33.796Z"
   },
   {
    "duration": 11,
    "start_time": "2022-01-21T12:52:33.833Z"
   },
   {
    "duration": 23,
    "start_time": "2022-01-21T12:52:33.847Z"
   },
   {
    "duration": 11,
    "start_time": "2022-01-21T12:52:33.872Z"
   },
   {
    "duration": 41,
    "start_time": "2022-01-21T12:52:33.887Z"
   },
   {
    "duration": 11,
    "start_time": "2022-01-21T12:52:33.933Z"
   },
   {
    "duration": 20,
    "start_time": "2022-01-21T12:52:33.947Z"
   },
   {
    "duration": 55,
    "start_time": "2022-01-21T12:52:33.969Z"
   },
   {
    "duration": 10,
    "start_time": "2022-01-21T12:52:34.026Z"
   },
   {
    "duration": 27,
    "start_time": "2022-01-21T12:52:34.039Z"
   },
   {
    "duration": 22,
    "start_time": "2022-01-21T12:52:34.068Z"
   },
   {
    "duration": 185,
    "start_time": "2022-01-21T12:52:34.093Z"
   },
   {
    "duration": 7,
    "start_time": "2022-01-21T12:52:34.280Z"
   },
   {
    "duration": 81,
    "start_time": "2022-01-21T12:52:34.289Z"
   },
   {
    "duration": 11,
    "start_time": "2022-01-21T12:52:34.372Z"
   },
   {
    "duration": 45,
    "start_time": "2022-01-21T12:52:34.385Z"
   },
   {
    "duration": 11,
    "start_time": "2022-01-21T12:52:34.432Z"
   },
   {
    "duration": 37,
    "start_time": "2022-01-21T12:52:34.445Z"
   },
   {
    "duration": 13,
    "start_time": "2022-01-21T12:52:34.484Z"
   },
   {
    "duration": 65,
    "start_time": "2022-01-21T12:52:34.525Z"
   },
   {
    "duration": 14,
    "start_time": "2022-01-21T12:52:34.593Z"
   },
   {
    "duration": 24,
    "start_time": "2022-01-21T12:52:34.609Z"
   },
   {
    "duration": 25,
    "start_time": "2022-01-21T12:52:34.635Z"
   },
   {
    "duration": 11,
    "start_time": "2022-01-21T12:52:34.662Z"
   },
   {
    "duration": 23,
    "start_time": "2022-01-21T12:52:34.675Z"
   },
   {
    "duration": 180,
    "start_time": "2022-01-21T12:52:34.700Z"
   },
   {
    "duration": 16,
    "start_time": "2022-01-21T12:52:34.882Z"
   },
   {
    "duration": 26,
    "start_time": "2022-01-21T12:52:34.900Z"
   },
   {
    "duration": 21,
    "start_time": "2022-01-21T12:52:34.928Z"
   },
   {
    "duration": 10,
    "start_time": "2022-01-21T12:52:34.951Z"
   },
   {
    "duration": 15,
    "start_time": "2022-01-21T12:52:34.963Z"
   },
   {
    "duration": 13,
    "start_time": "2022-01-21T12:52:34.980Z"
   },
   {
    "duration": 661,
    "start_time": "2022-01-21T12:52:34.995Z"
   },
   {
    "duration": 844,
    "start_time": "2022-01-21T12:54:36.528Z"
   },
   {
    "duration": 477,
    "start_time": "2022-01-21T12:54:37.375Z"
   },
   {
    "duration": 14,
    "start_time": "2022-01-21T12:54:37.855Z"
   },
   {
    "duration": 27,
    "start_time": "2022-01-21T12:54:37.871Z"
   },
   {
    "duration": 13,
    "start_time": "2022-01-21T12:54:37.900Z"
   },
   {
    "duration": 26,
    "start_time": "2022-01-21T12:54:37.915Z"
   },
   {
    "duration": 11,
    "start_time": "2022-01-21T12:54:37.943Z"
   },
   {
    "duration": 22,
    "start_time": "2022-01-21T12:54:37.957Z"
   },
   {
    "duration": 13,
    "start_time": "2022-01-21T12:54:37.982Z"
   },
   {
    "duration": 42,
    "start_time": "2022-01-21T12:54:37.998Z"
   },
   {
    "duration": 12,
    "start_time": "2022-01-21T12:54:38.042Z"
   },
   {
    "duration": 13,
    "start_time": "2022-01-21T12:54:38.056Z"
   },
   {
    "duration": 24,
    "start_time": "2022-01-21T12:54:38.072Z"
   },
   {
    "duration": 9,
    "start_time": "2022-01-21T12:54:38.122Z"
   },
   {
    "duration": 179,
    "start_time": "2022-01-21T12:54:38.134Z"
   },
   {
    "duration": 10,
    "start_time": "2022-01-21T12:54:38.316Z"
   },
   {
    "duration": 64,
    "start_time": "2022-01-21T12:54:38.328Z"
   },
   {
    "duration": 9,
    "start_time": "2022-01-21T12:54:38.394Z"
   },
   {
    "duration": 40,
    "start_time": "2022-01-21T12:54:38.405Z"
   },
   {
    "duration": 11,
    "start_time": "2022-01-21T12:54:38.447Z"
   },
   {
    "duration": 33,
    "start_time": "2022-01-21T12:54:38.460Z"
   },
   {
    "duration": 38,
    "start_time": "2022-01-21T12:54:38.495Z"
   },
   {
    "duration": 61,
    "start_time": "2022-01-21T12:54:38.538Z"
   },
   {
    "duration": 34,
    "start_time": "2022-01-21T12:54:38.602Z"
   },
   {
    "duration": 13,
    "start_time": "2022-01-21T12:54:38.638Z"
   },
   {
    "duration": 15,
    "start_time": "2022-01-21T12:54:38.653Z"
   },
   {
    "duration": 16,
    "start_time": "2022-01-21T12:54:38.671Z"
   },
   {
    "duration": 39,
    "start_time": "2022-01-21T12:54:38.689Z"
   },
   {
    "duration": 174,
    "start_time": "2022-01-21T12:54:38.730Z"
   },
   {
    "duration": 20,
    "start_time": "2022-01-21T12:54:38.906Z"
   },
   {
    "duration": 14,
    "start_time": "2022-01-21T12:54:38.929Z"
   },
   {
    "duration": 13,
    "start_time": "2022-01-21T12:54:38.945Z"
   },
   {
    "duration": 9,
    "start_time": "2022-01-21T12:54:38.960Z"
   },
   {
    "duration": 6,
    "start_time": "2022-01-21T12:54:38.971Z"
   },
   {
    "duration": 3,
    "start_time": "2022-01-21T12:54:39.023Z"
   },
   {
    "duration": 616,
    "start_time": "2022-01-21T12:54:39.029Z"
   },
   {
    "duration": 517,
    "start_time": "2022-01-21T16:41:58.072Z"
   },
   {
    "duration": 858,
    "start_time": "2022-01-21T16:42:04.973Z"
   },
   {
    "duration": 521,
    "start_time": "2022-01-21T16:42:05.834Z"
   },
   {
    "duration": 16,
    "start_time": "2022-01-21T16:42:06.358Z"
   },
   {
    "duration": 28,
    "start_time": "2022-01-21T16:42:06.377Z"
   },
   {
    "duration": 12,
    "start_time": "2022-01-21T16:42:06.407Z"
   },
   {
    "duration": 25,
    "start_time": "2022-01-21T16:42:06.424Z"
   },
   {
    "duration": 12,
    "start_time": "2022-01-21T16:42:06.451Z"
   },
   {
    "duration": 13,
    "start_time": "2022-01-21T16:42:06.467Z"
   },
   {
    "duration": 42,
    "start_time": "2022-01-21T16:42:06.483Z"
   },
   {
    "duration": 20,
    "start_time": "2022-01-21T16:42:06.527Z"
   },
   {
    "duration": 12,
    "start_time": "2022-01-21T16:42:06.549Z"
   },
   {
    "duration": 10,
    "start_time": "2022-01-21T16:42:06.563Z"
   },
   {
    "duration": 60,
    "start_time": "2022-01-21T16:42:06.575Z"
   },
   {
    "duration": 9,
    "start_time": "2022-01-21T16:42:06.639Z"
   },
   {
    "duration": 198,
    "start_time": "2022-01-21T16:42:06.650Z"
   },
   {
    "duration": 7,
    "start_time": "2022-01-21T16:42:06.850Z"
   },
   {
    "duration": 90,
    "start_time": "2022-01-21T16:42:06.860Z"
   },
   {
    "duration": 11,
    "start_time": "2022-01-21T16:42:06.953Z"
   },
   {
    "duration": 60,
    "start_time": "2022-01-21T16:42:06.966Z"
   },
   {
    "duration": 12,
    "start_time": "2022-01-21T16:42:07.029Z"
   },
   {
    "duration": 55,
    "start_time": "2022-01-21T16:42:07.043Z"
   },
   {
    "duration": 33,
    "start_time": "2022-01-21T16:42:07.101Z"
   },
   {
    "duration": 115,
    "start_time": "2022-01-21T16:42:07.141Z"
   },
   {
    "duration": 21,
    "start_time": "2022-01-21T16:42:07.260Z"
   },
   {
    "duration": 14,
    "start_time": "2022-01-21T16:42:07.284Z"
   },
   {
    "duration": 17,
    "start_time": "2022-01-21T16:42:07.325Z"
   },
   {
    "duration": 11,
    "start_time": "2022-01-21T16:42:07.344Z"
   },
   {
    "duration": 16,
    "start_time": "2022-01-21T16:42:07.358Z"
   },
   {
    "duration": 212,
    "start_time": "2022-01-21T16:42:07.376Z"
   },
   {
    "duration": 19,
    "start_time": "2022-01-21T16:42:07.591Z"
   },
   {
    "duration": 21,
    "start_time": "2022-01-21T16:42:07.625Z"
   },
   {
    "duration": 20,
    "start_time": "2022-01-21T16:42:07.649Z"
   },
   {
    "duration": 14,
    "start_time": "2022-01-21T16:42:07.672Z"
   },
   {
    "duration": 7,
    "start_time": "2022-01-21T16:42:07.725Z"
   },
   {
    "duration": 6,
    "start_time": "2022-01-21T16:42:07.734Z"
   },
   {
    "duration": 708,
    "start_time": "2022-01-21T16:42:07.742Z"
   },
   {
    "duration": 11,
    "start_time": "2022-01-21T16:42:08.453Z"
   },
   {
    "duration": 10,
    "start_time": "2022-01-21T16:43:34.128Z"
   },
   {
    "duration": 8,
    "start_time": "2022-01-21T16:46:42.616Z"
   },
   {
    "duration": 9,
    "start_time": "2022-01-21T16:48:07.273Z"
   },
   {
    "duration": 11,
    "start_time": "2022-01-21T16:49:16.754Z"
   },
   {
    "duration": 555,
    "start_time": "2022-01-21T16:50:46.311Z"
   },
   {
    "duration": 777,
    "start_time": "2022-01-21T17:06:14.649Z"
   },
   {
    "duration": 462,
    "start_time": "2022-01-21T17:06:15.429Z"
   },
   {
    "duration": 16,
    "start_time": "2022-01-21T17:06:15.895Z"
   },
   {
    "duration": 24,
    "start_time": "2022-01-21T17:06:15.914Z"
   },
   {
    "duration": 11,
    "start_time": "2022-01-21T17:06:15.941Z"
   },
   {
    "duration": 21,
    "start_time": "2022-01-21T17:06:15.954Z"
   },
   {
    "duration": 10,
    "start_time": "2022-01-21T17:06:15.977Z"
   },
   {
    "duration": 40,
    "start_time": "2022-01-21T17:06:15.991Z"
   },
   {
    "duration": 9,
    "start_time": "2022-01-21T17:06:16.035Z"
   },
   {
    "duration": 19,
    "start_time": "2022-01-21T17:06:16.047Z"
   },
   {
    "duration": 12,
    "start_time": "2022-01-21T17:06:16.068Z"
   },
   {
    "duration": 42,
    "start_time": "2022-01-21T17:06:16.083Z"
   },
   {
    "duration": 14,
    "start_time": "2022-01-21T17:06:16.127Z"
   },
   {
    "duration": 11,
    "start_time": "2022-01-21T17:06:16.143Z"
   },
   {
    "duration": 200,
    "start_time": "2022-01-21T17:06:16.157Z"
   },
   {
    "duration": 6,
    "start_time": "2022-01-21T17:06:16.360Z"
   },
   {
    "duration": 81,
    "start_time": "2022-01-21T17:06:16.368Z"
   },
   {
    "duration": 10,
    "start_time": "2022-01-21T17:06:16.451Z"
   },
   {
    "duration": 30,
    "start_time": "2022-01-21T17:06:16.464Z"
   },
   {
    "duration": 34,
    "start_time": "2022-01-21T17:06:16.496Z"
   },
   {
    "duration": 39,
    "start_time": "2022-01-21T17:06:16.533Z"
   },
   {
    "duration": 15,
    "start_time": "2022-01-21T17:06:16.574Z"
   },
   {
    "duration": 91,
    "start_time": "2022-01-21T17:06:16.594Z"
   },
   {
    "duration": 13,
    "start_time": "2022-01-21T17:06:16.688Z"
   },
   {
    "duration": 30,
    "start_time": "2022-01-21T17:06:16.703Z"
   },
   {
    "duration": 14,
    "start_time": "2022-01-21T17:06:16.736Z"
   },
   {
    "duration": 12,
    "start_time": "2022-01-21T17:06:16.753Z"
   },
   {
    "duration": 12,
    "start_time": "2022-01-21T17:06:16.767Z"
   },
   {
    "duration": 167,
    "start_time": "2022-01-21T17:06:16.824Z"
   },
   {
    "duration": 18,
    "start_time": "2022-01-21T17:06:16.993Z"
   },
   {
    "duration": 16,
    "start_time": "2022-01-21T17:06:17.024Z"
   },
   {
    "duration": 13,
    "start_time": "2022-01-21T17:06:17.043Z"
   },
   {
    "duration": 15,
    "start_time": "2022-01-21T17:06:17.059Z"
   },
   {
    "duration": 9,
    "start_time": "2022-01-21T17:06:17.076Z"
   },
   {
    "duration": 4,
    "start_time": "2022-01-21T17:06:17.125Z"
   },
   {
    "duration": 596,
    "start_time": "2022-01-21T17:06:17.132Z"
   },
   {
    "duration": 12,
    "start_time": "2022-01-21T17:06:17.732Z"
   },
   {
    "duration": 10,
    "start_time": "2022-01-21T17:06:17.747Z"
   },
   {
    "duration": 10,
    "start_time": "2022-01-21T17:06:17.760Z"
   },
   {
    "duration": 614,
    "start_time": "2022-01-21T17:06:17.772Z"
   },
   {
    "duration": 799,
    "start_time": "2022-01-21T17:33:01.889Z"
   },
   {
    "duration": 716,
    "start_time": "2022-01-21T17:33:15.544Z"
   },
   {
    "duration": 759,
    "start_time": "2022-01-21T17:33:21.567Z"
   },
   {
    "duration": 724,
    "start_time": "2022-01-21T17:33:25.461Z"
   },
   {
    "duration": 1225,
    "start_time": "2022-01-21T17:34:01.769Z"
   },
   {
    "duration": 1199,
    "start_time": "2022-01-21T17:34:11.665Z"
   },
   {
    "duration": 879,
    "start_time": "2022-01-21T17:36:30.753Z"
   },
   {
    "duration": 499,
    "start_time": "2022-01-21T17:49:18.107Z"
   },
   {
    "duration": 1008,
    "start_time": "2022-01-21T17:50:01.218Z"
   },
   {
    "duration": 714,
    "start_time": "2022-01-21T17:50:10.899Z"
   },
   {
    "duration": 382,
    "start_time": "2022-01-21T17:51:57.881Z"
   },
   {
    "duration": 932,
    "start_time": "2022-01-21T17:52:09.291Z"
   },
   {
    "duration": 811,
    "start_time": "2022-01-21T17:52:29.883Z"
   },
   {
    "duration": 1221,
    "start_time": "2022-01-21T17:55:16.416Z"
   },
   {
    "duration": 1064,
    "start_time": "2022-01-21T17:56:00.704Z"
   },
   {
    "duration": 951,
    "start_time": "2022-01-21T17:57:12.610Z"
   },
   {
    "duration": 990,
    "start_time": "2022-01-21T17:57:59.160Z"
   },
   {
    "duration": 1021,
    "start_time": "2022-01-21T17:58:18.564Z"
   },
   {
    "duration": 900,
    "start_time": "2022-01-21T18:01:38.857Z"
   },
   {
    "duration": 929,
    "start_time": "2022-01-21T18:02:27.862Z"
   },
   {
    "duration": 1224,
    "start_time": "2022-01-21T18:04:35.536Z"
   },
   {
    "duration": 865,
    "start_time": "2022-01-21T18:04:49.542Z"
   },
   {
    "duration": 848,
    "start_time": "2022-01-21T18:04:56.410Z"
   },
   {
    "duration": 880,
    "start_time": "2022-01-21T18:05:46.243Z"
   },
   {
    "duration": 11,
    "start_time": "2022-01-21T18:08:35.491Z"
   },
   {
    "duration": 11,
    "start_time": "2022-01-21T18:10:56.084Z"
   },
   {
    "duration": 12,
    "start_time": "2022-01-21T18:16:06.870Z"
   },
   {
    "duration": 871,
    "start_time": "2022-01-21T18:17:10.610Z"
   },
   {
    "duration": 1984,
    "start_time": "2022-01-21T18:36:28.502Z"
   },
   {
    "duration": 521,
    "start_time": "2022-01-21T18:36:30.489Z"
   },
   {
    "duration": 18,
    "start_time": "2022-01-21T18:36:31.014Z"
   },
   {
    "duration": 30,
    "start_time": "2022-01-21T18:36:31.035Z"
   },
   {
    "duration": 12,
    "start_time": "2022-01-21T18:36:31.067Z"
   },
   {
    "duration": 50,
    "start_time": "2022-01-21T18:36:31.081Z"
   },
   {
    "duration": 11,
    "start_time": "2022-01-21T18:36:31.133Z"
   },
   {
    "duration": 15,
    "start_time": "2022-01-21T18:36:31.148Z"
   },
   {
    "duration": 24,
    "start_time": "2022-01-21T18:36:31.165Z"
   },
   {
    "duration": 34,
    "start_time": "2022-01-21T18:36:31.192Z"
   },
   {
    "duration": 11,
    "start_time": "2022-01-21T18:36:31.229Z"
   },
   {
    "duration": 10,
    "start_time": "2022-01-21T18:36:31.243Z"
   },
   {
    "duration": 24,
    "start_time": "2022-01-21T18:36:31.256Z"
   },
   {
    "duration": 11,
    "start_time": "2022-01-21T18:36:31.282Z"
   },
   {
    "duration": 181,
    "start_time": "2022-01-21T18:36:31.324Z"
   },
   {
    "duration": 7,
    "start_time": "2022-01-21T18:36:31.507Z"
   },
   {
    "duration": 66,
    "start_time": "2022-01-21T18:36:31.523Z"
   },
   {
    "duration": 9,
    "start_time": "2022-01-21T18:36:31.592Z"
   },
   {
    "duration": 46,
    "start_time": "2022-01-21T18:36:31.604Z"
   },
   {
    "duration": 12,
    "start_time": "2022-01-21T18:36:31.653Z"
   },
   {
    "duration": 70,
    "start_time": "2022-01-21T18:36:31.668Z"
   },
   {
    "duration": 15,
    "start_time": "2022-01-21T18:36:31.740Z"
   },
   {
    "duration": 87,
    "start_time": "2022-01-21T18:36:31.762Z"
   },
   {
    "duration": 14,
    "start_time": "2022-01-21T18:36:31.851Z"
   },
   {
    "duration": 13,
    "start_time": "2022-01-21T18:36:31.867Z"
   },
   {
    "duration": 42,
    "start_time": "2022-01-21T18:36:31.882Z"
   },
   {
    "duration": 17,
    "start_time": "2022-01-21T18:36:31.927Z"
   },
   {
    "duration": 24,
    "start_time": "2022-01-21T18:36:31.947Z"
   },
   {
    "duration": 176,
    "start_time": "2022-01-21T18:36:31.974Z"
   },
   {
    "duration": 17,
    "start_time": "2022-01-21T18:36:32.152Z"
   },
   {
    "duration": 14,
    "start_time": "2022-01-21T18:36:32.171Z"
   },
   {
    "duration": 42,
    "start_time": "2022-01-21T18:36:32.188Z"
   },
   {
    "duration": 12,
    "start_time": "2022-01-21T18:36:32.232Z"
   },
   {
    "duration": 5,
    "start_time": "2022-01-21T18:36:32.247Z"
   },
   {
    "duration": 899,
    "start_time": "2022-01-21T18:36:32.255Z"
   },
   {
    "duration": 11,
    "start_time": "2022-01-21T18:36:33.156Z"
   },
   {
    "duration": 14,
    "start_time": "2022-01-21T18:36:33.170Z"
   },
   {
    "duration": 41,
    "start_time": "2022-01-21T18:36:33.187Z"
   },
   {
    "duration": 888,
    "start_time": "2022-01-21T18:36:33.231Z"
   },
   {
    "duration": 11,
    "start_time": "2022-01-21T18:36:34.124Z"
   },
   {
    "duration": 12,
    "start_time": "2022-01-21T18:36:34.138Z"
   },
   {
    "duration": 11,
    "start_time": "2022-01-21T18:36:34.153Z"
   },
   {
    "duration": 1346,
    "start_time": "2022-01-21T18:36:34.167Z"
   },
   {
    "duration": 1648,
    "start_time": "2022-01-21T19:44:45.178Z"
   },
   {
    "duration": 615,
    "start_time": "2022-01-21T19:44:46.830Z"
   },
   {
    "duration": 17,
    "start_time": "2022-01-21T19:44:47.449Z"
   },
   {
    "duration": 27,
    "start_time": "2022-01-21T19:44:47.469Z"
   },
   {
    "duration": 25,
    "start_time": "2022-01-21T19:44:47.498Z"
   },
   {
    "duration": 22,
    "start_time": "2022-01-21T19:44:47.526Z"
   },
   {
    "duration": 14,
    "start_time": "2022-01-21T19:44:47.550Z"
   },
   {
    "duration": 12,
    "start_time": "2022-01-21T19:44:47.569Z"
   },
   {
    "duration": 51,
    "start_time": "2022-01-21T19:44:47.585Z"
   },
   {
    "duration": 30,
    "start_time": "2022-01-21T19:44:47.639Z"
   },
   {
    "duration": 11,
    "start_time": "2022-01-21T19:44:47.672Z"
   },
   {
    "duration": 42,
    "start_time": "2022-01-21T19:44:47.686Z"
   },
   {
    "duration": 15,
    "start_time": "2022-01-21T19:44:47.731Z"
   },
   {
    "duration": 15,
    "start_time": "2022-01-21T19:44:47.748Z"
   },
   {
    "duration": 301,
    "start_time": "2022-01-21T19:44:47.766Z"
   },
   {
    "duration": 9,
    "start_time": "2022-01-21T19:44:48.071Z"
   },
   {
    "duration": 112,
    "start_time": "2022-01-21T19:44:48.083Z"
   },
   {
    "duration": 14,
    "start_time": "2022-01-21T19:44:48.198Z"
   },
   {
    "duration": 37,
    "start_time": "2022-01-21T19:44:48.215Z"
   },
   {
    "duration": 11,
    "start_time": "2022-01-21T19:44:48.254Z"
   },
   {
    "duration": 62,
    "start_time": "2022-01-21T19:44:48.268Z"
   },
   {
    "duration": 13,
    "start_time": "2022-01-21T19:44:48.332Z"
   },
   {
    "duration": 82,
    "start_time": "2022-01-21T19:44:48.350Z"
   },
   {
    "duration": 13,
    "start_time": "2022-01-21T19:44:48.435Z"
   },
   {
    "duration": 11,
    "start_time": "2022-01-21T19:44:48.450Z"
   },
   {
    "duration": 15,
    "start_time": "2022-01-21T19:44:48.463Z"
   },
   {
    "duration": 46,
    "start_time": "2022-01-21T19:44:48.480Z"
   },
   {
    "duration": 9,
    "start_time": "2022-01-21T19:44:48.528Z"
   },
   {
    "duration": 175,
    "start_time": "2022-01-21T19:44:48.540Z"
   },
   {
    "duration": 16,
    "start_time": "2022-01-21T19:44:48.717Z"
   },
   {
    "duration": 14,
    "start_time": "2022-01-21T19:44:48.735Z"
   },
   {
    "duration": 14,
    "start_time": "2022-01-21T19:44:48.751Z"
   },
   {
    "duration": 12,
    "start_time": "2022-01-21T19:44:48.768Z"
   },
   {
    "duration": 3,
    "start_time": "2022-01-21T19:44:48.823Z"
   },
   {
    "duration": 903,
    "start_time": "2022-01-21T19:44:48.829Z"
   },
   {
    "duration": 11,
    "start_time": "2022-01-21T19:44:49.734Z"
   },
   {
    "duration": 10,
    "start_time": "2022-01-21T19:44:49.748Z"
   },
   {
    "duration": 10,
    "start_time": "2022-01-21T19:44:49.760Z"
   },
   {
    "duration": 799,
    "start_time": "2022-01-21T19:44:49.773Z"
   },
   {
    "duration": 10,
    "start_time": "2022-01-21T19:44:50.574Z"
   },
   {
    "duration": 10,
    "start_time": "2022-01-21T19:44:50.587Z"
   },
   {
    "duration": 32,
    "start_time": "2022-01-21T19:44:50.600Z"
   },
   {
    "duration": 906,
    "start_time": "2022-01-21T19:44:50.634Z"
   },
   {
    "duration": 115,
    "start_time": "2022-01-21T19:59:51.955Z"
   },
   {
    "duration": 5,
    "start_time": "2022-01-21T20:11:31.992Z"
   },
   {
    "duration": 604,
    "start_time": "2022-01-21T20:39:24.029Z"
   },
   {
    "duration": 23,
    "start_time": "2022-01-21T20:39:31.621Z"
   },
   {
    "duration": 7,
    "start_time": "2022-01-21T20:43:48.758Z"
   },
   {
    "duration": 7,
    "start_time": "2022-01-21T20:44:05.254Z"
   },
   {
    "duration": 8,
    "start_time": "2022-01-21T20:44:10.357Z"
   },
   {
    "duration": 8,
    "start_time": "2022-01-21T20:44:15.845Z"
   },
   {
    "duration": 16,
    "start_time": "2022-01-21T20:49:39.940Z"
   },
   {
    "duration": 18,
    "start_time": "2022-01-21T20:52:31.278Z"
   },
   {
    "duration": 12,
    "start_time": "2022-01-21T20:57:51.110Z"
   },
   {
    "duration": 24,
    "start_time": "2022-01-21T20:57:52.007Z"
   },
   {
    "duration": 15,
    "start_time": "2022-01-21T20:58:05.809Z"
   },
   {
    "duration": 79,
    "start_time": "2022-01-21T20:58:06.397Z"
   },
   {
    "duration": 1381,
    "start_time": "2022-01-21T20:58:17.363Z"
   },
   {
    "duration": 492,
    "start_time": "2022-01-21T20:58:18.747Z"
   },
   {
    "duration": 15,
    "start_time": "2022-01-21T20:58:19.242Z"
   },
   {
    "duration": 28,
    "start_time": "2022-01-21T20:58:19.259Z"
   },
   {
    "duration": 11,
    "start_time": "2022-01-21T20:58:19.290Z"
   },
   {
    "duration": 40,
    "start_time": "2022-01-21T20:58:19.303Z"
   },
   {
    "duration": 12,
    "start_time": "2022-01-21T20:58:19.345Z"
   },
   {
    "duration": 12,
    "start_time": "2022-01-21T20:58:19.362Z"
   },
   {
    "duration": 13,
    "start_time": "2022-01-21T20:58:19.378Z"
   },
   {
    "duration": 32,
    "start_time": "2022-01-21T20:58:19.424Z"
   },
   {
    "duration": 16,
    "start_time": "2022-01-21T20:58:19.460Z"
   },
   {
    "duration": 11,
    "start_time": "2022-01-21T20:58:19.479Z"
   },
   {
    "duration": 21,
    "start_time": "2022-01-21T20:58:19.524Z"
   },
   {
    "duration": 12,
    "start_time": "2022-01-21T20:58:19.548Z"
   },
   {
    "duration": 292,
    "start_time": "2022-01-21T20:58:19.563Z"
   },
   {
    "duration": 9,
    "start_time": "2022-01-21T20:58:19.858Z"
   },
   {
    "duration": 116,
    "start_time": "2022-01-21T20:58:19.871Z"
   },
   {
    "duration": 15,
    "start_time": "2022-01-21T20:58:19.990Z"
   },
   {
    "duration": 58,
    "start_time": "2022-01-21T20:58:20.008Z"
   },
   {
    "duration": 17,
    "start_time": "2022-01-21T20:58:20.069Z"
   },
   {
    "duration": 76,
    "start_time": "2022-01-21T20:58:20.089Z"
   },
   {
    "duration": 19,
    "start_time": "2022-01-21T20:58:20.168Z"
   },
   {
    "duration": 160,
    "start_time": "2022-01-21T20:58:20.196Z"
   },
   {
    "duration": 21,
    "start_time": "2022-01-21T20:58:20.361Z"
   },
   {
    "duration": 38,
    "start_time": "2022-01-21T20:58:20.385Z"
   },
   {
    "duration": 22,
    "start_time": "2022-01-21T20:58:20.426Z"
   },
   {
    "duration": 10,
    "start_time": "2022-01-21T20:58:20.451Z"
   },
   {
    "duration": 10,
    "start_time": "2022-01-21T20:58:20.464Z"
   },
   {
    "duration": 194,
    "start_time": "2022-01-21T20:58:20.477Z"
   },
   {
    "duration": 16,
    "start_time": "2022-01-21T20:58:20.673Z"
   },
   {
    "duration": 32,
    "start_time": "2022-01-21T20:58:20.691Z"
   },
   {
    "duration": 12,
    "start_time": "2022-01-21T20:58:20.726Z"
   },
   {
    "duration": 10,
    "start_time": "2022-01-21T20:58:20.741Z"
   },
   {
    "duration": 5,
    "start_time": "2022-01-21T20:58:20.753Z"
   },
   {
    "duration": 902,
    "start_time": "2022-01-21T20:58:20.760Z"
   },
   {
    "duration": 14,
    "start_time": "2022-01-21T20:58:21.664Z"
   },
   {
    "duration": 15,
    "start_time": "2022-01-21T20:58:21.681Z"
   },
   {
    "duration": 15,
    "start_time": "2022-01-21T20:58:21.724Z"
   },
   {
    "duration": 1235,
    "start_time": "2022-01-21T20:58:21.742Z"
   },
   {
    "duration": 15,
    "start_time": "2022-01-21T20:58:22.980Z"
   },
   {
    "duration": 33,
    "start_time": "2022-01-21T20:58:22.998Z"
   },
   {
    "duration": 11,
    "start_time": "2022-01-21T20:58:23.034Z"
   },
   {
    "duration": 887,
    "start_time": "2022-01-21T20:58:23.048Z"
   },
   {
    "duration": 8,
    "start_time": "2022-01-21T20:58:23.938Z"
   },
   {
    "duration": 497,
    "start_time": "2022-01-21T20:58:23.949Z"
   },
   {
    "duration": 1749,
    "start_time": "2022-01-21T20:59:01.258Z"
   },
   {
    "duration": 609,
    "start_time": "2022-01-21T20:59:03.011Z"
   },
   {
    "duration": 18,
    "start_time": "2022-01-21T20:59:03.624Z"
   },
   {
    "duration": 29,
    "start_time": "2022-01-21T20:59:03.645Z"
   },
   {
    "duration": 13,
    "start_time": "2022-01-21T20:59:03.676Z"
   },
   {
    "duration": 55,
    "start_time": "2022-01-21T20:59:03.691Z"
   },
   {
    "duration": 13,
    "start_time": "2022-01-21T20:59:03.749Z"
   },
   {
    "duration": 15,
    "start_time": "2022-01-21T20:59:03.767Z"
   },
   {
    "duration": 11,
    "start_time": "2022-01-21T20:59:03.826Z"
   },
   {
    "duration": 19,
    "start_time": "2022-01-21T20:59:03.839Z"
   },
   {
    "duration": 12,
    "start_time": "2022-01-21T20:59:03.860Z"
   },
   {
    "duration": 49,
    "start_time": "2022-01-21T20:59:03.874Z"
   },
   {
    "duration": 15,
    "start_time": "2022-01-21T20:59:03.926Z"
   },
   {
    "duration": 12,
    "start_time": "2022-01-21T20:59:03.944Z"
   },
   {
    "duration": 208,
    "start_time": "2022-01-21T20:59:03.959Z"
   },
   {
    "duration": 7,
    "start_time": "2022-01-21T20:59:04.169Z"
   },
   {
    "duration": 81,
    "start_time": "2022-01-21T20:59:04.179Z"
   },
   {
    "duration": 11,
    "start_time": "2022-01-21T20:59:04.262Z"
   },
   {
    "duration": 53,
    "start_time": "2022-01-21T20:59:04.276Z"
   },
   {
    "duration": 12,
    "start_time": "2022-01-21T20:59:04.332Z"
   },
   {
    "duration": 39,
    "start_time": "2022-01-21T20:59:04.347Z"
   },
   {
    "duration": 36,
    "start_time": "2022-01-21T20:59:04.388Z"
   },
   {
    "duration": 71,
    "start_time": "2022-01-21T20:59:04.430Z"
   },
   {
    "duration": 30,
    "start_time": "2022-01-21T20:59:04.504Z"
   },
   {
    "duration": 17,
    "start_time": "2022-01-21T20:59:04.536Z"
   },
   {
    "duration": 17,
    "start_time": "2022-01-21T20:59:04.555Z"
   },
   {
    "duration": 16,
    "start_time": "2022-01-21T20:59:04.574Z"
   },
   {
    "duration": 12,
    "start_time": "2022-01-21T20:59:04.623Z"
   },
   {
    "duration": 189,
    "start_time": "2022-01-21T20:59:04.638Z"
   },
   {
    "duration": 18,
    "start_time": "2022-01-21T20:59:04.830Z"
   },
   {
    "duration": 16,
    "start_time": "2022-01-21T20:59:04.851Z"
   },
   {
    "duration": 13,
    "start_time": "2022-01-21T20:59:04.870Z"
   },
   {
    "duration": 45,
    "start_time": "2022-01-21T20:59:04.885Z"
   },
   {
    "duration": 6,
    "start_time": "2022-01-21T20:59:04.933Z"
   },
   {
    "duration": 1074,
    "start_time": "2022-01-21T20:59:04.942Z"
   },
   {
    "duration": 10,
    "start_time": "2022-01-21T20:59:06.023Z"
   },
   {
    "duration": 11,
    "start_time": "2022-01-21T20:59:06.036Z"
   },
   {
    "duration": 10,
    "start_time": "2022-01-21T20:59:06.049Z"
   },
   {
    "duration": 830,
    "start_time": "2022-01-21T20:59:06.061Z"
   },
   {
    "duration": 29,
    "start_time": "2022-01-21T20:59:06.894Z"
   },
   {
    "duration": 13,
    "start_time": "2022-01-21T20:59:06.926Z"
   },
   {
    "duration": 14,
    "start_time": "2022-01-21T20:59:06.942Z"
   },
   {
    "duration": 926,
    "start_time": "2022-01-21T20:59:06.960Z"
   },
   {
    "duration": 9,
    "start_time": "2022-01-21T20:59:07.889Z"
   },
   {
    "duration": 480,
    "start_time": "2022-01-21T21:00:09.129Z"
   },
   {
    "duration": 9,
    "start_time": "2022-01-21T21:00:14.791Z"
   },
   {
    "duration": 6,
    "start_time": "2022-01-21T21:00:23.756Z"
   },
   {
    "duration": 9,
    "start_time": "2022-01-21T21:01:36.145Z"
   },
   {
    "duration": 6,
    "start_time": "2022-01-21T21:01:48.126Z"
   },
   {
    "duration": 354,
    "start_time": "2022-01-21T21:02:22.440Z"
   },
   {
    "duration": 322,
    "start_time": "2022-01-21T21:02:56.337Z"
   },
   {
    "duration": 31,
    "start_time": "2022-01-21T21:03:09.421Z"
   },
   {
    "duration": 13,
    "start_time": "2022-01-21T21:03:15.910Z"
   },
   {
    "duration": 8,
    "start_time": "2022-01-21T21:03:32.389Z"
   },
   {
    "duration": 323,
    "start_time": "2022-01-21T21:08:09.881Z"
   },
   {
    "duration": 10,
    "start_time": "2022-01-21T21:08:48.033Z"
   },
   {
    "duration": 107,
    "start_time": "2022-01-21T21:08:56.335Z"
   },
   {
    "duration": 372,
    "start_time": "2022-01-21T21:13:24.192Z"
   },
   {
    "duration": 8,
    "start_time": "2022-01-21T21:13:30.130Z"
   },
   {
    "duration": 8,
    "start_time": "2022-01-21T21:13:34.448Z"
   },
   {
    "duration": 6,
    "start_time": "2022-01-21T21:13:47.300Z"
   },
   {
    "duration": 353,
    "start_time": "2022-01-21T21:14:22.467Z"
   },
   {
    "duration": 7,
    "start_time": "2022-01-21T21:14:26.240Z"
   },
   {
    "duration": 6,
    "start_time": "2022-01-21T21:14:35.521Z"
   },
   {
    "duration": 420,
    "start_time": "2022-01-21T21:14:40.781Z"
   },
   {
    "duration": 6,
    "start_time": "2022-01-21T21:14:56.397Z"
   },
   {
    "duration": 5,
    "start_time": "2022-01-21T21:15:05.648Z"
   },
   {
    "duration": 1340,
    "start_time": "2022-01-21T21:19:56.257Z"
   },
   {
    "duration": 9,
    "start_time": "2022-01-21T21:19:59.257Z"
   },
   {
    "duration": 6,
    "start_time": "2022-01-21T21:19:59.813Z"
   },
   {
    "duration": 11,
    "start_time": "2022-01-21T21:23:37.487Z"
   },
   {
    "duration": 21,
    "start_time": "2022-01-21T21:32:06.449Z"
   },
   {
    "duration": 18,
    "start_time": "2022-01-21T21:32:18.705Z"
   },
   {
    "duration": 346,
    "start_time": "2022-01-21T21:33:28.947Z"
   },
   {
    "duration": 13,
    "start_time": "2022-01-21T21:33:45.444Z"
   },
   {
    "duration": 11,
    "start_time": "2022-01-21T21:33:57.507Z"
   },
   {
    "duration": 17,
    "start_time": "2022-01-21T21:34:05.268Z"
   },
   {
    "duration": 1881,
    "start_time": "2022-01-21T21:34:30.090Z"
   },
   {
    "duration": 471,
    "start_time": "2022-01-21T21:34:31.975Z"
   },
   {
    "duration": 16,
    "start_time": "2022-01-21T21:34:32.449Z"
   },
   {
    "duration": 27,
    "start_time": "2022-01-21T21:34:32.468Z"
   },
   {
    "duration": 12,
    "start_time": "2022-01-21T21:34:32.498Z"
   },
   {
    "duration": 31,
    "start_time": "2022-01-21T21:34:32.512Z"
   },
   {
    "duration": 11,
    "start_time": "2022-01-21T21:34:32.545Z"
   },
   {
    "duration": 11,
    "start_time": "2022-01-21T21:34:32.560Z"
   },
   {
    "duration": 10,
    "start_time": "2022-01-21T21:34:32.574Z"
   },
   {
    "duration": 17,
    "start_time": "2022-01-21T21:34:32.624Z"
   },
   {
    "duration": 11,
    "start_time": "2022-01-21T21:34:32.643Z"
   },
   {
    "duration": 9,
    "start_time": "2022-01-21T21:34:32.656Z"
   },
   {
    "duration": 63,
    "start_time": "2022-01-21T21:34:32.667Z"
   },
   {
    "duration": 10,
    "start_time": "2022-01-21T21:34:32.732Z"
   },
   {
    "duration": 196,
    "start_time": "2022-01-21T21:34:32.744Z"
   },
   {
    "duration": 7,
    "start_time": "2022-01-21T21:34:32.942Z"
   },
   {
    "duration": 86,
    "start_time": "2022-01-21T21:34:32.951Z"
   },
   {
    "duration": 10,
    "start_time": "2022-01-21T21:34:33.039Z"
   },
   {
    "duration": 28,
    "start_time": "2022-01-21T21:34:33.052Z"
   },
   {
    "duration": 11,
    "start_time": "2022-01-21T21:34:33.083Z"
   },
   {
    "duration": 40,
    "start_time": "2022-01-21T21:34:33.124Z"
   },
   {
    "duration": 14,
    "start_time": "2022-01-21T21:34:33.167Z"
   },
   {
    "duration": 96,
    "start_time": "2022-01-21T21:34:33.189Z"
   },
   {
    "duration": 15,
    "start_time": "2022-01-21T21:34:33.289Z"
   },
   {
    "duration": 15,
    "start_time": "2022-01-21T21:34:33.324Z"
   },
   {
    "duration": 18,
    "start_time": "2022-01-21T21:34:33.341Z"
   },
   {
    "duration": 12,
    "start_time": "2022-01-21T21:34:33.362Z"
   },
   {
    "duration": 57,
    "start_time": "2022-01-21T21:34:33.377Z"
   },
   {
    "duration": 176,
    "start_time": "2022-01-21T21:34:33.437Z"
   },
   {
    "duration": 25,
    "start_time": "2022-01-21T21:34:33.615Z"
   },
   {
    "duration": 10,
    "start_time": "2022-01-21T21:34:33.643Z"
   },
   {
    "duration": 15,
    "start_time": "2022-01-21T21:34:33.656Z"
   },
   {
    "duration": 54,
    "start_time": "2022-01-21T21:34:33.674Z"
   },
   {
    "duration": 13,
    "start_time": "2022-01-21T21:34:33.730Z"
   },
   {
    "duration": 6,
    "start_time": "2022-01-21T21:34:33.745Z"
   },
   {
    "duration": 1396,
    "start_time": "2022-01-21T21:34:33.754Z"
   },
   {
    "duration": 15,
    "start_time": "2022-01-21T21:34:35.153Z"
   },
   {
    "duration": 13,
    "start_time": "2022-01-21T21:34:35.171Z"
   },
   {
    "duration": 39,
    "start_time": "2022-01-21T21:34:35.188Z"
   },
   {
    "duration": 765,
    "start_time": "2022-01-21T21:34:35.229Z"
   },
   {
    "duration": 10,
    "start_time": "2022-01-21T21:34:35.996Z"
   },
   {
    "duration": 10,
    "start_time": "2022-01-21T21:34:36.024Z"
   },
   {
    "duration": 8,
    "start_time": "2022-01-21T21:34:36.036Z"
   },
   {
    "duration": 1018,
    "start_time": "2022-01-21T21:34:36.047Z"
   },
   {
    "duration": 9,
    "start_time": "2022-01-21T21:34:37.068Z"
   },
   {
    "duration": 10,
    "start_time": "2022-01-21T21:34:37.079Z"
   },
   {
    "duration": 12,
    "start_time": "2022-01-21T21:34:37.091Z"
   },
   {
    "duration": 7,
    "start_time": "2022-01-21T21:34:37.107Z"
   },
   {
    "duration": 18,
    "start_time": "2022-01-21T21:34:37.124Z"
   },
   {
    "duration": 21,
    "start_time": "2022-01-21T21:34:37.145Z"
   },
   {
    "duration": 1147,
    "start_time": "2022-01-27T15:58:22.891Z"
   },
   {
    "duration": 424,
    "start_time": "2022-01-27T15:58:24.039Z"
   },
   {
    "duration": 11,
    "start_time": "2022-01-27T15:58:24.466Z"
   },
   {
    "duration": 23,
    "start_time": "2022-01-27T15:58:24.479Z"
   },
   {
    "duration": 8,
    "start_time": "2022-01-27T15:58:24.504Z"
   },
   {
    "duration": 19,
    "start_time": "2022-01-27T15:58:24.514Z"
   },
   {
    "duration": 14,
    "start_time": "2022-01-27T15:58:24.535Z"
   },
   {
    "duration": 11,
    "start_time": "2022-01-27T15:58:24.552Z"
   },
   {
    "duration": 11,
    "start_time": "2022-01-27T15:58:24.564Z"
   },
   {
    "duration": 29,
    "start_time": "2022-01-27T15:58:24.577Z"
   },
   {
    "duration": 15,
    "start_time": "2022-01-27T15:58:24.608Z"
   },
   {
    "duration": 9,
    "start_time": "2022-01-27T15:58:24.624Z"
   },
   {
    "duration": 12,
    "start_time": "2022-01-27T15:58:24.635Z"
   },
   {
    "duration": 9,
    "start_time": "2022-01-27T15:58:24.649Z"
   },
   {
    "duration": 156,
    "start_time": "2022-01-27T15:58:24.660Z"
   },
   {
    "duration": 5,
    "start_time": "2022-01-27T15:58:24.818Z"
   },
   {
    "duration": 57,
    "start_time": "2022-01-27T15:58:24.825Z"
   },
   {
    "duration": 19,
    "start_time": "2022-01-27T15:58:24.884Z"
   },
   {
    "duration": 22,
    "start_time": "2022-01-27T15:58:24.905Z"
   },
   {
    "duration": 8,
    "start_time": "2022-01-27T15:58:24.929Z"
   },
   {
    "duration": 32,
    "start_time": "2022-01-27T15:58:24.938Z"
   },
   {
    "duration": 30,
    "start_time": "2022-01-27T15:58:24.972Z"
   },
   {
    "duration": 46,
    "start_time": "2022-01-27T15:58:25.005Z"
   },
   {
    "duration": 11,
    "start_time": "2022-01-27T15:58:25.053Z"
   },
   {
    "duration": 38,
    "start_time": "2022-01-27T15:58:25.065Z"
   },
   {
    "duration": 11,
    "start_time": "2022-01-27T15:58:25.104Z"
   },
   {
    "duration": 10,
    "start_time": "2022-01-27T15:58:25.117Z"
   },
   {
    "duration": 8,
    "start_time": "2022-01-27T15:58:25.128Z"
   },
   {
    "duration": 115,
    "start_time": "2022-01-27T15:58:25.138Z"
   },
   {
    "duration": 14,
    "start_time": "2022-01-27T15:58:25.255Z"
   },
   {
    "duration": 26,
    "start_time": "2022-01-27T15:58:25.271Z"
   },
   {
    "duration": 11,
    "start_time": "2022-01-27T15:58:25.299Z"
   },
   {
    "duration": 10,
    "start_time": "2022-01-27T15:58:25.312Z"
   },
   {
    "duration": 7,
    "start_time": "2022-01-27T15:58:25.324Z"
   },
   {
    "duration": 7,
    "start_time": "2022-01-27T15:58:25.332Z"
   },
   {
    "duration": 670,
    "start_time": "2022-01-27T15:58:25.340Z"
   },
   {
    "duration": 9,
    "start_time": "2022-01-27T15:58:26.011Z"
   },
   {
    "duration": 10,
    "start_time": "2022-01-27T15:58:26.022Z"
   },
   {
    "duration": 7,
    "start_time": "2022-01-27T15:58:26.034Z"
   },
   {
    "duration": 603,
    "start_time": "2022-01-27T15:58:26.043Z"
   },
   {
    "duration": 8,
    "start_time": "2022-01-27T15:58:26.647Z"
   },
   {
    "duration": 8,
    "start_time": "2022-01-27T15:58:26.657Z"
   },
   {
    "duration": 7,
    "start_time": "2022-01-27T15:58:26.666Z"
   },
   {
    "duration": 626,
    "start_time": "2022-01-27T15:58:26.698Z"
   },
   {
    "duration": 6,
    "start_time": "2022-01-27T15:58:27.327Z"
   },
   {
    "duration": 9,
    "start_time": "2022-01-27T15:58:27.335Z"
   },
   {
    "duration": 10,
    "start_time": "2022-01-27T15:58:27.346Z"
   },
   {
    "duration": 7,
    "start_time": "2022-01-27T15:58:27.357Z"
   },
   {
    "duration": 7,
    "start_time": "2022-01-27T15:58:27.366Z"
   },
   {
    "duration": 28,
    "start_time": "2022-01-27T15:58:27.375Z"
   },
   {
    "duration": 13,
    "start_time": "2022-01-27T16:18:04.161Z"
   }
  ],
  "kernelspec": {
   "display_name": "Python 3 (ipykernel)",
   "language": "python",
   "name": "python3"
  },
  "language_info": {
   "codemirror_mode": {
    "name": "ipython",
    "version": 3
   },
   "file_extension": ".py",
   "mimetype": "text/x-python",
   "name": "python",
   "nbconvert_exporter": "python",
   "pygments_lexer": "ipython3",
   "version": "3.9.5"
  },
  "toc": {
   "base_numbering": 1,
   "nav_menu": {},
   "number_sections": true,
   "sideBar": true,
   "skip_h1_title": true,
   "title_cell": "Table of Contents",
   "title_sidebar": "Contents",
   "toc_cell": false,
   "toc_position": {},
   "toc_section_display": true,
   "toc_window_display": false
  }
 },
 "nbformat": 4,
 "nbformat_minor": 2
}
