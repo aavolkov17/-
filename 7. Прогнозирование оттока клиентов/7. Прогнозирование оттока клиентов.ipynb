{
 "cells": [
  {
   "cell_type": "markdown",
   "metadata": {
    "toc": true
   },
   "source": [
    "<h1>Содержание<span class=\"tocSkip\"></span></h1>\n",
    "<div class=\"toc\"><ul class=\"toc-item\"><li><span><a href=\"#Подготовка-данных\" data-toc-modified-id=\"Подготовка-данных-1\"><span class=\"toc-item-num\">1&nbsp;&nbsp;</span>Подготовка данных</a></span></li><li><span><a href=\"#Исследование-задачи\" data-toc-modified-id=\"Исследование-задачи-2\"><span class=\"toc-item-num\">2&nbsp;&nbsp;</span>Исследование задачи</a></span></li><li><span><a href=\"#Борьба-с-дисбалансом\" data-toc-modified-id=\"Борьба-с-дисбалансом-3\"><span class=\"toc-item-num\">3&nbsp;&nbsp;</span>Борьба с дисбалансом</a></span></li><li><span><a href=\"#Тестирование-моделей\" data-toc-modified-id=\"Тестирование-моделей-4\"><span class=\"toc-item-num\">4&nbsp;&nbsp;</span>Тестирование моделей</a></span></li><li><span><a href=\"#Общий-вывод\" data-toc-modified-id=\"Общий-вывод-5\"><span class=\"toc-item-num\">5&nbsp;&nbsp;</span>Общий вывод</a></span></li></ul></div>"
   ]
  },
  {
   "cell_type": "markdown",
   "metadata": {},
   "source": [
    "# Отток клиентов"
   ]
  },
  {
   "cell_type": "markdown",
   "metadata": {},
   "source": [
    "Из «Бета-Банка» стали уходить клиенты. Каждый месяц. Немного, но заметно. Банковские маркетологи посчитали: сохранять текущих клиентов дешевле, чем привлекать новых.\n",
    "\n",
    "Нужно спрогнозировать, уйдёт клиент из банка в ближайшее время или нет. Вам предоставлены исторические данные о поведении клиентов и расторжении договоров с банком. \n",
    "\n",
    "Постройте модель с предельно большим значением *F1*-меры. Чтобы сдать проект успешно, нужно довести метрику до 0.59. Проверьте *F1*-меру на тестовой выборке самостоятельно.\n",
    "\n",
    "Дополнительно измеряйте *AUC-ROC*, сравнивайте её значение с *F1*-мерой.\n",
    "\n",
    "Источник данных: [https://www.kaggle.com/barelydedicated/bank-customer-churn-modeling](https://www.kaggle.com/barelydedicated/bank-customer-churn-modeling)"
   ]
  },
  {
   "cell_type": "markdown",
   "metadata": {},
   "source": [
    "Признаки:\n",
    "- RowNumber — индекс строки в данных\n",
    "- CustomerId — уникальный идентификатор клиента\n",
    "- Surname — фамилия\n",
    "- CreditScore — кредитный рейтинг\n",
    "- Geography — страна проживания\n",
    "- Gender — пол\n",
    "- Age — возраст\n",
    "- Tenure — сколько лет человек является клиентом банка\n",
    "- Balance — баланс на счёте\n",
    "- NumOfProducts — количество продуктов банка, используемых клиентом\n",
    "- HasCrCard — наличие кредитной карты\n",
    "- IsActiveMember — активность клиента\n",
    "- EstimatedSalary — предполагаемая зарплата <br>\n",
    "Целевой признак:\n",
    "- Exited — факт ухода клиента"
   ]
  },
  {
   "cell_type": "markdown",
   "metadata": {},
   "source": [
    "## Подготовка данных"
   ]
  },
  {
   "cell_type": "code",
   "execution_count": 1,
   "metadata": {},
   "outputs": [],
   "source": [
    "import pandas as pd\n",
    "from sklearn.tree import DecisionTreeClassifier\n",
    "from sklearn.metrics import accuracy_score\n",
    "from sklearn.model_selection import train_test_split\n",
    "from sklearn.ensemble import RandomForestClassifier\n",
    "from sklearn.linear_model import LogisticRegression\n",
    "from sklearn.dummy import DummyClassifier\n",
    "import matplotlib.pyplot as plt\n",
    "from sklearn import tree\n",
    "import numpy as np\n",
    "from sklearn.metrics import f1_score\n",
    "from sklearn.metrics import roc_auc_score\n",
    "from  sklearn.utils import shuffle\n",
    "from sklearn.preprocessing import StandardScaler\n",
    "from sklearn.preprocessing import OneHotEncoder"
   ]
  },
  {
   "cell_type": "code",
   "execution_count": 2,
   "metadata": {},
   "outputs": [],
   "source": [
    "data = pd.read_csv('/datasets/Churn.csv')"
   ]
  },
  {
   "cell_type": "code",
   "execution_count": 3,
   "metadata": {},
   "outputs": [
    {
     "data": {
      "text/html": [
       "<div>\n",
       "<style scoped>\n",
       "    .dataframe tbody tr th:only-of-type {\n",
       "        vertical-align: middle;\n",
       "    }\n",
       "\n",
       "    .dataframe tbody tr th {\n",
       "        vertical-align: top;\n",
       "    }\n",
       "\n",
       "    .dataframe thead th {\n",
       "        text-align: right;\n",
       "    }\n",
       "</style>\n",
       "<table border=\"1\" class=\"dataframe\">\n",
       "  <thead>\n",
       "    <tr style=\"text-align: right;\">\n",
       "      <th></th>\n",
       "      <th>RowNumber</th>\n",
       "      <th>CustomerId</th>\n",
       "      <th>Surname</th>\n",
       "      <th>CreditScore</th>\n",
       "      <th>Geography</th>\n",
       "      <th>Gender</th>\n",
       "      <th>Age</th>\n",
       "      <th>Tenure</th>\n",
       "      <th>Balance</th>\n",
       "      <th>NumOfProducts</th>\n",
       "      <th>HasCrCard</th>\n",
       "      <th>IsActiveMember</th>\n",
       "      <th>EstimatedSalary</th>\n",
       "      <th>Exited</th>\n",
       "    </tr>\n",
       "  </thead>\n",
       "  <tbody>\n",
       "    <tr>\n",
       "      <th>0</th>\n",
       "      <td>1</td>\n",
       "      <td>15634602</td>\n",
       "      <td>Hargrave</td>\n",
       "      <td>619</td>\n",
       "      <td>France</td>\n",
       "      <td>Female</td>\n",
       "      <td>42</td>\n",
       "      <td>2.0</td>\n",
       "      <td>0.00</td>\n",
       "      <td>1</td>\n",
       "      <td>1</td>\n",
       "      <td>1</td>\n",
       "      <td>101348.88</td>\n",
       "      <td>1</td>\n",
       "    </tr>\n",
       "    <tr>\n",
       "      <th>1</th>\n",
       "      <td>2</td>\n",
       "      <td>15647311</td>\n",
       "      <td>Hill</td>\n",
       "      <td>608</td>\n",
       "      <td>Spain</td>\n",
       "      <td>Female</td>\n",
       "      <td>41</td>\n",
       "      <td>1.0</td>\n",
       "      <td>83807.86</td>\n",
       "      <td>1</td>\n",
       "      <td>0</td>\n",
       "      <td>1</td>\n",
       "      <td>112542.58</td>\n",
       "      <td>0</td>\n",
       "    </tr>\n",
       "    <tr>\n",
       "      <th>2</th>\n",
       "      <td>3</td>\n",
       "      <td>15619304</td>\n",
       "      <td>Onio</td>\n",
       "      <td>502</td>\n",
       "      <td>France</td>\n",
       "      <td>Female</td>\n",
       "      <td>42</td>\n",
       "      <td>8.0</td>\n",
       "      <td>159660.80</td>\n",
       "      <td>3</td>\n",
       "      <td>1</td>\n",
       "      <td>0</td>\n",
       "      <td>113931.57</td>\n",
       "      <td>1</td>\n",
       "    </tr>\n",
       "    <tr>\n",
       "      <th>3</th>\n",
       "      <td>4</td>\n",
       "      <td>15701354</td>\n",
       "      <td>Boni</td>\n",
       "      <td>699</td>\n",
       "      <td>France</td>\n",
       "      <td>Female</td>\n",
       "      <td>39</td>\n",
       "      <td>1.0</td>\n",
       "      <td>0.00</td>\n",
       "      <td>2</td>\n",
       "      <td>0</td>\n",
       "      <td>0</td>\n",
       "      <td>93826.63</td>\n",
       "      <td>0</td>\n",
       "    </tr>\n",
       "    <tr>\n",
       "      <th>4</th>\n",
       "      <td>5</td>\n",
       "      <td>15737888</td>\n",
       "      <td>Mitchell</td>\n",
       "      <td>850</td>\n",
       "      <td>Spain</td>\n",
       "      <td>Female</td>\n",
       "      <td>43</td>\n",
       "      <td>2.0</td>\n",
       "      <td>125510.82</td>\n",
       "      <td>1</td>\n",
       "      <td>1</td>\n",
       "      <td>1</td>\n",
       "      <td>79084.10</td>\n",
       "      <td>0</td>\n",
       "    </tr>\n",
       "    <tr>\n",
       "      <th>5</th>\n",
       "      <td>6</td>\n",
       "      <td>15574012</td>\n",
       "      <td>Chu</td>\n",
       "      <td>645</td>\n",
       "      <td>Spain</td>\n",
       "      <td>Male</td>\n",
       "      <td>44</td>\n",
       "      <td>8.0</td>\n",
       "      <td>113755.78</td>\n",
       "      <td>2</td>\n",
       "      <td>1</td>\n",
       "      <td>0</td>\n",
       "      <td>149756.71</td>\n",
       "      <td>1</td>\n",
       "    </tr>\n",
       "    <tr>\n",
       "      <th>6</th>\n",
       "      <td>7</td>\n",
       "      <td>15592531</td>\n",
       "      <td>Bartlett</td>\n",
       "      <td>822</td>\n",
       "      <td>France</td>\n",
       "      <td>Male</td>\n",
       "      <td>50</td>\n",
       "      <td>7.0</td>\n",
       "      <td>0.00</td>\n",
       "      <td>2</td>\n",
       "      <td>1</td>\n",
       "      <td>1</td>\n",
       "      <td>10062.80</td>\n",
       "      <td>0</td>\n",
       "    </tr>\n",
       "    <tr>\n",
       "      <th>7</th>\n",
       "      <td>8</td>\n",
       "      <td>15656148</td>\n",
       "      <td>Obinna</td>\n",
       "      <td>376</td>\n",
       "      <td>Germany</td>\n",
       "      <td>Female</td>\n",
       "      <td>29</td>\n",
       "      <td>4.0</td>\n",
       "      <td>115046.74</td>\n",
       "      <td>4</td>\n",
       "      <td>1</td>\n",
       "      <td>0</td>\n",
       "      <td>119346.88</td>\n",
       "      <td>1</td>\n",
       "    </tr>\n",
       "    <tr>\n",
       "      <th>8</th>\n",
       "      <td>9</td>\n",
       "      <td>15792365</td>\n",
       "      <td>He</td>\n",
       "      <td>501</td>\n",
       "      <td>France</td>\n",
       "      <td>Male</td>\n",
       "      <td>44</td>\n",
       "      <td>4.0</td>\n",
       "      <td>142051.07</td>\n",
       "      <td>2</td>\n",
       "      <td>0</td>\n",
       "      <td>1</td>\n",
       "      <td>74940.50</td>\n",
       "      <td>0</td>\n",
       "    </tr>\n",
       "    <tr>\n",
       "      <th>9</th>\n",
       "      <td>10</td>\n",
       "      <td>15592389</td>\n",
       "      <td>H?</td>\n",
       "      <td>684</td>\n",
       "      <td>France</td>\n",
       "      <td>Male</td>\n",
       "      <td>27</td>\n",
       "      <td>2.0</td>\n",
       "      <td>134603.88</td>\n",
       "      <td>1</td>\n",
       "      <td>1</td>\n",
       "      <td>1</td>\n",
       "      <td>71725.73</td>\n",
       "      <td>0</td>\n",
       "    </tr>\n",
       "  </tbody>\n",
       "</table>\n",
       "</div>"
      ],
      "text/plain": [
       "   RowNumber  CustomerId   Surname  CreditScore Geography  Gender  Age  \\\n",
       "0          1    15634602  Hargrave          619    France  Female   42   \n",
       "1          2    15647311      Hill          608     Spain  Female   41   \n",
       "2          3    15619304      Onio          502    France  Female   42   \n",
       "3          4    15701354      Boni          699    France  Female   39   \n",
       "4          5    15737888  Mitchell          850     Spain  Female   43   \n",
       "5          6    15574012       Chu          645     Spain    Male   44   \n",
       "6          7    15592531  Bartlett          822    France    Male   50   \n",
       "7          8    15656148    Obinna          376   Germany  Female   29   \n",
       "8          9    15792365        He          501    France    Male   44   \n",
       "9         10    15592389        H?          684    France    Male   27   \n",
       "\n",
       "   Tenure    Balance  NumOfProducts  HasCrCard  IsActiveMember  \\\n",
       "0     2.0       0.00              1          1               1   \n",
       "1     1.0   83807.86              1          0               1   \n",
       "2     8.0  159660.80              3          1               0   \n",
       "3     1.0       0.00              2          0               0   \n",
       "4     2.0  125510.82              1          1               1   \n",
       "5     8.0  113755.78              2          1               0   \n",
       "6     7.0       0.00              2          1               1   \n",
       "7     4.0  115046.74              4          1               0   \n",
       "8     4.0  142051.07              2          0               1   \n",
       "9     2.0  134603.88              1          1               1   \n",
       "\n",
       "   EstimatedSalary  Exited  \n",
       "0        101348.88       1  \n",
       "1        112542.58       0  \n",
       "2        113931.57       1  \n",
       "3         93826.63       0  \n",
       "4         79084.10       0  \n",
       "5        149756.71       1  \n",
       "6         10062.80       0  \n",
       "7        119346.88       1  \n",
       "8         74940.50       0  \n",
       "9         71725.73       0  "
      ]
     },
     "execution_count": 3,
     "metadata": {},
     "output_type": "execute_result"
    }
   ],
   "source": [
    "data.head(10)"
   ]
  },
  {
   "cell_type": "code",
   "execution_count": 4,
   "metadata": {},
   "outputs": [
    {
     "data": {
      "text/plain": [
       "Index(['rownumber', 'customerid', 'surname', 'creditscore', 'geography',\n",
       "       'gender', 'age', 'tenure', 'balance', 'numofproducts', 'hascrcard',\n",
       "       'isactivemember', 'estimatedsalary', 'exited'],\n",
       "      dtype='object')"
      ]
     },
     "execution_count": 4,
     "metadata": {},
     "output_type": "execute_result"
    }
   ],
   "source": [
    "data.columns = data.columns.str.lower()\n",
    "data.columns"
   ]
  },
  {
   "cell_type": "code",
   "execution_count": 5,
   "metadata": {},
   "outputs": [
    {
     "name": "stdout",
     "output_type": "stream",
     "text": [
      "<class 'pandas.core.frame.DataFrame'>\n",
      "RangeIndex: 10000 entries, 0 to 9999\n",
      "Data columns (total 14 columns):\n",
      " #   Column           Non-Null Count  Dtype  \n",
      "---  ------           --------------  -----  \n",
      " 0   rownumber        10000 non-null  int64  \n",
      " 1   customerid       10000 non-null  int64  \n",
      " 2   surname          10000 non-null  object \n",
      " 3   creditscore      10000 non-null  int64  \n",
      " 4   geography        10000 non-null  object \n",
      " 5   gender           10000 non-null  object \n",
      " 6   age              10000 non-null  int64  \n",
      " 7   tenure           9091 non-null   float64\n",
      " 8   balance          10000 non-null  float64\n",
      " 9   numofproducts    10000 non-null  int64  \n",
      " 10  hascrcard        10000 non-null  int64  \n",
      " 11  isactivemember   10000 non-null  int64  \n",
      " 12  estimatedsalary  10000 non-null  float64\n",
      " 13  exited           10000 non-null  int64  \n",
      "dtypes: float64(3), int64(8), object(3)\n",
      "memory usage: 1.1+ MB\n"
     ]
    }
   ],
   "source": [
    "data.info()"
   ]
  },
  {
   "cell_type": "markdown",
   "metadata": {},
   "source": [
    "Наблюдаем пропуски только в столбце 'tenure'."
   ]
  },
  {
   "cell_type": "code",
   "execution_count": 6,
   "metadata": {},
   "outputs": [
    {
     "data": {
      "text/html": [
       "<div>\n",
       "<style scoped>\n",
       "    .dataframe tbody tr th:only-of-type {\n",
       "        vertical-align: middle;\n",
       "    }\n",
       "\n",
       "    .dataframe tbody tr th {\n",
       "        vertical-align: top;\n",
       "    }\n",
       "\n",
       "    .dataframe thead th {\n",
       "        text-align: right;\n",
       "    }\n",
       "</style>\n",
       "<table border=\"1\" class=\"dataframe\">\n",
       "  <thead>\n",
       "    <tr style=\"text-align: right;\">\n",
       "      <th></th>\n",
       "      <th>rownumber</th>\n",
       "      <th>customerid</th>\n",
       "      <th>creditscore</th>\n",
       "      <th>age</th>\n",
       "      <th>tenure</th>\n",
       "      <th>balance</th>\n",
       "      <th>numofproducts</th>\n",
       "      <th>hascrcard</th>\n",
       "      <th>isactivemember</th>\n",
       "      <th>estimatedsalary</th>\n",
       "      <th>exited</th>\n",
       "    </tr>\n",
       "  </thead>\n",
       "  <tbody>\n",
       "    <tr>\n",
       "      <th>count</th>\n",
       "      <td>10000.00000</td>\n",
       "      <td>1.000000e+04</td>\n",
       "      <td>10000.000000</td>\n",
       "      <td>10000.000000</td>\n",
       "      <td>9091.000000</td>\n",
       "      <td>10000.000000</td>\n",
       "      <td>10000.000000</td>\n",
       "      <td>10000.00000</td>\n",
       "      <td>10000.000000</td>\n",
       "      <td>10000.000000</td>\n",
       "      <td>10000.000000</td>\n",
       "    </tr>\n",
       "    <tr>\n",
       "      <th>mean</th>\n",
       "      <td>5000.50000</td>\n",
       "      <td>1.569094e+07</td>\n",
       "      <td>650.528800</td>\n",
       "      <td>38.921800</td>\n",
       "      <td>4.997690</td>\n",
       "      <td>76485.889288</td>\n",
       "      <td>1.530200</td>\n",
       "      <td>0.70550</td>\n",
       "      <td>0.515100</td>\n",
       "      <td>100090.239881</td>\n",
       "      <td>0.203700</td>\n",
       "    </tr>\n",
       "    <tr>\n",
       "      <th>std</th>\n",
       "      <td>2886.89568</td>\n",
       "      <td>7.193619e+04</td>\n",
       "      <td>96.653299</td>\n",
       "      <td>10.487806</td>\n",
       "      <td>2.894723</td>\n",
       "      <td>62397.405202</td>\n",
       "      <td>0.581654</td>\n",
       "      <td>0.45584</td>\n",
       "      <td>0.499797</td>\n",
       "      <td>57510.492818</td>\n",
       "      <td>0.402769</td>\n",
       "    </tr>\n",
       "    <tr>\n",
       "      <th>min</th>\n",
       "      <td>1.00000</td>\n",
       "      <td>1.556570e+07</td>\n",
       "      <td>350.000000</td>\n",
       "      <td>18.000000</td>\n",
       "      <td>0.000000</td>\n",
       "      <td>0.000000</td>\n",
       "      <td>1.000000</td>\n",
       "      <td>0.00000</td>\n",
       "      <td>0.000000</td>\n",
       "      <td>11.580000</td>\n",
       "      <td>0.000000</td>\n",
       "    </tr>\n",
       "    <tr>\n",
       "      <th>25%</th>\n",
       "      <td>2500.75000</td>\n",
       "      <td>1.562853e+07</td>\n",
       "      <td>584.000000</td>\n",
       "      <td>32.000000</td>\n",
       "      <td>2.000000</td>\n",
       "      <td>0.000000</td>\n",
       "      <td>1.000000</td>\n",
       "      <td>0.00000</td>\n",
       "      <td>0.000000</td>\n",
       "      <td>51002.110000</td>\n",
       "      <td>0.000000</td>\n",
       "    </tr>\n",
       "    <tr>\n",
       "      <th>50%</th>\n",
       "      <td>5000.50000</td>\n",
       "      <td>1.569074e+07</td>\n",
       "      <td>652.000000</td>\n",
       "      <td>37.000000</td>\n",
       "      <td>5.000000</td>\n",
       "      <td>97198.540000</td>\n",
       "      <td>1.000000</td>\n",
       "      <td>1.00000</td>\n",
       "      <td>1.000000</td>\n",
       "      <td>100193.915000</td>\n",
       "      <td>0.000000</td>\n",
       "    </tr>\n",
       "    <tr>\n",
       "      <th>75%</th>\n",
       "      <td>7500.25000</td>\n",
       "      <td>1.575323e+07</td>\n",
       "      <td>718.000000</td>\n",
       "      <td>44.000000</td>\n",
       "      <td>7.000000</td>\n",
       "      <td>127644.240000</td>\n",
       "      <td>2.000000</td>\n",
       "      <td>1.00000</td>\n",
       "      <td>1.000000</td>\n",
       "      <td>149388.247500</td>\n",
       "      <td>0.000000</td>\n",
       "    </tr>\n",
       "    <tr>\n",
       "      <th>max</th>\n",
       "      <td>10000.00000</td>\n",
       "      <td>1.581569e+07</td>\n",
       "      <td>850.000000</td>\n",
       "      <td>92.000000</td>\n",
       "      <td>10.000000</td>\n",
       "      <td>250898.090000</td>\n",
       "      <td>4.000000</td>\n",
       "      <td>1.00000</td>\n",
       "      <td>1.000000</td>\n",
       "      <td>199992.480000</td>\n",
       "      <td>1.000000</td>\n",
       "    </tr>\n",
       "  </tbody>\n",
       "</table>\n",
       "</div>"
      ],
      "text/plain": [
       "         rownumber    customerid   creditscore           age       tenure  \\\n",
       "count  10000.00000  1.000000e+04  10000.000000  10000.000000  9091.000000   \n",
       "mean    5000.50000  1.569094e+07    650.528800     38.921800     4.997690   \n",
       "std     2886.89568  7.193619e+04     96.653299     10.487806     2.894723   \n",
       "min        1.00000  1.556570e+07    350.000000     18.000000     0.000000   \n",
       "25%     2500.75000  1.562853e+07    584.000000     32.000000     2.000000   \n",
       "50%     5000.50000  1.569074e+07    652.000000     37.000000     5.000000   \n",
       "75%     7500.25000  1.575323e+07    718.000000     44.000000     7.000000   \n",
       "max    10000.00000  1.581569e+07    850.000000     92.000000    10.000000   \n",
       "\n",
       "             balance  numofproducts    hascrcard  isactivemember  \\\n",
       "count   10000.000000   10000.000000  10000.00000    10000.000000   \n",
       "mean    76485.889288       1.530200      0.70550        0.515100   \n",
       "std     62397.405202       0.581654      0.45584        0.499797   \n",
       "min         0.000000       1.000000      0.00000        0.000000   \n",
       "25%         0.000000       1.000000      0.00000        0.000000   \n",
       "50%     97198.540000       1.000000      1.00000        1.000000   \n",
       "75%    127644.240000       2.000000      1.00000        1.000000   \n",
       "max    250898.090000       4.000000      1.00000        1.000000   \n",
       "\n",
       "       estimatedsalary        exited  \n",
       "count     10000.000000  10000.000000  \n",
       "mean     100090.239881      0.203700  \n",
       "std       57510.492818      0.402769  \n",
       "min          11.580000      0.000000  \n",
       "25%       51002.110000      0.000000  \n",
       "50%      100193.915000      0.000000  \n",
       "75%      149388.247500      0.000000  \n",
       "max      199992.480000      1.000000  "
      ]
     },
     "execution_count": 6,
     "metadata": {},
     "output_type": "execute_result"
    }
   ],
   "source": [
    "data.describe()"
   ]
  },
  {
   "cell_type": "code",
   "execution_count": 7,
   "metadata": {},
   "outputs": [
    {
     "data": {
      "text/plain": [
       "array([ 2.,  1.,  8.,  7.,  4.,  6.,  3., 10.,  5.,  9.,  0., nan])"
      ]
     },
     "execution_count": 7,
     "metadata": {},
     "output_type": "execute_result"
    }
   ],
   "source": [
    "data['tenure'].unique()"
   ]
  },
  {
   "cell_type": "markdown",
   "metadata": {},
   "source": [
    "Заметим, что все значения целые. Поэтому можем заменить тип данных на int. И заполним пропуски медианным значением (оно примерно равно среднему, но целое)."
   ]
  },
  {
   "cell_type": "code",
   "execution_count": 8,
   "metadata": {},
   "outputs": [],
   "source": [
    "data['tenure'] = data['tenure'].fillna(data['tenure'].median())\n",
    "data['tenure'] = data['tenure'].astype('int')"
   ]
  },
  {
   "cell_type": "code",
   "execution_count": 9,
   "metadata": {},
   "outputs": [
    {
     "name": "stdout",
     "output_type": "stream",
     "text": [
      "<class 'pandas.core.frame.DataFrame'>\n",
      "RangeIndex: 10000 entries, 0 to 9999\n",
      "Data columns (total 14 columns):\n",
      " #   Column           Non-Null Count  Dtype  \n",
      "---  ------           --------------  -----  \n",
      " 0   rownumber        10000 non-null  int64  \n",
      " 1   customerid       10000 non-null  int64  \n",
      " 2   surname          10000 non-null  object \n",
      " 3   creditscore      10000 non-null  int64  \n",
      " 4   geography        10000 non-null  object \n",
      " 5   gender           10000 non-null  object \n",
      " 6   age              10000 non-null  int64  \n",
      " 7   tenure           10000 non-null  int64  \n",
      " 8   balance          10000 non-null  float64\n",
      " 9   numofproducts    10000 non-null  int64  \n",
      " 10  hascrcard        10000 non-null  int64  \n",
      " 11  isactivemember   10000 non-null  int64  \n",
      " 12  estimatedsalary  10000 non-null  float64\n",
      " 13  exited           10000 non-null  int64  \n",
      "dtypes: float64(2), int64(9), object(3)\n",
      "memory usage: 1.1+ MB\n"
     ]
    }
   ],
   "source": [
    "data.info()"
   ]
  },
  {
   "cell_type": "markdown",
   "metadata": {},
   "source": [
    "Проверим дубликаты."
   ]
  },
  {
   "cell_type": "code",
   "execution_count": 10,
   "metadata": {},
   "outputs": [
    {
     "data": {
      "text/plain": [
       "0"
      ]
     },
     "execution_count": 10,
     "metadata": {},
     "output_type": "execute_result"
    }
   ],
   "source": [
    "data.drop(['rownumber', 'customerid'], axis=1).duplicated().sum()"
   ]
  },
  {
   "cell_type": "code",
   "execution_count": 11,
   "metadata": {},
   "outputs": [
    {
     "data": {
      "text/plain": [
       "241"
      ]
     },
     "execution_count": 11,
     "metadata": {},
     "output_type": "execute_result"
    }
   ],
   "source": [
    "data[['surname', 'geography', 'gender', 'age']].duplicated().sum()"
   ]
  },
  {
   "cell_type": "markdown",
   "metadata": {},
   "source": [
    "Есть неявные дубликаты. Удалим их."
   ]
  },
  {
   "cell_type": "code",
   "execution_count": 12,
   "metadata": {},
   "outputs": [],
   "source": [
    "data = data.drop_duplicates(['surname', 'geography', 'gender', 'age'])"
   ]
  },
  {
   "cell_type": "code",
   "execution_count": 13,
   "metadata": {},
   "outputs": [
    {
     "data": {
      "text/plain": [
       "array(['France', 'Spain', 'Germany'], dtype=object)"
      ]
     },
     "execution_count": 13,
     "metadata": {},
     "output_type": "execute_result"
    }
   ],
   "source": [
    "data['geography'].unique()"
   ]
  },
  {
   "cell_type": "code",
   "execution_count": 14,
   "metadata": {},
   "outputs": [
    {
     "data": {
      "text/plain": [
       "array(['Female', 'Male'], dtype=object)"
      ]
     },
     "execution_count": 14,
     "metadata": {},
     "output_type": "execute_result"
    }
   ],
   "source": [
    "data['gender'].unique()"
   ]
  },
  {
   "cell_type": "markdown",
   "metadata": {},
   "source": [
    "Неявных дубликатов внутри столбцов с качественными категориями не обнаружено."
   ]
  },
  {
   "cell_type": "code",
   "execution_count": 15,
   "metadata": {},
   "outputs": [
    {
     "name": "stdout",
     "output_type": "stream",
     "text": [
      "<class 'pandas.core.frame.DataFrame'>\n",
      "Int64Index: 9759 entries, 0 to 9999\n",
      "Data columns (total 14 columns):\n",
      " #   Column           Non-Null Count  Dtype  \n",
      "---  ------           --------------  -----  \n",
      " 0   rownumber        9759 non-null   int64  \n",
      " 1   customerid       9759 non-null   int64  \n",
      " 2   surname          9759 non-null   object \n",
      " 3   creditscore      9759 non-null   int64  \n",
      " 4   geography        9759 non-null   object \n",
      " 5   gender           9759 non-null   object \n",
      " 6   age              9759 non-null   int64  \n",
      " 7   tenure           9759 non-null   int64  \n",
      " 8   balance          9759 non-null   float64\n",
      " 9   numofproducts    9759 non-null   int64  \n",
      " 10  hascrcard        9759 non-null   int64  \n",
      " 11  isactivemember   9759 non-null   int64  \n",
      " 12  estimatedsalary  9759 non-null   float64\n",
      " 13  exited           9759 non-null   int64  \n",
      "dtypes: float64(2), int64(9), object(3)\n",
      "memory usage: 1.1+ MB\n"
     ]
    }
   ],
   "source": [
    "data.info()"
   ]
  },
  {
   "cell_type": "markdown",
   "metadata": {},
   "source": [
    "<b> Итог: пропуски заполнены, типы данных исправленны, дубликаты удалены."
   ]
  },
  {
   "cell_type": "markdown",
   "metadata": {},
   "source": [
    "## Исследование задачи"
   ]
  },
  {
   "cell_type": "markdown",
   "metadata": {},
   "source": [
    "Обозначим признаки и целевой фактор. В признаках не будем учитывать индивидуальный номер и id клиента и его фамилию, так как они не являются показателем чего-либо. "
   ]
  },
  {
   "cell_type": "code",
   "execution_count": 16,
   "metadata": {},
   "outputs": [],
   "source": [
    "data = data.drop(['rownumber', 'customerid', 'surname'], axis=1)"
   ]
  },
  {
   "cell_type": "markdown",
   "metadata": {},
   "source": [
    "Выделим целевой признак."
   ]
  },
  {
   "cell_type": "code",
   "execution_count": 20,
   "metadata": {},
   "outputs": [],
   "source": [
    "features = data.drop('exited', axis=1)\n",
    "target = data['exited']"
   ]
  },
  {
   "cell_type": "markdown",
   "metadata": {},
   "source": [
    "Разобьем нашу выборку на тренировочную, валидационную и тестовую в соотношении 3:1:1. При этом в каждой выборке сохраним пропорции классов."
   ]
  },
  {
   "cell_type": "code",
   "execution_count": 21,
   "metadata": {},
   "outputs": [],
   "source": [
    "features_train, features_valid, target_train, target_valid = train_test_split(\n",
    "    features, target, test_size=0.4, random_state=12345, stratify=target)\n",
    "features_test, features_valid, target_test, target_valid = train_test_split(\n",
    "    features_valid, target_valid, test_size=0.5, random_state=12345, stratify=target_valid)"
   ]
  },
  {
   "cell_type": "code",
   "execution_count": 22,
   "metadata": {},
   "outputs": [
    {
     "name": "stdout",
     "output_type": "stream",
     "text": [
      "(5855,)\n",
      "(1952,)\n",
      "(1952,)\n"
     ]
    }
   ],
   "source": [
    "print(target_train.shape)\n",
    "print(target_valid.shape)\n",
    "print(target_test.shape)"
   ]
  },
  {
   "cell_type": "code",
   "execution_count": 23,
   "metadata": {},
   "outputs": [
    {
     "name": "stdout",
     "output_type": "stream",
     "text": [
      "[4653 1202]\n",
      "[1551  401]\n",
      "[1551  401]\n"
     ]
    }
   ],
   "source": [
    "print(np.bincount(target_train))\n",
    "print(np.bincount(target_valid))\n",
    "print(np.bincount(target_test))"
   ]
  },
  {
   "cell_type": "code",
   "execution_count": 24,
   "metadata": {},
   "outputs": [
    {
     "name": "stdout",
     "output_type": "stream",
     "text": [
      "<class 'pandas.core.frame.DataFrame'>\n",
      "Int64Index: 5855 entries, 3440 to 2088\n",
      "Data columns (total 10 columns):\n",
      " #   Column           Non-Null Count  Dtype  \n",
      "---  ------           --------------  -----  \n",
      " 0   creditscore      5855 non-null   int64  \n",
      " 1   geography        5855 non-null   object \n",
      " 2   gender           5855 non-null   object \n",
      " 3   age              5855 non-null   int64  \n",
      " 4   tenure           5855 non-null   int64  \n",
      " 5   balance          5855 non-null   float64\n",
      " 6   numofproducts    5855 non-null   int64  \n",
      " 7   hascrcard        5855 non-null   int64  \n",
      " 8   isactivemember   5855 non-null   int64  \n",
      " 9   estimatedsalary  5855 non-null   float64\n",
      "dtypes: float64(2), int64(6), object(2)\n",
      "memory usage: 503.2+ KB\n"
     ]
    }
   ],
   "source": [
    "features_train.info()"
   ]
  },
  {
   "cell_type": "markdown",
   "metadata": {},
   "source": [
    "Применим технико ohe и закодируем категориальные признаки"
   ]
  },
  {
   "cell_type": "code",
   "execution_count": 25,
   "metadata": {},
   "outputs": [],
   "source": [
    "features_categirical = ['geography', 'gender']\n",
    "\n",
    "ohe = OneHotEncoder(sparse=False, drop='first')\n",
    "ohe.fit(features_train[features_categirical])\n",
    "\n",
    "def features_ohe(ohe_variable, df_features, features_categ):\n",
    "    df_features_ohe = pd.DataFrame(\n",
    "        data=ohe_variable.transform(df_features[features_categ]), \n",
    "        index=df_features.index,\n",
    "        columns=ohe_variable.get_feature_names()\n",
    "    )\n",
    "\n",
    "    df_features = df_features.drop(features_categ, axis=1)\n",
    "    df_features = df_features.join(df_features_ohe)\n",
    "    return df_features    \n",
    "\n",
    "features_train = features_ohe(ohe, features_train, features_categirical);\n",
    "features_valid = features_ohe(ohe, features_valid, features_categirical);\n",
    "features_test = features_ohe(ohe, features_test, features_categirical);"
   ]
  },
  {
   "cell_type": "markdown",
   "metadata": {},
   "source": [
    "Признаки имеют совершенно разные разбросы значений, поэтому проведем масштабирование."
   ]
  },
  {
   "cell_type": "code",
   "execution_count": 26,
   "metadata": {},
   "outputs": [],
   "source": [
    "numeric = ['creditscore', 'age', 'tenure', 'balance', 'numofproducts', 'estimatedsalary']\n",
    "scaler = StandardScaler()\n",
    "scaler.fit(features_train[numeric])\n",
    "features_train[numeric] = scaler.transform(features_train[numeric])\n",
    "features_valid[numeric] = scaler.transform(features_valid[numeric])\n",
    "features_test[numeric] = scaler.transform(features_test[numeric])"
   ]
  },
  {
   "cell_type": "markdown",
   "metadata": {},
   "source": [
    "<b>Обучим модель \"случайный лес\". <b> <br>Переберем гиперпараметры глубину и количество деревьев, чтобы найти оптимальную модель."
   ]
  },
  {
   "cell_type": "code",
   "execution_count": 27,
   "metadata": {},
   "outputs": [
    {
     "name": "stdout",
     "output_type": "stream",
     "text": [
      "est = 35 depth = 18 f1= 0.6068759342301943 ROC-AUC: 0.8481520248379696\n",
      "CPU times: user 2min 34s, sys: 751 ms, total: 2min 35s\n",
      "Wall time: 2min 36s\n"
     ]
    }
   ],
   "source": [
    "%%time\n",
    "best_f1 = 0\n",
    "best_est = 0\n",
    "best_depth = 0\n",
    "roc_auc_best=0\n",
    "for est in range(5, 121, 5):\n",
    "    for depth in range(4, 21):   \n",
    "        model = RandomForestClassifier(random_state=12345, n_estimators=est, max_depth=depth)\n",
    "        model.fit(features_train, target_train)\n",
    "        predictions = model.predict(features_valid)\n",
    "        f1 = f1_score(target_valid, predictions)\n",
    "        if f1 > best_f1:\n",
    "            best_f1 = f1\n",
    "            best_est = est\n",
    "            best_depth = depth\n",
    "            probabilities = model.predict_proba(features_valid)\n",
    "            probabilities_one_test = probabilities[:, 1]\n",
    "            roc_auc_best = roc_auc_score(target_valid, probabilities_one_test)\n",
    "print('est =', best_est, 'depth =', best_depth, 'f1=', best_f1, 'ROC-AUC:', roc_auc_best)"
   ]
  },
  {
   "cell_type": "markdown",
   "metadata": {},
   "source": [
    "f1 мера лучшей модели 0.6069. "
   ]
  },
  {
   "cell_type": "markdown",
   "metadata": {},
   "source": [
    "Показатель AUC-ROC больше f1-меры, значит модель в норме."
   ]
  },
  {
   "cell_type": "markdown",
   "metadata": {},
   "source": [
    "<b>Обучим модель \"логистическая регрессия\"."
   ]
  },
  {
   "cell_type": "code",
   "execution_count": 28,
   "metadata": {},
   "outputs": [
    {
     "name": "stdout",
     "output_type": "stream",
     "text": [
      "f1: 0.3217550274223035\n",
      "roc-auc: 0.7637627401515554\n"
     ]
    }
   ],
   "source": [
    "model = LogisticRegression(random_state=12345)\n",
    "model.fit(features_train, target_train)\n",
    "predictions = model.predict(features_valid)\n",
    "print('f1:', f1_score(target_valid, predictions))\n",
    "probabilities = model.predict_proba(features_valid)\n",
    "probabilities_one_test = probabilities[:, 1]\n",
    "print('roc-auc:', roc_auc_score(target_valid, probabilities_one_test))"
   ]
  },
  {
   "cell_type": "markdown",
   "metadata": {},
   "source": [
    "Ее f1 мера слишком низкая для использования."
   ]
  },
  {
   "cell_type": "markdown",
   "metadata": {},
   "source": [
    "# <font size=\"3\"><b> Вывод: было построено две модели. Модель \"логистическая регрессия\" имеет слишком низкую f1-меру, поэтому она нам не подходит. Самые лучшие показатели имеет модель \"случайный лес\" из 35 деревьев с максимальной глубиной 18. f1=0.61, AUC-ROC=0.85</b></font>"
   ]
  },
  {
   "cell_type": "markdown",
   "metadata": {},
   "source": [
    "## Борьба с дисбалансом"
   ]
  },
  {
   "cell_type": "code",
   "execution_count": 29,
   "metadata": {},
   "outputs": [
    {
     "data": {
      "text/plain": [
       "array([4653, 1202])"
      ]
     },
     "execution_count": 29,
     "metadata": {},
     "output_type": "execute_result"
    }
   ],
   "source": [
    "np.bincount(target_train)"
   ]
  },
  {
   "cell_type": "markdown",
   "metadata": {},
   "source": [
    "Заметим дисбаланс в количестве классов в обучающей выборке: класса 0 - 4653, а класса 1 - 1202. Поэтому используем два метода для уравновешивания классов. Сначала увеличим количество 1, затем уменьшим количество 0."
   ]
  },
  {
   "cell_type": "code",
   "execution_count": 30,
   "metadata": {},
   "outputs": [],
   "source": [
    "features_zeros = features_train[target_train == 0]\n",
    "features_ones = features_train[target_train == 1]\n",
    "target_zeros = target_train[target_train == 0]\n",
    "target_ones = target_train[target_train == 1]"
   ]
  },
  {
   "cell_type": "markdown",
   "metadata": {},
   "source": [
    "<B> Upsample"
   ]
  },
  {
   "cell_type": "code",
   "execution_count": 31,
   "metadata": {},
   "outputs": [
    {
     "name": "stdout",
     "output_type": "stream",
     "text": [
      "estimators: 75 | depth: 10\n",
      "f1: 0.6288308740068105\n",
      "ROC-AUC: 0.8524755165599862\n"
     ]
    }
   ],
   "source": [
    "f1_best=0\n",
    "best_estimators=0\n",
    "best_depth=0\n",
    "roc_auc_best=0\n",
    "features_upsampled = pd.concat([features_zeros] + [features_ones] * 4)\n",
    "target_upsampled = pd.concat([target_zeros] + [target_ones] * 4)\n",
    "features_upsampled, target_upsampled = shuffle(features_upsampled, target_upsampled, random_state=12345)\n",
    "for estimators in range(10, 81, 5):\n",
    "    for depth in range(4, 21):\n",
    "        model = RandomForestClassifier(random_state=12345, n_estimators=estimators, max_depth=depth)\n",
    "        model.fit(features_upsampled, target_upsampled)\n",
    "        predictions = model.predict(features_valid)\n",
    "        f1 = f1_score(target_valid, predictions)\n",
    "        if f1 > f1_best:\n",
    "            f1_best = f1\n",
    "            best_estimators = estimators\n",
    "            best_depth = depth\n",
    "            probabilities = model.predict_proba(features_valid)\n",
    "            probabilities_one_test = probabilities[:, 1]\n",
    "            roc_auc_best = roc_auc_score(target_valid, probabilities_one_test)\n",
    "print('estimators:', best_estimators, '|', 'depth:', best_depth)\n",
    "print('f1:', f1_best)        \n",
    "print('ROC-AUC:', roc_auc_best)"
   ]
  },
  {
   "cell_type": "markdown",
   "metadata": {},
   "source": [
    "<B> Downsample"
   ]
  },
  {
   "cell_type": "code",
   "execution_count": 32,
   "metadata": {},
   "outputs": [
    {
     "name": "stdout",
     "output_type": "stream",
     "text": [
      "estimators: 50 | depth: 6\n",
      "f1: 0.592156862745098\n",
      "ROC-AUC: 0.8438381801781814\n"
     ]
    }
   ],
   "source": [
    "f1_best=0\n",
    "best_estimators=0\n",
    "best_depth=0\n",
    "roc_auc_best=0\n",
    "features_downsampled = pd.concat([features_zeros.sample(frac=0.25, random_state=12345)] + [features_ones])\n",
    "target_downsampled = pd.concat([target_zeros.sample(frac=0.25, random_state=12345)] + [target_ones])\n",
    "features_downsampled, target_downsampled = shuffle(features_downsampled, target_downsampled, random_state=12345)\n",
    "for estimators in range(10, 81, 5):\n",
    "    for depth in range(4, 21):\n",
    "        model = RandomForestClassifier(random_state=12345, n_estimators=estimators, max_depth=depth)\n",
    "        model.fit(features_downsampled, target_downsampled)\n",
    "        predictions = model.predict(features_valid)\n",
    "        f1 = f1_score(target_valid, predictions)\n",
    "        if f1 > f1_best:\n",
    "            f1_best = f1\n",
    "            best_estimators = estimators\n",
    "            best_depth = depth\n",
    "            probabilities = model.predict_proba(features_valid)\n",
    "            probabilities_one_test = probabilities[:, 1]\n",
    "            roc_auc_best = roc_auc_score(target_valid, probabilities_one_test)\n",
    "print('estimators:', best_estimators, '|', 'depth:', best_depth)\n",
    "print('f1:', f1_best)        \n",
    "print('ROC-AUC:', roc_auc_best)"
   ]
  },
  {
   "cell_type": "code",
   "execution_count": 33,
   "metadata": {},
   "outputs": [
    {
     "name": "stdout",
     "output_type": "stream",
     "text": [
      "f1: 0.6100278551532033\n",
      "ROC-AUC 0.8441693959813555\n"
     ]
    }
   ],
   "source": [
    "features_downsampled = pd.concat([features_zeros.sample(frac=0.75, random_state=12345)] + [features_ones])\n",
    "target_downsampled = pd.concat([target_zeros.sample(frac=0.75, random_state=12345)] + [target_ones])\n",
    "features_downsampled, target_downsampled = shuffle(features_downsampled, target_downsampled, random_state=12345)\n",
    "model = RandomForestClassifier(random_state=12345, n_estimators=35, max_depth=18)\n",
    "model.fit(features_downsampled, target_downsampled)\n",
    "predictions = model.predict(features_valid)\n",
    "print('f1:', f1_score(target_valid, predictions))\n",
    "probabilities = model.predict_proba(features_valid)\n",
    "probabilities_one_test = probabilities[:, 1]\n",
    "print('ROC-AUC', roc_auc_score(target_valid, probabilities_one_test))"
   ]
  },
  {
   "cell_type": "markdown",
   "metadata": {},
   "source": [
    "<b> Логистическая регрессия"
   ]
  },
  {
   "cell_type": "markdown",
   "metadata": {},
   "source": [
    "Исправим дисбаланс классов параметром class_weight."
   ]
  },
  {
   "cell_type": "code",
   "execution_count": 34,
   "metadata": {},
   "outputs": [
    {
     "name": "stdout",
     "output_type": "stream",
     "text": [
      "f1: 0.49738219895287966\n"
     ]
    }
   ],
   "source": [
    "model = LogisticRegression(class_weight='balanced', random_state=12345)\n",
    "model.fit(features_train, target_train)\n",
    "predictions = model.predict(features_valid)\n",
    "print('f1:', f1_score(target_valid, predictions))"
   ]
  },
  {
   "cell_type": "markdown",
   "metadata": {},
   "source": [
    "Исправим сэмплированием."
   ]
  },
  {
   "cell_type": "code",
   "execution_count": 35,
   "metadata": {},
   "outputs": [
    {
     "name": "stdout",
     "output_type": "stream",
     "text": [
      "f1: 0.4927536231884057\n"
     ]
    }
   ],
   "source": [
    "model = LogisticRegression(random_state=12345)\n",
    "model.fit(features_upsampled, target_upsampled)\n",
    "predictions = model.predict(features_valid)\n",
    "print('f1:', f1_score(target_valid, predictions))"
   ]
  },
  {
   "cell_type": "code",
   "execution_count": 36,
   "metadata": {},
   "outputs": [
    {
     "name": "stdout",
     "output_type": "stream",
     "text": [
      "f1: 0.40894568690095845\n"
     ]
    }
   ],
   "source": [
    "model = LogisticRegression(random_state=12345)\n",
    "model.fit(features_downsampled, target_downsampled)\n",
    "predictions = model.predict(features_valid)\n",
    "print('f1:', f1_score(target_valid, predictions))"
   ]
  },
  {
   "cell_type": "markdown",
   "metadata": {},
   "source": [
    "<b> Вывод: для борьбы с дисбалансом было применено 2 метода - upsample и downsample. Оба метода повысили f1-меру модели."
   ]
  },
  {
   "cell_type": "markdown",
   "metadata": {},
   "source": [
    "## Тестирование моделей"
   ]
  },
  {
   "cell_type": "code",
   "execution_count": 37,
   "metadata": {},
   "outputs": [
    {
     "data": {
      "text/plain": [
       "0.5997770345596433"
      ]
     },
     "execution_count": 37,
     "metadata": {},
     "output_type": "execute_result"
    }
   ],
   "source": [
    "model = RandomForestClassifier(random_state=12345, n_estimators=75, max_depth=10)\n",
    "model.fit(features_upsampled, target_upsampled)\n",
    "predictions = model.predict(features_test)\n",
    "f1_score(target_test, predictions)"
   ]
  },
  {
   "cell_type": "code",
   "execution_count": 38,
   "metadata": {},
   "outputs": [
    {
     "data": {
      "text/plain": [
       "0.5122349102773246"
      ]
     },
     "execution_count": 38,
     "metadata": {},
     "output_type": "execute_result"
    }
   ],
   "source": [
    "model = RandomForestClassifier(random_state=12345, n_estimators=50, max_depth=6)\n",
    "model.fit(features_downsampled, target_downsampled)\n",
    "predictions = model.predict(features_test)\n",
    "f1_score(target_test, predictions)"
   ]
  },
  {
   "cell_type": "code",
   "execution_count": 39,
   "metadata": {},
   "outputs": [
    {
     "name": "stdout",
     "output_type": "stream",
     "text": [
      "f1: 0.6011976047904191\n",
      "ROC-AUC 0.8601192055322686\n"
     ]
    }
   ],
   "source": [
    "features_train = pd.concat([features_upsampled, features_valid])\n",
    "target_train = pd.concat([target_upsampled, target_valid])\n",
    "model = RandomForestClassifier(random_state=12345, n_estimators=75, max_depth=10)\n",
    "model.fit(features_train, target_train)\n",
    "predictions = model.predict(features_test)\n",
    "print('f1:', f1_score(target_test, predictions))\n",
    "probabilities = model.predict_proba(features_test)\n",
    "probabilities_one_test = probabilities[:, 1]\n",
    "print('ROC-AUC', roc_auc_score(target_test, probabilities_one_test))"
   ]
  },
  {
   "cell_type": "code",
   "execution_count": 40,
   "metadata": {},
   "outputs": [
    {
     "name": "stdout",
     "output_type": "stream",
     "text": [
      "f1: 0.5328947368421052\n",
      "ROC-AUC 0.5046008447610825\n"
     ]
    }
   ],
   "source": [
    "features_train = pd.concat([features_downsampled, features_valid])\n",
    "target_train = pd.concat([target_downsampled, target_valid])\n",
    "model = RandomForestClassifier(random_state=12345, n_estimators=50, max_depth=6)\n",
    "model.fit(features_train, target_train)\n",
    "predictions = model.predict(features_test)\n",
    "print('f1:', f1_score(target_test, predictions))\n",
    "probabilities = model.predict_proba(features_test)\n",
    "probabilities_one_test = probabilities[:, 1]\n",
    "print('ROC-AUC', roc_auc_score(target_valid, probabilities_one_test))"
   ]
  },
  {
   "cell_type": "markdown",
   "metadata": {},
   "source": [
    "<b> Модель \"случайный лес\" из 75 деревьев глубины 10 прошел проверку! <br>\n",
    "   Все модели на которых использовалось downsample показали себя хуже."
   ]
  },
  {
   "cell_type": "markdown",
   "metadata": {},
   "source": [
    "## Общий вывод"
   ]
  },
  {
   "cell_type": "markdown",
   "metadata": {},
   "source": [
    "<font size=\"3\"><b> В этом проекте велась работа с данными о клиентах \"Бета-банка\". Главной целью было прогнозирование оттока клиентов (уйдет конкретный клиент или нет). Сначала была проделана предобработка данных: удаление дубликатов, исправление типов данных, заполнение пропусков. Затем были проанализированы несколько моделей. Самый лучший результат показала модель \"слцчайный лес\" с f1-мерой равной 0.60. Но в данных присутствовал большой дисбаланс в классах. Он был удален двумя методами, оба показали улучшение модели. Самой лучшей оказалась: модель \"случайный лес\" из 75 деревьев глубины 10. </b></font>"
   ]
  }
 ],
 "metadata": {
  "ExecuteTimeLog": [
   {
    "duration": 389,
    "start_time": "2023-05-03T19:39:42.070Z"
   },
   {
    "duration": 83,
    "start_time": "2023-05-03T20:01:14.613Z"
   },
   {
    "duration": 32,
    "start_time": "2023-05-03T20:01:47.116Z"
   },
   {
    "duration": 18,
    "start_time": "2023-05-03T20:02:08.772Z"
   },
   {
    "duration": 35,
    "start_time": "2023-05-03T20:05:36.948Z"
   },
   {
    "duration": 6,
    "start_time": "2023-05-03T20:10:30.593Z"
   },
   {
    "duration": 5,
    "start_time": "2023-05-03T20:14:32.983Z"
   },
   {
    "duration": 11,
    "start_time": "2023-05-03T20:14:38.486Z"
   },
   {
    "duration": 4,
    "start_time": "2023-05-03T20:14:50.501Z"
   },
   {
    "duration": 6,
    "start_time": "2023-05-03T20:21:16.482Z"
   },
   {
    "duration": 4,
    "start_time": "2023-05-03T20:21:32.234Z"
   },
   {
    "duration": 11,
    "start_time": "2023-05-03T20:21:45.183Z"
   },
   {
    "duration": 10,
    "start_time": "2023-05-03T20:25:05.781Z"
   },
   {
    "duration": 12,
    "start_time": "2023-05-03T20:25:42.437Z"
   },
   {
    "duration": 12,
    "start_time": "2023-05-03T20:27:01.359Z"
   },
   {
    "duration": 9,
    "start_time": "2023-05-03T20:27:25.749Z"
   },
   {
    "duration": 10,
    "start_time": "2023-05-03T20:28:11.227Z"
   },
   {
    "duration": 8,
    "start_time": "2023-05-03T20:29:04.241Z"
   },
   {
    "duration": 8,
    "start_time": "2023-05-03T20:29:10.291Z"
   },
   {
    "duration": 86,
    "start_time": "2023-05-03T20:29:26.552Z"
   },
   {
    "duration": 10,
    "start_time": "2023-05-03T20:29:35.851Z"
   },
   {
    "duration": 9,
    "start_time": "2023-05-03T20:29:40.599Z"
   },
   {
    "duration": 23,
    "start_time": "2023-05-03T20:33:12.046Z"
   },
   {
    "duration": 7,
    "start_time": "2023-05-03T20:33:36.872Z"
   },
   {
    "duration": 11,
    "start_time": "2023-05-03T20:33:46.701Z"
   },
   {
    "duration": 1099,
    "start_time": "2023-05-03T20:42:23.546Z"
   },
   {
    "duration": 6,
    "start_time": "2023-05-03T20:45:08.929Z"
   },
   {
    "duration": 75,
    "start_time": "2023-05-03T20:49:49.560Z"
   },
   {
    "duration": 14,
    "start_time": "2023-05-03T20:50:18.058Z"
   },
   {
    "duration": 4,
    "start_time": "2023-05-03T20:51:23.565Z"
   },
   {
    "duration": 8,
    "start_time": "2023-05-03T20:52:12.953Z"
   },
   {
    "duration": 42,
    "start_time": "2023-05-03T20:53:20.175Z"
   },
   {
    "duration": 3,
    "start_time": "2023-05-03T20:53:35.458Z"
   },
   {
    "duration": 55,
    "start_time": "2023-05-03T20:55:44.280Z"
   },
   {
    "duration": 72,
    "start_time": "2023-05-03T20:56:27.741Z"
   },
   {
    "duration": 1594,
    "start_time": "2023-05-04T15:19:24.165Z"
   },
   {
    "duration": 164,
    "start_time": "2023-05-04T15:19:25.761Z"
   },
   {
    "duration": 20,
    "start_time": "2023-05-04T15:19:28.039Z"
   },
   {
    "duration": 5,
    "start_time": "2023-05-04T15:19:35.518Z"
   },
   {
    "duration": 13,
    "start_time": "2023-05-04T15:19:36.342Z"
   },
   {
    "duration": 46,
    "start_time": "2023-05-04T15:19:38.042Z"
   },
   {
    "duration": 5,
    "start_time": "2023-05-04T15:19:41.305Z"
   },
   {
    "duration": 5,
    "start_time": "2023-05-04T15:19:43.181Z"
   },
   {
    "duration": 13,
    "start_time": "2023-05-04T15:19:46.810Z"
   },
   {
    "duration": 14,
    "start_time": "2023-05-04T15:19:50.236Z"
   },
   {
    "duration": 10,
    "start_time": "2023-05-04T15:19:51.690Z"
   },
   {
    "duration": 8,
    "start_time": "2023-05-04T15:19:56.153Z"
   },
   {
    "duration": 11,
    "start_time": "2023-05-04T15:19:57.296Z"
   },
   {
    "duration": 120,
    "start_time": "2023-05-04T15:20:04.435Z"
   },
   {
    "duration": 14,
    "start_time": "2023-05-04T15:21:01.826Z"
   },
   {
    "duration": 12,
    "start_time": "2023-05-04T15:21:11.430Z"
   },
   {
    "duration": 15,
    "start_time": "2023-05-04T15:22:34.696Z"
   },
   {
    "duration": 17,
    "start_time": "2023-05-04T15:22:49.016Z"
   },
   {
    "duration": 15,
    "start_time": "2023-05-04T15:23:34.342Z"
   },
   {
    "duration": 1527,
    "start_time": "2023-05-04T15:23:41.945Z"
   },
   {
    "duration": 43,
    "start_time": "2023-05-04T15:23:43.474Z"
   },
   {
    "duration": 21,
    "start_time": "2023-05-04T15:23:43.519Z"
   },
   {
    "duration": 5,
    "start_time": "2023-05-04T15:23:43.542Z"
   },
   {
    "duration": 18,
    "start_time": "2023-05-04T15:23:43.548Z"
   },
   {
    "duration": 46,
    "start_time": "2023-05-04T15:23:43.583Z"
   },
   {
    "duration": 6,
    "start_time": "2023-05-04T15:23:43.632Z"
   },
   {
    "duration": 6,
    "start_time": "2023-05-04T15:23:43.640Z"
   },
   {
    "duration": 37,
    "start_time": "2023-05-04T15:23:43.648Z"
   },
   {
    "duration": 17,
    "start_time": "2023-05-04T15:23:43.689Z"
   },
   {
    "duration": 10,
    "start_time": "2023-05-04T15:23:43.708Z"
   },
   {
    "duration": 8,
    "start_time": "2023-05-04T15:23:43.720Z"
   },
   {
    "duration": 14,
    "start_time": "2023-05-04T15:23:43.729Z"
   },
   {
    "duration": 49,
    "start_time": "2023-05-04T15:23:43.745Z"
   },
   {
    "duration": 32,
    "start_time": "2023-05-04T15:23:43.796Z"
   },
   {
    "duration": 27,
    "start_time": "2023-05-04T15:23:43.829Z"
   },
   {
    "duration": 27,
    "start_time": "2023-05-04T15:23:43.858Z"
   },
   {
    "duration": 16,
    "start_time": "2023-05-04T15:23:43.886Z"
   },
   {
    "duration": 13,
    "start_time": "2023-05-04T15:23:43.904Z"
   },
   {
    "duration": 13567,
    "start_time": "2023-05-04T15:23:43.919Z"
   },
   {
    "duration": 4,
    "start_time": "2023-05-04T15:32:08.860Z"
   },
   {
    "duration": 13179,
    "start_time": "2023-05-04T15:33:28.209Z"
   },
   {
    "duration": 302,
    "start_time": "2023-05-04T15:36:31.993Z"
   },
   {
    "duration": 641,
    "start_time": "2023-05-04T15:38:01.549Z"
   },
   {
    "duration": 1652,
    "start_time": "2023-05-04T20:25:48.075Z"
   },
   {
    "duration": 78,
    "start_time": "2023-05-04T20:25:49.729Z"
   },
   {
    "duration": 21,
    "start_time": "2023-05-04T20:25:49.809Z"
   },
   {
    "duration": 6,
    "start_time": "2023-05-04T20:25:49.831Z"
   },
   {
    "duration": 18,
    "start_time": "2023-05-04T20:25:49.840Z"
   },
   {
    "duration": 60,
    "start_time": "2023-05-04T20:25:49.860Z"
   },
   {
    "duration": 6,
    "start_time": "2023-05-04T20:25:49.923Z"
   },
   {
    "duration": 22,
    "start_time": "2023-05-04T20:25:49.932Z"
   },
   {
    "duration": 23,
    "start_time": "2023-05-04T20:25:49.956Z"
   },
   {
    "duration": 21,
    "start_time": "2023-05-04T20:25:49.981Z"
   },
   {
    "duration": 21,
    "start_time": "2023-05-04T20:25:50.004Z"
   },
   {
    "duration": 15,
    "start_time": "2023-05-04T20:25:50.027Z"
   },
   {
    "duration": 44,
    "start_time": "2023-05-04T20:25:50.044Z"
   },
   {
    "duration": 14,
    "start_time": "2023-05-04T20:25:50.090Z"
   },
   {
    "duration": 19,
    "start_time": "2023-05-04T20:25:50.106Z"
   },
   {
    "duration": 8,
    "start_time": "2023-05-04T20:25:50.127Z"
   },
   {
    "duration": 19,
    "start_time": "2023-05-04T20:25:50.137Z"
   },
   {
    "duration": 5,
    "start_time": "2023-05-04T20:25:50.158Z"
   },
   {
    "duration": 5,
    "start_time": "2023-05-04T20:25:50.190Z"
   },
   {
    "duration": 14344,
    "start_time": "2023-05-04T20:25:50.197Z"
   },
   {
    "duration": 356,
    "start_time": "2023-05-04T20:26:04.544Z"
   },
   {
    "duration": 138,
    "start_time": "2023-05-04T20:41:08.826Z"
   },
   {
    "duration": 19,
    "start_time": "2023-05-04T20:42:04.455Z"
   },
   {
    "duration": 18,
    "start_time": "2023-05-04T20:42:14.419Z"
   },
   {
    "duration": 6,
    "start_time": "2023-05-04T20:43:23.942Z"
   },
   {
    "duration": 12,
    "start_time": "2023-05-04T20:43:29.458Z"
   },
   {
    "duration": 350,
    "start_time": "2023-05-04T20:47:58.504Z"
   },
   {
    "duration": 356,
    "start_time": "2023-05-04T20:48:05.175Z"
   },
   {
    "duration": 13,
    "start_time": "2023-05-04T20:48:58.260Z"
   },
   {
    "duration": 274,
    "start_time": "2023-05-04T20:49:42.520Z"
   },
   {
    "duration": 270,
    "start_time": "2023-05-04T20:53:34.492Z"
   },
   {
    "duration": 1349,
    "start_time": "2023-05-04T20:54:27.605Z"
   },
   {
    "duration": 37,
    "start_time": "2023-05-04T20:54:28.958Z"
   },
   {
    "duration": 19,
    "start_time": "2023-05-04T20:54:28.997Z"
   },
   {
    "duration": 7,
    "start_time": "2023-05-04T20:54:29.018Z"
   },
   {
    "duration": 14,
    "start_time": "2023-05-04T20:54:29.027Z"
   },
   {
    "duration": 58,
    "start_time": "2023-05-04T20:54:29.042Z"
   },
   {
    "duration": 5,
    "start_time": "2023-05-04T20:54:29.102Z"
   },
   {
    "duration": 5,
    "start_time": "2023-05-04T20:54:29.108Z"
   },
   {
    "duration": 13,
    "start_time": "2023-05-04T20:54:29.115Z"
   },
   {
    "duration": 17,
    "start_time": "2023-05-04T20:54:29.131Z"
   },
   {
    "duration": 45,
    "start_time": "2023-05-04T20:54:29.150Z"
   },
   {
    "duration": 7,
    "start_time": "2023-05-04T20:54:29.197Z"
   },
   {
    "duration": 11,
    "start_time": "2023-05-04T20:54:29.206Z"
   },
   {
    "duration": 13,
    "start_time": "2023-05-04T20:54:29.219Z"
   },
   {
    "duration": 19,
    "start_time": "2023-05-04T20:54:29.233Z"
   },
   {
    "duration": 33,
    "start_time": "2023-05-04T20:54:29.254Z"
   },
   {
    "duration": 12,
    "start_time": "2023-05-04T20:54:29.289Z"
   },
   {
    "duration": 3,
    "start_time": "2023-05-04T20:54:29.303Z"
   },
   {
    "duration": 5,
    "start_time": "2023-05-04T20:54:29.308Z"
   },
   {
    "duration": 83595,
    "start_time": "2023-05-04T20:54:29.314Z"
   },
   {
    "duration": 283,
    "start_time": "2023-05-04T20:55:52.911Z"
   },
   {
    "duration": 304,
    "start_time": "2023-05-04T20:55:53.196Z"
   },
   {
    "duration": 0,
    "start_time": "2023-05-04T20:55:53.502Z"
   },
   {
    "duration": 0,
    "start_time": "2023-05-04T20:55:53.503Z"
   },
   {
    "duration": 0,
    "start_time": "2023-05-04T20:55:53.504Z"
   },
   {
    "duration": 0,
    "start_time": "2023-05-04T20:55:53.505Z"
   },
   {
    "duration": 96620,
    "start_time": "2023-05-04T20:56:53.704Z"
   },
   {
    "duration": 19,
    "start_time": "2023-05-04T21:00:42.774Z"
   },
   {
    "duration": 19,
    "start_time": "2023-05-04T21:02:53.109Z"
   },
   {
    "duration": 1124,
    "start_time": "2023-05-04T21:03:13.266Z"
   },
   {
    "duration": 415,
    "start_time": "2023-05-04T21:04:45.484Z"
   },
   {
    "duration": 1454,
    "start_time": "2023-05-04T21:05:31.062Z"
   },
   {
    "duration": 13,
    "start_time": "2023-05-04T21:06:55.257Z"
   },
   {
    "duration": 265,
    "start_time": "2023-05-04T21:06:58.101Z"
   },
   {
    "duration": 1562,
    "start_time": "2023-05-04T21:13:01.758Z"
   },
   {
    "duration": 43,
    "start_time": "2023-05-04T21:13:03.322Z"
   },
   {
    "duration": 27,
    "start_time": "2023-05-04T21:13:03.367Z"
   },
   {
    "duration": 7,
    "start_time": "2023-05-04T21:13:03.401Z"
   },
   {
    "duration": 33,
    "start_time": "2023-05-04T21:13:03.412Z"
   },
   {
    "duration": 52,
    "start_time": "2023-05-04T21:13:03.447Z"
   },
   {
    "duration": 7,
    "start_time": "2023-05-04T21:13:03.501Z"
   },
   {
    "duration": 11,
    "start_time": "2023-05-04T21:13:03.510Z"
   },
   {
    "duration": 17,
    "start_time": "2023-05-04T21:13:03.523Z"
   },
   {
    "duration": 21,
    "start_time": "2023-05-04T21:13:03.543Z"
   },
   {
    "duration": 35,
    "start_time": "2023-05-04T21:13:03.566Z"
   },
   {
    "duration": 11,
    "start_time": "2023-05-04T21:13:03.604Z"
   },
   {
    "duration": 15,
    "start_time": "2023-05-04T21:13:03.617Z"
   },
   {
    "duration": 15,
    "start_time": "2023-05-04T21:13:03.635Z"
   },
   {
    "duration": 47,
    "start_time": "2023-05-04T21:13:03.652Z"
   },
   {
    "duration": 12,
    "start_time": "2023-05-04T21:13:03.701Z"
   },
   {
    "duration": 17,
    "start_time": "2023-05-04T21:13:03.716Z"
   },
   {
    "duration": 15,
    "start_time": "2023-05-04T21:13:03.735Z"
   },
   {
    "duration": 6,
    "start_time": "2023-05-04T21:13:03.752Z"
   },
   {
    "duration": 103472,
    "start_time": "2023-05-04T21:13:03.759Z"
   },
   {
    "duration": 1075,
    "start_time": "2023-05-04T21:14:47.233Z"
   },
   {
    "duration": 1632,
    "start_time": "2023-05-04T21:14:48.390Z"
   },
   {
    "duration": 1407,
    "start_time": "2023-05-04T21:14:50.025Z"
   },
   {
    "duration": 296,
    "start_time": "2023-05-04T21:14:51.434Z"
   },
   {
    "duration": 1293,
    "start_time": "2023-05-04T21:16:18.470Z"
   },
   {
    "duration": 1630,
    "start_time": "2023-05-04T21:16:28.593Z"
   },
   {
    "duration": 382,
    "start_time": "2023-05-04T21:16:52.490Z"
   },
   {
    "duration": 444,
    "start_time": "2023-05-04T21:16:57.293Z"
   },
   {
    "duration": 506,
    "start_time": "2023-05-04T21:17:04.839Z"
   },
   {
    "duration": 587,
    "start_time": "2023-05-04T21:17:08.606Z"
   },
   {
    "duration": 1626,
    "start_time": "2023-05-04T21:17:14.331Z"
   },
   {
    "duration": 629,
    "start_time": "2023-05-04T21:21:49.220Z"
   },
   {
    "duration": 474,
    "start_time": "2023-05-04T21:30:33.080Z"
   },
   {
    "duration": 466,
    "start_time": "2023-05-04T21:33:43.171Z"
   },
   {
    "duration": 8,
    "start_time": "2023-05-04T21:34:34.450Z"
   },
   {
    "duration": 486,
    "start_time": "2023-05-04T21:36:29.072Z"
   },
   {
    "duration": 391,
    "start_time": "2023-05-04T21:39:42.551Z"
   },
   {
    "duration": 391,
    "start_time": "2023-05-04T21:39:56.259Z"
   },
   {
    "duration": 26,
    "start_time": "2023-05-04T22:05:43.083Z"
   },
   {
    "duration": 1478,
    "start_time": "2023-05-04T22:05:50.115Z"
   },
   {
    "duration": 37,
    "start_time": "2023-05-04T22:05:51.596Z"
   },
   {
    "duration": 23,
    "start_time": "2023-05-04T22:05:51.636Z"
   },
   {
    "duration": 5,
    "start_time": "2023-05-04T22:05:51.661Z"
   },
   {
    "duration": 22,
    "start_time": "2023-05-04T22:05:51.669Z"
   },
   {
    "duration": 53,
    "start_time": "2023-05-04T22:05:51.693Z"
   },
   {
    "duration": 6,
    "start_time": "2023-05-04T22:05:51.749Z"
   },
   {
    "duration": 32,
    "start_time": "2023-05-04T22:05:51.757Z"
   },
   {
    "duration": 14,
    "start_time": "2023-05-04T22:05:51.791Z"
   },
   {
    "duration": 17,
    "start_time": "2023-05-04T22:05:51.807Z"
   },
   {
    "duration": 11,
    "start_time": "2023-05-04T22:05:51.826Z"
   },
   {
    "duration": 9,
    "start_time": "2023-05-04T22:05:51.839Z"
   },
   {
    "duration": 49,
    "start_time": "2023-05-04T22:05:51.850Z"
   },
   {
    "duration": 31,
    "start_time": "2023-05-04T22:05:51.902Z"
   },
   {
    "duration": 17,
    "start_time": "2023-05-04T22:05:51.935Z"
   },
   {
    "duration": 28,
    "start_time": "2023-05-04T22:05:51.954Z"
   },
   {
    "duration": 19,
    "start_time": "2023-05-04T22:05:51.984Z"
   },
   {
    "duration": 6,
    "start_time": "2023-05-04T22:05:52.005Z"
   },
   {
    "duration": 17,
    "start_time": "2023-05-04T22:05:52.013Z"
   },
   {
    "duration": 96077,
    "start_time": "2023-05-04T22:05:52.032Z"
   },
   {
    "duration": 59,
    "start_time": "2023-05-04T22:07:28.111Z"
   },
   {
    "duration": 323,
    "start_time": "2023-05-04T22:07:28.171Z"
   },
   {
    "duration": 99,
    "start_time": "2023-05-04T22:07:28.496Z"
   },
   {
    "duration": 1469,
    "start_time": "2023-05-04T22:07:28.597Z"
   },
   {
    "duration": 508,
    "start_time": "2023-05-04T22:07:30.068Z"
   },
   {
    "duration": 1657,
    "start_time": "2023-05-04T22:07:30.578Z"
   },
   {
    "duration": 490,
    "start_time": "2023-05-04T22:07:32.237Z"
   },
   {
    "duration": 393,
    "start_time": "2023-05-04T22:07:32.729Z"
   },
   {
    "duration": 55,
    "start_time": "2023-05-04T22:09:17.331Z"
   },
   {
    "duration": 394,
    "start_time": "2023-05-04T22:11:57.013Z"
   },
   {
    "duration": 8,
    "start_time": "2023-05-04T22:14:44.433Z"
   },
   {
    "duration": 4,
    "start_time": "2023-05-04T22:15:47.333Z"
   },
   {
    "duration": 5,
    "start_time": "2023-05-04T22:16:35.893Z"
   },
   {
    "duration": 7,
    "start_time": "2023-05-04T22:20:23.160Z"
   },
   {
    "duration": 848,
    "start_time": "2023-05-04T22:20:24.823Z"
   },
   {
    "duration": 295,
    "start_time": "2023-05-04T22:20:52.805Z"
   },
   {
    "duration": 1032,
    "start_time": "2023-05-04T22:20:57.914Z"
   },
   {
    "duration": 280,
    "start_time": "2023-05-04T22:21:50.133Z"
   },
   {
    "duration": 255,
    "start_time": "2023-05-04T22:22:08.806Z"
   },
   {
    "duration": 318,
    "start_time": "2023-05-04T22:22:30.689Z"
   },
   {
    "duration": 231,
    "start_time": "2023-05-04T22:22:34.353Z"
   },
   {
    "duration": 379,
    "start_time": "2023-05-04T22:25:26.584Z"
   },
   {
    "duration": 292,
    "start_time": "2023-05-04T22:27:55.407Z"
   },
   {
    "duration": 383,
    "start_time": "2023-05-04T22:27:58.391Z"
   },
   {
    "duration": 354,
    "start_time": "2023-05-04T22:30:05.244Z"
   },
   {
    "duration": 1334,
    "start_time": "2023-05-04T22:30:43.735Z"
   },
   {
    "duration": 38,
    "start_time": "2023-05-04T22:30:45.071Z"
   },
   {
    "duration": 30,
    "start_time": "2023-05-04T22:30:45.111Z"
   },
   {
    "duration": 5,
    "start_time": "2023-05-04T22:30:45.143Z"
   },
   {
    "duration": 23,
    "start_time": "2023-05-04T22:30:45.150Z"
   },
   {
    "duration": 62,
    "start_time": "2023-05-04T22:30:45.175Z"
   },
   {
    "duration": 5,
    "start_time": "2023-05-04T22:30:45.239Z"
   },
   {
    "duration": 22,
    "start_time": "2023-05-04T22:30:45.246Z"
   },
   {
    "duration": 14,
    "start_time": "2023-05-04T22:30:45.270Z"
   },
   {
    "duration": 27,
    "start_time": "2023-05-04T22:30:45.286Z"
   },
   {
    "duration": 9,
    "start_time": "2023-05-04T22:30:45.315Z"
   },
   {
    "duration": 8,
    "start_time": "2023-05-04T22:30:45.326Z"
   },
   {
    "duration": 23,
    "start_time": "2023-05-04T22:30:45.335Z"
   },
   {
    "duration": 15,
    "start_time": "2023-05-04T22:30:45.361Z"
   },
   {
    "duration": 12,
    "start_time": "2023-05-04T22:30:45.388Z"
   },
   {
    "duration": 20,
    "start_time": "2023-05-04T22:30:45.401Z"
   },
   {
    "duration": 15,
    "start_time": "2023-05-04T22:30:45.423Z"
   },
   {
    "duration": 4,
    "start_time": "2023-05-04T22:30:45.440Z"
   },
   {
    "duration": 12,
    "start_time": "2023-05-04T22:30:45.446Z"
   },
   {
    "duration": 95415,
    "start_time": "2023-05-04T22:30:45.460Z"
   },
   {
    "duration": 65,
    "start_time": "2023-05-04T22:32:20.877Z"
   },
   {
    "duration": 746,
    "start_time": "2023-05-04T22:32:20.943Z"
   },
   {
    "duration": 9,
    "start_time": "2023-05-04T22:32:21.692Z"
   },
   {
    "duration": 94,
    "start_time": "2023-05-04T22:32:21.703Z"
   },
   {
    "duration": 872,
    "start_time": "2023-05-04T22:32:21.799Z"
   },
   {
    "duration": 311,
    "start_time": "2023-05-04T22:32:22.673Z"
   },
   {
    "duration": 304,
    "start_time": "2023-05-04T22:32:22.990Z"
   },
   {
    "duration": 1211,
    "start_time": "2023-05-04T22:32:23.296Z"
   },
   {
    "duration": 220,
    "start_time": "2023-05-04T22:32:24.509Z"
   },
   {
    "duration": 410,
    "start_time": "2023-05-04T22:32:24.731Z"
   },
   {
    "duration": 306,
    "start_time": "2023-05-04T22:32:25.142Z"
   },
   {
    "duration": 1679,
    "start_time": "2023-05-07T22:48:29.682Z"
   },
   {
    "duration": 192,
    "start_time": "2023-05-07T22:48:31.363Z"
   },
   {
    "duration": 24,
    "start_time": "2023-05-07T22:48:31.556Z"
   },
   {
    "duration": 51,
    "start_time": "2023-05-07T22:48:31.582Z"
   },
   {
    "duration": 93,
    "start_time": "2023-05-07T22:48:31.635Z"
   },
   {
    "duration": 81,
    "start_time": "2023-05-07T22:48:31.730Z"
   },
   {
    "duration": 5,
    "start_time": "2023-05-07T22:48:31.814Z"
   },
   {
    "duration": 23,
    "start_time": "2023-05-07T22:48:31.821Z"
   },
   {
    "duration": 43,
    "start_time": "2023-05-07T22:48:31.846Z"
   },
   {
    "duration": 29,
    "start_time": "2023-05-07T22:48:31.891Z"
   },
   {
    "duration": 32,
    "start_time": "2023-05-07T22:48:31.923Z"
   },
   {
    "duration": 30,
    "start_time": "2023-05-07T22:48:31.957Z"
   },
   {
    "duration": 30,
    "start_time": "2023-05-07T22:48:31.988Z"
   },
   {
    "duration": 11,
    "start_time": "2023-05-07T22:48:32.022Z"
   },
   {
    "duration": 21,
    "start_time": "2023-05-07T22:48:32.035Z"
   },
   {
    "duration": 23,
    "start_time": "2023-05-07T22:48:32.058Z"
   },
   {
    "duration": 50,
    "start_time": "2023-05-07T22:48:32.082Z"
   },
   {
    "duration": 26,
    "start_time": "2023-05-07T22:48:32.134Z"
   },
   {
    "duration": 51,
    "start_time": "2023-05-07T22:48:32.162Z"
   },
   {
    "duration": 94531,
    "start_time": "2023-05-07T22:48:32.215Z"
   },
   {
    "duration": 69,
    "start_time": "2023-05-07T22:50:06.748Z"
   },
   {
    "duration": 408,
    "start_time": "2023-05-07T22:50:06.819Z"
   },
   {
    "duration": 6,
    "start_time": "2023-05-07T22:50:07.229Z"
   },
   {
    "duration": 9,
    "start_time": "2023-05-07T22:50:07.319Z"
   },
   {
    "duration": 891,
    "start_time": "2023-05-07T22:50:07.330Z"
   },
   {
    "duration": 301,
    "start_time": "2023-05-07T22:50:08.223Z"
   },
   {
    "duration": 498,
    "start_time": "2023-05-07T22:50:08.526Z"
   },
   {
    "duration": 1135,
    "start_time": "2023-05-07T22:50:09.026Z"
   },
   {
    "duration": 224,
    "start_time": "2023-05-07T22:50:10.162Z"
   },
   {
    "duration": 402,
    "start_time": "2023-05-07T22:50:10.387Z"
   },
   {
    "duration": 350,
    "start_time": "2023-05-07T22:50:10.792Z"
   },
   {
    "duration": 4,
    "start_time": "2023-05-07T22:51:41.808Z"
   },
   {
    "duration": 1439,
    "start_time": "2023-05-07T22:55:19.701Z"
   },
   {
    "duration": 44,
    "start_time": "2023-05-07T22:55:21.143Z"
   },
   {
    "duration": 20,
    "start_time": "2023-05-07T22:55:21.189Z"
   },
   {
    "duration": 16,
    "start_time": "2023-05-07T22:55:21.211Z"
   },
   {
    "duration": 16,
    "start_time": "2023-05-07T22:55:21.228Z"
   },
   {
    "duration": 43,
    "start_time": "2023-05-07T22:55:21.246Z"
   },
   {
    "duration": 4,
    "start_time": "2023-05-07T22:55:21.291Z"
   },
   {
    "duration": 20,
    "start_time": "2023-05-07T22:55:21.297Z"
   },
   {
    "duration": 19,
    "start_time": "2023-05-07T22:55:21.319Z"
   },
   {
    "duration": 29,
    "start_time": "2023-05-07T22:55:21.340Z"
   },
   {
    "duration": 9,
    "start_time": "2023-05-07T22:55:21.371Z"
   },
   {
    "duration": 14,
    "start_time": "2023-05-07T22:55:21.381Z"
   },
   {
    "duration": 20,
    "start_time": "2023-05-07T22:55:21.397Z"
   },
   {
    "duration": 13,
    "start_time": "2023-05-07T22:55:21.419Z"
   },
   {
    "duration": 14,
    "start_time": "2023-05-07T22:55:21.434Z"
   },
   {
    "duration": 18,
    "start_time": "2023-05-07T22:55:21.450Z"
   },
   {
    "duration": 129,
    "start_time": "2023-05-07T22:55:21.470Z"
   },
   {
    "duration": 0,
    "start_time": "2023-05-07T22:55:21.601Z"
   },
   {
    "duration": 0,
    "start_time": "2023-05-07T22:55:21.602Z"
   },
   {
    "duration": 0,
    "start_time": "2023-05-07T22:55:21.603Z"
   },
   {
    "duration": 0,
    "start_time": "2023-05-07T22:55:21.604Z"
   },
   {
    "duration": 0,
    "start_time": "2023-05-07T22:55:21.605Z"
   },
   {
    "duration": 0,
    "start_time": "2023-05-07T22:55:21.606Z"
   },
   {
    "duration": 0,
    "start_time": "2023-05-07T22:55:21.617Z"
   },
   {
    "duration": 0,
    "start_time": "2023-05-07T22:55:21.619Z"
   },
   {
    "duration": 0,
    "start_time": "2023-05-07T22:55:21.620Z"
   },
   {
    "duration": 0,
    "start_time": "2023-05-07T22:55:21.621Z"
   },
   {
    "duration": 0,
    "start_time": "2023-05-07T22:55:21.622Z"
   },
   {
    "duration": 0,
    "start_time": "2023-05-07T22:55:21.623Z"
   },
   {
    "duration": 0,
    "start_time": "2023-05-07T22:55:21.625Z"
   },
   {
    "duration": 0,
    "start_time": "2023-05-07T22:55:21.626Z"
   },
   {
    "duration": 0,
    "start_time": "2023-05-07T22:55:21.627Z"
   },
   {
    "duration": 1515,
    "start_time": "2023-05-07T23:00:05.020Z"
   },
   {
    "duration": 42,
    "start_time": "2023-05-07T23:00:06.537Z"
   },
   {
    "duration": 20,
    "start_time": "2023-05-07T23:00:06.581Z"
   },
   {
    "duration": 20,
    "start_time": "2023-05-07T23:00:06.602Z"
   },
   {
    "duration": 63,
    "start_time": "2023-05-07T23:00:06.624Z"
   },
   {
    "duration": 60,
    "start_time": "2023-05-07T23:00:06.689Z"
   },
   {
    "duration": 5,
    "start_time": "2023-05-07T23:00:06.750Z"
   },
   {
    "duration": 19,
    "start_time": "2023-05-07T23:00:06.756Z"
   },
   {
    "duration": 16,
    "start_time": "2023-05-07T23:00:06.777Z"
   },
   {
    "duration": 23,
    "start_time": "2023-05-07T23:00:06.795Z"
   },
   {
    "duration": 41,
    "start_time": "2023-05-07T23:00:06.820Z"
   },
   {
    "duration": 26,
    "start_time": "2023-05-07T23:00:06.863Z"
   },
   {
    "duration": 31,
    "start_time": "2023-05-07T23:00:06.890Z"
   },
   {
    "duration": 29,
    "start_time": "2023-05-07T23:00:06.924Z"
   },
   {
    "duration": 32,
    "start_time": "2023-05-07T23:00:06.954Z"
   },
   {
    "duration": 31,
    "start_time": "2023-05-07T23:00:06.988Z"
   },
   {
    "duration": 149,
    "start_time": "2023-05-07T23:00:07.021Z"
   },
   {
    "duration": 0,
    "start_time": "2023-05-07T23:00:07.171Z"
   },
   {
    "duration": 0,
    "start_time": "2023-05-07T23:00:07.173Z"
   },
   {
    "duration": 0,
    "start_time": "2023-05-07T23:00:07.174Z"
   },
   {
    "duration": 0,
    "start_time": "2023-05-07T23:00:07.175Z"
   },
   {
    "duration": 0,
    "start_time": "2023-05-07T23:00:07.177Z"
   },
   {
    "duration": 0,
    "start_time": "2023-05-07T23:00:07.178Z"
   },
   {
    "duration": 0,
    "start_time": "2023-05-07T23:00:07.179Z"
   },
   {
    "duration": 0,
    "start_time": "2023-05-07T23:00:07.180Z"
   },
   {
    "duration": 0,
    "start_time": "2023-05-07T23:00:07.182Z"
   },
   {
    "duration": 0,
    "start_time": "2023-05-07T23:00:07.183Z"
   },
   {
    "duration": 0,
    "start_time": "2023-05-07T23:00:07.184Z"
   },
   {
    "duration": 0,
    "start_time": "2023-05-07T23:00:07.185Z"
   },
   {
    "duration": 0,
    "start_time": "2023-05-07T23:00:07.186Z"
   },
   {
    "duration": 0,
    "start_time": "2023-05-07T23:00:07.187Z"
   },
   {
    "duration": 0,
    "start_time": "2023-05-07T23:00:07.189Z"
   },
   {
    "duration": 1552,
    "start_time": "2023-05-07T23:02:21.419Z"
   },
   {
    "duration": 46,
    "start_time": "2023-05-07T23:02:22.973Z"
   },
   {
    "duration": 21,
    "start_time": "2023-05-07T23:02:23.021Z"
   },
   {
    "duration": 25,
    "start_time": "2023-05-07T23:02:23.044Z"
   },
   {
    "duration": 36,
    "start_time": "2023-05-07T23:02:23.072Z"
   },
   {
    "duration": 62,
    "start_time": "2023-05-07T23:02:23.111Z"
   },
   {
    "duration": 6,
    "start_time": "2023-05-07T23:02:23.175Z"
   },
   {
    "duration": 41,
    "start_time": "2023-05-07T23:02:23.183Z"
   },
   {
    "duration": 31,
    "start_time": "2023-05-07T23:02:23.226Z"
   },
   {
    "duration": 21,
    "start_time": "2023-05-07T23:02:23.260Z"
   },
   {
    "duration": 12,
    "start_time": "2023-05-07T23:02:23.283Z"
   },
   {
    "duration": 29,
    "start_time": "2023-05-07T23:02:23.296Z"
   },
   {
    "duration": 30,
    "start_time": "2023-05-07T23:02:23.327Z"
   },
   {
    "duration": 13,
    "start_time": "2023-05-07T23:02:23.360Z"
   },
   {
    "duration": 23,
    "start_time": "2023-05-07T23:02:23.375Z"
   },
   {
    "duration": 15,
    "start_time": "2023-05-07T23:02:23.400Z"
   },
   {
    "duration": 21,
    "start_time": "2023-05-07T23:02:23.417Z"
   },
   {
    "duration": 21,
    "start_time": "2023-05-07T23:02:23.440Z"
   },
   {
    "duration": 18,
    "start_time": "2023-05-07T23:02:23.463Z"
   },
   {
    "duration": 21,
    "start_time": "2023-05-07T23:02:23.482Z"
   },
   {
    "duration": 96162,
    "start_time": "2023-05-07T23:02:23.506Z"
   },
   {
    "duration": 62,
    "start_time": "2023-05-07T23:03:59.669Z"
   },
   {
    "duration": 287,
    "start_time": "2023-05-07T23:03:59.732Z"
   },
   {
    "duration": 6,
    "start_time": "2023-05-07T23:04:00.022Z"
   },
   {
    "duration": 156,
    "start_time": "2023-05-07T23:04:00.030Z"
   },
   {
    "duration": 128,
    "start_time": "2023-05-07T23:04:00.188Z"
   },
   {
    "duration": 0,
    "start_time": "2023-05-07T23:04:00.318Z"
   },
   {
    "duration": 0,
    "start_time": "2023-05-07T23:04:00.320Z"
   },
   {
    "duration": 0,
    "start_time": "2023-05-07T23:04:00.322Z"
   },
   {
    "duration": 0,
    "start_time": "2023-05-07T23:04:00.324Z"
   },
   {
    "duration": 0,
    "start_time": "2023-05-07T23:04:00.326Z"
   },
   {
    "duration": 0,
    "start_time": "2023-05-07T23:04:00.327Z"
   },
   {
    "duration": 1546,
    "start_time": "2023-05-07T23:09:20.015Z"
   },
   {
    "duration": 47,
    "start_time": "2023-05-07T23:09:21.564Z"
   },
   {
    "duration": 25,
    "start_time": "2023-05-07T23:09:21.613Z"
   },
   {
    "duration": 5,
    "start_time": "2023-05-07T23:09:21.640Z"
   },
   {
    "duration": 32,
    "start_time": "2023-05-07T23:09:21.647Z"
   },
   {
    "duration": 63,
    "start_time": "2023-05-07T23:09:21.680Z"
   },
   {
    "duration": 6,
    "start_time": "2023-05-07T23:09:21.744Z"
   },
   {
    "duration": 10,
    "start_time": "2023-05-07T23:09:21.752Z"
   },
   {
    "duration": 41,
    "start_time": "2023-05-07T23:09:21.765Z"
   },
   {
    "duration": 30,
    "start_time": "2023-05-07T23:09:21.807Z"
   },
   {
    "duration": 11,
    "start_time": "2023-05-07T23:09:21.840Z"
   },
   {
    "duration": 39,
    "start_time": "2023-05-07T23:09:21.853Z"
   },
   {
    "duration": 22,
    "start_time": "2023-05-07T23:09:21.894Z"
   },
   {
    "duration": 74,
    "start_time": "2023-05-07T23:09:21.920Z"
   },
   {
    "duration": 24,
    "start_time": "2023-05-07T23:09:21.996Z"
   },
   {
    "duration": 20,
    "start_time": "2023-05-07T23:09:22.022Z"
   },
   {
    "duration": 29,
    "start_time": "2023-05-07T23:09:22.044Z"
   },
   {
    "duration": 19,
    "start_time": "2023-05-07T23:09:22.075Z"
   },
   {
    "duration": 25,
    "start_time": "2023-05-07T23:09:22.096Z"
   },
   {
    "duration": 97890,
    "start_time": "2023-05-07T23:09:22.124Z"
   },
   {
    "duration": 61,
    "start_time": "2023-05-07T23:11:00.019Z"
   },
   {
    "duration": 13,
    "start_time": "2023-05-07T23:11:00.082Z"
   },
   {
    "duration": 229,
    "start_time": "2023-05-07T23:11:00.096Z"
   },
   {
    "duration": 94,
    "start_time": "2023-05-07T23:11:00.327Z"
   },
   {
    "duration": 115,
    "start_time": "2023-05-07T23:11:00.423Z"
   },
   {
    "duration": 954,
    "start_time": "2023-05-07T23:11:00.540Z"
   },
   {
    "duration": 318,
    "start_time": "2023-05-07T23:11:01.496Z"
   },
   {
    "duration": 1203,
    "start_time": "2023-05-07T23:11:01.816Z"
   },
   {
    "duration": 1081,
    "start_time": "2023-05-07T23:11:03.026Z"
   },
   {
    "duration": 226,
    "start_time": "2023-05-07T23:11:04.109Z"
   },
   {
    "duration": 383,
    "start_time": "2023-05-07T23:11:04.337Z"
   },
   {
    "duration": 299,
    "start_time": "2023-05-07T23:11:04.722Z"
   },
   {
    "duration": 323,
    "start_time": "2023-05-07T23:16:44.220Z"
   },
   {
    "duration": 196,
    "start_time": "2023-05-07T23:17:45.542Z"
   },
   {
    "duration": 655,
    "start_time": "2023-05-07T23:18:19.403Z"
   },
   {
    "duration": 782,
    "start_time": "2023-05-07T23:18:30.679Z"
   },
   {
    "duration": 92,
    "start_time": "2023-05-07T23:18:38.078Z"
   },
   {
    "duration": 937,
    "start_time": "2023-05-07T23:18:43.798Z"
   },
   {
    "duration": 995,
    "start_time": "2023-05-07T23:18:56.044Z"
   },
   {
    "duration": 888,
    "start_time": "2023-05-07T23:19:02.930Z"
   },
   {
    "duration": 1488,
    "start_time": "2023-05-07T23:22:27.086Z"
   },
   {
    "duration": 44,
    "start_time": "2023-05-07T23:22:28.576Z"
   },
   {
    "duration": 19,
    "start_time": "2023-05-07T23:22:28.621Z"
   },
   {
    "duration": 14,
    "start_time": "2023-05-07T23:22:28.642Z"
   },
   {
    "duration": 25,
    "start_time": "2023-05-07T23:22:28.658Z"
   },
   {
    "duration": 46,
    "start_time": "2023-05-07T23:22:28.685Z"
   },
   {
    "duration": 7,
    "start_time": "2023-05-07T23:22:28.733Z"
   },
   {
    "duration": 18,
    "start_time": "2023-05-07T23:22:28.742Z"
   },
   {
    "duration": 27,
    "start_time": "2023-05-07T23:22:28.761Z"
   },
   {
    "duration": 21,
    "start_time": "2023-05-07T23:22:28.791Z"
   },
   {
    "duration": 12,
    "start_time": "2023-05-07T23:22:28.814Z"
   },
   {
    "duration": 14,
    "start_time": "2023-05-07T23:22:28.828Z"
   },
   {
    "duration": 19,
    "start_time": "2023-05-07T23:22:28.844Z"
   },
   {
    "duration": 12,
    "start_time": "2023-05-07T23:22:28.866Z"
   },
   {
    "duration": 19,
    "start_time": "2023-05-07T23:22:28.880Z"
   },
   {
    "duration": 35,
    "start_time": "2023-05-07T23:22:28.900Z"
   },
   {
    "duration": 18,
    "start_time": "2023-05-07T23:22:28.937Z"
   },
   {
    "duration": 7,
    "start_time": "2023-05-07T23:22:28.957Z"
   },
   {
    "duration": 7,
    "start_time": "2023-05-07T23:22:28.966Z"
   },
   {
    "duration": 96550,
    "start_time": "2023-05-07T23:22:28.975Z"
   },
   {
    "duration": 188138,
    "start_time": "2023-05-07T23:24:05.527Z"
   },
   {
    "duration": 67,
    "start_time": "2023-05-07T23:27:13.667Z"
   },
   {
    "duration": 11,
    "start_time": "2023-05-07T23:27:13.736Z"
   },
   {
    "duration": 171,
    "start_time": "2023-05-07T23:27:13.748Z"
   },
   {
    "duration": 95,
    "start_time": "2023-05-07T23:27:13.922Z"
   },
   {
    "duration": 14,
    "start_time": "2023-05-07T23:27:14.019Z"
   },
   {
    "duration": 822,
    "start_time": "2023-05-07T23:27:14.035Z"
   },
   {
    "duration": 278,
    "start_time": "2023-05-07T23:27:14.859Z"
   },
   {
    "duration": 286,
    "start_time": "2023-05-07T23:27:15.138Z"
   },
   {
    "duration": 1115,
    "start_time": "2023-05-07T23:27:15.426Z"
   },
   {
    "duration": 211,
    "start_time": "2023-05-07T23:27:16.543Z"
   },
   {
    "duration": 887,
    "start_time": "2023-05-07T23:27:16.756Z"
   },
   {
    "duration": 195,
    "start_time": "2023-05-07T23:27:17.645Z"
   },
   {
    "duration": 346,
    "start_time": "2023-05-07T23:27:17.842Z"
   },
   {
    "duration": 296,
    "start_time": "2023-05-07T23:27:18.189Z"
   },
   {
    "duration": 2328,
    "start_time": "2023-05-07T23:29:19.713Z"
   },
   {
    "duration": 797,
    "start_time": "2023-05-07T23:29:36.120Z"
   },
   {
    "duration": 2735,
    "start_time": "2023-05-07T23:29:53.596Z"
   },
   {
    "duration": 486,
    "start_time": "2023-05-07T23:30:25.931Z"
   },
   {
    "duration": 750,
    "start_time": "2023-05-07T23:30:40.931Z"
   },
   {
    "duration": 466,
    "start_time": "2023-05-07T23:30:58.274Z"
   },
   {
    "duration": 1033,
    "start_time": "2023-05-07T23:31:13.689Z"
   },
   {
    "duration": 773,
    "start_time": "2023-05-07T23:31:28.818Z"
   },
   {
    "duration": 133,
    "start_time": "2023-05-07T23:37:03.787Z"
   },
   {
    "duration": 1527,
    "start_time": "2023-05-07T23:38:16.029Z"
   },
   {
    "duration": 1406,
    "start_time": "2023-05-07T23:39:17.799Z"
   },
   {
    "duration": 44,
    "start_time": "2023-05-07T23:39:19.208Z"
   },
   {
    "duration": 19,
    "start_time": "2023-05-07T23:39:19.254Z"
   },
   {
    "duration": 12,
    "start_time": "2023-05-07T23:39:19.275Z"
   },
   {
    "duration": 26,
    "start_time": "2023-05-07T23:39:19.289Z"
   },
   {
    "duration": 43,
    "start_time": "2023-05-07T23:39:19.317Z"
   },
   {
    "duration": 5,
    "start_time": "2023-05-07T23:39:19.362Z"
   },
   {
    "duration": 17,
    "start_time": "2023-05-07T23:39:19.368Z"
   },
   {
    "duration": 22,
    "start_time": "2023-05-07T23:39:19.386Z"
   },
   {
    "duration": 29,
    "start_time": "2023-05-07T23:39:19.409Z"
   },
   {
    "duration": 17,
    "start_time": "2023-05-07T23:39:19.440Z"
   },
   {
    "duration": 20,
    "start_time": "2023-05-07T23:39:19.459Z"
   },
   {
    "duration": 20,
    "start_time": "2023-05-07T23:39:19.482Z"
   },
   {
    "duration": 13,
    "start_time": "2023-05-07T23:39:19.506Z"
   },
   {
    "duration": 13,
    "start_time": "2023-05-07T23:39:19.520Z"
   },
   {
    "duration": 14,
    "start_time": "2023-05-07T23:39:19.535Z"
   },
   {
    "duration": 15,
    "start_time": "2023-05-07T23:39:19.551Z"
   },
   {
    "duration": 13,
    "start_time": "2023-05-07T23:39:19.568Z"
   },
   {
    "duration": 23,
    "start_time": "2023-05-07T23:39:19.582Z"
   },
   {
    "duration": 153710,
    "start_time": "2023-05-07T23:39:19.607Z"
   },
   {
    "duration": 71,
    "start_time": "2023-05-07T23:41:53.319Z"
   },
   {
    "duration": 26,
    "start_time": "2023-05-07T23:41:53.392Z"
   },
   {
    "duration": 99,
    "start_time": "2023-05-07T23:41:53.420Z"
   },
   {
    "duration": 104,
    "start_time": "2023-05-07T23:41:53.522Z"
   },
   {
    "duration": 25,
    "start_time": "2023-05-07T23:41:53.628Z"
   },
   {
    "duration": 2271,
    "start_time": "2023-05-07T23:41:53.655Z"
   },
   {
    "duration": 753,
    "start_time": "2023-05-07T23:41:55.928Z"
   },
   {
    "duration": 236,
    "start_time": "2023-05-07T23:41:56.683Z"
   },
   {
    "duration": 2782,
    "start_time": "2023-05-07T23:41:56.921Z"
   },
   {
    "duration": 510,
    "start_time": "2023-05-07T23:41:59.705Z"
   },
   {
    "duration": 767,
    "start_time": "2023-05-07T23:42:00.218Z"
   },
   {
    "duration": 508,
    "start_time": "2023-05-07T23:42:00.986Z"
   },
   {
    "duration": 1529,
    "start_time": "2023-05-07T23:42:01.496Z"
   },
   {
    "duration": 707,
    "start_time": "2023-05-07T23:42:03.026Z"
   },
   {
    "duration": 72,
    "start_time": "2023-05-07T23:42:03.736Z"
   },
   {
    "duration": 1465,
    "start_time": "2023-05-07T23:43:31.514Z"
   },
   {
    "duration": 43,
    "start_time": "2023-05-07T23:43:32.981Z"
   },
   {
    "duration": 18,
    "start_time": "2023-05-07T23:43:33.026Z"
   },
   {
    "duration": 8,
    "start_time": "2023-05-07T23:43:33.046Z"
   },
   {
    "duration": 35,
    "start_time": "2023-05-07T23:43:33.056Z"
   },
   {
    "duration": 43,
    "start_time": "2023-05-07T23:43:33.093Z"
   },
   {
    "duration": 4,
    "start_time": "2023-05-07T23:43:33.138Z"
   },
   {
    "duration": 9,
    "start_time": "2023-05-07T23:43:33.143Z"
   },
   {
    "duration": 16,
    "start_time": "2023-05-07T23:43:33.154Z"
   },
   {
    "duration": 19,
    "start_time": "2023-05-07T23:43:33.171Z"
   },
   {
    "duration": 25,
    "start_time": "2023-05-07T23:43:33.193Z"
   },
   {
    "duration": 9,
    "start_time": "2023-05-07T23:43:33.221Z"
   },
   {
    "duration": 24,
    "start_time": "2023-05-07T23:43:33.232Z"
   },
   {
    "duration": 11,
    "start_time": "2023-05-07T23:43:33.259Z"
   },
   {
    "duration": 11,
    "start_time": "2023-05-07T23:43:33.272Z"
   },
   {
    "duration": 24,
    "start_time": "2023-05-07T23:43:33.285Z"
   },
   {
    "duration": 19,
    "start_time": "2023-05-07T23:43:33.310Z"
   },
   {
    "duration": 5,
    "start_time": "2023-05-07T23:43:33.330Z"
   },
   {
    "duration": 14,
    "start_time": "2023-05-07T23:43:33.336Z"
   },
   {
    "duration": 184271,
    "start_time": "2023-05-07T23:43:33.352Z"
   },
   {
    "duration": 108,
    "start_time": "2023-05-07T23:46:37.625Z"
   },
   {
    "duration": 12,
    "start_time": "2023-05-07T23:46:37.734Z"
   },
   {
    "duration": 170,
    "start_time": "2023-05-07T23:46:37.748Z"
   },
   {
    "duration": 100,
    "start_time": "2023-05-07T23:46:37.920Z"
   },
   {
    "duration": 19,
    "start_time": "2023-05-07T23:46:38.022Z"
   },
   {
    "duration": 2234,
    "start_time": "2023-05-07T23:46:38.042Z"
   },
   {
    "duration": 757,
    "start_time": "2023-05-07T23:46:40.278Z"
   },
   {
    "duration": 183,
    "start_time": "2023-05-07T23:46:41.036Z"
   },
   {
    "duration": 2808,
    "start_time": "2023-05-07T23:46:41.222Z"
   },
   {
    "duration": 487,
    "start_time": "2023-05-07T23:46:44.031Z"
   },
   {
    "duration": 758,
    "start_time": "2023-05-07T23:46:44.520Z"
   },
   {
    "duration": 463,
    "start_time": "2023-05-07T23:46:45.280Z"
   },
   {
    "duration": 1426,
    "start_time": "2023-05-07T23:46:45.745Z"
   },
   {
    "duration": 836,
    "start_time": "2023-05-07T23:46:47.173Z"
   },
   {
    "duration": 1544,
    "start_time": "2023-05-07T23:47:29.946Z"
   },
   {
    "duration": 2007,
    "start_time": "2023-05-07T23:47:59.245Z"
   },
   {
    "duration": 1418,
    "start_time": "2023-05-08T00:01:57.988Z"
   },
   {
    "duration": 43,
    "start_time": "2023-05-08T00:01:59.408Z"
   },
   {
    "duration": 20,
    "start_time": "2023-05-08T00:01:59.452Z"
   },
   {
    "duration": 23,
    "start_time": "2023-05-08T00:01:59.475Z"
   },
   {
    "duration": 37,
    "start_time": "2023-05-08T00:01:59.500Z"
   },
   {
    "duration": 66,
    "start_time": "2023-05-08T00:01:59.539Z"
   },
   {
    "duration": 4,
    "start_time": "2023-05-08T00:01:59.607Z"
   },
   {
    "duration": 49,
    "start_time": "2023-05-08T00:01:59.613Z"
   },
   {
    "duration": 49,
    "start_time": "2023-05-08T00:01:59.664Z"
   },
   {
    "duration": 43,
    "start_time": "2023-05-08T00:01:59.716Z"
   },
   {
    "duration": 32,
    "start_time": "2023-05-08T00:01:59.761Z"
   },
   {
    "duration": 26,
    "start_time": "2023-05-08T00:01:59.795Z"
   },
   {
    "duration": 32,
    "start_time": "2023-05-08T00:01:59.823Z"
   },
   {
    "duration": 25,
    "start_time": "2023-05-08T00:01:59.857Z"
   },
   {
    "duration": 29,
    "start_time": "2023-05-08T00:01:59.884Z"
   },
   {
    "duration": 15,
    "start_time": "2023-05-08T00:01:59.915Z"
   },
   {
    "duration": 24,
    "start_time": "2023-05-08T00:01:59.932Z"
   },
   {
    "duration": 9,
    "start_time": "2023-05-08T00:01:59.957Z"
   },
   {
    "duration": 22,
    "start_time": "2023-05-08T00:01:59.968Z"
   },
   {
    "duration": 123192,
    "start_time": "2023-05-08T00:01:59.992Z"
   },
   {
    "duration": 71,
    "start_time": "2023-05-08T00:04:03.186Z"
   },
   {
    "duration": 11,
    "start_time": "2023-05-08T00:04:03.259Z"
   },
   {
    "duration": 152,
    "start_time": "2023-05-08T00:04:03.271Z"
   },
   {
    "duration": 99,
    "start_time": "2023-05-08T00:04:03.426Z"
   },
   {
    "duration": 95,
    "start_time": "2023-05-08T00:04:03.527Z"
   },
   {
    "duration": 275,
    "start_time": "2023-05-08T00:04:03.624Z"
   },
   {
    "duration": 99,
    "start_time": "2023-05-08T00:04:03.901Z"
   },
   {
    "duration": 121,
    "start_time": "2023-05-08T00:04:04.003Z"
   },
   {
    "duration": 516,
    "start_time": "2023-05-08T00:04:04.127Z"
   },
   {
    "duration": 78,
    "start_time": "2023-05-08T00:04:04.645Z"
   },
   {
    "duration": 104,
    "start_time": "2023-05-08T00:04:04.725Z"
   },
   {
    "duration": 59,
    "start_time": "2023-05-08T00:04:04.831Z"
   },
   {
    "duration": 140,
    "start_time": "2023-05-08T00:04:04.892Z"
   },
   {
    "duration": 110,
    "start_time": "2023-05-08T00:04:05.034Z"
   },
   {
    "duration": 899,
    "start_time": "2023-05-08T00:05:59.234Z"
   },
   {
    "duration": 301,
    "start_time": "2023-05-08T00:06:04.877Z"
   },
   {
    "duration": 76,
    "start_time": "2023-05-08T00:06:09.348Z"
   },
   {
    "duration": 367,
    "start_time": "2023-05-08T00:06:12.526Z"
   },
   {
    "duration": 75,
    "start_time": "2023-05-08T00:06:25.437Z"
   },
   {
    "duration": 270,
    "start_time": "2023-05-08T00:06:29.722Z"
   },
   {
    "duration": 216,
    "start_time": "2023-05-08T00:06:30.744Z"
   },
   {
    "duration": 376,
    "start_time": "2023-05-08T00:06:35.434Z"
   },
   {
    "duration": 320,
    "start_time": "2023-05-08T00:06:36.626Z"
   },
   {
    "duration": 13,
    "start_time": "2023-05-08T00:09:09.287Z"
   },
   {
    "duration": 826,
    "start_time": "2023-05-08T00:09:20.038Z"
   },
   {
    "duration": 272,
    "start_time": "2023-05-08T00:09:27.414Z"
   },
   {
    "duration": 77,
    "start_time": "2023-05-08T00:09:30.346Z"
   },
   {
    "duration": 281,
    "start_time": "2023-05-08T00:09:34.145Z"
   },
   {
    "duration": 285,
    "start_time": "2023-05-08T00:09:38.418Z"
   },
   {
    "duration": 10,
    "start_time": "2023-05-08T00:11:13.879Z"
   },
   {
    "duration": 11,
    "start_time": "2023-05-08T00:11:36.979Z"
   },
   {
    "duration": 813,
    "start_time": "2023-05-08T00:11:47.263Z"
   },
   {
    "duration": 299,
    "start_time": "2023-05-08T00:11:50.944Z"
   },
   {
    "duration": 403,
    "start_time": "2023-05-08T00:11:58.823Z"
   },
   {
    "duration": 1545,
    "start_time": "2023-05-08T00:26:19.035Z"
   },
   {
    "duration": 49,
    "start_time": "2023-05-08T00:26:20.582Z"
   },
   {
    "duration": 19,
    "start_time": "2023-05-08T00:26:20.633Z"
   },
   {
    "duration": 4,
    "start_time": "2023-05-08T00:26:20.654Z"
   },
   {
    "duration": 15,
    "start_time": "2023-05-08T00:26:20.660Z"
   },
   {
    "duration": 67,
    "start_time": "2023-05-08T00:26:20.677Z"
   },
   {
    "duration": 5,
    "start_time": "2023-05-08T00:26:20.746Z"
   },
   {
    "duration": 17,
    "start_time": "2023-05-08T00:26:20.752Z"
   },
   {
    "duration": 21,
    "start_time": "2023-05-08T00:26:20.770Z"
   },
   {
    "duration": 18,
    "start_time": "2023-05-08T00:26:20.792Z"
   },
   {
    "duration": 14,
    "start_time": "2023-05-08T00:26:20.818Z"
   },
   {
    "duration": 12,
    "start_time": "2023-05-08T00:26:20.835Z"
   },
   {
    "duration": 21,
    "start_time": "2023-05-08T00:26:20.849Z"
   },
   {
    "duration": 12,
    "start_time": "2023-05-08T00:26:20.872Z"
   },
   {
    "duration": 24,
    "start_time": "2023-05-08T00:26:20.885Z"
   },
   {
    "duration": 18,
    "start_time": "2023-05-08T00:26:20.917Z"
   },
   {
    "duration": 18,
    "start_time": "2023-05-08T00:26:20.936Z"
   },
   {
    "duration": 6,
    "start_time": "2023-05-08T00:26:20.955Z"
   },
   {
    "duration": 7,
    "start_time": "2023-05-08T00:26:20.962Z"
   },
   {
    "duration": 42,
    "start_time": "2023-05-08T00:26:20.970Z"
   },
   {
    "duration": 175730,
    "start_time": "2023-05-08T00:26:21.014Z"
   },
   {
    "duration": 78,
    "start_time": "2023-05-08T00:29:16.745Z"
   },
   {
    "duration": 305,
    "start_time": "2023-05-08T00:29:16.826Z"
   },
   {
    "duration": 88,
    "start_time": "2023-05-08T00:29:17.134Z"
   },
   {
    "duration": 117,
    "start_time": "2023-05-08T00:29:17.224Z"
   },
   {
    "duration": 1271,
    "start_time": "2023-05-08T00:29:17.343Z"
   },
   {
    "duration": 314,
    "start_time": "2023-05-08T00:29:18.623Z"
   },
   {
    "duration": 1783,
    "start_time": "2023-05-08T00:29:18.939Z"
   },
   {
    "duration": 814,
    "start_time": "2023-05-08T00:29:20.734Z"
   },
   {
    "duration": 86,
    "start_time": "2023-05-08T00:29:21.550Z"
   },
   {
    "duration": 335,
    "start_time": "2023-05-08T00:29:21.638Z"
   },
   {
    "duration": 230,
    "start_time": "2023-05-08T00:29:21.976Z"
   },
   {
    "duration": 464,
    "start_time": "2023-05-08T00:29:22.208Z"
   },
   {
    "duration": 323,
    "start_time": "2023-05-08T00:29:22.674Z"
   },
   {
    "duration": 1323,
    "start_time": "2023-05-08T00:35:31.610Z"
   },
   {
    "duration": 357,
    "start_time": "2023-05-08T00:35:45.577Z"
   },
   {
    "duration": 2092,
    "start_time": "2023-05-08T00:35:56.968Z"
   },
   {
    "duration": 2862,
    "start_time": "2023-05-08T00:36:17.045Z"
   },
   {
    "duration": 215,
    "start_time": "2023-05-08T00:37:31.392Z"
   },
   {
    "duration": 367,
    "start_time": "2023-05-08T00:37:35.707Z"
   },
   {
    "duration": 177,
    "start_time": "2023-05-08T00:37:38.153Z"
   },
   {
    "duration": 477,
    "start_time": "2023-05-08T00:37:40.254Z"
   },
   {
    "duration": 291,
    "start_time": "2023-05-08T00:37:42.566Z"
   },
   {
    "duration": 1633,
    "start_time": "2023-05-08T00:38:54.275Z"
   },
   {
    "duration": 1504,
    "start_time": "2023-05-08T00:43:06.131Z"
   },
   {
    "duration": 45,
    "start_time": "2023-05-08T00:43:07.637Z"
   },
   {
    "duration": 18,
    "start_time": "2023-05-08T00:43:07.684Z"
   },
   {
    "duration": 7,
    "start_time": "2023-05-08T00:43:07.705Z"
   },
   {
    "duration": 29,
    "start_time": "2023-05-08T00:43:07.714Z"
   },
   {
    "duration": 41,
    "start_time": "2023-05-08T00:43:07.745Z"
   },
   {
    "duration": 4,
    "start_time": "2023-05-08T00:43:07.788Z"
   },
   {
    "duration": 8,
    "start_time": "2023-05-08T00:43:07.794Z"
   },
   {
    "duration": 28,
    "start_time": "2023-05-08T00:43:07.804Z"
   },
   {
    "duration": 30,
    "start_time": "2023-05-08T00:43:07.834Z"
   },
   {
    "duration": 12,
    "start_time": "2023-05-08T00:43:07.865Z"
   },
   {
    "duration": 12,
    "start_time": "2023-05-08T00:43:07.879Z"
   },
   {
    "duration": 19,
    "start_time": "2023-05-08T00:43:07.893Z"
   },
   {
    "duration": 19,
    "start_time": "2023-05-08T00:43:07.915Z"
   },
   {
    "duration": 21,
    "start_time": "2023-05-08T00:43:07.936Z"
   },
   {
    "duration": 16,
    "start_time": "2023-05-08T00:43:07.959Z"
   },
   {
    "duration": 18,
    "start_time": "2023-05-08T00:43:07.977Z"
   },
   {
    "duration": 23,
    "start_time": "2023-05-08T00:43:07.997Z"
   },
   {
    "duration": 33,
    "start_time": "2023-05-08T00:43:08.022Z"
   },
   {
    "duration": 49,
    "start_time": "2023-05-08T00:43:08.057Z"
   },
   {
    "duration": 180967,
    "start_time": "2023-05-08T00:43:08.108Z"
   },
   {
    "duration": 77,
    "start_time": "2023-05-08T00:46:09.077Z"
   },
   {
    "duration": 163,
    "start_time": "2023-05-08T00:46:09.156Z"
   },
   {
    "duration": 101,
    "start_time": "2023-05-08T00:46:09.321Z"
   },
   {
    "duration": 28,
    "start_time": "2023-05-08T00:46:09.424Z"
   },
   {
    "duration": 1641,
    "start_time": "2023-05-08T00:46:09.454Z"
   },
   {
    "duration": 380,
    "start_time": "2023-05-08T00:46:11.097Z"
   },
   {
    "duration": 1740,
    "start_time": "2023-05-08T00:46:11.479Z"
   },
   {
    "duration": 2940,
    "start_time": "2023-05-08T00:46:13.222Z"
   },
   {
    "duration": 197,
    "start_time": "2023-05-08T00:46:16.164Z"
   },
   {
    "duration": 376,
    "start_time": "2023-05-08T00:46:16.363Z"
   },
   {
    "duration": 196,
    "start_time": "2023-05-08T00:46:16.741Z"
   },
   {
    "duration": 470,
    "start_time": "2023-05-08T00:46:16.939Z"
   },
   {
    "duration": 286,
    "start_time": "2023-05-08T00:46:17.411Z"
   },
   {
    "duration": 1621,
    "start_time": "2023-05-08T23:42:56.282Z"
   },
   {
    "duration": 174,
    "start_time": "2023-05-08T23:42:57.905Z"
   },
   {
    "duration": 21,
    "start_time": "2023-05-08T23:42:58.081Z"
   },
   {
    "duration": 5,
    "start_time": "2023-05-08T23:42:58.104Z"
   },
   {
    "duration": 18,
    "start_time": "2023-05-08T23:42:58.111Z"
   },
   {
    "duration": 43,
    "start_time": "2023-05-08T23:42:58.131Z"
   },
   {
    "duration": 6,
    "start_time": "2023-05-08T23:42:58.176Z"
   },
   {
    "duration": 10,
    "start_time": "2023-05-08T23:42:58.184Z"
   },
   {
    "duration": 34,
    "start_time": "2023-05-08T23:42:58.197Z"
   },
   {
    "duration": 70,
    "start_time": "2023-05-08T23:42:58.233Z"
   },
   {
    "duration": 0,
    "start_time": "2023-05-08T23:42:58.306Z"
   },
   {
    "duration": 0,
    "start_time": "2023-05-08T23:42:58.307Z"
   },
   {
    "duration": 0,
    "start_time": "2023-05-08T23:42:58.309Z"
   },
   {
    "duration": 0,
    "start_time": "2023-05-08T23:42:58.310Z"
   },
   {
    "duration": 0,
    "start_time": "2023-05-08T23:42:58.312Z"
   },
   {
    "duration": 0,
    "start_time": "2023-05-08T23:42:58.313Z"
   },
   {
    "duration": 0,
    "start_time": "2023-05-08T23:42:58.314Z"
   },
   {
    "duration": 0,
    "start_time": "2023-05-08T23:42:58.316Z"
   },
   {
    "duration": 0,
    "start_time": "2023-05-08T23:42:58.317Z"
   },
   {
    "duration": 0,
    "start_time": "2023-05-08T23:42:58.318Z"
   },
   {
    "duration": 1,
    "start_time": "2023-05-08T23:42:58.319Z"
   },
   {
    "duration": 0,
    "start_time": "2023-05-08T23:42:58.321Z"
   },
   {
    "duration": 0,
    "start_time": "2023-05-08T23:42:58.323Z"
   },
   {
    "duration": 0,
    "start_time": "2023-05-08T23:42:58.324Z"
   },
   {
    "duration": 0,
    "start_time": "2023-05-08T23:42:58.325Z"
   },
   {
    "duration": 0,
    "start_time": "2023-05-08T23:42:58.326Z"
   },
   {
    "duration": 0,
    "start_time": "2023-05-08T23:42:58.328Z"
   },
   {
    "duration": 0,
    "start_time": "2023-05-08T23:42:58.329Z"
   },
   {
    "duration": 0,
    "start_time": "2023-05-08T23:42:58.331Z"
   },
   {
    "duration": 0,
    "start_time": "2023-05-08T23:42:58.332Z"
   },
   {
    "duration": 0,
    "start_time": "2023-05-08T23:42:58.334Z"
   },
   {
    "duration": 0,
    "start_time": "2023-05-08T23:42:58.335Z"
   },
   {
    "duration": 0,
    "start_time": "2023-05-08T23:42:58.336Z"
   },
   {
    "duration": 0,
    "start_time": "2023-05-08T23:42:58.338Z"
   },
   {
    "duration": 1525,
    "start_time": "2023-05-08T23:43:15.705Z"
   },
   {
    "duration": 43,
    "start_time": "2023-05-08T23:43:17.232Z"
   },
   {
    "duration": 19,
    "start_time": "2023-05-08T23:43:17.277Z"
   },
   {
    "duration": 10,
    "start_time": "2023-05-08T23:43:17.298Z"
   },
   {
    "duration": 17,
    "start_time": "2023-05-08T23:43:17.310Z"
   },
   {
    "duration": 48,
    "start_time": "2023-05-08T23:43:17.328Z"
   },
   {
    "duration": 4,
    "start_time": "2023-05-08T23:43:17.379Z"
   },
   {
    "duration": 18,
    "start_time": "2023-05-08T23:43:17.385Z"
   },
   {
    "duration": 22,
    "start_time": "2023-05-08T23:43:17.404Z"
   },
   {
    "duration": 118,
    "start_time": "2023-05-08T23:43:17.430Z"
   },
   {
    "duration": 0,
    "start_time": "2023-05-08T23:43:17.550Z"
   },
   {
    "duration": 0,
    "start_time": "2023-05-08T23:43:17.551Z"
   },
   {
    "duration": 0,
    "start_time": "2023-05-08T23:43:17.553Z"
   },
   {
    "duration": 0,
    "start_time": "2023-05-08T23:43:17.554Z"
   },
   {
    "duration": 0,
    "start_time": "2023-05-08T23:43:17.555Z"
   },
   {
    "duration": 0,
    "start_time": "2023-05-08T23:43:17.556Z"
   },
   {
    "duration": 0,
    "start_time": "2023-05-08T23:43:17.557Z"
   },
   {
    "duration": 0,
    "start_time": "2023-05-08T23:43:17.559Z"
   },
   {
    "duration": 0,
    "start_time": "2023-05-08T23:43:17.560Z"
   },
   {
    "duration": 0,
    "start_time": "2023-05-08T23:43:17.561Z"
   },
   {
    "duration": 0,
    "start_time": "2023-05-08T23:43:17.562Z"
   },
   {
    "duration": 0,
    "start_time": "2023-05-08T23:43:17.563Z"
   },
   {
    "duration": 0,
    "start_time": "2023-05-08T23:43:17.564Z"
   },
   {
    "duration": 0,
    "start_time": "2023-05-08T23:43:17.566Z"
   },
   {
    "duration": 0,
    "start_time": "2023-05-08T23:43:17.567Z"
   },
   {
    "duration": 0,
    "start_time": "2023-05-08T23:43:17.568Z"
   },
   {
    "duration": 0,
    "start_time": "2023-05-08T23:43:17.569Z"
   },
   {
    "duration": 0,
    "start_time": "2023-05-08T23:43:17.570Z"
   },
   {
    "duration": 0,
    "start_time": "2023-05-08T23:43:17.571Z"
   },
   {
    "duration": 0,
    "start_time": "2023-05-08T23:43:17.572Z"
   },
   {
    "duration": 0,
    "start_time": "2023-05-08T23:43:17.574Z"
   },
   {
    "duration": 0,
    "start_time": "2023-05-08T23:43:17.618Z"
   },
   {
    "duration": 0,
    "start_time": "2023-05-08T23:43:17.620Z"
   },
   {
    "duration": 0,
    "start_time": "2023-05-08T23:43:17.621Z"
   },
   {
    "duration": 1449,
    "start_time": "2023-05-08T23:43:55.243Z"
   },
   {
    "duration": 58,
    "start_time": "2023-05-08T23:43:56.694Z"
   },
   {
    "duration": 20,
    "start_time": "2023-05-08T23:43:56.756Z"
   },
   {
    "duration": 5,
    "start_time": "2023-05-08T23:43:56.778Z"
   },
   {
    "duration": 21,
    "start_time": "2023-05-08T23:43:56.784Z"
   },
   {
    "duration": 46,
    "start_time": "2023-05-08T23:43:56.807Z"
   },
   {
    "duration": 4,
    "start_time": "2023-05-08T23:43:56.855Z"
   },
   {
    "duration": 8,
    "start_time": "2023-05-08T23:43:56.861Z"
   },
   {
    "duration": 20,
    "start_time": "2023-05-08T23:43:56.870Z"
   },
   {
    "duration": 37,
    "start_time": "2023-05-08T23:43:56.891Z"
   },
   {
    "duration": 9,
    "start_time": "2023-05-08T23:43:56.930Z"
   },
   {
    "duration": 11,
    "start_time": "2023-05-08T23:43:56.941Z"
   },
   {
    "duration": 21,
    "start_time": "2023-05-08T23:43:56.956Z"
   },
   {
    "duration": 135,
    "start_time": "2023-05-08T23:43:56.979Z"
   },
   {
    "duration": 0,
    "start_time": "2023-05-08T23:43:57.117Z"
   },
   {
    "duration": 0,
    "start_time": "2023-05-08T23:43:57.118Z"
   },
   {
    "duration": 0,
    "start_time": "2023-05-08T23:43:57.128Z"
   },
   {
    "duration": 0,
    "start_time": "2023-05-08T23:43:57.129Z"
   },
   {
    "duration": 0,
    "start_time": "2023-05-08T23:43:57.131Z"
   },
   {
    "duration": 0,
    "start_time": "2023-05-08T23:43:57.132Z"
   },
   {
    "duration": 0,
    "start_time": "2023-05-08T23:43:57.132Z"
   },
   {
    "duration": 0,
    "start_time": "2023-05-08T23:43:57.134Z"
   },
   {
    "duration": 0,
    "start_time": "2023-05-08T23:43:57.134Z"
   },
   {
    "duration": 0,
    "start_time": "2023-05-08T23:43:57.136Z"
   },
   {
    "duration": 0,
    "start_time": "2023-05-08T23:43:57.137Z"
   },
   {
    "duration": 0,
    "start_time": "2023-05-08T23:43:57.138Z"
   },
   {
    "duration": 0,
    "start_time": "2023-05-08T23:43:57.140Z"
   },
   {
    "duration": 0,
    "start_time": "2023-05-08T23:43:57.140Z"
   },
   {
    "duration": 0,
    "start_time": "2023-05-08T23:43:57.141Z"
   },
   {
    "duration": 0,
    "start_time": "2023-05-08T23:43:57.142Z"
   },
   {
    "duration": 0,
    "start_time": "2023-05-08T23:43:57.143Z"
   },
   {
    "duration": 0,
    "start_time": "2023-05-08T23:43:57.145Z"
   },
   {
    "duration": 0,
    "start_time": "2023-05-08T23:43:57.146Z"
   },
   {
    "duration": 0,
    "start_time": "2023-05-08T23:43:57.147Z"
   },
   {
    "duration": 1396,
    "start_time": "2023-05-08T23:44:16.261Z"
   },
   {
    "duration": 43,
    "start_time": "2023-05-08T23:44:17.660Z"
   },
   {
    "duration": 23,
    "start_time": "2023-05-08T23:44:17.704Z"
   },
   {
    "duration": 14,
    "start_time": "2023-05-08T23:44:17.729Z"
   },
   {
    "duration": 17,
    "start_time": "2023-05-08T23:44:17.745Z"
   },
   {
    "duration": 41,
    "start_time": "2023-05-08T23:44:17.764Z"
   },
   {
    "duration": 13,
    "start_time": "2023-05-08T23:44:17.806Z"
   },
   {
    "duration": 6,
    "start_time": "2023-05-08T23:44:17.821Z"
   },
   {
    "duration": 26,
    "start_time": "2023-05-08T23:44:17.828Z"
   },
   {
    "duration": 27,
    "start_time": "2023-05-08T23:44:17.856Z"
   },
   {
    "duration": 19,
    "start_time": "2023-05-08T23:44:17.884Z"
   },
   {
    "duration": 12,
    "start_time": "2023-05-08T23:44:17.904Z"
   },
   {
    "duration": 27,
    "start_time": "2023-05-08T23:44:17.919Z"
   },
   {
    "duration": 11,
    "start_time": "2023-05-08T23:44:17.949Z"
   },
   {
    "duration": 18,
    "start_time": "2023-05-08T23:44:17.961Z"
   },
   {
    "duration": 16,
    "start_time": "2023-05-08T23:44:17.981Z"
   },
   {
    "duration": 16,
    "start_time": "2023-05-08T23:44:17.999Z"
   },
   {
    "duration": 12,
    "start_time": "2023-05-08T23:44:18.016Z"
   },
   {
    "duration": 22,
    "start_time": "2023-05-08T23:44:18.031Z"
   },
   {
    "duration": 134,
    "start_time": "2023-05-08T23:44:18.054Z"
   },
   {
    "duration": 0,
    "start_time": "2023-05-08T23:44:18.190Z"
   },
   {
    "duration": 0,
    "start_time": "2023-05-08T23:44:18.191Z"
   },
   {
    "duration": 0,
    "start_time": "2023-05-08T23:44:18.193Z"
   },
   {
    "duration": 0,
    "start_time": "2023-05-08T23:44:18.194Z"
   },
   {
    "duration": 0,
    "start_time": "2023-05-08T23:44:18.195Z"
   },
   {
    "duration": 0,
    "start_time": "2023-05-08T23:44:18.197Z"
   },
   {
    "duration": 0,
    "start_time": "2023-05-08T23:44:18.198Z"
   },
   {
    "duration": 0,
    "start_time": "2023-05-08T23:44:18.200Z"
   },
   {
    "duration": 0,
    "start_time": "2023-05-08T23:44:18.202Z"
   },
   {
    "duration": 0,
    "start_time": "2023-05-08T23:44:18.220Z"
   },
   {
    "duration": 0,
    "start_time": "2023-05-08T23:44:18.221Z"
   },
   {
    "duration": 0,
    "start_time": "2023-05-08T23:44:18.221Z"
   },
   {
    "duration": 0,
    "start_time": "2023-05-08T23:44:18.222Z"
   },
   {
    "duration": 0,
    "start_time": "2023-05-08T23:44:18.223Z"
   },
   {
    "duration": 1447,
    "start_time": "2023-05-08T23:44:46.445Z"
   },
   {
    "duration": 50,
    "start_time": "2023-05-08T23:44:47.894Z"
   },
   {
    "duration": 27,
    "start_time": "2023-05-08T23:44:47.948Z"
   },
   {
    "duration": 24,
    "start_time": "2023-05-08T23:44:47.976Z"
   },
   {
    "duration": 73,
    "start_time": "2023-05-08T23:44:48.001Z"
   },
   {
    "duration": 70,
    "start_time": "2023-05-08T23:44:48.075Z"
   },
   {
    "duration": 18,
    "start_time": "2023-05-08T23:44:48.147Z"
   },
   {
    "duration": 53,
    "start_time": "2023-05-08T23:44:48.167Z"
   },
   {
    "duration": 63,
    "start_time": "2023-05-08T23:44:48.224Z"
   },
   {
    "duration": 56,
    "start_time": "2023-05-08T23:44:48.289Z"
   },
   {
    "duration": 53,
    "start_time": "2023-05-08T23:44:48.346Z"
   },
   {
    "duration": 14,
    "start_time": "2023-05-08T23:44:48.401Z"
   },
   {
    "duration": 17,
    "start_time": "2023-05-08T23:44:48.417Z"
   },
   {
    "duration": 15,
    "start_time": "2023-05-08T23:44:48.436Z"
   },
   {
    "duration": 16,
    "start_time": "2023-05-08T23:44:48.453Z"
   },
   {
    "duration": 19,
    "start_time": "2023-05-08T23:44:48.471Z"
   },
   {
    "duration": 30,
    "start_time": "2023-05-08T23:44:48.492Z"
   },
   {
    "duration": 19,
    "start_time": "2023-05-08T23:44:48.525Z"
   },
   {
    "duration": 12,
    "start_time": "2023-05-08T23:44:48.545Z"
   },
   {
    "duration": 66,
    "start_time": "2023-05-08T23:44:48.559Z"
   },
   {
    "duration": 160104,
    "start_time": "2023-05-08T23:44:48.631Z"
   },
   {
    "duration": 67,
    "start_time": "2023-05-08T23:47:28.737Z"
   },
   {
    "duration": 219,
    "start_time": "2023-05-08T23:47:28.806Z"
   },
   {
    "duration": 92,
    "start_time": "2023-05-08T23:47:29.028Z"
   },
   {
    "duration": 22,
    "start_time": "2023-05-08T23:47:29.121Z"
   },
   {
    "duration": 1416,
    "start_time": "2023-05-08T23:47:29.144Z"
   },
   {
    "duration": 337,
    "start_time": "2023-05-08T23:47:30.563Z"
   },
   {
    "duration": 1717,
    "start_time": "2023-05-08T23:47:30.902Z"
   },
   {
    "duration": 2527,
    "start_time": "2023-05-08T23:47:32.622Z"
   },
   {
    "duration": 181,
    "start_time": "2023-05-08T23:47:35.151Z"
   },
   {
    "duration": 316,
    "start_time": "2023-05-08T23:47:35.334Z"
   },
   {
    "duration": 174,
    "start_time": "2023-05-08T23:47:35.652Z"
   },
   {
    "duration": 428,
    "start_time": "2023-05-08T23:47:35.827Z"
   },
   {
    "duration": 272,
    "start_time": "2023-05-08T23:47:36.257Z"
   },
   {
    "duration": 1382,
    "start_time": "2023-05-08T23:47:36.531Z"
   },
   {
    "duration": 1129,
    "start_time": "2023-05-08T23:49:01.497Z"
   },
   {
    "duration": 8,
    "start_time": "2023-05-08T23:53:44.957Z"
   },
   {
    "duration": 1795,
    "start_time": "2023-05-08T23:53:46.583Z"
   },
   {
    "duration": 381,
    "start_time": "2023-05-08T23:54:04.714Z"
   },
   {
    "duration": 353,
    "start_time": "2023-05-08T23:55:58.885Z"
   },
   {
    "duration": 488,
    "start_time": "2023-05-08T23:56:07.836Z"
   },
   {
    "duration": 2986,
    "start_time": "2023-05-08T23:56:27.180Z"
   },
   {
    "duration": 223,
    "start_time": "2023-05-08T23:56:55.628Z"
   },
   {
    "duration": 391,
    "start_time": "2023-05-08T23:57:14.641Z"
   },
   {
    "duration": 269,
    "start_time": "2023-05-08T23:57:31.666Z"
   },
   {
    "duration": 427,
    "start_time": "2023-05-08T23:57:51.364Z"
   },
   {
    "duration": 246,
    "start_time": "2023-05-08T23:58:00.739Z"
   },
   {
    "duration": 451,
    "start_time": "2023-05-08T23:58:09.310Z"
   },
   {
    "duration": 274,
    "start_time": "2023-05-08T23:58:20.737Z"
   },
   {
    "duration": 320,
    "start_time": "2023-05-08T23:58:28.844Z"
   },
   {
    "duration": 3312,
    "start_time": "2023-05-09T00:00:23.800Z"
   },
   {
    "duration": 3247,
    "start_time": "2023-05-09T00:01:08.809Z"
   },
   {
    "duration": 3376,
    "start_time": "2023-05-09T00:01:16.996Z"
   },
   {
    "duration": 3295,
    "start_time": "2023-05-09T00:01:39.663Z"
   },
   {
    "duration": 3338,
    "start_time": "2023-05-09T00:01:59.362Z"
   },
   {
    "duration": 146,
    "start_time": "2023-05-09T00:02:32.327Z"
   },
   {
    "duration": 166,
    "start_time": "2023-05-09T00:02:43.939Z"
   },
   {
    "duration": 220,
    "start_time": "2023-05-09T00:03:01.296Z"
   },
   {
    "duration": 250,
    "start_time": "2023-05-09T00:03:04.361Z"
   },
   {
    "duration": 1391,
    "start_time": "2023-05-09T00:11:44.254Z"
   },
   {
    "duration": 43,
    "start_time": "2023-05-09T00:11:45.647Z"
   },
   {
    "duration": 20,
    "start_time": "2023-05-09T00:11:45.694Z"
   },
   {
    "duration": 18,
    "start_time": "2023-05-09T00:11:45.717Z"
   },
   {
    "duration": 42,
    "start_time": "2023-05-09T00:11:45.736Z"
   },
   {
    "duration": 52,
    "start_time": "2023-05-09T00:11:45.780Z"
   },
   {
    "duration": 5,
    "start_time": "2023-05-09T00:11:45.834Z"
   },
   {
    "duration": 41,
    "start_time": "2023-05-09T00:11:45.842Z"
   },
   {
    "duration": 48,
    "start_time": "2023-05-09T00:11:45.885Z"
   },
   {
    "duration": 49,
    "start_time": "2023-05-09T00:11:45.935Z"
   },
   {
    "duration": 11,
    "start_time": "2023-05-09T00:11:45.985Z"
   },
   {
    "duration": 32,
    "start_time": "2023-05-09T00:11:45.998Z"
   },
   {
    "duration": 30,
    "start_time": "2023-05-09T00:11:46.034Z"
   },
   {
    "duration": 23,
    "start_time": "2023-05-09T00:11:46.066Z"
   },
   {
    "duration": 64,
    "start_time": "2023-05-09T00:11:46.091Z"
   },
   {
    "duration": 40,
    "start_time": "2023-05-09T00:11:46.157Z"
   },
   {
    "duration": 69,
    "start_time": "2023-05-09T00:11:46.199Z"
   },
   {
    "duration": 28,
    "start_time": "2023-05-09T00:11:46.270Z"
   },
   {
    "duration": 31,
    "start_time": "2023-05-09T00:11:46.300Z"
   },
   {
    "duration": 24,
    "start_time": "2023-05-09T00:11:46.332Z"
   },
   {
    "duration": 28,
    "start_time": "2023-05-09T00:11:46.357Z"
   },
   {
    "duration": 44,
    "start_time": "2023-05-09T00:11:46.386Z"
   },
   {
    "duration": 155695,
    "start_time": "2023-05-09T00:11:46.432Z"
   },
   {
    "duration": 68,
    "start_time": "2023-05-09T00:14:22.128Z"
   },
   {
    "duration": 240,
    "start_time": "2023-05-09T00:14:22.197Z"
   },
   {
    "duration": 84,
    "start_time": "2023-05-09T00:14:22.439Z"
   },
   {
    "duration": 115,
    "start_time": "2023-05-09T00:14:22.525Z"
   },
   {
    "duration": 1662,
    "start_time": "2023-05-09T00:14:22.641Z"
   },
   {
    "duration": 367,
    "start_time": "2023-05-09T00:14:24.305Z"
   },
   {
    "duration": 570,
    "start_time": "2023-05-09T00:14:24.674Z"
   },
   {
    "duration": 3313,
    "start_time": "2023-05-09T00:14:25.318Z"
   },
   {
    "duration": 226,
    "start_time": "2023-05-09T00:14:28.633Z"
   },
   {
    "duration": 372,
    "start_time": "2023-05-09T00:14:28.861Z"
   },
   {
    "duration": 264,
    "start_time": "2023-05-09T00:14:29.235Z"
   },
   {
    "duration": 474,
    "start_time": "2023-05-09T00:14:29.502Z"
   },
   {
    "duration": 353,
    "start_time": "2023-05-09T00:14:29.978Z"
   },
   {
    "duration": 193,
    "start_time": "2023-05-09T00:17:05.515Z"
   },
   {
    "duration": 214,
    "start_time": "2023-05-09T00:17:09.949Z"
   },
   {
    "duration": 312,
    "start_time": "2023-05-09T00:17:14.917Z"
   },
   {
    "duration": 1270,
    "start_time": "2023-05-09T00:18:12.881Z"
   },
   {
    "duration": 815,
    "start_time": "2023-05-09T00:18:32.628Z"
   },
   {
    "duration": 910,
    "start_time": "2023-05-09T00:19:04.244Z"
   },
   {
    "duration": 593,
    "start_time": "2023-05-09T00:19:11.711Z"
   },
   {
    "duration": 831,
    "start_time": "2023-05-09T00:19:19.224Z"
   },
   {
    "duration": 42,
    "start_time": "2023-05-09T00:24:27.479Z"
   },
   {
    "duration": 126,
    "start_time": "2023-05-09T00:28:08.021Z"
   },
   {
    "duration": 471,
    "start_time": "2023-05-09T00:28:15.067Z"
   },
   {
    "duration": 42,
    "start_time": "2023-05-09T00:29:50.060Z"
   },
   {
    "duration": 39,
    "start_time": "2023-05-09T00:29:56.009Z"
   },
   {
    "duration": 22,
    "start_time": "2023-05-09T00:30:20.480Z"
   },
   {
    "duration": 28,
    "start_time": "2023-05-09T00:30:25.697Z"
   },
   {
    "duration": 32,
    "start_time": "2023-05-09T00:30:29.164Z"
   },
   {
    "duration": 32,
    "start_time": "2023-05-09T00:30:32.729Z"
   },
   {
    "duration": 33,
    "start_time": "2023-05-09T00:30:37.248Z"
   },
   {
    "duration": 27,
    "start_time": "2023-05-09T00:30:47.406Z"
   },
   {
    "duration": 27,
    "start_time": "2023-05-09T00:30:51.734Z"
   },
   {
    "duration": 887,
    "start_time": "2023-05-09T00:32:42.863Z"
   },
   {
    "duration": 1752,
    "start_time": "2023-05-09T00:34:35.124Z"
   },
   {
    "duration": 45,
    "start_time": "2023-05-09T00:34:36.878Z"
   },
   {
    "duration": 18,
    "start_time": "2023-05-09T00:34:36.925Z"
   },
   {
    "duration": 16,
    "start_time": "2023-05-09T00:34:36.945Z"
   },
   {
    "duration": 47,
    "start_time": "2023-05-09T00:34:36.964Z"
   },
   {
    "duration": 77,
    "start_time": "2023-05-09T00:34:37.013Z"
   },
   {
    "duration": 5,
    "start_time": "2023-05-09T00:34:37.092Z"
   },
   {
    "duration": 37,
    "start_time": "2023-05-09T00:34:37.098Z"
   },
   {
    "duration": 28,
    "start_time": "2023-05-09T00:34:37.137Z"
   },
   {
    "duration": 27,
    "start_time": "2023-05-09T00:34:37.167Z"
   },
   {
    "duration": 15,
    "start_time": "2023-05-09T00:34:37.196Z"
   },
   {
    "duration": 25,
    "start_time": "2023-05-09T00:34:37.212Z"
   },
   {
    "duration": 19,
    "start_time": "2023-05-09T00:34:37.239Z"
   },
   {
    "duration": 14,
    "start_time": "2023-05-09T00:34:37.262Z"
   },
   {
    "duration": 34,
    "start_time": "2023-05-09T00:34:37.278Z"
   },
   {
    "duration": 14,
    "start_time": "2023-05-09T00:34:37.314Z"
   },
   {
    "duration": 27,
    "start_time": "2023-05-09T00:34:37.330Z"
   },
   {
    "duration": 15,
    "start_time": "2023-05-09T00:34:37.358Z"
   },
   {
    "duration": 15,
    "start_time": "2023-05-09T00:34:37.374Z"
   },
   {
    "duration": 4,
    "start_time": "2023-05-09T00:34:37.391Z"
   },
   {
    "duration": 38,
    "start_time": "2023-05-09T00:34:37.396Z"
   },
   {
    "duration": 55,
    "start_time": "2023-05-09T00:34:37.436Z"
   },
   {
    "duration": 150438,
    "start_time": "2023-05-09T00:34:37.492Z"
   },
   {
    "duration": 68,
    "start_time": "2023-05-09T00:37:07.931Z"
   },
   {
    "duration": 219,
    "start_time": "2023-05-09T00:37:08.001Z"
   },
   {
    "duration": 98,
    "start_time": "2023-05-09T00:37:08.222Z"
   },
   {
    "duration": 54,
    "start_time": "2023-05-09T00:37:08.322Z"
   },
   {
    "duration": 1578,
    "start_time": "2023-05-09T00:37:08.378Z"
   },
   {
    "duration": 365,
    "start_time": "2023-05-09T00:37:09.958Z"
   },
   {
    "duration": 300,
    "start_time": "2023-05-09T00:37:10.324Z"
   },
   {
    "duration": 3385,
    "start_time": "2023-05-09T00:37:10.627Z"
   },
   {
    "duration": 196,
    "start_time": "2023-05-09T00:37:14.019Z"
   },
   {
    "duration": 27,
    "start_time": "2023-05-09T00:37:14.218Z"
   },
   {
    "duration": 985,
    "start_time": "2023-05-09T00:37:14.247Z"
   },
   {
    "duration": 556,
    "start_time": "2023-05-09T00:37:15.234Z"
   },
   {
    "duration": 1228,
    "start_time": "2023-05-09T00:37:15.791Z"
   },
   {
    "duration": 839,
    "start_time": "2023-05-09T00:37:17.021Z"
   },
   {
    "duration": 233,
    "start_time": "2023-05-09T00:39:10.328Z"
   },
   {
    "duration": 344,
    "start_time": "2023-05-09T00:39:25.095Z"
   },
   {
    "duration": 223,
    "start_time": "2023-05-09T00:39:33.164Z"
   },
   {
    "duration": 439,
    "start_time": "2023-05-09T00:39:40.412Z"
   },
   {
    "duration": 319,
    "start_time": "2023-05-09T00:39:48.718Z"
   },
   {
    "duration": 439,
    "start_time": "2023-05-09T00:40:45.171Z"
   },
   {
    "duration": 300,
    "start_time": "2023-05-09T00:41:04.431Z"
   },
   {
    "duration": 241,
    "start_time": "2023-05-09T00:46:50.248Z"
   },
   {
    "duration": 445,
    "start_time": "2023-05-09T00:47:29.723Z"
   },
   {
    "duration": 382,
    "start_time": "2023-05-09T00:47:36.839Z"
   },
   {
    "duration": 1571,
    "start_time": "2023-05-11T08:41:57.898Z"
   },
   {
    "duration": 74,
    "start_time": "2023-05-11T08:41:59.471Z"
   },
   {
    "duration": 21,
    "start_time": "2023-05-11T08:41:59.547Z"
   },
   {
    "duration": 5,
    "start_time": "2023-05-11T08:41:59.570Z"
   },
   {
    "duration": 24,
    "start_time": "2023-05-11T08:41:59.578Z"
   },
   {
    "duration": 43,
    "start_time": "2023-05-11T08:41:59.604Z"
   },
   {
    "duration": 5,
    "start_time": "2023-05-11T08:41:59.649Z"
   },
   {
    "duration": 10,
    "start_time": "2023-05-11T08:41:59.655Z"
   },
   {
    "duration": 36,
    "start_time": "2023-05-11T08:41:59.667Z"
   },
   {
    "duration": 13,
    "start_time": "2023-05-11T08:41:59.705Z"
   },
   {
    "duration": 9,
    "start_time": "2023-05-11T08:41:59.720Z"
   },
   {
    "duration": 8,
    "start_time": "2023-05-11T08:41:59.731Z"
   },
   {
    "duration": 7,
    "start_time": "2023-05-11T08:41:59.741Z"
   },
   {
    "duration": 44,
    "start_time": "2023-05-11T08:41:59.751Z"
   },
   {
    "duration": 19,
    "start_time": "2023-05-11T08:41:59.797Z"
   },
   {
    "duration": 17,
    "start_time": "2023-05-11T08:41:59.818Z"
   },
   {
    "duration": 17,
    "start_time": "2023-05-11T08:41:59.837Z"
   },
   {
    "duration": 37,
    "start_time": "2023-05-11T08:41:59.856Z"
   },
   {
    "duration": 17,
    "start_time": "2023-05-11T08:41:59.896Z"
   },
   {
    "duration": 5,
    "start_time": "2023-05-11T08:41:59.915Z"
   },
   {
    "duration": 9,
    "start_time": "2023-05-11T08:41:59.922Z"
   },
   {
    "duration": 75,
    "start_time": "2023-05-11T08:41:59.934Z"
   },
   {
    "duration": 168751,
    "start_time": "2023-05-11T08:42:00.011Z"
   },
   {
    "duration": 76,
    "start_time": "2023-05-11T08:44:48.764Z"
   },
   {
    "duration": 162,
    "start_time": "2023-05-11T08:44:48.842Z"
   },
   {
    "duration": 6,
    "start_time": "2023-05-11T08:44:49.097Z"
   },
   {
    "duration": 91,
    "start_time": "2023-05-11T08:44:49.105Z"
   },
   {
    "duration": 1860,
    "start_time": "2023-05-11T08:44:49.198Z"
   },
   {
    "duration": 410,
    "start_time": "2023-05-11T08:44:51.060Z"
   },
   {
    "duration": 131,
    "start_time": "2023-05-11T08:44:51.472Z"
   },
   {
    "duration": 3612,
    "start_time": "2023-05-11T08:44:51.605Z"
   },
   {
    "duration": 334,
    "start_time": "2023-05-11T08:44:55.219Z"
   },
   {
    "duration": 378,
    "start_time": "2023-05-11T08:44:55.556Z"
   },
   {
    "duration": 253,
    "start_time": "2023-05-11T08:44:55.937Z"
   },
   {
    "duration": 490,
    "start_time": "2023-05-11T08:44:56.192Z"
   },
   {
    "duration": 340,
    "start_time": "2023-05-11T08:44:56.684Z"
   },
   {
    "duration": 817,
    "start_time": "2023-05-11T08:51:42.757Z"
   },
   {
    "duration": 101001,
    "start_time": "2023-05-11T09:26:51.821Z"
   },
   {
    "duration": 1582,
    "start_time": "2023-05-11T18:41:48.546Z"
   },
   {
    "duration": 96,
    "start_time": "2023-05-11T18:41:50.130Z"
   },
   {
    "duration": 18,
    "start_time": "2023-05-11T18:41:50.228Z"
   },
   {
    "duration": 14,
    "start_time": "2023-05-11T18:41:50.248Z"
   },
   {
    "duration": 16,
    "start_time": "2023-05-11T18:41:50.270Z"
   },
   {
    "duration": 47,
    "start_time": "2023-05-11T18:41:50.289Z"
   },
   {
    "duration": 5,
    "start_time": "2023-05-11T18:41:50.340Z"
   },
   {
    "duration": 29,
    "start_time": "2023-05-11T18:41:50.350Z"
   },
   {
    "duration": 24,
    "start_time": "2023-05-11T18:41:50.383Z"
   },
   {
    "duration": 20,
    "start_time": "2023-05-11T18:41:50.410Z"
   },
   {
    "duration": 12,
    "start_time": "2023-05-11T18:41:50.432Z"
   },
   {
    "duration": 26,
    "start_time": "2023-05-11T18:41:50.446Z"
   },
   {
    "duration": 7,
    "start_time": "2023-05-11T18:41:50.480Z"
   },
   {
    "duration": 13,
    "start_time": "2023-05-11T18:41:50.488Z"
   },
   {
    "duration": 15,
    "start_time": "2023-05-11T18:41:50.502Z"
   },
   {
    "duration": 49,
    "start_time": "2023-05-11T18:41:50.520Z"
   },
   {
    "duration": 15,
    "start_time": "2023-05-11T18:41:50.571Z"
   },
   {
    "duration": 10,
    "start_time": "2023-05-11T18:41:50.588Z"
   },
   {
    "duration": 14,
    "start_time": "2023-05-11T18:41:50.600Z"
   },
   {
    "duration": 5,
    "start_time": "2023-05-11T18:41:50.616Z"
   },
   {
    "duration": 27,
    "start_time": "2023-05-11T18:41:50.623Z"
   },
   {
    "duration": 59,
    "start_time": "2023-05-11T18:41:50.653Z"
   },
   {
    "duration": 178,
    "start_time": "2023-05-11T18:41:50.714Z"
   },
   {
    "duration": 10,
    "start_time": "2023-05-11T18:41:50.893Z"
   },
   {
    "duration": 0,
    "start_time": "2023-05-11T18:41:50.905Z"
   },
   {
    "duration": 0,
    "start_time": "2023-05-11T18:41:50.906Z"
   },
   {
    "duration": 0,
    "start_time": "2023-05-11T18:41:50.908Z"
   },
   {
    "duration": 0,
    "start_time": "2023-05-11T18:41:50.909Z"
   },
   {
    "duration": 0,
    "start_time": "2023-05-11T18:41:50.910Z"
   },
   {
    "duration": 0,
    "start_time": "2023-05-11T18:41:50.911Z"
   },
   {
    "duration": 0,
    "start_time": "2023-05-11T18:41:50.912Z"
   },
   {
    "duration": 0,
    "start_time": "2023-05-11T18:41:50.913Z"
   },
   {
    "duration": 0,
    "start_time": "2023-05-11T18:41:50.914Z"
   },
   {
    "duration": 0,
    "start_time": "2023-05-11T18:41:50.915Z"
   },
   {
    "duration": 0,
    "start_time": "2023-05-11T18:41:50.915Z"
   },
   {
    "duration": 1478,
    "start_time": "2023-05-11T18:44:44.472Z"
   },
   {
    "duration": 47,
    "start_time": "2023-05-11T18:44:45.953Z"
   },
   {
    "duration": 26,
    "start_time": "2023-05-11T18:44:46.002Z"
   },
   {
    "duration": 5,
    "start_time": "2023-05-11T18:44:46.029Z"
   },
   {
    "duration": 12,
    "start_time": "2023-05-11T18:44:46.037Z"
   },
   {
    "duration": 44,
    "start_time": "2023-05-11T18:44:46.057Z"
   },
   {
    "duration": 6,
    "start_time": "2023-05-11T18:44:46.104Z"
   },
   {
    "duration": 8,
    "start_time": "2023-05-11T18:44:46.111Z"
   },
   {
    "duration": 12,
    "start_time": "2023-05-11T18:44:46.120Z"
   },
   {
    "duration": 43,
    "start_time": "2023-05-11T18:44:46.133Z"
   },
   {
    "duration": 12,
    "start_time": "2023-05-11T18:44:46.178Z"
   },
   {
    "duration": 11,
    "start_time": "2023-05-11T18:44:46.192Z"
   },
   {
    "duration": 6,
    "start_time": "2023-05-11T18:44:46.205Z"
   },
   {
    "duration": 6,
    "start_time": "2023-05-11T18:44:46.215Z"
   },
   {
    "duration": 55,
    "start_time": "2023-05-11T18:44:46.223Z"
   },
   {
    "duration": 12,
    "start_time": "2023-05-11T18:44:46.283Z"
   },
   {
    "duration": 10,
    "start_time": "2023-05-11T18:44:46.297Z"
   },
   {
    "duration": 5,
    "start_time": "2023-05-11T18:44:46.310Z"
   },
   {
    "duration": 11,
    "start_time": "2023-05-11T18:44:46.316Z"
   },
   {
    "duration": 3,
    "start_time": "2023-05-11T18:44:46.329Z"
   },
   {
    "duration": 23,
    "start_time": "2023-05-11T18:44:46.334Z"
   },
   {
    "duration": 40,
    "start_time": "2023-05-11T18:44:46.358Z"
   },
   {
    "duration": 156080,
    "start_time": "2023-05-11T18:44:46.400Z"
   },
   {
    "duration": 602,
    "start_time": "2023-05-11T18:47:22.488Z"
   },
   {
    "duration": 7,
    "start_time": "2023-05-11T18:47:23.150Z"
   },
   {
    "duration": 17,
    "start_time": "2023-05-11T18:47:23.159Z"
   },
   {
    "duration": 95407,
    "start_time": "2023-05-11T18:47:23.178Z"
   },
   {
    "duration": 39507,
    "start_time": "2023-05-11T18:48:58.591Z"
   },
   {
    "duration": 276,
    "start_time": "2023-05-11T18:49:38.100Z"
   },
   {
    "duration": 47,
    "start_time": "2023-05-11T18:49:38.382Z"
   },
   {
    "duration": 0,
    "start_time": "2023-05-11T18:49:38.431Z"
   },
   {
    "duration": 0,
    "start_time": "2023-05-11T18:49:38.432Z"
   },
   {
    "duration": 0,
    "start_time": "2023-05-11T18:49:38.433Z"
   },
   {
    "duration": 0,
    "start_time": "2023-05-11T18:49:38.434Z"
   },
   {
    "duration": 0,
    "start_time": "2023-05-11T18:49:38.435Z"
   },
   {
    "duration": 0,
    "start_time": "2023-05-11T18:49:38.436Z"
   },
   {
    "duration": 70,
    "start_time": "2023-05-11T18:50:18.825Z"
   },
   {
    "duration": 55,
    "start_time": "2023-05-11T18:50:36.979Z"
   },
   {
    "duration": 105,
    "start_time": "2023-05-11T18:51:01.193Z"
   },
   {
    "duration": 669,
    "start_time": "2023-05-11T18:51:39.402Z"
   },
   {
    "duration": 292,
    "start_time": "2023-05-11T18:51:44.072Z"
   },
   {
    "duration": 394,
    "start_time": "2023-05-11T18:51:49.200Z"
   },
   {
    "duration": 715,
    "start_time": "2023-05-11T18:52:12.179Z"
   },
   {
    "duration": 221,
    "start_time": "2023-05-11T18:52:28.706Z"
   },
   {
    "duration": 821,
    "start_time": "2023-05-11T18:53:28.219Z"
   },
   {
    "duration": 292,
    "start_time": "2023-05-11T18:53:37.929Z"
   },
   {
    "duration": 132,
    "start_time": "2023-05-11T19:03:43.915Z"
   },
   {
    "duration": 1795,
    "start_time": "2023-05-11T19:16:55.411Z"
   },
   {
    "duration": 44,
    "start_time": "2023-05-11T19:16:57.214Z"
   },
   {
    "duration": 27,
    "start_time": "2023-05-11T19:16:57.260Z"
   },
   {
    "duration": 6,
    "start_time": "2023-05-11T19:16:57.288Z"
   },
   {
    "duration": 23,
    "start_time": "2023-05-11T19:16:57.296Z"
   },
   {
    "duration": 68,
    "start_time": "2023-05-11T19:16:57.322Z"
   },
   {
    "duration": 6,
    "start_time": "2023-05-11T19:16:57.392Z"
   },
   {
    "duration": 12,
    "start_time": "2023-05-11T19:16:57.402Z"
   },
   {
    "duration": 18,
    "start_time": "2023-05-11T19:16:57.420Z"
   },
   {
    "duration": 24,
    "start_time": "2023-05-11T19:16:57.451Z"
   },
   {
    "duration": 13,
    "start_time": "2023-05-11T19:16:57.477Z"
   },
   {
    "duration": 10,
    "start_time": "2023-05-11T19:16:57.495Z"
   },
   {
    "duration": 12,
    "start_time": "2023-05-11T19:16:57.508Z"
   },
   {
    "duration": 6,
    "start_time": "2023-05-11T19:16:57.524Z"
   },
   {
    "duration": 19,
    "start_time": "2023-05-11T19:16:57.549Z"
   },
   {
    "duration": 6,
    "start_time": "2023-05-11T19:16:57.574Z"
   },
   {
    "duration": 32,
    "start_time": "2023-05-11T19:16:57.587Z"
   },
   {
    "duration": 165,
    "start_time": "2023-05-11T19:16:57.621Z"
   },
   {
    "duration": 0,
    "start_time": "2023-05-11T19:16:57.789Z"
   },
   {
    "duration": 0,
    "start_time": "2023-05-11T19:16:57.790Z"
   },
   {
    "duration": 0,
    "start_time": "2023-05-11T19:16:57.790Z"
   },
   {
    "duration": 0,
    "start_time": "2023-05-11T19:16:57.791Z"
   },
   {
    "duration": 0,
    "start_time": "2023-05-11T19:16:57.792Z"
   },
   {
    "duration": 0,
    "start_time": "2023-05-11T19:16:57.793Z"
   },
   {
    "duration": 0,
    "start_time": "2023-05-11T19:16:57.794Z"
   },
   {
    "duration": 0,
    "start_time": "2023-05-11T19:16:57.795Z"
   },
   {
    "duration": 0,
    "start_time": "2023-05-11T19:16:57.797Z"
   },
   {
    "duration": 0,
    "start_time": "2023-05-11T19:16:57.798Z"
   },
   {
    "duration": 1,
    "start_time": "2023-05-11T19:16:57.799Z"
   },
   {
    "duration": 0,
    "start_time": "2023-05-11T19:16:57.801Z"
   },
   {
    "duration": 0,
    "start_time": "2023-05-11T19:16:57.801Z"
   },
   {
    "duration": 0,
    "start_time": "2023-05-11T19:16:57.802Z"
   },
   {
    "duration": 0,
    "start_time": "2023-05-11T19:16:57.805Z"
   },
   {
    "duration": 0,
    "start_time": "2023-05-11T19:16:57.806Z"
   },
   {
    "duration": 0,
    "start_time": "2023-05-11T19:16:57.807Z"
   },
   {
    "duration": 0,
    "start_time": "2023-05-11T19:16:57.809Z"
   },
   {
    "duration": 91,
    "start_time": "2023-05-11T19:23:44.826Z"
   },
   {
    "duration": 26,
    "start_time": "2023-05-11T19:23:57.597Z"
   },
   {
    "duration": 35,
    "start_time": "2023-05-11T20:05:47.526Z"
   },
   {
    "duration": 41,
    "start_time": "2023-05-11T21:58:07.012Z"
   },
   {
    "duration": 37,
    "start_time": "2023-05-11T21:58:29.105Z"
   },
   {
    "duration": 41,
    "start_time": "2023-05-11T22:00:00.844Z"
   },
   {
    "duration": 9,
    "start_time": "2023-05-11T22:00:08.249Z"
   },
   {
    "duration": 16,
    "start_time": "2023-05-11T22:00:20.362Z"
   },
   {
    "duration": 4,
    "start_time": "2023-05-11T22:00:47.664Z"
   },
   {
    "duration": 14,
    "start_time": "2023-05-11T22:01:00.223Z"
   },
   {
    "duration": 45,
    "start_time": "2023-05-11T22:05:00.363Z"
   },
   {
    "duration": 17,
    "start_time": "2023-05-11T22:14:24.972Z"
   },
   {
    "duration": 1302,
    "start_time": "2023-05-11T22:14:38.967Z"
   },
   {
    "duration": 36,
    "start_time": "2023-05-11T22:14:40.271Z"
   },
   {
    "duration": 19,
    "start_time": "2023-05-11T22:14:40.309Z"
   },
   {
    "duration": 12,
    "start_time": "2023-05-11T22:14:40.330Z"
   },
   {
    "duration": 27,
    "start_time": "2023-05-11T22:14:40.344Z"
   },
   {
    "duration": 44,
    "start_time": "2023-05-11T22:14:40.373Z"
   },
   {
    "duration": 6,
    "start_time": "2023-05-11T22:14:40.418Z"
   },
   {
    "duration": 6,
    "start_time": "2023-05-11T22:14:40.426Z"
   },
   {
    "duration": 31,
    "start_time": "2023-05-11T22:14:40.433Z"
   },
   {
    "duration": 18,
    "start_time": "2023-05-11T22:14:40.466Z"
   },
   {
    "duration": 10,
    "start_time": "2023-05-11T22:14:40.485Z"
   },
   {
    "duration": 6,
    "start_time": "2023-05-11T22:14:40.497Z"
   },
   {
    "duration": 15,
    "start_time": "2023-05-11T22:14:40.504Z"
   },
   {
    "duration": 4,
    "start_time": "2023-05-11T22:14:40.522Z"
   },
   {
    "duration": 12,
    "start_time": "2023-05-11T22:14:40.527Z"
   },
   {
    "duration": 5,
    "start_time": "2023-05-11T22:14:40.550Z"
   },
   {
    "duration": 33,
    "start_time": "2023-05-11T22:14:40.556Z"
   },
   {
    "duration": 5,
    "start_time": "2023-05-11T22:14:40.591Z"
   },
   {
    "duration": 127,
    "start_time": "2023-05-11T22:14:40.598Z"
   },
   {
    "duration": 0,
    "start_time": "2023-05-11T22:14:40.727Z"
   },
   {
    "duration": 0,
    "start_time": "2023-05-11T22:14:40.728Z"
   },
   {
    "duration": 0,
    "start_time": "2023-05-11T22:14:40.729Z"
   },
   {
    "duration": 0,
    "start_time": "2023-05-11T22:14:40.731Z"
   },
   {
    "duration": 0,
    "start_time": "2023-05-11T22:14:40.732Z"
   },
   {
    "duration": 0,
    "start_time": "2023-05-11T22:14:40.733Z"
   },
   {
    "duration": 0,
    "start_time": "2023-05-11T22:14:40.735Z"
   },
   {
    "duration": 0,
    "start_time": "2023-05-11T22:14:40.736Z"
   },
   {
    "duration": 0,
    "start_time": "2023-05-11T22:14:40.750Z"
   },
   {
    "duration": 1,
    "start_time": "2023-05-11T22:14:40.751Z"
   },
   {
    "duration": 0,
    "start_time": "2023-05-11T22:14:40.753Z"
   },
   {
    "duration": 0,
    "start_time": "2023-05-11T22:14:40.754Z"
   },
   {
    "duration": 0,
    "start_time": "2023-05-11T22:14:40.756Z"
   },
   {
    "duration": 0,
    "start_time": "2023-05-11T22:14:40.757Z"
   },
   {
    "duration": 0,
    "start_time": "2023-05-11T22:14:40.758Z"
   },
   {
    "duration": 0,
    "start_time": "2023-05-11T22:14:40.759Z"
   },
   {
    "duration": 0,
    "start_time": "2023-05-11T22:14:40.761Z"
   },
   {
    "duration": 33,
    "start_time": "2023-05-11T22:17:54.835Z"
   },
   {
    "duration": 42,
    "start_time": "2023-05-11T22:18:07.590Z"
   },
   {
    "duration": 12,
    "start_time": "2023-05-11T22:27:25.081Z"
   },
   {
    "duration": 12,
    "start_time": "2023-05-11T22:27:37.216Z"
   },
   {
    "duration": 1276,
    "start_time": "2023-05-11T22:29:29.472Z"
   },
   {
    "duration": 37,
    "start_time": "2023-05-11T22:29:30.749Z"
   },
   {
    "duration": 17,
    "start_time": "2023-05-11T22:29:30.787Z"
   },
   {
    "duration": 24,
    "start_time": "2023-05-11T22:29:30.805Z"
   },
   {
    "duration": 44,
    "start_time": "2023-05-11T22:29:30.831Z"
   },
   {
    "duration": 66,
    "start_time": "2023-05-11T22:29:30.876Z"
   },
   {
    "duration": 24,
    "start_time": "2023-05-11T22:29:30.943Z"
   },
   {
    "duration": 36,
    "start_time": "2023-05-11T22:29:30.968Z"
   },
   {
    "duration": 48,
    "start_time": "2023-05-11T22:29:31.005Z"
   },
   {
    "duration": 37,
    "start_time": "2023-05-11T22:29:31.054Z"
   },
   {
    "duration": 36,
    "start_time": "2023-05-11T22:29:31.093Z"
   },
   {
    "duration": 52,
    "start_time": "2023-05-11T22:29:31.130Z"
   },
   {
    "duration": 23,
    "start_time": "2023-05-11T22:29:31.184Z"
   },
   {
    "duration": 32,
    "start_time": "2023-05-11T22:29:31.210Z"
   },
   {
    "duration": 33,
    "start_time": "2023-05-11T22:29:31.244Z"
   },
   {
    "duration": 47,
    "start_time": "2023-05-11T22:29:31.279Z"
   },
   {
    "duration": 61,
    "start_time": "2023-05-11T22:29:31.327Z"
   },
   {
    "duration": 68,
    "start_time": "2023-05-11T22:29:31.389Z"
   },
   {
    "duration": 37,
    "start_time": "2023-05-11T22:29:31.459Z"
   },
   {
    "duration": 26,
    "start_time": "2023-05-11T22:29:31.497Z"
   },
   {
    "duration": 35,
    "start_time": "2023-05-11T22:29:31.525Z"
   },
   {
    "duration": 46,
    "start_time": "2023-05-11T22:29:31.562Z"
   },
   {
    "duration": 173,
    "start_time": "2023-05-11T22:29:31.609Z"
   },
   {
    "duration": 20,
    "start_time": "2023-05-11T22:29:31.784Z"
   },
   {
    "duration": 0,
    "start_time": "2023-05-11T22:29:31.806Z"
   },
   {
    "duration": 0,
    "start_time": "2023-05-11T22:29:31.807Z"
   },
   {
    "duration": 0,
    "start_time": "2023-05-11T22:29:31.808Z"
   },
   {
    "duration": 0,
    "start_time": "2023-05-11T22:29:31.809Z"
   },
   {
    "duration": 0,
    "start_time": "2023-05-11T22:29:31.810Z"
   },
   {
    "duration": 0,
    "start_time": "2023-05-11T22:29:31.811Z"
   },
   {
    "duration": 0,
    "start_time": "2023-05-11T22:29:31.812Z"
   },
   {
    "duration": 0,
    "start_time": "2023-05-11T22:29:31.812Z"
   },
   {
    "duration": 0,
    "start_time": "2023-05-11T22:29:31.813Z"
   },
   {
    "duration": 0,
    "start_time": "2023-05-11T22:29:31.815Z"
   },
   {
    "duration": 0,
    "start_time": "2023-05-11T22:29:31.815Z"
   },
   {
    "duration": 0,
    "start_time": "2023-05-11T22:29:31.816Z"
   },
   {
    "duration": 16,
    "start_time": "2023-05-11T22:30:25.407Z"
   },
   {
    "duration": 32,
    "start_time": "2023-05-11T22:31:48.544Z"
   },
   {
    "duration": 28,
    "start_time": "2023-05-11T22:33:18.611Z"
   },
   {
    "duration": 14,
    "start_time": "2023-05-11T22:33:50.001Z"
   },
   {
    "duration": 1297,
    "start_time": "2023-05-11T22:33:59.120Z"
   },
   {
    "duration": 35,
    "start_time": "2023-05-11T22:34:00.419Z"
   },
   {
    "duration": 19,
    "start_time": "2023-05-11T22:34:00.456Z"
   },
   {
    "duration": 5,
    "start_time": "2023-05-11T22:34:00.477Z"
   },
   {
    "duration": 29,
    "start_time": "2023-05-11T22:34:00.483Z"
   },
   {
    "duration": 55,
    "start_time": "2023-05-11T22:34:00.513Z"
   },
   {
    "duration": 4,
    "start_time": "2023-05-11T22:34:00.570Z"
   },
   {
    "duration": 19,
    "start_time": "2023-05-11T22:34:00.575Z"
   },
   {
    "duration": 24,
    "start_time": "2023-05-11T22:34:00.595Z"
   },
   {
    "duration": 21,
    "start_time": "2023-05-11T22:34:00.621Z"
   },
   {
    "duration": 28,
    "start_time": "2023-05-11T22:34:00.644Z"
   },
   {
    "duration": 16,
    "start_time": "2023-05-11T22:34:00.673Z"
   },
   {
    "duration": 15,
    "start_time": "2023-05-11T22:34:00.691Z"
   },
   {
    "duration": 17,
    "start_time": "2023-05-11T22:34:00.708Z"
   },
   {
    "duration": 25,
    "start_time": "2023-05-11T22:34:00.727Z"
   },
   {
    "duration": 10,
    "start_time": "2023-05-11T22:34:00.754Z"
   },
   {
    "duration": 144,
    "start_time": "2023-05-11T22:34:00.765Z"
   },
   {
    "duration": 0,
    "start_time": "2023-05-11T22:34:00.911Z"
   },
   {
    "duration": 0,
    "start_time": "2023-05-11T22:34:00.912Z"
   },
   {
    "duration": 0,
    "start_time": "2023-05-11T22:34:00.913Z"
   },
   {
    "duration": 0,
    "start_time": "2023-05-11T22:34:00.914Z"
   },
   {
    "duration": 0,
    "start_time": "2023-05-11T22:34:00.916Z"
   },
   {
    "duration": 0,
    "start_time": "2023-05-11T22:34:00.917Z"
   },
   {
    "duration": 0,
    "start_time": "2023-05-11T22:34:00.918Z"
   },
   {
    "duration": 0,
    "start_time": "2023-05-11T22:34:00.920Z"
   },
   {
    "duration": 0,
    "start_time": "2023-05-11T22:34:00.921Z"
   },
   {
    "duration": 0,
    "start_time": "2023-05-11T22:34:00.923Z"
   },
   {
    "duration": 0,
    "start_time": "2023-05-11T22:34:00.924Z"
   },
   {
    "duration": 0,
    "start_time": "2023-05-11T22:34:00.926Z"
   },
   {
    "duration": 0,
    "start_time": "2023-05-11T22:34:00.927Z"
   },
   {
    "duration": 0,
    "start_time": "2023-05-11T22:34:00.950Z"
   },
   {
    "duration": 0,
    "start_time": "2023-05-11T22:34:00.952Z"
   },
   {
    "duration": 0,
    "start_time": "2023-05-11T22:34:00.953Z"
   },
   {
    "duration": 0,
    "start_time": "2023-05-11T22:34:00.955Z"
   },
   {
    "duration": 0,
    "start_time": "2023-05-11T22:34:00.956Z"
   },
   {
    "duration": 0,
    "start_time": "2023-05-11T22:34:00.957Z"
   },
   {
    "duration": 14,
    "start_time": "2023-05-11T22:34:17.262Z"
   },
   {
    "duration": 13,
    "start_time": "2023-05-11T22:34:39.694Z"
   },
   {
    "duration": 1265,
    "start_time": "2023-05-11T22:34:57.268Z"
   },
   {
    "duration": 35,
    "start_time": "2023-05-11T22:34:58.535Z"
   },
   {
    "duration": 19,
    "start_time": "2023-05-11T22:34:58.572Z"
   },
   {
    "duration": 5,
    "start_time": "2023-05-11T22:34:58.594Z"
   },
   {
    "duration": 14,
    "start_time": "2023-05-11T22:34:58.601Z"
   },
   {
    "duration": 55,
    "start_time": "2023-05-11T22:34:58.616Z"
   },
   {
    "duration": 4,
    "start_time": "2023-05-11T22:34:58.673Z"
   },
   {
    "duration": 6,
    "start_time": "2023-05-11T22:34:58.678Z"
   },
   {
    "duration": 14,
    "start_time": "2023-05-11T22:34:58.686Z"
   },
   {
    "duration": 13,
    "start_time": "2023-05-11T22:34:58.704Z"
   },
   {
    "duration": 36,
    "start_time": "2023-05-11T22:34:58.718Z"
   },
   {
    "duration": 7,
    "start_time": "2023-05-11T22:34:58.756Z"
   },
   {
    "duration": 4,
    "start_time": "2023-05-11T22:34:58.764Z"
   },
   {
    "duration": 6,
    "start_time": "2023-05-11T22:34:58.769Z"
   },
   {
    "duration": 14,
    "start_time": "2023-05-11T22:34:58.776Z"
   },
   {
    "duration": 4,
    "start_time": "2023-05-11T22:34:58.791Z"
   },
   {
    "duration": 63,
    "start_time": "2023-05-11T22:34:58.797Z"
   },
   {
    "duration": 6,
    "start_time": "2023-05-11T22:34:58.862Z"
   },
   {
    "duration": 115,
    "start_time": "2023-05-11T22:34:58.870Z"
   },
   {
    "duration": 0,
    "start_time": "2023-05-11T22:34:58.986Z"
   },
   {
    "duration": 0,
    "start_time": "2023-05-11T22:34:58.987Z"
   },
   {
    "duration": 0,
    "start_time": "2023-05-11T22:34:58.988Z"
   },
   {
    "duration": 0,
    "start_time": "2023-05-11T22:34:58.989Z"
   },
   {
    "duration": 0,
    "start_time": "2023-05-11T22:34:58.991Z"
   },
   {
    "duration": 0,
    "start_time": "2023-05-11T22:34:58.992Z"
   },
   {
    "duration": 0,
    "start_time": "2023-05-11T22:34:58.993Z"
   },
   {
    "duration": 0,
    "start_time": "2023-05-11T22:34:58.994Z"
   },
   {
    "duration": 0,
    "start_time": "2023-05-11T22:34:58.995Z"
   },
   {
    "duration": 0,
    "start_time": "2023-05-11T22:34:58.996Z"
   },
   {
    "duration": 0,
    "start_time": "2023-05-11T22:34:58.997Z"
   },
   {
    "duration": 0,
    "start_time": "2023-05-11T22:34:58.997Z"
   },
   {
    "duration": 0,
    "start_time": "2023-05-11T22:34:58.998Z"
   },
   {
    "duration": 0,
    "start_time": "2023-05-11T22:34:58.999Z"
   },
   {
    "duration": 0,
    "start_time": "2023-05-11T22:34:59.000Z"
   },
   {
    "duration": 0,
    "start_time": "2023-05-11T22:34:59.001Z"
   },
   {
    "duration": 0,
    "start_time": "2023-05-11T22:34:59.002Z"
   },
   {
    "duration": 17,
    "start_time": "2023-05-11T22:35:34.920Z"
   },
   {
    "duration": 1237,
    "start_time": "2023-05-11T22:36:21.905Z"
   },
   {
    "duration": 34,
    "start_time": "2023-05-11T22:36:23.144Z"
   },
   {
    "duration": 16,
    "start_time": "2023-05-11T22:36:23.180Z"
   },
   {
    "duration": 5,
    "start_time": "2023-05-11T22:36:23.197Z"
   },
   {
    "duration": 12,
    "start_time": "2023-05-11T22:36:23.203Z"
   },
   {
    "duration": 40,
    "start_time": "2023-05-11T22:36:23.216Z"
   },
   {
    "duration": 4,
    "start_time": "2023-05-11T22:36:23.257Z"
   },
   {
    "duration": 7,
    "start_time": "2023-05-11T22:36:23.262Z"
   },
   {
    "duration": 11,
    "start_time": "2023-05-11T22:36:23.270Z"
   },
   {
    "duration": 12,
    "start_time": "2023-05-11T22:36:23.283Z"
   },
   {
    "duration": 26,
    "start_time": "2023-05-11T22:36:23.296Z"
   },
   {
    "duration": 32,
    "start_time": "2023-05-11T22:36:23.323Z"
   },
   {
    "duration": 35,
    "start_time": "2023-05-11T22:36:23.357Z"
   },
   {
    "duration": 22,
    "start_time": "2023-05-11T22:36:23.395Z"
   },
   {
    "duration": 15,
    "start_time": "2023-05-11T22:36:23.418Z"
   },
   {
    "duration": 6,
    "start_time": "2023-05-11T22:36:23.434Z"
   },
   {
    "duration": 42,
    "start_time": "2023-05-11T22:36:23.441Z"
   },
   {
    "duration": 17,
    "start_time": "2023-05-11T22:36:23.484Z"
   },
   {
    "duration": 4,
    "start_time": "2023-05-11T22:36:23.502Z"
   },
   {
    "duration": 110,
    "start_time": "2023-05-11T22:36:23.507Z"
   },
   {
    "duration": 0,
    "start_time": "2023-05-11T22:36:23.618Z"
   },
   {
    "duration": 0,
    "start_time": "2023-05-11T22:36:23.619Z"
   },
   {
    "duration": 0,
    "start_time": "2023-05-11T22:36:23.620Z"
   },
   {
    "duration": 0,
    "start_time": "2023-05-11T22:36:23.621Z"
   },
   {
    "duration": 0,
    "start_time": "2023-05-11T22:36:23.622Z"
   },
   {
    "duration": 0,
    "start_time": "2023-05-11T22:36:23.623Z"
   },
   {
    "duration": 0,
    "start_time": "2023-05-11T22:36:23.624Z"
   },
   {
    "duration": 0,
    "start_time": "2023-05-11T22:36:23.625Z"
   },
   {
    "duration": 0,
    "start_time": "2023-05-11T22:36:23.626Z"
   },
   {
    "duration": 0,
    "start_time": "2023-05-11T22:36:23.627Z"
   },
   {
    "duration": 0,
    "start_time": "2023-05-11T22:36:23.628Z"
   },
   {
    "duration": 0,
    "start_time": "2023-05-11T22:36:23.629Z"
   },
   {
    "duration": 0,
    "start_time": "2023-05-11T22:36:23.630Z"
   },
   {
    "duration": 0,
    "start_time": "2023-05-11T22:36:23.650Z"
   },
   {
    "duration": 0,
    "start_time": "2023-05-11T22:36:23.651Z"
   },
   {
    "duration": 0,
    "start_time": "2023-05-11T22:36:23.652Z"
   },
   {
    "duration": 0,
    "start_time": "2023-05-11T22:36:23.654Z"
   },
   {
    "duration": 10,
    "start_time": "2023-05-11T22:39:19.215Z"
   },
   {
    "duration": 14,
    "start_time": "2023-05-11T22:39:24.549Z"
   },
   {
    "duration": 10,
    "start_time": "2023-05-11T22:42:09.895Z"
   },
   {
    "duration": 4,
    "start_time": "2023-05-11T22:42:10.724Z"
   },
   {
    "duration": 14,
    "start_time": "2023-05-11T22:42:12.369Z"
   },
   {
    "duration": 9,
    "start_time": "2023-05-11T22:42:51.488Z"
   },
   {
    "duration": 1242,
    "start_time": "2023-05-11T22:43:20.750Z"
   },
   {
    "duration": 35,
    "start_time": "2023-05-11T22:43:21.993Z"
   },
   {
    "duration": 17,
    "start_time": "2023-05-11T22:43:22.029Z"
   },
   {
    "duration": 4,
    "start_time": "2023-05-11T22:43:22.048Z"
   },
   {
    "duration": 12,
    "start_time": "2023-05-11T22:43:22.054Z"
   },
   {
    "duration": 35,
    "start_time": "2023-05-11T22:43:22.068Z"
   },
   {
    "duration": 4,
    "start_time": "2023-05-11T22:43:22.105Z"
   },
   {
    "duration": 5,
    "start_time": "2023-05-11T22:43:22.110Z"
   },
   {
    "duration": 38,
    "start_time": "2023-05-11T22:43:22.116Z"
   },
   {
    "duration": 12,
    "start_time": "2023-05-11T22:43:22.156Z"
   },
   {
    "duration": 7,
    "start_time": "2023-05-11T22:43:22.169Z"
   },
   {
    "duration": 6,
    "start_time": "2023-05-11T22:43:22.177Z"
   },
   {
    "duration": 4,
    "start_time": "2023-05-11T22:43:22.185Z"
   },
   {
    "duration": 4,
    "start_time": "2023-05-11T22:43:22.191Z"
   },
   {
    "duration": 10,
    "start_time": "2023-05-11T22:43:22.197Z"
   },
   {
    "duration": 42,
    "start_time": "2023-05-11T22:43:22.209Z"
   },
   {
    "duration": 29,
    "start_time": "2023-05-11T22:43:22.253Z"
   },
   {
    "duration": 16,
    "start_time": "2023-05-11T22:43:22.283Z"
   },
   {
    "duration": 3,
    "start_time": "2023-05-11T22:43:22.300Z"
   },
   {
    "duration": 9,
    "start_time": "2023-05-11T22:43:22.305Z"
   },
   {
    "duration": 123,
    "start_time": "2023-05-11T22:43:22.315Z"
   },
   {
    "duration": 0,
    "start_time": "2023-05-11T22:43:22.440Z"
   },
   {
    "duration": 0,
    "start_time": "2023-05-11T22:43:22.441Z"
   },
   {
    "duration": 0,
    "start_time": "2023-05-11T22:43:22.443Z"
   },
   {
    "duration": 0,
    "start_time": "2023-05-11T22:43:22.449Z"
   },
   {
    "duration": 0,
    "start_time": "2023-05-11T22:43:22.451Z"
   },
   {
    "duration": 0,
    "start_time": "2023-05-11T22:43:22.453Z"
   },
   {
    "duration": 0,
    "start_time": "2023-05-11T22:43:22.454Z"
   },
   {
    "duration": 0,
    "start_time": "2023-05-11T22:43:22.455Z"
   },
   {
    "duration": 1,
    "start_time": "2023-05-11T22:43:22.456Z"
   },
   {
    "duration": 0,
    "start_time": "2023-05-11T22:43:22.458Z"
   },
   {
    "duration": 0,
    "start_time": "2023-05-11T22:43:22.459Z"
   },
   {
    "duration": 0,
    "start_time": "2023-05-11T22:43:22.460Z"
   },
   {
    "duration": 0,
    "start_time": "2023-05-11T22:43:22.462Z"
   },
   {
    "duration": 0,
    "start_time": "2023-05-11T22:43:22.463Z"
   },
   {
    "duration": 0,
    "start_time": "2023-05-11T22:43:22.464Z"
   },
   {
    "duration": 0,
    "start_time": "2023-05-11T22:43:22.466Z"
   },
   {
    "duration": 0,
    "start_time": "2023-05-11T22:43:22.467Z"
   },
   {
    "duration": 1294,
    "start_time": "2023-05-11T22:45:30.121Z"
   },
   {
    "duration": 36,
    "start_time": "2023-05-11T22:45:31.416Z"
   },
   {
    "duration": 16,
    "start_time": "2023-05-11T22:45:31.453Z"
   },
   {
    "duration": 34,
    "start_time": "2023-05-11T22:45:31.471Z"
   },
   {
    "duration": 25,
    "start_time": "2023-05-11T22:45:31.507Z"
   },
   {
    "duration": 44,
    "start_time": "2023-05-11T22:45:31.534Z"
   },
   {
    "duration": 5,
    "start_time": "2023-05-11T22:45:31.580Z"
   },
   {
    "duration": 22,
    "start_time": "2023-05-11T22:45:31.586Z"
   },
   {
    "duration": 28,
    "start_time": "2023-05-11T22:45:31.611Z"
   },
   {
    "duration": 40,
    "start_time": "2023-05-11T22:45:31.642Z"
   },
   {
    "duration": 28,
    "start_time": "2023-05-11T22:45:31.684Z"
   },
   {
    "duration": 27,
    "start_time": "2023-05-11T22:45:31.713Z"
   },
   {
    "duration": 12,
    "start_time": "2023-05-11T22:45:31.742Z"
   },
   {
    "duration": 9,
    "start_time": "2023-05-11T22:45:31.755Z"
   },
   {
    "duration": 14,
    "start_time": "2023-05-11T22:45:31.765Z"
   },
   {
    "duration": 6,
    "start_time": "2023-05-11T22:45:31.781Z"
   },
   {
    "duration": 18,
    "start_time": "2023-05-11T22:45:31.789Z"
   },
   {
    "duration": 36,
    "start_time": "2023-05-11T22:45:31.808Z"
   },
   {
    "duration": 16,
    "start_time": "2023-05-11T22:45:31.846Z"
   },
   {
    "duration": 3,
    "start_time": "2023-05-11T22:45:31.863Z"
   },
   {
    "duration": 18,
    "start_time": "2023-05-11T22:45:31.867Z"
   },
   {
    "duration": 99,
    "start_time": "2023-05-11T22:45:31.886Z"
   },
   {
    "duration": 0,
    "start_time": "2023-05-11T22:45:31.987Z"
   },
   {
    "duration": 0,
    "start_time": "2023-05-11T22:45:31.988Z"
   },
   {
    "duration": 0,
    "start_time": "2023-05-11T22:45:31.989Z"
   },
   {
    "duration": 0,
    "start_time": "2023-05-11T22:45:31.990Z"
   },
   {
    "duration": 0,
    "start_time": "2023-05-11T22:45:31.991Z"
   },
   {
    "duration": 0,
    "start_time": "2023-05-11T22:45:31.992Z"
   },
   {
    "duration": 0,
    "start_time": "2023-05-11T22:45:31.993Z"
   },
   {
    "duration": 0,
    "start_time": "2023-05-11T22:45:31.994Z"
   },
   {
    "duration": 0,
    "start_time": "2023-05-11T22:45:31.995Z"
   },
   {
    "duration": 0,
    "start_time": "2023-05-11T22:45:31.996Z"
   },
   {
    "duration": 0,
    "start_time": "2023-05-11T22:45:31.997Z"
   },
   {
    "duration": 0,
    "start_time": "2023-05-11T22:45:31.998Z"
   },
   {
    "duration": 0,
    "start_time": "2023-05-11T22:45:31.999Z"
   },
   {
    "duration": 0,
    "start_time": "2023-05-11T22:45:32.000Z"
   },
   {
    "duration": 0,
    "start_time": "2023-05-11T22:45:32.001Z"
   },
   {
    "duration": 0,
    "start_time": "2023-05-11T22:45:32.002Z"
   },
   {
    "duration": 0,
    "start_time": "2023-05-11T22:45:32.003Z"
   },
   {
    "duration": 1280,
    "start_time": "2023-05-11T22:46:11.762Z"
   },
   {
    "duration": 35,
    "start_time": "2023-05-11T22:46:13.043Z"
   },
   {
    "duration": 18,
    "start_time": "2023-05-11T22:46:13.080Z"
   },
   {
    "duration": 4,
    "start_time": "2023-05-11T22:46:13.100Z"
   },
   {
    "duration": 14,
    "start_time": "2023-05-11T22:46:13.106Z"
   },
   {
    "duration": 44,
    "start_time": "2023-05-11T22:46:13.121Z"
   },
   {
    "duration": 4,
    "start_time": "2023-05-11T22:46:13.166Z"
   },
   {
    "duration": 6,
    "start_time": "2023-05-11T22:46:13.172Z"
   },
   {
    "duration": 11,
    "start_time": "2023-05-11T22:46:13.179Z"
   },
   {
    "duration": 12,
    "start_time": "2023-05-11T22:46:13.192Z"
   },
   {
    "duration": 8,
    "start_time": "2023-05-11T22:46:13.205Z"
   },
   {
    "duration": 38,
    "start_time": "2023-05-11T22:46:13.214Z"
   },
   {
    "duration": 4,
    "start_time": "2023-05-11T22:46:13.254Z"
   },
   {
    "duration": 11,
    "start_time": "2023-05-11T22:46:13.259Z"
   },
   {
    "duration": 11,
    "start_time": "2023-05-11T22:46:13.271Z"
   },
   {
    "duration": 4,
    "start_time": "2023-05-11T22:46:13.284Z"
   },
   {
    "duration": 20,
    "start_time": "2023-05-11T22:46:13.290Z"
   },
   {
    "duration": 38,
    "start_time": "2023-05-11T22:46:13.312Z"
   },
   {
    "duration": 20,
    "start_time": "2023-05-11T22:46:13.352Z"
   },
   {
    "duration": 16,
    "start_time": "2023-05-11T22:46:13.374Z"
   },
   {
    "duration": 4,
    "start_time": "2023-05-11T22:46:13.391Z"
   },
   {
    "duration": 10,
    "start_time": "2023-05-11T22:46:13.396Z"
   },
   {
    "duration": 124,
    "start_time": "2023-05-11T22:46:13.408Z"
   },
   {
    "duration": 0,
    "start_time": "2023-05-11T22:46:13.534Z"
   },
   {
    "duration": 0,
    "start_time": "2023-05-11T22:46:13.535Z"
   },
   {
    "duration": 0,
    "start_time": "2023-05-11T22:46:13.536Z"
   },
   {
    "duration": 0,
    "start_time": "2023-05-11T22:46:13.537Z"
   },
   {
    "duration": 0,
    "start_time": "2023-05-11T22:46:13.538Z"
   },
   {
    "duration": 0,
    "start_time": "2023-05-11T22:46:13.539Z"
   },
   {
    "duration": 0,
    "start_time": "2023-05-11T22:46:13.540Z"
   },
   {
    "duration": 0,
    "start_time": "2023-05-11T22:46:13.549Z"
   },
   {
    "duration": 0,
    "start_time": "2023-05-11T22:46:13.550Z"
   },
   {
    "duration": 0,
    "start_time": "2023-05-11T22:46:13.552Z"
   },
   {
    "duration": 0,
    "start_time": "2023-05-11T22:46:13.553Z"
   },
   {
    "duration": 0,
    "start_time": "2023-05-11T22:46:13.554Z"
   },
   {
    "duration": 0,
    "start_time": "2023-05-11T22:46:13.555Z"
   },
   {
    "duration": 0,
    "start_time": "2023-05-11T22:46:13.556Z"
   },
   {
    "duration": 0,
    "start_time": "2023-05-11T22:46:13.557Z"
   },
   {
    "duration": 0,
    "start_time": "2023-05-11T22:46:13.558Z"
   },
   {
    "duration": 0,
    "start_time": "2023-05-11T22:46:13.559Z"
   },
   {
    "duration": 1311,
    "start_time": "2023-05-11T22:47:44.641Z"
   },
   {
    "duration": 35,
    "start_time": "2023-05-11T22:47:45.954Z"
   },
   {
    "duration": 16,
    "start_time": "2023-05-11T22:47:45.990Z"
   },
   {
    "duration": 4,
    "start_time": "2023-05-11T22:47:46.007Z"
   },
   {
    "duration": 25,
    "start_time": "2023-05-11T22:47:46.013Z"
   },
   {
    "duration": 36,
    "start_time": "2023-05-11T22:47:46.039Z"
   },
   {
    "duration": 4,
    "start_time": "2023-05-11T22:47:46.076Z"
   },
   {
    "duration": 6,
    "start_time": "2023-05-11T22:47:46.081Z"
   },
   {
    "duration": 10,
    "start_time": "2023-05-11T22:47:46.088Z"
   },
   {
    "duration": 12,
    "start_time": "2023-05-11T22:47:46.099Z"
   },
   {
    "duration": 7,
    "start_time": "2023-05-11T22:47:46.112Z"
   },
   {
    "duration": 30,
    "start_time": "2023-05-11T22:47:46.120Z"
   },
   {
    "duration": 4,
    "start_time": "2023-05-11T22:47:46.151Z"
   },
   {
    "duration": 4,
    "start_time": "2023-05-11T22:47:46.157Z"
   },
   {
    "duration": 11,
    "start_time": "2023-05-11T22:47:46.162Z"
   },
   {
    "duration": 4,
    "start_time": "2023-05-11T22:47:46.174Z"
   },
   {
    "duration": 26,
    "start_time": "2023-05-11T22:47:46.179Z"
   },
   {
    "duration": 44,
    "start_time": "2023-05-11T22:47:46.207Z"
   },
   {
    "duration": 4,
    "start_time": "2023-05-11T22:47:46.252Z"
   },
   {
    "duration": 11,
    "start_time": "2023-05-11T22:47:46.258Z"
   },
   {
    "duration": 128,
    "start_time": "2023-05-11T22:47:46.271Z"
   },
   {
    "duration": 0,
    "start_time": "2023-05-11T22:47:46.401Z"
   },
   {
    "duration": 0,
    "start_time": "2023-05-11T22:47:46.402Z"
   },
   {
    "duration": 0,
    "start_time": "2023-05-11T22:47:46.403Z"
   },
   {
    "duration": 0,
    "start_time": "2023-05-11T22:47:46.404Z"
   },
   {
    "duration": 0,
    "start_time": "2023-05-11T22:47:46.405Z"
   },
   {
    "duration": 0,
    "start_time": "2023-05-11T22:47:46.406Z"
   },
   {
    "duration": 0,
    "start_time": "2023-05-11T22:47:46.407Z"
   },
   {
    "duration": 0,
    "start_time": "2023-05-11T22:47:46.408Z"
   },
   {
    "duration": 0,
    "start_time": "2023-05-11T22:47:46.409Z"
   },
   {
    "duration": 0,
    "start_time": "2023-05-11T22:47:46.409Z"
   },
   {
    "duration": 0,
    "start_time": "2023-05-11T22:47:46.410Z"
   },
   {
    "duration": 0,
    "start_time": "2023-05-11T22:47:46.412Z"
   },
   {
    "duration": 0,
    "start_time": "2023-05-11T22:47:46.413Z"
   },
   {
    "duration": 0,
    "start_time": "2023-05-11T22:47:46.414Z"
   },
   {
    "duration": 0,
    "start_time": "2023-05-11T22:47:46.414Z"
   },
   {
    "duration": 0,
    "start_time": "2023-05-11T22:47:46.415Z"
   },
   {
    "duration": 0,
    "start_time": "2023-05-11T22:47:46.416Z"
   },
   {
    "duration": 1261,
    "start_time": "2023-05-11T22:54:49.951Z"
   },
   {
    "duration": 34,
    "start_time": "2023-05-11T22:54:51.213Z"
   },
   {
    "duration": 18,
    "start_time": "2023-05-11T22:54:51.248Z"
   },
   {
    "duration": 15,
    "start_time": "2023-05-11T22:54:51.267Z"
   },
   {
    "duration": 29,
    "start_time": "2023-05-11T22:54:51.284Z"
   },
   {
    "duration": 48,
    "start_time": "2023-05-11T22:54:51.314Z"
   },
   {
    "duration": 4,
    "start_time": "2023-05-11T22:54:51.364Z"
   },
   {
    "duration": 31,
    "start_time": "2023-05-11T22:54:51.370Z"
   },
   {
    "duration": 13,
    "start_time": "2023-05-11T22:54:51.403Z"
   },
   {
    "duration": 27,
    "start_time": "2023-05-11T22:54:51.418Z"
   },
   {
    "duration": 25,
    "start_time": "2023-05-11T22:54:51.446Z"
   },
   {
    "duration": 25,
    "start_time": "2023-05-11T22:54:51.473Z"
   },
   {
    "duration": 44,
    "start_time": "2023-05-11T22:54:51.499Z"
   },
   {
    "duration": 18,
    "start_time": "2023-05-11T22:54:51.547Z"
   },
   {
    "duration": 14,
    "start_time": "2023-05-11T22:54:51.567Z"
   },
   {
    "duration": 3,
    "start_time": "2023-05-11T22:54:51.583Z"
   },
   {
    "duration": 763,
    "start_time": "2023-05-11T22:54:51.587Z"
   },
   {
    "duration": 0,
    "start_time": "2023-05-11T22:54:52.352Z"
   },
   {
    "duration": 0,
    "start_time": "2023-05-11T22:54:52.354Z"
   },
   {
    "duration": 0,
    "start_time": "2023-05-11T22:54:52.355Z"
   },
   {
    "duration": 0,
    "start_time": "2023-05-11T22:54:52.357Z"
   },
   {
    "duration": 0,
    "start_time": "2023-05-11T22:54:52.358Z"
   },
   {
    "duration": 0,
    "start_time": "2023-05-11T22:54:52.360Z"
   },
   {
    "duration": 0,
    "start_time": "2023-05-11T22:54:52.361Z"
   },
   {
    "duration": 0,
    "start_time": "2023-05-11T22:54:52.362Z"
   },
   {
    "duration": 0,
    "start_time": "2023-05-11T22:54:52.363Z"
   },
   {
    "duration": 0,
    "start_time": "2023-05-11T22:54:52.364Z"
   },
   {
    "duration": 0,
    "start_time": "2023-05-11T22:54:52.366Z"
   },
   {
    "duration": 0,
    "start_time": "2023-05-11T22:54:52.367Z"
   },
   {
    "duration": 0,
    "start_time": "2023-05-11T22:54:52.368Z"
   },
   {
    "duration": 0,
    "start_time": "2023-05-11T22:54:52.370Z"
   },
   {
    "duration": 0,
    "start_time": "2023-05-11T22:54:52.371Z"
   },
   {
    "duration": 0,
    "start_time": "2023-05-11T22:54:52.373Z"
   },
   {
    "duration": 0,
    "start_time": "2023-05-11T22:54:52.374Z"
   },
   {
    "duration": 0,
    "start_time": "2023-05-11T22:54:52.375Z"
   },
   {
    "duration": 0,
    "start_time": "2023-05-11T22:54:52.376Z"
   },
   {
    "duration": 0,
    "start_time": "2023-05-11T22:54:52.378Z"
   },
   {
    "duration": 0,
    "start_time": "2023-05-11T22:54:52.379Z"
   },
   {
    "duration": 9,
    "start_time": "2023-05-11T22:55:24.743Z"
   },
   {
    "duration": 1282,
    "start_time": "2023-05-11T22:55:46.349Z"
   },
   {
    "duration": 34,
    "start_time": "2023-05-11T22:55:47.633Z"
   },
   {
    "duration": 16,
    "start_time": "2023-05-11T22:55:47.669Z"
   },
   {
    "duration": 4,
    "start_time": "2023-05-11T22:55:47.686Z"
   },
   {
    "duration": 12,
    "start_time": "2023-05-11T22:55:47.692Z"
   },
   {
    "duration": 51,
    "start_time": "2023-05-11T22:55:47.705Z"
   },
   {
    "duration": 4,
    "start_time": "2023-05-11T22:55:47.757Z"
   },
   {
    "duration": 25,
    "start_time": "2023-05-11T22:55:47.763Z"
   },
   {
    "duration": 29,
    "start_time": "2023-05-11T22:55:47.789Z"
   },
   {
    "duration": 13,
    "start_time": "2023-05-11T22:55:47.819Z"
   },
   {
    "duration": 8,
    "start_time": "2023-05-11T22:55:47.833Z"
   },
   {
    "duration": 7,
    "start_time": "2023-05-11T22:55:47.842Z"
   },
   {
    "duration": 4,
    "start_time": "2023-05-11T22:55:47.850Z"
   },
   {
    "duration": 4,
    "start_time": "2023-05-11T22:55:47.856Z"
   },
   {
    "duration": 10,
    "start_time": "2023-05-11T22:55:47.861Z"
   },
   {
    "duration": 3,
    "start_time": "2023-05-11T22:55:47.872Z"
   },
   {
    "duration": 11,
    "start_time": "2023-05-11T22:55:47.877Z"
   },
   {
    "duration": 2,
    "start_time": "2023-05-11T22:55:47.889Z"
   },
   {
    "duration": 5,
    "start_time": "2023-05-11T22:55:47.892Z"
   },
   {
    "duration": 125,
    "start_time": "2023-05-11T22:55:47.898Z"
   },
   {
    "duration": 0,
    "start_time": "2023-05-11T22:55:48.025Z"
   },
   {
    "duration": 0,
    "start_time": "2023-05-11T22:55:48.026Z"
   },
   {
    "duration": 0,
    "start_time": "2023-05-11T22:55:48.027Z"
   },
   {
    "duration": 0,
    "start_time": "2023-05-11T22:55:48.028Z"
   },
   {
    "duration": 0,
    "start_time": "2023-05-11T22:55:48.029Z"
   },
   {
    "duration": 0,
    "start_time": "2023-05-11T22:55:48.030Z"
   },
   {
    "duration": 0,
    "start_time": "2023-05-11T22:55:48.031Z"
   },
   {
    "duration": 0,
    "start_time": "2023-05-11T22:55:48.032Z"
   },
   {
    "duration": 0,
    "start_time": "2023-05-11T22:55:48.050Z"
   },
   {
    "duration": 0,
    "start_time": "2023-05-11T22:55:48.051Z"
   },
   {
    "duration": 0,
    "start_time": "2023-05-11T22:55:48.052Z"
   },
   {
    "duration": 0,
    "start_time": "2023-05-11T22:55:48.053Z"
   },
   {
    "duration": 0,
    "start_time": "2023-05-11T22:55:48.054Z"
   },
   {
    "duration": 0,
    "start_time": "2023-05-11T22:55:48.055Z"
   },
   {
    "duration": 0,
    "start_time": "2023-05-11T22:55:48.056Z"
   },
   {
    "duration": 0,
    "start_time": "2023-05-11T22:55:48.057Z"
   },
   {
    "duration": 0,
    "start_time": "2023-05-11T22:55:48.059Z"
   },
   {
    "duration": 0,
    "start_time": "2023-05-11T22:55:48.060Z"
   },
   {
    "duration": 6,
    "start_time": "2023-05-11T22:56:16.950Z"
   },
   {
    "duration": 704,
    "start_time": "2023-05-11T22:56:31.286Z"
   },
   {
    "duration": 6,
    "start_time": "2023-05-11T22:58:29.447Z"
   },
   {
    "duration": 1263,
    "start_time": "2023-05-11T22:58:38.242Z"
   },
   {
    "duration": 35,
    "start_time": "2023-05-11T22:58:39.507Z"
   },
   {
    "duration": 17,
    "start_time": "2023-05-11T22:58:39.543Z"
   },
   {
    "duration": 3,
    "start_time": "2023-05-11T22:58:39.562Z"
   },
   {
    "duration": 12,
    "start_time": "2023-05-11T22:58:39.567Z"
   },
   {
    "duration": 36,
    "start_time": "2023-05-11T22:58:39.580Z"
   },
   {
    "duration": 4,
    "start_time": "2023-05-11T22:58:39.617Z"
   },
   {
    "duration": 31,
    "start_time": "2023-05-11T22:58:39.622Z"
   },
   {
    "duration": 10,
    "start_time": "2023-05-11T22:58:39.654Z"
   },
   {
    "duration": 12,
    "start_time": "2023-05-11T22:58:39.665Z"
   },
   {
    "duration": 7,
    "start_time": "2023-05-11T22:58:39.678Z"
   },
   {
    "duration": 7,
    "start_time": "2023-05-11T22:58:39.686Z"
   },
   {
    "duration": 4,
    "start_time": "2023-05-11T22:58:39.694Z"
   },
   {
    "duration": 5,
    "start_time": "2023-05-11T22:58:39.700Z"
   },
   {
    "duration": 10,
    "start_time": "2023-05-11T22:58:39.706Z"
   },
   {
    "duration": 4,
    "start_time": "2023-05-11T22:58:39.750Z"
   },
   {
    "duration": 18,
    "start_time": "2023-05-11T22:58:39.755Z"
   },
   {
    "duration": 2,
    "start_time": "2023-05-11T22:58:39.774Z"
   },
   {
    "duration": 6,
    "start_time": "2023-05-11T22:58:39.777Z"
   },
   {
    "duration": 5,
    "start_time": "2023-05-11T22:58:39.784Z"
   },
   {
    "duration": 9,
    "start_time": "2023-05-11T22:58:39.790Z"
   },
   {
    "duration": 3,
    "start_time": "2023-05-11T22:58:39.800Z"
   },
   {
    "duration": 5,
    "start_time": "2023-05-11T22:58:39.804Z"
   },
   {
    "duration": 47,
    "start_time": "2023-05-11T22:58:39.810Z"
   },
   {
    "duration": 129659,
    "start_time": "2023-05-11T22:58:39.858Z"
   },
   {
    "duration": 232,
    "start_time": "2023-05-11T23:00:49.518Z"
   },
   {
    "duration": 4,
    "start_time": "2023-05-11T23:00:49.753Z"
   },
   {
    "duration": 96,
    "start_time": "2023-05-11T23:00:49.759Z"
   },
   {
    "duration": 78701,
    "start_time": "2023-05-11T23:00:49.857Z"
   },
   {
    "duration": 32549,
    "start_time": "2023-05-11T23:02:08.559Z"
   },
   {
    "duration": 229,
    "start_time": "2023-05-11T23:02:41.109Z"
   },
   {
    "duration": 110,
    "start_time": "2023-05-11T23:02:41.340Z"
   },
   {
    "duration": 300,
    "start_time": "2023-05-11T23:02:41.452Z"
   },
   {
    "duration": 293,
    "start_time": "2023-05-11T23:02:41.757Z"
   },
   {
    "duration": 615,
    "start_time": "2023-05-11T23:02:42.055Z"
   },
   {
    "duration": 180,
    "start_time": "2023-05-11T23:02:42.671Z"
   },
   {
    "duration": 652,
    "start_time": "2023-05-11T23:02:42.852Z"
   },
   {
    "duration": 233,
    "start_time": "2023-05-11T23:02:43.505Z"
   },
   {
    "duration": 1598,
    "start_time": "2024-01-25T22:39:59.447Z"
   },
   {
    "duration": 84,
    "start_time": "2024-01-25T22:40:01.047Z"
   },
   {
    "duration": 34,
    "start_time": "2024-01-25T22:40:01.133Z"
   },
   {
    "duration": 45,
    "start_time": "2024-01-25T22:40:01.169Z"
   },
   {
    "duration": 60,
    "start_time": "2024-01-25T22:40:01.216Z"
   },
   {
    "duration": 67,
    "start_time": "2024-01-25T22:40:01.278Z"
   },
   {
    "duration": 5,
    "start_time": "2024-01-25T22:40:01.347Z"
   },
   {
    "duration": 34,
    "start_time": "2024-01-25T22:40:01.354Z"
   },
   {
    "duration": 41,
    "start_time": "2024-01-25T22:40:01.389Z"
   },
   {
    "duration": 23,
    "start_time": "2024-01-25T22:40:01.433Z"
   },
   {
    "duration": 19,
    "start_time": "2024-01-25T22:40:01.458Z"
   },
   {
    "duration": 29,
    "start_time": "2024-01-25T22:40:01.479Z"
   },
   {
    "duration": 28,
    "start_time": "2024-01-25T22:40:01.510Z"
   },
   {
    "duration": 20,
    "start_time": "2024-01-25T22:40:01.540Z"
   },
   {
    "duration": 45,
    "start_time": "2024-01-25T22:40:01.561Z"
   },
   {
    "duration": 11,
    "start_time": "2024-01-25T22:40:01.608Z"
   },
   {
    "duration": 25,
    "start_time": "2024-01-25T22:40:01.620Z"
   },
   {
    "duration": 34,
    "start_time": "2024-01-25T22:40:01.647Z"
   },
   {
    "duration": 33,
    "start_time": "2024-01-25T22:40:01.683Z"
   },
   {
    "duration": 13,
    "start_time": "2024-01-25T22:40:01.719Z"
   },
   {
    "duration": 31,
    "start_time": "2024-01-25T22:40:01.734Z"
   },
   {
    "duration": 24,
    "start_time": "2024-01-25T22:40:01.767Z"
   },
   {
    "duration": 10,
    "start_time": "2024-01-25T22:40:01.793Z"
   },
   {
    "duration": 43,
    "start_time": "2024-01-25T22:40:01.804Z"
   },
   {
    "duration": 155050,
    "start_time": "2024-01-25T22:40:01.849Z"
   },
   {
    "duration": 463,
    "start_time": "2024-01-25T22:42:36.901Z"
   },
   {
    "duration": 94,
    "start_time": "2024-01-25T22:42:37.366Z"
   },
   {
    "duration": 8,
    "start_time": "2024-01-25T22:42:37.466Z"
   },
   {
    "duration": 95314,
    "start_time": "2024-01-25T22:42:37.476Z"
   },
   {
    "duration": 38659,
    "start_time": "2024-01-25T22:44:12.791Z"
   },
   {
    "duration": 250,
    "start_time": "2024-01-25T22:44:51.452Z"
   },
   {
    "duration": 261,
    "start_time": "2024-01-25T22:44:51.704Z"
   },
   {
    "duration": 499,
    "start_time": "2024-01-25T22:44:51.967Z"
   },
   {
    "duration": 304,
    "start_time": "2024-01-25T22:44:52.560Z"
   },
   {
    "duration": 807,
    "start_time": "2024-01-25T22:44:52.866Z"
   },
   {
    "duration": 208,
    "start_time": "2024-01-25T22:44:53.675Z"
   },
   {
    "duration": 756,
    "start_time": "2024-01-25T22:44:53.885Z"
   },
   {
    "duration": 268,
    "start_time": "2024-01-25T22:44:54.643Z"
   },
   {
    "duration": 210,
    "start_time": "2024-01-25T22:44:54.915Z"
   },
   {
    "duration": 1395,
    "start_time": "2024-01-25T22:47:58.279Z"
   },
   {
    "duration": 43,
    "start_time": "2024-01-25T22:47:59.676Z"
   },
   {
    "duration": 20,
    "start_time": "2024-01-25T22:47:59.721Z"
   },
   {
    "duration": 5,
    "start_time": "2024-01-25T22:47:59.742Z"
   },
   {
    "duration": 17,
    "start_time": "2024-01-25T22:47:59.749Z"
   },
   {
    "duration": 41,
    "start_time": "2024-01-25T22:47:59.768Z"
   },
   {
    "duration": 5,
    "start_time": "2024-01-25T22:47:59.811Z"
   },
   {
    "duration": 6,
    "start_time": "2024-01-25T22:47:59.817Z"
   },
   {
    "duration": 37,
    "start_time": "2024-01-25T22:47:59.825Z"
   },
   {
    "duration": 14,
    "start_time": "2024-01-25T22:47:59.864Z"
   },
   {
    "duration": 9,
    "start_time": "2024-01-25T22:47:59.880Z"
   },
   {
    "duration": 8,
    "start_time": "2024-01-25T22:47:59.891Z"
   },
   {
    "duration": 5,
    "start_time": "2024-01-25T22:47:59.901Z"
   },
   {
    "duration": 5,
    "start_time": "2024-01-25T22:47:59.908Z"
   },
   {
    "duration": 52,
    "start_time": "2024-01-25T22:47:59.915Z"
   },
   {
    "duration": 3,
    "start_time": "2024-01-25T22:47:59.969Z"
   },
   {
    "duration": 6,
    "start_time": "2024-01-25T22:47:59.974Z"
   },
   {
    "duration": 5,
    "start_time": "2024-01-25T22:47:59.982Z"
   },
   {
    "duration": 5,
    "start_time": "2024-01-25T22:47:59.988Z"
   },
   {
    "duration": 20,
    "start_time": "2024-01-25T22:47:59.994Z"
   },
   {
    "duration": 53,
    "start_time": "2024-01-25T22:48:00.016Z"
   },
   {
    "duration": 27,
    "start_time": "2024-01-25T22:48:00.070Z"
   },
   {
    "duration": 33,
    "start_time": "2024-01-25T22:48:00.099Z"
   },
   {
    "duration": 146,
    "start_time": "2024-01-25T22:48:00.134Z"
   },
   {
    "duration": 0,
    "start_time": "2024-01-25T22:48:00.282Z"
   },
   {
    "duration": 0,
    "start_time": "2024-01-25T22:48:00.283Z"
   },
   {
    "duration": 0,
    "start_time": "2024-01-25T22:48:00.284Z"
   },
   {
    "duration": 0,
    "start_time": "2024-01-25T22:48:00.285Z"
   },
   {
    "duration": 0,
    "start_time": "2024-01-25T22:48:00.286Z"
   },
   {
    "duration": 0,
    "start_time": "2024-01-25T22:48:00.287Z"
   },
   {
    "duration": 0,
    "start_time": "2024-01-25T22:48:00.288Z"
   },
   {
    "duration": 0,
    "start_time": "2024-01-25T22:48:00.289Z"
   },
   {
    "duration": 0,
    "start_time": "2024-01-25T22:48:00.290Z"
   },
   {
    "duration": 0,
    "start_time": "2024-01-25T22:48:00.291Z"
   },
   {
    "duration": 0,
    "start_time": "2024-01-25T22:48:00.292Z"
   },
   {
    "duration": 0,
    "start_time": "2024-01-25T22:48:00.293Z"
   },
   {
    "duration": 0,
    "start_time": "2024-01-25T22:48:00.294Z"
   },
   {
    "duration": 0,
    "start_time": "2024-01-25T22:48:00.295Z"
   },
   {
    "duration": 0,
    "start_time": "2024-01-25T22:48:00.296Z"
   },
   {
    "duration": 11,
    "start_time": "2024-01-25T22:48:43.226Z"
   },
   {
    "duration": 24,
    "start_time": "2024-01-25T22:49:00.278Z"
   },
   {
    "duration": 14,
    "start_time": "2024-01-25T22:49:11.642Z"
   },
   {
    "duration": 0,
    "start_time": "2024-01-25T22:49:11.657Z"
   },
   {
    "duration": 0,
    "start_time": "2024-01-25T22:49:11.659Z"
   },
   {
    "duration": 0,
    "start_time": "2024-01-25T22:49:11.660Z"
   },
   {
    "duration": 0,
    "start_time": "2024-01-25T22:49:11.661Z"
   },
   {
    "duration": 0,
    "start_time": "2024-01-25T22:49:11.663Z"
   },
   {
    "duration": 0,
    "start_time": "2024-01-25T22:49:11.664Z"
   },
   {
    "duration": 0,
    "start_time": "2024-01-25T22:49:11.664Z"
   },
   {
    "duration": 0,
    "start_time": "2024-01-25T22:49:11.665Z"
   },
   {
    "duration": 0,
    "start_time": "2024-01-25T22:49:11.667Z"
   },
   {
    "duration": 0,
    "start_time": "2024-01-25T22:49:11.667Z"
   },
   {
    "duration": 0,
    "start_time": "2024-01-25T22:49:11.669Z"
   },
   {
    "duration": 10,
    "start_time": "2024-01-25T22:49:11.670Z"
   },
   {
    "duration": 0,
    "start_time": "2024-01-25T22:49:11.682Z"
   },
   {
    "duration": 0,
    "start_time": "2024-01-25T22:49:11.683Z"
   },
   {
    "duration": 0,
    "start_time": "2024-01-25T22:49:11.684Z"
   },
   {
    "duration": 15,
    "start_time": "2024-01-25T22:49:32.625Z"
   },
   {
    "duration": 1395,
    "start_time": "2024-01-25T22:50:05.061Z"
   },
   {
    "duration": 43,
    "start_time": "2024-01-25T22:50:06.459Z"
   },
   {
    "duration": 18,
    "start_time": "2024-01-25T22:50:06.504Z"
   },
   {
    "duration": 10,
    "start_time": "2024-01-25T22:50:06.524Z"
   },
   {
    "duration": 13,
    "start_time": "2024-01-25T22:50:06.536Z"
   },
   {
    "duration": 51,
    "start_time": "2024-01-25T22:50:06.550Z"
   },
   {
    "duration": 5,
    "start_time": "2024-01-25T22:50:06.602Z"
   },
   {
    "duration": 10,
    "start_time": "2024-01-25T22:50:06.609Z"
   },
   {
    "duration": 31,
    "start_time": "2024-01-25T22:50:06.621Z"
   },
   {
    "duration": 16,
    "start_time": "2024-01-25T22:50:06.654Z"
   },
   {
    "duration": 21,
    "start_time": "2024-01-25T22:50:06.671Z"
   },
   {
    "duration": 14,
    "start_time": "2024-01-25T22:50:06.693Z"
   },
   {
    "duration": 8,
    "start_time": "2024-01-25T22:50:06.709Z"
   },
   {
    "duration": 13,
    "start_time": "2024-01-25T22:50:06.720Z"
   },
   {
    "duration": 18,
    "start_time": "2024-01-25T22:50:06.734Z"
   },
   {
    "duration": 8,
    "start_time": "2024-01-25T22:50:06.753Z"
   },
   {
    "duration": 6,
    "start_time": "2024-01-25T22:50:06.763Z"
   },
   {
    "duration": 11,
    "start_time": "2024-01-25T22:50:06.770Z"
   },
   {
    "duration": 5,
    "start_time": "2024-01-25T22:50:06.782Z"
   },
   {
    "duration": 5,
    "start_time": "2024-01-25T22:50:06.788Z"
   },
   {
    "duration": 13,
    "start_time": "2024-01-25T22:50:06.794Z"
   },
   {
    "duration": 7,
    "start_time": "2024-01-25T22:50:06.809Z"
   },
   {
    "duration": 15,
    "start_time": "2024-01-25T22:50:06.817Z"
   },
   {
    "duration": 11,
    "start_time": "2024-01-25T22:50:06.834Z"
   },
   {
    "duration": 31,
    "start_time": "2024-01-25T22:50:06.847Z"
   },
   {
    "duration": 32,
    "start_time": "2024-01-25T22:50:06.879Z"
   },
   {
    "duration": 156023,
    "start_time": "2024-01-25T22:50:06.913Z"
   },
   {
    "duration": 321,
    "start_time": "2024-01-25T22:52:42.938Z"
   },
   {
    "duration": 97,
    "start_time": "2024-01-25T22:52:43.262Z"
   },
   {
    "duration": 7,
    "start_time": "2024-01-25T22:52:43.360Z"
   },
   {
    "duration": 95000,
    "start_time": "2024-01-25T22:52:43.369Z"
   },
   {
    "duration": 38718,
    "start_time": "2024-01-25T22:54:18.371Z"
   },
   {
    "duration": 266,
    "start_time": "2024-01-25T22:54:57.092Z"
   },
   {
    "duration": 111,
    "start_time": "2024-01-25T22:54:57.360Z"
   },
   {
    "duration": 306,
    "start_time": "2024-01-25T22:54:57.657Z"
   },
   {
    "duration": 297,
    "start_time": "2024-01-25T22:54:57.966Z"
   },
   {
    "duration": 748,
    "start_time": "2024-01-25T22:54:58.266Z"
   },
   {
    "duration": 212,
    "start_time": "2024-01-25T22:54:59.016Z"
   },
   {
    "duration": 770,
    "start_time": "2024-01-25T22:54:59.230Z"
   },
   {
    "duration": 276,
    "start_time": "2024-01-25T22:55:00.002Z"
   }
  ],
  "kernelspec": {
   "display_name": "Python 3 (ipykernel)",
   "language": "python",
   "name": "python3"
  },
  "language_info": {
   "codemirror_mode": {
    "name": "ipython",
    "version": 3
   },
   "file_extension": ".py",
   "mimetype": "text/x-python",
   "name": "python",
   "nbconvert_exporter": "python",
   "pygments_lexer": "ipython3",
   "version": "3.9.5"
  },
  "toc": {
   "base_numbering": 1,
   "nav_menu": {},
   "number_sections": true,
   "sideBar": true,
   "skip_h1_title": true,
   "title_cell": "Содержание",
   "title_sidebar": "Contents",
   "toc_cell": true,
   "toc_position": {
    "height": "calc(100% - 180px)",
    "left": "10px",
    "top": "150px",
    "width": "285.434px"
   },
   "toc_section_display": true,
   "toc_window_display": false
  }
 },
 "nbformat": 4,
 "nbformat_minor": 2
}
