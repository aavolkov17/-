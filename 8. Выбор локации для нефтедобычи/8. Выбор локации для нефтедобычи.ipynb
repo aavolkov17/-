{
 "cells": [
  {
   "cell_type": "markdown",
   "metadata": {},
   "source": [
    "# Выбор локации для скважины"
   ]
  },
  {
   "cell_type": "markdown",
   "metadata": {},
   "source": [
    "Допустим, вы работаете в добывающей компании «ГлавРосГосНефть». Нужно решить, где бурить новую скважину.\n",
    "\n",
    "Вам предоставлены пробы нефти в трёх регионах: в каждом 10 000 месторождений, где измерили качество нефти и объём её запасов. Постройте модель машинного обучения, которая поможет определить регион, где добыча принесёт наибольшую прибыль. Проанализируйте возможную прибыль и риски техникой *Bootstrap.*\n",
    "\n",
    "Шаги для выбора локации:\n",
    "\n",
    "- В избранном регионе ищут месторождения, для каждого определяют значения признаков;\n",
    "- Строят модель и оценивают объём запасов;\n",
    "- Выбирают месторождения с самым высокими оценками значений. Количество месторождений зависит от бюджета компании и стоимости разработки одной скважины;\n",
    "- Прибыль равна суммарной прибыли отобранных месторождений."
   ]
  },
  {
   "cell_type": "markdown",
   "metadata": {},
   "source": [
    "## Загрузка и подготовка данных"
   ]
  },
  {
   "cell_type": "code",
   "execution_count": 1,
   "metadata": {},
   "outputs": [],
   "source": [
    "import pandas as pd\n",
    "from sklearn.model_selection import train_test_split\n",
    "from numpy.random import RandomState\n",
    "from sklearn.linear_model import LinearRegression\n",
    "from sklearn.metrics import mean_squared_error"
   ]
  },
  {
   "cell_type": "markdown",
   "metadata": {},
   "source": [
    "### Регион 1"
   ]
  },
  {
   "cell_type": "code",
   "execution_count": 2,
   "metadata": {},
   "outputs": [
    {
     "data": {
      "text/html": [
       "<div>\n",
       "<style scoped>\n",
       "    .dataframe tbody tr th:only-of-type {\n",
       "        vertical-align: middle;\n",
       "    }\n",
       "\n",
       "    .dataframe tbody tr th {\n",
       "        vertical-align: top;\n",
       "    }\n",
       "\n",
       "    .dataframe thead th {\n",
       "        text-align: right;\n",
       "    }\n",
       "</style>\n",
       "<table border=\"1\" class=\"dataframe\">\n",
       "  <thead>\n",
       "    <tr style=\"text-align: right;\">\n",
       "      <th></th>\n",
       "      <th>id</th>\n",
       "      <th>f0</th>\n",
       "      <th>f1</th>\n",
       "      <th>f2</th>\n",
       "      <th>product</th>\n",
       "    </tr>\n",
       "  </thead>\n",
       "  <tbody>\n",
       "    <tr>\n",
       "      <th>0</th>\n",
       "      <td>txEyH</td>\n",
       "      <td>0.705745</td>\n",
       "      <td>-0.497823</td>\n",
       "      <td>1.221170</td>\n",
       "      <td>105.280062</td>\n",
       "    </tr>\n",
       "    <tr>\n",
       "      <th>1</th>\n",
       "      <td>2acmU</td>\n",
       "      <td>1.334711</td>\n",
       "      <td>-0.340164</td>\n",
       "      <td>4.365080</td>\n",
       "      <td>73.037750</td>\n",
       "    </tr>\n",
       "    <tr>\n",
       "      <th>2</th>\n",
       "      <td>409Wp</td>\n",
       "      <td>1.022732</td>\n",
       "      <td>0.151990</td>\n",
       "      <td>1.419926</td>\n",
       "      <td>85.265647</td>\n",
       "    </tr>\n",
       "    <tr>\n",
       "      <th>3</th>\n",
       "      <td>iJLyR</td>\n",
       "      <td>-0.032172</td>\n",
       "      <td>0.139033</td>\n",
       "      <td>2.978566</td>\n",
       "      <td>168.620776</td>\n",
       "    </tr>\n",
       "    <tr>\n",
       "      <th>4</th>\n",
       "      <td>Xdl7t</td>\n",
       "      <td>1.988431</td>\n",
       "      <td>0.155413</td>\n",
       "      <td>4.751769</td>\n",
       "      <td>154.036647</td>\n",
       "    </tr>\n",
       "  </tbody>\n",
       "</table>\n",
       "</div>"
      ],
      "text/plain": [
       "      id        f0        f1        f2     product\n",
       "0  txEyH  0.705745 -0.497823  1.221170  105.280062\n",
       "1  2acmU  1.334711 -0.340164  4.365080   73.037750\n",
       "2  409Wp  1.022732  0.151990  1.419926   85.265647\n",
       "3  iJLyR -0.032172  0.139033  2.978566  168.620776\n",
       "4  Xdl7t  1.988431  0.155413  4.751769  154.036647"
      ]
     },
     "execution_count": 2,
     "metadata": {},
     "output_type": "execute_result"
    }
   ],
   "source": [
    "data_1 = pd.read_csv('/datasets/geo_data_0.csv')\n",
    "data_1.head()"
   ]
  },
  {
   "cell_type": "code",
   "execution_count": 3,
   "metadata": {},
   "outputs": [
    {
     "name": "stdout",
     "output_type": "stream",
     "text": [
      "<class 'pandas.core.frame.DataFrame'>\n",
      "RangeIndex: 100000 entries, 0 to 99999\n",
      "Data columns (total 5 columns):\n",
      " #   Column   Non-Null Count   Dtype  \n",
      "---  ------   --------------   -----  \n",
      " 0   id       100000 non-null  object \n",
      " 1   f0       100000 non-null  float64\n",
      " 2   f1       100000 non-null  float64\n",
      " 3   f2       100000 non-null  float64\n",
      " 4   product  100000 non-null  float64\n",
      "dtypes: float64(4), object(1)\n",
      "memory usage: 3.8+ MB\n"
     ]
    }
   ],
   "source": [
    "data_1.info()"
   ]
  },
  {
   "cell_type": "code",
   "execution_count": 4,
   "metadata": {},
   "outputs": [
    {
     "data": {
      "text/plain": [
       "10"
      ]
     },
     "execution_count": 4,
     "metadata": {},
     "output_type": "execute_result"
    }
   ],
   "source": [
    "data_1[['id']].duplicated().sum()"
   ]
  },
  {
   "cell_type": "code",
   "execution_count": 5,
   "metadata": {},
   "outputs": [
    {
     "data": {
      "text/html": [
       "<div>\n",
       "<style scoped>\n",
       "    .dataframe tbody tr th:only-of-type {\n",
       "        vertical-align: middle;\n",
       "    }\n",
       "\n",
       "    .dataframe tbody tr th {\n",
       "        vertical-align: top;\n",
       "    }\n",
       "\n",
       "    .dataframe thead th {\n",
       "        text-align: right;\n",
       "    }\n",
       "</style>\n",
       "<table border=\"1\" class=\"dataframe\">\n",
       "  <thead>\n",
       "    <tr style=\"text-align: right;\">\n",
       "      <th></th>\n",
       "      <th>id</th>\n",
       "      <th>f0</th>\n",
       "      <th>f1</th>\n",
       "      <th>f2</th>\n",
       "      <th>product</th>\n",
       "    </tr>\n",
       "  </thead>\n",
       "  <tbody>\n",
       "    <tr>\n",
       "      <th>7530</th>\n",
       "      <td>HZww2</td>\n",
       "      <td>1.061194</td>\n",
       "      <td>-0.373969</td>\n",
       "      <td>10.430210</td>\n",
       "      <td>158.828695</td>\n",
       "    </tr>\n",
       "    <tr>\n",
       "      <th>41724</th>\n",
       "      <td>bxg6G</td>\n",
       "      <td>-0.823752</td>\n",
       "      <td>0.546319</td>\n",
       "      <td>3.630479</td>\n",
       "      <td>93.007798</td>\n",
       "    </tr>\n",
       "    <tr>\n",
       "      <th>51970</th>\n",
       "      <td>A5aEY</td>\n",
       "      <td>-0.180335</td>\n",
       "      <td>0.935548</td>\n",
       "      <td>-2.094773</td>\n",
       "      <td>33.020205</td>\n",
       "    </tr>\n",
       "    <tr>\n",
       "      <th>63593</th>\n",
       "      <td>QcMuo</td>\n",
       "      <td>0.635635</td>\n",
       "      <td>-0.473422</td>\n",
       "      <td>0.862670</td>\n",
       "      <td>64.578675</td>\n",
       "    </tr>\n",
       "    <tr>\n",
       "      <th>66136</th>\n",
       "      <td>74z30</td>\n",
       "      <td>1.084962</td>\n",
       "      <td>-0.312358</td>\n",
       "      <td>6.990771</td>\n",
       "      <td>127.643327</td>\n",
       "    </tr>\n",
       "    <tr>\n",
       "      <th>69163</th>\n",
       "      <td>AGS9W</td>\n",
       "      <td>-0.933795</td>\n",
       "      <td>0.116194</td>\n",
       "      <td>-3.655896</td>\n",
       "      <td>19.230453</td>\n",
       "    </tr>\n",
       "    <tr>\n",
       "      <th>75715</th>\n",
       "      <td>Tdehs</td>\n",
       "      <td>0.112079</td>\n",
       "      <td>0.430296</td>\n",
       "      <td>3.218993</td>\n",
       "      <td>60.964018</td>\n",
       "    </tr>\n",
       "    <tr>\n",
       "      <th>90815</th>\n",
       "      <td>fiKDv</td>\n",
       "      <td>0.049883</td>\n",
       "      <td>0.841313</td>\n",
       "      <td>6.394613</td>\n",
       "      <td>137.346586</td>\n",
       "    </tr>\n",
       "    <tr>\n",
       "      <th>92341</th>\n",
       "      <td>TtcGQ</td>\n",
       "      <td>0.110711</td>\n",
       "      <td>1.022689</td>\n",
       "      <td>0.911381</td>\n",
       "      <td>101.318008</td>\n",
       "    </tr>\n",
       "    <tr>\n",
       "      <th>97785</th>\n",
       "      <td>bsk9y</td>\n",
       "      <td>0.378429</td>\n",
       "      <td>0.005837</td>\n",
       "      <td>0.160827</td>\n",
       "      <td>160.637302</td>\n",
       "    </tr>\n",
       "  </tbody>\n",
       "</table>\n",
       "</div>"
      ],
      "text/plain": [
       "          id        f0        f1         f2     product\n",
       "7530   HZww2  1.061194 -0.373969  10.430210  158.828695\n",
       "41724  bxg6G -0.823752  0.546319   3.630479   93.007798\n",
       "51970  A5aEY -0.180335  0.935548  -2.094773   33.020205\n",
       "63593  QcMuo  0.635635 -0.473422   0.862670   64.578675\n",
       "66136  74z30  1.084962 -0.312358   6.990771  127.643327\n",
       "69163  AGS9W -0.933795  0.116194  -3.655896   19.230453\n",
       "75715  Tdehs  0.112079  0.430296   3.218993   60.964018\n",
       "90815  fiKDv  0.049883  0.841313   6.394613  137.346586\n",
       "92341  TtcGQ  0.110711  1.022689   0.911381  101.318008\n",
       "97785  bsk9y  0.378429  0.005837   0.160827  160.637302"
      ]
     },
     "execution_count": 5,
     "metadata": {},
     "output_type": "execute_result"
    }
   ],
   "source": [
    "data_1[data_1[['id']].duplicated()]"
   ]
  },
  {
   "cell_type": "code",
   "execution_count": 6,
   "metadata": {},
   "outputs": [
    {
     "data": {
      "text/plain": [
       "99990"
      ]
     },
     "execution_count": 6,
     "metadata": {},
     "output_type": "execute_result"
    }
   ],
   "source": [
    "data_1['id'].nunique()"
   ]
  },
  {
   "cell_type": "markdown",
   "metadata": {},
   "source": [
    "### Регион 2"
   ]
  },
  {
   "cell_type": "code",
   "execution_count": 7,
   "metadata": {},
   "outputs": [
    {
     "data": {
      "text/html": [
       "<div>\n",
       "<style scoped>\n",
       "    .dataframe tbody tr th:only-of-type {\n",
       "        vertical-align: middle;\n",
       "    }\n",
       "\n",
       "    .dataframe tbody tr th {\n",
       "        vertical-align: top;\n",
       "    }\n",
       "\n",
       "    .dataframe thead th {\n",
       "        text-align: right;\n",
       "    }\n",
       "</style>\n",
       "<table border=\"1\" class=\"dataframe\">\n",
       "  <thead>\n",
       "    <tr style=\"text-align: right;\">\n",
       "      <th></th>\n",
       "      <th>id</th>\n",
       "      <th>f0</th>\n",
       "      <th>f1</th>\n",
       "      <th>f2</th>\n",
       "      <th>product</th>\n",
       "    </tr>\n",
       "  </thead>\n",
       "  <tbody>\n",
       "    <tr>\n",
       "      <th>0</th>\n",
       "      <td>kBEdx</td>\n",
       "      <td>-15.001348</td>\n",
       "      <td>-8.276000</td>\n",
       "      <td>-0.005876</td>\n",
       "      <td>3.179103</td>\n",
       "    </tr>\n",
       "    <tr>\n",
       "      <th>1</th>\n",
       "      <td>62mP7</td>\n",
       "      <td>14.272088</td>\n",
       "      <td>-3.475083</td>\n",
       "      <td>0.999183</td>\n",
       "      <td>26.953261</td>\n",
       "    </tr>\n",
       "    <tr>\n",
       "      <th>2</th>\n",
       "      <td>vyE1P</td>\n",
       "      <td>6.263187</td>\n",
       "      <td>-5.948386</td>\n",
       "      <td>5.001160</td>\n",
       "      <td>134.766305</td>\n",
       "    </tr>\n",
       "    <tr>\n",
       "      <th>3</th>\n",
       "      <td>KcrkZ</td>\n",
       "      <td>-13.081196</td>\n",
       "      <td>-11.506057</td>\n",
       "      <td>4.999415</td>\n",
       "      <td>137.945408</td>\n",
       "    </tr>\n",
       "    <tr>\n",
       "      <th>4</th>\n",
       "      <td>AHL4O</td>\n",
       "      <td>12.702195</td>\n",
       "      <td>-8.147433</td>\n",
       "      <td>5.004363</td>\n",
       "      <td>134.766305</td>\n",
       "    </tr>\n",
       "  </tbody>\n",
       "</table>\n",
       "</div>"
      ],
      "text/plain": [
       "      id         f0         f1        f2     product\n",
       "0  kBEdx -15.001348  -8.276000 -0.005876    3.179103\n",
       "1  62mP7  14.272088  -3.475083  0.999183   26.953261\n",
       "2  vyE1P   6.263187  -5.948386  5.001160  134.766305\n",
       "3  KcrkZ -13.081196 -11.506057  4.999415  137.945408\n",
       "4  AHL4O  12.702195  -8.147433  5.004363  134.766305"
      ]
     },
     "execution_count": 7,
     "metadata": {},
     "output_type": "execute_result"
    }
   ],
   "source": [
    "data_2 = pd.read_csv('/datasets/geo_data_1.csv')\n",
    "data_2.head()"
   ]
  },
  {
   "cell_type": "code",
   "execution_count": 8,
   "metadata": {},
   "outputs": [
    {
     "name": "stdout",
     "output_type": "stream",
     "text": [
      "<class 'pandas.core.frame.DataFrame'>\n",
      "RangeIndex: 100000 entries, 0 to 99999\n",
      "Data columns (total 5 columns):\n",
      " #   Column   Non-Null Count   Dtype  \n",
      "---  ------   --------------   -----  \n",
      " 0   id       100000 non-null  object \n",
      " 1   f0       100000 non-null  float64\n",
      " 2   f1       100000 non-null  float64\n",
      " 3   f2       100000 non-null  float64\n",
      " 4   product  100000 non-null  float64\n",
      "dtypes: float64(4), object(1)\n",
      "memory usage: 3.8+ MB\n"
     ]
    }
   ],
   "source": [
    "data_2.info()"
   ]
  },
  {
   "cell_type": "code",
   "execution_count": 9,
   "metadata": {},
   "outputs": [
    {
     "data": {
      "text/html": [
       "<div>\n",
       "<style scoped>\n",
       "    .dataframe tbody tr th:only-of-type {\n",
       "        vertical-align: middle;\n",
       "    }\n",
       "\n",
       "    .dataframe tbody tr th {\n",
       "        vertical-align: top;\n",
       "    }\n",
       "\n",
       "    .dataframe thead th {\n",
       "        text-align: right;\n",
       "    }\n",
       "</style>\n",
       "<table border=\"1\" class=\"dataframe\">\n",
       "  <thead>\n",
       "    <tr style=\"text-align: right;\">\n",
       "      <th></th>\n",
       "      <th>id</th>\n",
       "      <th>f0</th>\n",
       "      <th>f1</th>\n",
       "      <th>f2</th>\n",
       "      <th>product</th>\n",
       "    </tr>\n",
       "  </thead>\n",
       "  <tbody>\n",
       "    <tr>\n",
       "      <th>41906</th>\n",
       "      <td>LHZR0</td>\n",
       "      <td>-8.989672</td>\n",
       "      <td>-4.286607</td>\n",
       "      <td>2.009139</td>\n",
       "      <td>57.085625</td>\n",
       "    </tr>\n",
       "    <tr>\n",
       "      <th>82178</th>\n",
       "      <td>bfPNe</td>\n",
       "      <td>-6.202799</td>\n",
       "      <td>-4.820045</td>\n",
       "      <td>2.995107</td>\n",
       "      <td>84.038886</td>\n",
       "    </tr>\n",
       "    <tr>\n",
       "      <th>82873</th>\n",
       "      <td>wt4Uk</td>\n",
       "      <td>10.259972</td>\n",
       "      <td>-9.376355</td>\n",
       "      <td>4.994297</td>\n",
       "      <td>134.766305</td>\n",
       "    </tr>\n",
       "    <tr>\n",
       "      <th>84461</th>\n",
       "      <td>5ltQ6</td>\n",
       "      <td>18.213839</td>\n",
       "      <td>2.191999</td>\n",
       "      <td>3.993869</td>\n",
       "      <td>107.813044</td>\n",
       "    </tr>\n",
       "  </tbody>\n",
       "</table>\n",
       "</div>"
      ],
      "text/plain": [
       "          id         f0        f1        f2     product\n",
       "41906  LHZR0  -8.989672 -4.286607  2.009139   57.085625\n",
       "82178  bfPNe  -6.202799 -4.820045  2.995107   84.038886\n",
       "82873  wt4Uk  10.259972 -9.376355  4.994297  134.766305\n",
       "84461  5ltQ6  18.213839  2.191999  3.993869  107.813044"
      ]
     },
     "execution_count": 9,
     "metadata": {},
     "output_type": "execute_result"
    }
   ],
   "source": [
    "data_2[data_2[['id']].duplicated()]"
   ]
  },
  {
   "cell_type": "markdown",
   "metadata": {},
   "source": [
    "### Регион 3"
   ]
  },
  {
   "cell_type": "code",
   "execution_count": 10,
   "metadata": {},
   "outputs": [
    {
     "data": {
      "text/html": [
       "<div>\n",
       "<style scoped>\n",
       "    .dataframe tbody tr th:only-of-type {\n",
       "        vertical-align: middle;\n",
       "    }\n",
       "\n",
       "    .dataframe tbody tr th {\n",
       "        vertical-align: top;\n",
       "    }\n",
       "\n",
       "    .dataframe thead th {\n",
       "        text-align: right;\n",
       "    }\n",
       "</style>\n",
       "<table border=\"1\" class=\"dataframe\">\n",
       "  <thead>\n",
       "    <tr style=\"text-align: right;\">\n",
       "      <th></th>\n",
       "      <th>id</th>\n",
       "      <th>f0</th>\n",
       "      <th>f1</th>\n",
       "      <th>f2</th>\n",
       "      <th>product</th>\n",
       "    </tr>\n",
       "  </thead>\n",
       "  <tbody>\n",
       "    <tr>\n",
       "      <th>0</th>\n",
       "      <td>fwXo0</td>\n",
       "      <td>-1.146987</td>\n",
       "      <td>0.963328</td>\n",
       "      <td>-0.828965</td>\n",
       "      <td>27.758673</td>\n",
       "    </tr>\n",
       "    <tr>\n",
       "      <th>1</th>\n",
       "      <td>WJtFt</td>\n",
       "      <td>0.262778</td>\n",
       "      <td>0.269839</td>\n",
       "      <td>-2.530187</td>\n",
       "      <td>56.069697</td>\n",
       "    </tr>\n",
       "    <tr>\n",
       "      <th>2</th>\n",
       "      <td>ovLUW</td>\n",
       "      <td>0.194587</td>\n",
       "      <td>0.289035</td>\n",
       "      <td>-5.586433</td>\n",
       "      <td>62.871910</td>\n",
       "    </tr>\n",
       "    <tr>\n",
       "      <th>3</th>\n",
       "      <td>q6cA6</td>\n",
       "      <td>2.236060</td>\n",
       "      <td>-0.553760</td>\n",
       "      <td>0.930038</td>\n",
       "      <td>114.572842</td>\n",
       "    </tr>\n",
       "    <tr>\n",
       "      <th>4</th>\n",
       "      <td>WPMUX</td>\n",
       "      <td>-0.515993</td>\n",
       "      <td>1.716266</td>\n",
       "      <td>5.899011</td>\n",
       "      <td>149.600746</td>\n",
       "    </tr>\n",
       "  </tbody>\n",
       "</table>\n",
       "</div>"
      ],
      "text/plain": [
       "      id        f0        f1        f2     product\n",
       "0  fwXo0 -1.146987  0.963328 -0.828965   27.758673\n",
       "1  WJtFt  0.262778  0.269839 -2.530187   56.069697\n",
       "2  ovLUW  0.194587  0.289035 -5.586433   62.871910\n",
       "3  q6cA6  2.236060 -0.553760  0.930038  114.572842\n",
       "4  WPMUX -0.515993  1.716266  5.899011  149.600746"
      ]
     },
     "execution_count": 10,
     "metadata": {},
     "output_type": "execute_result"
    }
   ],
   "source": [
    "data_3 = pd.read_csv('/datasets/geo_data_2.csv')\n",
    "data_3.head()"
   ]
  },
  {
   "cell_type": "code",
   "execution_count": 11,
   "metadata": {},
   "outputs": [
    {
     "name": "stdout",
     "output_type": "stream",
     "text": [
      "<class 'pandas.core.frame.DataFrame'>\n",
      "RangeIndex: 100000 entries, 0 to 99999\n",
      "Data columns (total 5 columns):\n",
      " #   Column   Non-Null Count   Dtype  \n",
      "---  ------   --------------   -----  \n",
      " 0   id       100000 non-null  object \n",
      " 1   f0       100000 non-null  float64\n",
      " 2   f1       100000 non-null  float64\n",
      " 3   f2       100000 non-null  float64\n",
      " 4   product  100000 non-null  float64\n",
      "dtypes: float64(4), object(1)\n",
      "memory usage: 3.8+ MB\n"
     ]
    }
   ],
   "source": [
    "data_3.info()"
   ]
  },
  {
   "cell_type": "code",
   "execution_count": 12,
   "metadata": {},
   "outputs": [
    {
     "data": {
      "text/html": [
       "<div>\n",
       "<style scoped>\n",
       "    .dataframe tbody tr th:only-of-type {\n",
       "        vertical-align: middle;\n",
       "    }\n",
       "\n",
       "    .dataframe tbody tr th {\n",
       "        vertical-align: top;\n",
       "    }\n",
       "\n",
       "    .dataframe thead th {\n",
       "        text-align: right;\n",
       "    }\n",
       "</style>\n",
       "<table border=\"1\" class=\"dataframe\">\n",
       "  <thead>\n",
       "    <tr style=\"text-align: right;\">\n",
       "      <th></th>\n",
       "      <th>id</th>\n",
       "      <th>f0</th>\n",
       "      <th>f1</th>\n",
       "      <th>f2</th>\n",
       "      <th>product</th>\n",
       "    </tr>\n",
       "  </thead>\n",
       "  <tbody>\n",
       "    <tr>\n",
       "      <th>43233</th>\n",
       "      <td>xCHr8</td>\n",
       "      <td>-0.847066</td>\n",
       "      <td>2.101796</td>\n",
       "      <td>5.597130</td>\n",
       "      <td>184.388641</td>\n",
       "    </tr>\n",
       "    <tr>\n",
       "      <th>49564</th>\n",
       "      <td>VF7Jo</td>\n",
       "      <td>-0.883115</td>\n",
       "      <td>0.560537</td>\n",
       "      <td>0.723601</td>\n",
       "      <td>136.233420</td>\n",
       "    </tr>\n",
       "    <tr>\n",
       "      <th>55967</th>\n",
       "      <td>KUPhW</td>\n",
       "      <td>1.211150</td>\n",
       "      <td>3.176408</td>\n",
       "      <td>5.543540</td>\n",
       "      <td>132.831802</td>\n",
       "    </tr>\n",
       "    <tr>\n",
       "      <th>95090</th>\n",
       "      <td>Vcm5J</td>\n",
       "      <td>2.587702</td>\n",
       "      <td>1.986875</td>\n",
       "      <td>2.482245</td>\n",
       "      <td>92.327572</td>\n",
       "    </tr>\n",
       "  </tbody>\n",
       "</table>\n",
       "</div>"
      ],
      "text/plain": [
       "          id        f0        f1        f2     product\n",
       "43233  xCHr8 -0.847066  2.101796  5.597130  184.388641\n",
       "49564  VF7Jo -0.883115  0.560537  0.723601  136.233420\n",
       "55967  KUPhW  1.211150  3.176408  5.543540  132.831802\n",
       "95090  Vcm5J  2.587702  1.986875  2.482245   92.327572"
      ]
     },
     "execution_count": 12,
     "metadata": {},
     "output_type": "execute_result"
    }
   ],
   "source": [
    "data_3[data_3[['id']].duplicated()]"
   ]
  },
  {
   "cell_type": "markdown",
   "metadata": {},
   "source": [
    "<b> В данных нет пропусков, все типы определены соответствующе."
   ]
  },
  {
   "cell_type": "markdown",
   "metadata": {},
   "source": [
    "## Обучение и проверка модели"
   ]
  },
  {
   "cell_type": "markdown",
   "metadata": {},
   "source": [
    "В каждом регионе разобъем данные на выборки и обучим модель \"линейная регрессия\" для предсказания объема нефти. Проверим RMSE моделей."
   ]
  },
  {
   "cell_type": "markdown",
   "metadata": {},
   "source": [
    "Cоздадим функцию, которая по данным о регионе, разделит их на выборки, обучит модель и посчитает средние запасы нефти и rmse."
   ]
  },
  {
   "cell_type": "code",
   "execution_count": 13,
   "metadata": {},
   "outputs": [],
   "source": [
    "def prediction(data):\n",
    "    features = data.drop(['id', 'product'], axis=1)\n",
    "    target = data['product']\n",
    "    features_train, features_valid, target_train, target_valid = train_test_split(\n",
    "    features, target, test_size=0.25, random_state=12345)\n",
    "    model = LinearRegression()\n",
    "    model.fit(features_train, target_train)\n",
    "    predictions = model.predict(features_valid)\n",
    "    mean_product = predictions.mean()\n",
    "    mse = mean_squared_error(target_valid, predictions)\n",
    "    rmse = mse ** 0.5\n",
    "    print('Средние запасы нефти:', mean_product)\n",
    "    print('RMSE:', rmse)"
   ]
  },
  {
   "cell_type": "markdown",
   "metadata": {},
   "source": [
    "### Регион 1"
   ]
  },
  {
   "cell_type": "code",
   "execution_count": 19,
   "metadata": {},
   "outputs": [
    {
     "name": "stdout",
     "output_type": "stream",
     "text": [
      "Средние запасы нефти: 92.59256778438035\n",
      "RMSE: 37.5794217150813\n"
     ]
    }
   ],
   "source": [
    "prediction(data_1)"
   ]
  },
  {
   "cell_type": "markdown",
   "metadata": {},
   "source": [
    "### Регион 2"
   ]
  },
  {
   "cell_type": "code",
   "execution_count": 25,
   "metadata": {},
   "outputs": [
    {
     "name": "stdout",
     "output_type": "stream",
     "text": [
      "Средние запасы нефти: 68.728546895446\n",
      "RMSE: 0.893099286775617\n"
     ]
    }
   ],
   "source": [
    "prediction(data_2)"
   ]
  },
  {
   "cell_type": "markdown",
   "metadata": {},
   "source": [
    "### Регион 3"
   ]
  },
  {
   "cell_type": "code",
   "execution_count": 31,
   "metadata": {},
   "outputs": [
    {
     "name": "stdout",
     "output_type": "stream",
     "text": [
      "Средние запасы нефти: 94.96504596800489\n",
      "RMSE: 40.02970873393434\n"
     ]
    }
   ],
   "source": [
    "prediction(data_3)"
   ]
  },
  {
   "cell_type": "markdown",
   "metadata": {},
   "source": [
    "<b> Самой точной оказалась модель, построенная на данных 2-го региона. Ее rmse близок к нулю. Модель 1, 3 показали наибольший средний продукт, но очень высокую погрешность.\n",
    "   "
   ]
  },
  {
   "cell_type": "markdown",
   "metadata": {},
   "source": [
    "## Подготовка к расчёту прибыли"
   ]
  },
  {
   "cell_type": "markdown",
   "metadata": {},
   "source": [
    "Обозначим все данные."
   ]
  },
  {
   "cell_type": "code",
   "execution_count": 32,
   "metadata": {},
   "outputs": [],
   "source": [
    "points = 500\n",
    "max_points = 200\n",
    "budget = 10**10\n",
    "price = 450000\n",
    "risk = 2.5"
   ]
  },
  {
   "cell_type": "markdown",
   "metadata": {},
   "source": [
    "Объем для безубыточности."
   ]
  },
  {
   "cell_type": "code",
   "execution_count": 33,
   "metadata": {},
   "outputs": [
    {
     "data": {
      "text/plain": [
       "111.11111111111111"
      ]
     },
     "execution_count": 33,
     "metadata": {},
     "output_type": "execute_result"
    }
   ],
   "source": [
    "min_product = budget/max_points/price\n",
    "min_product"
   ]
  },
  {
   "cell_type": "markdown",
   "metadata": {},
   "source": [
    "Достаточно добывать 111.11 тысяч барелей с точки для безубыточности. Это больше, чем средние запасы в каждом регионе."
   ]
  },
  {
   "cell_type": "markdown",
   "metadata": {},
   "source": [
    "## Расчёт прибыли и рисков "
   ]
  },
  {
   "cell_type": "markdown",
   "metadata": {},
   "source": [
    "Напишем функцию, которая будет потсчитывать прибыль в регионе."
   ]
  },
  {
   "cell_type": "code",
   "execution_count": 34,
   "metadata": {},
   "outputs": [],
   "source": [
    "def calculating_profits(target, predictions, count_points, budget):\n",
    "    best_points = pd.Series(predictions).sort_values(ascending=False)[:count_points]\n",
    "    product_quantity = target.reset_index(drop=True)[best_points.index].sum()\n",
    "    profit = price*product_quantity - budget\n",
    "    return profit"
   ]
  },
  {
   "cell_type": "markdown",
   "metadata": {},
   "source": [
    "Прибыль региона 1."
   ]
  },
  {
   "cell_type": "code",
   "execution_count": 35,
   "metadata": {},
   "outputs": [
    {
     "data": {
      "text/plain": [
       "3320826043.1398506"
      ]
     },
     "execution_count": 35,
     "metadata": {},
     "output_type": "execute_result"
    }
   ],
   "source": [
    "calculating_profits(target_valid_1, predictions_1, max_points, budget)"
   ]
  },
  {
   "cell_type": "markdown",
   "metadata": {},
   "source": [
    "Прибыль региона 2."
   ]
  },
  {
   "cell_type": "code",
   "execution_count": 36,
   "metadata": {},
   "outputs": [
    {
     "data": {
      "text/plain": [
       "2415086696.681511"
      ]
     },
     "execution_count": 36,
     "metadata": {},
     "output_type": "execute_result"
    }
   ],
   "source": [
    "calculating_profits(target_valid_2, predictions_2, max_points, budget)"
   ]
  },
  {
   "cell_type": "markdown",
   "metadata": {},
   "source": [
    "Прибыль региона 3."
   ]
  },
  {
   "cell_type": "code",
   "execution_count": 37,
   "metadata": {},
   "outputs": [
    {
     "data": {
      "text/plain": [
       "2710349963.5998325"
      ]
     },
     "execution_count": 37,
     "metadata": {},
     "output_type": "execute_result"
    }
   ],
   "source": [
    "calculating_profits(target_valid_3, predictions_3, max_points, budget)"
   ]
  },
  {
   "cell_type": "markdown",
   "metadata": {},
   "source": [
    "<b> Самую большую предполагаемую прибыль имеет регион 1. Но у модели 1 региона слишком большая погрешность, поэтому нельзя опираться на это значение."
   ]
  },
  {
   "cell_type": "markdown",
   "metadata": {},
   "source": [
    "Посчитаем все риски и прибыль. Применим Bootstrap для определения интервала прибыли и найдем ее среднее значение."
   ]
  },
  {
   "cell_type": "code",
   "execution_count": 38,
   "metadata": {},
   "outputs": [],
   "source": [
    "state = RandomState(12345)\n",
    "def bootstrap_risc_profit(target, predictions):\n",
    "    values = []\n",
    "    for i in range(1000):\n",
    "        subsample_for_target = pd.Series(target).reset_index(drop=True).sample(n = points, replace=True, random_state=state)\n",
    "        subsample_for_predictions = predictions[subsample_for_target.index]\n",
    "        profit = calculating_profits(subsample_for_target, subsample_for_predictions, max_points, budget)\n",
    "        values.append(profit)\n",
    "    values = pd.Series(values)\n",
    "    confidence_interval = [values.quantile(0.025), values.quantile(0.975)]\n",
    "    mean_profit = values.mean()\n",
    "    risk = (((values < 0).sum())/ len(values)) * 100\n",
    "    return mean_profit, risk, confidence_interval"
   ]
  },
  {
   "cell_type": "markdown",
   "metadata": {},
   "source": [
    "Регион 1"
   ]
  },
  {
   "cell_type": "code",
   "execution_count": 39,
   "metadata": {},
   "outputs": [
    {
     "name": "stdout",
     "output_type": "stream",
     "text": [
      "Средняя прибыль: 396164984.8023711\n",
      "Интервал доверия [-111215545.89049526, 909766941.5534226]\n",
      "Риск 6.9\n"
     ]
    }
   ],
   "source": [
    "mean_profit_1, risk_1, confidence_interval_1 = bootstrap_risc_profit(target_valid_1, predictions_1)\n",
    "print('Средняя прибыль:', mean_profit_1)\n",
    "print('Интервал доверия', confidence_interval_1)\n",
    "print('Риск', round(risk_1, 1))"
   ]
  },
  {
   "cell_type": "markdown",
   "metadata": {},
   "source": [
    "Регион 2"
   ]
  },
  {
   "cell_type": "code",
   "execution_count": 40,
   "metadata": {},
   "outputs": [
    {
     "name": "stdout",
     "output_type": "stream",
     "text": [
      "Средняя прибыль: 461155817.2772397\n",
      "Интервал доверия [78050810.7517417, 862952060.2637234]\n",
      "Риск 0.7\n"
     ]
    }
   ],
   "source": [
    "mean_profit_2, risk_2, confidence_interval_2 = bootstrap_risc_profit(target_valid_2, predictions_2)\n",
    "print('Средняя прибыль:', mean_profit_2)\n",
    "print('Интервал доверия', confidence_interval_2)\n",
    "print('Риск', round(risk_2, 1))"
   ]
  },
  {
   "cell_type": "markdown",
   "metadata": {},
   "source": [
    "Регион 3"
   ]
  },
  {
   "cell_type": "code",
   "execution_count": 41,
   "metadata": {},
   "outputs": [
    {
     "name": "stdout",
     "output_type": "stream",
     "text": [
      "Средняя прибыль: 392950475.17060447\n",
      "Интервал доверия [-112227625.37857565, 934562914.5511636]\n",
      "Риск 6.5\n"
     ]
    }
   ],
   "source": [
    "mean_profit_3, risk_3, confidence_interval_3 = bootstrap_risc_profit(target_valid_3, predictions_3)\n",
    "print('Средняя прибыль:', mean_profit_3)\n",
    "print('Интервал доверия', confidence_interval_3)\n",
    "print('Риск', round(risk_3, 1))"
   ]
  },
  {
   "cell_type": "markdown",
   "metadata": {},
   "source": [
    "Регион 2 имеет самые маленькие риски и самую большую среднюю прибыль."
   ]
  },
  {
   "cell_type": "markdown",
   "metadata": {},
   "source": [
    "## Общий вывод "
   ]
  },
  {
   "cell_type": "markdown",
   "metadata": {},
   "source": [
    "<b> Выбираем регион 2, так как риски меньше 2.5%, у региона самый высокий показаетль средней прибыли и самая точная модель дла предсказаний (rmse близко к нулю)."
   ]
  }
 ],
 "metadata": {
  "ExecuteTimeLog": [
   {
    "duration": 406,
    "start_time": "2023-05-19T14:25:23.074Z"
   },
   {
    "duration": 799,
    "start_time": "2023-05-19T14:26:42.220Z"
   },
   {
    "duration": 584,
    "start_time": "2023-05-19T14:26:45.786Z"
   },
   {
    "duration": 578,
    "start_time": "2023-05-19T14:26:49.090Z"
   },
   {
    "duration": 15,
    "start_time": "2023-05-19T14:27:55.072Z"
   },
   {
    "duration": 13,
    "start_time": "2023-05-19T14:28:20.286Z"
   },
   {
    "duration": 21,
    "start_time": "2023-05-19T14:28:34.048Z"
   },
   {
    "duration": 36,
    "start_time": "2023-05-19T14:42:00.052Z"
   },
   {
    "duration": 25,
    "start_time": "2023-05-19T14:42:25.482Z"
   },
   {
    "duration": 28,
    "start_time": "2023-05-19T14:42:46.674Z"
   },
   {
    "duration": 58,
    "start_time": "2023-05-19T14:42:59.524Z"
   },
   {
    "duration": 34,
    "start_time": "2023-05-19T14:43:10.549Z"
   },
   {
    "duration": 56,
    "start_time": "2023-05-19T14:43:22.519Z"
   },
   {
    "duration": 32,
    "start_time": "2023-05-19T14:43:25.939Z"
   },
   {
    "duration": 107,
    "start_time": "2023-05-19T14:43:42.374Z"
   },
   {
    "duration": 36,
    "start_time": "2023-05-19T14:43:46.647Z"
   },
   {
    "duration": 32,
    "start_time": "2023-05-19T14:50:29.018Z"
   },
   {
    "duration": 35,
    "start_time": "2023-05-19T14:51:11.140Z"
   },
   {
    "duration": 42,
    "start_time": "2023-05-19T14:51:29.953Z"
   },
   {
    "duration": 24,
    "start_time": "2023-05-19T14:52:05.511Z"
   },
   {
    "duration": 25,
    "start_time": "2023-05-19T14:52:33.495Z"
   },
   {
    "duration": 5,
    "start_time": "2023-05-19T14:57:03.674Z"
   },
   {
    "duration": 7,
    "start_time": "2023-05-19T14:58:02.426Z"
   },
   {
    "duration": 722,
    "start_time": "2023-05-19T15:20:10.796Z"
   },
   {
    "duration": 43,
    "start_time": "2023-05-19T15:20:14.920Z"
   },
   {
    "duration": 6,
    "start_time": "2023-05-19T15:20:26.400Z"
   },
   {
    "duration": 17,
    "start_time": "2023-05-19T15:20:26.914Z"
   },
   {
    "duration": 24,
    "start_time": "2023-05-19T15:25:04.931Z"
   },
   {
    "duration": 3,
    "start_time": "2023-05-19T15:25:48.546Z"
   },
   {
    "duration": 57,
    "start_time": "2023-05-19T15:26:50.547Z"
   },
   {
    "duration": 6,
    "start_time": "2023-05-19T15:27:01.487Z"
   },
   {
    "duration": 10,
    "start_time": "2023-05-19T15:27:16.948Z"
   },
   {
    "duration": 11,
    "start_time": "2023-05-19T15:27:38.204Z"
   },
   {
    "duration": 5,
    "start_time": "2023-05-19T15:27:45.693Z"
   },
   {
    "duration": 6,
    "start_time": "2023-05-19T15:27:53.784Z"
   },
   {
    "duration": 9,
    "start_time": "2023-05-19T15:32:27.055Z"
   },
   {
    "duration": 15,
    "start_time": "2023-05-19T15:32:42.059Z"
   },
   {
    "duration": 12,
    "start_time": "2023-05-19T15:33:06.688Z"
   },
   {
    "duration": 14,
    "start_time": "2023-05-19T15:33:41.238Z"
   },
   {
    "duration": 10,
    "start_time": "2023-05-19T15:43:15.588Z"
   },
   {
    "duration": 32,
    "start_time": "2023-05-19T15:43:29.796Z"
   },
   {
    "duration": 36,
    "start_time": "2023-05-19T15:43:40.839Z"
   },
   {
    "duration": 6,
    "start_time": "2023-05-19T15:43:46.338Z"
   },
   {
    "duration": 5,
    "start_time": "2023-05-19T15:43:55.145Z"
   },
   {
    "duration": 6,
    "start_time": "2023-05-19T15:46:25.110Z"
   },
   {
    "duration": 24,
    "start_time": "2023-05-19T15:46:56.250Z"
   },
   {
    "duration": 13,
    "start_time": "2023-05-19T15:47:09.017Z"
   },
   {
    "duration": 15,
    "start_time": "2023-05-19T15:47:09.616Z"
   },
   {
    "duration": 6,
    "start_time": "2023-05-19T15:47:11.427Z"
   },
   {
    "duration": 5,
    "start_time": "2023-05-19T15:47:17.982Z"
   },
   {
    "duration": 10,
    "start_time": "2023-05-21T22:14:51.793Z"
   },
   {
    "duration": 4,
    "start_time": "2023-05-21T22:14:54.225Z"
   },
   {
    "duration": 8,
    "start_time": "2023-05-21T22:15:06.090Z"
   },
   {
    "duration": 1150,
    "start_time": "2023-05-22T07:12:45.480Z"
   },
   {
    "duration": 497,
    "start_time": "2023-05-22T07:12:46.632Z"
   },
   {
    "duration": 18,
    "start_time": "2023-05-22T07:12:47.131Z"
   },
   {
    "duration": 23,
    "start_time": "2023-05-22T07:12:47.151Z"
   },
   {
    "duration": 57,
    "start_time": "2023-05-22T07:12:47.177Z"
   },
   {
    "duration": 25,
    "start_time": "2023-05-22T07:12:47.235Z"
   },
   {
    "duration": 606,
    "start_time": "2023-05-22T07:12:47.261Z"
   },
   {
    "duration": 22,
    "start_time": "2023-05-22T07:12:47.869Z"
   },
   {
    "duration": 32,
    "start_time": "2023-05-22T07:12:47.893Z"
   },
   {
    "duration": 550,
    "start_time": "2023-05-22T07:12:47.926Z"
   },
   {
    "duration": 15,
    "start_time": "2023-05-22T07:12:48.478Z"
   },
   {
    "duration": 38,
    "start_time": "2023-05-22T07:12:48.495Z"
   },
   {
    "duration": 5,
    "start_time": "2023-05-22T07:12:48.535Z"
   },
   {
    "duration": 25,
    "start_time": "2023-05-22T07:12:48.543Z"
   },
   {
    "duration": 58,
    "start_time": "2023-05-22T07:12:48.569Z"
   },
   {
    "duration": 97,
    "start_time": "2023-05-22T07:12:48.631Z"
   },
   {
    "duration": 9,
    "start_time": "2023-05-22T07:12:48.732Z"
   },
   {
    "duration": 21,
    "start_time": "2023-05-22T07:12:48.743Z"
   },
   {
    "duration": 73,
    "start_time": "2023-05-22T07:12:48.766Z"
   },
   {
    "duration": 37,
    "start_time": "2023-05-22T07:12:48.841Z"
   },
   {
    "duration": 145,
    "start_time": "2023-05-22T07:12:48.881Z"
   },
   {
    "duration": 12,
    "start_time": "2023-05-22T07:12:49.028Z"
   },
   {
    "duration": 16,
    "start_time": "2023-05-22T07:12:49.042Z"
   },
   {
    "duration": 31,
    "start_time": "2023-05-22T07:12:49.060Z"
   },
   {
    "duration": 14,
    "start_time": "2023-05-22T07:12:49.093Z"
   },
   {
    "duration": 100,
    "start_time": "2023-05-22T07:12:49.126Z"
   },
   {
    "duration": 19,
    "start_time": "2023-05-22T07:12:49.229Z"
   },
   {
    "duration": 27,
    "start_time": "2023-05-22T07:12:49.250Z"
   },
   {
    "duration": 34,
    "start_time": "2023-05-22T07:12:49.279Z"
   },
   {
    "duration": 1001,
    "start_time": "2023-05-22T07:44:40.984Z"
   },
   {
    "duration": 154,
    "start_time": "2023-05-22T07:44:41.987Z"
   },
   {
    "duration": 15,
    "start_time": "2023-05-22T07:44:42.143Z"
   },
   {
    "duration": 22,
    "start_time": "2023-05-22T07:44:42.159Z"
   },
   {
    "duration": 53,
    "start_time": "2023-05-22T07:44:42.183Z"
   },
   {
    "duration": 21,
    "start_time": "2023-05-22T07:44:42.237Z"
   },
   {
    "duration": 125,
    "start_time": "2023-05-22T07:44:42.260Z"
   },
   {
    "duration": 13,
    "start_time": "2023-05-22T07:44:42.387Z"
   },
   {
    "duration": 42,
    "start_time": "2023-05-22T07:44:42.402Z"
   },
   {
    "duration": 128,
    "start_time": "2023-05-22T07:44:42.446Z"
   },
   {
    "duration": 14,
    "start_time": "2023-05-22T07:44:42.575Z"
   },
   {
    "duration": 39,
    "start_time": "2023-05-22T07:44:42.590Z"
   },
   {
    "duration": 4,
    "start_time": "2023-05-22T07:44:42.631Z"
   },
   {
    "duration": 21,
    "start_time": "2023-05-22T07:44:42.638Z"
   },
   {
    "duration": 18,
    "start_time": "2023-05-22T07:44:42.660Z"
   },
   {
    "duration": 100,
    "start_time": "2023-05-22T07:44:42.727Z"
   },
   {
    "duration": 6,
    "start_time": "2023-05-22T07:44:42.829Z"
   },
   {
    "duration": 19,
    "start_time": "2023-05-22T07:44:42.837Z"
   },
   {
    "duration": 23,
    "start_time": "2023-05-22T07:44:42.858Z"
   },
   {
    "duration": 13,
    "start_time": "2023-05-22T07:44:42.883Z"
   },
   {
    "duration": 100,
    "start_time": "2023-05-22T07:44:42.926Z"
   },
   {
    "duration": 5,
    "start_time": "2023-05-22T07:44:43.028Z"
   },
   {
    "duration": 7,
    "start_time": "2023-05-22T07:44:43.034Z"
   },
   {
    "duration": 15,
    "start_time": "2023-05-22T07:44:43.042Z"
   },
   {
    "duration": 68,
    "start_time": "2023-05-22T07:44:43.059Z"
   },
   {
    "duration": 97,
    "start_time": "2023-05-22T07:44:43.130Z"
   },
   {
    "duration": 11,
    "start_time": "2023-05-22T07:44:43.229Z"
   },
   {
    "duration": 15,
    "start_time": "2023-05-22T07:44:43.242Z"
   },
   {
    "duration": 133,
    "start_time": "2023-05-22T07:44:43.258Z"
   },
   {
    "duration": 0,
    "start_time": "2023-05-22T07:44:43.392Z"
   },
   {
    "duration": 4,
    "start_time": "2023-05-22T07:44:57.905Z"
   },
   {
    "duration": 3,
    "start_time": "2023-05-22T07:45:01.052Z"
   },
   {
    "duration": 9,
    "start_time": "2023-05-22T07:47:56.946Z"
   },
   {
    "duration": 9,
    "start_time": "2023-05-22T07:48:33.131Z"
   },
   {
    "duration": 9,
    "start_time": "2023-05-22T07:48:49.556Z"
   },
   {
    "duration": 47,
    "start_time": "2023-05-22T07:49:13.787Z"
   },
   {
    "duration": 11,
    "start_time": "2023-05-22T08:21:12.484Z"
   },
   {
    "duration": 4,
    "start_time": "2023-05-22T08:21:27.292Z"
   },
   {
    "duration": 5,
    "start_time": "2023-05-22T08:21:32.439Z"
   },
   {
    "duration": 10,
    "start_time": "2023-05-22T08:22:03.458Z"
   },
   {
    "duration": 12,
    "start_time": "2023-05-22T08:22:10.951Z"
   },
   {
    "duration": 5,
    "start_time": "2023-05-22T08:22:41.862Z"
   },
   {
    "duration": 995,
    "start_time": "2023-05-22T08:22:43.145Z"
   },
   {
    "duration": 1038,
    "start_time": "2023-05-22T08:25:24.607Z"
   },
   {
    "duration": 1057,
    "start_time": "2023-05-22T08:25:57.564Z"
   },
   {
    "duration": 1087,
    "start_time": "2023-05-22T08:26:09.118Z"
   },
   {
    "duration": 1127,
    "start_time": "2023-05-22T08:27:39.120Z"
   },
   {
    "duration": 995,
    "start_time": "2023-05-22T08:28:10.867Z"
   },
   {
    "duration": 67,
    "start_time": "2023-05-22T08:38:02.125Z"
   },
   {
    "duration": 1439,
    "start_time": "2023-05-22T08:47:15.163Z"
   },
   {
    "duration": 481,
    "start_time": "2023-05-22T08:47:16.603Z"
   },
   {
    "duration": 17,
    "start_time": "2023-05-22T08:47:17.085Z"
   },
   {
    "duration": 50,
    "start_time": "2023-05-22T08:47:17.105Z"
   },
   {
    "duration": 32,
    "start_time": "2023-05-22T08:47:17.725Z"
   },
   {
    "duration": 21,
    "start_time": "2023-05-22T08:47:18.632Z"
   },
   {
    "duration": 273,
    "start_time": "2023-05-22T08:47:21.201Z"
   },
   {
    "duration": 23,
    "start_time": "2023-05-22T08:47:21.621Z"
   },
   {
    "duration": 31,
    "start_time": "2023-05-22T08:47:22.244Z"
   },
   {
    "duration": 306,
    "start_time": "2023-05-22T08:47:24.439Z"
   },
   {
    "duration": 13,
    "start_time": "2023-05-22T08:47:24.752Z"
   },
   {
    "duration": 41,
    "start_time": "2023-05-22T08:47:25.009Z"
   },
   {
    "duration": 5,
    "start_time": "2023-05-22T08:48:16.286Z"
   },
   {
    "duration": 12,
    "start_time": "2023-05-22T08:48:20.841Z"
   },
   {
    "duration": 41,
    "start_time": "2023-05-22T08:48:22.379Z"
   },
   {
    "duration": 5,
    "start_time": "2023-05-22T08:48:22.845Z"
   },
   {
    "duration": 5,
    "start_time": "2023-05-22T08:48:54.790Z"
   },
   {
    "duration": 6,
    "start_time": "2023-05-22T08:48:57.565Z"
   },
   {
    "duration": 19,
    "start_time": "2023-05-22T08:49:02.313Z"
   },
   {
    "duration": 14,
    "start_time": "2023-05-22T08:49:02.841Z"
   },
   {
    "duration": 5,
    "start_time": "2023-05-22T08:49:03.561Z"
   },
   {
    "duration": 7,
    "start_time": "2023-05-22T08:49:06.421Z"
   },
   {
    "duration": 5,
    "start_time": "2023-05-22T08:49:08.831Z"
   },
   {
    "duration": 19,
    "start_time": "2023-05-22T08:49:10.124Z"
   },
   {
    "duration": 14,
    "start_time": "2023-05-22T08:49:12.554Z"
   },
   {
    "duration": 6,
    "start_time": "2023-05-22T08:49:13.558Z"
   },
   {
    "duration": 5,
    "start_time": "2023-05-22T08:49:14.144Z"
   },
   {
    "duration": 2,
    "start_time": "2023-05-22T08:50:02.967Z"
   },
   {
    "duration": 4,
    "start_time": "2023-05-22T08:50:20.446Z"
   },
   {
    "duration": 3,
    "start_time": "2023-05-22T09:12:33.341Z"
   },
   {
    "duration": 8,
    "start_time": "2023-05-22T09:12:50.344Z"
   },
   {
    "duration": 7,
    "start_time": "2023-05-22T09:12:51.623Z"
   },
   {
    "duration": 7,
    "start_time": "2023-05-22T09:12:51.735Z"
   },
   {
    "duration": 9,
    "start_time": "2023-05-22T09:13:35.815Z"
   },
   {
    "duration": 1010,
    "start_time": "2023-05-22T09:13:36.617Z"
   },
   {
    "duration": 984,
    "start_time": "2023-05-22T09:13:39.722Z"
   },
   {
    "duration": 952,
    "start_time": "2023-05-22T09:13:40.718Z"
   },
   {
    "duration": 10,
    "start_time": "2023-05-22T09:14:21.523Z"
   },
   {
    "duration": 1346,
    "start_time": "2023-05-22T09:14:22.899Z"
   },
   {
    "duration": 10,
    "start_time": "2023-05-22T09:14:40.392Z"
   },
   {
    "duration": 993,
    "start_time": "2023-05-22T09:14:42.159Z"
   },
   {
    "duration": 5,
    "start_time": "2023-05-22T09:14:54.951Z"
   },
   {
    "duration": 983,
    "start_time": "2023-05-22T09:14:55.556Z"
   },
   {
    "duration": 985,
    "start_time": "2023-05-22T09:14:57.093Z"
   },
   {
    "duration": 1038,
    "start_time": "2023-05-22T09:14:58.080Z"
   },
   {
    "duration": 1231,
    "start_time": "2023-05-22T19:39:20.143Z"
   },
   {
    "duration": 827,
    "start_time": "2023-05-22T19:39:21.375Z"
   },
   {
    "duration": 31,
    "start_time": "2023-05-22T19:39:22.205Z"
   },
   {
    "duration": 36,
    "start_time": "2023-05-22T19:39:22.242Z"
   },
   {
    "duration": 79,
    "start_time": "2023-05-22T19:39:22.281Z"
   },
   {
    "duration": 60,
    "start_time": "2023-05-22T19:39:22.362Z"
   },
   {
    "duration": 340,
    "start_time": "2023-05-22T19:39:22.433Z"
   },
   {
    "duration": 28,
    "start_time": "2023-05-22T19:39:22.774Z"
   },
   {
    "duration": 69,
    "start_time": "2023-05-22T19:39:22.810Z"
   },
   {
    "duration": 295,
    "start_time": "2023-05-22T19:39:22.881Z"
   },
   {
    "duration": 29,
    "start_time": "2023-05-22T19:39:23.178Z"
   },
   {
    "duration": 34,
    "start_time": "2023-05-22T19:39:23.208Z"
   },
   {
    "duration": 8,
    "start_time": "2023-05-22T19:39:23.244Z"
   },
   {
    "duration": 6,
    "start_time": "2023-05-22T19:39:23.255Z"
   },
   {
    "duration": 16,
    "start_time": "2023-05-22T19:39:23.263Z"
   },
   {
    "duration": 23,
    "start_time": "2023-05-22T19:39:23.281Z"
   },
   {
    "duration": 144,
    "start_time": "2023-05-22T19:39:23.306Z"
   },
   {
    "duration": 11,
    "start_time": "2023-05-22T19:39:23.451Z"
   },
   {
    "duration": 155,
    "start_time": "2023-05-22T19:39:23.463Z"
   },
   {
    "duration": 0,
    "start_time": "2023-05-22T19:39:23.626Z"
   },
   {
    "duration": 0,
    "start_time": "2023-05-22T19:39:23.627Z"
   },
   {
    "duration": 0,
    "start_time": "2023-05-22T19:39:23.628Z"
   },
   {
    "duration": 0,
    "start_time": "2023-05-22T19:39:23.628Z"
   },
   {
    "duration": 0,
    "start_time": "2023-05-22T19:39:23.629Z"
   },
   {
    "duration": 0,
    "start_time": "2023-05-22T19:39:23.629Z"
   },
   {
    "duration": 0,
    "start_time": "2023-05-22T19:39:23.630Z"
   },
   {
    "duration": 0,
    "start_time": "2023-05-22T19:39:23.631Z"
   },
   {
    "duration": 0,
    "start_time": "2023-05-22T19:39:23.631Z"
   },
   {
    "duration": 0,
    "start_time": "2023-05-22T19:39:23.632Z"
   },
   {
    "duration": 0,
    "start_time": "2023-05-22T19:39:23.632Z"
   },
   {
    "duration": 0,
    "start_time": "2023-05-22T19:39:23.636Z"
   },
   {
    "duration": 0,
    "start_time": "2023-05-22T19:39:23.637Z"
   },
   {
    "duration": 0,
    "start_time": "2023-05-22T19:39:23.638Z"
   },
   {
    "duration": 0,
    "start_time": "2023-05-22T19:39:23.639Z"
   },
   {
    "duration": 0,
    "start_time": "2023-05-22T19:39:23.640Z"
   },
   {
    "duration": 0,
    "start_time": "2023-05-22T19:39:23.641Z"
   },
   {
    "duration": 0,
    "start_time": "2023-05-22T19:39:23.641Z"
   },
   {
    "duration": 0,
    "start_time": "2023-05-22T19:39:23.646Z"
   },
   {
    "duration": 0,
    "start_time": "2023-05-22T19:39:23.647Z"
   },
   {
    "duration": 0,
    "start_time": "2023-05-22T19:39:23.650Z"
   },
   {
    "duration": 0,
    "start_time": "2023-05-22T19:39:23.651Z"
   },
   {
    "duration": 60,
    "start_time": "2023-05-22T19:39:41.645Z"
   },
   {
    "duration": 58,
    "start_time": "2023-05-22T19:40:07.450Z"
   },
   {
    "duration": 131,
    "start_time": "2023-05-22T19:40:14.667Z"
   },
   {
    "duration": 13,
    "start_time": "2023-05-22T19:40:34.429Z"
   },
   {
    "duration": 24,
    "start_time": "2023-05-22T19:40:38.944Z"
   },
   {
    "duration": 4,
    "start_time": "2023-05-22T19:40:49.371Z"
   },
   {
    "duration": 49,
    "start_time": "2023-05-22T19:40:52.109Z"
   },
   {
    "duration": 1209,
    "start_time": "2023-05-22T19:41:07.348Z"
   },
   {
    "duration": 179,
    "start_time": "2023-05-22T19:41:08.558Z"
   },
   {
    "duration": 27,
    "start_time": "2023-05-22T19:41:08.739Z"
   },
   {
    "duration": 43,
    "start_time": "2023-05-22T19:41:08.767Z"
   },
   {
    "duration": 39,
    "start_time": "2023-05-22T19:41:08.812Z"
   },
   {
    "duration": 22,
    "start_time": "2023-05-22T19:41:08.853Z"
   },
   {
    "duration": 183,
    "start_time": "2023-05-22T19:41:08.876Z"
   },
   {
    "duration": 12,
    "start_time": "2023-05-22T19:41:09.060Z"
   },
   {
    "duration": 54,
    "start_time": "2023-05-22T19:41:09.074Z"
   },
   {
    "duration": 158,
    "start_time": "2023-05-22T19:41:09.143Z"
   },
   {
    "duration": 20,
    "start_time": "2023-05-22T19:41:09.302Z"
   },
   {
    "duration": 56,
    "start_time": "2023-05-22T19:41:09.324Z"
   },
   {
    "duration": 9,
    "start_time": "2023-05-22T19:41:09.382Z"
   },
   {
    "duration": 54,
    "start_time": "2023-05-22T19:41:09.404Z"
   },
   {
    "duration": 16,
    "start_time": "2023-05-22T19:41:09.459Z"
   },
   {
    "duration": 138,
    "start_time": "2023-05-22T19:41:09.476Z"
   },
   {
    "duration": 11,
    "start_time": "2023-05-22T19:41:09.624Z"
   },
   {
    "duration": 22,
    "start_time": "2023-05-22T19:41:09.637Z"
   },
   {
    "duration": 99,
    "start_time": "2023-05-22T19:41:09.661Z"
   },
   {
    "duration": 55,
    "start_time": "2023-05-22T19:41:09.761Z"
   },
   {
    "duration": 124,
    "start_time": "2023-05-22T19:41:09.826Z"
   },
   {
    "duration": 11,
    "start_time": "2023-05-22T19:41:09.952Z"
   },
   {
    "duration": 185,
    "start_time": "2023-05-22T19:41:09.964Z"
   },
   {
    "duration": 7,
    "start_time": "2023-05-22T19:41:10.151Z"
   },
   {
    "duration": 166,
    "start_time": "2023-05-22T19:41:10.160Z"
   },
   {
    "duration": 0,
    "start_time": "2023-05-22T19:41:10.338Z"
   },
   {
    "duration": 0,
    "start_time": "2023-05-22T19:41:10.339Z"
   },
   {
    "duration": 0,
    "start_time": "2023-05-22T19:41:10.339Z"
   },
   {
    "duration": 0,
    "start_time": "2023-05-22T19:41:10.340Z"
   },
   {
    "duration": 0,
    "start_time": "2023-05-22T19:41:10.342Z"
   },
   {
    "duration": 0,
    "start_time": "2023-05-22T19:41:10.350Z"
   },
   {
    "duration": 0,
    "start_time": "2023-05-22T19:41:10.350Z"
   },
   {
    "duration": 0,
    "start_time": "2023-05-22T19:41:10.351Z"
   },
   {
    "duration": 0,
    "start_time": "2023-05-22T19:41:10.352Z"
   },
   {
    "duration": 0,
    "start_time": "2023-05-22T19:41:10.352Z"
   },
   {
    "duration": 0,
    "start_time": "2023-05-22T19:41:10.353Z"
   },
   {
    "duration": 0,
    "start_time": "2023-05-22T19:41:10.354Z"
   },
   {
    "duration": 0,
    "start_time": "2023-05-22T19:41:10.355Z"
   },
   {
    "duration": 0,
    "start_time": "2023-05-22T19:41:10.356Z"
   },
   {
    "duration": 1,
    "start_time": "2023-05-22T19:41:10.356Z"
   },
   {
    "duration": 0,
    "start_time": "2023-05-22T19:41:10.357Z"
   },
   {
    "duration": 1288,
    "start_time": "2023-05-22T19:41:50.846Z"
   },
   {
    "duration": 166,
    "start_time": "2023-05-22T19:41:52.136Z"
   },
   {
    "duration": 22,
    "start_time": "2023-05-22T19:41:52.306Z"
   },
   {
    "duration": 49,
    "start_time": "2023-05-22T19:41:52.332Z"
   },
   {
    "duration": 87,
    "start_time": "2023-05-22T19:41:52.383Z"
   },
   {
    "duration": 31,
    "start_time": "2023-05-22T19:41:52.472Z"
   },
   {
    "duration": 161,
    "start_time": "2023-05-22T19:41:52.505Z"
   },
   {
    "duration": 12,
    "start_time": "2023-05-22T19:41:52.668Z"
   },
   {
    "duration": 44,
    "start_time": "2023-05-22T19:41:52.681Z"
   },
   {
    "duration": 215,
    "start_time": "2023-05-22T19:41:52.727Z"
   },
   {
    "duration": 17,
    "start_time": "2023-05-22T19:41:52.945Z"
   },
   {
    "duration": 66,
    "start_time": "2023-05-22T19:41:52.964Z"
   },
   {
    "duration": 13,
    "start_time": "2023-05-22T19:41:53.041Z"
   },
   {
    "duration": 24,
    "start_time": "2023-05-22T19:41:53.056Z"
   },
   {
    "duration": 74,
    "start_time": "2023-05-22T19:41:53.082Z"
   },
   {
    "duration": 21,
    "start_time": "2023-05-22T19:41:53.158Z"
   },
   {
    "duration": 146,
    "start_time": "2023-05-22T19:41:53.180Z"
   },
   {
    "duration": 40,
    "start_time": "2023-05-22T19:41:53.327Z"
   },
   {
    "duration": 97,
    "start_time": "2023-05-22T19:41:53.369Z"
   },
   {
    "duration": 87,
    "start_time": "2023-05-22T19:41:53.468Z"
   },
   {
    "duration": 32,
    "start_time": "2023-05-22T19:41:53.570Z"
   },
   {
    "duration": 64,
    "start_time": "2023-05-22T19:41:53.603Z"
   },
   {
    "duration": 159,
    "start_time": "2023-05-22T19:41:53.669Z"
   },
   {
    "duration": 36,
    "start_time": "2023-05-22T19:41:53.829Z"
   },
   {
    "duration": 78,
    "start_time": "2023-05-22T19:41:53.866Z"
   },
   {
    "duration": 52,
    "start_time": "2023-05-22T19:41:53.948Z"
   },
   {
    "duration": 84,
    "start_time": "2023-05-22T19:41:54.026Z"
   },
   {
    "duration": 49,
    "start_time": "2023-05-22T19:41:54.114Z"
   },
   {
    "duration": 177,
    "start_time": "2023-05-22T19:41:54.165Z"
   },
   {
    "duration": 11,
    "start_time": "2023-05-22T19:41:54.366Z"
   },
   {
    "duration": 335,
    "start_time": "2023-05-22T19:41:54.379Z"
   },
   {
    "duration": 0,
    "start_time": "2023-05-22T19:41:54.715Z"
   },
   {
    "duration": 0,
    "start_time": "2023-05-22T19:41:54.716Z"
   },
   {
    "duration": 0,
    "start_time": "2023-05-22T19:41:54.716Z"
   },
   {
    "duration": 0,
    "start_time": "2023-05-22T19:41:54.717Z"
   },
   {
    "duration": 0,
    "start_time": "2023-05-22T19:41:54.717Z"
   },
   {
    "duration": 0,
    "start_time": "2023-05-22T19:41:54.738Z"
   },
   {
    "duration": 0,
    "start_time": "2023-05-22T19:41:54.739Z"
   },
   {
    "duration": 0,
    "start_time": "2023-05-22T19:41:54.739Z"
   },
   {
    "duration": 0,
    "start_time": "2023-05-22T19:41:54.740Z"
   },
   {
    "duration": 0,
    "start_time": "2023-05-22T19:41:54.741Z"
   },
   {
    "duration": 1175,
    "start_time": "2023-05-22T19:42:12.139Z"
   },
   {
    "duration": 190,
    "start_time": "2023-05-22T19:42:13.321Z"
   },
   {
    "duration": 29,
    "start_time": "2023-05-22T19:42:13.526Z"
   },
   {
    "duration": 18,
    "start_time": "2023-05-22T19:42:13.557Z"
   },
   {
    "duration": 28,
    "start_time": "2023-05-22T19:42:13.577Z"
   },
   {
    "duration": 61,
    "start_time": "2023-05-22T19:42:13.606Z"
   },
   {
    "duration": 199,
    "start_time": "2023-05-22T19:42:13.668Z"
   },
   {
    "duration": 13,
    "start_time": "2023-05-22T19:42:13.868Z"
   },
   {
    "duration": 67,
    "start_time": "2023-05-22T19:42:13.882Z"
   },
   {
    "duration": 176,
    "start_time": "2023-05-22T19:42:13.951Z"
   },
   {
    "duration": 23,
    "start_time": "2023-05-22T19:42:14.128Z"
   },
   {
    "duration": 23,
    "start_time": "2023-05-22T19:42:14.153Z"
   },
   {
    "duration": 4,
    "start_time": "2023-05-22T19:42:14.177Z"
   },
   {
    "duration": 71,
    "start_time": "2023-05-22T19:42:14.184Z"
   },
   {
    "duration": 16,
    "start_time": "2023-05-22T19:42:14.256Z"
   },
   {
    "duration": 15,
    "start_time": "2023-05-22T19:42:14.273Z"
   },
   {
    "duration": 17,
    "start_time": "2023-05-22T19:42:14.289Z"
   },
   {
    "duration": 95,
    "start_time": "2023-05-22T19:42:14.307Z"
   },
   {
    "duration": 73,
    "start_time": "2023-05-22T19:42:14.406Z"
   },
   {
    "duration": 33,
    "start_time": "2023-05-22T19:42:14.481Z"
   },
   {
    "duration": 131,
    "start_time": "2023-05-22T19:42:14.526Z"
   },
   {
    "duration": 11,
    "start_time": "2023-05-22T19:42:14.658Z"
   },
   {
    "duration": 35,
    "start_time": "2023-05-22T19:42:14.670Z"
   },
   {
    "duration": 20,
    "start_time": "2023-05-22T19:42:14.708Z"
   },
   {
    "duration": 141,
    "start_time": "2023-05-22T19:42:14.730Z"
   },
   {
    "duration": 29,
    "start_time": "2023-05-22T19:42:14.873Z"
   },
   {
    "duration": 161,
    "start_time": "2023-05-22T19:42:14.903Z"
   },
   {
    "duration": 12,
    "start_time": "2023-05-22T19:42:15.065Z"
   },
   {
    "duration": 57,
    "start_time": "2023-05-22T19:42:15.079Z"
   },
   {
    "duration": 113,
    "start_time": "2023-05-22T19:42:15.137Z"
   },
   {
    "duration": 24,
    "start_time": "2023-05-22T19:42:15.252Z"
   },
   {
    "duration": 21,
    "start_time": "2023-05-22T19:42:15.277Z"
   },
   {
    "duration": 134,
    "start_time": "2023-05-22T19:42:15.300Z"
   },
   {
    "duration": 14,
    "start_time": "2023-05-22T19:42:15.438Z"
   },
   {
    "duration": 10,
    "start_time": "2023-05-22T19:42:15.453Z"
   },
   {
    "duration": 7,
    "start_time": "2023-05-22T19:42:15.464Z"
   },
   {
    "duration": 74,
    "start_time": "2023-05-22T19:42:15.472Z"
   },
   {
    "duration": 13,
    "start_time": "2023-05-22T19:42:15.551Z"
   },
   {
    "duration": 982,
    "start_time": "2023-05-22T19:42:15.565Z"
   },
   {
    "duration": 991,
    "start_time": "2023-05-22T19:42:16.551Z"
   },
   {
    "duration": 888,
    "start_time": "2023-05-22T19:42:17.553Z"
   }
  ],
  "kernelspec": {
   "display_name": "Python 3 (ipykernel)",
   "language": "python",
   "name": "python3"
  },
  "language_info": {
   "codemirror_mode": {
    "name": "ipython",
    "version": 3
   },
   "file_extension": ".py",
   "mimetype": "text/x-python",
   "name": "python",
   "nbconvert_exporter": "python",
   "pygments_lexer": "ipython3",
   "version": "3.9.5"
  },
  "toc": {
   "base_numbering": 1,
   "nav_menu": {},
   "number_sections": true,
   "sideBar": true,
   "skip_h1_title": true,
   "title_cell": "Table of Contents",
   "title_sidebar": "Contents",
   "toc_cell": false,
   "toc_position": {},
   "toc_section_display": true,
   "toc_window_display": true
  }
 },
 "nbformat": 4,
 "nbformat_minor": 2
}
