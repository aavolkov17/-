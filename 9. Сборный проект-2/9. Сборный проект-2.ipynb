{
 "cells": [
  {
   "cell_type": "markdown",
   "metadata": {
    "toc": true
   },
   "source": [
    "<h1>Содержание<span class=\"tocSkip\"></span></h1>\n",
    "<div class=\"toc\"><ul class=\"toc-item\"><li><span><a href=\"#Подготовка-данных\" data-toc-modified-id=\"Подготовка-данных-1\"><span class=\"toc-item-num\">1&nbsp;&nbsp;</span>Подготовка данных</a></span></li><li><span><a href=\"#Анализ-данных\" data-toc-modified-id=\"Анализ-данных-2\"><span class=\"toc-item-num\">2&nbsp;&nbsp;</span>Анализ данных</a></span></li><li><span><a href=\"#Модель\" data-toc-modified-id=\"Модель-3\"><span class=\"toc-item-num\">3&nbsp;&nbsp;</span>Модель</a></span></li><li><span><a href=\"#Общий-вывод\" data-toc-modified-id=\"Общий-вывод-4\"><span class=\"toc-item-num\">4&nbsp;&nbsp;</span>Общий вывод</a></span></li></ul></div>"
   ]
  },
  {
   "cell_type": "markdown",
   "metadata": {},
   "source": [
    "# Восстановление золота из руды"
   ]
  },
  {
   "cell_type": "markdown",
   "metadata": {},
   "source": [
    "Подготовьте прототип модели машинного обучения для «Цифры». Компания разрабатывает решения для эффективной работы промышленных предприятий.\n",
    "\n",
    "Модель должна предсказать коэффициент восстановления золота из золотосодержащей руды. Используйте данные с параметрами добычи и очистки. \n",
    "\n",
    "Модель поможет оптимизировать производство, чтобы не запускать предприятие с убыточными характеристиками.\n",
    "\n",
    "Вам нужно:\n",
    "\n",
    "1. Подготовить данные;\n",
    "2. Провести исследовательский анализ данных;\n",
    "3. Построить и обучить модель.\n",
    "\n",
    "Чтобы выполнить проект, обращайтесь к библиотекам *pandas*, *matplotlib* и *sklearn.* Вам поможет их документация."
   ]
  },
  {
   "cell_type": "markdown",
   "metadata": {},
   "source": [
    "# Описание данных"
   ]
  },
  {
   "cell_type": "markdown",
   "metadata": {},
   "source": [
    "**Технологический процесс**\n",
    "- Rougher feed — исходное сырье\n",
    "- Rougher additions (или reagent additions) — флотационные реагенты: Xanthate, Sulphate, Depressant\n",
    "- Xanthate — ксантогенат (промотер, или активатор флотации);\n",
    "- Sulphate — сульфат (на данном производстве сульфид натрия);\n",
    "- Depressant — депрессант (силикат натрия).\n",
    "- Rougher process (англ. «грубый процесс») — флотация\n",
    "- Rougher tails — отвальные хвосты\n",
    "- Float banks — флотационная установка\n",
    "- Cleaner process — очистка\n",
    "- Rougher Au — черновой концентрат золота\n",
    "- Final Au — финальный концентрат золота"
   ]
  },
  {
   "cell_type": "markdown",
   "metadata": {},
   "source": [
    "**Параметры этапов**\n",
    "- air amount — объём воздуха\n",
    "- fluid levels — уровень жидкости\n",
    "- feed size — размер гранул сырья\n",
    "- feed rate — скорость подачи"
   ]
  },
  {
   "cell_type": "markdown",
   "metadata": {},
   "source": [
    "**Наименование признаков** <br>\n",
    "Наименование признаков должно быть такое:\n",
    "[этап].[тип_параметра].[название_параметра] <br>\n",
    "Пример: rougher.input.feed_ag "
   ]
  },
  {
   "cell_type": "markdown",
   "metadata": {},
   "source": [
    "**Возможные значения для блока [этап]:**\n",
    "- rougher — флотация\n",
    "- primary_cleaner — первичная очистка\n",
    "- secondary_cleaner — вторичная очистка\n",
    "- final — финальные характеристики "
   ]
  },
  {
   "cell_type": "markdown",
   "metadata": {},
   "source": [
    "**Возможные значения для блока [тип_параметра]:**\n",
    "- input — параметры сырья\n",
    "- output — параметры продукта\n",
    "- state — параметры, характеризующие текущее состояние этапа\n",
    "- calculation — расчётные характеристики"
   ]
  },
  {
   "attachments": {
    "image.png": {
     "image/png": "[encoded data removed]"
    }
   },
   "cell_type": "markdown",
   "metadata": {},
   "source": [
    "**Расчёт эффективности**\n",
    "![image.png](attachment:image.png)\n",
    "- C — доля золота в концентрате после флотации/очистки;\n",
    "- F — доля золота в сырье/концентрате до флотации/очистки;\n",
    "- T — доля золота в отвальных хвостах после флотации/очистки."
   ]
  },
  {
   "cell_type": "markdown",
   "metadata": {},
   "source": [
    "## Подготовка данных"
   ]
  },
  {
   "cell_type": "code",
   "execution_count": 1,
   "metadata": {},
   "outputs": [],
   "source": [
    "import pandas as pd\n",
    "from sklearn.metrics import mean_absolute_error\n",
    "import seaborn as sns\n",
    "import matplotlib.pyplot as plt\n",
    "from sklearn.model_selection import cross_val_score\n",
    "from sklearn.linear_model import LinearRegression\n",
    "from sklearn.tree import DecisionTreeRegressor\n",
    "from sklearn.ensemble import RandomForestRegressor\n",
    "from numpy.random import RandomState\n",
    "from sklearn.dummy import DummyRegressor\n",
    "from sklearn.metrics import make_scorer\n",
    "import numpy as np\n",
    "from sklearn.preprocessing import StandardScaler"
   ]
  },
  {
   "cell_type": "code",
   "execution_count": 2,
   "metadata": {},
   "outputs": [
    {
     "data": {
      "text/html": [
       "<div>\n",
       "<style scoped>\n",
       "    .dataframe tbody tr th:only-of-type {\n",
       "        vertical-align: middle;\n",
       "    }\n",
       "\n",
       "    .dataframe tbody tr th {\n",
       "        vertical-align: top;\n",
       "    }\n",
       "\n",
       "    .dataframe thead th {\n",
       "        text-align: right;\n",
       "    }\n",
       "</style>\n",
       "<table border=\"1\" class=\"dataframe\">\n",
       "  <thead>\n",
       "    <tr style=\"text-align: right;\">\n",
       "      <th></th>\n",
       "      <th>date</th>\n",
       "      <th>rougher.input.feed_au</th>\n",
       "      <th>rougher.input.feed_ag</th>\n",
       "      <th>rougher.input.feed_pb</th>\n",
       "      <th>rougher.input.feed_sol</th>\n",
       "      <th>rougher.input.feed_rate</th>\n",
       "      <th>rougher.input.feed_size</th>\n",
       "      <th>rougher.input.floatbank10_sulfate</th>\n",
       "      <th>rougher.input.floatbank10_xanthate</th>\n",
       "      <th>rougher.state.floatbank10_a_air</th>\n",
       "      <th>...</th>\n",
       "      <th>secondary_cleaner.output.tail_sol</th>\n",
       "      <th>final.output.concentrate_au</th>\n",
       "      <th>final.output.concentrate_ag</th>\n",
       "      <th>final.output.concentrate_pb</th>\n",
       "      <th>final.output.concentrate_sol</th>\n",
       "      <th>final.output.recovery</th>\n",
       "      <th>final.output.tail_au</th>\n",
       "      <th>final.output.tail_ag</th>\n",
       "      <th>final.output.tail_pb</th>\n",
       "      <th>final.output.tail_sol</th>\n",
       "    </tr>\n",
       "  </thead>\n",
       "  <tbody>\n",
       "    <tr>\n",
       "      <th>0</th>\n",
       "      <td>2016-01-15 00:00:00</td>\n",
       "      <td>6.486150</td>\n",
       "      <td>6.100378</td>\n",
       "      <td>2.284912</td>\n",
       "      <td>36.808594</td>\n",
       "      <td>523.546326</td>\n",
       "      <td>55.486599</td>\n",
       "      <td>11.986616</td>\n",
       "      <td>6.007990</td>\n",
       "      <td>999.706909</td>\n",
       "      <td>...</td>\n",
       "      <td>8.764648</td>\n",
       "      <td>42.192020</td>\n",
       "      <td>6.055403</td>\n",
       "      <td>9.889648</td>\n",
       "      <td>5.507324</td>\n",
       "      <td>70.541216</td>\n",
       "      <td>2.143149</td>\n",
       "      <td>10.411962</td>\n",
       "      <td>0.895447</td>\n",
       "      <td>16.904297</td>\n",
       "    </tr>\n",
       "    <tr>\n",
       "      <th>1</th>\n",
       "      <td>2016-01-15 01:00:00</td>\n",
       "      <td>6.478583</td>\n",
       "      <td>6.161113</td>\n",
       "      <td>2.266033</td>\n",
       "      <td>35.753385</td>\n",
       "      <td>525.290581</td>\n",
       "      <td>57.278666</td>\n",
       "      <td>11.971193</td>\n",
       "      <td>6.005766</td>\n",
       "      <td>1000.286398</td>\n",
       "      <td>...</td>\n",
       "      <td>9.001494</td>\n",
       "      <td>42.701629</td>\n",
       "      <td>6.029369</td>\n",
       "      <td>9.968944</td>\n",
       "      <td>5.257781</td>\n",
       "      <td>69.266198</td>\n",
       "      <td>2.224930</td>\n",
       "      <td>10.462676</td>\n",
       "      <td>0.927452</td>\n",
       "      <td>16.634514</td>\n",
       "    </tr>\n",
       "    <tr>\n",
       "      <th>2</th>\n",
       "      <td>2016-01-15 02:00:00</td>\n",
       "      <td>6.362222</td>\n",
       "      <td>6.116455</td>\n",
       "      <td>2.159622</td>\n",
       "      <td>35.971630</td>\n",
       "      <td>530.026610</td>\n",
       "      <td>57.510649</td>\n",
       "      <td>11.920603</td>\n",
       "      <td>6.197377</td>\n",
       "      <td>999.719565</td>\n",
       "      <td>...</td>\n",
       "      <td>8.842896</td>\n",
       "      <td>42.657501</td>\n",
       "      <td>6.055926</td>\n",
       "      <td>10.213995</td>\n",
       "      <td>5.383759</td>\n",
       "      <td>68.116445</td>\n",
       "      <td>2.257889</td>\n",
       "      <td>10.507046</td>\n",
       "      <td>0.953716</td>\n",
       "      <td>16.208849</td>\n",
       "    </tr>\n",
       "    <tr>\n",
       "      <th>3</th>\n",
       "      <td>2016-01-15 03:00:00</td>\n",
       "      <td>6.118189</td>\n",
       "      <td>6.043309</td>\n",
       "      <td>2.037807</td>\n",
       "      <td>36.862241</td>\n",
       "      <td>542.590390</td>\n",
       "      <td>57.792734</td>\n",
       "      <td>11.630094</td>\n",
       "      <td>6.203177</td>\n",
       "      <td>999.814770</td>\n",
       "      <td>...</td>\n",
       "      <td>9.122857</td>\n",
       "      <td>42.689819</td>\n",
       "      <td>6.047977</td>\n",
       "      <td>9.977019</td>\n",
       "      <td>4.858634</td>\n",
       "      <td>68.347543</td>\n",
       "      <td>2.146849</td>\n",
       "      <td>10.422762</td>\n",
       "      <td>0.883763</td>\n",
       "      <td>16.532835</td>\n",
       "    </tr>\n",
       "    <tr>\n",
       "      <th>4</th>\n",
       "      <td>2016-01-15 04:00:00</td>\n",
       "      <td>5.663707</td>\n",
       "      <td>6.060915</td>\n",
       "      <td>1.786875</td>\n",
       "      <td>34.347666</td>\n",
       "      <td>540.531893</td>\n",
       "      <td>56.047189</td>\n",
       "      <td>10.957755</td>\n",
       "      <td>6.198826</td>\n",
       "      <td>999.678690</td>\n",
       "      <td>...</td>\n",
       "      <td>8.871028</td>\n",
       "      <td>42.774141</td>\n",
       "      <td>6.148599</td>\n",
       "      <td>10.142511</td>\n",
       "      <td>4.939416</td>\n",
       "      <td>66.927016</td>\n",
       "      <td>2.055292</td>\n",
       "      <td>10.360302</td>\n",
       "      <td>0.792826</td>\n",
       "      <td>16.525686</td>\n",
       "    </tr>\n",
       "  </tbody>\n",
       "</table>\n",
       "<p>5 rows × 87 columns</p>\n",
       "</div>"
      ],
      "text/plain": [
       "                  date  rougher.input.feed_au  rougher.input.feed_ag  \\\n",
       "0  2016-01-15 00:00:00               6.486150               6.100378   \n",
       "1  2016-01-15 01:00:00               6.478583               6.161113   \n",
       "2  2016-01-15 02:00:00               6.362222               6.116455   \n",
       "3  2016-01-15 03:00:00               6.118189               6.043309   \n",
       "4  2016-01-15 04:00:00               5.663707               6.060915   \n",
       "\n",
       "   rougher.input.feed_pb  rougher.input.feed_sol  rougher.input.feed_rate  \\\n",
       "0               2.284912               36.808594               523.546326   \n",
       "1               2.266033               35.753385               525.290581   \n",
       "2               2.159622               35.971630               530.026610   \n",
       "3               2.037807               36.862241               542.590390   \n",
       "4               1.786875               34.347666               540.531893   \n",
       "\n",
       "   rougher.input.feed_size  rougher.input.floatbank10_sulfate  \\\n",
       "0                55.486599                          11.986616   \n",
       "1                57.278666                          11.971193   \n",
       "2                57.510649                          11.920603   \n",
       "3                57.792734                          11.630094   \n",
       "4                56.047189                          10.957755   \n",
       "\n",
       "   rougher.input.floatbank10_xanthate  rougher.state.floatbank10_a_air  ...  \\\n",
       "0                            6.007990                       999.706909  ...   \n",
       "1                            6.005766                      1000.286398  ...   \n",
       "2                            6.197377                       999.719565  ...   \n",
       "3                            6.203177                       999.814770  ...   \n",
       "4                            6.198826                       999.678690  ...   \n",
       "\n",
       "   secondary_cleaner.output.tail_sol  final.output.concentrate_au  \\\n",
       "0                           8.764648                    42.192020   \n",
       "1                           9.001494                    42.701629   \n",
       "2                           8.842896                    42.657501   \n",
       "3                           9.122857                    42.689819   \n",
       "4                           8.871028                    42.774141   \n",
       "\n",
       "   final.output.concentrate_ag  final.output.concentrate_pb  \\\n",
       "0                     6.055403                     9.889648   \n",
       "1                     6.029369                     9.968944   \n",
       "2                     6.055926                    10.213995   \n",
       "3                     6.047977                     9.977019   \n",
       "4                     6.148599                    10.142511   \n",
       "\n",
       "   final.output.concentrate_sol  final.output.recovery  final.output.tail_au  \\\n",
       "0                      5.507324              70.541216              2.143149   \n",
       "1                      5.257781              69.266198              2.224930   \n",
       "2                      5.383759              68.116445              2.257889   \n",
       "3                      4.858634              68.347543              2.146849   \n",
       "4                      4.939416              66.927016              2.055292   \n",
       "\n",
       "   final.output.tail_ag  final.output.tail_pb  final.output.tail_sol  \n",
       "0             10.411962              0.895447              16.904297  \n",
       "1             10.462676              0.927452              16.634514  \n",
       "2             10.507046              0.953716              16.208849  \n",
       "3             10.422762              0.883763              16.532835  \n",
       "4             10.360302              0.792826              16.525686  \n",
       "\n",
       "[5 rows x 87 columns]"
      ]
     },
     "execution_count": 2,
     "metadata": {},
     "output_type": "execute_result"
    }
   ],
   "source": [
    "data_train = pd.read_csv('/datasets/gold_industry_train.csv')\n",
    "data_train.head()"
   ]
  },
  {
   "cell_type": "code",
   "execution_count": 3,
   "metadata": {},
   "outputs": [
    {
     "name": "stdout",
     "output_type": "stream",
     "text": [
      "<class 'pandas.core.frame.DataFrame'>\n",
      "RangeIndex: 14579 entries, 0 to 14578\n",
      "Data columns (total 87 columns):\n",
      " #   Column                                              Non-Null Count  Dtype  \n",
      "---  ------                                              --------------  -----  \n",
      " 0   date                                                14579 non-null  object \n",
      " 1   rougher.input.feed_au                               14579 non-null  float64\n",
      " 2   rougher.input.feed_ag                               14579 non-null  float64\n",
      " 3   rougher.input.feed_pb                               14507 non-null  float64\n",
      " 4   rougher.input.feed_sol                              14502 non-null  float64\n",
      " 5   rougher.input.feed_rate                             14572 non-null  float64\n",
      " 6   rougher.input.feed_size                             14478 non-null  float64\n",
      " 7   rougher.input.floatbank10_sulfate                   14548 non-null  float64\n",
      " 8   rougher.input.floatbank10_xanthate                  14572 non-null  float64\n",
      " 9   rougher.state.floatbank10_a_air                     14579 non-null  float64\n",
      " 10  rougher.state.floatbank10_a_level                   14579 non-null  float64\n",
      " 11  rougher.state.floatbank10_b_air                     14579 non-null  float64\n",
      " 12  rougher.state.floatbank10_b_level                   14579 non-null  float64\n",
      " 13  rougher.state.floatbank10_c_air                     14579 non-null  float64\n",
      " 14  rougher.state.floatbank10_c_level                   14579 non-null  float64\n",
      " 15  rougher.state.floatbank10_d_air                     14579 non-null  float64\n",
      " 16  rougher.state.floatbank10_d_level                   14579 non-null  float64\n",
      " 17  rougher.state.floatbank10_e_air                     14150 non-null  float64\n",
      " 18  rougher.state.floatbank10_e_level                   14579 non-null  float64\n",
      " 19  rougher.state.floatbank10_f_air                     14579 non-null  float64\n",
      " 20  rougher.state.floatbank10_f_level                   14579 non-null  float64\n",
      " 21  rougher.input.floatbank11_sulfate                   14543 non-null  float64\n",
      " 22  rougher.input.floatbank11_xanthate                  14172 non-null  float64\n",
      " 23  rougher.calculation.sulfate_to_au_concentrate       14578 non-null  float64\n",
      " 24  rougher.calculation.floatbank10_sulfate_to_au_feed  14578 non-null  float64\n",
      " 25  rougher.calculation.floatbank11_sulfate_to_au_feed  14578 non-null  float64\n",
      " 26  rougher.calculation.au_pb_ratio                     14579 non-null  float64\n",
      " 27  rougher.output.concentrate_au                       14579 non-null  float64\n",
      " 28  rougher.output.concentrate_ag                       14579 non-null  float64\n",
      " 29  rougher.output.concentrate_pb                       14579 non-null  float64\n",
      " 30  rougher.output.concentrate_sol                      14561 non-null  float64\n",
      " 31  rougher.output.recovery                             14579 non-null  float64\n",
      " 32  rougher.output.tail_au                              14579 non-null  float64\n",
      " 33  rougher.output.tail_ag                              14578 non-null  float64\n",
      " 34  rougher.output.tail_pb                              14579 non-null  float64\n",
      " 35  rougher.output.tail_sol                             14579 non-null  float64\n",
      " 36  primary_cleaner.input.sulfate                       14556 non-null  float64\n",
      " 37  primary_cleaner.input.depressant                    14551 non-null  float64\n",
      " 38  primary_cleaner.input.feed_size                     14579 non-null  float64\n",
      " 39  primary_cleaner.input.xanthate                      14518 non-null  float64\n",
      " 40  primary_cleaner.state.floatbank8_a_air              14576 non-null  float64\n",
      " 41  primary_cleaner.state.floatbank8_a_level            14579 non-null  float64\n",
      " 42  primary_cleaner.state.floatbank8_b_air              14576 non-null  float64\n",
      " 43  primary_cleaner.state.floatbank8_b_level            14579 non-null  float64\n",
      " 44  primary_cleaner.state.floatbank8_c_air              14579 non-null  float64\n",
      " 45  primary_cleaner.state.floatbank8_c_level            14579 non-null  float64\n",
      " 46  primary_cleaner.state.floatbank8_d_air              14578 non-null  float64\n",
      " 47  primary_cleaner.state.floatbank8_d_level            14579 non-null  float64\n",
      " 48  primary_cleaner.output.concentrate_au               14579 non-null  float64\n",
      " 49  primary_cleaner.output.concentrate_ag               14579 non-null  float64\n",
      " 50  primary_cleaner.output.concentrate_pb               14491 non-null  float64\n",
      " 51  primary_cleaner.output.concentrate_sol              14314 non-null  float64\n",
      " 52  primary_cleaner.output.tail_au                      14579 non-null  float64\n",
      " 53  primary_cleaner.output.tail_ag                      14575 non-null  float64\n",
      " 54  primary_cleaner.output.tail_pb                      14573 non-null  float64\n",
      " 55  primary_cleaner.output.tail_sol                     14534 non-null  float64\n",
      " 56  secondary_cleaner.state.floatbank2_a_air            14485 non-null  float64\n",
      " 57  secondary_cleaner.state.floatbank2_a_level          14579 non-null  float64\n",
      " 58  secondary_cleaner.state.floatbank2_b_air            14557 non-null  float64\n",
      " 59  secondary_cleaner.state.floatbank2_b_level          14579 non-null  float64\n",
      " 60  secondary_cleaner.state.floatbank3_a_air            14567 non-null  float64\n",
      " 61  secondary_cleaner.state.floatbank3_a_level          14579 non-null  float64\n",
      " 62  secondary_cleaner.state.floatbank3_b_air            14579 non-null  float64\n",
      " 63  secondary_cleaner.state.floatbank3_b_level          14579 non-null  float64\n",
      " 64  secondary_cleaner.state.floatbank4_a_air            14574 non-null  float64\n",
      " 65  secondary_cleaner.state.floatbank4_a_level          14579 non-null  float64\n",
      " 66  secondary_cleaner.state.floatbank4_b_air            14579 non-null  float64\n",
      " 67  secondary_cleaner.state.floatbank4_b_level          14579 non-null  float64\n",
      " 68  secondary_cleaner.state.floatbank5_a_air            14579 non-null  float64\n",
      " 69  secondary_cleaner.state.floatbank5_a_level          14579 non-null  float64\n",
      " 70  secondary_cleaner.state.floatbank5_b_air            14579 non-null  float64\n",
      " 71  secondary_cleaner.state.floatbank5_b_level          14579 non-null  float64\n",
      " 72  secondary_cleaner.state.floatbank6_a_air            14578 non-null  float64\n",
      " 73  secondary_cleaner.state.floatbank6_a_level          14579 non-null  float64\n",
      " 74  secondary_cleaner.output.tail_au                    14579 non-null  float64\n",
      " 75  secondary_cleaner.output.tail_ag                    14578 non-null  float64\n",
      " 76  secondary_cleaner.output.tail_pb                    14575 non-null  float64\n",
      " 77  secondary_cleaner.output.tail_sol                   13659 non-null  float64\n",
      " 78  final.output.concentrate_au                         14579 non-null  float64\n",
      " 79  final.output.concentrate_ag                         14578 non-null  float64\n",
      " 80  final.output.concentrate_pb                         14578 non-null  float64\n",
      " 81  final.output.concentrate_sol                        14387 non-null  float64\n",
      " 82  final.output.recovery                               14579 non-null  float64\n",
      " 83  final.output.tail_au                                14579 non-null  float64\n",
      " 84  final.output.tail_ag                                14578 non-null  float64\n",
      " 85  final.output.tail_pb                                14504 non-null  float64\n",
      " 86  final.output.tail_sol                               14574 non-null  float64\n",
      "dtypes: float64(86), object(1)\n",
      "memory usage: 9.7+ MB\n"
     ]
    }
   ],
   "source": [
    "data_train.info()"
   ]
  },
  {
   "cell_type": "code",
   "execution_count": 4,
   "metadata": {},
   "outputs": [
    {
     "data": {
      "text/plain": [
       "0"
      ]
     },
     "execution_count": 4,
     "metadata": {},
     "output_type": "execute_result"
    }
   ],
   "source": [
    "data_train.duplicated().sum()"
   ]
  },
  {
   "cell_type": "code",
   "execution_count": 5,
   "metadata": {},
   "outputs": [
    {
     "data": {
      "text/html": [
       "<div>\n",
       "<style scoped>\n",
       "    .dataframe tbody tr th:only-of-type {\n",
       "        vertical-align: middle;\n",
       "    }\n",
       "\n",
       "    .dataframe tbody tr th {\n",
       "        vertical-align: top;\n",
       "    }\n",
       "\n",
       "    .dataframe thead th {\n",
       "        text-align: right;\n",
       "    }\n",
       "</style>\n",
       "<table border=\"1\" class=\"dataframe\">\n",
       "  <thead>\n",
       "    <tr style=\"text-align: right;\">\n",
       "      <th></th>\n",
       "      <th>date</th>\n",
       "      <th>rougher.input.feed_au</th>\n",
       "      <th>rougher.input.feed_ag</th>\n",
       "      <th>rougher.input.feed_pb</th>\n",
       "      <th>rougher.input.feed_sol</th>\n",
       "      <th>rougher.input.feed_rate</th>\n",
       "      <th>rougher.input.feed_size</th>\n",
       "      <th>rougher.input.floatbank10_sulfate</th>\n",
       "      <th>rougher.input.floatbank10_xanthate</th>\n",
       "      <th>rougher.state.floatbank10_a_air</th>\n",
       "      <th>...</th>\n",
       "      <th>secondary_cleaner.state.floatbank4_a_air</th>\n",
       "      <th>secondary_cleaner.state.floatbank4_a_level</th>\n",
       "      <th>secondary_cleaner.state.floatbank4_b_air</th>\n",
       "      <th>secondary_cleaner.state.floatbank4_b_level</th>\n",
       "      <th>secondary_cleaner.state.floatbank5_a_air</th>\n",
       "      <th>secondary_cleaner.state.floatbank5_a_level</th>\n",
       "      <th>secondary_cleaner.state.floatbank5_b_air</th>\n",
       "      <th>secondary_cleaner.state.floatbank5_b_level</th>\n",
       "      <th>secondary_cleaner.state.floatbank6_a_air</th>\n",
       "      <th>secondary_cleaner.state.floatbank6_a_level</th>\n",
       "    </tr>\n",
       "  </thead>\n",
       "  <tbody>\n",
       "    <tr>\n",
       "      <th>0</th>\n",
       "      <td>2017-12-09 14:59:59</td>\n",
       "      <td>4.365491</td>\n",
       "      <td>6.158718</td>\n",
       "      <td>3.875727</td>\n",
       "      <td>39.135119</td>\n",
       "      <td>555.820208</td>\n",
       "      <td>94.544358</td>\n",
       "      <td>6.146982</td>\n",
       "      <td>9.308612</td>\n",
       "      <td>1196.238112</td>\n",
       "      <td>...</td>\n",
       "      <td>23.018622</td>\n",
       "      <td>-500.492702</td>\n",
       "      <td>20.020205</td>\n",
       "      <td>-500.220296</td>\n",
       "      <td>17.963512</td>\n",
       "      <td>-499.939490</td>\n",
       "      <td>12.990306</td>\n",
       "      <td>-500.080993</td>\n",
       "      <td>19.990336</td>\n",
       "      <td>-499.191575</td>\n",
       "    </tr>\n",
       "    <tr>\n",
       "      <th>1</th>\n",
       "      <td>2017-12-09 15:59:59</td>\n",
       "      <td>4.362781</td>\n",
       "      <td>6.048130</td>\n",
       "      <td>3.902537</td>\n",
       "      <td>39.713906</td>\n",
       "      <td>544.731687</td>\n",
       "      <td>123.742430</td>\n",
       "      <td>6.210119</td>\n",
       "      <td>9.297709</td>\n",
       "      <td>1201.904177</td>\n",
       "      <td>...</td>\n",
       "      <td>23.024963</td>\n",
       "      <td>-501.153409</td>\n",
       "      <td>20.054122</td>\n",
       "      <td>-500.314711</td>\n",
       "      <td>17.979515</td>\n",
       "      <td>-499.272871</td>\n",
       "      <td>12.992404</td>\n",
       "      <td>-499.976268</td>\n",
       "      <td>20.013986</td>\n",
       "      <td>-500.625471</td>\n",
       "    </tr>\n",
       "    <tr>\n",
       "      <th>2</th>\n",
       "      <td>2017-12-09 16:59:59</td>\n",
       "      <td>5.081681</td>\n",
       "      <td>6.082745</td>\n",
       "      <td>4.564078</td>\n",
       "      <td>37.208683</td>\n",
       "      <td>558.155110</td>\n",
       "      <td>82.610855</td>\n",
       "      <td>7.363824</td>\n",
       "      <td>9.003562</td>\n",
       "      <td>1200.826926</td>\n",
       "      <td>...</td>\n",
       "      <td>22.993827</td>\n",
       "      <td>-501.559663</td>\n",
       "      <td>20.029144</td>\n",
       "      <td>-500.000662</td>\n",
       "      <td>18.012723</td>\n",
       "      <td>-500.024764</td>\n",
       "      <td>13.016445</td>\n",
       "      <td>-500.058432</td>\n",
       "      <td>19.973767</td>\n",
       "      <td>-501.394155</td>\n",
       "    </tr>\n",
       "    <tr>\n",
       "      <th>3</th>\n",
       "      <td>2017-12-09 17:59:59</td>\n",
       "      <td>5.145949</td>\n",
       "      <td>6.084374</td>\n",
       "      <td>4.768124</td>\n",
       "      <td>36.808874</td>\n",
       "      <td>539.713765</td>\n",
       "      <td>77.984784</td>\n",
       "      <td>6.927072</td>\n",
       "      <td>8.955597</td>\n",
       "      <td>1199.292489</td>\n",
       "      <td>...</td>\n",
       "      <td>23.032807</td>\n",
       "      <td>-501.287889</td>\n",
       "      <td>19.977466</td>\n",
       "      <td>-500.159903</td>\n",
       "      <td>17.980463</td>\n",
       "      <td>-500.504602</td>\n",
       "      <td>12.949071</td>\n",
       "      <td>-500.009937</td>\n",
       "      <td>20.010332</td>\n",
       "      <td>-508.337973</td>\n",
       "    </tr>\n",
       "    <tr>\n",
       "      <th>4</th>\n",
       "      <td>2017-12-09 18:59:59</td>\n",
       "      <td>5.735249</td>\n",
       "      <td>6.165220</td>\n",
       "      <td>4.512346</td>\n",
       "      <td>37.810642</td>\n",
       "      <td>558.713584</td>\n",
       "      <td>86.434874</td>\n",
       "      <td>7.823471</td>\n",
       "      <td>7.490356</td>\n",
       "      <td>1198.005449</td>\n",
       "      <td>...</td>\n",
       "      <td>23.001911</td>\n",
       "      <td>-499.947838</td>\n",
       "      <td>20.023735</td>\n",
       "      <td>-499.713680</td>\n",
       "      <td>17.990955</td>\n",
       "      <td>-500.334769</td>\n",
       "      <td>13.007523</td>\n",
       "      <td>-499.968459</td>\n",
       "      <td>19.995999</td>\n",
       "      <td>-499.788805</td>\n",
       "    </tr>\n",
       "  </tbody>\n",
       "</table>\n",
       "<p>5 rows × 53 columns</p>\n",
       "</div>"
      ],
      "text/plain": [
       "                  date  rougher.input.feed_au  rougher.input.feed_ag  \\\n",
       "0  2017-12-09 14:59:59               4.365491               6.158718   \n",
       "1  2017-12-09 15:59:59               4.362781               6.048130   \n",
       "2  2017-12-09 16:59:59               5.081681               6.082745   \n",
       "3  2017-12-09 17:59:59               5.145949               6.084374   \n",
       "4  2017-12-09 18:59:59               5.735249               6.165220   \n",
       "\n",
       "   rougher.input.feed_pb  rougher.input.feed_sol  rougher.input.feed_rate  \\\n",
       "0               3.875727               39.135119               555.820208   \n",
       "1               3.902537               39.713906               544.731687   \n",
       "2               4.564078               37.208683               558.155110   \n",
       "3               4.768124               36.808874               539.713765   \n",
       "4               4.512346               37.810642               558.713584   \n",
       "\n",
       "   rougher.input.feed_size  rougher.input.floatbank10_sulfate  \\\n",
       "0                94.544358                           6.146982   \n",
       "1               123.742430                           6.210119   \n",
       "2                82.610855                           7.363824   \n",
       "3                77.984784                           6.927072   \n",
       "4                86.434874                           7.823471   \n",
       "\n",
       "   rougher.input.floatbank10_xanthate  rougher.state.floatbank10_a_air  ...  \\\n",
       "0                            9.308612                      1196.238112  ...   \n",
       "1                            9.297709                      1201.904177  ...   \n",
       "2                            9.003562                      1200.826926  ...   \n",
       "3                            8.955597                      1199.292489  ...   \n",
       "4                            7.490356                      1198.005449  ...   \n",
       "\n",
       "   secondary_cleaner.state.floatbank4_a_air  \\\n",
       "0                                 23.018622   \n",
       "1                                 23.024963   \n",
       "2                                 22.993827   \n",
       "3                                 23.032807   \n",
       "4                                 23.001911   \n",
       "\n",
       "   secondary_cleaner.state.floatbank4_a_level  \\\n",
       "0                                 -500.492702   \n",
       "1                                 -501.153409   \n",
       "2                                 -501.559663   \n",
       "3                                 -501.287889   \n",
       "4                                 -499.947838   \n",
       "\n",
       "   secondary_cleaner.state.floatbank4_b_air  \\\n",
       "0                                 20.020205   \n",
       "1                                 20.054122   \n",
       "2                                 20.029144   \n",
       "3                                 19.977466   \n",
       "4                                 20.023735   \n",
       "\n",
       "   secondary_cleaner.state.floatbank4_b_level  \\\n",
       "0                                 -500.220296   \n",
       "1                                 -500.314711   \n",
       "2                                 -500.000662   \n",
       "3                                 -500.159903   \n",
       "4                                 -499.713680   \n",
       "\n",
       "   secondary_cleaner.state.floatbank5_a_air  \\\n",
       "0                                 17.963512   \n",
       "1                                 17.979515   \n",
       "2                                 18.012723   \n",
       "3                                 17.980463   \n",
       "4                                 17.990955   \n",
       "\n",
       "   secondary_cleaner.state.floatbank5_a_level  \\\n",
       "0                                 -499.939490   \n",
       "1                                 -499.272871   \n",
       "2                                 -500.024764   \n",
       "3                                 -500.504602   \n",
       "4                                 -500.334769   \n",
       "\n",
       "   secondary_cleaner.state.floatbank5_b_air  \\\n",
       "0                                 12.990306   \n",
       "1                                 12.992404   \n",
       "2                                 13.016445   \n",
       "3                                 12.949071   \n",
       "4                                 13.007523   \n",
       "\n",
       "   secondary_cleaner.state.floatbank5_b_level  \\\n",
       "0                                 -500.080993   \n",
       "1                                 -499.976268   \n",
       "2                                 -500.058432   \n",
       "3                                 -500.009937   \n",
       "4                                 -499.968459   \n",
       "\n",
       "   secondary_cleaner.state.floatbank6_a_air  \\\n",
       "0                                 19.990336   \n",
       "1                                 20.013986   \n",
       "2                                 19.973767   \n",
       "3                                 20.010332   \n",
       "4                                 19.995999   \n",
       "\n",
       "   secondary_cleaner.state.floatbank6_a_level  \n",
       "0                                 -499.191575  \n",
       "1                                 -500.625471  \n",
       "2                                 -501.394155  \n",
       "3                                 -508.337973  \n",
       "4                                 -499.788805  \n",
       "\n",
       "[5 rows x 53 columns]"
      ]
     },
     "execution_count": 5,
     "metadata": {},
     "output_type": "execute_result"
    }
   ],
   "source": [
    "data_test = pd.read_csv('/datasets/gold_industry_test.csv')\n",
    "data_test.head()"
   ]
  },
  {
   "cell_type": "code",
   "execution_count": 6,
   "metadata": {},
   "outputs": [
    {
     "name": "stdout",
     "output_type": "stream",
     "text": [
      "<class 'pandas.core.frame.DataFrame'>\n",
      "RangeIndex: 4860 entries, 0 to 4859\n",
      "Data columns (total 53 columns):\n",
      " #   Column                                      Non-Null Count  Dtype  \n",
      "---  ------                                      --------------  -----  \n",
      " 0   date                                        4860 non-null   object \n",
      " 1   rougher.input.feed_au                       4860 non-null   float64\n",
      " 2   rougher.input.feed_ag                       4860 non-null   float64\n",
      " 3   rougher.input.feed_pb                       4832 non-null   float64\n",
      " 4   rougher.input.feed_sol                      4838 non-null   float64\n",
      " 5   rougher.input.feed_rate                     4856 non-null   float64\n",
      " 6   rougher.input.feed_size                     4816 non-null   float64\n",
      " 7   rougher.input.floatbank10_sulfate           4857 non-null   float64\n",
      " 8   rougher.input.floatbank10_xanthate          4859 non-null   float64\n",
      " 9   rougher.state.floatbank10_a_air             4859 non-null   float64\n",
      " 10  rougher.state.floatbank10_a_level           4859 non-null   float64\n",
      " 11  rougher.state.floatbank10_b_air             4859 non-null   float64\n",
      " 12  rougher.state.floatbank10_b_level           4859 non-null   float64\n",
      " 13  rougher.state.floatbank10_c_air             4859 non-null   float64\n",
      " 14  rougher.state.floatbank10_c_level           4859 non-null   float64\n",
      " 15  rougher.state.floatbank10_d_air             4860 non-null   float64\n",
      " 16  rougher.state.floatbank10_d_level           4860 non-null   float64\n",
      " 17  rougher.state.floatbank10_e_air             4853 non-null   float64\n",
      " 18  rougher.state.floatbank10_e_level           4860 non-null   float64\n",
      " 19  rougher.state.floatbank10_f_air             4860 non-null   float64\n",
      " 20  rougher.state.floatbank10_f_level           4860 non-null   float64\n",
      " 21  rougher.input.floatbank11_sulfate           4852 non-null   float64\n",
      " 22  rougher.input.floatbank11_xanthate          4814 non-null   float64\n",
      " 23  primary_cleaner.input.sulfate               4859 non-null   float64\n",
      " 24  primary_cleaner.input.depressant            4851 non-null   float64\n",
      " 25  primary_cleaner.input.feed_size             4860 non-null   float64\n",
      " 26  primary_cleaner.input.xanthate              4817 non-null   float64\n",
      " 27  primary_cleaner.state.floatbank8_a_air      4859 non-null   float64\n",
      " 28  primary_cleaner.state.floatbank8_a_level    4859 non-null   float64\n",
      " 29  primary_cleaner.state.floatbank8_b_air      4859 non-null   float64\n",
      " 30  primary_cleaner.state.floatbank8_b_level    4859 non-null   float64\n",
      " 31  primary_cleaner.state.floatbank8_c_air      4858 non-null   float64\n",
      " 32  primary_cleaner.state.floatbank8_c_level    4859 non-null   float64\n",
      " 33  primary_cleaner.state.floatbank8_d_air      4858 non-null   float64\n",
      " 34  primary_cleaner.state.floatbank8_d_level    4859 non-null   float64\n",
      " 35  secondary_cleaner.state.floatbank2_a_air    4734 non-null   float64\n",
      " 36  secondary_cleaner.state.floatbank2_a_level  4859 non-null   float64\n",
      " 37  secondary_cleaner.state.floatbank2_b_air    4859 non-null   float64\n",
      " 38  secondary_cleaner.state.floatbank2_b_level  4859 non-null   float64\n",
      " 39  secondary_cleaner.state.floatbank3_a_air    4859 non-null   float64\n",
      " 40  secondary_cleaner.state.floatbank3_a_level  4859 non-null   float64\n",
      " 41  secondary_cleaner.state.floatbank3_b_air    4859 non-null   float64\n",
      " 42  secondary_cleaner.state.floatbank3_b_level  4859 non-null   float64\n",
      " 43  secondary_cleaner.state.floatbank4_a_air    4859 non-null   float64\n",
      " 44  secondary_cleaner.state.floatbank4_a_level  4859 non-null   float64\n",
      " 45  secondary_cleaner.state.floatbank4_b_air    4859 non-null   float64\n",
      " 46  secondary_cleaner.state.floatbank4_b_level  4859 non-null   float64\n",
      " 47  secondary_cleaner.state.floatbank5_a_air    4859 non-null   float64\n",
      " 48  secondary_cleaner.state.floatbank5_a_level  4859 non-null   float64\n",
      " 49  secondary_cleaner.state.floatbank5_b_air    4859 non-null   float64\n",
      " 50  secondary_cleaner.state.floatbank5_b_level  4859 non-null   float64\n",
      " 51  secondary_cleaner.state.floatbank6_a_air    4859 non-null   float64\n",
      " 52  secondary_cleaner.state.floatbank6_a_level  4859 non-null   float64\n",
      "dtypes: float64(52), object(1)\n",
      "memory usage: 2.0+ MB\n"
     ]
    }
   ],
   "source": [
    "data_test.info()"
   ]
  },
  {
   "cell_type": "code",
   "execution_count": 7,
   "metadata": {},
   "outputs": [
    {
     "data": {
      "text/plain": [
       "0"
      ]
     },
     "execution_count": 7,
     "metadata": {},
     "output_type": "execute_result"
    }
   ],
   "source": [
    "data_test.duplicated().sum()"
   ]
  },
  {
   "cell_type": "code",
   "execution_count": 8,
   "metadata": {},
   "outputs": [
    {
     "data": {
      "text/html": [
       "<div>\n",
       "<style scoped>\n",
       "    .dataframe tbody tr th:only-of-type {\n",
       "        vertical-align: middle;\n",
       "    }\n",
       "\n",
       "    .dataframe tbody tr th {\n",
       "        vertical-align: top;\n",
       "    }\n",
       "\n",
       "    .dataframe thead th {\n",
       "        text-align: right;\n",
       "    }\n",
       "</style>\n",
       "<table border=\"1\" class=\"dataframe\">\n",
       "  <thead>\n",
       "    <tr style=\"text-align: right;\">\n",
       "      <th></th>\n",
       "      <th>date</th>\n",
       "      <th>rougher.input.feed_au</th>\n",
       "      <th>rougher.input.feed_ag</th>\n",
       "      <th>rougher.input.feed_pb</th>\n",
       "      <th>rougher.input.feed_sol</th>\n",
       "      <th>rougher.input.feed_rate</th>\n",
       "      <th>rougher.input.feed_size</th>\n",
       "      <th>rougher.input.floatbank10_sulfate</th>\n",
       "      <th>rougher.input.floatbank10_xanthate</th>\n",
       "      <th>rougher.state.floatbank10_a_air</th>\n",
       "      <th>...</th>\n",
       "      <th>secondary_cleaner.output.tail_sol</th>\n",
       "      <th>final.output.concentrate_au</th>\n",
       "      <th>final.output.concentrate_ag</th>\n",
       "      <th>final.output.concentrate_pb</th>\n",
       "      <th>final.output.concentrate_sol</th>\n",
       "      <th>final.output.recovery</th>\n",
       "      <th>final.output.tail_au</th>\n",
       "      <th>final.output.tail_ag</th>\n",
       "      <th>final.output.tail_pb</th>\n",
       "      <th>final.output.tail_sol</th>\n",
       "    </tr>\n",
       "  </thead>\n",
       "  <tbody>\n",
       "    <tr>\n",
       "      <th>0</th>\n",
       "      <td>2016-01-15 00:00:00</td>\n",
       "      <td>6.486150</td>\n",
       "      <td>6.100378</td>\n",
       "      <td>2.284912</td>\n",
       "      <td>36.808594</td>\n",
       "      <td>523.546326</td>\n",
       "      <td>55.486599</td>\n",
       "      <td>11.986616</td>\n",
       "      <td>6.007990</td>\n",
       "      <td>999.706909</td>\n",
       "      <td>...</td>\n",
       "      <td>8.764648</td>\n",
       "      <td>42.192020</td>\n",
       "      <td>6.055403</td>\n",
       "      <td>9.889648</td>\n",
       "      <td>5.507324</td>\n",
       "      <td>70.541216</td>\n",
       "      <td>2.143149</td>\n",
       "      <td>10.411962</td>\n",
       "      <td>0.895447</td>\n",
       "      <td>16.904297</td>\n",
       "    </tr>\n",
       "    <tr>\n",
       "      <th>1</th>\n",
       "      <td>2016-01-15 01:00:00</td>\n",
       "      <td>6.478583</td>\n",
       "      <td>6.161113</td>\n",
       "      <td>2.266033</td>\n",
       "      <td>35.753385</td>\n",
       "      <td>525.290581</td>\n",
       "      <td>57.278666</td>\n",
       "      <td>11.971193</td>\n",
       "      <td>6.005766</td>\n",
       "      <td>1000.286398</td>\n",
       "      <td>...</td>\n",
       "      <td>9.001494</td>\n",
       "      <td>42.701629</td>\n",
       "      <td>6.029369</td>\n",
       "      <td>9.968944</td>\n",
       "      <td>5.257781</td>\n",
       "      <td>69.266198</td>\n",
       "      <td>2.224930</td>\n",
       "      <td>10.462676</td>\n",
       "      <td>0.927452</td>\n",
       "      <td>16.634514</td>\n",
       "    </tr>\n",
       "    <tr>\n",
       "      <th>2</th>\n",
       "      <td>2016-01-15 02:00:00</td>\n",
       "      <td>6.362222</td>\n",
       "      <td>6.116455</td>\n",
       "      <td>2.159622</td>\n",
       "      <td>35.971630</td>\n",
       "      <td>530.026610</td>\n",
       "      <td>57.510649</td>\n",
       "      <td>11.920603</td>\n",
       "      <td>6.197377</td>\n",
       "      <td>999.719565</td>\n",
       "      <td>...</td>\n",
       "      <td>8.842896</td>\n",
       "      <td>42.657501</td>\n",
       "      <td>6.055926</td>\n",
       "      <td>10.213995</td>\n",
       "      <td>5.383759</td>\n",
       "      <td>68.116445</td>\n",
       "      <td>2.257889</td>\n",
       "      <td>10.507046</td>\n",
       "      <td>0.953716</td>\n",
       "      <td>16.208849</td>\n",
       "    </tr>\n",
       "    <tr>\n",
       "      <th>3</th>\n",
       "      <td>2016-01-15 03:00:00</td>\n",
       "      <td>6.118189</td>\n",
       "      <td>6.043309</td>\n",
       "      <td>2.037807</td>\n",
       "      <td>36.862241</td>\n",
       "      <td>542.590390</td>\n",
       "      <td>57.792734</td>\n",
       "      <td>11.630094</td>\n",
       "      <td>6.203177</td>\n",
       "      <td>999.814770</td>\n",
       "      <td>...</td>\n",
       "      <td>9.122857</td>\n",
       "      <td>42.689819</td>\n",
       "      <td>6.047977</td>\n",
       "      <td>9.977019</td>\n",
       "      <td>4.858634</td>\n",
       "      <td>68.347543</td>\n",
       "      <td>2.146849</td>\n",
       "      <td>10.422762</td>\n",
       "      <td>0.883763</td>\n",
       "      <td>16.532835</td>\n",
       "    </tr>\n",
       "    <tr>\n",
       "      <th>4</th>\n",
       "      <td>2016-01-15 04:00:00</td>\n",
       "      <td>5.663707</td>\n",
       "      <td>6.060915</td>\n",
       "      <td>1.786875</td>\n",
       "      <td>34.347666</td>\n",
       "      <td>540.531893</td>\n",
       "      <td>56.047189</td>\n",
       "      <td>10.957755</td>\n",
       "      <td>6.198826</td>\n",
       "      <td>999.678690</td>\n",
       "      <td>...</td>\n",
       "      <td>8.871028</td>\n",
       "      <td>42.774141</td>\n",
       "      <td>6.148599</td>\n",
       "      <td>10.142511</td>\n",
       "      <td>4.939416</td>\n",
       "      <td>66.927016</td>\n",
       "      <td>2.055292</td>\n",
       "      <td>10.360302</td>\n",
       "      <td>0.792826</td>\n",
       "      <td>16.525686</td>\n",
       "    </tr>\n",
       "  </tbody>\n",
       "</table>\n",
       "<p>5 rows × 87 columns</p>\n",
       "</div>"
      ],
      "text/plain": [
       "                  date  rougher.input.feed_au  rougher.input.feed_ag  \\\n",
       "0  2016-01-15 00:00:00               6.486150               6.100378   \n",
       "1  2016-01-15 01:00:00               6.478583               6.161113   \n",
       "2  2016-01-15 02:00:00               6.362222               6.116455   \n",
       "3  2016-01-15 03:00:00               6.118189               6.043309   \n",
       "4  2016-01-15 04:00:00               5.663707               6.060915   \n",
       "\n",
       "   rougher.input.feed_pb  rougher.input.feed_sol  rougher.input.feed_rate  \\\n",
       "0               2.284912               36.808594               523.546326   \n",
       "1               2.266033               35.753385               525.290581   \n",
       "2               2.159622               35.971630               530.026610   \n",
       "3               2.037807               36.862241               542.590390   \n",
       "4               1.786875               34.347666               540.531893   \n",
       "\n",
       "   rougher.input.feed_size  rougher.input.floatbank10_sulfate  \\\n",
       "0                55.486599                          11.986616   \n",
       "1                57.278666                          11.971193   \n",
       "2                57.510649                          11.920603   \n",
       "3                57.792734                          11.630094   \n",
       "4                56.047189                          10.957755   \n",
       "\n",
       "   rougher.input.floatbank10_xanthate  rougher.state.floatbank10_a_air  ...  \\\n",
       "0                            6.007990                       999.706909  ...   \n",
       "1                            6.005766                      1000.286398  ...   \n",
       "2                            6.197377                       999.719565  ...   \n",
       "3                            6.203177                       999.814770  ...   \n",
       "4                            6.198826                       999.678690  ...   \n",
       "\n",
       "   secondary_cleaner.output.tail_sol  final.output.concentrate_au  \\\n",
       "0                           8.764648                    42.192020   \n",
       "1                           9.001494                    42.701629   \n",
       "2                           8.842896                    42.657501   \n",
       "3                           9.122857                    42.689819   \n",
       "4                           8.871028                    42.774141   \n",
       "\n",
       "   final.output.concentrate_ag  final.output.concentrate_pb  \\\n",
       "0                     6.055403                     9.889648   \n",
       "1                     6.029369                     9.968944   \n",
       "2                     6.055926                    10.213995   \n",
       "3                     6.047977                     9.977019   \n",
       "4                     6.148599                    10.142511   \n",
       "\n",
       "   final.output.concentrate_sol  final.output.recovery  final.output.tail_au  \\\n",
       "0                      5.507324              70.541216              2.143149   \n",
       "1                      5.257781              69.266198              2.224930   \n",
       "2                      5.383759              68.116445              2.257889   \n",
       "3                      4.858634              68.347543              2.146849   \n",
       "4                      4.939416              66.927016              2.055292   \n",
       "\n",
       "   final.output.tail_ag  final.output.tail_pb  final.output.tail_sol  \n",
       "0             10.411962              0.895447              16.904297  \n",
       "1             10.462676              0.927452              16.634514  \n",
       "2             10.507046              0.953716              16.208849  \n",
       "3             10.422762              0.883763              16.532835  \n",
       "4             10.360302              0.792826              16.525686  \n",
       "\n",
       "[5 rows x 87 columns]"
      ]
     },
     "execution_count": 8,
     "metadata": {},
     "output_type": "execute_result"
    }
   ],
   "source": [
    "data_full = pd.read_csv('/datasets/gold_industry_full.csv')\n",
    "data_full.head()"
   ]
  },
  {
   "cell_type": "code",
   "execution_count": 9,
   "metadata": {},
   "outputs": [
    {
     "name": "stdout",
     "output_type": "stream",
     "text": [
      "<class 'pandas.core.frame.DataFrame'>\n",
      "RangeIndex: 19439 entries, 0 to 19438\n",
      "Data columns (total 87 columns):\n",
      " #   Column                                              Non-Null Count  Dtype  \n",
      "---  ------                                              --------------  -----  \n",
      " 0   date                                                19439 non-null  object \n",
      " 1   rougher.input.feed_au                               19439 non-null  float64\n",
      " 2   rougher.input.feed_ag                               19439 non-null  float64\n",
      " 3   rougher.input.feed_pb                               19339 non-null  float64\n",
      " 4   rougher.input.feed_sol                              19340 non-null  float64\n",
      " 5   rougher.input.feed_rate                             19428 non-null  float64\n",
      " 6   rougher.input.feed_size                             19294 non-null  float64\n",
      " 7   rougher.input.floatbank10_sulfate                   19405 non-null  float64\n",
      " 8   rougher.input.floatbank10_xanthate                  19431 non-null  float64\n",
      " 9   rougher.state.floatbank10_a_air                     19438 non-null  float64\n",
      " 10  rougher.state.floatbank10_a_level                   19438 non-null  float64\n",
      " 11  rougher.state.floatbank10_b_air                     19438 non-null  float64\n",
      " 12  rougher.state.floatbank10_b_level                   19438 non-null  float64\n",
      " 13  rougher.state.floatbank10_c_air                     19438 non-null  float64\n",
      " 14  rougher.state.floatbank10_c_level                   19438 non-null  float64\n",
      " 15  rougher.state.floatbank10_d_air                     19439 non-null  float64\n",
      " 16  rougher.state.floatbank10_d_level                   19439 non-null  float64\n",
      " 17  rougher.state.floatbank10_e_air                     19003 non-null  float64\n",
      " 18  rougher.state.floatbank10_e_level                   19439 non-null  float64\n",
      " 19  rougher.state.floatbank10_f_air                     19439 non-null  float64\n",
      " 20  rougher.state.floatbank10_f_level                   19439 non-null  float64\n",
      " 21  rougher.input.floatbank11_sulfate                   19395 non-null  float64\n",
      " 22  rougher.input.floatbank11_xanthate                  18986 non-null  float64\n",
      " 23  rougher.calculation.sulfate_to_au_concentrate       19437 non-null  float64\n",
      " 24  rougher.calculation.floatbank10_sulfate_to_au_feed  19437 non-null  float64\n",
      " 25  rougher.calculation.floatbank11_sulfate_to_au_feed  19437 non-null  float64\n",
      " 26  rougher.calculation.au_pb_ratio                     19439 non-null  float64\n",
      " 27  rougher.output.concentrate_au                       19439 non-null  float64\n",
      " 28  rougher.output.concentrate_ag                       19439 non-null  float64\n",
      " 29  rougher.output.concentrate_pb                       19439 non-null  float64\n",
      " 30  rougher.output.concentrate_sol                      19416 non-null  float64\n",
      " 31  rougher.output.recovery                             19439 non-null  float64\n",
      " 32  rougher.output.tail_au                              19439 non-null  float64\n",
      " 33  rougher.output.tail_ag                              19438 non-null  float64\n",
      " 34  rougher.output.tail_pb                              19439 non-null  float64\n",
      " 35  rougher.output.tail_sol                             19439 non-null  float64\n",
      " 36  primary_cleaner.input.sulfate                       19415 non-null  float64\n",
      " 37  primary_cleaner.input.depressant                    19402 non-null  float64\n",
      " 38  primary_cleaner.input.feed_size                     19439 non-null  float64\n",
      " 39  primary_cleaner.input.xanthate                      19335 non-null  float64\n",
      " 40  primary_cleaner.state.floatbank8_a_air              19435 non-null  float64\n",
      " 41  primary_cleaner.state.floatbank8_a_level            19438 non-null  float64\n",
      " 42  primary_cleaner.state.floatbank8_b_air              19435 non-null  float64\n",
      " 43  primary_cleaner.state.floatbank8_b_level            19438 non-null  float64\n",
      " 44  primary_cleaner.state.floatbank8_c_air              19437 non-null  float64\n",
      " 45  primary_cleaner.state.floatbank8_c_level            19438 non-null  float64\n",
      " 46  primary_cleaner.state.floatbank8_d_air              19436 non-null  float64\n",
      " 47  primary_cleaner.state.floatbank8_d_level            19438 non-null  float64\n",
      " 48  primary_cleaner.output.concentrate_au               19439 non-null  float64\n",
      " 49  primary_cleaner.output.concentrate_ag               19439 non-null  float64\n",
      " 50  primary_cleaner.output.concentrate_pb               19323 non-null  float64\n",
      " 51  primary_cleaner.output.concentrate_sol              19069 non-null  float64\n",
      " 52  primary_cleaner.output.tail_au                      19439 non-null  float64\n",
      " 53  primary_cleaner.output.tail_ag                      19435 non-null  float64\n",
      " 54  primary_cleaner.output.tail_pb                      19418 non-null  float64\n",
      " 55  primary_cleaner.output.tail_sol                     19377 non-null  float64\n",
      " 56  secondary_cleaner.state.floatbank2_a_air            19219 non-null  float64\n",
      " 57  secondary_cleaner.state.floatbank2_a_level          19438 non-null  float64\n",
      " 58  secondary_cleaner.state.floatbank2_b_air            19416 non-null  float64\n",
      " 59  secondary_cleaner.state.floatbank2_b_level          19438 non-null  float64\n",
      " 60  secondary_cleaner.state.floatbank3_a_air            19426 non-null  float64\n",
      " 61  secondary_cleaner.state.floatbank3_a_level          19438 non-null  float64\n",
      " 62  secondary_cleaner.state.floatbank3_b_air            19438 non-null  float64\n",
      " 63  secondary_cleaner.state.floatbank3_b_level          19438 non-null  float64\n",
      " 64  secondary_cleaner.state.floatbank4_a_air            19433 non-null  float64\n",
      " 65  secondary_cleaner.state.floatbank4_a_level          19438 non-null  float64\n",
      " 66  secondary_cleaner.state.floatbank4_b_air            19438 non-null  float64\n",
      " 67  secondary_cleaner.state.floatbank4_b_level          19438 non-null  float64\n",
      " 68  secondary_cleaner.state.floatbank5_a_air            19438 non-null  float64\n",
      " 69  secondary_cleaner.state.floatbank5_a_level          19438 non-null  float64\n",
      " 70  secondary_cleaner.state.floatbank5_b_air            19438 non-null  float64\n",
      " 71  secondary_cleaner.state.floatbank5_b_level          19438 non-null  float64\n",
      " 72  secondary_cleaner.state.floatbank6_a_air            19437 non-null  float64\n",
      " 73  secondary_cleaner.state.floatbank6_a_level          19438 non-null  float64\n",
      " 74  secondary_cleaner.output.tail_au                    19439 non-null  float64\n",
      " 75  secondary_cleaner.output.tail_ag                    19437 non-null  float64\n",
      " 76  secondary_cleaner.output.tail_pb                    19427 non-null  float64\n",
      " 77  secondary_cleaner.output.tail_sol                   17691 non-null  float64\n",
      " 78  final.output.concentrate_au                         19439 non-null  float64\n",
      " 79  final.output.concentrate_ag                         19438 non-null  float64\n",
      " 80  final.output.concentrate_pb                         19438 non-null  float64\n",
      " 81  final.output.concentrate_sol                        19228 non-null  float64\n",
      " 82  final.output.recovery                               19439 non-null  float64\n",
      " 83  final.output.tail_au                                19439 non-null  float64\n",
      " 84  final.output.tail_ag                                19438 non-null  float64\n",
      " 85  final.output.tail_pb                                19338 non-null  float64\n",
      " 86  final.output.tail_sol                               19433 non-null  float64\n",
      "dtypes: float64(86), object(1)\n",
      "memory usage: 12.9+ MB\n"
     ]
    }
   ],
   "source": [
    "data_full.info()"
   ]
  },
  {
   "cell_type": "code",
   "execution_count": 10,
   "metadata": {},
   "outputs": [
    {
     "data": {
      "text/plain": [
       "0"
      ]
     },
     "execution_count": 10,
     "metadata": {},
     "output_type": "execute_result"
    }
   ],
   "source": [
    "data_full.duplicated().sum()"
   ]
  },
  {
   "cell_type": "markdown",
   "metadata": {},
   "source": [
    "<b> В данных есть пропуски. Тип данных в графе 'date' определен неверно."
   ]
  },
  {
   "cell_type": "markdown",
   "metadata": {},
   "source": [
    "Исправим тип данных."
   ]
  },
  {
   "cell_type": "code",
   "execution_count": 11,
   "metadata": {},
   "outputs": [
    {
     "data": {
      "text/plain": [
       "dtype('<M8[ns]')"
      ]
     },
     "execution_count": 11,
     "metadata": {},
     "output_type": "execute_result"
    }
   ],
   "source": [
    "data_train['date'] = pd.to_datetime(data_train['date'], format='%Y-%m-%d %H:%M:%S')\n",
    "data_train['date'].dtype"
   ]
  },
  {
   "cell_type": "code",
   "execution_count": 12,
   "metadata": {},
   "outputs": [
    {
     "data": {
      "text/plain": [
       "dtype('<M8[ns]')"
      ]
     },
     "execution_count": 12,
     "metadata": {},
     "output_type": "execute_result"
    }
   ],
   "source": [
    "data_test['date'] = pd.to_datetime(data_test['date'], format='%Y-%m-%d %H:%M:%S')\n",
    "data_test['date'].dtype"
   ]
  },
  {
   "cell_type": "code",
   "execution_count": 13,
   "metadata": {},
   "outputs": [
    {
     "data": {
      "text/plain": [
       "dtype('<M8[ns]')"
      ]
     },
     "execution_count": 13,
     "metadata": {},
     "output_type": "execute_result"
    }
   ],
   "source": [
    "data_full['date'] = pd.to_datetime(data_full['date'], format='%Y-%m-%d %H:%M:%S')\n",
    "data_full['date'].dtype"
   ]
  },
  {
   "cell_type": "markdown",
   "metadata": {},
   "source": [
    "Данные индексируются датой и временем получения информации (признак date). Соседние по времени параметры часто похожи.(Условия) Поэтому заполним недостающие признаки последним имеющимся в таблице признаком с такой же датой. Используем функцию 'ffil'."
   ]
  },
  {
   "cell_type": "code",
   "execution_count": 14,
   "metadata": {},
   "outputs": [],
   "source": [
    "data_train = data_train.ffill(axis=0)\n",
    "data_test = data_test.ffill(axis=0)\n",
    "data_full = data_full.ffill(axis=0)"
   ]
  },
  {
   "cell_type": "code",
   "execution_count": 15,
   "metadata": {},
   "outputs": [
    {
     "data": {
      "text/plain": [
       "0"
      ]
     },
     "execution_count": 15,
     "metadata": {},
     "output_type": "execute_result"
    }
   ],
   "source": [
    "data_train.isna().any(axis=1).sum()"
   ]
  },
  {
   "cell_type": "code",
   "execution_count": 16,
   "metadata": {},
   "outputs": [
    {
     "data": {
      "text/plain": [
       "0"
      ]
     },
     "execution_count": 16,
     "metadata": {},
     "output_type": "execute_result"
    }
   ],
   "source": [
    "data_test.isna().any(axis=1).sum()"
   ]
  },
  {
   "cell_type": "code",
   "execution_count": 17,
   "metadata": {},
   "outputs": [
    {
     "data": {
      "text/plain": [
       "0"
      ]
     },
     "execution_count": 17,
     "metadata": {},
     "output_type": "execute_result"
    }
   ],
   "source": [
    "data_full.isna().any(axis=1).sum()"
   ]
  },
  {
   "cell_type": "markdown",
   "metadata": {},
   "source": [
    "Пропусков больше нет."
   ]
  },
  {
   "cell_type": "markdown",
   "metadata": {},
   "source": [
    "<b> Проверим, что эффективность обогащения рассчитана правильно. "
   ]
  },
  {
   "cell_type": "code",
   "execution_count": 18,
   "metadata": {},
   "outputs": [
    {
     "data": {
      "text/plain": [
       "9.83758577644259e-15"
      ]
     },
     "execution_count": 18,
     "metadata": {},
     "output_type": "execute_result"
    }
   ],
   "source": [
    "c = data_train['rougher.output.concentrate_au']\n",
    "f = data_train['rougher.input.feed_au']\n",
    "t = data_train['rougher.output.tail_au']\n",
    "recovery = ((c*(f-t))/(f*(c-t))) * 100\n",
    "mean_absolute_error(data_train['rougher.output.recovery'], recovery)"
   ]
  },
  {
   "cell_type": "markdown",
   "metadata": {},
   "source": [
    "Погрешность незначимо мала, значит эффективность рассчитана правильно."
   ]
  },
  {
   "cell_type": "markdown",
   "metadata": {},
   "source": [
    "<b> Проанализируем признаки, недоступные в тестовой выборке."
   ]
  },
  {
   "cell_type": "code",
   "execution_count": 19,
   "metadata": {},
   "outputs": [
    {
     "data": {
      "text/plain": [
       "{'final.output.concentrate_ag',\n",
       " 'final.output.concentrate_au',\n",
       " 'final.output.concentrate_pb',\n",
       " 'final.output.concentrate_sol',\n",
       " 'final.output.recovery',\n",
       " 'final.output.tail_ag',\n",
       " 'final.output.tail_au',\n",
       " 'final.output.tail_pb',\n",
       " 'final.output.tail_sol',\n",
       " 'primary_cleaner.output.concentrate_ag',\n",
       " 'primary_cleaner.output.concentrate_au',\n",
       " 'primary_cleaner.output.concentrate_pb',\n",
       " 'primary_cleaner.output.concentrate_sol',\n",
       " 'primary_cleaner.output.tail_ag',\n",
       " 'primary_cleaner.output.tail_au',\n",
       " 'primary_cleaner.output.tail_pb',\n",
       " 'primary_cleaner.output.tail_sol',\n",
       " 'rougher.calculation.au_pb_ratio',\n",
       " 'rougher.calculation.floatbank10_sulfate_to_au_feed',\n",
       " 'rougher.calculation.floatbank11_sulfate_to_au_feed',\n",
       " 'rougher.calculation.sulfate_to_au_concentrate',\n",
       " 'rougher.output.concentrate_ag',\n",
       " 'rougher.output.concentrate_au',\n",
       " 'rougher.output.concentrate_pb',\n",
       " 'rougher.output.concentrate_sol',\n",
       " 'rougher.output.recovery',\n",
       " 'rougher.output.tail_ag',\n",
       " 'rougher.output.tail_au',\n",
       " 'rougher.output.tail_pb',\n",
       " 'rougher.output.tail_sol',\n",
       " 'secondary_cleaner.output.tail_ag',\n",
       " 'secondary_cleaner.output.tail_au',\n",
       " 'secondary_cleaner.output.tail_pb',\n",
       " 'secondary_cleaner.output.tail_sol'}"
      ]
     },
     "execution_count": 19,
     "metadata": {},
     "output_type": "execute_result"
    }
   ],
   "source": [
    "set(data_train.columns) - set(data_test.columns)"
   ]
  },
  {
   "cell_type": "markdown",
   "metadata": {},
   "source": [
    "Некоторые параметры недоступны, потому что замеряются и/или рассчитываются значительно позже. Из-за этого в тестовой выборке отсутствуют некоторые признаки, которые могут быть в обучающей. Также в тестовом наборе нет целевых признаков. (Условия)"
   ]
  },
  {
   "cell_type": "markdown",
   "metadata": {},
   "source": [
    "<b> Добавим целевые признаки ('rougher.output.recovery', 'final.output.recovery') в тестовую выборку"
   ]
  },
  {
   "cell_type": "code",
   "execution_count": 20,
   "metadata": {},
   "outputs": [],
   "source": [
    "data_test = data_test.merge(data_full.loc[:, ['date','rougher.output.recovery','final.output.recovery']], on='date')"
   ]
  },
  {
   "cell_type": "markdown",
   "metadata": {},
   "source": [
    "<b>Вывод: предобработка данных проведена. Данные подготовлены для анализа: пропуски удалены, все типы данных правильно определены, нужные данные добавлены."
   ]
  },
  {
   "cell_type": "markdown",
   "metadata": {},
   "source": [
    "## Анализ данных"
   ]
  },
  {
   "cell_type": "markdown",
   "metadata": {},
   "source": [
    "<b> Концентрация металлов (Au, Ag, Pb) на различных этапах: в сырье, в черновом концентрате, в концентрате после первой очистки и в финальном концентрате."
   ]
  },
  {
   "cell_type": "code",
   "execution_count": 21,
   "metadata": {},
   "outputs": [
    {
     "data": {
      "image/png": "[encoded data removed]",
      "text/plain": [
       "<Figure size 1080x1224 with 3 Axes>"
      ]
     },
     "metadata": {
      "needs_background": "light"
     },
     "output_type": "display_data"
    }
   ],
   "source": [
    "plt.figure(figsize=[15, 17])\n",
    "x = 1\n",
    "for metal in ['au', 'ag', 'pb']:\n",
    "    plt.subplot(3, 1, x)\n",
    "    x += 1\n",
    "    plt.title(f'концентрация {metal} на различных этапах очистки', fontsize=15)\n",
    "    sns.set_style('darkgrid')\n",
    "    sns.histplot(data_train[f'rougher.input.feed_{metal}'], color='#00FFFF', label='сырье')\n",
    "    sns.histplot(data_train[f'rougher.output.concentrate_{metal}'], color='#13EAC9', label='концентрация после флотации')\n",
    "    sns.histplot(data_train[f'primary_cleaner.output.concentrate_{metal}'],\n",
    "                 color='#06C2AC', label='Концентрация после первичной очистки')\n",
    "    sns.histplot(data_train[f'final.output.concentrate_{metal}'], color='#008080', label='Финальная концетрация металла')\n",
    "    plt.xlabel('концентрация металла')\n",
    "    plt.ylabel('кол-во значений')\n",
    "    plt.legend()\n",
    "plt.show();"
   ]
  },
  {
   "cell_type": "markdown",
   "metadata": {},
   "source": [
    "Золото: концентрация увеличивается с каждым этапом. <br>\n",
    "Серебро: концентрация уменьшается с каждым этапом. <br>\n",
    "Свинец: концентрация растет, но после первичной очистки почти не меняется."
   ]
  },
  {
   "cell_type": "markdown",
   "metadata": {},
   "source": [
    "Заметим нулевые значения концентрации, которые являются выбросами. Удалим их."
   ]
  },
  {
   "cell_type": "code",
   "execution_count": 22,
   "metadata": {},
   "outputs": [
    {
     "data": {
      "text/plain": [
       "(14579, 87)"
      ]
     },
     "execution_count": 22,
     "metadata": {},
     "output_type": "execute_result"
    }
   ],
   "source": [
    "data_train.shape"
   ]
  },
  {
   "cell_type": "code",
   "execution_count": 23,
   "metadata": {},
   "outputs": [],
   "source": [
    "for metal in ['au', 'ag', 'pb', 'sol']:\n",
    "    data_train = data_train.loc[data_train[f'rougher.input.feed_{metal}']!=0]\n",
    "    data_train = data_train.loc[data_train[f'rougher.output.concentrate_{metal}']!=0]\n",
    "    data_train = data_train.loc[data_train[f'primary_cleaner.output.concentrate_{metal}']!=0]\n",
    "    data_train = data_train.loc[data_train[f'final.output.concentrate_{metal}']!=0]"
   ]
  },
  {
   "cell_type": "code",
   "execution_count": 24,
   "metadata": {},
   "outputs": [
    {
     "name": "stdout",
     "output_type": "stream",
     "text": [
      "(0, 87)\n",
      "(0, 87)\n",
      "(0, 87)\n",
      "(0, 87)\n"
     ]
    }
   ],
   "source": [
    "print(data_train.loc[data_train['rougher.input.feed_au']==0].shape)\n",
    "print(data_train.loc[data_train['rougher.output.concentrate_au']==0].shape)\n",
    "print(data_train.loc[data_train['primary_cleaner.output.concentrate_au']==0].shape)\n",
    "print(data_train.loc[data_train['final.output.concentrate_au']==0].shape)"
   ]
  },
  {
   "cell_type": "code",
   "execution_count": 25,
   "metadata": {},
   "outputs": [
    {
     "data": {
      "text/plain": [
       "(13978, 87)"
      ]
     },
     "execution_count": 25,
     "metadata": {},
     "output_type": "execute_result"
    }
   ],
   "source": [
    "data_train.shape"
   ]
  },
  {
   "cell_type": "markdown",
   "metadata": {},
   "source": [
    "Было удалено менее 1% данных."
   ]
  },
  {
   "cell_type": "markdown",
   "metadata": {},
   "source": [
    "<b> Распределения размеров гранул исходного сырья на обучающей и тестовой выборках."
   ]
  },
  {
   "cell_type": "code",
   "execution_count": 26,
   "metadata": {},
   "outputs": [
    {
     "data": {
      "image/png": "[encoded data removed]",
      "text/plain": [
       "<Figure size 1080x504 with 1 Axes>"
      ]
     },
     "metadata": {},
     "output_type": "display_data"
    }
   ],
   "source": [
    "plt.figure(figsize=[15, 7])\n",
    "plt.suptitle('Распределения размеров гранул исходного сырья на обучающей и тестовой выборках.', fontsize=15)\n",
    "sns.set_style('darkgrid')\n",
    "#plt.hist(data_train['rougher.input.feed_size'], color='r', label='Обучающая выборка', density=True)\n",
    "sns.kdeplot(data_train['rougher.input.feed_size'], color='r', label='обучающая выборка')\n",
    "sns.kdeplot(data_test['rougher.input.feed_size'], color='b', label='тестовая выборка')\n",
    "plt.xlabel('размер гранул')\n",
    "plt.ylabel('плотность значений')\n",
    "plt.legend()\n",
    "plt.show();"
   ]
  },
  {
   "cell_type": "markdown",
   "metadata": {},
   "source": [
    "Размеры гранул распределены равномерно."
   ]
  },
  {
   "cell_type": "markdown",
   "metadata": {},
   "source": [
    "<b> Суммарнуая концентрация металлов на разных стадиях. В сырье, в черновом концентрате, в концентрате после первой очистки и в финальном концентрате."
   ]
  },
  {
   "cell_type": "markdown",
   "metadata": {},
   "source": [
    "Посчитаем суммарную концентрацию."
   ]
  },
  {
   "cell_type": "code",
   "execution_count": 27,
   "metadata": {},
   "outputs": [],
   "source": [
    "rougher_input = (data_train['rougher.input.feed_au'] + data_train['rougher.input.feed_ag'] +\n",
    "                 data_train['rougher.input.feed_pb'] + data_train['rougher.input.feed_sol'])\n",
    "rougher_output = (data_train['rougher.output.concentrate_au'] + data_train['rougher.output.concentrate_ag'] +\n",
    "                  data_train['rougher.output.concentrate_pb'] + data_train['rougher.output.concentrate_sol'])\n",
    "cleaner_output = (data_train['primary_cleaner.output.concentrate_au'] + data_train['primary_cleaner.output.concentrate_ag'] +\n",
    "                  data_train['primary_cleaner.output.concentrate_pb'] + data_train['primary_cleaner.output.concentrate_sol'])\n",
    "final_output = (data_train['final.output.concentrate_au'] + data_train['final.output.concentrate_ag'] + \n",
    "                data_train['final.output.concentrate_pb'] + data_train['final.output.concentrate_sol'])"
   ]
  },
  {
   "cell_type": "code",
   "execution_count": 28,
   "metadata": {},
   "outputs": [
    {
     "data": {
      "image/png": "[encoded data removed]",
      "text/plain": [
       "<Figure size 1080x504 with 1 Axes>"
      ]
     },
     "metadata": {},
     "output_type": "display_data"
    }
   ],
   "source": [
    "plt.figure(figsize=[15, 7])\n",
    "plt.suptitle('суммарнуая концентрация металлов на разных стадиях', fontsize=15)\n",
    "sns.set_style('darkgrid')\n",
    "sns.histplot(rougher_input, color='#00FFFF', label='концентрация сырья')\n",
    "sns.histplot(rougher_output, color='#13EAC9', label='после флотации')\n",
    "sns.histplot(cleaner_output, color='#06C2AC', label='после первичной очистки')\n",
    "sns.histplot(final_output, color='#008080', label='финальная концетрация')\n",
    "plt.xlabel('суммарная концентрация веществ')\n",
    "plt.ylabel('кол-во значений')\n",
    "plt.legend()\n",
    "plt.show();"
   ]
  },
  {
   "cell_type": "markdown",
   "metadata": {},
   "source": [
    "Суммарная концентрация металлов поэтапно увеличивается."
   ]
  },
  {
   "cell_type": "markdown",
   "metadata": {},
   "source": [
    "<b> Вывод: проанализировали концетрацию металов, выявили, что концентрация au и pb поэтапно увеличивается, а ag наоборот уменьшается. Заметили анамалии в значениях концентрации и удалили их. Сравнили распределение размеров гранул в тренировочной и тестовой выборках (оно приблизительно равно). Проанализировали суммарную концентрацию металлов на различных этапах (она постепенно увеличивается)."
   ]
  },
  {
   "cell_type": "markdown",
   "metadata": {},
   "source": [
    "## Модель"
   ]
  },
  {
   "cell_type": "markdown",
   "metadata": {},
   "source": [
    "<b> Напишем функцию для вычисления итогового smape."
   ]
  },
  {
   "cell_type": "code",
   "execution_count": 29,
   "metadata": {},
   "outputs": [],
   "source": [
    "def f_smape(target, predictions):\n",
    "    smape = np.mean(np.abs(target-predictions)/(np.abs(target)+np.abs(predictions))*2)*100\n",
    "    return smape"
   ]
  },
  {
   "cell_type": "code",
   "execution_count": 30,
   "metadata": {},
   "outputs": [],
   "source": [
    "def f_final_smape(smape_rougher, smape_final):\n",
    "    final_smape = 0.25*(smape_rougher) + 0.75*(smape_final)\n",
    "    return final_smape"
   ]
  },
  {
   "cell_type": "markdown",
   "metadata": {},
   "source": [
    "<b> Подготовим данные для обучения модели."
   ]
  },
  {
   "cell_type": "markdown",
   "metadata": {},
   "source": [
    "Оставим в тренировочном датасете только те признаки, что есть в тестовом и уберем столбец с датой."
   ]
  },
  {
   "cell_type": "code",
   "execution_count": 31,
   "metadata": {},
   "outputs": [],
   "source": [
    "data_train = data_train[data_test.columns]\n",
    "data_train = data_train.drop('date', axis=1)\n",
    "data_test = data_test.drop('date', axis=1)"
   ]
  },
  {
   "cell_type": "code",
   "execution_count": 32,
   "metadata": {},
   "outputs": [],
   "source": [
    "features_data_train = data_train.drop(['rougher.output.recovery','final.output.recovery'], axis=1)\n",
    "target_rougher_data_train = data_train['rougher.output.recovery']\n",
    "target_final_data_train = data_train['final.output.recovery']"
   ]
  },
  {
   "cell_type": "markdown",
   "metadata": {},
   "source": [
    "Масштабируем признаки для более точной работы модели."
   ]
  },
  {
   "cell_type": "code",
   "execution_count": 34,
   "metadata": {},
   "outputs": [],
   "source": [
    "#scaler = StandardScaler()\n",
    "#scaler.fit(data_full)\n",
    "#data_train = scaler.transform(data_train)\n",
    "#data_test = scaler.transform(data_test)"
   ]
  },
  {
   "cell_type": "markdown",
   "metadata": {},
   "source": [
    "<b> Линейная регрессия"
   ]
  },
  {
   "cell_type": "code",
   "execution_count": 35,
   "metadata": {},
   "outputs": [],
   "source": [
    "scorer = make_scorer(f_smape, greater_is_better = False)"
   ]
  },
  {
   "cell_type": "code",
   "execution_count": 36,
   "metadata": {},
   "outputs": [
    {
     "name": "stdout",
     "output_type": "stream",
     "text": [
      "Итоговое smape: 8.864227576916532\n",
      "CPU times: user 1.38 s, sys: 3.49 s, total: 4.86 s\n",
      "Wall time: 4.8 s\n"
     ]
    }
   ],
   "source": [
    "%%time\n",
    "# черновой концентрат\n",
    "model = LinearRegression()\n",
    "smape_rougher = cross_val_score(model, features_data_train, target_rougher_data_train, scoring=scorer, cv=5)\n",
    "r = smape_rougher.mean()\n",
    "# финальный концентрат\n",
    "model = LinearRegression()\n",
    "smape_final = cross_val_score(model, features_data_train, target_final_data_train, scoring=scorer, cv=5)\n",
    "f = smape_final.mean()\n",
    "final_smape = f_final_smape(r, f) * (-1)\n",
    "print('Итоговое smape:', final_smape)"
   ]
  },
  {
   "cell_type": "markdown",
   "metadata": {},
   "source": [
    "<b>Дерево решений"
   ]
  },
  {
   "cell_type": "code",
   "execution_count": 37,
   "metadata": {},
   "outputs": [],
   "source": [
    "state = RandomState(12345)"
   ]
  },
  {
   "cell_type": "code",
   "execution_count": 38,
   "metadata": {
    "scrolled": true
   },
   "outputs": [
    {
     "name": "stdout",
     "output_type": "stream",
     "text": [
      "Итоговое smape: 8.650101959854426 , глубина: 3\n",
      "CPU times: user 30.2 s, sys: 65.5 ms, total: 30.2 s\n",
      "Wall time: 30.3 s\n"
     ]
    }
   ],
   "source": [
    "%%time\n",
    "best_depth = 0\n",
    "best_final_smape = 10\n",
    "for depth in range(1,11):\n",
    "    # черновой концентрат\n",
    "    model = DecisionTreeRegressor(max_depth=depth, random_state=state)\n",
    "    smape_rougher = cross_val_score(model, features_data_train, target_rougher_data_train, scoring=scorer, cv=5)\n",
    "    r = smape_rougher.mean()\n",
    "    # финальный концентрат\n",
    "    model = DecisionTreeRegressor(max_depth=depth, random_state=state)\n",
    "    smape_final = cross_val_score(model, features_data_train, target_final_data_train, scoring=scorer, cv=5)\n",
    "    f = smape_final.mean()\n",
    "    final_smape = f_final_smape(r, f) * (-1)\n",
    "    if final_smape < best_final_smape:\n",
    "        best_final_smape = final_smape\n",
    "        best_depth = depth\n",
    "print('Итоговое smape:', best_final_smape, ', глубина:', best_depth)"
   ]
  },
  {
   "cell_type": "markdown",
   "metadata": {},
   "source": [
    "<b>Случайный лес"
   ]
  },
  {
   "cell_type": "code",
   "execution_count": 39,
   "metadata": {},
   "outputs": [
    {
     "name": "stdout",
     "output_type": "stream",
     "text": [
      "Итоговое smape: 8.373024621271249 , глубина: 2 , количество деревьев: 90\n",
      "CPU times: user 17min 56s, sys: 1.53 s, total: 17min 57s\n",
      "Wall time: 17min 58s\n"
     ]
    }
   ],
   "source": [
    "%%time\n",
    "best_depth = 0\n",
    "best_final_smape = 100\n",
    "best_estimator = 0\n",
    "for estimator in range(10, 91, 40):\n",
    "    for depth in range(1,7):\n",
    "        # черновой концентрат\n",
    "        model = RandomForestRegressor(n_estimators=estimator, max_depth=depth, random_state=state)\n",
    "        smape_rougher = cross_val_score(model, features_data_train, target_rougher_data_train, scoring=scorer, cv=5)\n",
    "        r = smape_rougher.mean()\n",
    "        # финальный концентрат\n",
    "        model = RandomForestRegressor(n_estimators=estimator, max_depth=depth, random_state=state)\n",
    "        smape_final = cross_val_score(model, features_data_train, target_final_data_train, scoring=scorer, cv=5)\n",
    "        f = smape_final.mean()\n",
    "        final_smape = f_final_smape(r, f) * (-1)\n",
    "        if final_smape < best_final_smape:\n",
    "            best_final_smape = final_smape\n",
    "            best_depth = depth\n",
    "            best_estimator = estimator\n",
    "print('Итоговое smape:', best_final_smape, ', глубина:', best_depth, ', количество деревьев:', best_estimator)"
   ]
  },
  {
   "cell_type": "markdown",
   "metadata": {},
   "source": [
    "<b> Проверка лучшей модели."
   ]
  },
  {
   "cell_type": "markdown",
   "metadata": {},
   "source": [
    "Лучше всего себя показала модель 'Случайный лес' из 90 деревьев глубины 4. Проверим ее на тестовой выборке."
   ]
  },
  {
   "cell_type": "code",
   "execution_count": 40,
   "metadata": {},
   "outputs": [],
   "source": [
    "features_data_test = data_test.drop(['rougher.output.recovery','final.output.recovery'], axis=1)\n",
    "target_rougher_data_test = data_test['rougher.output.recovery']\n",
    "target_final_data_test = data_test['final.output.recovery']"
   ]
  },
  {
   "cell_type": "code",
   "execution_count": 41,
   "metadata": {},
   "outputs": [
    {
     "name": "stdout",
     "output_type": "stream",
     "text": [
      "Итоговое smape: 6.751794156271688\n"
     ]
    }
   ],
   "source": [
    "# черновой концентрат\n",
    "model = RandomForestRegressor(n_estimators=90, max_depth=4, random_state=state)\n",
    "model.fit(features_data_train, target_rougher_data_train)\n",
    "predictions = model.predict(features_data_test)\n",
    "r = f_smape(target_rougher_data_test, predictions)\n",
    "# финальный концентрат\n",
    "model = RandomForestRegressor(n_estimators=90, max_depth=4, random_state=state)\n",
    "model.fit(features_data_train, target_final_data_train)\n",
    "predictions = model.predict(features_data_test)\n",
    "f = f_smape(target_final_data_test, predictions)\n",
    "final_smape = f_final_smape(r, f) \n",
    "print('Итоговое smape:', final_smape)"
   ]
  },
  {
   "cell_type": "markdown",
   "metadata": {},
   "source": [
    "Проверим модель на адекватность."
   ]
  },
  {
   "cell_type": "code",
   "execution_count": 42,
   "metadata": {},
   "outputs": [
    {
     "name": "stdout",
     "output_type": "stream",
     "text": [
      "Итоговое smape: 8.471360971505119\n"
     ]
    }
   ],
   "source": [
    "model = DummyRegressor(strategy=\"mean\")\n",
    "model.fit(features_data_train, target_rougher_data_train)\n",
    "predictions = model.predict(features_data_test)\n",
    "r = f_smape(target_rougher_data_test, predictions)\n",
    "model = DummyRegressor(strategy=\"mean\")\n",
    "model.fit(features_data_train, target_final_data_train)\n",
    "predictions = model.predict(features_data_test)\n",
    "f = f_smape(target_final_data_test, predictions)\n",
    "final_smape = f_final_smape(r, f)\n",
    "print('Итоговое smape:', final_smape)"
   ]
  },
  {
   "cell_type": "markdown",
   "metadata": {},
   "source": [
    "sMAPE нашей модели ниже, чем у модели выдающей среднее число, значит модель работает адекватно."
   ]
  },
  {
   "cell_type": "markdown",
   "metadata": {},
   "source": [
    "<b> Вывод: лучшая модель 'Случайный лес' из 90 деревьев глубиной 4. Модель прошла все проверки."
   ]
  },
  {
   "cell_type": "markdown",
   "metadata": {},
   "source": [
    "## Общий вывод"
   ]
  },
  {
   "cell_type": "markdown",
   "metadata": {},
   "source": [
    "<b> В этом проекте надо было разработать модель для эффективной работы промышленных предприятий. Модель должна предсказать коэффициент восстановления золота из золотосодержащей руды.\n",
    "1. Сначала была проведена подготовка данных. Были заполнены пропуски, изменен тип данных.    \n",
    "2. На втором этапе были проанализированны такие параметры, как поэтапная концентрация, суммарная концентрация.\n",
    "3. Затем было обучено несколько моделей и выявлена лучшая из них.\n",
    "<br><br> Лучший результат показала модель случайный лес."
   ]
  }
 ],
 "metadata": {
  "ExecuteTimeLog": [
   {
    "duration": 408,
    "start_time": "2023-05-29T18:50:32.816Z"
   },
   {
    "duration": 68,
    "start_time": "2023-05-29T18:51:39.262Z"
   },
   {
    "duration": 3,
    "start_time": "2023-05-29T18:51:45.921Z"
   },
   {
    "duration": 39,
    "start_time": "2023-05-29T18:51:46.902Z"
   },
   {
    "duration": 1405,
    "start_time": "2023-05-29T18:52:34.342Z"
   },
   {
    "duration": 18,
    "start_time": "2023-05-29T18:53:18.870Z"
   },
   {
    "duration": 7,
    "start_time": "2023-05-29T18:57:37.442Z"
   },
   {
    "duration": 389,
    "start_time": "2023-05-30T17:51:03.514Z"
   },
   {
    "duration": 1719,
    "start_time": "2023-05-30T17:51:05.001Z"
   },
   {
    "duration": 21,
    "start_time": "2023-05-30T17:51:11.458Z"
   },
   {
    "duration": 90,
    "start_time": "2023-05-30T17:51:44.315Z"
   },
   {
    "duration": 32,
    "start_time": "2023-05-30T17:51:51.619Z"
   },
   {
    "duration": 39,
    "start_time": "2023-05-30T17:52:04.739Z"
   },
   {
    "duration": 137,
    "start_time": "2023-05-30T18:07:58.799Z"
   },
   {
    "duration": 688,
    "start_time": "2023-05-30T18:09:35.935Z"
   },
   {
    "duration": 15,
    "start_time": "2023-05-30T18:09:51.506Z"
   },
   {
    "duration": 19,
    "start_time": "2023-05-30T18:10:17.298Z"
   },
   {
    "duration": 2065,
    "start_time": "2023-05-30T18:11:29.674Z"
   },
   {
    "duration": 17,
    "start_time": "2023-05-30T18:11:32.619Z"
   },
   {
    "duration": 484,
    "start_time": "2023-05-30T18:11:45.748Z"
   },
   {
    "duration": 111,
    "start_time": "2023-05-30T18:11:56.830Z"
   },
   {
    "duration": 8,
    "start_time": "2023-05-30T18:14:41.906Z"
   },
   {
    "duration": 56,
    "start_time": "2023-05-30T18:14:49.953Z"
   },
   {
    "duration": 12,
    "start_time": "2023-05-30T18:14:53.403Z"
   },
   {
    "duration": 7,
    "start_time": "2023-05-30T18:15:50.502Z"
   },
   {
    "duration": 8,
    "start_time": "2023-05-30T18:16:00.306Z"
   },
   {
    "duration": 22,
    "start_time": "2023-05-30T18:20:44.586Z"
   },
   {
    "duration": 8,
    "start_time": "2023-05-30T18:21:28.007Z"
   },
   {
    "duration": 7,
    "start_time": "2023-05-30T18:23:13.340Z"
   },
   {
    "duration": 7,
    "start_time": "2023-05-30T18:23:47.995Z"
   },
   {
    "duration": 6,
    "start_time": "2023-05-30T18:24:27.652Z"
   },
   {
    "duration": 10,
    "start_time": "2023-05-30T18:24:29.887Z"
   },
   {
    "duration": 49,
    "start_time": "2023-05-30T18:32:12.199Z"
   },
   {
    "duration": 11,
    "start_time": "2023-05-30T19:04:56.522Z"
   },
   {
    "duration": 671,
    "start_time": "2023-05-30T19:05:48.050Z"
   },
   {
    "duration": 8,
    "start_time": "2023-05-30T19:06:00.391Z"
   },
   {
    "duration": 47,
    "start_time": "2023-05-30T19:08:54.141Z"
   },
   {
    "duration": 12,
    "start_time": "2023-05-30T19:09:01.657Z"
   },
   {
    "duration": 25,
    "start_time": "2023-05-30T19:09:21.087Z"
   },
   {
    "duration": 30,
    "start_time": "2023-05-30T19:10:48.455Z"
   },
   {
    "duration": 3,
    "start_time": "2023-05-30T19:11:29.389Z"
   },
   {
    "duration": 10,
    "start_time": "2023-05-30T19:11:41.299Z"
   },
   {
    "duration": 3,
    "start_time": "2023-05-30T19:11:53.102Z"
   },
   {
    "duration": 5,
    "start_time": "2023-05-30T19:11:59.004Z"
   },
   {
    "duration": 13,
    "start_time": "2023-05-30T19:55:15.498Z"
   },
   {
    "duration": 469,
    "start_time": "2023-05-30T20:15:51.362Z"
   },
   {
    "duration": 8,
    "start_time": "2023-05-30T22:47:16.564Z"
   },
   {
    "duration": 1567,
    "start_time": "2023-05-30T22:48:25.521Z"
   },
   {
    "duration": 1091,
    "start_time": "2023-05-30T22:48:27.090Z"
   },
   {
    "duration": 18,
    "start_time": "2023-05-30T22:48:28.182Z"
   },
   {
    "duration": 135,
    "start_time": "2023-05-30T22:48:28.202Z"
   },
   {
    "duration": 167,
    "start_time": "2023-05-30T22:48:28.339Z"
   },
   {
    "duration": 15,
    "start_time": "2023-05-30T22:48:28.508Z"
   },
   {
    "duration": 23,
    "start_time": "2023-05-30T22:48:28.525Z"
   },
   {
    "duration": 1141,
    "start_time": "2023-05-30T22:48:28.550Z"
   },
   {
    "duration": 20,
    "start_time": "2023-05-30T22:48:29.693Z"
   },
   {
    "duration": 117,
    "start_time": "2023-05-30T22:48:29.715Z"
   },
   {
    "duration": 9,
    "start_time": "2023-05-30T22:48:29.833Z"
   },
   {
    "duration": 10,
    "start_time": "2023-05-30T22:48:29.843Z"
   },
   {
    "duration": 25,
    "start_time": "2023-05-30T22:48:29.855Z"
   },
   {
    "duration": 35,
    "start_time": "2023-05-30T22:48:29.882Z"
   },
   {
    "duration": 6,
    "start_time": "2023-05-30T22:48:29.919Z"
   },
   {
    "duration": 6,
    "start_time": "2023-05-30T22:48:29.927Z"
   },
   {
    "duration": 9,
    "start_time": "2023-05-30T22:48:29.934Z"
   },
   {
    "duration": 8,
    "start_time": "2023-05-30T22:48:29.945Z"
   },
   {
    "duration": 24,
    "start_time": "2023-05-30T22:48:29.955Z"
   },
   {
    "duration": 20,
    "start_time": "2023-05-30T22:48:29.981Z"
   },
   {
    "duration": 8,
    "start_time": "2023-05-30T22:48:30.002Z"
   },
   {
    "duration": 1791,
    "start_time": "2023-05-31T13:23:25.269Z"
   },
   {
    "duration": 908,
    "start_time": "2023-05-31T13:23:27.063Z"
   },
   {
    "duration": 18,
    "start_time": "2023-05-31T13:23:27.973Z"
   },
   {
    "duration": 129,
    "start_time": "2023-05-31T13:23:27.993Z"
   },
   {
    "duration": 178,
    "start_time": "2023-05-31T13:23:28.124Z"
   },
   {
    "duration": 16,
    "start_time": "2023-05-31T13:23:28.304Z"
   },
   {
    "duration": 26,
    "start_time": "2023-05-31T13:23:28.322Z"
   },
   {
    "duration": 1188,
    "start_time": "2023-05-31T13:23:28.351Z"
   },
   {
    "duration": 19,
    "start_time": "2023-05-31T13:23:29.540Z"
   },
   {
    "duration": 112,
    "start_time": "2023-05-31T13:23:29.562Z"
   },
   {
    "duration": 21,
    "start_time": "2023-05-31T13:23:29.676Z"
   },
   {
    "duration": 8,
    "start_time": "2023-05-31T13:23:29.699Z"
   },
   {
    "duration": 25,
    "start_time": "2023-05-31T13:23:29.709Z"
   },
   {
    "duration": 26,
    "start_time": "2023-05-31T13:23:29.736Z"
   },
   {
    "duration": 7,
    "start_time": "2023-05-31T13:23:29.764Z"
   },
   {
    "duration": 25,
    "start_time": "2023-05-31T13:23:29.773Z"
   },
   {
    "duration": 9,
    "start_time": "2023-05-31T13:23:29.800Z"
   },
   {
    "duration": 11,
    "start_time": "2023-05-31T13:23:29.810Z"
   },
   {
    "duration": 10,
    "start_time": "2023-05-31T13:23:29.822Z"
   },
   {
    "duration": 23,
    "start_time": "2023-05-31T13:23:29.833Z"
   },
   {
    "duration": 6,
    "start_time": "2023-05-31T13:23:29.858Z"
   },
   {
    "duration": 9,
    "start_time": "2023-05-31T13:23:29.865Z"
   },
   {
    "duration": 32,
    "start_time": "2023-05-31T13:23:29.876Z"
   },
   {
    "duration": 27,
    "start_time": "2023-05-31T13:23:29.910Z"
   },
   {
    "duration": 13,
    "start_time": "2023-05-31T13:23:29.939Z"
   },
   {
    "duration": 5,
    "start_time": "2023-05-31T13:23:51.958Z"
   },
   {
    "duration": 7,
    "start_time": "2023-05-31T13:24:04.183Z"
   },
   {
    "duration": 15,
    "start_time": "2023-05-31T13:25:24.021Z"
   },
   {
    "duration": 5,
    "start_time": "2023-05-31T13:25:36.770Z"
   },
   {
    "duration": 4,
    "start_time": "2023-05-31T13:25:50.934Z"
   },
   {
    "duration": 1699,
    "start_time": "2023-05-31T13:26:25.260Z"
   },
   {
    "duration": 345,
    "start_time": "2023-05-31T13:26:26.961Z"
   },
   {
    "duration": 18,
    "start_time": "2023-05-31T13:26:27.307Z"
   },
   {
    "duration": 143,
    "start_time": "2023-05-31T13:26:27.327Z"
   },
   {
    "duration": 97,
    "start_time": "2023-05-31T13:26:27.473Z"
   },
   {
    "duration": 15,
    "start_time": "2023-05-31T13:26:27.572Z"
   },
   {
    "duration": 22,
    "start_time": "2023-05-31T13:26:27.597Z"
   },
   {
    "duration": 411,
    "start_time": "2023-05-31T13:26:27.621Z"
   },
   {
    "duration": 19,
    "start_time": "2023-05-31T13:26:28.034Z"
   },
   {
    "duration": 115,
    "start_time": "2023-05-31T13:26:28.055Z"
   },
   {
    "duration": 9,
    "start_time": "2023-05-31T13:26:28.172Z"
   },
   {
    "duration": 19,
    "start_time": "2023-05-31T13:26:28.183Z"
   },
   {
    "duration": 10,
    "start_time": "2023-05-31T13:26:28.204Z"
   },
   {
    "duration": 24,
    "start_time": "2023-05-31T13:26:28.217Z"
   },
   {
    "duration": 6,
    "start_time": "2023-05-31T13:26:28.243Z"
   },
   {
    "duration": 8,
    "start_time": "2023-05-31T13:26:28.250Z"
   },
   {
    "duration": 39,
    "start_time": "2023-05-31T13:26:28.259Z"
   },
   {
    "duration": 8,
    "start_time": "2023-05-31T13:26:28.300Z"
   },
   {
    "duration": 5,
    "start_time": "2023-05-31T13:26:28.310Z"
   },
   {
    "duration": 14,
    "start_time": "2023-05-31T13:26:28.317Z"
   },
   {
    "duration": 4,
    "start_time": "2023-05-31T13:26:28.332Z"
   },
   {
    "duration": 6,
    "start_time": "2023-05-31T13:26:28.338Z"
   },
   {
    "duration": 8,
    "start_time": "2023-05-31T13:26:28.346Z"
   },
   {
    "duration": 10,
    "start_time": "2023-05-31T13:26:28.355Z"
   },
   {
    "duration": 14,
    "start_time": "2023-05-31T13:26:28.397Z"
   },
   {
    "duration": 5,
    "start_time": "2023-05-31T13:26:28.413Z"
   },
   {
    "duration": 7,
    "start_time": "2023-05-31T13:26:28.420Z"
   },
   {
    "duration": 21,
    "start_time": "2023-05-31T13:26:28.428Z"
   },
   {
    "duration": 3,
    "start_time": "2023-05-31T13:26:28.451Z"
   },
   {
    "duration": 102,
    "start_time": "2023-05-31T15:11:02.350Z"
   },
   {
    "duration": 4,
    "start_time": "2023-05-31T15:11:43.312Z"
   },
   {
    "duration": 3,
    "start_time": "2023-05-31T15:11:51.124Z"
   },
   {
    "duration": 1682,
    "start_time": "2023-05-31T15:11:52.459Z"
   },
   {
    "duration": 1708,
    "start_time": "2023-05-31T15:12:10.452Z"
   },
   {
    "duration": 4,
    "start_time": "2023-05-31T15:12:39.749Z"
   },
   {
    "duration": 1313,
    "start_time": "2023-05-31T15:12:42.390Z"
   },
   {
    "duration": 3,
    "start_time": "2023-05-31T15:14:28.461Z"
   },
   {
    "duration": 1210,
    "start_time": "2023-05-31T15:14:30.794Z"
   },
   {
    "duration": 469,
    "start_time": "2023-05-31T15:21:39.055Z"
   },
   {
    "duration": 468,
    "start_time": "2023-05-31T15:21:46.946Z"
   },
   {
    "duration": 3738,
    "start_time": "2023-05-31T15:24:15.857Z"
   },
   {
    "duration": 1715,
    "start_time": "2023-05-31T15:24:32.562Z"
   },
   {
    "duration": 357,
    "start_time": "2023-05-31T15:24:34.280Z"
   },
   {
    "duration": 17,
    "start_time": "2023-05-31T15:24:34.640Z"
   },
   {
    "duration": 139,
    "start_time": "2023-05-31T15:24:34.658Z"
   },
   {
    "duration": 97,
    "start_time": "2023-05-31T15:24:34.799Z"
   },
   {
    "duration": 12,
    "start_time": "2023-05-31T15:24:34.898Z"
   },
   {
    "duration": 20,
    "start_time": "2023-05-31T15:24:34.911Z"
   },
   {
    "duration": 432,
    "start_time": "2023-05-31T15:24:34.934Z"
   },
   {
    "duration": 17,
    "start_time": "2023-05-31T15:24:35.367Z"
   },
   {
    "duration": 120,
    "start_time": "2023-05-31T15:24:35.385Z"
   },
   {
    "duration": 8,
    "start_time": "2023-05-31T15:24:35.507Z"
   },
   {
    "duration": 16,
    "start_time": "2023-05-31T15:24:35.517Z"
   },
   {
    "duration": 20,
    "start_time": "2023-05-31T15:24:35.535Z"
   },
   {
    "duration": 24,
    "start_time": "2023-05-31T15:24:35.557Z"
   },
   {
    "duration": 7,
    "start_time": "2023-05-31T15:24:35.582Z"
   },
   {
    "duration": 29,
    "start_time": "2023-05-31T15:24:35.596Z"
   },
   {
    "duration": 60,
    "start_time": "2023-05-31T15:24:35.627Z"
   },
   {
    "duration": 15,
    "start_time": "2023-05-31T15:24:35.689Z"
   },
   {
    "duration": 6,
    "start_time": "2023-05-31T15:24:35.706Z"
   },
   {
    "duration": 16,
    "start_time": "2023-05-31T15:24:35.714Z"
   },
   {
    "duration": 3,
    "start_time": "2023-05-31T15:24:35.732Z"
   },
   {
    "duration": 15,
    "start_time": "2023-05-31T15:24:35.736Z"
   },
   {
    "duration": 21,
    "start_time": "2023-05-31T15:24:35.753Z"
   },
   {
    "duration": 17,
    "start_time": "2023-05-31T15:24:35.776Z"
   },
   {
    "duration": 8,
    "start_time": "2023-05-31T15:24:35.795Z"
   },
   {
    "duration": 3398,
    "start_time": "2023-05-31T15:24:35.805Z"
   },
   {
    "duration": 857,
    "start_time": "2023-05-31T15:24:39.206Z"
   },
   {
    "duration": 3,
    "start_time": "2023-05-31T15:28:28.627Z"
   },
   {
    "duration": 444,
    "start_time": "2023-05-31T15:28:43.201Z"
   },
   {
    "duration": 416,
    "start_time": "2023-05-31T15:30:58.100Z"
   },
   {
    "duration": 3,
    "start_time": "2023-05-31T15:33:57.895Z"
   },
   {
    "duration": 1143,
    "start_time": "2023-05-31T15:34:03.517Z"
   },
   {
    "duration": 443,
    "start_time": "2023-05-31T15:37:30.632Z"
   },
   {
    "duration": 452,
    "start_time": "2023-05-31T15:38:56.910Z"
   },
   {
    "duration": 3,
    "start_time": "2023-05-31T15:39:38.029Z"
   },
   {
    "duration": 3,
    "start_time": "2023-05-31T15:39:42.799Z"
   },
   {
    "duration": 1078,
    "start_time": "2023-05-31T15:39:48.602Z"
   },
   {
    "duration": 11,
    "start_time": "2023-05-31T15:40:38.840Z"
   },
   {
    "duration": 1629,
    "start_time": "2023-05-31T15:41:01.371Z"
   },
   {
    "duration": 0,
    "start_time": "2023-05-31T15:41:03.002Z"
   },
   {
    "duration": 0,
    "start_time": "2023-05-31T15:41:03.004Z"
   },
   {
    "duration": 0,
    "start_time": "2023-05-31T15:41:03.005Z"
   },
   {
    "duration": 0,
    "start_time": "2023-05-31T15:41:03.006Z"
   },
   {
    "duration": 0,
    "start_time": "2023-05-31T15:41:03.007Z"
   },
   {
    "duration": 0,
    "start_time": "2023-05-31T15:41:03.008Z"
   },
   {
    "duration": 0,
    "start_time": "2023-05-31T15:41:03.009Z"
   },
   {
    "duration": 0,
    "start_time": "2023-05-31T15:41:03.010Z"
   },
   {
    "duration": 0,
    "start_time": "2023-05-31T15:41:03.011Z"
   },
   {
    "duration": 0,
    "start_time": "2023-05-31T15:41:03.013Z"
   },
   {
    "duration": 0,
    "start_time": "2023-05-31T15:41:03.013Z"
   },
   {
    "duration": 1,
    "start_time": "2023-05-31T15:41:03.014Z"
   },
   {
    "duration": 0,
    "start_time": "2023-05-31T15:41:03.015Z"
   },
   {
    "duration": 0,
    "start_time": "2023-05-31T15:41:03.017Z"
   },
   {
    "duration": 0,
    "start_time": "2023-05-31T15:41:03.018Z"
   },
   {
    "duration": 0,
    "start_time": "2023-05-31T15:41:03.019Z"
   },
   {
    "duration": 0,
    "start_time": "2023-05-31T15:41:03.020Z"
   },
   {
    "duration": 0,
    "start_time": "2023-05-31T15:41:03.021Z"
   },
   {
    "duration": 0,
    "start_time": "2023-05-31T15:41:03.022Z"
   },
   {
    "duration": 0,
    "start_time": "2023-05-31T15:41:03.023Z"
   },
   {
    "duration": 0,
    "start_time": "2023-05-31T15:41:03.024Z"
   },
   {
    "duration": 0,
    "start_time": "2023-05-31T15:41:03.025Z"
   },
   {
    "duration": 0,
    "start_time": "2023-05-31T15:41:03.026Z"
   },
   {
    "duration": 0,
    "start_time": "2023-05-31T15:41:03.027Z"
   },
   {
    "duration": 0,
    "start_time": "2023-05-31T15:41:03.028Z"
   },
   {
    "duration": 0,
    "start_time": "2023-05-31T15:41:03.029Z"
   },
   {
    "duration": 0,
    "start_time": "2023-05-31T15:41:03.030Z"
   },
   {
    "duration": 4,
    "start_time": "2023-05-31T15:41:18.845Z"
   },
   {
    "duration": 1442,
    "start_time": "2023-05-31T15:41:30.447Z"
   },
   {
    "duration": 337,
    "start_time": "2023-05-31T15:41:31.891Z"
   },
   {
    "duration": 17,
    "start_time": "2023-05-31T15:41:32.230Z"
   },
   {
    "duration": 125,
    "start_time": "2023-05-31T15:41:32.249Z"
   },
   {
    "duration": 96,
    "start_time": "2023-05-31T15:41:32.375Z"
   },
   {
    "duration": 12,
    "start_time": "2023-05-31T15:41:32.473Z"
   },
   {
    "duration": 26,
    "start_time": "2023-05-31T15:41:32.487Z"
   },
   {
    "duration": 464,
    "start_time": "2023-05-31T15:41:32.515Z"
   },
   {
    "duration": 18,
    "start_time": "2023-05-31T15:41:32.981Z"
   },
   {
    "duration": 99,
    "start_time": "2023-05-31T15:41:33.002Z"
   },
   {
    "duration": 7,
    "start_time": "2023-05-31T15:41:33.103Z"
   },
   {
    "duration": 11,
    "start_time": "2023-05-31T15:41:33.111Z"
   },
   {
    "duration": 15,
    "start_time": "2023-05-31T15:41:33.123Z"
   },
   {
    "duration": 25,
    "start_time": "2023-05-31T15:41:33.139Z"
   },
   {
    "duration": 6,
    "start_time": "2023-05-31T15:41:33.166Z"
   },
   {
    "duration": 24,
    "start_time": "2023-05-31T15:41:33.174Z"
   },
   {
    "duration": 7,
    "start_time": "2023-05-31T15:41:33.200Z"
   },
   {
    "duration": 13,
    "start_time": "2023-05-31T15:41:33.209Z"
   },
   {
    "duration": 18,
    "start_time": "2023-05-31T15:41:33.223Z"
   },
   {
    "duration": 17,
    "start_time": "2023-05-31T15:41:33.243Z"
   },
   {
    "duration": 6,
    "start_time": "2023-05-31T15:41:33.262Z"
   },
   {
    "duration": 27,
    "start_time": "2023-05-31T15:41:33.270Z"
   },
   {
    "duration": 35,
    "start_time": "2023-05-31T15:41:33.299Z"
   },
   {
    "duration": 14,
    "start_time": "2023-05-31T15:41:33.336Z"
   },
   {
    "duration": 8,
    "start_time": "2023-05-31T15:41:33.351Z"
   },
   {
    "duration": 2442,
    "start_time": "2023-05-31T15:41:33.360Z"
   },
   {
    "duration": 4,
    "start_time": "2023-05-31T15:41:35.805Z"
   },
   {
    "duration": 571,
    "start_time": "2023-05-31T15:41:35.897Z"
   },
   {
    "duration": 3,
    "start_time": "2023-05-31T15:43:44.109Z"
   },
   {
    "duration": 440,
    "start_time": "2023-05-31T15:43:55.296Z"
   },
   {
    "duration": 71,
    "start_time": "2023-05-31T15:47:22.839Z"
   },
   {
    "duration": 3,
    "start_time": "2023-05-31T15:47:58.648Z"
   },
   {
    "duration": 444,
    "start_time": "2023-05-31T15:48:03.045Z"
   },
   {
    "duration": 2,
    "start_time": "2023-05-31T15:50:43.541Z"
   },
   {
    "duration": 1396,
    "start_time": "2023-05-31T15:50:54.137Z"
   },
   {
    "duration": 338,
    "start_time": "2023-05-31T15:50:55.535Z"
   },
   {
    "duration": 26,
    "start_time": "2023-05-31T15:50:55.875Z"
   },
   {
    "duration": 146,
    "start_time": "2023-05-31T15:50:55.903Z"
   },
   {
    "duration": 104,
    "start_time": "2023-05-31T15:50:56.052Z"
   },
   {
    "duration": 13,
    "start_time": "2023-05-31T15:50:56.158Z"
   },
   {
    "duration": 40,
    "start_time": "2023-05-31T15:50:56.173Z"
   },
   {
    "duration": 432,
    "start_time": "2023-05-31T15:50:56.214Z"
   },
   {
    "duration": 19,
    "start_time": "2023-05-31T15:50:56.648Z"
   },
   {
    "duration": 108,
    "start_time": "2023-05-31T15:50:56.669Z"
   },
   {
    "duration": 7,
    "start_time": "2023-05-31T15:50:56.779Z"
   },
   {
    "duration": 8,
    "start_time": "2023-05-31T15:50:56.797Z"
   },
   {
    "duration": 24,
    "start_time": "2023-05-31T15:50:56.807Z"
   },
   {
    "duration": 62,
    "start_time": "2023-05-31T15:50:56.834Z"
   },
   {
    "duration": 16,
    "start_time": "2023-05-31T15:50:56.897Z"
   },
   {
    "duration": 12,
    "start_time": "2023-05-31T15:50:56.915Z"
   },
   {
    "duration": 8,
    "start_time": "2023-05-31T15:50:56.929Z"
   },
   {
    "duration": 7,
    "start_time": "2023-05-31T15:50:56.939Z"
   },
   {
    "duration": 12,
    "start_time": "2023-05-31T15:50:56.948Z"
   },
   {
    "duration": 17,
    "start_time": "2023-05-31T15:50:56.961Z"
   },
   {
    "duration": 17,
    "start_time": "2023-05-31T15:50:56.980Z"
   },
   {
    "duration": 23,
    "start_time": "2023-05-31T15:50:56.999Z"
   },
   {
    "duration": 38,
    "start_time": "2023-05-31T15:50:57.023Z"
   },
   {
    "duration": 9,
    "start_time": "2023-05-31T15:50:57.063Z"
   },
   {
    "duration": 29,
    "start_time": "2023-05-31T15:50:57.074Z"
   },
   {
    "duration": 1593,
    "start_time": "2023-05-31T15:50:57.105Z"
   },
   {
    "duration": 4,
    "start_time": "2023-05-31T15:50:58.699Z"
   },
   {
    "duration": 623,
    "start_time": "2023-05-31T15:50:58.704Z"
   },
   {
    "duration": 3032,
    "start_time": "2023-05-31T15:54:15.522Z"
   },
   {
    "duration": 1505,
    "start_time": "2023-05-31T15:54:25.680Z"
   },
   {
    "duration": 378,
    "start_time": "2023-05-31T15:54:27.187Z"
   },
   {
    "duration": 19,
    "start_time": "2023-05-31T15:54:27.567Z"
   },
   {
    "duration": 138,
    "start_time": "2023-05-31T15:54:27.588Z"
   },
   {
    "duration": 101,
    "start_time": "2023-05-31T15:54:27.729Z"
   },
   {
    "duration": 14,
    "start_time": "2023-05-31T15:54:27.832Z"
   },
   {
    "duration": 20,
    "start_time": "2023-05-31T15:54:27.848Z"
   },
   {
    "duration": 458,
    "start_time": "2023-05-31T15:54:27.869Z"
   },
   {
    "duration": 20,
    "start_time": "2023-05-31T15:54:28.328Z"
   },
   {
    "duration": 113,
    "start_time": "2023-05-31T15:54:28.350Z"
   },
   {
    "duration": 8,
    "start_time": "2023-05-31T15:54:28.465Z"
   },
   {
    "duration": 23,
    "start_time": "2023-05-31T15:54:28.475Z"
   },
   {
    "duration": 12,
    "start_time": "2023-05-31T15:54:28.501Z"
   },
   {
    "duration": 43,
    "start_time": "2023-05-31T15:54:28.515Z"
   },
   {
    "duration": 7,
    "start_time": "2023-05-31T15:54:28.560Z"
   },
   {
    "duration": 8,
    "start_time": "2023-05-31T15:54:28.568Z"
   },
   {
    "duration": 21,
    "start_time": "2023-05-31T15:54:28.578Z"
   },
   {
    "duration": 15,
    "start_time": "2023-05-31T15:54:28.601Z"
   },
   {
    "duration": 14,
    "start_time": "2023-05-31T15:54:28.618Z"
   },
   {
    "duration": 18,
    "start_time": "2023-05-31T15:54:28.634Z"
   },
   {
    "duration": 4,
    "start_time": "2023-05-31T15:54:28.654Z"
   },
   {
    "duration": 4,
    "start_time": "2023-05-31T15:54:28.660Z"
   },
   {
    "duration": 32,
    "start_time": "2023-05-31T15:54:28.666Z"
   },
   {
    "duration": 9,
    "start_time": "2023-05-31T15:54:28.700Z"
   },
   {
    "duration": 8,
    "start_time": "2023-05-31T15:54:28.711Z"
   },
   {
    "duration": 2981,
    "start_time": "2023-05-31T15:54:28.721Z"
   },
   {
    "duration": 4,
    "start_time": "2023-05-31T15:54:31.704Z"
   },
   {
    "duration": 644,
    "start_time": "2023-05-31T15:54:31.713Z"
   },
   {
    "duration": 3756,
    "start_time": "2023-05-31T15:57:13.546Z"
   },
   {
    "duration": 1583,
    "start_time": "2023-05-31T15:58:46.696Z"
   },
   {
    "duration": 353,
    "start_time": "2023-05-31T15:58:48.281Z"
   },
   {
    "duration": 18,
    "start_time": "2023-05-31T15:58:48.635Z"
   },
   {
    "duration": 142,
    "start_time": "2023-05-31T15:58:48.655Z"
   },
   {
    "duration": 102,
    "start_time": "2023-05-31T15:58:48.800Z"
   },
   {
    "duration": 16,
    "start_time": "2023-05-31T15:58:48.904Z"
   },
   {
    "duration": 21,
    "start_time": "2023-05-31T15:58:48.922Z"
   },
   {
    "duration": 449,
    "start_time": "2023-05-31T15:58:48.945Z"
   },
   {
    "duration": 29,
    "start_time": "2023-05-31T15:58:49.396Z"
   },
   {
    "duration": 118,
    "start_time": "2023-05-31T15:58:49.428Z"
   },
   {
    "duration": 9,
    "start_time": "2023-05-31T15:58:49.547Z"
   },
   {
    "duration": 21,
    "start_time": "2023-05-31T15:58:49.557Z"
   },
   {
    "duration": 18,
    "start_time": "2023-05-31T15:58:49.580Z"
   },
   {
    "duration": 37,
    "start_time": "2023-05-31T15:58:49.604Z"
   },
   {
    "duration": 6,
    "start_time": "2023-05-31T15:58:49.643Z"
   },
   {
    "duration": 11,
    "start_time": "2023-05-31T15:58:49.650Z"
   },
   {
    "duration": 9,
    "start_time": "2023-05-31T15:58:49.663Z"
   },
   {
    "duration": 10,
    "start_time": "2023-05-31T15:58:49.673Z"
   },
   {
    "duration": 15,
    "start_time": "2023-05-31T15:58:49.685Z"
   },
   {
    "duration": 17,
    "start_time": "2023-05-31T15:58:49.702Z"
   },
   {
    "duration": 4,
    "start_time": "2023-05-31T15:58:49.721Z"
   },
   {
    "duration": 15,
    "start_time": "2023-05-31T15:58:49.726Z"
   },
   {
    "duration": 17,
    "start_time": "2023-05-31T15:58:49.742Z"
   },
   {
    "duration": 7,
    "start_time": "2023-05-31T15:58:49.761Z"
   },
   {
    "duration": 18,
    "start_time": "2023-05-31T15:58:49.769Z"
   },
   {
    "duration": 1813,
    "start_time": "2023-05-31T15:58:49.789Z"
   },
   {
    "duration": 4,
    "start_time": "2023-05-31T15:58:51.605Z"
   },
   {
    "duration": 674,
    "start_time": "2023-05-31T15:58:51.612Z"
   },
   {
    "duration": 1419,
    "start_time": "2023-05-31T16:14:08.393Z"
   },
   {
    "duration": 324,
    "start_time": "2023-05-31T16:14:09.814Z"
   },
   {
    "duration": 16,
    "start_time": "2023-05-31T16:14:10.139Z"
   },
   {
    "duration": 124,
    "start_time": "2023-05-31T16:14:10.156Z"
   },
   {
    "duration": 93,
    "start_time": "2023-05-31T16:14:10.282Z"
   },
   {
    "duration": 11,
    "start_time": "2023-05-31T16:14:10.377Z"
   },
   {
    "duration": 24,
    "start_time": "2023-05-31T16:14:10.389Z"
   },
   {
    "duration": 400,
    "start_time": "2023-05-31T16:14:10.415Z"
   },
   {
    "duration": 18,
    "start_time": "2023-05-31T16:14:10.816Z"
   },
   {
    "duration": 107,
    "start_time": "2023-05-31T16:14:10.836Z"
   },
   {
    "duration": 8,
    "start_time": "2023-05-31T16:14:10.945Z"
   },
   {
    "duration": 8,
    "start_time": "2023-05-31T16:14:10.955Z"
   },
   {
    "duration": 14,
    "start_time": "2023-05-31T16:14:10.964Z"
   },
   {
    "duration": 21,
    "start_time": "2023-05-31T16:14:10.999Z"
   },
   {
    "duration": 8,
    "start_time": "2023-05-31T16:14:11.022Z"
   },
   {
    "duration": 5,
    "start_time": "2023-05-31T16:14:11.031Z"
   },
   {
    "duration": 9,
    "start_time": "2023-05-31T16:14:11.038Z"
   },
   {
    "duration": 10,
    "start_time": "2023-05-31T16:14:11.048Z"
   },
   {
    "duration": 40,
    "start_time": "2023-05-31T16:14:11.059Z"
   },
   {
    "duration": 21,
    "start_time": "2023-05-31T16:14:11.100Z"
   },
   {
    "duration": 11,
    "start_time": "2023-05-31T16:14:11.123Z"
   },
   {
    "duration": 13,
    "start_time": "2023-05-31T16:14:11.136Z"
   },
   {
    "duration": 28,
    "start_time": "2023-05-31T16:14:11.150Z"
   },
   {
    "duration": 11,
    "start_time": "2023-05-31T16:14:11.179Z"
   },
   {
    "duration": 7,
    "start_time": "2023-05-31T16:14:11.192Z"
   },
   {
    "duration": 1696,
    "start_time": "2023-05-31T16:14:11.201Z"
   },
   {
    "duration": 3,
    "start_time": "2023-05-31T16:14:12.899Z"
   },
   {
    "duration": 573,
    "start_time": "2023-05-31T16:14:12.903Z"
   },
   {
    "duration": 1400,
    "start_time": "2023-05-31T16:31:35.931Z"
   },
   {
    "duration": 353,
    "start_time": "2023-05-31T16:31:37.333Z"
   },
   {
    "duration": 23,
    "start_time": "2023-05-31T16:31:37.687Z"
   },
   {
    "duration": 127,
    "start_time": "2023-05-31T16:31:37.712Z"
   },
   {
    "duration": 94,
    "start_time": "2023-05-31T16:31:37.840Z"
   },
   {
    "duration": 13,
    "start_time": "2023-05-31T16:31:37.935Z"
   },
   {
    "duration": 23,
    "start_time": "2023-05-31T16:31:37.949Z"
   },
   {
    "duration": 408,
    "start_time": "2023-05-31T16:31:37.973Z"
   },
   {
    "duration": 21,
    "start_time": "2023-05-31T16:31:38.383Z"
   },
   {
    "duration": 93,
    "start_time": "2023-05-31T16:31:38.407Z"
   },
   {
    "duration": 7,
    "start_time": "2023-05-31T16:31:38.502Z"
   },
   {
    "duration": 9,
    "start_time": "2023-05-31T16:31:38.510Z"
   },
   {
    "duration": 9,
    "start_time": "2023-05-31T16:31:38.521Z"
   },
   {
    "duration": 27,
    "start_time": "2023-05-31T16:31:38.531Z"
   },
   {
    "duration": 7,
    "start_time": "2023-05-31T16:31:38.559Z"
   },
   {
    "duration": 31,
    "start_time": "2023-05-31T16:31:38.567Z"
   },
   {
    "duration": 7,
    "start_time": "2023-05-31T16:31:38.599Z"
   },
   {
    "duration": 16,
    "start_time": "2023-05-31T16:31:38.607Z"
   },
   {
    "duration": 6,
    "start_time": "2023-05-31T16:31:38.624Z"
   },
   {
    "duration": 11,
    "start_time": "2023-05-31T16:31:38.631Z"
   },
   {
    "duration": 3,
    "start_time": "2023-05-31T16:31:38.644Z"
   },
   {
    "duration": 5,
    "start_time": "2023-05-31T16:31:38.648Z"
   },
   {
    "duration": 17,
    "start_time": "2023-05-31T16:31:38.654Z"
   },
   {
    "duration": 29,
    "start_time": "2023-05-31T16:31:38.673Z"
   },
   {
    "duration": 6,
    "start_time": "2023-05-31T16:31:38.704Z"
   },
   {
    "duration": 1595,
    "start_time": "2023-05-31T16:31:38.711Z"
   },
   {
    "duration": 89,
    "start_time": "2023-05-31T16:31:40.309Z"
   },
   {
    "duration": 44,
    "start_time": "2023-05-31T16:31:40.403Z"
   },
   {
    "duration": 59,
    "start_time": "2023-05-31T16:32:36.003Z"
   },
   {
    "duration": 94,
    "start_time": "2023-05-31T16:33:43.026Z"
   },
   {
    "duration": 755,
    "start_time": "2023-05-31T16:34:34.258Z"
   },
   {
    "duration": 5,
    "start_time": "2023-05-31T17:00:33.132Z"
   },
   {
    "duration": 7,
    "start_time": "2023-05-31T17:01:49.158Z"
   },
   {
    "duration": 1320,
    "start_time": "2023-05-31T17:01:55.954Z"
   },
   {
    "duration": 330,
    "start_time": "2023-05-31T17:01:57.276Z"
   },
   {
    "duration": 15,
    "start_time": "2023-05-31T17:01:57.608Z"
   },
   {
    "duration": 122,
    "start_time": "2023-05-31T17:01:57.624Z"
   },
   {
    "duration": 92,
    "start_time": "2023-05-31T17:01:57.748Z"
   },
   {
    "duration": 12,
    "start_time": "2023-05-31T17:01:57.842Z"
   },
   {
    "duration": 18,
    "start_time": "2023-05-31T17:01:57.856Z"
   },
   {
    "duration": 421,
    "start_time": "2023-05-31T17:01:57.876Z"
   },
   {
    "duration": 16,
    "start_time": "2023-05-31T17:01:58.299Z"
   },
   {
    "duration": 104,
    "start_time": "2023-05-31T17:01:58.318Z"
   },
   {
    "duration": 8,
    "start_time": "2023-05-31T17:01:58.424Z"
   },
   {
    "duration": 11,
    "start_time": "2023-05-31T17:01:58.434Z"
   },
   {
    "duration": 25,
    "start_time": "2023-05-31T17:01:58.446Z"
   },
   {
    "duration": 34,
    "start_time": "2023-05-31T17:01:58.472Z"
   },
   {
    "duration": 13,
    "start_time": "2023-05-31T17:01:58.508Z"
   },
   {
    "duration": 29,
    "start_time": "2023-05-31T17:01:58.523Z"
   },
   {
    "duration": 22,
    "start_time": "2023-05-31T17:01:58.553Z"
   },
   {
    "duration": 22,
    "start_time": "2023-05-31T17:01:58.576Z"
   },
   {
    "duration": 15,
    "start_time": "2023-05-31T17:01:58.600Z"
   },
   {
    "duration": 35,
    "start_time": "2023-05-31T17:01:58.616Z"
   },
   {
    "duration": 24,
    "start_time": "2023-05-31T17:01:58.652Z"
   },
   {
    "duration": 32,
    "start_time": "2023-05-31T17:01:58.678Z"
   },
   {
    "duration": 12,
    "start_time": "2023-05-31T17:01:58.711Z"
   },
   {
    "duration": 27,
    "start_time": "2023-05-31T17:01:58.724Z"
   },
   {
    "duration": 42,
    "start_time": "2023-05-31T17:01:58.753Z"
   },
   {
    "duration": 34,
    "start_time": "2023-05-31T17:01:58.796Z"
   },
   {
    "duration": 14,
    "start_time": "2023-05-31T17:01:58.832Z"
   },
   {
    "duration": 1351,
    "start_time": "2023-05-31T17:01:58.849Z"
   },
   {
    "duration": 3,
    "start_time": "2023-05-31T17:02:00.202Z"
   },
   {
    "duration": 615,
    "start_time": "2023-05-31T17:02:00.207Z"
   },
   {
    "duration": 1411,
    "start_time": "2023-05-31T17:11:37.275Z"
   },
   {
    "duration": 325,
    "start_time": "2023-05-31T17:11:38.688Z"
   },
   {
    "duration": 15,
    "start_time": "2023-05-31T17:11:39.015Z"
   },
   {
    "duration": 128,
    "start_time": "2023-05-31T17:11:39.032Z"
   },
   {
    "duration": 97,
    "start_time": "2023-05-31T17:11:39.162Z"
   },
   {
    "duration": 12,
    "start_time": "2023-05-31T17:11:39.261Z"
   },
   {
    "duration": 34,
    "start_time": "2023-05-31T17:11:39.275Z"
   },
   {
    "duration": 421,
    "start_time": "2023-05-31T17:11:39.310Z"
   },
   {
    "duration": 19,
    "start_time": "2023-05-31T17:11:39.733Z"
   },
   {
    "duration": 105,
    "start_time": "2023-05-31T17:11:39.753Z"
   },
   {
    "duration": 8,
    "start_time": "2023-05-31T17:11:39.859Z"
   },
   {
    "duration": 8,
    "start_time": "2023-05-31T17:11:39.868Z"
   },
   {
    "duration": 23,
    "start_time": "2023-05-31T17:11:39.878Z"
   },
   {
    "duration": 25,
    "start_time": "2023-05-31T17:11:39.904Z"
   },
   {
    "duration": 6,
    "start_time": "2023-05-31T17:11:39.931Z"
   },
   {
    "duration": 5,
    "start_time": "2023-05-31T17:11:39.939Z"
   },
   {
    "duration": 7,
    "start_time": "2023-05-31T17:11:39.945Z"
   },
   {
    "duration": 7,
    "start_time": "2023-05-31T17:11:39.954Z"
   },
   {
    "duration": 37,
    "start_time": "2023-05-31T17:11:39.963Z"
   },
   {
    "duration": 12,
    "start_time": "2023-05-31T17:11:40.002Z"
   },
   {
    "duration": 3,
    "start_time": "2023-05-31T17:11:40.016Z"
   },
   {
    "duration": 18,
    "start_time": "2023-05-31T17:11:40.021Z"
   },
   {
    "duration": 16,
    "start_time": "2023-05-31T17:11:40.041Z"
   },
   {
    "duration": 15,
    "start_time": "2023-05-31T17:11:40.058Z"
   },
   {
    "duration": 113,
    "start_time": "2023-05-31T17:11:40.074Z"
   },
   {
    "duration": 0,
    "start_time": "2023-05-31T17:11:40.189Z"
   },
   {
    "duration": 0,
    "start_time": "2023-05-31T17:11:40.190Z"
   },
   {
    "duration": 0,
    "start_time": "2023-05-31T17:11:40.192Z"
   },
   {
    "duration": 9,
    "start_time": "2023-05-31T17:11:51.778Z"
   },
   {
    "duration": 3,
    "start_time": "2023-05-31T17:11:56.581Z"
   },
   {
    "duration": 1350,
    "start_time": "2023-05-31T17:11:57.752Z"
   },
   {
    "duration": 3,
    "start_time": "2023-05-31T17:12:02.276Z"
   },
   {
    "duration": 14785,
    "start_time": "2023-05-31T17:12:02.822Z"
   },
   {
    "duration": 2912,
    "start_time": "2023-05-31T17:14:42.611Z"
   },
   {
    "duration": 1443,
    "start_time": "2023-05-31T17:15:04.281Z"
   },
   {
    "duration": 331,
    "start_time": "2023-05-31T17:15:05.726Z"
   },
   {
    "duration": 15,
    "start_time": "2023-05-31T17:15:06.059Z"
   },
   {
    "duration": 122,
    "start_time": "2023-05-31T17:15:06.076Z"
   },
   {
    "duration": 90,
    "start_time": "2023-05-31T17:15:06.200Z"
   },
   {
    "duration": 13,
    "start_time": "2023-05-31T17:15:06.292Z"
   },
   {
    "duration": 19,
    "start_time": "2023-05-31T17:15:06.307Z"
   },
   {
    "duration": 399,
    "start_time": "2023-05-31T17:15:06.328Z"
   },
   {
    "duration": 16,
    "start_time": "2023-05-31T17:15:06.728Z"
   },
   {
    "duration": 101,
    "start_time": "2023-05-31T17:15:06.746Z"
   },
   {
    "duration": 11,
    "start_time": "2023-05-31T17:15:06.848Z"
   },
   {
    "duration": 13,
    "start_time": "2023-05-31T17:15:06.861Z"
   },
   {
    "duration": 22,
    "start_time": "2023-05-31T17:15:06.876Z"
   },
   {
    "duration": 24,
    "start_time": "2023-05-31T17:15:06.900Z"
   },
   {
    "duration": 10,
    "start_time": "2023-05-31T17:15:06.926Z"
   },
   {
    "duration": 9,
    "start_time": "2023-05-31T17:15:06.938Z"
   },
   {
    "duration": 17,
    "start_time": "2023-05-31T17:15:06.949Z"
   },
   {
    "duration": 13,
    "start_time": "2023-05-31T17:15:06.968Z"
   },
   {
    "duration": 6,
    "start_time": "2023-05-31T17:15:06.997Z"
   },
   {
    "duration": 11,
    "start_time": "2023-05-31T17:15:07.005Z"
   },
   {
    "duration": 6,
    "start_time": "2023-05-31T17:15:07.017Z"
   },
   {
    "duration": 5,
    "start_time": "2023-05-31T17:15:07.024Z"
   },
   {
    "duration": 22,
    "start_time": "2023-05-31T17:15:07.030Z"
   },
   {
    "duration": 11,
    "start_time": "2023-05-31T17:15:07.054Z"
   },
   {
    "duration": 8,
    "start_time": "2023-05-31T17:15:07.067Z"
   },
   {
    "duration": 2723,
    "start_time": "2023-05-31T17:15:07.076Z"
   },
   {
    "duration": 4,
    "start_time": "2023-05-31T17:15:09.802Z"
   },
   {
    "duration": 29261,
    "start_time": "2023-05-31T17:15:09.809Z"
   },
   {
    "duration": 83,
    "start_time": "2023-05-31T17:17:49.941Z"
   },
   {
    "duration": 4381,
    "start_time": "2023-05-31T17:17:59.892Z"
   },
   {
    "duration": 1383,
    "start_time": "2023-05-31T17:55:05.587Z"
   },
   {
    "duration": 331,
    "start_time": "2023-05-31T17:55:06.972Z"
   },
   {
    "duration": 16,
    "start_time": "2023-05-31T17:55:07.305Z"
   },
   {
    "duration": 132,
    "start_time": "2023-05-31T17:55:07.322Z"
   },
   {
    "duration": 91,
    "start_time": "2023-05-31T17:55:07.456Z"
   },
   {
    "duration": 12,
    "start_time": "2023-05-31T17:55:07.549Z"
   },
   {
    "duration": 18,
    "start_time": "2023-05-31T17:55:07.562Z"
   },
   {
    "duration": 400,
    "start_time": "2023-05-31T17:55:07.581Z"
   },
   {
    "duration": 20,
    "start_time": "2023-05-31T17:55:07.983Z"
   },
   {
    "duration": 96,
    "start_time": "2023-05-31T17:55:08.004Z"
   },
   {
    "duration": 7,
    "start_time": "2023-05-31T17:55:08.102Z"
   },
   {
    "duration": 10,
    "start_time": "2023-05-31T17:55:08.111Z"
   },
   {
    "duration": 20,
    "start_time": "2023-05-31T17:55:08.123Z"
   },
   {
    "duration": 23,
    "start_time": "2023-05-31T17:55:08.145Z"
   },
   {
    "duration": 6,
    "start_time": "2023-05-31T17:55:08.170Z"
   },
   {
    "duration": 20,
    "start_time": "2023-05-31T17:55:08.177Z"
   },
   {
    "duration": 7,
    "start_time": "2023-05-31T17:55:08.198Z"
   },
   {
    "duration": 7,
    "start_time": "2023-05-31T17:55:08.206Z"
   },
   {
    "duration": 9,
    "start_time": "2023-05-31T17:55:08.214Z"
   },
   {
    "duration": 12,
    "start_time": "2023-05-31T17:55:08.225Z"
   },
   {
    "duration": 21,
    "start_time": "2023-05-31T17:55:08.238Z"
   },
   {
    "duration": 11,
    "start_time": "2023-05-31T17:55:08.260Z"
   },
   {
    "duration": 17,
    "start_time": "2023-05-31T17:55:08.272Z"
   },
   {
    "duration": 10,
    "start_time": "2023-05-31T17:55:08.290Z"
   },
   {
    "duration": 12,
    "start_time": "2023-05-31T17:55:08.301Z"
   },
   {
    "duration": 2984,
    "start_time": "2023-05-31T17:55:08.314Z"
   },
   {
    "duration": 4,
    "start_time": "2023-05-31T17:55:11.300Z"
   },
   {
    "duration": 29494,
    "start_time": "2023-05-31T17:55:11.307Z"
   },
   {
    "duration": 1441,
    "start_time": "2023-05-31T18:16:53.597Z"
   },
   {
    "duration": 330,
    "start_time": "2023-05-31T18:16:55.040Z"
   },
   {
    "duration": 16,
    "start_time": "2023-05-31T18:16:55.372Z"
   },
   {
    "duration": 132,
    "start_time": "2023-05-31T18:16:55.401Z"
   },
   {
    "duration": 92,
    "start_time": "2023-05-31T18:16:55.536Z"
   },
   {
    "duration": 12,
    "start_time": "2023-05-31T18:16:55.629Z"
   },
   {
    "duration": 18,
    "start_time": "2023-05-31T18:16:55.643Z"
   },
   {
    "duration": 411,
    "start_time": "2023-05-31T18:16:55.662Z"
   },
   {
    "duration": 23,
    "start_time": "2023-05-31T18:16:56.075Z"
   },
   {
    "duration": 120,
    "start_time": "2023-05-31T18:16:56.100Z"
   },
   {
    "duration": 8,
    "start_time": "2023-05-31T18:16:56.221Z"
   },
   {
    "duration": 10,
    "start_time": "2023-05-31T18:16:56.231Z"
   },
   {
    "duration": 12,
    "start_time": "2023-05-31T18:16:56.243Z"
   },
   {
    "duration": 40,
    "start_time": "2023-05-31T18:16:56.258Z"
   },
   {
    "duration": 7,
    "start_time": "2023-05-31T18:16:56.299Z"
   },
   {
    "duration": 5,
    "start_time": "2023-05-31T18:16:56.307Z"
   },
   {
    "duration": 7,
    "start_time": "2023-05-31T18:16:56.314Z"
   },
   {
    "duration": 8,
    "start_time": "2023-05-31T18:16:56.322Z"
   },
   {
    "duration": 4,
    "start_time": "2023-05-31T18:16:56.331Z"
   },
   {
    "duration": 11,
    "start_time": "2023-05-31T18:16:56.336Z"
   },
   {
    "duration": 240,
    "start_time": "2023-05-31T18:16:56.349Z"
   },
   {
    "duration": 0,
    "start_time": "2023-05-31T18:16:56.597Z"
   },
   {
    "duration": 0,
    "start_time": "2023-05-31T18:16:56.600Z"
   },
   {
    "duration": 0,
    "start_time": "2023-05-31T18:16:56.601Z"
   },
   {
    "duration": 0,
    "start_time": "2023-05-31T18:16:56.602Z"
   },
   {
    "duration": 0,
    "start_time": "2023-05-31T18:16:56.604Z"
   },
   {
    "duration": 0,
    "start_time": "2023-05-31T18:16:56.605Z"
   },
   {
    "duration": 0,
    "start_time": "2023-05-31T18:16:56.606Z"
   },
   {
    "duration": 0,
    "start_time": "2023-05-31T18:16:56.607Z"
   },
   {
    "duration": 0,
    "start_time": "2023-05-31T18:16:56.608Z"
   },
   {
    "duration": 1407,
    "start_time": "2023-05-31T18:17:39.592Z"
   },
   {
    "duration": 327,
    "start_time": "2023-05-31T18:17:41.001Z"
   },
   {
    "duration": 15,
    "start_time": "2023-05-31T18:17:41.332Z"
   },
   {
    "duration": 130,
    "start_time": "2023-05-31T18:17:41.349Z"
   },
   {
    "duration": 91,
    "start_time": "2023-05-31T18:17:41.481Z"
   },
   {
    "duration": 12,
    "start_time": "2023-05-31T18:17:41.574Z"
   },
   {
    "duration": 25,
    "start_time": "2023-05-31T18:17:41.588Z"
   },
   {
    "duration": 399,
    "start_time": "2023-05-31T18:17:41.615Z"
   },
   {
    "duration": 18,
    "start_time": "2023-05-31T18:17:42.015Z"
   },
   {
    "duration": 104,
    "start_time": "2023-05-31T18:17:42.035Z"
   },
   {
    "duration": 8,
    "start_time": "2023-05-31T18:17:42.140Z"
   },
   {
    "duration": 9,
    "start_time": "2023-05-31T18:17:42.150Z"
   },
   {
    "duration": 9,
    "start_time": "2023-05-31T18:17:42.162Z"
   },
   {
    "duration": 39,
    "start_time": "2023-05-31T18:17:42.172Z"
   },
   {
    "duration": 7,
    "start_time": "2023-05-31T18:17:42.212Z"
   },
   {
    "duration": 6,
    "start_time": "2023-05-31T18:17:42.220Z"
   },
   {
    "duration": 7,
    "start_time": "2023-05-31T18:17:42.228Z"
   },
   {
    "duration": 10,
    "start_time": "2023-05-31T18:17:42.236Z"
   },
   {
    "duration": 3,
    "start_time": "2023-05-31T18:17:42.248Z"
   },
   {
    "duration": 11,
    "start_time": "2023-05-31T18:17:42.253Z"
   },
   {
    "duration": 3476,
    "start_time": "2023-05-31T18:17:42.265Z"
   },
   {
    "duration": 3,
    "start_time": "2023-05-31T18:17:45.798Z"
   },
   {
    "duration": 20,
    "start_time": "2023-05-31T18:17:45.802Z"
   },
   {
    "duration": 27,
    "start_time": "2023-05-31T18:17:45.824Z"
   },
   {
    "duration": 6,
    "start_time": "2023-05-31T18:17:45.853Z"
   },
   {
    "duration": 20,
    "start_time": "2023-05-31T18:17:45.861Z"
   },
   {
    "duration": 3221,
    "start_time": "2023-05-31T18:17:45.883Z"
   },
   {
    "duration": 92,
    "start_time": "2023-05-31T18:17:49.106Z"
   },
   {
    "duration": 29416,
    "start_time": "2023-05-31T18:17:49.200Z"
   },
   {
    "duration": 2,
    "start_time": "2023-05-31T18:18:18.618Z"
   },
   {
    "duration": 2129,
    "start_time": "2023-05-31T18:18:18.623Z"
   },
   {
    "duration": 1398,
    "start_time": "2023-05-31T18:18:40.587Z"
   },
   {
    "duration": 331,
    "start_time": "2023-05-31T18:18:41.987Z"
   },
   {
    "duration": 17,
    "start_time": "2023-05-31T18:18:42.319Z"
   },
   {
    "duration": 182,
    "start_time": "2023-05-31T18:18:42.338Z"
   },
   {
    "duration": 195,
    "start_time": "2023-05-31T18:18:42.522Z"
   },
   {
    "duration": 13,
    "start_time": "2023-05-31T18:18:42.718Z"
   },
   {
    "duration": 79,
    "start_time": "2023-05-31T18:18:42.732Z"
   },
   {
    "duration": 891,
    "start_time": "2023-05-31T18:18:42.813Z"
   },
   {
    "duration": 17,
    "start_time": "2023-05-31T18:18:43.706Z"
   },
   {
    "duration": 198,
    "start_time": "2023-05-31T18:18:43.726Z"
   },
   {
    "duration": 8,
    "start_time": "2023-05-31T18:18:43.925Z"
   },
   {
    "duration": 63,
    "start_time": "2023-05-31T18:18:43.935Z"
   },
   {
    "duration": 9,
    "start_time": "2023-05-31T18:18:43.999Z"
   },
   {
    "duration": 28,
    "start_time": "2023-05-31T18:18:44.009Z"
   },
   {
    "duration": 59,
    "start_time": "2023-05-31T18:18:44.039Z"
   },
   {
    "duration": 7,
    "start_time": "2023-05-31T18:18:44.100Z"
   },
   {
    "duration": 7,
    "start_time": "2023-05-31T18:18:44.109Z"
   },
   {
    "duration": 8,
    "start_time": "2023-05-31T18:18:44.118Z"
   },
   {
    "duration": 7,
    "start_time": "2023-05-31T18:18:44.128Z"
   },
   {
    "duration": 69,
    "start_time": "2023-05-31T18:18:44.137Z"
   },
   {
    "duration": 2843,
    "start_time": "2023-05-31T18:18:44.208Z"
   },
   {
    "duration": 3,
    "start_time": "2023-05-31T18:18:47.053Z"
   },
   {
    "duration": 14,
    "start_time": "2023-05-31T18:18:47.058Z"
   },
   {
    "duration": 18,
    "start_time": "2023-05-31T18:18:47.074Z"
   },
   {
    "duration": 16,
    "start_time": "2023-05-31T18:18:47.094Z"
   },
   {
    "duration": 8,
    "start_time": "2023-05-31T18:18:47.112Z"
   },
   {
    "duration": 3477,
    "start_time": "2023-05-31T18:18:47.122Z"
   },
   {
    "duration": 5,
    "start_time": "2023-05-31T18:18:50.603Z"
   },
   {
    "duration": 1320,
    "start_time": "2023-05-31T18:19:19.244Z"
   },
   {
    "duration": 323,
    "start_time": "2023-05-31T18:19:20.566Z"
   },
   {
    "duration": 19,
    "start_time": "2023-05-31T18:19:20.890Z"
   },
   {
    "duration": 115,
    "start_time": "2023-05-31T18:19:20.911Z"
   },
   {
    "duration": 93,
    "start_time": "2023-05-31T18:19:21.028Z"
   },
   {
    "duration": 11,
    "start_time": "2023-05-31T18:19:21.123Z"
   },
   {
    "duration": 18,
    "start_time": "2023-05-31T18:19:21.135Z"
   },
   {
    "duration": 398,
    "start_time": "2023-05-31T18:19:21.154Z"
   },
   {
    "duration": 17,
    "start_time": "2023-05-31T18:19:21.553Z"
   },
   {
    "duration": 99,
    "start_time": "2023-05-31T18:19:21.571Z"
   },
   {
    "duration": 7,
    "start_time": "2023-05-31T18:19:21.672Z"
   },
   {
    "duration": 19,
    "start_time": "2023-05-31T18:19:21.680Z"
   },
   {
    "duration": 22,
    "start_time": "2023-05-31T18:19:21.700Z"
   },
   {
    "duration": 30,
    "start_time": "2023-05-31T18:19:21.724Z"
   },
   {
    "duration": 6,
    "start_time": "2023-05-31T18:19:21.755Z"
   },
   {
    "duration": 6,
    "start_time": "2023-05-31T18:19:21.763Z"
   },
   {
    "duration": 8,
    "start_time": "2023-05-31T18:19:21.770Z"
   },
   {
    "duration": 21,
    "start_time": "2023-05-31T18:19:21.780Z"
   },
   {
    "duration": 4,
    "start_time": "2023-05-31T18:19:21.802Z"
   },
   {
    "duration": 12,
    "start_time": "2023-05-31T18:19:21.807Z"
   },
   {
    "duration": 3991,
    "start_time": "2023-05-31T18:19:21.820Z"
   },
   {
    "duration": 3,
    "start_time": "2023-05-31T18:19:25.813Z"
   },
   {
    "duration": 8,
    "start_time": "2023-05-31T18:19:25.817Z"
   },
   {
    "duration": 12,
    "start_time": "2023-05-31T18:19:25.827Z"
   },
   {
    "duration": 13,
    "start_time": "2023-05-31T18:19:25.841Z"
   },
   {
    "duration": 9,
    "start_time": "2023-05-31T18:19:25.855Z"
   },
   {
    "duration": 3130,
    "start_time": "2023-05-31T18:19:25.866Z"
   },
   {
    "duration": 4,
    "start_time": "2023-05-31T18:19:28.998Z"
   },
   {
    "duration": 29526,
    "start_time": "2023-05-31T18:19:29.004Z"
   },
   {
    "duration": 2,
    "start_time": "2023-05-31T18:19:58.532Z"
   },
   {
    "duration": 1566,
    "start_time": "2023-05-31T18:20:34.808Z"
   },
   {
    "duration": 1690,
    "start_time": "2023-05-31T18:20:40.937Z"
   },
   {
    "duration": 695,
    "start_time": "2023-05-31T18:20:42.629Z"
   },
   {
    "duration": 74,
    "start_time": "2023-05-31T18:20:43.325Z"
   },
   {
    "duration": 141,
    "start_time": "2023-05-31T18:20:43.402Z"
   },
   {
    "duration": 95,
    "start_time": "2023-05-31T18:20:43.545Z"
   },
   {
    "duration": 13,
    "start_time": "2023-05-31T18:20:43.642Z"
   },
   {
    "duration": 20,
    "start_time": "2023-05-31T18:20:43.657Z"
   },
   {
    "duration": 412,
    "start_time": "2023-05-31T18:20:43.697Z"
   },
   {
    "duration": 16,
    "start_time": "2023-05-31T18:20:44.111Z"
   },
   {
    "duration": 104,
    "start_time": "2023-05-31T18:20:44.129Z"
   },
   {
    "duration": 8,
    "start_time": "2023-05-31T18:20:44.234Z"
   },
   {
    "duration": 11,
    "start_time": "2023-05-31T18:20:44.243Z"
   },
   {
    "duration": 14,
    "start_time": "2023-05-31T18:20:44.255Z"
   },
   {
    "duration": 40,
    "start_time": "2023-05-31T18:20:44.271Z"
   },
   {
    "duration": 8,
    "start_time": "2023-05-31T18:20:44.312Z"
   },
   {
    "duration": 17,
    "start_time": "2023-05-31T18:20:44.322Z"
   },
   {
    "duration": 13,
    "start_time": "2023-05-31T18:20:44.341Z"
   },
   {
    "duration": 10,
    "start_time": "2023-05-31T18:20:44.356Z"
   },
   {
    "duration": 5,
    "start_time": "2023-05-31T18:20:44.367Z"
   },
   {
    "duration": 28,
    "start_time": "2023-05-31T18:20:44.374Z"
   },
   {
    "duration": 3013,
    "start_time": "2023-05-31T18:20:44.404Z"
   },
   {
    "duration": 4,
    "start_time": "2023-05-31T18:20:47.419Z"
   },
   {
    "duration": 6,
    "start_time": "2023-05-31T18:20:47.425Z"
   },
   {
    "duration": 16,
    "start_time": "2023-05-31T18:20:47.433Z"
   },
   {
    "duration": 13,
    "start_time": "2023-05-31T18:20:47.450Z"
   },
   {
    "duration": 5,
    "start_time": "2023-05-31T18:20:47.465Z"
   },
   {
    "duration": 2636,
    "start_time": "2023-05-31T18:20:47.472Z"
   },
   {
    "duration": 4,
    "start_time": "2023-05-31T18:20:50.198Z"
   },
   {
    "duration": 31257,
    "start_time": "2023-05-31T18:20:50.208Z"
   },
   {
    "duration": 3,
    "start_time": "2023-05-31T18:21:21.467Z"
   },
   {
    "duration": 1465,
    "start_time": "2023-05-31T18:22:27.538Z"
   },
   {
    "duration": 347,
    "start_time": "2023-05-31T18:22:29.005Z"
   },
   {
    "duration": 17,
    "start_time": "2023-05-31T18:22:29.354Z"
   },
   {
    "duration": 133,
    "start_time": "2023-05-31T18:22:29.373Z"
   },
   {
    "duration": 96,
    "start_time": "2023-05-31T18:22:29.509Z"
   },
   {
    "duration": 12,
    "start_time": "2023-05-31T18:22:29.608Z"
   },
   {
    "duration": 19,
    "start_time": "2023-05-31T18:22:29.622Z"
   },
   {
    "duration": 427,
    "start_time": "2023-05-31T18:22:29.643Z"
   },
   {
    "duration": 17,
    "start_time": "2023-05-31T18:22:30.071Z"
   },
   {
    "duration": 101,
    "start_time": "2023-05-31T18:22:30.097Z"
   },
   {
    "duration": 9,
    "start_time": "2023-05-31T18:22:30.199Z"
   },
   {
    "duration": 32,
    "start_time": "2023-05-31T18:22:30.209Z"
   },
   {
    "duration": 54,
    "start_time": "2023-05-31T18:22:30.243Z"
   },
   {
    "duration": 63,
    "start_time": "2023-05-31T18:22:30.300Z"
   },
   {
    "duration": 12,
    "start_time": "2023-05-31T18:22:30.364Z"
   },
   {
    "duration": 20,
    "start_time": "2023-05-31T18:22:30.378Z"
   },
   {
    "duration": 32,
    "start_time": "2023-05-31T18:22:30.400Z"
   },
   {
    "duration": 27,
    "start_time": "2023-05-31T18:22:30.434Z"
   },
   {
    "duration": 29,
    "start_time": "2023-05-31T18:22:30.462Z"
   },
   {
    "duration": 42,
    "start_time": "2023-05-31T18:22:30.492Z"
   },
   {
    "duration": 3937,
    "start_time": "2023-05-31T18:22:30.536Z"
   },
   {
    "duration": 4,
    "start_time": "2023-05-31T18:22:34.476Z"
   },
   {
    "duration": 13,
    "start_time": "2023-05-31T18:22:34.482Z"
   },
   {
    "duration": 23,
    "start_time": "2023-05-31T18:22:34.497Z"
   },
   {
    "duration": 13,
    "start_time": "2023-05-31T18:22:34.522Z"
   },
   {
    "duration": 11,
    "start_time": "2023-05-31T18:22:34.537Z"
   },
   {
    "duration": 3757,
    "start_time": "2023-05-31T18:22:34.550Z"
   },
   {
    "duration": 4,
    "start_time": "2023-05-31T18:22:38.398Z"
   },
   {
    "duration": 30938,
    "start_time": "2023-05-31T18:22:38.404Z"
   },
   {
    "duration": 3,
    "start_time": "2023-05-31T18:23:09.343Z"
   },
   {
    "duration": 1420,
    "start_time": "2023-05-31T18:25:35.710Z"
   },
   {
    "duration": 357,
    "start_time": "2023-05-31T18:25:37.132Z"
   },
   {
    "duration": 18,
    "start_time": "2023-05-31T18:25:37.491Z"
   },
   {
    "duration": 137,
    "start_time": "2023-05-31T18:25:37.511Z"
   },
   {
    "duration": 104,
    "start_time": "2023-05-31T18:25:37.650Z"
   },
   {
    "duration": 13,
    "start_time": "2023-05-31T18:25:37.756Z"
   },
   {
    "duration": 33,
    "start_time": "2023-05-31T18:25:37.771Z"
   },
   {
    "duration": 397,
    "start_time": "2023-05-31T18:25:37.806Z"
   },
   {
    "duration": 16,
    "start_time": "2023-05-31T18:25:38.205Z"
   },
   {
    "duration": 103,
    "start_time": "2023-05-31T18:25:38.223Z"
   },
   {
    "duration": 7,
    "start_time": "2023-05-31T18:25:38.328Z"
   },
   {
    "duration": 12,
    "start_time": "2023-05-31T18:25:38.336Z"
   },
   {
    "duration": 16,
    "start_time": "2023-05-31T18:25:38.349Z"
   },
   {
    "duration": 34,
    "start_time": "2023-05-31T18:25:38.367Z"
   },
   {
    "duration": 6,
    "start_time": "2023-05-31T18:25:38.403Z"
   },
   {
    "duration": 5,
    "start_time": "2023-05-31T18:25:38.411Z"
   },
   {
    "duration": 7,
    "start_time": "2023-05-31T18:25:38.418Z"
   },
   {
    "duration": 8,
    "start_time": "2023-05-31T18:25:38.426Z"
   },
   {
    "duration": 4,
    "start_time": "2023-05-31T18:25:38.435Z"
   },
   {
    "duration": 10,
    "start_time": "2023-05-31T18:25:38.440Z"
   },
   {
    "duration": 3701,
    "start_time": "2023-05-31T18:25:38.452Z"
   },
   {
    "duration": 3,
    "start_time": "2023-05-31T18:25:42.155Z"
   },
   {
    "duration": 30,
    "start_time": "2023-05-31T18:25:42.160Z"
   },
   {
    "duration": 30,
    "start_time": "2023-05-31T18:25:42.192Z"
   },
   {
    "duration": 19,
    "start_time": "2023-05-31T18:25:42.224Z"
   },
   {
    "duration": 16,
    "start_time": "2023-05-31T18:25:42.245Z"
   },
   {
    "duration": 2940,
    "start_time": "2023-05-31T18:25:42.263Z"
   },
   {
    "duration": 5,
    "start_time": "2023-05-31T18:25:45.208Z"
   },
   {
    "duration": 30782,
    "start_time": "2023-05-31T18:25:45.299Z"
   },
   {
    "duration": 3,
    "start_time": "2023-05-31T18:26:16.084Z"
   },
   {
    "duration": 1462,
    "start_time": "2023-05-31T18:28:29.430Z"
   },
   {
    "duration": 362,
    "start_time": "2023-05-31T18:28:30.895Z"
   },
   {
    "duration": 18,
    "start_time": "2023-05-31T18:28:31.259Z"
   },
   {
    "duration": 148,
    "start_time": "2023-05-31T18:28:31.279Z"
   },
   {
    "duration": 101,
    "start_time": "2023-05-31T18:28:31.429Z"
   },
   {
    "duration": 13,
    "start_time": "2023-05-31T18:28:31.532Z"
   },
   {
    "duration": 29,
    "start_time": "2023-05-31T18:28:31.547Z"
   },
   {
    "duration": 449,
    "start_time": "2023-05-31T18:28:31.578Z"
   },
   {
    "duration": 19,
    "start_time": "2023-05-31T18:28:32.029Z"
   },
   {
    "duration": 118,
    "start_time": "2023-05-31T18:28:32.050Z"
   },
   {
    "duration": 9,
    "start_time": "2023-05-31T18:28:32.169Z"
   },
   {
    "duration": 25,
    "start_time": "2023-05-31T18:28:32.180Z"
   },
   {
    "duration": 37,
    "start_time": "2023-05-31T18:28:32.207Z"
   },
   {
    "duration": 39,
    "start_time": "2023-05-31T18:28:32.248Z"
   },
   {
    "duration": 9,
    "start_time": "2023-05-31T18:28:32.289Z"
   },
   {
    "duration": 6,
    "start_time": "2023-05-31T18:28:32.300Z"
   },
   {
    "duration": 9,
    "start_time": "2023-05-31T18:28:32.308Z"
   },
   {
    "duration": 12,
    "start_time": "2023-05-31T18:28:32.318Z"
   },
   {
    "duration": 9,
    "start_time": "2023-05-31T18:28:32.331Z"
   },
   {
    "duration": 18,
    "start_time": "2023-05-31T18:28:32.342Z"
   },
   {
    "duration": 3268,
    "start_time": "2023-05-31T18:28:32.362Z"
   },
   {
    "duration": 4,
    "start_time": "2023-05-31T18:28:35.631Z"
   },
   {
    "duration": 33,
    "start_time": "2023-05-31T18:28:35.636Z"
   },
   {
    "duration": 37,
    "start_time": "2023-05-31T18:28:35.671Z"
   },
   {
    "duration": 24,
    "start_time": "2023-05-31T18:28:35.710Z"
   },
   {
    "duration": 17,
    "start_time": "2023-05-31T18:28:35.736Z"
   },
   {
    "duration": 3351,
    "start_time": "2023-05-31T18:28:35.755Z"
   },
   {
    "duration": 92,
    "start_time": "2023-05-31T18:28:39.108Z"
   },
   {
    "duration": 32358,
    "start_time": "2023-05-31T18:28:39.203Z"
   },
   {
    "duration": 2,
    "start_time": "2023-05-31T18:29:11.563Z"
   },
   {
    "duration": 1808,
    "start_time": "2023-05-31T18:29:51.329Z"
   },
   {
    "duration": 630,
    "start_time": "2023-05-31T18:29:53.140Z"
   },
   {
    "duration": 26,
    "start_time": "2023-05-31T18:29:53.772Z"
   },
   {
    "duration": 125,
    "start_time": "2023-05-31T18:29:53.800Z"
   },
   {
    "duration": 95,
    "start_time": "2023-05-31T18:29:53.928Z"
   },
   {
    "duration": 11,
    "start_time": "2023-05-31T18:29:54.025Z"
   },
   {
    "duration": 32,
    "start_time": "2023-05-31T18:29:54.038Z"
   },
   {
    "duration": 397,
    "start_time": "2023-05-31T18:29:54.072Z"
   },
   {
    "duration": 17,
    "start_time": "2023-05-31T18:29:54.470Z"
   },
   {
    "duration": 106,
    "start_time": "2023-05-31T18:29:54.497Z"
   },
   {
    "duration": 8,
    "start_time": "2023-05-31T18:29:54.605Z"
   },
   {
    "duration": 9,
    "start_time": "2023-05-31T18:29:54.614Z"
   },
   {
    "duration": 23,
    "start_time": "2023-05-31T18:29:54.625Z"
   },
   {
    "duration": 25,
    "start_time": "2023-05-31T18:29:54.651Z"
   },
   {
    "duration": 7,
    "start_time": "2023-05-31T18:29:54.678Z"
   },
   {
    "duration": 12,
    "start_time": "2023-05-31T18:29:54.698Z"
   },
   {
    "duration": 9,
    "start_time": "2023-05-31T18:29:54.712Z"
   },
   {
    "duration": 9,
    "start_time": "2023-05-31T18:29:54.723Z"
   },
   {
    "duration": 5,
    "start_time": "2023-05-31T18:29:54.734Z"
   },
   {
    "duration": 16,
    "start_time": "2023-05-31T18:29:54.740Z"
   },
   {
    "duration": 2927,
    "start_time": "2023-05-31T18:29:54.758Z"
   },
   {
    "duration": 3,
    "start_time": "2023-05-31T18:29:57.687Z"
   },
   {
    "duration": 55,
    "start_time": "2023-05-31T18:29:57.691Z"
   },
   {
    "duration": 47,
    "start_time": "2023-05-31T18:29:57.748Z"
   },
   {
    "duration": 36,
    "start_time": "2023-05-31T18:29:57.797Z"
   },
   {
    "duration": 19,
    "start_time": "2023-05-31T18:29:57.835Z"
   },
   {
    "duration": 3241,
    "start_time": "2023-05-31T18:29:57.855Z"
   },
   {
    "duration": 4,
    "start_time": "2023-05-31T18:30:01.098Z"
   },
   {
    "duration": 30318,
    "start_time": "2023-05-31T18:30:01.103Z"
   },
   {
    "duration": 3,
    "start_time": "2023-05-31T18:30:31.423Z"
   },
   {
    "duration": 1435,
    "start_time": "2023-05-31T18:33:00.056Z"
   },
   {
    "duration": 372,
    "start_time": "2023-05-31T18:33:01.493Z"
   },
   {
    "duration": 19,
    "start_time": "2023-05-31T18:33:01.866Z"
   },
   {
    "duration": 129,
    "start_time": "2023-05-31T18:33:01.896Z"
   },
   {
    "duration": 99,
    "start_time": "2023-05-31T18:33:02.028Z"
   },
   {
    "duration": 12,
    "start_time": "2023-05-31T18:33:02.129Z"
   },
   {
    "duration": 25,
    "start_time": "2023-05-31T18:33:02.142Z"
   },
   {
    "duration": 431,
    "start_time": "2023-05-31T18:33:02.169Z"
   },
   {
    "duration": 18,
    "start_time": "2023-05-31T18:33:02.602Z"
   },
   {
    "duration": 115,
    "start_time": "2023-05-31T18:33:02.622Z"
   },
   {
    "duration": 9,
    "start_time": "2023-05-31T18:33:02.739Z"
   },
   {
    "duration": 21,
    "start_time": "2023-05-31T18:33:02.750Z"
   },
   {
    "duration": 22,
    "start_time": "2023-05-31T18:33:02.773Z"
   },
   {
    "duration": 28,
    "start_time": "2023-05-31T18:33:02.798Z"
   },
   {
    "duration": 7,
    "start_time": "2023-05-31T18:33:02.828Z"
   },
   {
    "duration": 16,
    "start_time": "2023-05-31T18:33:02.836Z"
   },
   {
    "duration": 17,
    "start_time": "2023-05-31T18:33:02.854Z"
   },
   {
    "duration": 20,
    "start_time": "2023-05-31T18:33:02.873Z"
   },
   {
    "duration": 5,
    "start_time": "2023-05-31T18:33:02.895Z"
   },
   {
    "duration": 26,
    "start_time": "2023-05-31T18:33:02.902Z"
   },
   {
    "duration": 3940,
    "start_time": "2023-05-31T18:33:02.929Z"
   },
   {
    "duration": 3,
    "start_time": "2023-05-31T18:33:06.871Z"
   },
   {
    "duration": 10,
    "start_time": "2023-05-31T18:33:06.875Z"
   },
   {
    "duration": 24,
    "start_time": "2023-05-31T18:33:06.887Z"
   },
   {
    "duration": 7,
    "start_time": "2023-05-31T18:33:06.913Z"
   },
   {
    "duration": 17,
    "start_time": "2023-05-31T18:33:06.922Z"
   },
   {
    "duration": 3066,
    "start_time": "2023-05-31T18:33:06.942Z"
   },
   {
    "duration": 4,
    "start_time": "2023-05-31T18:33:10.099Z"
   },
   {
    "duration": 30586,
    "start_time": "2023-05-31T18:33:10.106Z"
   },
   {
    "duration": 3,
    "start_time": "2023-05-31T18:33:40.698Z"
   },
   {
    "duration": 149,
    "start_time": "2023-05-31T18:44:12.074Z"
   },
   {
    "duration": 176,
    "start_time": "2023-05-31T18:44:27.236Z"
   },
   {
    "duration": 167,
    "start_time": "2023-05-31T18:44:44.611Z"
   },
   {
    "duration": 158,
    "start_time": "2023-05-31T18:44:48.541Z"
   },
   {
    "duration": 160,
    "start_time": "2023-05-31T18:44:49.607Z"
   },
   {
    "duration": 263,
    "start_time": "2023-05-31T18:45:00.253Z"
   },
   {
    "duration": 181,
    "start_time": "2023-05-31T18:45:06.747Z"
   },
   {
    "duration": 312,
    "start_time": "2023-05-31T18:45:18.480Z"
   },
   {
    "duration": 195,
    "start_time": "2023-05-31T18:45:39.829Z"
   },
   {
    "duration": 197,
    "start_time": "2023-05-31T18:45:54.441Z"
   },
   {
    "duration": 214,
    "start_time": "2023-05-31T18:49:18.571Z"
   },
   {
    "duration": 218,
    "start_time": "2023-05-31T18:52:28.375Z"
   },
   {
    "duration": 1363,
    "start_time": "2023-05-31T19:45:12.029Z"
   },
   {
    "duration": 331,
    "start_time": "2023-05-31T19:45:13.394Z"
   },
   {
    "duration": 17,
    "start_time": "2023-05-31T19:45:13.727Z"
   },
   {
    "duration": 126,
    "start_time": "2023-05-31T19:45:13.746Z"
   },
   {
    "duration": 94,
    "start_time": "2023-05-31T19:45:13.874Z"
   },
   {
    "duration": 12,
    "start_time": "2023-05-31T19:45:13.969Z"
   },
   {
    "duration": 30,
    "start_time": "2023-05-31T19:45:13.983Z"
   },
   {
    "duration": 382,
    "start_time": "2023-05-31T19:45:14.014Z"
   },
   {
    "duration": 18,
    "start_time": "2023-05-31T19:45:14.398Z"
   },
   {
    "duration": 101,
    "start_time": "2023-05-31T19:45:14.419Z"
   },
   {
    "duration": 8,
    "start_time": "2023-05-31T19:45:14.522Z"
   },
   {
    "duration": 9,
    "start_time": "2023-05-31T19:45:14.532Z"
   },
   {
    "duration": 13,
    "start_time": "2023-05-31T19:45:14.542Z"
   },
   {
    "duration": 47,
    "start_time": "2023-05-31T19:45:14.557Z"
   },
   {
    "duration": 7,
    "start_time": "2023-05-31T19:45:14.606Z"
   },
   {
    "duration": 6,
    "start_time": "2023-05-31T19:45:14.615Z"
   },
   {
    "duration": 8,
    "start_time": "2023-05-31T19:45:14.622Z"
   },
   {
    "duration": 9,
    "start_time": "2023-05-31T19:45:14.631Z"
   },
   {
    "duration": 4,
    "start_time": "2023-05-31T19:45:14.642Z"
   },
   {
    "duration": 10,
    "start_time": "2023-05-31T19:45:14.647Z"
   },
   {
    "duration": 2724,
    "start_time": "2023-05-31T19:45:14.697Z"
   },
   {
    "duration": 206,
    "start_time": "2023-05-31T19:45:17.423Z"
   },
   {
    "duration": 219,
    "start_time": "2023-05-31T19:45:17.631Z"
   },
   {
    "duration": 3,
    "start_time": "2023-05-31T19:45:17.852Z"
   },
   {
    "duration": 6,
    "start_time": "2023-05-31T19:45:17.857Z"
   },
   {
    "duration": 15,
    "start_time": "2023-05-31T19:45:17.865Z"
   },
   {
    "duration": 15,
    "start_time": "2023-05-31T19:45:17.882Z"
   },
   {
    "duration": 4,
    "start_time": "2023-05-31T19:45:17.900Z"
   },
   {
    "duration": 2898,
    "start_time": "2023-05-31T19:45:17.905Z"
   },
   {
    "duration": 92,
    "start_time": "2023-05-31T19:45:20.806Z"
   },
   {
    "duration": 30727,
    "start_time": "2023-05-31T19:45:20.900Z"
   },
   {
    "duration": 1123255,
    "start_time": "2023-05-31T19:45:51.629Z"
   },
   {
    "duration": 1762,
    "start_time": "2023-05-31T20:31:29.977Z"
   },
   {
    "duration": 699,
    "start_time": "2023-05-31T20:31:31.741Z"
   },
   {
    "duration": 72,
    "start_time": "2023-05-31T20:31:32.442Z"
   },
   {
    "duration": 291,
    "start_time": "2023-05-31T20:31:32.516Z"
   },
   {
    "duration": 158,
    "start_time": "2023-05-31T20:31:32.809Z"
   },
   {
    "duration": 13,
    "start_time": "2023-05-31T20:31:32.998Z"
   },
   {
    "duration": 21,
    "start_time": "2023-05-31T20:31:33.013Z"
   },
   {
    "duration": 477,
    "start_time": "2023-05-31T20:31:33.035Z"
   },
   {
    "duration": 18,
    "start_time": "2023-05-31T20:31:33.514Z"
   },
   {
    "duration": 172,
    "start_time": "2023-05-31T20:31:33.535Z"
   },
   {
    "duration": 9,
    "start_time": "2023-05-31T20:31:33.708Z"
   },
   {
    "duration": 9,
    "start_time": "2023-05-31T20:31:33.718Z"
   },
   {
    "duration": 16,
    "start_time": "2023-05-31T20:31:33.729Z"
   },
   {
    "duration": 25,
    "start_time": "2023-05-31T20:31:33.747Z"
   },
   {
    "duration": 25,
    "start_time": "2023-05-31T20:31:33.774Z"
   },
   {
    "duration": 7,
    "start_time": "2023-05-31T20:31:33.800Z"
   },
   {
    "duration": 10,
    "start_time": "2023-05-31T20:31:33.808Z"
   },
   {
    "duration": 8,
    "start_time": "2023-05-31T20:31:33.820Z"
   },
   {
    "duration": 4,
    "start_time": "2023-05-31T20:31:33.830Z"
   },
   {
    "duration": 11,
    "start_time": "2023-05-31T20:31:33.836Z"
   },
   {
    "duration": 3097,
    "start_time": "2023-05-31T20:31:33.849Z"
   },
   {
    "duration": 207,
    "start_time": "2023-05-31T20:31:36.948Z"
   },
   {
    "duration": 226,
    "start_time": "2023-05-31T20:31:37.156Z"
   },
   {
    "duration": 4,
    "start_time": "2023-05-31T20:31:37.384Z"
   },
   {
    "duration": 18,
    "start_time": "2023-05-31T20:31:37.390Z"
   },
   {
    "duration": 41,
    "start_time": "2023-05-31T20:31:37.410Z"
   },
   {
    "duration": 14,
    "start_time": "2023-05-31T20:31:37.453Z"
   },
   {
    "duration": 20,
    "start_time": "2023-05-31T20:31:37.471Z"
   },
   {
    "duration": 3112,
    "start_time": "2023-05-31T20:31:37.492Z"
   },
   {
    "duration": 95,
    "start_time": "2023-05-31T20:31:40.606Z"
   },
   {
    "duration": 31677,
    "start_time": "2023-05-31T20:31:40.704Z"
   },
   {
    "duration": 1071524,
    "start_time": "2023-05-31T20:32:12.383Z"
   },
   {
    "duration": 1742,
    "start_time": "2023-05-31T20:50:03.910Z"
   },
   {
    "duration": 5,
    "start_time": "2023-05-31T21:07:51.214Z"
   },
   {
    "duration": 38799,
    "start_time": "2023-05-31T21:07:51.989Z"
   },
   {
    "duration": 4,
    "start_time": "2023-05-31T21:08:53.807Z"
   },
   {
    "duration": 11,
    "start_time": "2023-05-31T21:26:51.473Z"
   },
   {
    "duration": 9,
    "start_time": "2023-05-31T21:27:08.384Z"
   },
   {
    "duration": 36406,
    "start_time": "2023-05-31T21:27:18.474Z"
   },
   {
    "duration": 8,
    "start_time": "2023-05-31T21:30:56.021Z"
   },
   {
    "duration": 9,
    "start_time": "2023-05-31T21:31:26.586Z"
   },
   {
    "duration": 8,
    "start_time": "2023-05-31T21:31:40.817Z"
   },
   {
    "duration": 8,
    "start_time": "2023-05-31T21:31:47.841Z"
   },
   {
    "duration": 8,
    "start_time": "2023-05-31T21:31:51.564Z"
   },
   {
    "duration": 1201,
    "start_time": "2023-05-31T21:52:19.228Z"
   },
   {
    "duration": 1254,
    "start_time": "2023-05-31T21:52:56.050Z"
   },
   {
    "duration": 1459,
    "start_time": "2023-05-31T22:39:39.583Z"
   },
   {
    "duration": 358,
    "start_time": "2023-05-31T22:39:41.044Z"
   },
   {
    "duration": 19,
    "start_time": "2023-05-31T22:39:41.404Z"
   },
   {
    "duration": 140,
    "start_time": "2023-05-31T22:39:41.425Z"
   },
   {
    "duration": 99,
    "start_time": "2023-05-31T22:39:41.567Z"
   },
   {
    "duration": 14,
    "start_time": "2023-05-31T22:39:41.667Z"
   },
   {
    "duration": 30,
    "start_time": "2023-05-31T22:39:41.683Z"
   },
   {
    "duration": 434,
    "start_time": "2023-05-31T22:39:41.714Z"
   },
   {
    "duration": 19,
    "start_time": "2023-05-31T22:39:42.150Z"
   },
   {
    "duration": 120,
    "start_time": "2023-05-31T22:39:42.171Z"
   },
   {
    "duration": 9,
    "start_time": "2023-05-31T22:39:42.292Z"
   },
   {
    "duration": 19,
    "start_time": "2023-05-31T22:39:42.303Z"
   },
   {
    "duration": 11,
    "start_time": "2023-05-31T22:39:42.323Z"
   },
   {
    "duration": 33,
    "start_time": "2023-05-31T22:39:42.335Z"
   },
   {
    "duration": 7,
    "start_time": "2023-05-31T22:39:42.370Z"
   },
   {
    "duration": 19,
    "start_time": "2023-05-31T22:39:42.378Z"
   },
   {
    "duration": 7,
    "start_time": "2023-05-31T22:39:42.399Z"
   },
   {
    "duration": 10,
    "start_time": "2023-05-31T22:39:42.407Z"
   },
   {
    "duration": 8,
    "start_time": "2023-05-31T22:39:42.418Z"
   },
   {
    "duration": 12,
    "start_time": "2023-05-31T22:39:42.428Z"
   },
   {
    "duration": 3047,
    "start_time": "2023-05-31T22:39:42.442Z"
   },
   {
    "duration": 230,
    "start_time": "2023-05-31T22:39:45.491Z"
   },
   {
    "duration": 240,
    "start_time": "2023-05-31T22:39:45.723Z"
   },
   {
    "duration": 9,
    "start_time": "2023-05-31T22:39:45.964Z"
   },
   {
    "duration": 659,
    "start_time": "2023-05-31T22:39:45.974Z"
   },
   {
    "duration": 0,
    "start_time": "2023-05-31T22:39:46.635Z"
   },
   {
    "duration": 0,
    "start_time": "2023-05-31T22:39:46.637Z"
   },
   {
    "duration": 0,
    "start_time": "2023-05-31T22:39:46.637Z"
   },
   {
    "duration": 0,
    "start_time": "2023-05-31T22:39:46.638Z"
   },
   {
    "duration": 0,
    "start_time": "2023-05-31T22:39:46.639Z"
   },
   {
    "duration": 0,
    "start_time": "2023-05-31T22:39:46.641Z"
   },
   {
    "duration": 0,
    "start_time": "2023-05-31T22:39:46.641Z"
   },
   {
    "duration": 0,
    "start_time": "2023-05-31T22:39:46.643Z"
   },
   {
    "duration": 0,
    "start_time": "2023-05-31T22:39:46.643Z"
   },
   {
    "duration": 0,
    "start_time": "2023-05-31T22:39:46.645Z"
   },
   {
    "duration": 0,
    "start_time": "2023-05-31T22:39:46.646Z"
   },
   {
    "duration": 0,
    "start_time": "2023-05-31T22:39:46.646Z"
   },
   {
    "duration": 1579,
    "start_time": "2023-05-31T22:41:38.719Z"
   },
   {
    "duration": 2065,
    "start_time": "2023-05-31T22:48:08.462Z"
   },
   {
    "duration": 466,
    "start_time": "2023-05-31T22:48:10.529Z"
   },
   {
    "duration": 18,
    "start_time": "2023-05-31T22:48:10.998Z"
   },
   {
    "duration": 138,
    "start_time": "2023-05-31T22:48:11.017Z"
   },
   {
    "duration": 100,
    "start_time": "2023-05-31T22:48:11.157Z"
   },
   {
    "duration": 12,
    "start_time": "2023-05-31T22:48:11.259Z"
   },
   {
    "duration": 32,
    "start_time": "2023-05-31T22:48:11.273Z"
   },
   {
    "duration": 423,
    "start_time": "2023-05-31T22:48:11.307Z"
   },
   {
    "duration": 17,
    "start_time": "2023-05-31T22:48:11.731Z"
   },
   {
    "duration": 111,
    "start_time": "2023-05-31T22:48:11.749Z"
   },
   {
    "duration": 8,
    "start_time": "2023-05-31T22:48:11.862Z"
   },
   {
    "duration": 15,
    "start_time": "2023-05-31T22:48:11.871Z"
   },
   {
    "duration": 16,
    "start_time": "2023-05-31T22:48:11.888Z"
   },
   {
    "duration": 25,
    "start_time": "2023-05-31T22:48:11.907Z"
   },
   {
    "duration": 6,
    "start_time": "2023-05-31T22:48:11.934Z"
   },
   {
    "duration": 6,
    "start_time": "2023-05-31T22:48:11.942Z"
   },
   {
    "duration": 8,
    "start_time": "2023-05-31T22:48:11.949Z"
   },
   {
    "duration": 41,
    "start_time": "2023-05-31T22:48:11.958Z"
   },
   {
    "duration": 3,
    "start_time": "2023-05-31T22:48:12.001Z"
   },
   {
    "duration": 12,
    "start_time": "2023-05-31T22:48:12.006Z"
   },
   {
    "duration": 2894,
    "start_time": "2023-05-31T22:48:12.019Z"
   },
   {
    "duration": 220,
    "start_time": "2023-05-31T22:48:14.915Z"
   },
   {
    "duration": 231,
    "start_time": "2023-05-31T22:48:15.137Z"
   },
   {
    "duration": 7,
    "start_time": "2023-05-31T22:48:15.370Z"
   },
   {
    "duration": 2019,
    "start_time": "2023-05-31T22:48:15.379Z"
   },
   {
    "duration": 3,
    "start_time": "2023-05-31T22:48:17.400Z"
   },
   {
    "duration": 12,
    "start_time": "2023-05-31T22:48:17.405Z"
   },
   {
    "duration": 24,
    "start_time": "2023-05-31T22:48:17.419Z"
   },
   {
    "duration": 14,
    "start_time": "2023-05-31T22:48:17.444Z"
   },
   {
    "duration": 9,
    "start_time": "2023-05-31T22:48:17.460Z"
   },
   {
    "duration": 2634,
    "start_time": "2023-05-31T22:48:17.471Z"
   },
   {
    "duration": 93,
    "start_time": "2023-05-31T22:48:20.107Z"
   },
   {
    "duration": 1840,
    "start_time": "2023-05-31T22:48:48.394Z"
   },
   {
    "duration": 678,
    "start_time": "2023-05-31T22:48:50.236Z"
   },
   {
    "duration": 17,
    "start_time": "2023-05-31T22:48:50.915Z"
   },
   {
    "duration": 136,
    "start_time": "2023-05-31T22:48:50.933Z"
   },
   {
    "duration": 97,
    "start_time": "2023-05-31T22:48:51.071Z"
   },
   {
    "duration": 11,
    "start_time": "2023-05-31T22:48:51.170Z"
   },
   {
    "duration": 27,
    "start_time": "2023-05-31T22:48:51.183Z"
   },
   {
    "duration": 418,
    "start_time": "2023-05-31T22:48:51.211Z"
   },
   {
    "duration": 17,
    "start_time": "2023-05-31T22:48:51.630Z"
   },
   {
    "duration": 107,
    "start_time": "2023-05-31T22:48:51.648Z"
   },
   {
    "duration": 8,
    "start_time": "2023-05-31T22:48:51.757Z"
   },
   {
    "duration": 16,
    "start_time": "2023-05-31T22:48:51.766Z"
   },
   {
    "duration": 19,
    "start_time": "2023-05-31T22:48:51.784Z"
   },
   {
    "duration": 25,
    "start_time": "2023-05-31T22:48:51.806Z"
   },
   {
    "duration": 6,
    "start_time": "2023-05-31T22:48:51.833Z"
   },
   {
    "duration": 22,
    "start_time": "2023-05-31T22:48:51.841Z"
   },
   {
    "duration": 13,
    "start_time": "2023-05-31T22:48:51.864Z"
   },
   {
    "duration": 14,
    "start_time": "2023-05-31T22:48:51.879Z"
   },
   {
    "duration": 4,
    "start_time": "2023-05-31T22:48:51.897Z"
   },
   {
    "duration": 20,
    "start_time": "2023-05-31T22:48:51.902Z"
   },
   {
    "duration": 2966,
    "start_time": "2023-05-31T22:48:51.923Z"
   },
   {
    "duration": 224,
    "start_time": "2023-05-31T22:48:54.891Z"
   },
   {
    "duration": 243,
    "start_time": "2023-05-31T22:48:55.116Z"
   },
   {
    "duration": 8,
    "start_time": "2023-05-31T22:48:55.361Z"
   },
   {
    "duration": 1838,
    "start_time": "2023-05-31T22:48:55.370Z"
   },
   {
    "duration": 3,
    "start_time": "2023-05-31T22:48:57.210Z"
   },
   {
    "duration": 5,
    "start_time": "2023-05-31T22:48:57.215Z"
   },
   {
    "duration": 61,
    "start_time": "2023-05-31T22:48:57.222Z"
   },
   {
    "duration": 15,
    "start_time": "2023-05-31T22:48:57.285Z"
   },
   {
    "duration": 34,
    "start_time": "2023-05-31T22:48:57.302Z"
   },
   {
    "duration": 2969,
    "start_time": "2023-05-31T22:48:57.338Z"
   },
   {
    "duration": 4,
    "start_time": "2023-05-31T22:49:00.399Z"
   },
   {
    "duration": 31971,
    "start_time": "2023-05-31T22:49:00.406Z"
   },
   {
    "duration": 1433,
    "start_time": "2023-05-31T22:49:55.239Z"
   },
   {
    "duration": 351,
    "start_time": "2023-05-31T22:49:56.675Z"
   },
   {
    "duration": 17,
    "start_time": "2023-05-31T22:49:57.028Z"
   },
   {
    "duration": 137,
    "start_time": "2023-05-31T22:49:57.048Z"
   },
   {
    "duration": 100,
    "start_time": "2023-05-31T22:49:57.187Z"
   },
   {
    "duration": 17,
    "start_time": "2023-05-31T22:49:57.289Z"
   },
   {
    "duration": 22,
    "start_time": "2023-05-31T22:49:57.308Z"
   },
   {
    "duration": 440,
    "start_time": "2023-05-31T22:49:57.331Z"
   },
   {
    "duration": 29,
    "start_time": "2023-05-31T22:49:57.773Z"
   },
   {
    "duration": 111,
    "start_time": "2023-05-31T22:49:57.806Z"
   },
   {
    "duration": 8,
    "start_time": "2023-05-31T22:49:57.919Z"
   },
   {
    "duration": 13,
    "start_time": "2023-05-31T22:49:57.929Z"
   },
   {
    "duration": 24,
    "start_time": "2023-05-31T22:49:57.943Z"
   },
   {
    "duration": 39,
    "start_time": "2023-05-31T22:49:57.969Z"
   },
   {
    "duration": 8,
    "start_time": "2023-05-31T22:49:58.010Z"
   },
   {
    "duration": 23,
    "start_time": "2023-05-31T22:49:58.020Z"
   },
   {
    "duration": 14,
    "start_time": "2023-05-31T22:49:58.044Z"
   },
   {
    "duration": 17,
    "start_time": "2023-05-31T22:49:58.061Z"
   },
   {
    "duration": 13,
    "start_time": "2023-05-31T22:49:58.080Z"
   },
   {
    "duration": 17,
    "start_time": "2023-05-31T22:49:58.095Z"
   },
   {
    "duration": 2991,
    "start_time": "2023-05-31T22:49:58.114Z"
   },
   {
    "duration": 238,
    "start_time": "2023-05-31T22:50:01.130Z"
   },
   {
    "duration": 252,
    "start_time": "2023-05-31T22:50:01.370Z"
   },
   {
    "duration": 9,
    "start_time": "2023-05-31T22:50:01.624Z"
   },
   {
    "duration": 75,
    "start_time": "2023-05-31T22:50:01.635Z"
   },
   {
    "duration": 0,
    "start_time": "2023-05-31T22:50:01.712Z"
   },
   {
    "duration": 0,
    "start_time": "2023-05-31T22:50:01.713Z"
   },
   {
    "duration": 0,
    "start_time": "2023-05-31T22:50:01.714Z"
   },
   {
    "duration": 0,
    "start_time": "2023-05-31T22:50:01.716Z"
   },
   {
    "duration": 0,
    "start_time": "2023-05-31T22:50:01.717Z"
   },
   {
    "duration": 0,
    "start_time": "2023-05-31T22:50:01.718Z"
   },
   {
    "duration": 0,
    "start_time": "2023-05-31T22:50:01.719Z"
   },
   {
    "duration": 0,
    "start_time": "2023-05-31T22:50:01.720Z"
   },
   {
    "duration": 0,
    "start_time": "2023-05-31T22:50:01.722Z"
   },
   {
    "duration": 0,
    "start_time": "2023-05-31T22:50:01.723Z"
   },
   {
    "duration": 0,
    "start_time": "2023-05-31T22:50:01.724Z"
   },
   {
    "duration": 0,
    "start_time": "2023-05-31T22:50:01.726Z"
   },
   {
    "duration": 1568,
    "start_time": "2023-05-31T22:50:43.545Z"
   },
   {
    "duration": 2927,
    "start_time": "2023-05-31T22:50:55.427Z"
   },
   {
    "duration": 2950,
    "start_time": "2023-05-31T22:51:52.730Z"
   },
   {
    "duration": 1448,
    "start_time": "2023-05-31T22:53:52.813Z"
   },
   {
    "duration": 1467,
    "start_time": "2023-05-31T22:54:21.763Z"
   },
   {
    "duration": 1499,
    "start_time": "2023-05-31T22:54:37.862Z"
   },
   {
    "duration": 1481,
    "start_time": "2023-05-31T22:54:56.809Z"
   },
   {
    "duration": 1489,
    "start_time": "2023-05-31T22:57:04.172Z"
   },
   {
    "duration": 350,
    "start_time": "2023-05-31T22:57:05.663Z"
   },
   {
    "duration": 16,
    "start_time": "2023-05-31T22:57:06.015Z"
   },
   {
    "duration": 136,
    "start_time": "2023-05-31T22:57:06.032Z"
   },
   {
    "duration": 98,
    "start_time": "2023-05-31T22:57:06.170Z"
   },
   {
    "duration": 12,
    "start_time": "2023-05-31T22:57:06.270Z"
   },
   {
    "duration": 32,
    "start_time": "2023-05-31T22:57:06.283Z"
   },
   {
    "duration": 433,
    "start_time": "2023-05-31T22:57:06.317Z"
   },
   {
    "duration": 17,
    "start_time": "2023-05-31T22:57:06.752Z"
   },
   {
    "duration": 105,
    "start_time": "2023-05-31T22:57:06.770Z"
   },
   {
    "duration": 20,
    "start_time": "2023-05-31T22:57:06.877Z"
   },
   {
    "duration": 8,
    "start_time": "2023-05-31T22:57:06.898Z"
   },
   {
    "duration": 14,
    "start_time": "2023-05-31T22:57:06.908Z"
   },
   {
    "duration": 39,
    "start_time": "2023-05-31T22:57:06.925Z"
   },
   {
    "duration": 7,
    "start_time": "2023-05-31T22:57:06.965Z"
   },
   {
    "duration": 29,
    "start_time": "2023-05-31T22:57:06.973Z"
   },
   {
    "duration": 20,
    "start_time": "2023-05-31T22:57:07.004Z"
   },
   {
    "duration": 15,
    "start_time": "2023-05-31T22:57:07.026Z"
   },
   {
    "duration": 21,
    "start_time": "2023-05-31T22:57:07.043Z"
   },
   {
    "duration": 30,
    "start_time": "2023-05-31T22:57:07.066Z"
   },
   {
    "duration": 2908,
    "start_time": "2023-05-31T22:57:07.097Z"
   },
   {
    "duration": 224,
    "start_time": "2023-05-31T22:57:10.007Z"
   },
   {
    "duration": 237,
    "start_time": "2023-05-31T22:57:10.233Z"
   },
   {
    "duration": 8,
    "start_time": "2023-05-31T22:57:10.472Z"
   },
   {
    "duration": 1499,
    "start_time": "2023-05-31T22:57:10.481Z"
   },
   {
    "duration": 3,
    "start_time": "2023-05-31T22:57:11.982Z"
   },
   {
    "duration": 34,
    "start_time": "2023-05-31T22:57:11.986Z"
   },
   {
    "duration": 42,
    "start_time": "2023-05-31T22:57:12.022Z"
   },
   {
    "duration": 8,
    "start_time": "2023-05-31T22:57:12.066Z"
   },
   {
    "duration": 13,
    "start_time": "2023-05-31T22:57:12.076Z"
   },
   {
    "duration": 3411,
    "start_time": "2023-05-31T22:57:12.091Z"
   },
   {
    "duration": 5,
    "start_time": "2023-05-31T22:57:15.504Z"
   },
   {
    "duration": 31495,
    "start_time": "2023-05-31T22:57:15.511Z"
   },
   {
    "duration": 1465,
    "start_time": "2023-05-31T22:58:39.896Z"
   },
   {
    "duration": 351,
    "start_time": "2023-05-31T22:58:41.363Z"
   },
   {
    "duration": 18,
    "start_time": "2023-05-31T22:58:41.716Z"
   },
   {
    "duration": 141,
    "start_time": "2023-05-31T22:58:41.736Z"
   },
   {
    "duration": 99,
    "start_time": "2023-05-31T22:58:41.879Z"
   },
   {
    "duration": 18,
    "start_time": "2023-05-31T22:58:41.979Z"
   },
   {
    "duration": 20,
    "start_time": "2023-05-31T22:58:41.999Z"
   },
   {
    "duration": 429,
    "start_time": "2023-05-31T22:58:42.020Z"
   },
   {
    "duration": 18,
    "start_time": "2023-05-31T22:58:42.451Z"
   },
   {
    "duration": 110,
    "start_time": "2023-05-31T22:58:42.473Z"
   },
   {
    "duration": 12,
    "start_time": "2023-05-31T22:58:42.585Z"
   },
   {
    "duration": 13,
    "start_time": "2023-05-31T22:58:42.599Z"
   },
   {
    "duration": 11,
    "start_time": "2023-05-31T22:58:42.613Z"
   },
   {
    "duration": 26,
    "start_time": "2023-05-31T22:58:42.625Z"
   },
   {
    "duration": 7,
    "start_time": "2023-05-31T22:58:42.652Z"
   },
   {
    "duration": 8,
    "start_time": "2023-05-31T22:58:42.661Z"
   },
   {
    "duration": 28,
    "start_time": "2023-05-31T22:58:42.670Z"
   },
   {
    "duration": 8,
    "start_time": "2023-05-31T22:58:42.700Z"
   },
   {
    "duration": 4,
    "start_time": "2023-05-31T22:58:42.710Z"
   },
   {
    "duration": 10,
    "start_time": "2023-05-31T22:58:42.716Z"
   },
   {
    "duration": 3862,
    "start_time": "2023-05-31T22:58:42.727Z"
   },
   {
    "duration": 256,
    "start_time": "2023-05-31T22:58:46.591Z"
   },
   {
    "duration": 246,
    "start_time": "2023-05-31T22:58:46.849Z"
   },
   {
    "duration": 9,
    "start_time": "2023-05-31T22:58:47.098Z"
   },
   {
    "duration": 1520,
    "start_time": "2023-05-31T22:58:47.109Z"
   },
   {
    "duration": 3,
    "start_time": "2023-05-31T22:58:48.631Z"
   },
   {
    "duration": 10,
    "start_time": "2023-05-31T22:58:48.636Z"
   },
   {
    "duration": 16,
    "start_time": "2023-05-31T22:58:48.650Z"
   },
   {
    "duration": 14,
    "start_time": "2023-05-31T22:58:48.668Z"
   },
   {
    "duration": 13,
    "start_time": "2023-05-31T22:58:48.684Z"
   },
   {
    "duration": 3200,
    "start_time": "2023-05-31T22:58:48.699Z"
   },
   {
    "duration": 8,
    "start_time": "2023-05-31T22:58:51.901Z"
   },
   {
    "duration": 30525,
    "start_time": "2023-05-31T22:58:51.998Z"
   },
   {
    "duration": 1116401,
    "start_time": "2023-05-31T22:59:22.525Z"
   },
   {
    "duration": 4,
    "start_time": "2023-05-31T23:17:58.928Z"
   },
   {
    "duration": 35980,
    "start_time": "2023-05-31T23:17:58.934Z"
   },
   {
    "duration": 8,
    "start_time": "2023-05-31T23:18:34.915Z"
   },
   {
    "duration": 15,
    "start_time": "2023-06-01T14:44:09.774Z"
   },
   {
    "duration": 364,
    "start_time": "2023-06-01T14:44:16.826Z"
   },
   {
    "duration": 13,
    "start_time": "2023-06-01T14:44:20.345Z"
   },
   {
    "duration": 1660,
    "start_time": "2023-06-01T23:02:15.074Z"
   },
   {
    "duration": 914,
    "start_time": "2023-06-01T23:02:16.737Z"
   },
   {
    "duration": 19,
    "start_time": "2023-06-01T23:02:17.652Z"
   },
   {
    "duration": 137,
    "start_time": "2023-06-01T23:02:17.673Z"
   },
   {
    "duration": 164,
    "start_time": "2023-06-01T23:02:17.812Z"
   },
   {
    "duration": 13,
    "start_time": "2023-06-01T23:02:17.978Z"
   },
   {
    "duration": 21,
    "start_time": "2023-06-01T23:02:17.993Z"
   },
   {
    "duration": 1161,
    "start_time": "2023-06-01T23:02:18.016Z"
   },
   {
    "duration": 20,
    "start_time": "2023-06-01T23:02:19.179Z"
   },
   {
    "duration": 113,
    "start_time": "2023-06-01T23:02:19.201Z"
   },
   {
    "duration": 9,
    "start_time": "2023-06-01T23:02:19.315Z"
   },
   {
    "duration": 17,
    "start_time": "2023-06-01T23:02:19.326Z"
   },
   {
    "duration": 9,
    "start_time": "2023-06-01T23:02:19.344Z"
   },
   {
    "duration": 27,
    "start_time": "2023-06-01T23:02:19.356Z"
   },
   {
    "duration": 7,
    "start_time": "2023-06-01T23:02:19.385Z"
   },
   {
    "duration": 9,
    "start_time": "2023-06-01T23:02:19.393Z"
   },
   {
    "duration": 38,
    "start_time": "2023-06-01T23:02:19.404Z"
   },
   {
    "duration": 9,
    "start_time": "2023-06-01T23:02:19.444Z"
   },
   {
    "duration": 5,
    "start_time": "2023-06-01T23:02:19.454Z"
   },
   {
    "duration": 12,
    "start_time": "2023-06-01T23:02:19.460Z"
   },
   {
    "duration": 3310,
    "start_time": "2023-06-01T23:02:19.474Z"
   },
   {
    "duration": 4,
    "start_time": "2023-06-01T23:02:22.786Z"
   },
   {
    "duration": 1381,
    "start_time": "2023-06-01T23:02:22.792Z"
   },
   {
    "duration": 0,
    "start_time": "2023-06-01T23:02:24.175Z"
   },
   {
    "duration": 0,
    "start_time": "2023-06-01T23:02:24.177Z"
   },
   {
    "duration": 0,
    "start_time": "2023-06-01T23:02:24.178Z"
   },
   {
    "duration": 0,
    "start_time": "2023-06-01T23:02:24.180Z"
   },
   {
    "duration": 0,
    "start_time": "2023-06-01T23:02:24.182Z"
   },
   {
    "duration": 0,
    "start_time": "2023-06-01T23:02:24.183Z"
   },
   {
    "duration": 0,
    "start_time": "2023-06-01T23:02:24.185Z"
   },
   {
    "duration": 0,
    "start_time": "2023-06-01T23:02:24.186Z"
   },
   {
    "duration": 0,
    "start_time": "2023-06-01T23:02:24.188Z"
   },
   {
    "duration": 0,
    "start_time": "2023-06-01T23:02:24.189Z"
   },
   {
    "duration": 0,
    "start_time": "2023-06-01T23:02:24.191Z"
   },
   {
    "duration": 0,
    "start_time": "2023-06-01T23:02:24.192Z"
   },
   {
    "duration": 0,
    "start_time": "2023-06-01T23:02:24.193Z"
   },
   {
    "duration": 1,
    "start_time": "2023-06-01T23:02:24.194Z"
   },
   {
    "duration": 0,
    "start_time": "2023-06-01T23:02:24.196Z"
   },
   {
    "duration": 0,
    "start_time": "2023-06-01T23:02:24.198Z"
   },
   {
    "duration": 0,
    "start_time": "2023-06-01T23:02:24.199Z"
   },
   {
    "duration": 1173,
    "start_time": "2023-06-01T23:03:22.149Z"
   },
   {
    "duration": 46,
    "start_time": "2023-06-01T23:08:11.481Z"
   },
   {
    "duration": 4,
    "start_time": "2023-06-01T23:08:16.567Z"
   },
   {
    "duration": 1549,
    "start_time": "2023-06-01T23:13:09.247Z"
   },
   {
    "duration": 378,
    "start_time": "2023-06-01T23:13:10.799Z"
   },
   {
    "duration": 21,
    "start_time": "2023-06-01T23:13:11.178Z"
   },
   {
    "duration": 150,
    "start_time": "2023-06-01T23:13:11.201Z"
   },
   {
    "duration": 102,
    "start_time": "2023-06-01T23:13:11.354Z"
   },
   {
    "duration": 14,
    "start_time": "2023-06-01T23:13:11.458Z"
   },
   {
    "duration": 47,
    "start_time": "2023-06-01T23:13:11.474Z"
   },
   {
    "duration": 457,
    "start_time": "2023-06-01T23:13:11.523Z"
   },
   {
    "duration": 19,
    "start_time": "2023-06-01T23:13:11.982Z"
   },
   {
    "duration": 121,
    "start_time": "2023-06-01T23:13:12.003Z"
   },
   {
    "duration": 19,
    "start_time": "2023-06-01T23:13:12.126Z"
   },
   {
    "duration": 17,
    "start_time": "2023-06-01T23:13:12.147Z"
   },
   {
    "duration": 23,
    "start_time": "2023-06-01T23:13:12.165Z"
   },
   {
    "duration": 36,
    "start_time": "2023-06-01T23:13:12.192Z"
   },
   {
    "duration": 13,
    "start_time": "2023-06-01T23:13:12.230Z"
   },
   {
    "duration": 17,
    "start_time": "2023-06-01T23:13:12.244Z"
   },
   {
    "duration": 10,
    "start_time": "2023-06-01T23:13:12.263Z"
   },
   {
    "duration": 10,
    "start_time": "2023-06-01T23:13:12.275Z"
   },
   {
    "duration": 13,
    "start_time": "2023-06-01T23:13:12.286Z"
   },
   {
    "duration": 42,
    "start_time": "2023-06-01T23:13:12.301Z"
   },
   {
    "duration": 3368,
    "start_time": "2023-06-01T23:13:12.345Z"
   },
   {
    "duration": 4,
    "start_time": "2023-06-01T23:13:15.715Z"
   },
   {
    "duration": 98,
    "start_time": "2023-06-01T23:13:15.721Z"
   },
   {
    "duration": 4,
    "start_time": "2023-06-01T23:13:15.821Z"
   },
   {
    "duration": 369,
    "start_time": "2023-06-01T23:13:15.827Z"
   },
   {
    "duration": 260,
    "start_time": "2023-06-01T23:13:16.197Z"
   },
   {
    "duration": 8,
    "start_time": "2023-06-01T23:13:16.460Z"
   },
   {
    "duration": 1710,
    "start_time": "2023-06-01T23:13:16.470Z"
   },
   {
    "duration": 3,
    "start_time": "2023-06-01T23:13:18.182Z"
   },
   {
    "duration": 64,
    "start_time": "2023-06-01T23:13:18.187Z"
   },
   {
    "duration": 37,
    "start_time": "2023-06-01T23:13:18.254Z"
   },
   {
    "duration": 66,
    "start_time": "2023-06-01T23:13:18.294Z"
   },
   {
    "duration": 65,
    "start_time": "2023-06-01T23:13:18.363Z"
   },
   {
    "duration": 2612,
    "start_time": "2023-06-01T23:13:18.430Z"
   },
   {
    "duration": 4,
    "start_time": "2023-06-01T23:13:21.045Z"
   },
   {
    "duration": 29533,
    "start_time": "2023-06-01T23:13:21.051Z"
   },
   {
    "duration": 1480,
    "start_time": "2023-06-01T23:16:20.292Z"
   },
   {
    "duration": 349,
    "start_time": "2023-06-01T23:16:21.774Z"
   },
   {
    "duration": 28,
    "start_time": "2023-06-01T23:16:22.125Z"
   },
   {
    "duration": 133,
    "start_time": "2023-06-01T23:16:22.155Z"
   },
   {
    "duration": 102,
    "start_time": "2023-06-01T23:16:22.290Z"
   },
   {
    "duration": 14,
    "start_time": "2023-06-01T23:16:22.394Z"
   },
   {
    "duration": 35,
    "start_time": "2023-06-01T23:16:22.409Z"
   },
   {
    "duration": 418,
    "start_time": "2023-06-01T23:16:22.446Z"
   },
   {
    "duration": 20,
    "start_time": "2023-06-01T23:16:22.866Z"
   },
   {
    "duration": 116,
    "start_time": "2023-06-01T23:16:22.887Z"
   },
   {
    "duration": 10,
    "start_time": "2023-06-01T23:16:23.005Z"
   },
   {
    "duration": 28,
    "start_time": "2023-06-01T23:16:23.017Z"
   },
   {
    "duration": 32,
    "start_time": "2023-06-01T23:16:23.047Z"
   },
   {
    "duration": 37,
    "start_time": "2023-06-01T23:16:23.082Z"
   },
   {
    "duration": 8,
    "start_time": "2023-06-01T23:16:23.121Z"
   },
   {
    "duration": 13,
    "start_time": "2023-06-01T23:16:23.130Z"
   },
   {
    "duration": 13,
    "start_time": "2023-06-01T23:16:23.144Z"
   },
   {
    "duration": 17,
    "start_time": "2023-06-01T23:16:23.159Z"
   },
   {
    "duration": 4,
    "start_time": "2023-06-01T23:16:23.178Z"
   },
   {
    "duration": 27,
    "start_time": "2023-06-01T23:16:23.184Z"
   },
   {
    "duration": 3248,
    "start_time": "2023-06-01T23:16:23.213Z"
   },
   {
    "duration": 3,
    "start_time": "2023-06-01T23:16:26.463Z"
   },
   {
    "duration": 71,
    "start_time": "2023-06-01T23:16:26.468Z"
   },
   {
    "duration": 5,
    "start_time": "2023-06-01T23:16:26.541Z"
   },
   {
    "duration": 249,
    "start_time": "2023-06-01T23:16:26.547Z"
   },
   {
    "duration": 267,
    "start_time": "2023-06-01T23:16:26.798Z"
   },
   {
    "duration": 10,
    "start_time": "2023-06-01T23:16:27.067Z"
   },
   {
    "duration": 1674,
    "start_time": "2023-06-01T23:16:27.078Z"
   },
   {
    "duration": 4,
    "start_time": "2023-06-01T23:16:28.754Z"
   },
   {
    "duration": 7,
    "start_time": "2023-06-01T23:16:28.759Z"
   },
   {
    "duration": 19,
    "start_time": "2023-06-01T23:16:28.767Z"
   },
   {
    "duration": 13,
    "start_time": "2023-06-01T23:16:28.789Z"
   },
   {
    "duration": 13,
    "start_time": "2023-06-01T23:16:28.804Z"
   },
   {
    "duration": 2922,
    "start_time": "2023-06-01T23:16:28.819Z"
   },
   {
    "duration": 4,
    "start_time": "2023-06-01T23:16:31.743Z"
   },
   {
    "duration": 28026,
    "start_time": "2023-06-01T23:16:31.749Z"
   },
   {
    "duration": 1416,
    "start_time": "2023-06-01T23:18:54.030Z"
   },
   {
    "duration": 352,
    "start_time": "2023-06-01T23:18:55.448Z"
   },
   {
    "duration": 20,
    "start_time": "2023-06-01T23:18:55.804Z"
   },
   {
    "duration": 143,
    "start_time": "2023-06-01T23:18:55.827Z"
   },
   {
    "duration": 91,
    "start_time": "2023-06-01T23:18:55.972Z"
   },
   {
    "duration": 13,
    "start_time": "2023-06-01T23:18:56.064Z"
   },
   {
    "duration": 19,
    "start_time": "2023-06-01T23:18:56.078Z"
   },
   {
    "duration": 392,
    "start_time": "2023-06-01T23:18:56.098Z"
   },
   {
    "duration": 18,
    "start_time": "2023-06-01T23:18:56.492Z"
   },
   {
    "duration": 111,
    "start_time": "2023-06-01T23:18:56.512Z"
   },
   {
    "duration": 8,
    "start_time": "2023-06-01T23:18:56.625Z"
   },
   {
    "duration": 11,
    "start_time": "2023-06-01T23:18:56.635Z"
   },
   {
    "duration": 37,
    "start_time": "2023-06-01T23:18:56.648Z"
   },
   {
    "duration": 29,
    "start_time": "2023-06-01T23:18:56.686Z"
   },
   {
    "duration": 7,
    "start_time": "2023-06-01T23:18:56.717Z"
   },
   {
    "duration": 15,
    "start_time": "2023-06-01T23:18:56.725Z"
   },
   {
    "duration": 20,
    "start_time": "2023-06-01T23:18:56.742Z"
   },
   {
    "duration": 9,
    "start_time": "2023-06-01T23:18:56.764Z"
   },
   {
    "duration": 4,
    "start_time": "2023-06-01T23:18:56.775Z"
   },
   {
    "duration": 12,
    "start_time": "2023-06-01T23:18:56.781Z"
   },
   {
    "duration": 3198,
    "start_time": "2023-06-01T23:18:56.795Z"
   },
   {
    "duration": 4,
    "start_time": "2023-06-01T23:18:59.995Z"
   },
   {
    "duration": 76,
    "start_time": "2023-06-01T23:19:00.001Z"
   },
   {
    "duration": 3,
    "start_time": "2023-06-01T23:19:00.080Z"
   },
   {
    "duration": 208,
    "start_time": "2023-06-01T23:19:00.085Z"
   },
   {
    "duration": 261,
    "start_time": "2023-06-01T23:19:00.295Z"
   },
   {
    "duration": 251,
    "start_time": "2023-06-01T23:19:00.558Z"
   },
   {
    "duration": 8,
    "start_time": "2023-06-01T23:19:00.810Z"
   },
   {
    "duration": 1629,
    "start_time": "2023-06-01T23:19:00.820Z"
   },
   {
    "duration": 4,
    "start_time": "2023-06-01T23:19:02.451Z"
   },
   {
    "duration": 36,
    "start_time": "2023-06-01T23:19:02.456Z"
   },
   {
    "duration": 27,
    "start_time": "2023-06-01T23:19:02.493Z"
   },
   {
    "duration": 15,
    "start_time": "2023-06-01T23:19:02.522Z"
   },
   {
    "duration": 22,
    "start_time": "2023-06-01T23:19:02.539Z"
   },
   {
    "duration": 2883,
    "start_time": "2023-06-01T23:19:02.563Z"
   },
   {
    "duration": 4,
    "start_time": "2023-06-01T23:19:05.448Z"
   },
   {
    "duration": 27700,
    "start_time": "2023-06-01T23:19:05.542Z"
   },
   {
    "duration": 1952,
    "start_time": "2023-06-01T23:20:33.229Z"
   },
   {
    "duration": 680,
    "start_time": "2023-06-01T23:20:35.183Z"
   },
   {
    "duration": 17,
    "start_time": "2023-06-01T23:20:35.865Z"
   },
   {
    "duration": 230,
    "start_time": "2023-06-01T23:20:35.885Z"
   },
   {
    "duration": 95,
    "start_time": "2023-06-01T23:20:36.117Z"
   },
   {
    "duration": 13,
    "start_time": "2023-06-01T23:20:36.214Z"
   },
   {
    "duration": 32,
    "start_time": "2023-06-01T23:20:36.228Z"
   },
   {
    "duration": 389,
    "start_time": "2023-06-01T23:20:36.262Z"
   },
   {
    "duration": 19,
    "start_time": "2023-06-01T23:20:36.653Z"
   },
   {
    "duration": 114,
    "start_time": "2023-06-01T23:20:36.673Z"
   },
   {
    "duration": 8,
    "start_time": "2023-06-01T23:20:36.789Z"
   },
   {
    "duration": 116,
    "start_time": "2023-06-01T23:20:36.799Z"
   },
   {
    "duration": 66,
    "start_time": "2023-06-01T23:20:36.917Z"
   },
   {
    "duration": 90,
    "start_time": "2023-06-01T23:20:36.986Z"
   },
   {
    "duration": 7,
    "start_time": "2023-06-01T23:20:37.078Z"
   },
   {
    "duration": 6,
    "start_time": "2023-06-01T23:20:37.087Z"
   },
   {
    "duration": 8,
    "start_time": "2023-06-01T23:20:37.095Z"
   },
   {
    "duration": 10,
    "start_time": "2023-06-01T23:20:37.104Z"
   },
   {
    "duration": 4,
    "start_time": "2023-06-01T23:20:37.116Z"
   },
   {
    "duration": 32,
    "start_time": "2023-06-01T23:20:37.122Z"
   },
   {
    "duration": 3370,
    "start_time": "2023-06-01T23:20:37.155Z"
   },
   {
    "duration": 6,
    "start_time": "2023-06-01T23:20:40.527Z"
   },
   {
    "duration": 91,
    "start_time": "2023-06-01T23:20:40.534Z"
   },
   {
    "duration": 5,
    "start_time": "2023-06-01T23:20:40.627Z"
   },
   {
    "duration": 3172,
    "start_time": "2023-06-01T23:20:40.634Z"
   },
   {
    "duration": 448,
    "start_time": "2023-06-01T23:20:43.808Z"
   },
   {
    "duration": 272,
    "start_time": "2023-06-01T23:20:44.258Z"
   },
   {
    "duration": 15,
    "start_time": "2023-06-01T23:20:44.531Z"
   },
   {
    "duration": 1659,
    "start_time": "2023-06-01T23:20:44.547Z"
   },
   {
    "duration": 4,
    "start_time": "2023-06-01T23:20:46.207Z"
   },
   {
    "duration": 6,
    "start_time": "2023-06-01T23:20:46.213Z"
   },
   {
    "duration": 25,
    "start_time": "2023-06-01T23:20:46.221Z"
   },
   {
    "duration": 8,
    "start_time": "2023-06-01T23:20:46.248Z"
   },
   {
    "duration": 15,
    "start_time": "2023-06-01T23:20:46.257Z"
   },
   {
    "duration": 2870,
    "start_time": "2023-06-01T23:20:46.274Z"
   },
   {
    "duration": 5,
    "start_time": "2023-06-01T23:20:49.146Z"
   },
   {
    "duration": 28300,
    "start_time": "2023-06-01T23:20:49.154Z"
   },
   {
    "duration": 1364,
    "start_time": "2023-06-01T23:28:13.100Z"
   },
   {
    "duration": 331,
    "start_time": "2023-06-01T23:28:14.466Z"
   },
   {
    "duration": 18,
    "start_time": "2023-06-01T23:28:14.799Z"
   },
   {
    "duration": 141,
    "start_time": "2023-06-01T23:28:14.819Z"
   },
   {
    "duration": 97,
    "start_time": "2023-06-01T23:28:14.962Z"
   },
   {
    "duration": 13,
    "start_time": "2023-06-01T23:28:15.061Z"
   },
   {
    "duration": 57,
    "start_time": "2023-06-01T23:28:15.076Z"
   },
   {
    "duration": 625,
    "start_time": "2023-06-01T23:28:15.135Z"
   },
   {
    "duration": 18,
    "start_time": "2023-06-01T23:28:15.762Z"
   },
   {
    "duration": 260,
    "start_time": "2023-06-01T23:28:15.783Z"
   },
   {
    "duration": 8,
    "start_time": "2023-06-01T23:28:16.045Z"
   },
   {
    "duration": 10,
    "start_time": "2023-06-01T23:28:16.054Z"
   },
   {
    "duration": 17,
    "start_time": "2023-06-01T23:28:16.065Z"
   },
   {
    "duration": 69,
    "start_time": "2023-06-01T23:28:16.084Z"
   },
   {
    "duration": 7,
    "start_time": "2023-06-01T23:28:16.154Z"
   },
   {
    "duration": 5,
    "start_time": "2023-06-01T23:28:16.163Z"
   },
   {
    "duration": 8,
    "start_time": "2023-06-01T23:28:16.169Z"
   },
   {
    "duration": 65,
    "start_time": "2023-06-01T23:28:16.178Z"
   },
   {
    "duration": 4,
    "start_time": "2023-06-01T23:28:16.244Z"
   },
   {
    "duration": 14,
    "start_time": "2023-06-01T23:28:16.250Z"
   },
   {
    "duration": 3510,
    "start_time": "2023-06-01T23:28:16.266Z"
   },
   {
    "duration": 4,
    "start_time": "2023-06-01T23:28:19.778Z"
   },
   {
    "duration": 66,
    "start_time": "2023-06-01T23:28:19.788Z"
   },
   {
    "duration": 9,
    "start_time": "2023-06-01T23:28:19.855Z"
   },
   {
    "duration": 10,
    "start_time": "2023-06-01T23:28:19.865Z"
   },
   {
    "duration": 3113,
    "start_time": "2023-06-01T23:28:19.877Z"
   },
   {
    "duration": 239,
    "start_time": "2023-06-01T23:28:22.992Z"
   },
   {
    "duration": 410,
    "start_time": "2023-06-01T23:28:23.242Z"
   },
   {
    "duration": 9,
    "start_time": "2023-06-01T23:28:23.654Z"
   },
   {
    "duration": 1292,
    "start_time": "2023-06-01T23:28:23.665Z"
   },
   {
    "duration": 4,
    "start_time": "2023-06-01T23:28:24.959Z"
   },
   {
    "duration": 7,
    "start_time": "2023-06-01T23:28:24.965Z"
   },
   {
    "duration": 12,
    "start_time": "2023-06-01T23:28:24.974Z"
   },
   {
    "duration": 7,
    "start_time": "2023-06-01T23:28:24.988Z"
   },
   {
    "duration": 14,
    "start_time": "2023-06-01T23:28:24.996Z"
   },
   {
    "duration": 2832,
    "start_time": "2023-06-01T23:28:25.012Z"
   },
   {
    "duration": 3,
    "start_time": "2023-06-01T23:28:27.846Z"
   },
   {
    "duration": 1627,
    "start_time": "2023-06-01T23:28:39.192Z"
   },
   {
    "duration": 343,
    "start_time": "2023-06-01T23:28:40.822Z"
   },
   {
    "duration": 17,
    "start_time": "2023-06-01T23:28:41.167Z"
   },
   {
    "duration": 141,
    "start_time": "2023-06-01T23:28:41.186Z"
   },
   {
    "duration": 96,
    "start_time": "2023-06-01T23:28:41.329Z"
   },
   {
    "duration": 21,
    "start_time": "2023-06-01T23:28:41.427Z"
   },
   {
    "duration": 22,
    "start_time": "2023-06-01T23:28:41.450Z"
   },
   {
    "duration": 684,
    "start_time": "2023-06-01T23:28:41.474Z"
   },
   {
    "duration": 20,
    "start_time": "2023-06-01T23:28:42.160Z"
   },
   {
    "duration": 265,
    "start_time": "2023-06-01T23:28:42.183Z"
   },
   {
    "duration": 9,
    "start_time": "2023-06-01T23:28:42.451Z"
   },
   {
    "duration": 20,
    "start_time": "2023-06-01T23:28:42.462Z"
   },
   {
    "duration": 60,
    "start_time": "2023-06-01T23:28:42.484Z"
   },
   {
    "duration": 40,
    "start_time": "2023-06-01T23:28:42.546Z"
   },
   {
    "duration": 7,
    "start_time": "2023-06-01T23:28:42.588Z"
   },
   {
    "duration": 50,
    "start_time": "2023-06-01T23:28:42.596Z"
   },
   {
    "duration": 13,
    "start_time": "2023-06-01T23:28:42.648Z"
   },
   {
    "duration": 14,
    "start_time": "2023-06-01T23:28:42.663Z"
   },
   {
    "duration": 8,
    "start_time": "2023-06-01T23:28:42.679Z"
   },
   {
    "duration": 62,
    "start_time": "2023-06-01T23:28:42.688Z"
   },
   {
    "duration": 3653,
    "start_time": "2023-06-01T23:28:42.752Z"
   },
   {
    "duration": 5,
    "start_time": "2023-06-01T23:28:46.406Z"
   },
   {
    "duration": 57,
    "start_time": "2023-06-01T23:28:46.413Z"
   },
   {
    "duration": 5,
    "start_time": "2023-06-01T23:28:46.472Z"
   },
   {
    "duration": 6,
    "start_time": "2023-06-01T23:28:46.479Z"
   },
   {
    "duration": 3211,
    "start_time": "2023-06-01T23:28:46.486Z"
   },
   {
    "duration": 253,
    "start_time": "2023-06-01T23:28:49.698Z"
   },
   {
    "duration": 454,
    "start_time": "2023-06-01T23:28:49.955Z"
   },
   {
    "duration": 8,
    "start_time": "2023-06-01T23:28:50.411Z"
   },
   {
    "duration": 1331,
    "start_time": "2023-06-01T23:28:50.421Z"
   },
   {
    "duration": 4,
    "start_time": "2023-06-01T23:28:51.753Z"
   },
   {
    "duration": 7,
    "start_time": "2023-06-01T23:28:51.759Z"
   },
   {
    "duration": 12,
    "start_time": "2023-06-01T23:28:51.768Z"
   },
   {
    "duration": 11,
    "start_time": "2023-06-01T23:28:51.782Z"
   },
   {
    "duration": 14,
    "start_time": "2023-06-01T23:28:51.795Z"
   },
   {
    "duration": 3531,
    "start_time": "2023-06-01T23:28:51.811Z"
   },
   {
    "duration": 3,
    "start_time": "2023-06-01T23:28:55.344Z"
   },
   {
    "duration": 27933,
    "start_time": "2023-06-01T23:28:55.349Z"
   },
   {
    "duration": 1475,
    "start_time": "2023-06-01T23:30:19.443Z"
   },
   {
    "duration": 348,
    "start_time": "2023-06-01T23:30:20.921Z"
   },
   {
    "duration": 19,
    "start_time": "2023-06-01T23:30:21.273Z"
   },
   {
    "duration": 148,
    "start_time": "2023-06-01T23:30:21.293Z"
   },
   {
    "duration": 100,
    "start_time": "2023-06-01T23:30:21.442Z"
   },
   {
    "duration": 13,
    "start_time": "2023-06-01T23:30:21.544Z"
   },
   {
    "duration": 21,
    "start_time": "2023-06-01T23:30:21.559Z"
   },
   {
    "duration": 410,
    "start_time": "2023-06-01T23:30:21.581Z"
   },
   {
    "duration": 19,
    "start_time": "2023-06-01T23:30:21.993Z"
   },
   {
    "duration": 117,
    "start_time": "2023-06-01T23:30:22.013Z"
   },
   {
    "duration": 15,
    "start_time": "2023-06-01T23:30:22.132Z"
   },
   {
    "duration": 12,
    "start_time": "2023-06-01T23:30:22.149Z"
   },
   {
    "duration": 15,
    "start_time": "2023-06-01T23:30:22.163Z"
   },
   {
    "duration": 27,
    "start_time": "2023-06-01T23:30:22.180Z"
   },
   {
    "duration": 7,
    "start_time": "2023-06-01T23:30:22.210Z"
   },
   {
    "duration": 24,
    "start_time": "2023-06-01T23:30:22.219Z"
   },
   {
    "duration": 11,
    "start_time": "2023-06-01T23:30:22.245Z"
   },
   {
    "duration": 9,
    "start_time": "2023-06-01T23:30:22.258Z"
   },
   {
    "duration": 16,
    "start_time": "2023-06-01T23:30:22.268Z"
   },
   {
    "duration": 12,
    "start_time": "2023-06-01T23:30:22.285Z"
   },
   {
    "duration": 3078,
    "start_time": "2023-06-01T23:30:22.299Z"
   },
   {
    "duration": 5,
    "start_time": "2023-06-01T23:30:25.379Z"
   },
   {
    "duration": 71,
    "start_time": "2023-06-01T23:30:25.385Z"
   },
   {
    "duration": 11,
    "start_time": "2023-06-01T23:30:25.457Z"
   },
   {
    "duration": 17,
    "start_time": "2023-06-01T23:30:25.470Z"
   },
   {
    "duration": 2984,
    "start_time": "2023-06-01T23:30:25.489Z"
   },
   {
    "duration": 233,
    "start_time": "2023-06-01T23:30:28.476Z"
   },
   {
    "duration": 424,
    "start_time": "2023-06-01T23:30:28.711Z"
   },
   {
    "duration": 9,
    "start_time": "2023-06-01T23:30:29.137Z"
   },
   {
    "duration": 1382,
    "start_time": "2023-06-01T23:30:29.148Z"
   },
   {
    "duration": 11,
    "start_time": "2023-06-01T23:30:30.531Z"
   },
   {
    "duration": 47,
    "start_time": "2023-06-01T23:30:30.544Z"
   },
   {
    "duration": 33,
    "start_time": "2023-06-01T23:30:30.593Z"
   },
   {
    "duration": 23,
    "start_time": "2023-06-01T23:30:30.628Z"
   },
   {
    "duration": 71,
    "start_time": "2023-06-01T23:30:30.653Z"
   },
   {
    "duration": 3120,
    "start_time": "2023-06-01T23:30:30.726Z"
   },
   {
    "duration": 4,
    "start_time": "2023-06-01T23:30:33.848Z"
   },
   {
    "duration": 28726,
    "start_time": "2023-06-01T23:30:33.855Z"
   },
   {
    "duration": 1566,
    "start_time": "2023-06-01T23:32:02.808Z"
   },
   {
    "duration": 337,
    "start_time": "2023-06-01T23:32:04.376Z"
   },
   {
    "duration": 27,
    "start_time": "2023-06-01T23:32:04.715Z"
   },
   {
    "duration": 128,
    "start_time": "2023-06-01T23:32:04.744Z"
   },
   {
    "duration": 95,
    "start_time": "2023-06-01T23:32:04.875Z"
   },
   {
    "duration": 13,
    "start_time": "2023-06-01T23:32:04.972Z"
   },
   {
    "duration": 22,
    "start_time": "2023-06-01T23:32:04.986Z"
   },
   {
    "duration": 411,
    "start_time": "2023-06-01T23:32:05.009Z"
   },
   {
    "duration": 24,
    "start_time": "2023-06-01T23:32:05.422Z"
   },
   {
    "duration": 130,
    "start_time": "2023-06-01T23:32:05.448Z"
   },
   {
    "duration": 286,
    "start_time": "2023-06-01T23:32:05.580Z"
   },
   {
    "duration": 42,
    "start_time": "2023-06-01T23:32:05.867Z"
   },
   {
    "duration": 46,
    "start_time": "2023-06-01T23:32:05.911Z"
   },
   {
    "duration": 43,
    "start_time": "2023-06-01T23:32:05.960Z"
   },
   {
    "duration": 35,
    "start_time": "2023-06-01T23:32:06.005Z"
   },
   {
    "duration": 8,
    "start_time": "2023-06-01T23:32:06.042Z"
   },
   {
    "duration": 19,
    "start_time": "2023-06-01T23:32:06.052Z"
   },
   {
    "duration": 22,
    "start_time": "2023-06-01T23:32:06.072Z"
   },
   {
    "duration": 10,
    "start_time": "2023-06-01T23:32:06.096Z"
   },
   {
    "duration": 23,
    "start_time": "2023-06-01T23:32:06.108Z"
   },
   {
    "duration": 4180,
    "start_time": "2023-06-01T23:32:06.133Z"
   },
   {
    "duration": 7,
    "start_time": "2023-06-01T23:32:10.343Z"
   },
   {
    "duration": 192,
    "start_time": "2023-06-01T23:32:10.352Z"
   },
   {
    "duration": 11,
    "start_time": "2023-06-01T23:32:10.546Z"
   },
   {
    "duration": 6,
    "start_time": "2023-06-01T23:32:10.558Z"
   },
   {
    "duration": 3284,
    "start_time": "2023-06-01T23:32:10.566Z"
   },
   {
    "duration": 474,
    "start_time": "2023-06-01T23:32:13.852Z"
   },
   {
    "duration": 241,
    "start_time": "2023-06-01T23:32:14.328Z"
   },
   {
    "duration": 8,
    "start_time": "2023-06-01T23:32:14.571Z"
   },
   {
    "duration": 1405,
    "start_time": "2023-06-01T23:32:14.581Z"
   },
   {
    "duration": 4,
    "start_time": "2023-06-01T23:32:15.988Z"
   },
   {
    "duration": 6,
    "start_time": "2023-06-01T23:32:15.993Z"
   },
   {
    "duration": 12,
    "start_time": "2023-06-01T23:32:16.000Z"
   },
   {
    "duration": 8,
    "start_time": "2023-06-01T23:32:16.014Z"
   },
   {
    "duration": 18,
    "start_time": "2023-06-01T23:32:16.024Z"
   },
   {
    "duration": 2603,
    "start_time": "2023-06-01T23:32:16.043Z"
   },
   {
    "duration": 4,
    "start_time": "2023-06-01T23:32:18.648Z"
   },
   {
    "duration": 28263,
    "start_time": "2023-06-01T23:32:18.653Z"
   },
   {
    "duration": 1580,
    "start_time": "2023-06-01T23:45:51.402Z"
   },
   {
    "duration": 776,
    "start_time": "2023-06-01T23:45:52.985Z"
   },
   {
    "duration": 20,
    "start_time": "2023-06-01T23:45:53.763Z"
   },
   {
    "duration": 244,
    "start_time": "2023-06-01T23:45:53.841Z"
   },
   {
    "duration": 261,
    "start_time": "2023-06-01T23:45:54.087Z"
   },
   {
    "duration": 23,
    "start_time": "2023-06-01T23:45:54.350Z"
   },
   {
    "duration": 89,
    "start_time": "2023-06-01T23:45:54.376Z"
   },
   {
    "duration": 687,
    "start_time": "2023-06-01T23:45:54.468Z"
   },
   {
    "duration": 19,
    "start_time": "2023-06-01T23:45:55.156Z"
   },
   {
    "duration": 114,
    "start_time": "2023-06-01T23:45:55.178Z"
   },
   {
    "duration": 8,
    "start_time": "2023-06-01T23:45:55.293Z"
   },
   {
    "duration": 9,
    "start_time": "2023-06-01T23:45:55.302Z"
   },
   {
    "duration": 31,
    "start_time": "2023-06-01T23:45:55.313Z"
   },
   {
    "duration": 24,
    "start_time": "2023-06-01T23:45:55.345Z"
   },
   {
    "duration": 7,
    "start_time": "2023-06-01T23:45:55.370Z"
   },
   {
    "duration": 9,
    "start_time": "2023-06-01T23:45:55.378Z"
   },
   {
    "duration": 8,
    "start_time": "2023-06-01T23:45:55.389Z"
   },
   {
    "duration": 47,
    "start_time": "2023-06-01T23:45:55.399Z"
   },
   {
    "duration": 4,
    "start_time": "2023-06-01T23:45:55.448Z"
   },
   {
    "duration": 12,
    "start_time": "2023-06-01T23:45:55.453Z"
   },
   {
    "duration": 3249,
    "start_time": "2023-06-01T23:45:55.467Z"
   },
   {
    "duration": 5,
    "start_time": "2023-06-01T23:45:58.718Z"
   },
   {
    "duration": 69,
    "start_time": "2023-06-01T23:45:58.725Z"
   },
   {
    "duration": 8,
    "start_time": "2023-06-01T23:45:58.796Z"
   },
   {
    "duration": 7,
    "start_time": "2023-06-01T23:45:58.805Z"
   },
   {
    "duration": 436,
    "start_time": "2023-06-01T23:45:58.814Z"
   },
   {
    "duration": 263,
    "start_time": "2023-06-01T23:45:59.252Z"
   },
   {
    "duration": 10,
    "start_time": "2023-06-01T23:45:59.518Z"
   },
   {
    "duration": 1715,
    "start_time": "2023-06-01T23:45:59.529Z"
   },
   {
    "duration": 3,
    "start_time": "2023-06-01T23:46:01.246Z"
   },
   {
    "duration": 38,
    "start_time": "2023-06-01T23:46:01.251Z"
   },
   {
    "duration": 60,
    "start_time": "2023-06-01T23:46:01.291Z"
   },
   {
    "duration": 51,
    "start_time": "2023-06-01T23:46:01.353Z"
   },
   {
    "duration": 36,
    "start_time": "2023-06-01T23:46:01.406Z"
   },
   {
    "duration": 2502,
    "start_time": "2023-06-01T23:46:01.444Z"
   },
   {
    "duration": 92,
    "start_time": "2023-06-01T23:46:03.949Z"
   },
   {
    "duration": 29071,
    "start_time": "2023-06-01T23:46:04.043Z"
   },
   {
    "duration": 1967,
    "start_time": "2023-06-01T23:48:07.495Z"
   },
   {
    "duration": 714,
    "start_time": "2023-06-01T23:48:09.464Z"
   },
   {
    "duration": 66,
    "start_time": "2023-06-01T23:48:10.180Z"
   },
   {
    "duration": 217,
    "start_time": "2023-06-01T23:48:10.248Z"
   },
   {
    "duration": 99,
    "start_time": "2023-06-01T23:48:10.466Z"
   },
   {
    "duration": 14,
    "start_time": "2023-06-01T23:48:10.567Z"
   },
   {
    "duration": 25,
    "start_time": "2023-06-01T23:48:10.583Z"
   },
   {
    "duration": 428,
    "start_time": "2023-06-01T23:48:10.610Z"
   },
   {
    "duration": 18,
    "start_time": "2023-06-01T23:48:11.039Z"
   },
   {
    "duration": 118,
    "start_time": "2023-06-01T23:48:11.060Z"
   },
   {
    "duration": 7,
    "start_time": "2023-06-01T23:48:11.180Z"
   },
   {
    "duration": 11,
    "start_time": "2023-06-01T23:48:11.189Z"
   },
   {
    "duration": 11,
    "start_time": "2023-06-01T23:48:11.201Z"
   },
   {
    "duration": 58,
    "start_time": "2023-06-01T23:48:11.214Z"
   },
   {
    "duration": 7,
    "start_time": "2023-06-01T23:48:11.273Z"
   },
   {
    "duration": 5,
    "start_time": "2023-06-01T23:48:11.282Z"
   },
   {
    "duration": 9,
    "start_time": "2023-06-01T23:48:11.289Z"
   },
   {
    "duration": 43,
    "start_time": "2023-06-01T23:48:11.300Z"
   },
   {
    "duration": 5,
    "start_time": "2023-06-01T23:48:11.344Z"
   },
   {
    "duration": 14,
    "start_time": "2023-06-01T23:48:11.350Z"
   },
   {
    "duration": 3116,
    "start_time": "2023-06-01T23:48:11.365Z"
   },
   {
    "duration": 4,
    "start_time": "2023-06-01T23:48:14.518Z"
   },
   {
    "duration": 60,
    "start_time": "2023-06-01T23:48:14.524Z"
   },
   {
    "duration": 8,
    "start_time": "2023-06-01T23:48:14.586Z"
   },
   {
    "duration": 8,
    "start_time": "2023-06-01T23:48:14.595Z"
   },
   {
    "duration": 489,
    "start_time": "2023-06-01T23:48:14.604Z"
   },
   {
    "duration": 235,
    "start_time": "2023-06-01T23:48:15.095Z"
   },
   {
    "duration": 12,
    "start_time": "2023-06-01T23:48:15.334Z"
   },
   {
    "duration": 1588,
    "start_time": "2023-06-01T23:48:15.348Z"
   },
   {
    "duration": 5,
    "start_time": "2023-06-01T23:48:16.938Z"
   },
   {
    "duration": 11,
    "start_time": "2023-06-01T23:48:16.945Z"
   },
   {
    "duration": 16,
    "start_time": "2023-06-01T23:48:16.958Z"
   },
   {
    "duration": 7,
    "start_time": "2023-06-01T23:48:16.976Z"
   },
   {
    "duration": 10,
    "start_time": "2023-06-01T23:48:16.984Z"
   },
   {
    "duration": 2656,
    "start_time": "2023-06-01T23:48:16.996Z"
   },
   {
    "duration": 4,
    "start_time": "2023-06-01T23:48:19.743Z"
   },
   {
    "duration": 28641,
    "start_time": "2023-06-01T23:48:19.749Z"
   },
   {
    "duration": 1596,
    "start_time": "2023-06-01T23:50:37.948Z"
   },
   {
    "duration": 326,
    "start_time": "2023-06-01T23:50:39.547Z"
   },
   {
    "duration": 20,
    "start_time": "2023-06-01T23:50:39.875Z"
   },
   {
    "duration": 155,
    "start_time": "2023-06-01T23:50:39.897Z"
   },
   {
    "duration": 108,
    "start_time": "2023-06-01T23:50:40.056Z"
   },
   {
    "duration": 25,
    "start_time": "2023-06-01T23:50:40.166Z"
   },
   {
    "duration": 24,
    "start_time": "2023-06-01T23:50:40.193Z"
   },
   {
    "duration": 536,
    "start_time": "2023-06-01T23:50:40.220Z"
   },
   {
    "duration": 18,
    "start_time": "2023-06-01T23:50:40.758Z"
   },
   {
    "duration": 208,
    "start_time": "2023-06-01T23:50:40.778Z"
   },
   {
    "duration": 60,
    "start_time": "2023-06-01T23:50:40.988Z"
   },
   {
    "duration": 13,
    "start_time": "2023-06-01T23:50:41.050Z"
   },
   {
    "duration": 19,
    "start_time": "2023-06-01T23:50:41.065Z"
   },
   {
    "duration": 78,
    "start_time": "2023-06-01T23:50:41.088Z"
   },
   {
    "duration": 9,
    "start_time": "2023-06-01T23:50:41.168Z"
   },
   {
    "duration": 65,
    "start_time": "2023-06-01T23:50:41.178Z"
   },
   {
    "duration": 10,
    "start_time": "2023-06-01T23:50:41.245Z"
   },
   {
    "duration": 16,
    "start_time": "2023-06-01T23:50:41.258Z"
   },
   {
    "duration": 6,
    "start_time": "2023-06-01T23:50:41.276Z"
   },
   {
    "duration": 64,
    "start_time": "2023-06-01T23:50:41.284Z"
   },
   {
    "duration": 3935,
    "start_time": "2023-06-01T23:50:41.350Z"
   },
   {
    "duration": 5,
    "start_time": "2023-06-01T23:50:45.287Z"
   },
   {
    "duration": 102,
    "start_time": "2023-06-01T23:50:45.294Z"
   },
   {
    "duration": 8,
    "start_time": "2023-06-01T23:50:45.398Z"
   },
   {
    "duration": 34,
    "start_time": "2023-06-01T23:50:45.408Z"
   },
   {
    "duration": 564,
    "start_time": "2023-06-01T23:50:45.444Z"
   },
   {
    "duration": 9,
    "start_time": "2023-06-01T23:50:46.010Z"
   },
   {
    "duration": 1640,
    "start_time": "2023-06-01T23:50:46.021Z"
   },
   {
    "duration": 4,
    "start_time": "2023-06-01T23:50:47.663Z"
   },
   {
    "duration": 14,
    "start_time": "2023-06-01T23:50:47.668Z"
   },
   {
    "duration": 12,
    "start_time": "2023-06-01T23:50:47.684Z"
   },
   {
    "duration": 12,
    "start_time": "2023-06-01T23:50:47.698Z"
   },
   {
    "duration": 5,
    "start_time": "2023-06-01T23:50:47.712Z"
   },
   {
    "duration": 2726,
    "start_time": "2023-06-01T23:50:47.719Z"
   },
   {
    "duration": 4,
    "start_time": "2023-06-01T23:50:50.447Z"
   },
   {
    "duration": 28518,
    "start_time": "2023-06-01T23:50:50.460Z"
   },
   {
    "duration": 1048781,
    "start_time": "2023-06-01T23:51:18.981Z"
   },
   {
    "duration": 4,
    "start_time": "2023-06-02T00:08:47.764Z"
   },
   {
    "duration": 15512,
    "start_time": "2023-06-02T00:08:47.770Z"
   },
   {
    "duration": 0,
    "start_time": "2023-06-02T00:09:03.283Z"
   },
   {
    "duration": 15520,
    "start_time": "2023-06-02T00:09:19.367Z"
   },
   {
    "duration": 31653,
    "start_time": "2023-06-02T00:13:22.878Z"
   },
   {
    "duration": 31036,
    "start_time": "2023-06-02T00:14:22.293Z"
   },
   {
    "duration": 10,
    "start_time": "2023-06-02T00:14:56.690Z"
   },
   {
    "duration": 1421,
    "start_time": "2023-06-02T00:15:34.697Z"
   },
   {
    "duration": 352,
    "start_time": "2023-06-02T00:15:36.121Z"
   },
   {
    "duration": 20,
    "start_time": "2023-06-02T00:15:36.475Z"
   },
   {
    "duration": 138,
    "start_time": "2023-06-02T00:15:36.497Z"
   },
   {
    "duration": 106,
    "start_time": "2023-06-02T00:15:36.647Z"
   },
   {
    "duration": 12,
    "start_time": "2023-06-02T00:15:36.755Z"
   },
   {
    "duration": 18,
    "start_time": "2023-06-02T00:15:36.769Z"
   },
   {
    "duration": 407,
    "start_time": "2023-06-02T00:15:36.789Z"
   },
   {
    "duration": 18,
    "start_time": "2023-06-02T00:15:37.198Z"
   },
   {
    "duration": 114,
    "start_time": "2023-06-02T00:15:37.218Z"
   },
   {
    "duration": 23,
    "start_time": "2023-06-02T00:15:37.333Z"
   },
   {
    "duration": 11,
    "start_time": "2023-06-02T00:15:37.357Z"
   },
   {
    "duration": 23,
    "start_time": "2023-06-02T00:15:37.370Z"
   },
   {
    "duration": 56,
    "start_time": "2023-06-02T00:15:37.396Z"
   },
   {
    "duration": 7,
    "start_time": "2023-06-02T00:15:37.454Z"
   },
   {
    "duration": 17,
    "start_time": "2023-06-02T00:15:37.463Z"
   },
   {
    "duration": 14,
    "start_time": "2023-06-02T00:15:37.481Z"
   },
   {
    "duration": 16,
    "start_time": "2023-06-02T00:15:37.497Z"
   },
   {
    "duration": 7,
    "start_time": "2023-06-02T00:15:37.514Z"
   },
   {
    "duration": 17,
    "start_time": "2023-06-02T00:15:37.523Z"
   },
   {
    "duration": 3385,
    "start_time": "2023-06-02T00:15:37.552Z"
   },
   {
    "duration": 12,
    "start_time": "2023-06-02T00:15:40.939Z"
   },
   {
    "duration": 150,
    "start_time": "2023-06-02T00:15:40.953Z"
   },
   {
    "duration": 48,
    "start_time": "2023-06-02T00:15:41.105Z"
   },
   {
    "duration": 116,
    "start_time": "2023-06-02T00:15:41.156Z"
   },
   {
    "duration": 551,
    "start_time": "2023-06-02T00:15:41.274Z"
   },
   {
    "duration": 16,
    "start_time": "2023-06-02T00:15:41.826Z"
   },
   {
    "duration": 1712,
    "start_time": "2023-06-02T00:15:41.843Z"
   },
   {
    "duration": 4,
    "start_time": "2023-06-02T00:15:43.558Z"
   },
   {
    "duration": 8,
    "start_time": "2023-06-02T00:15:43.564Z"
   },
   {
    "duration": 14,
    "start_time": "2023-06-02T00:15:43.574Z"
   },
   {
    "duration": 10,
    "start_time": "2023-06-02T00:15:43.589Z"
   },
   {
    "duration": 218,
    "start_time": "2023-06-02T00:15:43.601Z"
   },
   {
    "duration": 0,
    "start_time": "2023-06-02T00:15:43.821Z"
   },
   {
    "duration": 1,
    "start_time": "2023-06-02T00:15:43.822Z"
   },
   {
    "duration": 0,
    "start_time": "2023-06-02T00:15:43.824Z"
   },
   {
    "duration": 1,
    "start_time": "2023-06-02T00:15:43.825Z"
   },
   {
    "duration": 0,
    "start_time": "2023-06-02T00:15:43.827Z"
   },
   {
    "duration": 0,
    "start_time": "2023-06-02T00:15:43.828Z"
   },
   {
    "duration": 0,
    "start_time": "2023-06-02T00:15:43.829Z"
   },
   {
    "duration": 0,
    "start_time": "2023-06-02T00:15:43.831Z"
   },
   {
    "duration": 2,
    "start_time": "2023-06-02T00:18:05.293Z"
   },
   {
    "duration": 4,
    "start_time": "2023-06-02T00:18:26.663Z"
   },
   {
    "duration": 4877,
    "start_time": "2023-06-02T00:18:26.669Z"
   },
   {
    "duration": 5,
    "start_time": "2023-06-02T00:18:31.548Z"
   },
   {
    "duration": 30386,
    "start_time": "2023-06-02T00:18:31.554Z"
   },
   {
    "duration": 1078882,
    "start_time": "2023-06-02T00:19:01.943Z"
   },
   {
    "duration": 5,
    "start_time": "2023-06-02T00:37:00.827Z"
   },
   {
    "duration": 32262,
    "start_time": "2023-06-02T00:37:00.844Z"
   },
   {
    "duration": 9,
    "start_time": "2023-06-02T00:37:33.108Z"
   }
  ],
  "kernelspec": {
   "display_name": "Python 3 (ipykernel)",
   "language": "python",
   "name": "python3"
  },
  "language_info": {
   "codemirror_mode": {
    "name": "ipython",
    "version": 3
   },
   "file_extension": ".py",
   "mimetype": "text/x-python",
   "name": "python",
   "nbconvert_exporter": "python",
   "pygments_lexer": "ipython3",
   "version": "3.9.5"
  },
  "toc": {
   "base_numbering": 1,
   "nav_menu": {},
   "number_sections": true,
   "sideBar": true,
   "skip_h1_title": true,
   "title_cell": "Содержание",
   "title_sidebar": "Contents",
   "toc_cell": true,
   "toc_position": {
    "height": "calc(100% - 180px)",
    "left": "10px",
    "top": "150px",
    "width": "281.275px"
   },
   "toc_section_display": true,
   "toc_window_display": false
  }
 },
 "nbformat": 4,
 "nbformat_minor": 2
}
