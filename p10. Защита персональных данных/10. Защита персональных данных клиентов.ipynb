{
 "cells": [
  {
   "cell_type": "markdown",
   "metadata": {
    "toc": true
   },
   "source": [
    "<h1>Содержание<span class=\"tocSkip\"></span></h1>\n",
    "<div class=\"toc\"><ul class=\"toc-item\"><li><span><a href=\"#Загрузка-данных\" data-toc-modified-id=\"Загрузка-данных-1\"><span class=\"toc-item-num\">1&nbsp;&nbsp;</span>Загрузка данных</a></span></li><li><span><a href=\"#Умножение-матриц\" data-toc-modified-id=\"Умножение-матриц-2\"><span class=\"toc-item-num\">2&nbsp;&nbsp;</span>Умножение матриц</a></span></li><li><span><a href=\"#Алгоритм-преобразования\" data-toc-modified-id=\"Алгоритм-преобразования-3\"><span class=\"toc-item-num\">3&nbsp;&nbsp;</span>Алгоритм преобразования</a></span></li><li><span><a href=\"#Проверка-алгоритма\" data-toc-modified-id=\"Проверка-алгоритма-4\"><span class=\"toc-item-num\">4&nbsp;&nbsp;</span>Проверка алгоритма</a></span></li><li><span><a href=\"#Чек-лист-проверки\" data-toc-modified-id=\"Чек-лист-проверки-5\"><span class=\"toc-item-num\">5&nbsp;&nbsp;</span>Чек-лист проверки</a></span></li></ul></div>"
   ]
  },
  {
   "cell_type": "markdown",
   "metadata": {},
   "source": [
    "# Защита персональных данных клиентов"
   ]
  },
  {
   "cell_type": "markdown",
   "metadata": {},
   "source": [
    "Вам нужно защитить данные клиентов страховой компании «Хоть потоп». Разработайте такой метод преобразования данных, чтобы по ним было сложно восстановить персональную информацию. Обоснуйте корректность его работы.\n",
    "\n",
    "Нужно защитить данные, чтобы при преобразовании качество моделей машинного обучения не ухудшилось. Подбирать наилучшую модель не требуется."
   ]
  },
  {
   "cell_type": "markdown",
   "metadata": {},
   "source": [
    "## Загрузка данных"
   ]
  },
  {
   "cell_type": "code",
   "execution_count": 1,
   "metadata": {},
   "outputs": [],
   "source": [
    "import pandas as pd\n",
    "import numpy as np\n",
    "from sklearn.metrics import r2_score"
   ]
  },
  {
   "cell_type": "code",
   "execution_count": 2,
   "metadata": {},
   "outputs": [],
   "source": [
    "data = pd.read_csv('/datasets/insurance.csv')"
   ]
  },
  {
   "cell_type": "code",
   "execution_count": 3,
   "metadata": {},
   "outputs": [
    {
     "data": {
      "text/html": [
       "<div>\n",
       "<style scoped>\n",
       "    .dataframe tbody tr th:only-of-type {\n",
       "        vertical-align: middle;\n",
       "    }\n",
       "\n",
       "    .dataframe tbody tr th {\n",
       "        vertical-align: top;\n",
       "    }\n",
       "\n",
       "    .dataframe thead th {\n",
       "        text-align: right;\n",
       "    }\n",
       "</style>\n",
       "<table border=\"1\" class=\"dataframe\">\n",
       "  <thead>\n",
       "    <tr style=\"text-align: right;\">\n",
       "      <th></th>\n",
       "      <th>Пол</th>\n",
       "      <th>Возраст</th>\n",
       "      <th>Зарплата</th>\n",
       "      <th>Члены семьи</th>\n",
       "      <th>Страховые выплаты</th>\n",
       "    </tr>\n",
       "  </thead>\n",
       "  <tbody>\n",
       "    <tr>\n",
       "      <th>0</th>\n",
       "      <td>1</td>\n",
       "      <td>41.0</td>\n",
       "      <td>49600.0</td>\n",
       "      <td>1</td>\n",
       "      <td>0</td>\n",
       "    </tr>\n",
       "    <tr>\n",
       "      <th>1</th>\n",
       "      <td>0</td>\n",
       "      <td>46.0</td>\n",
       "      <td>38000.0</td>\n",
       "      <td>1</td>\n",
       "      <td>1</td>\n",
       "    </tr>\n",
       "    <tr>\n",
       "      <th>2</th>\n",
       "      <td>0</td>\n",
       "      <td>29.0</td>\n",
       "      <td>21000.0</td>\n",
       "      <td>0</td>\n",
       "      <td>0</td>\n",
       "    </tr>\n",
       "    <tr>\n",
       "      <th>3</th>\n",
       "      <td>0</td>\n",
       "      <td>21.0</td>\n",
       "      <td>41700.0</td>\n",
       "      <td>2</td>\n",
       "      <td>0</td>\n",
       "    </tr>\n",
       "    <tr>\n",
       "      <th>4</th>\n",
       "      <td>1</td>\n",
       "      <td>28.0</td>\n",
       "      <td>26100.0</td>\n",
       "      <td>0</td>\n",
       "      <td>0</td>\n",
       "    </tr>\n",
       "  </tbody>\n",
       "</table>\n",
       "</div>"
      ],
      "text/plain": [
       "   Пол  Возраст  Зарплата  Члены семьи  Страховые выплаты\n",
       "0    1     41.0   49600.0            1                  0\n",
       "1    0     46.0   38000.0            1                  1\n",
       "2    0     29.0   21000.0            0                  0\n",
       "3    0     21.0   41700.0            2                  0\n",
       "4    1     28.0   26100.0            0                  0"
      ]
     },
     "execution_count": 3,
     "metadata": {},
     "output_type": "execute_result"
    }
   ],
   "source": [
    "data.head()"
   ]
  },
  {
   "cell_type": "code",
   "execution_count": 4,
   "metadata": {},
   "outputs": [
    {
     "name": "stdout",
     "output_type": "stream",
     "text": [
      "<class 'pandas.core.frame.DataFrame'>\n",
      "RangeIndex: 5000 entries, 0 to 4999\n",
      "Data columns (total 5 columns):\n",
      " #   Column             Non-Null Count  Dtype  \n",
      "---  ------             --------------  -----  \n",
      " 0   Пол                5000 non-null   int64  \n",
      " 1   Возраст            5000 non-null   float64\n",
      " 2   Зарплата           5000 non-null   float64\n",
      " 3   Члены семьи        5000 non-null   int64  \n",
      " 4   Страховые выплаты  5000 non-null   int64  \n",
      "dtypes: float64(2), int64(3)\n",
      "memory usage: 195.4 KB\n"
     ]
    }
   ],
   "source": [
    "data.info()"
   ]
  },
  {
   "cell_type": "code",
   "execution_count": 5,
   "metadata": {
    "scrolled": true
   },
   "outputs": [
    {
     "data": {
      "text/plain": [
       "array([49600., 38000., 21000., 41700., 26100., 41000., 39700., 38600.,\n",
       "       49700., 51700., 36600., 29300., 39500., 55000., 43700., 23300.,\n",
       "       48900., 33200., 36900., 43500., 36100., 26600., 48700., 40400.,\n",
       "       38400., 34600., 34800., 36800., 42200., 46300., 30300., 51000.,\n",
       "       28100., 64800., 30400., 45300., 38300., 49500., 19400., 40200.,\n",
       "       31700., 69200., 33100., 31600., 34500., 38700., 39600., 42400.,\n",
       "       34900., 30500., 24200., 49900., 14300., 47000., 44800., 43800.,\n",
       "       42700., 35400., 57200., 29600., 37400., 48100., 33700., 61800.,\n",
       "       39400., 15600., 52600., 37600., 52500., 32700., 51600., 60900.,\n",
       "       41800., 47400., 26500., 45900., 35700., 34300., 26700., 25700.,\n",
       "       33300., 31100., 31500., 42100., 37300., 42500., 27300., 46800.,\n",
       "       33500., 44300., 41600., 53900., 40100., 44600., 45000., 32000.,\n",
       "       38200., 33000., 38500., 51800., 33800., 46400., 43200., 31800.,\n",
       "       50200., 35100., 30700., 45800., 49300., 42800., 33600., 50300.,\n",
       "       34000., 36400., 44900., 43600., 54600., 52800., 29700., 39000.,\n",
       "       44100., 31900., 37700., 35200., 43100., 51300., 47500., 40800.,\n",
       "       26800., 64900., 35900., 31200., 39900., 43300., 33900., 40700.,\n",
       "       44700., 53400., 30600., 56000., 35600., 55200., 40600., 48300.,\n",
       "       50800., 41200., 44200., 44400., 40500., 39800., 16600., 48400.,\n",
       "       25100., 23100., 32100., 31000., 42900., 46700., 26000., 55900.,\n",
       "       52000., 41500., 49400., 60300., 45600., 49000., 37500., 21900.,\n",
       "       45100., 47900., 54300., 32400., 41300., 44500., 23200., 37900.,\n",
       "       48000., 52100., 45700., 29900., 42600., 45200., 36000., 46500.,\n",
       "       23800., 30200., 24400., 32800., 29000., 43400., 51500., 61700.,\n",
       "       45400., 50700., 36200., 41900., 27900., 47200., 48800., 55100.,\n",
       "       48200., 35500., 35000., 43900., 40000., 22000., 40300., 36300.,\n",
       "       49800., 25600., 42300., 54900., 25500., 32900., 36700., 38900.,\n",
       "       24700., 28800., 22900., 47300., 14500., 28700., 44000., 34100.,\n",
       "       53000., 59300., 28500., 47100., 41400., 58900., 17500., 54200.,\n",
       "       43000., 29800., 20000., 13800., 27500., 67700., 28000., 37100.,\n",
       "        8900., 14600., 56200., 38800., 27700., 50500., 58400., 34700.,\n",
       "       34400., 49100., 50900., 28200., 61500., 32500., 25900.,  9800.,\n",
       "       28300., 41100., 62000., 32600., 37200., 53800., 24000., 53600.,\n",
       "       54800., 59600., 20200., 21700., 29200., 38100., 20700., 32300.,\n",
       "       21200., 62100., 54000., 24500., 51900., 47800., 56100., 55300.,\n",
       "       58100., 28900., 39100., 58000., 27200., 24600., 30100., 57100.,\n",
       "       60100., 22200., 47700., 24900., 37800., 52700., 34200., 18700.,\n",
       "       42000., 26300., 22600., 30900., 35800., 30800., 51100., 53300.,\n",
       "       46200., 24100., 54700., 51200., 62300., 51400., 40900., 23400.,\n",
       "       35300., 55800., 33400., 21300., 30000., 56700., 46900.,  5300.,\n",
       "       39200., 57500., 31300., 53700., 21600., 50000., 36500., 16400.,\n",
       "       15900., 65100., 59900., 63200., 26200., 61200., 48500., 32200.,\n",
       "       29100., 50100., 22700., 28600., 23500., 23700., 19600., 17800.,\n",
       "       50600., 57900., 22500., 22100., 58300., 64100., 25000., 60400.,\n",
       "       59100., 37000., 62400., 29500., 25800., 25400., 26900., 21500.,\n",
       "       52200., 46600., 57300., 46100., 19300., 18900., 31400., 28400.,\n",
       "       29400., 17600., 13900., 52400., 11300., 46000., 60500., 58700.,\n",
       "       58200., 24800., 63700., 60600., 20400., 26400., 55600., 57000.,\n",
       "       45500., 48600., 57600., 52900., 62800., 17000., 56500., 52300.,\n",
       "       18400., 63300., 12900., 27000., 55700., 39300., 27800., 18300.,\n",
       "       56300., 59800., 24300., 14400., 13400., 17900., 47600., 54500.,\n",
       "       54400., 23900., 13000., 19900., 55400., 22800., 61000., 57400.,\n",
       "       23000., 20500., 53200., 18100., 25300., 59500., 18200., 50400.,\n",
       "       21100., 20900., 27400., 17300., 60700., 70600., 17700., 19700.,\n",
       "       49200., 63100., 59200., 14700., 53100., 21800., 68000., 16500.,\n",
       "       71400., 10000., 55500., 54100., 56400., 20600., 66300., 18800.,\n",
       "       11000., 66100., 27100., 57800., 53500., 19200., 58500., 64000.,\n",
       "       63600., 23600., 25200., 19100., 18600., 57700., 62700., 56600.,\n",
       "       21400., 58800., 68400., 17100., 13300., 68500., 56900., 64400.,\n",
       "       27600., 67200., 16200., 58600., 62200., 16000., 79000., 22300.,\n",
       "       11200., 71600., 61300., 70500., 67100., 59000., 13500., 16700.,\n",
       "       15700., 60000., 17400., 63400., 61900., 65200., 62600., 14100.,\n",
       "       20100., 63800., 15100., 70000., 60200., 20300., 65900., 15200.,\n",
       "       63500., 13200., 68900., 12200.,  6000., 74800., 59700., 10800.,\n",
       "       19000., 10600., 69400., 15000., 75200., 62500., 16300., 20800.,\n",
       "        7400., 65300., 61400., 56800.])"
      ]
     },
     "execution_count": 5,
     "metadata": {},
     "output_type": "execute_result"
    }
   ],
   "source": [
    "data['Зарплата'].unique()"
   ]
  },
  {
   "cell_type": "markdown",
   "metadata": {},
   "source": [
    "В столбцах 'Зарплата' и 'Возраcт' все значения целые, поэтому поменяем тип данных."
   ]
  },
  {
   "cell_type": "code",
   "execution_count": 6,
   "metadata": {},
   "outputs": [],
   "source": [
    "data['Зарплата'] = data['Зарплата'].astype('int')"
   ]
  },
  {
   "cell_type": "code",
   "execution_count": 7,
   "metadata": {},
   "outputs": [],
   "source": [
    "data['Возраст'] = data['Возраст'].astype('int')"
   ]
  },
  {
   "cell_type": "code",
   "execution_count": 8,
   "metadata": {},
   "outputs": [
    {
     "name": "stdout",
     "output_type": "stream",
     "text": [
      "<class 'pandas.core.frame.DataFrame'>\n",
      "RangeIndex: 5000 entries, 0 to 4999\n",
      "Data columns (total 5 columns):\n",
      " #   Column             Non-Null Count  Dtype\n",
      "---  ------             --------------  -----\n",
      " 0   Пол                5000 non-null   int64\n",
      " 1   Возраст            5000 non-null   int64\n",
      " 2   Зарплата           5000 non-null   int64\n",
      " 3   Члены семьи        5000 non-null   int64\n",
      " 4   Страховые выплаты  5000 non-null   int64\n",
      "dtypes: int64(5)\n",
      "memory usage: 195.4 KB\n"
     ]
    }
   ],
   "source": [
    "data.info()"
   ]
  },
  {
   "cell_type": "markdown",
   "metadata": {},
   "source": [
    "## Умножение матриц"
   ]
  },
  {
   "cell_type": "markdown",
   "metadata": {},
   "source": [
    "В этом задании вы можете записывать формулы в *Jupyter Notebook.*\n",
    "\n",
    "Чтобы записать формулу внутри текста, окружите её символами доллара \\\\$; если снаружи —  двойными символами \\\\$\\\\$. Эти формулы записываются на языке вёрстки *LaTeX.* \n",
    "\n",
    "Для примера мы записали формулы линейной регрессии. Можете их скопировать и отредактировать, чтобы решить задачу.\n",
    "\n",
    "Работать в *LaTeX* необязательно."
   ]
  },
  {
   "cell_type": "markdown",
   "metadata": {},
   "source": [
    "Обозначения:\n",
    "\n",
    "- $X$ — матрица признаков (нулевой столбец состоит из единиц)\n",
    "\n",
    "- $y$ — вектор целевого признака\n",
    "\n",
    "- $P$ — матрица, на которую умножаются признаки\n",
    "\n",
    "- $w$ — вектор весов линейной регрессии (нулевой элемент равен сдвигу)"
   ]
  },
  {
   "cell_type": "markdown",
   "metadata": {},
   "source": [
    "Предсказания:\n",
    "\n",
    "$$\n",
    "a = Xw\n",
    "$$\n",
    "\n",
    "Задача обучения:\n",
    "\n",
    "$$\n",
    "w = \\arg\\min_w MSE(Xw, y)\n",
    "$$\n",
    "\n",
    "Формула обучения:\n",
    "\n",
    "$$\n",
    "w = (X^T X)^{-1} X^T y\n",
    "$$"
   ]
  },
  {
   "cell_type": "markdown",
   "metadata": {},
   "source": [
    "<b> Признаки умножают на обратимую матрицу. Изменится ли качество линейной регрессии?"
   ]
  },
  {
   "cell_type": "markdown",
   "metadata": {},
   "source": [
    "**Ответ:** Не изменится.\n",
    "\n",
    "**Обоснование:** Используя свойства $(AB)^{-1}=B^{-1}*A^{-1}$ и $(AB)^T=A^TB^T$ докажем.\n",
    "<br> Предположим $X'=X*P$, где P - обратимая матрица. <br>\n",
    "$w'=(X'^T*X')^{-1}*X'*y=((XP)^T*XP)^{-1}*(XP)^T*y$= <br>\n",
    "$=(P^T X^T X P)^{-1}*P^T*X^T*y=$ <br>\n",
    "$=(X^T X P)^{-1}*(P^T)^{-1}* P^T* X^T* y =$<br>\n",
    "$=(X^T X P)^{-1}* X^T* y =$<br>\n",
    "$=p^{-1}*(X^T X)^{-1}X^T*y=$<br>\n",
    "Получаем: $w'=P^{-1}*w$\n",
    "\n",
    "$a=X'*w'=X*P*P^{-1}*w=Xw$ => Предсказания при умножении матрицы признаков на обратимую матрицу не изменяются, следовательно качество модели не падает."
   ]
  },
  {
   "cell_type": "markdown",
   "metadata": {},
   "source": [
    "## Алгоритм преобразования"
   ]
  },
  {
   "cell_type": "markdown",
   "metadata": {},
   "source": [
    "**Алгоритм**\n",
    "\n",
    "Алгоритм шифрования заключается в умножении матрицы признаков на случайную обратимую матрицу."
   ]
  },
  {
   "cell_type": "markdown",
   "metadata": {},
   "source": [
    "**Обоснование**\n",
    "\n",
    "Предсказания остануться прежними (доказательство в предыдущем пункте), следовательно качество модели останется прежним."
   ]
  },
  {
   "cell_type": "markdown",
   "metadata": {},
   "source": [
    "## Проверка алгоритма"
   ]
  },
  {
   "cell_type": "markdown",
   "metadata": {},
   "source": [
    "Проверим первоначальное качество модели."
   ]
  },
  {
   "cell_type": "code",
   "execution_count": 9,
   "metadata": {},
   "outputs": [],
   "source": [
    "features = data.drop('Страховые выплаты', axis=1)\n",
    "target = data['Страховые выплаты']"
   ]
  },
  {
   "cell_type": "code",
   "execution_count": 10,
   "metadata": {},
   "outputs": [],
   "source": [
    "class LinearRegression:\n",
    "    def fit(self, train_features, train_target):\n",
    "        X = np.concatenate((np.ones((train_features.shape[0], 1)), train_features), axis=1)\n",
    "        y = train_target\n",
    "        w = np.linalg.inv(X.T.dot(X)).dot(X.T).dot(y)\n",
    "        self.w = w[1:]\n",
    "        self.w0 = w[0]\n",
    "\n",
    "    def predict(self, test_features):\n",
    "        return test_features.dot(self.w) + self.w0"
   ]
  },
  {
   "cell_type": "code",
   "execution_count": 11,
   "metadata": {},
   "outputs": [
    {
     "data": {
      "text/plain": [
       "0.42494550308169177"
      ]
     },
     "execution_count": 11,
     "metadata": {},
     "output_type": "execute_result"
    }
   ],
   "source": [
    "model = LinearRegression()\n",
    "model.fit(features, target)\n",
    "predictions = model.predict(features)\n",
    "r2_score(target, predictions)"
   ]
  },
  {
   "cell_type": "markdown",
   "metadata": {},
   "source": [
    "Умножим матрицу Х на случайную матрицу Р и посмотрим качество модели."
   ]
  },
  {
   "cell_type": "code",
   "execution_count": 20,
   "metadata": {},
   "outputs": [],
   "source": [
    "class LinearRegression_1:\n",
    "    def fit(self, train_features, train_target):\n",
    "        d = 0\n",
    "        P = np.random.rand(train_features.shape[1], train_features.shape[1])\n",
    "        while d != 0:\n",
    "            P = np.random.rand(train_features.shape[1], train_features.shape[1])\n",
    "        d = np.linalg.det(P)\n",
    "        X = train_features@P\n",
    "        X = np.concatenate((np.ones((train_features.shape[0], 1)), train_features), axis=1)\n",
    "        y = train_target\n",
    "        w = np.linalg.inv(X.T.dot(X)).dot(X.T).dot(y)\n",
    "        self.w = w[1:]\n",
    "        self.w0 = w[0]\n",
    "\n",
    "    def predict(self, test_features):\n",
    "        return test_features.dot(self.w) + self.w0"
   ]
  },
  {
   "cell_type": "code",
   "execution_count": 21,
   "metadata": {},
   "outputs": [
    {
     "data": {
      "text/plain": [
       "0.42494550308169177"
      ]
     },
     "execution_count": 21,
     "metadata": {},
     "output_type": "execute_result"
    }
   ],
   "source": [
    "model = LinearRegression_1()\n",
    "model.fit(features, target)\n",
    "predictions = model.predict(features)\n",
    "r2_score(target, predictions)"
   ]
  },
  {
   "cell_type": "markdown",
   "metadata": {},
   "source": [
    "**Вывод: качество модели не изменилось, значит можно шифровать данные домножением на случайную обратимую матрицу.**"
   ]
  }
 ],
 "metadata": {
  "ExecuteTimeLog": [
   {
    "duration": 545,
    "start_time": "2023-06-13T21:42:56.151Z"
   },
   {
    "duration": 115,
    "start_time": "2023-06-13T21:43:13.161Z"
   },
   {
    "duration": 19,
    "start_time": "2023-06-13T21:43:23.439Z"
   },
   {
    "duration": 15,
    "start_time": "2023-06-13T21:44:55.799Z"
   },
   {
    "duration": 17,
    "start_time": "2023-06-13T21:58:08.821Z"
   },
   {
    "duration": 6,
    "start_time": "2023-06-13T21:59:57.608Z"
   },
   {
    "duration": 2075,
    "start_time": "2023-06-13T22:00:22.835Z"
   },
   {
    "duration": 5,
    "start_time": "2023-06-13T22:00:34.736Z"
   },
   {
    "duration": 25,
    "start_time": "2023-06-13T22:00:43.319Z"
   },
   {
    "duration": 798,
    "start_time": "2023-06-13T23:18:43.410Z"
   },
   {
    "duration": 6,
    "start_time": "2023-06-13T23:22:30.531Z"
   },
   {
    "duration": 16,
    "start_time": "2023-06-13T23:22:31.415Z"
   },
   {
    "duration": 11,
    "start_time": "2023-06-13T23:22:44.630Z"
   },
   {
    "duration": 6,
    "start_time": "2023-06-13T23:30:29.327Z"
   },
   {
    "duration": 61,
    "start_time": "2023-06-13T23:30:35.820Z"
   },
   {
    "duration": 4,
    "start_time": "2023-06-13T23:30:49.130Z"
   },
   {
    "duration": 11,
    "start_time": "2023-06-13T23:30:49.930Z"
   },
   {
    "duration": 4,
    "start_time": "2023-06-13T23:30:55.436Z"
   },
   {
    "duration": 4,
    "start_time": "2023-06-13T23:32:28.638Z"
   },
   {
    "duration": 12,
    "start_time": "2023-06-13T23:32:29.425Z"
   },
   {
    "duration": 155,
    "start_time": "2023-06-13T23:33:04.147Z"
   },
   {
    "duration": 4,
    "start_time": "2023-06-13T23:33:59.936Z"
   },
   {
    "duration": 16,
    "start_time": "2023-06-13T23:34:00.819Z"
   },
   {
    "duration": 1048,
    "start_time": "2023-06-13T23:35:54.638Z"
   },
   {
    "duration": 48,
    "start_time": "2023-06-13T23:35:55.688Z"
   },
   {
    "duration": 14,
    "start_time": "2023-06-13T23:35:55.737Z"
   },
   {
    "duration": 20,
    "start_time": "2023-06-13T23:35:55.753Z"
   },
   {
    "duration": 23,
    "start_time": "2023-06-13T23:35:55.775Z"
   },
   {
    "duration": 31,
    "start_time": "2023-06-13T23:35:55.801Z"
   },
   {
    "duration": 11,
    "start_time": "2023-06-13T23:35:55.834Z"
   },
   {
    "duration": 11,
    "start_time": "2023-06-13T23:35:55.847Z"
   },
   {
    "duration": 11,
    "start_time": "2023-06-13T23:35:55.860Z"
   },
   {
    "duration": 5,
    "start_time": "2023-06-13T23:35:55.873Z"
   },
   {
    "duration": 56,
    "start_time": "2023-06-13T23:35:55.880Z"
   },
   {
    "duration": 160,
    "start_time": "2023-06-13T23:35:55.938Z"
   },
   {
    "duration": 221,
    "start_time": "2023-06-13T23:35:56.099Z"
   },
   {
    "duration": 7,
    "start_time": "2023-06-13T23:36:41.914Z"
   },
   {
    "duration": 9,
    "start_time": "2023-06-13T23:36:42.567Z"
   },
   {
    "duration": 4,
    "start_time": "2023-06-13T23:38:49.226Z"
   },
   {
    "duration": 28,
    "start_time": "2023-06-13T23:38:50.009Z"
   },
   {
    "duration": 10,
    "start_time": "2023-06-13T23:38:55.903Z"
   },
   {
    "duration": 12,
    "start_time": "2023-06-13T23:38:56.430Z"
   },
   {
    "duration": 8,
    "start_time": "2023-06-13T23:39:43.419Z"
   },
   {
    "duration": 7,
    "start_time": "2023-06-13T23:39:43.957Z"
   },
   {
    "duration": 8,
    "start_time": "2023-06-13T23:48:18.406Z"
   },
   {
    "duration": 13,
    "start_time": "2023-06-13T23:48:19.141Z"
   },
   {
    "duration": 4,
    "start_time": "2023-06-13T23:48:37.907Z"
   },
   {
    "duration": 17,
    "start_time": "2023-06-13T23:48:38.515Z"
   },
   {
    "duration": 6,
    "start_time": "2023-06-13T23:49:13.111Z"
   },
   {
    "duration": 14,
    "start_time": "2023-06-13T23:49:14.048Z"
   },
   {
    "duration": 3,
    "start_time": "2023-06-13T23:49:32.763Z"
   },
   {
    "duration": 20,
    "start_time": "2023-06-13T23:49:33.409Z"
   },
   {
    "duration": 5,
    "start_time": "2023-06-13T23:49:46.852Z"
   },
   {
    "duration": 26,
    "start_time": "2023-06-13T23:49:47.511Z"
   },
   {
    "duration": 4,
    "start_time": "2023-06-13T23:53:19.927Z"
   },
   {
    "duration": 11,
    "start_time": "2023-06-13T23:53:20.526Z"
   },
   {
    "duration": 7,
    "start_time": "2023-06-13T23:53:49.103Z"
   },
   {
    "duration": 15,
    "start_time": "2023-06-13T23:53:49.546Z"
   },
   {
    "duration": 1063,
    "start_time": "2023-06-13T23:54:29.814Z"
   },
   {
    "duration": 48,
    "start_time": "2023-06-13T23:54:30.879Z"
   },
   {
    "duration": 95,
    "start_time": "2023-06-13T23:54:30.929Z"
   },
   {
    "duration": 100,
    "start_time": "2023-06-13T23:54:31.027Z"
   },
   {
    "duration": 116,
    "start_time": "2023-06-13T23:54:31.128Z"
   },
   {
    "duration": 85,
    "start_time": "2023-06-13T23:54:31.245Z"
   },
   {
    "duration": 36,
    "start_time": "2023-06-13T23:54:31.332Z"
   },
   {
    "duration": 90,
    "start_time": "2023-06-13T23:54:31.370Z"
   },
   {
    "duration": 94,
    "start_time": "2023-06-13T23:54:31.461Z"
   },
   {
    "duration": 61,
    "start_time": "2023-06-13T23:54:31.557Z"
   },
   {
    "duration": 94,
    "start_time": "2023-06-13T23:54:31.620Z"
   },
   {
    "duration": 119,
    "start_time": "2023-06-13T23:54:31.715Z"
   },
   {
    "duration": 32,
    "start_time": "2023-06-13T23:54:31.835Z"
   },
   {
    "duration": 106,
    "start_time": "2023-06-13T23:54:52.667Z"
   },
   {
    "duration": 4,
    "start_time": "2023-06-13T23:54:55.456Z"
   },
   {
    "duration": 68,
    "start_time": "2023-06-13T23:54:56.023Z"
   },
   {
    "duration": 4,
    "start_time": "2023-06-13T23:59:24.226Z"
   },
   {
    "duration": 5,
    "start_time": "2023-06-13T23:59:24.829Z"
   },
   {
    "duration": 2839,
    "start_time": "2023-06-14T04:20:05.564Z"
   },
   {
    "duration": 29,
    "start_time": "2023-06-14T04:20:08.406Z"
   },
   {
    "duration": 18,
    "start_time": "2023-06-14T04:20:28.257Z"
   },
   {
    "duration": 12,
    "start_time": "2023-06-14T04:20:28.775Z"
   },
   {
    "duration": 8,
    "start_time": "2023-06-14T04:20:30.182Z"
   },
   {
    "duration": 4,
    "start_time": "2023-06-14T04:20:31.689Z"
   },
   {
    "duration": 4,
    "start_time": "2023-06-14T04:20:31.895Z"
   },
   {
    "duration": 11,
    "start_time": "2023-06-14T04:20:32.402Z"
   },
   {
    "duration": 4,
    "start_time": "2023-06-14T04:22:06.157Z"
   },
   {
    "duration": 5,
    "start_time": "2023-06-14T04:22:06.676Z"
   },
   {
    "duration": 12,
    "start_time": "2023-06-14T04:22:07.513Z"
   },
   {
    "duration": 10,
    "start_time": "2023-06-14T04:22:22.559Z"
   },
   {
    "duration": 8,
    "start_time": "2023-06-14T04:22:23.107Z"
   },
   {
    "duration": 1020,
    "start_time": "2023-06-14T10:14:40.830Z"
   },
   {
    "duration": 87,
    "start_time": "2023-06-14T10:14:41.852Z"
   },
   {
    "duration": 15,
    "start_time": "2023-06-14T10:14:41.940Z"
   },
   {
    "duration": 22,
    "start_time": "2023-06-14T10:14:41.957Z"
   },
   {
    "duration": 30,
    "start_time": "2023-06-14T10:14:41.981Z"
   },
   {
    "duration": 41,
    "start_time": "2023-06-14T10:14:42.013Z"
   },
   {
    "duration": 14,
    "start_time": "2023-06-14T10:14:42.056Z"
   },
   {
    "duration": 42,
    "start_time": "2023-06-14T10:14:42.071Z"
   },
   {
    "duration": 33,
    "start_time": "2023-06-14T10:14:42.115Z"
   },
   {
    "duration": 12,
    "start_time": "2023-06-14T10:14:42.150Z"
   },
   {
    "duration": 153,
    "start_time": "2023-06-14T10:14:42.163Z"
   },
   {
    "duration": 27,
    "start_time": "2023-06-14T10:14:42.322Z"
   },
   {
    "duration": 1031,
    "start_time": "2023-06-14T10:15:44.274Z"
   },
   {
    "duration": 42,
    "start_time": "2023-06-14T10:15:45.307Z"
   },
   {
    "duration": 96,
    "start_time": "2023-06-14T10:15:45.350Z"
   },
   {
    "duration": 46,
    "start_time": "2023-06-14T10:15:45.448Z"
   },
   {
    "duration": 83,
    "start_time": "2023-06-14T10:15:45.497Z"
   },
   {
    "duration": 63,
    "start_time": "2023-06-14T10:15:45.582Z"
   },
   {
    "duration": 53,
    "start_time": "2023-06-14T10:15:45.648Z"
   },
   {
    "duration": 88,
    "start_time": "2023-06-14T10:15:45.703Z"
   },
   {
    "duration": 41,
    "start_time": "2023-06-14T10:15:45.793Z"
   },
   {
    "duration": 75,
    "start_time": "2023-06-14T10:15:45.836Z"
   },
   {
    "duration": 52,
    "start_time": "2023-06-14T10:15:45.913Z"
   },
   {
    "duration": 100,
    "start_time": "2023-06-14T10:15:46.022Z"
   },
   {
    "duration": 239,
    "start_time": "2023-06-14T10:15:46.125Z"
   },
   {
    "duration": 5,
    "start_time": "2023-06-14T10:16:15.882Z"
   },
   {
    "duration": 16,
    "start_time": "2023-06-14T10:16:17.422Z"
   },
   {
    "duration": 6,
    "start_time": "2023-06-14T10:16:59.539Z"
   },
   {
    "duration": 1094,
    "start_time": "2023-06-14T10:24:57.636Z"
   },
   {
    "duration": 30,
    "start_time": "2023-06-14T10:24:58.732Z"
   },
   {
    "duration": 16,
    "start_time": "2023-06-14T10:24:58.764Z"
   },
   {
    "duration": 14,
    "start_time": "2023-06-14T10:24:58.782Z"
   },
   {
    "duration": 29,
    "start_time": "2023-06-14T10:24:58.799Z"
   },
   {
    "duration": 11,
    "start_time": "2023-06-14T10:24:58.830Z"
   },
   {
    "duration": 7,
    "start_time": "2023-06-14T10:24:58.842Z"
   },
   {
    "duration": 18,
    "start_time": "2023-06-14T10:24:58.851Z"
   },
   {
    "duration": 5,
    "start_time": "2023-06-14T10:24:58.871Z"
   },
   {
    "duration": 5,
    "start_time": "2023-06-14T10:24:58.878Z"
   },
   {
    "duration": 139,
    "start_time": "2023-06-14T10:24:58.885Z"
   },
   {
    "duration": 16,
    "start_time": "2023-06-14T10:24:59.026Z"
   },
   {
    "duration": 162,
    "start_time": "2023-06-14T10:24:59.043Z"
   },
   {
    "duration": 4,
    "start_time": "2023-06-14T10:28:17.882Z"
   },
   {
    "duration": 36,
    "start_time": "2023-06-14T10:28:18.892Z"
   },
   {
    "duration": 8,
    "start_time": "2023-06-14T10:41:05.231Z"
   },
   {
    "duration": 12,
    "start_time": "2023-06-14T10:41:07.046Z"
   },
   {
    "duration": 5,
    "start_time": "2023-06-14T10:43:06.383Z"
   },
   {
    "duration": 14,
    "start_time": "2023-06-14T10:43:07.373Z"
   },
   {
    "duration": 5,
    "start_time": "2023-06-14T10:43:14.586Z"
   },
   {
    "duration": 15,
    "start_time": "2023-06-14T10:43:15.480Z"
   },
   {
    "duration": 7,
    "start_time": "2023-06-14T10:44:14.931Z"
   },
   {
    "duration": 16,
    "start_time": "2023-06-14T10:44:16.160Z"
   },
   {
    "duration": 1135,
    "start_time": "2023-06-14T10:44:30.786Z"
   },
   {
    "duration": 33,
    "start_time": "2023-06-14T10:44:31.926Z"
   },
   {
    "duration": 74,
    "start_time": "2023-06-14T10:44:31.961Z"
   },
   {
    "duration": 52,
    "start_time": "2023-06-14T10:44:32.037Z"
   },
   {
    "duration": 66,
    "start_time": "2023-06-14T10:44:32.091Z"
   },
   {
    "duration": 73,
    "start_time": "2023-06-14T10:44:32.159Z"
   },
   {
    "duration": 47,
    "start_time": "2023-06-14T10:44:32.235Z"
   },
   {
    "duration": 63,
    "start_time": "2023-06-14T10:44:32.284Z"
   },
   {
    "duration": 61,
    "start_time": "2023-06-14T10:44:32.348Z"
   },
   {
    "duration": 40,
    "start_time": "2023-06-14T10:44:32.411Z"
   },
   {
    "duration": 55,
    "start_time": "2023-06-14T10:44:32.453Z"
   },
   {
    "duration": 110,
    "start_time": "2023-06-14T10:44:32.510Z"
   },
   {
    "duration": 209,
    "start_time": "2023-06-14T10:44:32.626Z"
   },
   {
    "duration": 5,
    "start_time": "2023-06-14T10:45:26.380Z"
   },
   {
    "duration": 16,
    "start_time": "2023-06-14T10:45:27.361Z"
   },
   {
    "duration": 7,
    "start_time": "2023-06-14T10:45:58.964Z"
   },
   {
    "duration": 18,
    "start_time": "2023-06-14T10:45:59.847Z"
   },
   {
    "duration": 6,
    "start_time": "2023-06-14T10:46:12.833Z"
   },
   {
    "duration": 1212,
    "start_time": "2023-06-14T10:46:13.738Z"
   },
   {
    "duration": 5,
    "start_time": "2023-06-14T10:46:35.186Z"
   },
   {
    "duration": 7,
    "start_time": "2023-06-14T10:46:36.741Z"
   }
  ],
  "kernelspec": {
   "display_name": "Python 3 (ipykernel)",
   "language": "python",
   "name": "python3"
  },
  "language_info": {
   "codemirror_mode": {
    "name": "ipython",
    "version": 3
   },
   "file_extension": ".py",
   "mimetype": "text/x-python",
   "name": "python",
   "nbconvert_exporter": "python",
   "pygments_lexer": "ipython3",
   "version": "3.9.5"
  },
  "toc": {
   "base_numbering": 1,
   "nav_menu": {},
   "number_sections": true,
   "sideBar": true,
   "skip_h1_title": true,
   "title_cell": "Содержание",
   "title_sidebar": "Contents",
   "toc_cell": true,
   "toc_position": {},
   "toc_section_display": true,
   "toc_window_display": true
  }
 },
 "nbformat": 4,
 "nbformat_minor": 2
}
