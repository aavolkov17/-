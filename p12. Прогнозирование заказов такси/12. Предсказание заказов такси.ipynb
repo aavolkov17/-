{
 "cells": [
  {
   "cell_type": "markdown",
   "metadata": {
    "toc": true
   },
   "source": [
    "<h1>Содержание<span class=\"tocSkip\"></span></h1>\n",
    "<div class=\"toc\"><ul class=\"toc-item\"><li><span><a href=\"#Подготовка\" data-toc-modified-id=\"Подготовка-1\"><span class=\"toc-item-num\">1&nbsp;&nbsp;</span>Подготовка</a></span></li><li><span><a href=\"#Анализ\" data-toc-modified-id=\"Анализ-2\"><span class=\"toc-item-num\">2&nbsp;&nbsp;</span>Анализ</a></span></li><li><span><a href=\"#Обучение\" data-toc-modified-id=\"Обучение-3\"><span class=\"toc-item-num\">3&nbsp;&nbsp;</span>Обучение</a></span></li><li><span><a href=\"#Тестирование\" data-toc-modified-id=\"Тестирование-4\"><span class=\"toc-item-num\">4&nbsp;&nbsp;</span>Тестирование</a></span></li><li><span><a href=\"#Общий-вывод\" data-toc-modified-id=\"Общий-вывод-5\"><span class=\"toc-item-num\">5&nbsp;&nbsp;</span>Общий вывод</a></span></li></ul></div>"
   ]
  },
  {
   "cell_type": "markdown",
   "metadata": {},
   "source": [
    "#  Прогнозирование заказов такси"
   ]
  },
  {
   "cell_type": "markdown",
   "metadata": {},
   "source": [
    "Компания «Чётенькое такси» собрала исторические данные о заказах такси в аэропортах. Чтобы привлекать больше водителей в период пиковой нагрузки, нужно спрогнозировать количество заказов такси на следующий час. Постройте модель для такого предсказания.\n",
    "\n",
    "Значение метрики *RMSE* на тестовой выборке должно быть не больше 48.\n",
    "\n",
    "Вам нужно:\n",
    "\n",
    "1. Загрузить данные и выполнить их ресемплирование по одному часу.\n",
    "2. Проанализировать данные.\n",
    "3. Обучить разные модели с различными гиперпараметрами. Сделать тестовую выборку размером 10% от исходных данных.\n",
    "4. Проверить данные на тестовой выборке и сделать выводы.\n"
   ]
  },
  {
   "cell_type": "markdown",
   "metadata": {},
   "source": [
    "## Подготовка"
   ]
  },
  {
   "cell_type": "code",
   "execution_count": 1,
   "metadata": {},
   "outputs": [],
   "source": [
    "import pandas as pd\n",
    "from statsmodels.tsa.seasonal import seasonal_decompose\n",
    "import matplotlib.pyplot as plt\n",
    "import seaborn as sns\n",
    "import numpy as np\n",
    "from sklearn.tree import DecisionTreeRegressor\n",
    "from sklearn.ensemble import RandomForestRegressor\n",
    "from sklearn.linear_model import LinearRegression\n",
    "from catboost import Pool, CatBoostRegressor\n",
    "import lightgbm as lgb\n",
    "from numpy.random import RandomState\n",
    "from sklearn.model_selection import TimeSeriesSplit\n",
    "from sklearn.dummy import DummyRegressor\n",
    "from sklearn.model_selection import train_test_split, RandomizedSearchCV, GridSearchCV\n",
    "from sklearn.metrics import mean_squared_error"
   ]
  },
  {
   "cell_type": "code",
   "execution_count": 2,
   "metadata": {},
   "outputs": [
    {
     "data": {
      "text/html": [
       "<div>\n",
       "<style scoped>\n",
       "    .dataframe tbody tr th:only-of-type {\n",
       "        vertical-align: middle;\n",
       "    }\n",
       "\n",
       "    .dataframe tbody tr th {\n",
       "        vertical-align: top;\n",
       "    }\n",
       "\n",
       "    .dataframe thead th {\n",
       "        text-align: right;\n",
       "    }\n",
       "</style>\n",
       "<table border=\"1\" class=\"dataframe\">\n",
       "  <thead>\n",
       "    <tr style=\"text-align: right;\">\n",
       "      <th></th>\n",
       "      <th>datetime</th>\n",
       "      <th>num_orders</th>\n",
       "    </tr>\n",
       "  </thead>\n",
       "  <tbody>\n",
       "    <tr>\n",
       "      <th>0</th>\n",
       "      <td>2018-03-01 00:00:00</td>\n",
       "      <td>9</td>\n",
       "    </tr>\n",
       "    <tr>\n",
       "      <th>1</th>\n",
       "      <td>2018-03-01 00:10:00</td>\n",
       "      <td>14</td>\n",
       "    </tr>\n",
       "    <tr>\n",
       "      <th>2</th>\n",
       "      <td>2018-03-01 00:20:00</td>\n",
       "      <td>28</td>\n",
       "    </tr>\n",
       "    <tr>\n",
       "      <th>3</th>\n",
       "      <td>2018-03-01 00:30:00</td>\n",
       "      <td>20</td>\n",
       "    </tr>\n",
       "    <tr>\n",
       "      <th>4</th>\n",
       "      <td>2018-03-01 00:40:00</td>\n",
       "      <td>32</td>\n",
       "    </tr>\n",
       "  </tbody>\n",
       "</table>\n",
       "</div>"
      ],
      "text/plain": [
       "              datetime  num_orders\n",
       "0  2018-03-01 00:00:00           9\n",
       "1  2018-03-01 00:10:00          14\n",
       "2  2018-03-01 00:20:00          28\n",
       "3  2018-03-01 00:30:00          20\n",
       "4  2018-03-01 00:40:00          32"
      ]
     },
     "execution_count": 2,
     "metadata": {},
     "output_type": "execute_result"
    }
   ],
   "source": [
    "data = pd.read_csv('/datasets/taxi.csv')\n",
    "data.head()"
   ]
  },
  {
   "cell_type": "code",
   "execution_count": 3,
   "metadata": {},
   "outputs": [
    {
     "name": "stdout",
     "output_type": "stream",
     "text": [
      "<class 'pandas.core.frame.DataFrame'>\n",
      "RangeIndex: 26496 entries, 0 to 26495\n",
      "Data columns (total 2 columns):\n",
      " #   Column      Non-Null Count  Dtype \n",
      "---  ------      --------------  ----- \n",
      " 0   datetime    26496 non-null  object\n",
      " 1   num_orders  26496 non-null  int64 \n",
      "dtypes: int64(1), object(1)\n",
      "memory usage: 414.1+ KB\n"
     ]
    }
   ],
   "source": [
    "data.info()"
   ]
  },
  {
   "cell_type": "code",
   "execution_count": 4,
   "metadata": {},
   "outputs": [],
   "source": [
    "data['datetime'] = pd.to_datetime(data['datetime'])"
   ]
  },
  {
   "cell_type": "code",
   "execution_count": 5,
   "metadata": {},
   "outputs": [
    {
     "name": "stdout",
     "output_type": "stream",
     "text": [
      "<class 'pandas.core.frame.DataFrame'>\n",
      "RangeIndex: 26496 entries, 0 to 26495\n",
      "Data columns (total 2 columns):\n",
      " #   Column      Non-Null Count  Dtype         \n",
      "---  ------      --------------  -----         \n",
      " 0   datetime    26496 non-null  datetime64[ns]\n",
      " 1   num_orders  26496 non-null  int64         \n",
      "dtypes: datetime64[ns](1), int64(1)\n",
      "memory usage: 414.1 KB\n"
     ]
    }
   ],
   "source": [
    "data.info()"
   ]
  },
  {
   "cell_type": "code",
   "execution_count": 6,
   "metadata": {},
   "outputs": [],
   "source": [
    "data.set_index('datetime', inplace=True)"
   ]
  },
  {
   "cell_type": "code",
   "execution_count": 7,
   "metadata": {},
   "outputs": [
    {
     "data": {
      "text/plain": [
       "True"
      ]
     },
     "execution_count": 7,
     "metadata": {},
     "output_type": "execute_result"
    }
   ],
   "source": [
    "data = data.sort_index(axis=0)\n",
    "data.index.is_monotonic"
   ]
  },
  {
   "cell_type": "markdown",
   "metadata": {},
   "source": [
    "В данных нет пропусков. Данные расположены последовательно во времени."
   ]
  },
  {
   "cell_type": "code",
   "execution_count": 8,
   "metadata": {},
   "outputs": [
    {
     "data": {
      "text/html": [
       "<div>\n",
       "<style scoped>\n",
       "    .dataframe tbody tr th:only-of-type {\n",
       "        vertical-align: middle;\n",
       "    }\n",
       "\n",
       "    .dataframe tbody tr th {\n",
       "        vertical-align: top;\n",
       "    }\n",
       "\n",
       "    .dataframe thead th {\n",
       "        text-align: right;\n",
       "    }\n",
       "</style>\n",
       "<table border=\"1\" class=\"dataframe\">\n",
       "  <thead>\n",
       "    <tr style=\"text-align: right;\">\n",
       "      <th></th>\n",
       "      <th>num_orders</th>\n",
       "    </tr>\n",
       "    <tr>\n",
       "      <th>datetime</th>\n",
       "      <th></th>\n",
       "    </tr>\n",
       "  </thead>\n",
       "  <tbody>\n",
       "    <tr>\n",
       "      <th>2018-03-01 00:00:00</th>\n",
       "      <td>9</td>\n",
       "    </tr>\n",
       "    <tr>\n",
       "      <th>2018-03-01 00:10:00</th>\n",
       "      <td>14</td>\n",
       "    </tr>\n",
       "    <tr>\n",
       "      <th>2018-03-01 00:20:00</th>\n",
       "      <td>28</td>\n",
       "    </tr>\n",
       "    <tr>\n",
       "      <th>2018-03-01 00:30:00</th>\n",
       "      <td>20</td>\n",
       "    </tr>\n",
       "    <tr>\n",
       "      <th>2018-03-01 00:40:00</th>\n",
       "      <td>32</td>\n",
       "    </tr>\n",
       "  </tbody>\n",
       "</table>\n",
       "</div>"
      ],
      "text/plain": [
       "                     num_orders\n",
       "datetime                       \n",
       "2018-03-01 00:00:00           9\n",
       "2018-03-01 00:10:00          14\n",
       "2018-03-01 00:20:00          28\n",
       "2018-03-01 00:30:00          20\n",
       "2018-03-01 00:40:00          32"
      ]
     },
     "execution_count": 8,
     "metadata": {},
     "output_type": "execute_result"
    }
   ],
   "source": [
    "data.head()"
   ]
  },
  {
   "cell_type": "markdown",
   "metadata": {},
   "source": [
    "Данные идут с периодичностью 10 минут."
   ]
  },
  {
   "cell_type": "code",
   "execution_count": 9,
   "metadata": {},
   "outputs": [
    {
     "name": "stdout",
     "output_type": "stream",
     "text": [
      "<class 'pandas.core.frame.DataFrame'>\n",
      "DatetimeIndex: 26496 entries, 2018-03-01 00:00:00 to 2018-08-31 23:50:00\n",
      "Data columns (total 1 columns):\n",
      " #   Column      Non-Null Count  Dtype\n",
      "---  ------      --------------  -----\n",
      " 0   num_orders  26496 non-null  int64\n",
      "dtypes: int64(1)\n",
      "memory usage: 414.0 KB\n"
     ]
    }
   ],
   "source": [
    "data.info()"
   ]
  },
  {
   "cell_type": "code",
   "execution_count": 10,
   "metadata": {},
   "outputs": [
    {
     "data": {
      "text/plain": [
       "array([  9,  14,  28,  20,  32,  21,   7,   5,  17,  12,  19,  25,  22,\n",
       "         8,   6,   4,  10,  13,   2,   3,   0,   1,  11,  15,  16,  23,\n",
       "        18,  33,  24,  26,  30,  38,  34,  42,  31,  27,  36,  29,  35,\n",
       "        56,  37,  40,  39,  45,  49,  58,  68,  43,  53,  44,  41,  52,\n",
       "        46,  57,  47,  64,  61,  50,  48,  55,  62,  54,  71,  78, 119,\n",
       "        99,  51,  60,  87,  90,  94,  82,  80,  91,  76,  66,  65,  98,\n",
       "        81,  95,  67])"
      ]
     },
     "execution_count": 10,
     "metadata": {},
     "output_type": "execute_result"
    }
   ],
   "source": [
    "data['num_orders'].unique()"
   ]
  },
  {
   "cell_type": "markdown",
   "metadata": {},
   "source": [
    "В данных нет выбросов."
   ]
  },
  {
   "cell_type": "markdown",
   "metadata": {},
   "source": [
    "Выполним ресемплирование по одному часу. Чтобы получилось количество заказов в час применим функцию суммы."
   ]
  },
  {
   "cell_type": "code",
   "execution_count": 11,
   "metadata": {},
   "outputs": [],
   "source": [
    "data = data.resample('1H').sum()"
   ]
  },
  {
   "cell_type": "markdown",
   "metadata": {},
   "source": [
    "<b> Вывод: в данных нет ошибок или пропусков, и они идут последовательно."
   ]
  },
  {
   "cell_type": "markdown",
   "metadata": {},
   "source": [
    "## Анализ"
   ]
  },
  {
   "cell_type": "markdown",
   "metadata": {},
   "source": [
    "Данные представленны в период с 01-03-18 по 31-08-18, то есть за полгода."
   ]
  },
  {
   "cell_type": "code",
   "execution_count": 12,
   "metadata": {},
   "outputs": [
    {
     "data": {
      "text/plain": [
       "<AxesSubplot:xlabel='datetime'>"
      ]
     },
     "execution_count": 12,
     "metadata": {},
     "output_type": "execute_result"
    },
    {
     "data": {
      "image/png": "[encoded data removed]",
      "text/plain": [
       "<Figure size 432x288 with 1 Axes>"
      ]
     },
     "metadata": {
      "needs_background": "light"
     },
     "output_type": "display_data"
    }
   ],
   "source": [
    "data.plot()"
   ]
  },
  {
   "cell_type": "code",
   "execution_count": 13,
   "metadata": {},
   "outputs": [],
   "source": [
    "decomposed = seasonal_decompose(data['num_orders'])"
   ]
  },
  {
   "cell_type": "code",
   "execution_count": 14,
   "metadata": {
    "scrolled": true
   },
   "outputs": [
    {
     "data": {
      "text/plain": [
       "[<matplotlib.lines.Line2D at 0x7f3f0abda610>]"
      ]
     },
     "execution_count": 14,
     "metadata": {},
     "output_type": "execute_result"
    },
    {
     "data": {
      "image/png": "[encoded data removed]",
      "text/plain": [
       "<Figure size 1080x360 with 1 Axes>"
      ]
     },
     "metadata": {
      "needs_background": "light"
     },
     "output_type": "display_data"
    }
   ],
   "source": [
    "plt.figure(figsize=[15, 5])\n",
    "plt.plot(decomposed.trend)"
   ]
  },
  {
   "cell_type": "markdown",
   "metadata": {},
   "source": [
    "По графику тренда можно сказать, что среднее количество заказов растет с марта и до конца августа."
   ]
  },
  {
   "cell_type": "code",
   "execution_count": 15,
   "metadata": {},
   "outputs": [
    {
     "data": {
      "text/plain": [
       "[<matplotlib.lines.Line2D at 0x7f3f0a84e6d0>]"
      ]
     },
     "execution_count": 15,
     "metadata": {},
     "output_type": "execute_result"
    },
    {
     "data": {
      "image/png": "[encoded data removed]",
      "text/plain": [
       "<Figure size 1080x360 with 1 Axes>"
      ]
     },
     "metadata": {
      "needs_background": "light"
     },
     "output_type": "display_data"
    }
   ],
   "source": [
    "plt.figure(figsize=[15, 5])\n",
    "plt.plot(decomposed.seasonal)"
   ]
  },
  {
   "cell_type": "markdown",
   "metadata": {},
   "source": [
    "Сезонности нет. Стандартные колебания с определенной закономерностью."
   ]
  },
  {
   "cell_type": "code",
   "execution_count": 16,
   "metadata": {},
   "outputs": [
    {
     "data": {
      "text/plain": [
       "[<matplotlib.lines.Line2D at 0x7f3f0a816fa0>]"
      ]
     },
     "execution_count": 16,
     "metadata": {},
     "output_type": "execute_result"
    },
    {
     "data": {
      "image/png": "[encoded data removed]",
      "text/plain": [
       "<Figure size 1080x360 with 1 Axes>"
      ]
     },
     "metadata": {
      "needs_background": "light"
     },
     "output_type": "display_data"
    }
   ],
   "source": [
    "plt.figure(figsize=[15, 5])\n",
    "plt.plot(decomposed.resid)"
   ]
  },
  {
   "cell_type": "markdown",
   "metadata": {},
   "source": [
    "<b> Вывод: данный временной ряд не обладает сезонность. Среднее количество заказов растет с первой даты до последней."
   ]
  },
  {
   "cell_type": "code",
   "execution_count": 33,
   "metadata": {},
   "outputs": [
    {
     "data": {
      "text/plain": [
       "[<matplotlib.lines.Line2D at 0x7f3f0a537070>]"
      ]
     },
     "execution_count": 33,
     "metadata": {},
     "output_type": "execute_result"
    },
    {
     "data": {
      "image/png": "[encoded data removed]",
      "text/plain": [
       "<Figure size 1080x360 with 1 Axes>"
      ]
     },
     "metadata": {
      "needs_background": "light"
     },
     "output_type": "display_data"
    }
   ],
   "source": [
    "plt.figure(figsize=[15, 5])\n",
    "plt.plot(seasonal_decompose(data['2018-03-01':'2018-03-03']['num_orders']).seasonal)"
   ]
  },
  {
   "cell_type": "markdown",
   "metadata": {},
   "source": [
    "## Обучение"
   ]
  },
  {
   "cell_type": "markdown",
   "metadata": {},
   "source": [
    "Добавим признаки для более точного предсказания."
   ]
  },
  {
   "cell_type": "code",
   "execution_count": 17,
   "metadata": {},
   "outputs": [],
   "source": [
    "def add_features(data, max_lag, rolling_mean_size):    \n",
    "    data['month'] = data.index.month\n",
    "    data['day'] = data.index.day\n",
    "    data['hour'] = data.index.hour\n",
    "    data['dayofweek'] = data.index.dayofweek\n",
    "    for lag in range(1, max_lag+1):\n",
    "          data[f'lag_{lag}'] = data['num_orders'].shift(lag)\n",
    "    data['rolling_mean'] = data['num_orders'].shift().rolling(rolling_mean_size).mean()\n",
    "    return data"
   ]
  },
  {
   "cell_type": "code",
   "execution_count": 18,
   "metadata": {},
   "outputs": [],
   "source": [
    "data = add_features(data, 24, 24)"
   ]
  },
  {
   "cell_type": "markdown",
   "metadata": {},
   "source": [
    "Метрика на тесте должна быть ниже 48, поэтому стоит задать параметр max_lag равным 24 при создании новых признаков функцией. В случае заказов такси самая очевидная сезонность - внутри суток, а в сутках 24 часа, это значение и будет оптимальным"
   ]
  },
  {
   "cell_type": "code",
   "execution_count": 19,
   "metadata": {},
   "outputs": [
    {
     "data": {
      "text/html": [
       "<div>\n",
       "<style scoped>\n",
       "    .dataframe tbody tr th:only-of-type {\n",
       "        vertical-align: middle;\n",
       "    }\n",
       "\n",
       "    .dataframe tbody tr th {\n",
       "        vertical-align: top;\n",
       "    }\n",
       "\n",
       "    .dataframe thead th {\n",
       "        text-align: right;\n",
       "    }\n",
       "</style>\n",
       "<table border=\"1\" class=\"dataframe\">\n",
       "  <thead>\n",
       "    <tr style=\"text-align: right;\">\n",
       "      <th></th>\n",
       "      <th>num_orders</th>\n",
       "      <th>month</th>\n",
       "      <th>day</th>\n",
       "      <th>hour</th>\n",
       "      <th>dayofweek</th>\n",
       "      <th>lag_1</th>\n",
       "      <th>lag_2</th>\n",
       "      <th>lag_3</th>\n",
       "      <th>lag_4</th>\n",
       "      <th>lag_5</th>\n",
       "      <th>...</th>\n",
       "      <th>lag_16</th>\n",
       "      <th>lag_17</th>\n",
       "      <th>lag_18</th>\n",
       "      <th>lag_19</th>\n",
       "      <th>lag_20</th>\n",
       "      <th>lag_21</th>\n",
       "      <th>lag_22</th>\n",
       "      <th>lag_23</th>\n",
       "      <th>lag_24</th>\n",
       "      <th>rolling_mean</th>\n",
       "    </tr>\n",
       "    <tr>\n",
       "      <th>datetime</th>\n",
       "      <th></th>\n",
       "      <th></th>\n",
       "      <th></th>\n",
       "      <th></th>\n",
       "      <th></th>\n",
       "      <th></th>\n",
       "      <th></th>\n",
       "      <th></th>\n",
       "      <th></th>\n",
       "      <th></th>\n",
       "      <th></th>\n",
       "      <th></th>\n",
       "      <th></th>\n",
       "      <th></th>\n",
       "      <th></th>\n",
       "      <th></th>\n",
       "      <th></th>\n",
       "      <th></th>\n",
       "      <th></th>\n",
       "      <th></th>\n",
       "      <th></th>\n",
       "    </tr>\n",
       "  </thead>\n",
       "  <tbody>\n",
       "    <tr>\n",
       "      <th>2018-03-01 00:00:00</th>\n",
       "      <td>124</td>\n",
       "      <td>3</td>\n",
       "      <td>1</td>\n",
       "      <td>0</td>\n",
       "      <td>3</td>\n",
       "      <td>NaN</td>\n",
       "      <td>NaN</td>\n",
       "      <td>NaN</td>\n",
       "      <td>NaN</td>\n",
       "      <td>NaN</td>\n",
       "      <td>...</td>\n",
       "      <td>NaN</td>\n",
       "      <td>NaN</td>\n",
       "      <td>NaN</td>\n",
       "      <td>NaN</td>\n",
       "      <td>NaN</td>\n",
       "      <td>NaN</td>\n",
       "      <td>NaN</td>\n",
       "      <td>NaN</td>\n",
       "      <td>NaN</td>\n",
       "      <td>NaN</td>\n",
       "    </tr>\n",
       "    <tr>\n",
       "      <th>2018-03-01 01:00:00</th>\n",
       "      <td>85</td>\n",
       "      <td>3</td>\n",
       "      <td>1</td>\n",
       "      <td>1</td>\n",
       "      <td>3</td>\n",
       "      <td>124.0</td>\n",
       "      <td>NaN</td>\n",
       "      <td>NaN</td>\n",
       "      <td>NaN</td>\n",
       "      <td>NaN</td>\n",
       "      <td>...</td>\n",
       "      <td>NaN</td>\n",
       "      <td>NaN</td>\n",
       "      <td>NaN</td>\n",
       "      <td>NaN</td>\n",
       "      <td>NaN</td>\n",
       "      <td>NaN</td>\n",
       "      <td>NaN</td>\n",
       "      <td>NaN</td>\n",
       "      <td>NaN</td>\n",
       "      <td>NaN</td>\n",
       "    </tr>\n",
       "    <tr>\n",
       "      <th>2018-03-01 02:00:00</th>\n",
       "      <td>71</td>\n",
       "      <td>3</td>\n",
       "      <td>1</td>\n",
       "      <td>2</td>\n",
       "      <td>3</td>\n",
       "      <td>85.0</td>\n",
       "      <td>124.0</td>\n",
       "      <td>NaN</td>\n",
       "      <td>NaN</td>\n",
       "      <td>NaN</td>\n",
       "      <td>...</td>\n",
       "      <td>NaN</td>\n",
       "      <td>NaN</td>\n",
       "      <td>NaN</td>\n",
       "      <td>NaN</td>\n",
       "      <td>NaN</td>\n",
       "      <td>NaN</td>\n",
       "      <td>NaN</td>\n",
       "      <td>NaN</td>\n",
       "      <td>NaN</td>\n",
       "      <td>NaN</td>\n",
       "    </tr>\n",
       "    <tr>\n",
       "      <th>2018-03-01 03:00:00</th>\n",
       "      <td>66</td>\n",
       "      <td>3</td>\n",
       "      <td>1</td>\n",
       "      <td>3</td>\n",
       "      <td>3</td>\n",
       "      <td>71.0</td>\n",
       "      <td>85.0</td>\n",
       "      <td>124.0</td>\n",
       "      <td>NaN</td>\n",
       "      <td>NaN</td>\n",
       "      <td>...</td>\n",
       "      <td>NaN</td>\n",
       "      <td>NaN</td>\n",
       "      <td>NaN</td>\n",
       "      <td>NaN</td>\n",
       "      <td>NaN</td>\n",
       "      <td>NaN</td>\n",
       "      <td>NaN</td>\n",
       "      <td>NaN</td>\n",
       "      <td>NaN</td>\n",
       "      <td>NaN</td>\n",
       "    </tr>\n",
       "    <tr>\n",
       "      <th>2018-03-01 04:00:00</th>\n",
       "      <td>43</td>\n",
       "      <td>3</td>\n",
       "      <td>1</td>\n",
       "      <td>4</td>\n",
       "      <td>3</td>\n",
       "      <td>66.0</td>\n",
       "      <td>71.0</td>\n",
       "      <td>85.0</td>\n",
       "      <td>124.0</td>\n",
       "      <td>NaN</td>\n",
       "      <td>...</td>\n",
       "      <td>NaN</td>\n",
       "      <td>NaN</td>\n",
       "      <td>NaN</td>\n",
       "      <td>NaN</td>\n",
       "      <td>NaN</td>\n",
       "      <td>NaN</td>\n",
       "      <td>NaN</td>\n",
       "      <td>NaN</td>\n",
       "      <td>NaN</td>\n",
       "      <td>NaN</td>\n",
       "    </tr>\n",
       "  </tbody>\n",
       "</table>\n",
       "<p>5 rows × 30 columns</p>\n",
       "</div>"
      ],
      "text/plain": [
       "                     num_orders  month  day  hour  dayofweek  lag_1  lag_2  \\\n",
       "datetime                                                                     \n",
       "2018-03-01 00:00:00         124      3    1     0          3    NaN    NaN   \n",
       "2018-03-01 01:00:00          85      3    1     1          3  124.0    NaN   \n",
       "2018-03-01 02:00:00          71      3    1     2          3   85.0  124.0   \n",
       "2018-03-01 03:00:00          66      3    1     3          3   71.0   85.0   \n",
       "2018-03-01 04:00:00          43      3    1     4          3   66.0   71.0   \n",
       "\n",
       "                     lag_3  lag_4  lag_5  ...  lag_16  lag_17  lag_18  lag_19  \\\n",
       "datetime                                  ...                                   \n",
       "2018-03-01 00:00:00    NaN    NaN    NaN  ...     NaN     NaN     NaN     NaN   \n",
       "2018-03-01 01:00:00    NaN    NaN    NaN  ...     NaN     NaN     NaN     NaN   \n",
       "2018-03-01 02:00:00    NaN    NaN    NaN  ...     NaN     NaN     NaN     NaN   \n",
       "2018-03-01 03:00:00  124.0    NaN    NaN  ...     NaN     NaN     NaN     NaN   \n",
       "2018-03-01 04:00:00   85.0  124.0    NaN  ...     NaN     NaN     NaN     NaN   \n",
       "\n",
       "                     lag_20  lag_21  lag_22  lag_23  lag_24  rolling_mean  \n",
       "datetime                                                                   \n",
       "2018-03-01 00:00:00     NaN     NaN     NaN     NaN     NaN           NaN  \n",
       "2018-03-01 01:00:00     NaN     NaN     NaN     NaN     NaN           NaN  \n",
       "2018-03-01 02:00:00     NaN     NaN     NaN     NaN     NaN           NaN  \n",
       "2018-03-01 03:00:00     NaN     NaN     NaN     NaN     NaN           NaN  \n",
       "2018-03-01 04:00:00     NaN     NaN     NaN     NaN     NaN           NaN  \n",
       "\n",
       "[5 rows x 30 columns]"
      ]
     },
     "execution_count": 19,
     "metadata": {},
     "output_type": "execute_result"
    }
   ],
   "source": [
    "data.head()"
   ]
  },
  {
   "cell_type": "markdown",
   "metadata": {},
   "source": [
    "Удалим строки с пустыми значениями."
   ]
  },
  {
   "cell_type": "code",
   "execution_count": 20,
   "metadata": {},
   "outputs": [],
   "source": [
    "data = data.dropna()"
   ]
  },
  {
   "cell_type": "code",
   "execution_count": 21,
   "metadata": {},
   "outputs": [],
   "source": [
    "state = RandomState(12345)"
   ]
  },
  {
   "cell_type": "code",
   "execution_count": 22,
   "metadata": {},
   "outputs": [],
   "source": [
    "train, test = train_test_split(data ,shuffle=False, random_state = state, test_size = 0.1)"
   ]
  },
  {
   "cell_type": "code",
   "execution_count": 23,
   "metadata": {},
   "outputs": [
    {
     "name": "stdout",
     "output_type": "stream",
     "text": [
      "3952 440\n"
     ]
    }
   ],
   "source": [
    "print(train.shape[0], test.shape[0])"
   ]
  },
  {
   "cell_type": "code",
   "execution_count": 24,
   "metadata": {},
   "outputs": [],
   "source": [
    "features_train = train.drop('num_orders', axis=1)\n",
    "target_train = train['num_orders']\n",
    "\n",
    "features_test = test.drop('num_orders', axis=1)\n",
    "target_test = test['num_orders']"
   ]
  },
  {
   "cell_type": "code",
   "execution_count": 25,
   "metadata": {},
   "outputs": [],
   "source": [
    "state = RandomState(12345)"
   ]
  },
  {
   "cell_type": "code",
   "execution_count": 26,
   "metadata": {},
   "outputs": [],
   "source": [
    "splits = TimeSeriesSplit(n_splits=9)"
   ]
  },
  {
   "cell_type": "markdown",
   "metadata": {},
   "source": [
    "*RandomForestRegressor*"
   ]
  },
  {
   "cell_type": "code",
   "execution_count": 27,
   "metadata": {},
   "outputs": [
    {
     "name": "stdout",
     "output_type": "stream",
     "text": [
      "{'n_estimators': 110, 'max_depth': 50}\n",
      "24.685494431765978\n",
      "CPU times: user 2min 44s, sys: 312 ms, total: 2min 45s\n",
      "Wall time: 2min 45s\n"
     ]
    }
   ],
   "source": [
    "%%time\n",
    "model_rf = RandomForestRegressor()\n",
    "params = dict(max_depth=[10,50], n_estimators=np.arange(10,150,10))\n",
    "rf = RandomizedSearchCV(model_rf, params, cv=splits, scoring='neg_mean_squared_error', random_state=state)\n",
    "rf.fit(features_train, target_train)\n",
    "rmse = (-rf.best_score_) ** 0.5\n",
    "print(rf.best_params_)\n",
    "print(rmse)"
   ]
  },
  {
   "cell_type": "markdown",
   "metadata": {},
   "source": [
    "*CatBoostRegressor*"
   ]
  },
  {
   "cell_type": "code",
   "execution_count": 28,
   "metadata": {
    "scrolled": true
   },
   "outputs": [
    {
     "name": "stdout",
     "output_type": "stream",
     "text": [
      "\n",
      "bestTest = 34.5718199\n",
      "bestIteration = 267\n",
      "\n",
      "\n",
      "bestTest = 38.47196229\n",
      "bestIteration = 320\n",
      "\n",
      "Training on fold [0/9]\n",
      "\n",
      "bestTest = 20.02044219\n",
      "bestIteration = 256\n",
      "\n",
      "Training on fold [1/9]\n",
      "\n",
      "bestTest = 19.36373578\n",
      "bestIteration = 800\n",
      "\n",
      "Training on fold [2/9]\n",
      "\n",
      "bestTest = 22.13065391\n",
      "bestIteration = 987\n",
      "\n",
      "Training on fold [3/9]\n",
      "\n",
      "bestTest = 22.04467145\n",
      "bestIteration = 956\n",
      "\n",
      "Training on fold [4/9]\n",
      "\n",
      "bestTest = 21.91371924\n",
      "bestIteration = 992\n",
      "\n",
      "Training on fold [5/9]\n",
      "\n",
      "bestTest = 24.04657518\n",
      "bestIteration = 940\n",
      "\n",
      "Training on fold [6/9]\n",
      "\n",
      "bestTest = 23.17636601\n",
      "bestIteration = 957\n",
      "\n",
      "Training on fold [7/9]\n",
      "\n",
      "bestTest = 28.52911063\n",
      "bestIteration = 992\n",
      "\n",
      "Training on fold [8/9]\n",
      "\n",
      "bestTest = 30.43753443\n",
      "bestIteration = 908\n",
      "\n",
      "CPU times: user 1min 26s, sys: 1.33 s, total: 1min 27s\n",
      "Wall time: 1min 31s\n"
     ]
    }
   ],
   "source": [
    "%%time\n",
    "train_pool = Pool(features_train, target_train)\n",
    "cat = CatBoostRegressor(loss_function=\"RMSE\", verbose=False)\n",
    "params = {\"depth\": [5,10]}\n",
    "grid_search_results = cat.grid_search(params, train_pool, cv=splits, verbose=False, plot=False)"
   ]
  },
  {
   "cell_type": "markdown",
   "metadata": {},
   "source": [
    "**Вывод: обучены 2 модели - RandomForest и CatBoost**"
   ]
  },
  {
   "cell_type": "markdown",
   "metadata": {},
   "source": [
    "## Тестирование"
   ]
  },
  {
   "cell_type": "markdown",
   "metadata": {},
   "source": [
    "*RandomForestRegressor*"
   ]
  },
  {
   "cell_type": "code",
   "execution_count": 29,
   "metadata": {},
   "outputs": [
    {
     "name": "stdout",
     "output_type": "stream",
     "text": [
      "RMSE: 42.97369877746343\n"
     ]
    }
   ],
   "source": [
    "model_rf = RandomForestRegressor(max_depth=50, n_estimators=120)\n",
    "model_rf.fit(features_train, target_train)\n",
    "predictions = model_rf.predict(features_test)\n",
    "rmse = mean_squared_error(target_test, predictions, squared=False)\n",
    "print('RMSE:', rmse)"
   ]
  },
  {
   "cell_type": "markdown",
   "metadata": {},
   "source": [
    "RMSE=42.97 < 48"
   ]
  },
  {
   "cell_type": "markdown",
   "metadata": {},
   "source": [
    "CatBoostRegressor"
   ]
  },
  {
   "cell_type": "code",
   "execution_count": 30,
   "metadata": {
    "scrolled": true
   },
   "outputs": [
    {
     "name": "stdout",
     "output_type": "stream",
     "text": [
      "0:\tlearn: 36.8869811\ttotal: 9.48ms\tremaining: 9.47s\n",
      "1:\tlearn: 35.2655869\ttotal: 15.8ms\tremaining: 7.87s\n",
      "2:\tlearn: 33.8728064\ttotal: 22ms\tremaining: 7.3s\n",
      "3:\tlearn: 32.6481322\ttotal: 28ms\tremaining: 6.96s\n",
      "4:\tlearn: 31.5281469\ttotal: 33.9ms\tremaining: 6.75s\n",
      "5:\tlearn: 30.6422049\ttotal: 39.7ms\tremaining: 6.58s\n",
      "6:\tlearn: 29.7951465\ttotal: 45.8ms\tremaining: 6.5s\n",
      "7:\tlearn: 29.0300129\ttotal: 51.6ms\tremaining: 6.39s\n",
      "8:\tlearn: 28.2738472\ttotal: 57.2ms\tremaining: 6.3s\n",
      "9:\tlearn: 27.6489335\ttotal: 63.2ms\tremaining: 6.26s\n",
      "10:\tlearn: 27.1448028\ttotal: 69.1ms\tremaining: 6.21s\n",
      "11:\tlearn: 26.6724105\ttotal: 74.8ms\tremaining: 6.16s\n",
      "12:\tlearn: 26.3739046\ttotal: 80.7ms\tremaining: 6.13s\n",
      "13:\tlearn: 25.9688211\ttotal: 86.4ms\tremaining: 6.09s\n",
      "14:\tlearn: 25.6275579\ttotal: 92.3ms\tremaining: 6.06s\n",
      "15:\tlearn: 25.3479873\ttotal: 98.2ms\tremaining: 6.04s\n",
      "16:\tlearn: 25.0674113\ttotal: 104ms\tremaining: 6.01s\n",
      "17:\tlearn: 24.8299179\ttotal: 110ms\tremaining: 6s\n",
      "18:\tlearn: 24.5721573\ttotal: 115ms\tremaining: 5.96s\n",
      "19:\tlearn: 24.3511984\ttotal: 121ms\tremaining: 5.94s\n",
      "20:\tlearn: 24.1683944\ttotal: 127ms\tremaining: 5.92s\n",
      "21:\tlearn: 23.9488859\ttotal: 133ms\tremaining: 5.9s\n",
      "22:\tlearn: 23.7563802\ttotal: 138ms\tremaining: 5.88s\n",
      "23:\tlearn: 23.6317392\ttotal: 144ms\tremaining: 5.85s\n",
      "24:\tlearn: 23.5286095\ttotal: 149ms\tremaining: 5.82s\n",
      "25:\tlearn: 23.4228790\ttotal: 155ms\tremaining: 5.8s\n",
      "26:\tlearn: 23.2384479\ttotal: 160ms\tremaining: 5.78s\n",
      "27:\tlearn: 23.1303965\ttotal: 166ms\tremaining: 5.76s\n",
      "28:\tlearn: 23.1111125\ttotal: 171ms\tremaining: 5.74s\n",
      "29:\tlearn: 23.0291571\ttotal: 177ms\tremaining: 5.71s\n",
      "30:\tlearn: 22.9360127\ttotal: 182ms\tremaining: 5.69s\n",
      "31:\tlearn: 22.8322017\ttotal: 187ms\tremaining: 5.67s\n",
      "32:\tlearn: 22.7463567\ttotal: 193ms\tremaining: 5.66s\n",
      "33:\tlearn: 22.6794280\ttotal: 199ms\tremaining: 5.66s\n",
      "34:\tlearn: 22.5996669\ttotal: 205ms\tremaining: 5.65s\n",
      "35:\tlearn: 22.5166056\ttotal: 211ms\tremaining: 5.64s\n",
      "36:\tlearn: 22.4411344\ttotal: 217ms\tremaining: 5.64s\n",
      "37:\tlearn: 22.4197400\ttotal: 222ms\tremaining: 5.62s\n",
      "38:\tlearn: 22.4054274\ttotal: 228ms\tremaining: 5.61s\n",
      "39:\tlearn: 22.2971217\ttotal: 233ms\tremaining: 5.59s\n",
      "40:\tlearn: 22.2305435\ttotal: 239ms\tremaining: 5.58s\n",
      "41:\tlearn: 22.1803597\ttotal: 244ms\tremaining: 5.57s\n",
      "42:\tlearn: 22.1241984\ttotal: 249ms\tremaining: 5.55s\n",
      "43:\tlearn: 22.1053123\ttotal: 254ms\tremaining: 5.53s\n",
      "44:\tlearn: 22.0344443\ttotal: 260ms\tremaining: 5.51s\n",
      "45:\tlearn: 21.9623043\ttotal: 265ms\tremaining: 5.5s\n",
      "46:\tlearn: 21.9221983\ttotal: 271ms\tremaining: 5.49s\n",
      "47:\tlearn: 21.8847694\ttotal: 278ms\tremaining: 5.51s\n",
      "48:\tlearn: 21.7928231\ttotal: 283ms\tremaining: 5.5s\n",
      "49:\tlearn: 21.7464107\ttotal: 289ms\tremaining: 5.49s\n",
      "50:\tlearn: 21.7061611\ttotal: 295ms\tremaining: 5.48s\n",
      "51:\tlearn: 21.6743999\ttotal: 301ms\tremaining: 5.49s\n",
      "52:\tlearn: 21.6206499\ttotal: 307ms\tremaining: 5.48s\n",
      "53:\tlearn: 21.5604753\ttotal: 312ms\tremaining: 5.47s\n",
      "54:\tlearn: 21.5194071\ttotal: 318ms\tremaining: 5.46s\n",
      "55:\tlearn: 21.4827223\ttotal: 324ms\tremaining: 5.46s\n",
      "56:\tlearn: 21.4557986\ttotal: 329ms\tremaining: 5.45s\n",
      "57:\tlearn: 21.4384598\ttotal: 335ms\tremaining: 5.44s\n",
      "58:\tlearn: 21.4001899\ttotal: 340ms\tremaining: 5.43s\n",
      "59:\tlearn: 21.3715871\ttotal: 346ms\tremaining: 5.42s\n",
      "60:\tlearn: 21.3236392\ttotal: 352ms\tremaining: 5.42s\n",
      "61:\tlearn: 21.2730676\ttotal: 359ms\tremaining: 5.44s\n",
      "62:\tlearn: 21.2337081\ttotal: 365ms\tremaining: 5.43s\n",
      "63:\tlearn: 21.2114308\ttotal: 371ms\tremaining: 5.42s\n",
      "64:\tlearn: 21.1931794\ttotal: 376ms\tremaining: 5.41s\n",
      "65:\tlearn: 21.1857784\ttotal: 381ms\tremaining: 5.4s\n",
      "66:\tlearn: 21.1613754\ttotal: 387ms\tremaining: 5.39s\n",
      "67:\tlearn: 21.1395453\ttotal: 393ms\tremaining: 5.38s\n",
      "68:\tlearn: 21.0708454\ttotal: 399ms\tremaining: 5.38s\n",
      "69:\tlearn: 21.0129837\ttotal: 405ms\tremaining: 5.38s\n",
      "70:\tlearn: 20.9803250\ttotal: 411ms\tremaining: 5.37s\n",
      "71:\tlearn: 20.9483256\ttotal: 417ms\tremaining: 5.37s\n",
      "72:\tlearn: 20.8454689\ttotal: 422ms\tremaining: 5.36s\n",
      "73:\tlearn: 20.7928910\ttotal: 428ms\tremaining: 5.36s\n",
      "74:\tlearn: 20.7195256\ttotal: 434ms\tremaining: 5.35s\n",
      "75:\tlearn: 20.6515952\ttotal: 439ms\tremaining: 5.34s\n",
      "76:\tlearn: 20.5943868\ttotal: 446ms\tremaining: 5.34s\n",
      "77:\tlearn: 20.5874202\ttotal: 451ms\tremaining: 5.33s\n",
      "78:\tlearn: 20.5437318\ttotal: 459ms\tremaining: 5.34s\n",
      "79:\tlearn: 20.4920808\ttotal: 467ms\tremaining: 5.37s\n",
      "80:\tlearn: 20.4413670\ttotal: 474ms\tremaining: 5.38s\n",
      "81:\tlearn: 20.3786350\ttotal: 480ms\tremaining: 5.38s\n",
      "82:\tlearn: 20.3097570\ttotal: 486ms\tremaining: 5.37s\n",
      "83:\tlearn: 20.2653011\ttotal: 495ms\tremaining: 5.39s\n",
      "84:\tlearn: 20.2260083\ttotal: 504ms\tremaining: 5.42s\n",
      "85:\tlearn: 20.1938262\ttotal: 511ms\tremaining: 5.43s\n",
      "86:\tlearn: 20.1424178\ttotal: 517ms\tremaining: 5.43s\n",
      "87:\tlearn: 20.1039021\ttotal: 523ms\tremaining: 5.42s\n",
      "88:\tlearn: 20.0708392\ttotal: 529ms\tremaining: 5.41s\n",
      "89:\tlearn: 20.0067695\ttotal: 535ms\tremaining: 5.41s\n",
      "90:\tlearn: 19.9646856\ttotal: 541ms\tremaining: 5.41s\n",
      "91:\tlearn: 19.9194931\ttotal: 548ms\tremaining: 5.41s\n",
      "92:\tlearn: 19.9149577\ttotal: 554ms\tremaining: 5.4s\n",
      "93:\tlearn: 19.8666863\ttotal: 560ms\tremaining: 5.4s\n",
      "94:\tlearn: 19.8252529\ttotal: 567ms\tremaining: 5.4s\n",
      "95:\tlearn: 19.8067083\ttotal: 573ms\tremaining: 5.39s\n",
      "96:\tlearn: 19.7963649\ttotal: 579ms\tremaining: 5.39s\n",
      "97:\tlearn: 19.7681933\ttotal: 585ms\tremaining: 5.38s\n",
      "98:\tlearn: 19.7292913\ttotal: 592ms\tremaining: 5.38s\n",
      "99:\tlearn: 19.6922286\ttotal: 598ms\tremaining: 5.38s\n",
      "100:\tlearn: 19.6880335\ttotal: 604ms\tremaining: 5.38s\n",
      "101:\tlearn: 19.6842903\ttotal: 611ms\tremaining: 5.38s\n",
      "102:\tlearn: 19.6548432\ttotal: 618ms\tremaining: 5.38s\n",
      "103:\tlearn: 19.5999651\ttotal: 624ms\tremaining: 5.38s\n",
      "104:\tlearn: 19.5477234\ttotal: 631ms\tremaining: 5.38s\n",
      "105:\tlearn: 19.4857035\ttotal: 637ms\tremaining: 5.37s\n",
      "106:\tlearn: 19.4392279\ttotal: 644ms\tremaining: 5.37s\n",
      "107:\tlearn: 19.4132479\ttotal: 650ms\tremaining: 5.37s\n",
      "108:\tlearn: 19.4098063\ttotal: 656ms\tremaining: 5.37s\n",
      "109:\tlearn: 19.3591538\ttotal: 663ms\tremaining: 5.36s\n",
      "110:\tlearn: 19.3176989\ttotal: 670ms\tremaining: 5.36s\n",
      "111:\tlearn: 19.2840194\ttotal: 676ms\tremaining: 5.36s\n",
      "112:\tlearn: 19.2229832\ttotal: 682ms\tremaining: 5.35s\n",
      "113:\tlearn: 19.1870672\ttotal: 688ms\tremaining: 5.35s\n",
      "114:\tlearn: 19.1836470\ttotal: 695ms\tremaining: 5.35s\n",
      "115:\tlearn: 19.1352802\ttotal: 701ms\tremaining: 5.34s\n",
      "116:\tlearn: 19.0885295\ttotal: 708ms\tremaining: 5.34s\n",
      "117:\tlearn: 19.0580021\ttotal: 714ms\tremaining: 5.33s\n",
      "118:\tlearn: 19.0130231\ttotal: 720ms\tremaining: 5.33s\n",
      "119:\tlearn: 18.9687625\ttotal: 726ms\tremaining: 5.33s\n",
      "120:\tlearn: 18.9198378\ttotal: 732ms\tremaining: 5.32s\n",
      "121:\tlearn: 18.8773162\ttotal: 738ms\tremaining: 5.31s\n",
      "122:\tlearn: 18.8345275\ttotal: 744ms\tremaining: 5.3s\n",
      "123:\tlearn: 18.7957077\ttotal: 750ms\tremaining: 5.3s\n",
      "124:\tlearn: 18.7927801\ttotal: 756ms\tremaining: 5.29s\n",
      "125:\tlearn: 18.7362676\ttotal: 764ms\tremaining: 5.3s\n",
      "126:\tlearn: 18.6948643\ttotal: 770ms\tremaining: 5.29s\n",
      "127:\tlearn: 18.6614488\ttotal: 776ms\tremaining: 5.29s\n",
      "128:\tlearn: 18.6235724\ttotal: 782ms\tremaining: 5.28s\n",
      "129:\tlearn: 18.5922446\ttotal: 787ms\tremaining: 5.27s\n",
      "130:\tlearn: 18.5525113\ttotal: 793ms\tremaining: 5.26s\n",
      "131:\tlearn: 18.5105793\ttotal: 799ms\tremaining: 5.25s\n",
      "132:\tlearn: 18.4909885\ttotal: 804ms\tremaining: 5.24s\n",
      "133:\tlearn: 18.4314288\ttotal: 810ms\tremaining: 5.24s\n",
      "134:\tlearn: 18.4287384\ttotal: 817ms\tremaining: 5.23s\n",
      "135:\tlearn: 18.3805979\ttotal: 823ms\tremaining: 5.23s\n",
      "136:\tlearn: 18.3347582\ttotal: 829ms\tremaining: 5.22s\n",
      "137:\tlearn: 18.2865583\ttotal: 835ms\tremaining: 5.21s\n",
      "138:\tlearn: 18.2628107\ttotal: 841ms\tremaining: 5.21s\n",
      "139:\tlearn: 18.2386978\ttotal: 847ms\tremaining: 5.2s\n",
      "140:\tlearn: 18.2077544\ttotal: 853ms\tremaining: 5.2s\n",
      "141:\tlearn: 18.1563347\ttotal: 859ms\tremaining: 5.19s\n",
      "142:\tlearn: 18.1362360\ttotal: 864ms\tremaining: 5.18s\n",
      "143:\tlearn: 18.1042435\ttotal: 871ms\tremaining: 5.18s\n",
      "144:\tlearn: 18.0475898\ttotal: 877ms\tremaining: 5.17s\n",
      "145:\tlearn: 17.9941786\ttotal: 883ms\tremaining: 5.17s\n",
      "146:\tlearn: 17.9657836\ttotal: 889ms\tremaining: 5.16s\n",
      "147:\tlearn: 17.9201084\ttotal: 895ms\tremaining: 5.15s\n",
      "148:\tlearn: 17.8759206\ttotal: 901ms\tremaining: 5.14s\n",
      "149:\tlearn: 17.8698137\ttotal: 906ms\tremaining: 5.13s\n",
      "150:\tlearn: 17.8675808\ttotal: 911ms\tremaining: 5.12s\n",
      "151:\tlearn: 17.8230838\ttotal: 916ms\tremaining: 5.11s\n",
      "152:\tlearn: 17.8011877\ttotal: 922ms\tremaining: 5.1s\n",
      "153:\tlearn: 17.7593717\ttotal: 928ms\tremaining: 5.1s\n",
      "154:\tlearn: 17.7170449\ttotal: 934ms\tremaining: 5.09s\n",
      "155:\tlearn: 17.6946744\ttotal: 939ms\tremaining: 5.08s\n",
      "156:\tlearn: 17.6859781\ttotal: 945ms\tremaining: 5.07s\n",
      "157:\tlearn: 17.6455889\ttotal: 950ms\tremaining: 5.06s\n",
      "158:\tlearn: 17.6153906\ttotal: 956ms\tremaining: 5.06s\n",
      "159:\tlearn: 17.5751209\ttotal: 962ms\tremaining: 5.05s\n",
      "160:\tlearn: 17.5442934\ttotal: 968ms\tremaining: 5.04s\n",
      "161:\tlearn: 17.5140786\ttotal: 974ms\tremaining: 5.04s\n",
      "162:\tlearn: 17.4732113\ttotal: 979ms\tremaining: 5.03s\n",
      "163:\tlearn: 17.4500618\ttotal: 985ms\tremaining: 5.02s\n",
      "164:\tlearn: 17.4159514\ttotal: 991ms\tremaining: 5.02s\n",
      "165:\tlearn: 17.3708251\ttotal: 998ms\tremaining: 5.01s\n",
      "166:\tlearn: 17.3361489\ttotal: 1.01s\tremaining: 5.02s\n",
      "167:\tlearn: 17.3041468\ttotal: 1.01s\tremaining: 5.01s\n",
      "168:\tlearn: 17.2743915\ttotal: 1.02s\tremaining: 5.01s\n",
      "169:\tlearn: 17.2460157\ttotal: 1.02s\tremaining: 5s\n",
      "170:\tlearn: 17.2206529\ttotal: 1.03s\tremaining: 5s\n",
      "171:\tlearn: 17.1820637\ttotal: 1.04s\tremaining: 4.99s\n",
      "172:\tlearn: 17.1438553\ttotal: 1.04s\tremaining: 4.99s\n",
      "173:\tlearn: 17.0916243\ttotal: 1.05s\tremaining: 4.98s\n",
      "174:\tlearn: 17.0603805\ttotal: 1.05s\tremaining: 4.97s\n",
      "175:\tlearn: 17.0238945\ttotal: 1.06s\tremaining: 4.97s\n",
      "176:\tlearn: 16.9863918\ttotal: 1.07s\tremaining: 4.96s\n",
      "177:\tlearn: 16.9682796\ttotal: 1.07s\tremaining: 4.96s\n",
      "178:\tlearn: 16.9386652\ttotal: 1.08s\tremaining: 4.95s\n",
      "179:\tlearn: 16.8954948\ttotal: 1.08s\tremaining: 4.95s\n",
      "180:\tlearn: 16.8676265\ttotal: 1.09s\tremaining: 4.94s\n",
      "181:\tlearn: 16.8375648\ttotal: 1.1s\tremaining: 4.93s\n",
      "182:\tlearn: 16.8006395\ttotal: 1.1s\tremaining: 4.93s\n",
      "183:\tlearn: 16.7672653\ttotal: 1.11s\tremaining: 4.92s\n",
      "184:\tlearn: 16.7395444\ttotal: 1.12s\tremaining: 4.92s\n",
      "185:\tlearn: 16.7224488\ttotal: 1.12s\tremaining: 4.92s\n",
      "186:\tlearn: 16.6960080\ttotal: 1.13s\tremaining: 4.91s\n",
      "187:\tlearn: 16.6667418\ttotal: 1.14s\tremaining: 4.9s\n",
      "188:\tlearn: 16.6372242\ttotal: 1.14s\tremaining: 4.9s\n",
      "189:\tlearn: 16.6353766\ttotal: 1.15s\tremaining: 4.89s\n",
      "190:\tlearn: 16.6168650\ttotal: 1.15s\tremaining: 4.88s\n",
      "191:\tlearn: 16.5969365\ttotal: 1.16s\tremaining: 4.88s\n",
      "192:\tlearn: 16.5603542\ttotal: 1.17s\tremaining: 4.87s\n",
      "193:\tlearn: 16.5364795\ttotal: 1.17s\tremaining: 4.87s\n",
      "194:\tlearn: 16.5052372\ttotal: 1.18s\tremaining: 4.86s\n",
      "195:\tlearn: 16.4644164\ttotal: 1.18s\tremaining: 4.86s\n",
      "196:\tlearn: 16.4401978\ttotal: 1.19s\tremaining: 4.85s\n",
      "197:\tlearn: 16.4120200\ttotal: 1.2s\tremaining: 4.85s\n",
      "198:\tlearn: 16.3921494\ttotal: 1.2s\tremaining: 4.84s\n",
      "199:\tlearn: 16.3531161\ttotal: 1.21s\tremaining: 4.83s\n",
      "200:\tlearn: 16.3514514\ttotal: 1.21s\tremaining: 4.83s\n",
      "201:\tlearn: 16.3015778\ttotal: 1.22s\tremaining: 4.82s\n",
      "202:\tlearn: 16.2750147\ttotal: 1.23s\tremaining: 4.81s\n",
      "203:\tlearn: 16.2539780\ttotal: 1.23s\tremaining: 4.81s\n",
      "204:\tlearn: 16.2338796\ttotal: 1.24s\tremaining: 4.8s\n",
      "205:\tlearn: 16.2321837\ttotal: 1.24s\tremaining: 4.79s\n",
      "206:\tlearn: 16.2051626\ttotal: 1.25s\tremaining: 4.79s\n",
      "207:\tlearn: 16.1926914\ttotal: 1.26s\tremaining: 4.78s\n",
      "208:\tlearn: 16.1726069\ttotal: 1.26s\tremaining: 4.78s\n",
      "209:\tlearn: 16.1386582\ttotal: 1.27s\tremaining: 4.77s\n",
      "210:\tlearn: 16.1190870\ttotal: 1.27s\tremaining: 4.76s\n",
      "211:\tlearn: 16.1054753\ttotal: 1.28s\tremaining: 4.76s\n",
      "212:\tlearn: 16.0859616\ttotal: 1.29s\tremaining: 4.75s\n",
      "213:\tlearn: 16.0485329\ttotal: 1.29s\tremaining: 4.75s\n",
      "214:\tlearn: 16.0161997\ttotal: 1.3s\tremaining: 4.74s\n",
      "215:\tlearn: 15.9743361\ttotal: 1.3s\tremaining: 4.74s\n",
      "216:\tlearn: 15.9541924\ttotal: 1.31s\tremaining: 4.73s\n",
      "217:\tlearn: 15.9334286\ttotal: 1.32s\tremaining: 4.72s\n",
      "218:\tlearn: 15.8979320\ttotal: 1.32s\tremaining: 4.72s\n",
      "219:\tlearn: 15.8635920\ttotal: 1.33s\tremaining: 4.71s\n",
      "220:\tlearn: 15.8305804\ttotal: 1.33s\tremaining: 4.71s\n",
      "221:\tlearn: 15.7958861\ttotal: 1.34s\tremaining: 4.7s\n",
      "222:\tlearn: 15.7748706\ttotal: 1.35s\tremaining: 4.69s\n",
      "223:\tlearn: 15.7450045\ttotal: 1.35s\tremaining: 4.69s\n",
      "224:\tlearn: 15.7252812\ttotal: 1.36s\tremaining: 4.68s\n",
      "225:\tlearn: 15.6904926\ttotal: 1.36s\tremaining: 4.68s\n",
      "226:\tlearn: 15.6520010\ttotal: 1.37s\tremaining: 4.67s\n",
      "227:\tlearn: 15.6300190\ttotal: 1.38s\tremaining: 4.67s\n",
      "228:\tlearn: 15.5932008\ttotal: 1.39s\tremaining: 4.67s\n",
      "229:\tlearn: 15.5597519\ttotal: 1.39s\tremaining: 4.66s\n",
      "230:\tlearn: 15.5247577\ttotal: 1.4s\tremaining: 4.66s\n",
      "231:\tlearn: 15.5057113\ttotal: 1.41s\tremaining: 4.66s\n",
      "232:\tlearn: 15.4795218\ttotal: 1.41s\tremaining: 4.65s\n",
      "233:\tlearn: 15.4613143\ttotal: 1.42s\tremaining: 4.64s\n",
      "234:\tlearn: 15.4419169\ttotal: 1.43s\tremaining: 4.64s\n",
      "235:\tlearn: 15.4127284\ttotal: 1.43s\tremaining: 4.63s\n",
      "236:\tlearn: 15.3874487\ttotal: 1.44s\tremaining: 4.63s\n",
      "237:\tlearn: 15.3860100\ttotal: 1.44s\tremaining: 4.62s\n",
      "238:\tlearn: 15.3610428\ttotal: 1.45s\tremaining: 4.62s\n",
      "239:\tlearn: 15.3511576\ttotal: 1.46s\tremaining: 4.61s\n",
      "240:\tlearn: 15.3455210\ttotal: 1.46s\tremaining: 4.6s\n",
      "241:\tlearn: 15.3198855\ttotal: 1.47s\tremaining: 4.6s\n",
      "242:\tlearn: 15.2870740\ttotal: 1.47s\tremaining: 4.59s\n",
      "243:\tlearn: 15.2643131\ttotal: 1.48s\tremaining: 4.58s\n",
      "244:\tlearn: 15.2454521\ttotal: 1.49s\tremaining: 4.58s\n",
      "245:\tlearn: 15.2132358\ttotal: 1.49s\tremaining: 4.57s\n",
      "246:\tlearn: 15.1872121\ttotal: 1.5s\tremaining: 4.57s\n",
      "247:\tlearn: 15.1799112\ttotal: 1.5s\tremaining: 4.56s\n",
      "248:\tlearn: 15.1762254\ttotal: 1.51s\tremaining: 4.55s\n",
      "249:\tlearn: 15.1510771\ttotal: 1.52s\tremaining: 4.55s\n",
      "250:\tlearn: 15.1251309\ttotal: 1.52s\tremaining: 4.54s\n",
      "251:\tlearn: 15.1153315\ttotal: 1.53s\tremaining: 4.54s\n",
      "252:\tlearn: 15.0945647\ttotal: 1.53s\tremaining: 4.53s\n",
      "253:\tlearn: 15.0708732\ttotal: 1.54s\tremaining: 4.53s\n",
      "254:\tlearn: 15.0440696\ttotal: 1.55s\tremaining: 4.52s\n",
      "255:\tlearn: 15.0156502\ttotal: 1.55s\tremaining: 4.51s\n",
      "256:\tlearn: 14.9790844\ttotal: 1.56s\tremaining: 4.51s\n",
      "257:\tlearn: 14.9546365\ttotal: 1.56s\tremaining: 4.5s\n",
      "258:\tlearn: 14.9378755\ttotal: 1.57s\tremaining: 4.5s\n",
      "259:\tlearn: 14.9085957\ttotal: 1.58s\tremaining: 4.49s\n",
      "260:\tlearn: 14.8720510\ttotal: 1.58s\tremaining: 4.48s\n",
      "261:\tlearn: 14.8471851\ttotal: 1.59s\tremaining: 4.48s\n",
      "262:\tlearn: 14.8211557\ttotal: 1.6s\tremaining: 4.47s\n",
      "263:\tlearn: 14.7872760\ttotal: 1.6s\tremaining: 4.47s\n",
      "264:\tlearn: 14.7727478\ttotal: 1.61s\tremaining: 4.46s\n",
      "265:\tlearn: 14.7426160\ttotal: 1.61s\tremaining: 4.46s\n",
      "266:\tlearn: 14.7234007\ttotal: 1.62s\tremaining: 4.45s\n",
      "267:\tlearn: 14.7063436\ttotal: 1.63s\tremaining: 4.45s\n",
      "268:\tlearn: 14.6843001\ttotal: 1.63s\tremaining: 4.44s\n",
      "269:\tlearn: 14.6566487\ttotal: 1.64s\tremaining: 4.43s\n",
      "270:\tlearn: 14.6401152\ttotal: 1.65s\tremaining: 4.43s\n",
      "271:\tlearn: 14.6190463\ttotal: 1.65s\tremaining: 4.42s\n",
      "272:\tlearn: 14.5895220\ttotal: 1.66s\tremaining: 4.42s\n",
      "273:\tlearn: 14.5638692\ttotal: 1.66s\tremaining: 4.41s\n",
      "274:\tlearn: 14.5415059\ttotal: 1.67s\tremaining: 4.41s\n",
      "275:\tlearn: 14.5093161\ttotal: 1.68s\tremaining: 4.4s\n",
      "276:\tlearn: 14.4949341\ttotal: 1.68s\tremaining: 4.39s\n",
      "277:\tlearn: 14.4937200\ttotal: 1.69s\tremaining: 4.39s\n",
      "278:\tlearn: 14.4914458\ttotal: 1.7s\tremaining: 4.38s\n",
      "279:\tlearn: 14.4685725\ttotal: 1.7s\tremaining: 4.38s\n",
      "280:\tlearn: 14.4382379\ttotal: 1.71s\tremaining: 4.37s\n",
      "281:\tlearn: 14.4172680\ttotal: 1.71s\tremaining: 4.36s\n",
      "282:\tlearn: 14.3818401\ttotal: 1.72s\tremaining: 4.36s\n",
      "283:\tlearn: 14.3516647\ttotal: 1.73s\tremaining: 4.35s\n",
      "284:\tlearn: 14.3314845\ttotal: 1.73s\tremaining: 4.34s\n",
      "285:\tlearn: 14.3010583\ttotal: 1.74s\tremaining: 4.34s\n",
      "286:\tlearn: 14.2628467\ttotal: 1.74s\tremaining: 4.33s\n",
      "287:\tlearn: 14.2617445\ttotal: 1.75s\tremaining: 4.33s\n",
      "288:\tlearn: 14.2407600\ttotal: 1.76s\tremaining: 4.32s\n",
      "289:\tlearn: 14.2262399\ttotal: 1.76s\tremaining: 4.32s\n",
      "290:\tlearn: 14.2039691\ttotal: 1.77s\tremaining: 4.31s\n",
      "291:\tlearn: 14.1945638\ttotal: 1.77s\tremaining: 4.3s\n",
      "292:\tlearn: 14.1864485\ttotal: 1.78s\tremaining: 4.3s\n",
      "293:\tlearn: 14.1638023\ttotal: 1.79s\tremaining: 4.29s\n",
      "294:\tlearn: 14.1391240\ttotal: 1.79s\tremaining: 4.29s\n",
      "295:\tlearn: 14.1184181\ttotal: 1.8s\tremaining: 4.28s\n",
      "296:\tlearn: 14.1031367\ttotal: 1.8s\tremaining: 4.27s\n",
      "297:\tlearn: 14.0848071\ttotal: 1.81s\tremaining: 4.27s\n",
      "298:\tlearn: 14.0826453\ttotal: 1.82s\tremaining: 4.26s\n",
      "299:\tlearn: 14.0635967\ttotal: 1.82s\tremaining: 4.25s\n",
      "300:\tlearn: 14.0357079\ttotal: 1.83s\tremaining: 4.25s\n",
      "301:\tlearn: 14.0228971\ttotal: 1.84s\tremaining: 4.24s\n",
      "302:\tlearn: 14.0198926\ttotal: 1.84s\tremaining: 4.24s\n",
      "303:\tlearn: 13.9948311\ttotal: 1.85s\tremaining: 4.23s\n",
      "304:\tlearn: 13.9690255\ttotal: 1.85s\tremaining: 4.22s\n",
      "305:\tlearn: 13.9431250\ttotal: 1.86s\tremaining: 4.22s\n",
      "306:\tlearn: 13.9201707\ttotal: 1.87s\tremaining: 4.21s\n",
      "307:\tlearn: 13.9045495\ttotal: 1.87s\tremaining: 4.21s\n",
      "308:\tlearn: 13.8854681\ttotal: 1.88s\tremaining: 4.2s\n",
      "309:\tlearn: 13.8655730\ttotal: 1.89s\tremaining: 4.2s\n",
      "310:\tlearn: 13.8437559\ttotal: 1.89s\tremaining: 4.19s\n",
      "311:\tlearn: 13.8212812\ttotal: 1.9s\tremaining: 4.18s\n",
      "312:\tlearn: 13.8013452\ttotal: 1.9s\tremaining: 4.18s\n",
      "313:\tlearn: 13.7990104\ttotal: 1.91s\tremaining: 4.17s\n",
      "314:\tlearn: 13.7719083\ttotal: 1.92s\tremaining: 4.17s\n",
      "315:\tlearn: 13.7612442\ttotal: 1.92s\tremaining: 4.16s\n",
      "316:\tlearn: 13.7408735\ttotal: 1.93s\tremaining: 4.15s\n",
      "317:\tlearn: 13.7122143\ttotal: 1.93s\tremaining: 4.15s\n",
      "318:\tlearn: 13.6861200\ttotal: 1.94s\tremaining: 4.14s\n",
      "319:\tlearn: 13.6676040\ttotal: 1.95s\tremaining: 4.14s\n",
      "320:\tlearn: 13.6501327\ttotal: 1.95s\tremaining: 4.13s\n",
      "321:\tlearn: 13.6236904\ttotal: 1.96s\tremaining: 4.12s\n",
      "322:\tlearn: 13.6063491\ttotal: 1.96s\tremaining: 4.12s\n",
      "323:\tlearn: 13.5899127\ttotal: 1.97s\tremaining: 4.11s\n",
      "324:\tlearn: 13.5875500\ttotal: 1.98s\tremaining: 4.11s\n",
      "325:\tlearn: 13.5697119\ttotal: 1.98s\tremaining: 4.1s\n",
      "326:\tlearn: 13.5574045\ttotal: 1.99s\tremaining: 4.09s\n",
      "327:\tlearn: 13.5319005\ttotal: 1.99s\tremaining: 4.08s\n",
      "328:\tlearn: 13.5194536\ttotal: 2s\tremaining: 4.08s\n",
      "329:\tlearn: 13.5106828\ttotal: 2s\tremaining: 4.07s\n",
      "330:\tlearn: 13.4937026\ttotal: 2.01s\tremaining: 4.06s\n",
      "331:\tlearn: 13.4824841\ttotal: 2.02s\tremaining: 4.06s\n",
      "332:\tlearn: 13.4603315\ttotal: 2.02s\tremaining: 4.05s\n",
      "333:\tlearn: 13.4430528\ttotal: 2.03s\tremaining: 4.04s\n",
      "334:\tlearn: 13.4193530\ttotal: 2.03s\tremaining: 4.04s\n",
      "335:\tlearn: 13.3985437\ttotal: 2.04s\tremaining: 4.03s\n",
      "336:\tlearn: 13.3758383\ttotal: 2.05s\tremaining: 4.03s\n",
      "337:\tlearn: 13.3646732\ttotal: 2.05s\tremaining: 4.02s\n",
      "338:\tlearn: 13.3496498\ttotal: 2.06s\tremaining: 4.01s\n",
      "339:\tlearn: 13.3269210\ttotal: 2.06s\tremaining: 4.01s\n",
      "340:\tlearn: 13.3151246\ttotal: 2.07s\tremaining: 4s\n",
      "341:\tlearn: 13.3009362\ttotal: 2.08s\tremaining: 4s\n",
      "342:\tlearn: 13.2767871\ttotal: 2.08s\tremaining: 3.99s\n",
      "343:\tlearn: 13.2606570\ttotal: 2.09s\tremaining: 3.98s\n",
      "344:\tlearn: 13.2443563\ttotal: 2.1s\tremaining: 3.98s\n",
      "345:\tlearn: 13.2229190\ttotal: 2.1s\tremaining: 3.97s\n",
      "346:\tlearn: 13.2147219\ttotal: 2.11s\tremaining: 3.97s\n",
      "347:\tlearn: 13.2137850\ttotal: 2.11s\tremaining: 3.96s\n",
      "348:\tlearn: 13.1990212\ttotal: 2.12s\tremaining: 3.95s\n",
      "349:\tlearn: 13.1811009\ttotal: 2.12s\tremaining: 3.95s\n",
      "350:\tlearn: 13.1554754\ttotal: 2.13s\tremaining: 3.94s\n",
      "351:\tlearn: 13.1300857\ttotal: 2.14s\tremaining: 3.93s\n",
      "352:\tlearn: 13.1249564\ttotal: 2.14s\tremaining: 3.93s\n",
      "353:\tlearn: 13.1103209\ttotal: 2.15s\tremaining: 3.92s\n",
      "354:\tlearn: 13.0828042\ttotal: 2.15s\tremaining: 3.91s\n",
      "355:\tlearn: 13.0721109\ttotal: 2.16s\tremaining: 3.91s\n",
      "356:\tlearn: 13.0507302\ttotal: 2.17s\tremaining: 3.9s\n",
      "357:\tlearn: 13.0345946\ttotal: 2.17s\tremaining: 3.9s\n",
      "358:\tlearn: 13.0080910\ttotal: 2.18s\tremaining: 3.89s\n",
      "359:\tlearn: 12.9774274\ttotal: 2.19s\tremaining: 3.89s\n",
      "360:\tlearn: 12.9763177\ttotal: 2.19s\tremaining: 3.88s\n",
      "361:\tlearn: 12.9747659\ttotal: 2.2s\tremaining: 3.87s\n",
      "362:\tlearn: 12.9577943\ttotal: 2.2s\tremaining: 3.87s\n",
      "363:\tlearn: 12.9565792\ttotal: 2.21s\tremaining: 3.86s\n",
      "364:\tlearn: 12.9415854\ttotal: 2.21s\tremaining: 3.85s\n",
      "365:\tlearn: 12.9270718\ttotal: 2.22s\tremaining: 3.85s\n",
      "366:\tlearn: 12.9191687\ttotal: 2.23s\tremaining: 3.84s\n",
      "367:\tlearn: 12.9058972\ttotal: 2.23s\tremaining: 3.83s\n",
      "368:\tlearn: 12.8970445\ttotal: 2.24s\tremaining: 3.83s\n",
      "369:\tlearn: 12.8693749\ttotal: 2.25s\tremaining: 3.82s\n",
      "370:\tlearn: 12.8566754\ttotal: 2.25s\tremaining: 3.82s\n",
      "371:\tlearn: 12.8380769\ttotal: 2.26s\tremaining: 3.81s\n",
      "372:\tlearn: 12.8216505\ttotal: 2.26s\tremaining: 3.81s\n",
      "373:\tlearn: 12.7992508\ttotal: 2.27s\tremaining: 3.8s\n",
      "374:\tlearn: 12.7824071\ttotal: 2.27s\tremaining: 3.79s\n",
      "375:\tlearn: 12.7707430\ttotal: 2.28s\tremaining: 3.79s\n",
      "376:\tlearn: 12.7474594\ttotal: 2.29s\tremaining: 3.78s\n",
      "377:\tlearn: 12.7332545\ttotal: 2.29s\tremaining: 3.77s\n",
      "378:\tlearn: 12.7169697\ttotal: 2.3s\tremaining: 3.77s\n",
      "379:\tlearn: 12.6988326\ttotal: 2.31s\tremaining: 3.76s\n",
      "380:\tlearn: 12.6847325\ttotal: 2.31s\tremaining: 3.76s\n",
      "381:\tlearn: 12.6564851\ttotal: 2.32s\tremaining: 3.75s\n",
      "382:\tlearn: 12.6350626\ttotal: 2.32s\tremaining: 3.74s\n",
      "383:\tlearn: 12.6149641\ttotal: 2.33s\tremaining: 3.74s\n",
      "384:\tlearn: 12.5888075\ttotal: 2.34s\tremaining: 3.73s\n",
      "385:\tlearn: 12.5878221\ttotal: 2.34s\tremaining: 3.73s\n",
      "386:\tlearn: 12.5613573\ttotal: 2.35s\tremaining: 3.73s\n",
      "387:\tlearn: 12.5440792\ttotal: 2.36s\tremaining: 3.72s\n",
      "388:\tlearn: 12.5256208\ttotal: 2.36s\tremaining: 3.71s\n",
      "389:\tlearn: 12.5070972\ttotal: 2.37s\tremaining: 3.71s\n",
      "390:\tlearn: 12.4893804\ttotal: 2.38s\tremaining: 3.7s\n",
      "391:\tlearn: 12.4858402\ttotal: 2.38s\tremaining: 3.69s\n",
      "392:\tlearn: 12.4724197\ttotal: 2.39s\tremaining: 3.69s\n",
      "393:\tlearn: 12.4462659\ttotal: 2.39s\tremaining: 3.68s\n",
      "394:\tlearn: 12.4287338\ttotal: 2.4s\tremaining: 3.67s\n",
      "395:\tlearn: 12.4138304\ttotal: 2.4s\tremaining: 3.67s\n",
      "396:\tlearn: 12.3956865\ttotal: 2.41s\tremaining: 3.66s\n",
      "397:\tlearn: 12.3818792\ttotal: 2.42s\tremaining: 3.65s\n",
      "398:\tlearn: 12.3573284\ttotal: 2.42s\tremaining: 3.65s\n",
      "399:\tlearn: 12.3561145\ttotal: 2.43s\tremaining: 3.64s\n",
      "400:\tlearn: 12.3448670\ttotal: 2.43s\tremaining: 3.63s\n",
      "401:\tlearn: 12.3339948\ttotal: 2.44s\tremaining: 3.63s\n",
      "402:\tlearn: 12.3165222\ttotal: 2.44s\tremaining: 3.62s\n",
      "403:\tlearn: 12.3063690\ttotal: 2.45s\tremaining: 3.62s\n",
      "404:\tlearn: 12.2881913\ttotal: 2.46s\tremaining: 3.61s\n",
      "405:\tlearn: 12.2757809\ttotal: 2.46s\tremaining: 3.6s\n",
      "406:\tlearn: 12.2588395\ttotal: 2.47s\tremaining: 3.6s\n",
      "407:\tlearn: 12.2351849\ttotal: 2.48s\tremaining: 3.59s\n",
      "408:\tlearn: 12.2342236\ttotal: 2.48s\tremaining: 3.59s\n",
      "409:\tlearn: 12.2161245\ttotal: 2.49s\tremaining: 3.58s\n",
      "410:\tlearn: 12.1979260\ttotal: 2.49s\tremaining: 3.57s\n",
      "411:\tlearn: 12.1815441\ttotal: 2.5s\tremaining: 3.57s\n",
      "412:\tlearn: 12.1719605\ttotal: 2.5s\tremaining: 3.56s\n",
      "413:\tlearn: 12.1497217\ttotal: 2.51s\tremaining: 3.56s\n",
      "414:\tlearn: 12.1305416\ttotal: 2.52s\tremaining: 3.55s\n",
      "415:\tlearn: 12.1218059\ttotal: 2.52s\tremaining: 3.54s\n",
      "416:\tlearn: 12.1043183\ttotal: 2.53s\tremaining: 3.54s\n",
      "417:\tlearn: 12.0889390\ttotal: 2.54s\tremaining: 3.53s\n",
      "418:\tlearn: 12.0762144\ttotal: 2.54s\tremaining: 3.52s\n",
      "419:\tlearn: 12.0615912\ttotal: 2.55s\tremaining: 3.52s\n",
      "420:\tlearn: 12.0389773\ttotal: 2.55s\tremaining: 3.51s\n",
      "421:\tlearn: 12.0255922\ttotal: 2.56s\tremaining: 3.5s\n",
      "422:\tlearn: 12.0037752\ttotal: 2.56s\tremaining: 3.5s\n",
      "423:\tlearn: 11.9839270\ttotal: 2.57s\tremaining: 3.49s\n",
      "424:\tlearn: 11.9696147\ttotal: 2.58s\tremaining: 3.49s\n",
      "425:\tlearn: 11.9688492\ttotal: 2.58s\tremaining: 3.48s\n",
      "426:\tlearn: 11.9627982\ttotal: 2.59s\tremaining: 3.47s\n",
      "427:\tlearn: 11.9463062\ttotal: 2.59s\tremaining: 3.47s\n",
      "428:\tlearn: 11.9341236\ttotal: 2.6s\tremaining: 3.46s\n",
      "429:\tlearn: 11.9187048\ttotal: 2.61s\tremaining: 3.46s\n",
      "430:\tlearn: 11.9066177\ttotal: 2.61s\tremaining: 3.45s\n",
      "431:\tlearn: 11.8938533\ttotal: 2.62s\tremaining: 3.44s\n",
      "432:\tlearn: 11.8680472\ttotal: 2.62s\tremaining: 3.44s\n",
      "433:\tlearn: 11.8489940\ttotal: 2.63s\tremaining: 3.43s\n",
      "434:\tlearn: 11.8327392\ttotal: 2.64s\tremaining: 3.42s\n",
      "435:\tlearn: 11.8146659\ttotal: 2.64s\tremaining: 3.42s\n",
      "436:\tlearn: 11.7975799\ttotal: 2.65s\tremaining: 3.41s\n",
      "437:\tlearn: 11.7728611\ttotal: 2.65s\tremaining: 3.41s\n",
      "438:\tlearn: 11.7480986\ttotal: 2.66s\tremaining: 3.4s\n",
      "439:\tlearn: 11.7406086\ttotal: 2.67s\tremaining: 3.39s\n",
      "440:\tlearn: 11.7237867\ttotal: 2.67s\tremaining: 3.39s\n",
      "441:\tlearn: 11.7055718\ttotal: 2.68s\tremaining: 3.38s\n",
      "442:\tlearn: 11.6819888\ttotal: 2.68s\tremaining: 3.38s\n",
      "443:\tlearn: 11.6675744\ttotal: 2.69s\tremaining: 3.37s\n",
      "444:\tlearn: 11.6633076\ttotal: 2.7s\tremaining: 3.36s\n",
      "445:\tlearn: 11.6486684\ttotal: 2.7s\tremaining: 3.36s\n",
      "446:\tlearn: 11.6317810\ttotal: 2.71s\tremaining: 3.35s\n",
      "447:\tlearn: 11.6146797\ttotal: 2.71s\tremaining: 3.34s\n",
      "448:\tlearn: 11.6014967\ttotal: 2.72s\tremaining: 3.34s\n",
      "449:\tlearn: 11.5828158\ttotal: 2.73s\tremaining: 3.33s\n",
      "450:\tlearn: 11.5721739\ttotal: 2.73s\tremaining: 3.33s\n",
      "451:\tlearn: 11.5613820\ttotal: 2.74s\tremaining: 3.32s\n",
      "452:\tlearn: 11.5439218\ttotal: 2.75s\tremaining: 3.31s\n",
      "453:\tlearn: 11.5432970\ttotal: 2.75s\tremaining: 3.31s\n",
      "454:\tlearn: 11.5308856\ttotal: 2.76s\tremaining: 3.3s\n",
      "455:\tlearn: 11.5071496\ttotal: 2.76s\tremaining: 3.3s\n",
      "456:\tlearn: 11.4933193\ttotal: 2.77s\tremaining: 3.29s\n",
      "457:\tlearn: 11.4797288\ttotal: 2.77s\tremaining: 3.29s\n",
      "458:\tlearn: 11.4654777\ttotal: 2.78s\tremaining: 3.28s\n",
      "459:\tlearn: 11.4599724\ttotal: 2.79s\tremaining: 3.27s\n",
      "460:\tlearn: 11.4425504\ttotal: 2.79s\tremaining: 3.27s\n",
      "461:\tlearn: 11.4222030\ttotal: 2.8s\tremaining: 3.26s\n",
      "462:\tlearn: 11.4158492\ttotal: 2.81s\tremaining: 3.25s\n",
      "463:\tlearn: 11.3952983\ttotal: 2.81s\tremaining: 3.25s\n",
      "464:\tlearn: 11.3829297\ttotal: 2.82s\tremaining: 3.25s\n",
      "465:\tlearn: 11.3822678\ttotal: 2.83s\tremaining: 3.24s\n",
      "466:\tlearn: 11.3799349\ttotal: 2.84s\tremaining: 3.24s\n",
      "467:\tlearn: 11.3675039\ttotal: 2.84s\tremaining: 3.23s\n",
      "468:\tlearn: 11.3551013\ttotal: 2.85s\tremaining: 3.23s\n",
      "469:\tlearn: 11.3348574\ttotal: 2.86s\tremaining: 3.22s\n",
      "470:\tlearn: 11.3163634\ttotal: 2.86s\tremaining: 3.21s\n",
      "471:\tlearn: 11.3039405\ttotal: 2.87s\tremaining: 3.21s\n",
      "472:\tlearn: 11.3033386\ttotal: 2.88s\tremaining: 3.2s\n",
      "473:\tlearn: 11.2909722\ttotal: 2.88s\tremaining: 3.2s\n",
      "474:\tlearn: 11.2764500\ttotal: 2.89s\tremaining: 3.19s\n",
      "475:\tlearn: 11.2583412\ttotal: 2.89s\tremaining: 3.19s\n",
      "476:\tlearn: 11.2404522\ttotal: 2.9s\tremaining: 3.18s\n",
      "477:\tlearn: 11.2225796\ttotal: 2.9s\tremaining: 3.17s\n",
      "478:\tlearn: 11.2048938\ttotal: 2.91s\tremaining: 3.17s\n",
      "479:\tlearn: 11.1900223\ttotal: 2.92s\tremaining: 3.16s\n",
      "480:\tlearn: 11.1729589\ttotal: 2.92s\tremaining: 3.15s\n",
      "481:\tlearn: 11.1616025\ttotal: 2.93s\tremaining: 3.15s\n",
      "482:\tlearn: 11.1434714\ttotal: 2.94s\tremaining: 3.14s\n",
      "483:\tlearn: 11.1235326\ttotal: 2.94s\tremaining: 3.14s\n",
      "484:\tlearn: 11.1097909\ttotal: 2.95s\tremaining: 3.13s\n",
      "485:\tlearn: 11.0989809\ttotal: 2.95s\tremaining: 3.12s\n",
      "486:\tlearn: 11.0757767\ttotal: 2.96s\tremaining: 3.12s\n",
      "487:\tlearn: 11.0584164\ttotal: 2.97s\tremaining: 3.11s\n",
      "488:\tlearn: 11.0471531\ttotal: 2.97s\tremaining: 3.1s\n",
      "489:\tlearn: 11.0348991\ttotal: 2.98s\tremaining: 3.1s\n",
      "490:\tlearn: 11.0341787\ttotal: 2.98s\tremaining: 3.09s\n",
      "491:\tlearn: 11.0279167\ttotal: 2.99s\tremaining: 3.09s\n",
      "492:\tlearn: 11.0074489\ttotal: 3s\tremaining: 3.08s\n",
      "493:\tlearn: 11.0015546\ttotal: 3s\tremaining: 3.07s\n",
      "494:\tlearn: 10.9860395\ttotal: 3.01s\tremaining: 3.07s\n",
      "495:\tlearn: 10.9818656\ttotal: 3.01s\tremaining: 3.06s\n",
      "496:\tlearn: 10.9644723\ttotal: 3.02s\tremaining: 3.06s\n",
      "497:\tlearn: 10.9463168\ttotal: 3.02s\tremaining: 3.05s\n",
      "498:\tlearn: 10.9296210\ttotal: 3.03s\tremaining: 3.04s\n",
      "499:\tlearn: 10.9153923\ttotal: 3.04s\tremaining: 3.04s\n",
      "500:\tlearn: 10.8864396\ttotal: 3.04s\tremaining: 3.03s\n",
      "501:\tlearn: 10.8719353\ttotal: 3.05s\tremaining: 3.02s\n",
      "502:\tlearn: 10.8632443\ttotal: 3.05s\tremaining: 3.02s\n",
      "503:\tlearn: 10.8545704\ttotal: 3.06s\tremaining: 3.01s\n",
      "504:\tlearn: 10.8363309\ttotal: 3.06s\tremaining: 3s\n",
      "505:\tlearn: 10.8193422\ttotal: 3.07s\tremaining: 3s\n",
      "506:\tlearn: 10.8081176\ttotal: 3.08s\tremaining: 2.99s\n",
      "507:\tlearn: 10.7936789\ttotal: 3.08s\tremaining: 2.98s\n",
      "508:\tlearn: 10.7703542\ttotal: 3.09s\tremaining: 2.98s\n",
      "509:\tlearn: 10.7578618\ttotal: 3.09s\tremaining: 2.97s\n",
      "510:\tlearn: 10.7469606\ttotal: 3.1s\tremaining: 2.96s\n",
      "511:\tlearn: 10.7351613\ttotal: 3.1s\tremaining: 2.96s\n",
      "512:\tlearn: 10.7226820\ttotal: 3.11s\tremaining: 2.95s\n",
      "513:\tlearn: 10.7091238\ttotal: 3.12s\tremaining: 2.95s\n",
      "514:\tlearn: 10.6921970\ttotal: 3.12s\tremaining: 2.94s\n",
      "515:\tlearn: 10.6761314\ttotal: 3.13s\tremaining: 2.93s\n",
      "516:\tlearn: 10.6589984\ttotal: 3.13s\tremaining: 2.93s\n",
      "517:\tlearn: 10.6375682\ttotal: 3.14s\tremaining: 2.92s\n",
      "518:\tlearn: 10.6267806\ttotal: 3.15s\tremaining: 2.92s\n",
      "519:\tlearn: 10.6138999\ttotal: 3.15s\tremaining: 2.91s\n",
      "520:\tlearn: 10.5980324\ttotal: 3.16s\tremaining: 2.9s\n",
      "521:\tlearn: 10.5807211\ttotal: 3.16s\tremaining: 2.9s\n",
      "522:\tlearn: 10.5586542\ttotal: 3.17s\tremaining: 2.89s\n",
      "523:\tlearn: 10.5463527\ttotal: 3.17s\tremaining: 2.88s\n",
      "524:\tlearn: 10.5342578\ttotal: 3.18s\tremaining: 2.88s\n",
      "525:\tlearn: 10.5237487\ttotal: 3.19s\tremaining: 2.87s\n",
      "526:\tlearn: 10.5070169\ttotal: 3.19s\tremaining: 2.87s\n",
      "527:\tlearn: 10.4929627\ttotal: 3.2s\tremaining: 2.86s\n",
      "528:\tlearn: 10.4876119\ttotal: 3.21s\tremaining: 2.85s\n",
      "529:\tlearn: 10.4689432\ttotal: 3.21s\tremaining: 2.85s\n",
      "530:\tlearn: 10.4549360\ttotal: 3.22s\tremaining: 2.84s\n",
      "531:\tlearn: 10.4358460\ttotal: 3.23s\tremaining: 2.84s\n",
      "532:\tlearn: 10.4350748\ttotal: 3.23s\tremaining: 2.83s\n",
      "533:\tlearn: 10.4254092\ttotal: 3.24s\tremaining: 2.83s\n",
      "534:\tlearn: 10.4169747\ttotal: 3.24s\tremaining: 2.82s\n",
      "535:\tlearn: 10.3956825\ttotal: 3.25s\tremaining: 2.81s\n",
      "536:\tlearn: 10.3759144\ttotal: 3.25s\tremaining: 2.81s\n",
      "537:\tlearn: 10.3646610\ttotal: 3.26s\tremaining: 2.8s\n",
      "538:\tlearn: 10.3453918\ttotal: 3.27s\tremaining: 2.79s\n",
      "539:\tlearn: 10.3369391\ttotal: 3.27s\tremaining: 2.79s\n",
      "540:\tlearn: 10.3227842\ttotal: 3.28s\tremaining: 2.78s\n",
      "541:\tlearn: 10.3143138\ttotal: 3.29s\tremaining: 2.78s\n",
      "542:\tlearn: 10.3133195\ttotal: 3.29s\tremaining: 2.77s\n",
      "543:\tlearn: 10.3030823\ttotal: 3.3s\tremaining: 2.77s\n",
      "544:\tlearn: 10.2871600\ttotal: 3.31s\tremaining: 2.76s\n",
      "545:\tlearn: 10.2709898\ttotal: 3.31s\tremaining: 2.75s\n",
      "546:\tlearn: 10.2674020\ttotal: 3.32s\tremaining: 2.75s\n",
      "547:\tlearn: 10.2564630\ttotal: 3.32s\tremaining: 2.74s\n",
      "548:\tlearn: 10.2465498\ttotal: 3.33s\tremaining: 2.73s\n",
      "549:\tlearn: 10.2417346\ttotal: 3.33s\tremaining: 2.73s\n",
      "550:\tlearn: 10.2389954\ttotal: 3.34s\tremaining: 2.72s\n",
      "551:\tlearn: 10.2335171\ttotal: 3.35s\tremaining: 2.71s\n",
      "552:\tlearn: 10.2181676\ttotal: 3.35s\tremaining: 2.71s\n",
      "553:\tlearn: 10.1881009\ttotal: 3.36s\tremaining: 2.7s\n",
      "554:\tlearn: 10.1832129\ttotal: 3.36s\tremaining: 2.7s\n",
      "555:\tlearn: 10.1714046\ttotal: 3.37s\tremaining: 2.69s\n",
      "556:\tlearn: 10.1625880\ttotal: 3.38s\tremaining: 2.69s\n",
      "557:\tlearn: 10.1443905\ttotal: 3.38s\tremaining: 2.68s\n",
      "558:\tlearn: 10.1256465\ttotal: 3.39s\tremaining: 2.67s\n",
      "559:\tlearn: 10.1250542\ttotal: 3.39s\tremaining: 2.67s\n",
      "560:\tlearn: 10.1131952\ttotal: 3.4s\tremaining: 2.66s\n",
      "561:\tlearn: 10.1046996\ttotal: 3.41s\tremaining: 2.65s\n",
      "562:\tlearn: 10.0854871\ttotal: 3.41s\tremaining: 2.65s\n",
      "563:\tlearn: 10.0691472\ttotal: 3.42s\tremaining: 2.64s\n",
      "564:\tlearn: 10.0576623\ttotal: 3.42s\tremaining: 2.64s\n",
      "565:\tlearn: 10.0461820\ttotal: 3.43s\tremaining: 2.63s\n",
      "566:\tlearn: 10.0328941\ttotal: 3.44s\tremaining: 2.62s\n",
      "567:\tlearn: 10.0234749\ttotal: 3.44s\tremaining: 2.62s\n",
      "568:\tlearn: 10.0070286\ttotal: 3.45s\tremaining: 2.61s\n",
      "569:\tlearn: 9.9907310\ttotal: 3.45s\tremaining: 2.61s\n",
      "570:\tlearn: 9.9821389\ttotal: 3.46s\tremaining: 2.6s\n",
      "571:\tlearn: 9.9806601\ttotal: 3.47s\tremaining: 2.59s\n",
      "572:\tlearn: 9.9801232\ttotal: 3.47s\tremaining: 2.59s\n",
      "573:\tlearn: 9.9605010\ttotal: 3.48s\tremaining: 2.58s\n",
      "574:\tlearn: 9.9555465\ttotal: 3.48s\tremaining: 2.58s\n",
      "575:\tlearn: 9.9472827\ttotal: 3.49s\tremaining: 2.57s\n",
      "576:\tlearn: 9.9465630\ttotal: 3.5s\tremaining: 2.56s\n",
      "577:\tlearn: 9.9326086\ttotal: 3.5s\tremaining: 2.56s\n",
      "578:\tlearn: 9.9156326\ttotal: 3.51s\tremaining: 2.55s\n",
      "579:\tlearn: 9.9015129\ttotal: 3.52s\tremaining: 2.55s\n",
      "580:\tlearn: 9.8900206\ttotal: 3.52s\tremaining: 2.54s\n",
      "581:\tlearn: 9.8731345\ttotal: 3.54s\tremaining: 2.54s\n",
      "582:\tlearn: 9.8641211\ttotal: 3.54s\tremaining: 2.53s\n",
      "583:\tlearn: 9.8529856\ttotal: 3.55s\tremaining: 2.53s\n",
      "584:\tlearn: 9.8519774\ttotal: 3.56s\tremaining: 2.52s\n",
      "585:\tlearn: 9.8402710\ttotal: 3.56s\tremaining: 2.52s\n",
      "586:\tlearn: 9.8352349\ttotal: 3.57s\tremaining: 2.51s\n",
      "587:\tlearn: 9.8277193\ttotal: 3.57s\tremaining: 2.5s\n",
      "588:\tlearn: 9.8221030\ttotal: 3.58s\tremaining: 2.5s\n",
      "589:\tlearn: 9.8126424\ttotal: 3.58s\tremaining: 2.49s\n",
      "590:\tlearn: 9.8074415\ttotal: 3.59s\tremaining: 2.49s\n",
      "591:\tlearn: 9.7984536\ttotal: 3.6s\tremaining: 2.48s\n",
      "592:\tlearn: 9.7800522\ttotal: 3.6s\tremaining: 2.47s\n",
      "593:\tlearn: 9.7660860\ttotal: 3.61s\tremaining: 2.47s\n",
      "594:\tlearn: 9.7520294\ttotal: 3.62s\tremaining: 2.46s\n",
      "595:\tlearn: 9.7372012\ttotal: 3.62s\tremaining: 2.46s\n",
      "596:\tlearn: 9.7212468\ttotal: 3.63s\tremaining: 2.45s\n",
      "597:\tlearn: 9.7114373\ttotal: 3.64s\tremaining: 2.44s\n",
      "598:\tlearn: 9.6993090\ttotal: 3.64s\tremaining: 2.44s\n",
      "599:\tlearn: 9.6872337\ttotal: 3.65s\tremaining: 2.43s\n",
      "600:\tlearn: 9.6639906\ttotal: 3.65s\tremaining: 2.43s\n",
      "601:\tlearn: 9.6484419\ttotal: 3.66s\tremaining: 2.42s\n",
      "602:\tlearn: 9.6427520\ttotal: 3.67s\tremaining: 2.41s\n",
      "603:\tlearn: 9.6293797\ttotal: 3.67s\tremaining: 2.41s\n",
      "604:\tlearn: 9.6204097\ttotal: 3.68s\tremaining: 2.4s\n",
      "605:\tlearn: 9.6191603\ttotal: 3.68s\tremaining: 2.4s\n",
      "606:\tlearn: 9.6013616\ttotal: 3.69s\tremaining: 2.39s\n",
      "607:\tlearn: 9.5940321\ttotal: 3.7s\tremaining: 2.38s\n",
      "608:\tlearn: 9.5820808\ttotal: 3.7s\tremaining: 2.38s\n",
      "609:\tlearn: 9.5750734\ttotal: 3.71s\tremaining: 2.37s\n",
      "610:\tlearn: 9.5621235\ttotal: 3.72s\tremaining: 2.37s\n",
      "611:\tlearn: 9.5464037\ttotal: 3.72s\tremaining: 2.36s\n",
      "612:\tlearn: 9.5366826\ttotal: 3.73s\tremaining: 2.35s\n",
      "613:\tlearn: 9.5270887\ttotal: 3.73s\tremaining: 2.35s\n",
      "614:\tlearn: 9.5174853\ttotal: 3.74s\tremaining: 2.34s\n",
      "615:\tlearn: 9.5167961\ttotal: 3.75s\tremaining: 2.33s\n",
      "616:\tlearn: 9.5087378\ttotal: 3.75s\tremaining: 2.33s\n",
      "617:\tlearn: 9.4912983\ttotal: 3.76s\tremaining: 2.32s\n",
      "618:\tlearn: 9.4819698\ttotal: 3.76s\tremaining: 2.32s\n",
      "619:\tlearn: 9.4682764\ttotal: 3.77s\tremaining: 2.31s\n",
      "620:\tlearn: 9.4645736\ttotal: 3.77s\tremaining: 2.3s\n",
      "621:\tlearn: 9.4552829\ttotal: 3.78s\tremaining: 2.3s\n",
      "622:\tlearn: 9.4549430\ttotal: 3.79s\tremaining: 2.29s\n",
      "623:\tlearn: 9.4365212\ttotal: 3.79s\tremaining: 2.29s\n",
      "624:\tlearn: 9.4174014\ttotal: 3.8s\tremaining: 2.28s\n",
      "625:\tlearn: 9.4091189\ttotal: 3.8s\tremaining: 2.27s\n",
      "626:\tlearn: 9.4045337\ttotal: 3.81s\tremaining: 2.27s\n",
      "627:\tlearn: 9.3912015\ttotal: 3.81s\tremaining: 2.26s\n",
      "628:\tlearn: 9.3859391\ttotal: 3.82s\tremaining: 2.25s\n",
      "629:\tlearn: 9.3706020\ttotal: 3.83s\tremaining: 2.25s\n",
      "630:\tlearn: 9.3655539\ttotal: 3.83s\tremaining: 2.24s\n",
      "631:\tlearn: 9.3535368\ttotal: 3.84s\tremaining: 2.23s\n",
      "632:\tlearn: 9.3461182\ttotal: 3.84s\tremaining: 2.23s\n",
      "633:\tlearn: 9.3209813\ttotal: 3.85s\tremaining: 2.22s\n",
      "634:\tlearn: 9.3076052\ttotal: 3.86s\tremaining: 2.22s\n",
      "635:\tlearn: 9.3017113\ttotal: 3.86s\tremaining: 2.21s\n",
      "636:\tlearn: 9.2930223\ttotal: 3.87s\tremaining: 2.21s\n",
      "637:\tlearn: 9.2832710\ttotal: 3.88s\tremaining: 2.2s\n",
      "638:\tlearn: 9.2724224\ttotal: 3.89s\tremaining: 2.2s\n",
      "639:\tlearn: 9.2584516\ttotal: 3.89s\tremaining: 2.19s\n",
      "640:\tlearn: 9.2463366\ttotal: 3.9s\tremaining: 2.18s\n",
      "641:\tlearn: 9.2301330\ttotal: 3.91s\tremaining: 2.18s\n",
      "642:\tlearn: 9.2185678\ttotal: 3.92s\tremaining: 2.17s\n",
      "643:\tlearn: 9.2073175\ttotal: 3.92s\tremaining: 2.17s\n",
      "644:\tlearn: 9.1951170\ttotal: 3.93s\tremaining: 2.16s\n",
      "645:\tlearn: 9.1812216\ttotal: 3.94s\tremaining: 2.16s\n",
      "646:\tlearn: 9.1656418\ttotal: 3.95s\tremaining: 2.15s\n",
      "647:\tlearn: 9.1513240\ttotal: 3.95s\tremaining: 2.15s\n",
      "648:\tlearn: 9.1410701\ttotal: 3.96s\tremaining: 2.14s\n",
      "649:\tlearn: 9.1287833\ttotal: 3.97s\tremaining: 2.14s\n",
      "650:\tlearn: 9.1185365\ttotal: 3.97s\tremaining: 2.13s\n",
      "651:\tlearn: 9.1060436\ttotal: 3.98s\tremaining: 2.12s\n",
      "652:\tlearn: 9.0909437\ttotal: 3.99s\tremaining: 2.12s\n",
      "653:\tlearn: 9.0791394\ttotal: 4s\tremaining: 2.11s\n",
      "654:\tlearn: 9.0747174\ttotal: 4s\tremaining: 2.11s\n",
      "655:\tlearn: 9.0669227\ttotal: 4.01s\tremaining: 2.1s\n",
      "656:\tlearn: 9.0548781\ttotal: 4.02s\tremaining: 2.1s\n",
      "657:\tlearn: 9.0479961\ttotal: 4.02s\tremaining: 2.09s\n",
      "658:\tlearn: 9.0420786\ttotal: 4.03s\tremaining: 2.08s\n",
      "659:\tlearn: 9.0280896\ttotal: 4.04s\tremaining: 2.08s\n",
      "660:\tlearn: 9.0198763\ttotal: 4.04s\tremaining: 2.07s\n",
      "661:\tlearn: 9.0093240\ttotal: 4.05s\tremaining: 2.07s\n",
      "662:\tlearn: 8.9996848\ttotal: 4.05s\tremaining: 2.06s\n",
      "663:\tlearn: 8.9993289\ttotal: 4.06s\tremaining: 2.06s\n",
      "664:\tlearn: 8.9990356\ttotal: 4.07s\tremaining: 2.05s\n",
      "665:\tlearn: 8.9906233\ttotal: 4.07s\tremaining: 2.04s\n",
      "666:\tlearn: 8.9838033\ttotal: 4.08s\tremaining: 2.04s\n",
      "667:\tlearn: 8.9718284\ttotal: 4.09s\tremaining: 2.03s\n",
      "668:\tlearn: 8.9637912\ttotal: 4.09s\tremaining: 2.02s\n",
      "669:\tlearn: 8.9537538\ttotal: 4.1s\tremaining: 2.02s\n",
      "670:\tlearn: 8.9431411\ttotal: 4.11s\tremaining: 2.01s\n",
      "671:\tlearn: 8.9335360\ttotal: 4.11s\tremaining: 2.01s\n",
      "672:\tlearn: 8.9228858\ttotal: 4.12s\tremaining: 2s\n",
      "673:\tlearn: 8.9183062\ttotal: 4.13s\tremaining: 2s\n",
      "674:\tlearn: 8.9079371\ttotal: 4.13s\tremaining: 1.99s\n",
      "675:\tlearn: 8.9012468\ttotal: 4.14s\tremaining: 1.99s\n",
      "676:\tlearn: 8.8943434\ttotal: 4.15s\tremaining: 1.98s\n",
      "677:\tlearn: 8.8862694\ttotal: 4.16s\tremaining: 1.97s\n",
      "678:\tlearn: 8.8857735\ttotal: 4.16s\tremaining: 1.97s\n",
      "679:\tlearn: 8.8746483\ttotal: 4.17s\tremaining: 1.96s\n",
      "680:\tlearn: 8.8657636\ttotal: 4.18s\tremaining: 1.96s\n",
      "681:\tlearn: 8.8546619\ttotal: 4.18s\tremaining: 1.95s\n",
      "682:\tlearn: 8.8402192\ttotal: 4.19s\tremaining: 1.94s\n",
      "683:\tlearn: 8.8261390\ttotal: 4.2s\tremaining: 1.94s\n",
      "684:\tlearn: 8.8258073\ttotal: 4.2s\tremaining: 1.93s\n",
      "685:\tlearn: 8.8126974\ttotal: 4.21s\tremaining: 1.93s\n",
      "686:\tlearn: 8.8025104\ttotal: 4.21s\tremaining: 1.92s\n",
      "687:\tlearn: 8.8020304\ttotal: 4.22s\tremaining: 1.91s\n",
      "688:\tlearn: 8.7927917\ttotal: 4.23s\tremaining: 1.91s\n",
      "689:\tlearn: 8.7792387\ttotal: 4.23s\tremaining: 1.9s\n",
      "690:\tlearn: 8.7652313\ttotal: 4.24s\tremaining: 1.9s\n",
      "691:\tlearn: 8.7552834\ttotal: 4.25s\tremaining: 1.89s\n",
      "692:\tlearn: 8.7498544\ttotal: 4.25s\tremaining: 1.88s\n",
      "693:\tlearn: 8.7300758\ttotal: 4.26s\tremaining: 1.88s\n",
      "694:\tlearn: 8.7145018\ttotal: 4.26s\tremaining: 1.87s\n",
      "695:\tlearn: 8.7040358\ttotal: 4.27s\tremaining: 1.86s\n",
      "696:\tlearn: 8.6966614\ttotal: 4.28s\tremaining: 1.86s\n",
      "697:\tlearn: 8.6903604\ttotal: 4.28s\tremaining: 1.85s\n",
      "698:\tlearn: 8.6829323\ttotal: 4.29s\tremaining: 1.85s\n",
      "699:\tlearn: 8.6675255\ttotal: 4.29s\tremaining: 1.84s\n",
      "700:\tlearn: 8.6521259\ttotal: 4.3s\tremaining: 1.83s\n",
      "701:\tlearn: 8.6517542\ttotal: 4.3s\tremaining: 1.83s\n",
      "702:\tlearn: 8.6417586\ttotal: 4.31s\tremaining: 1.82s\n",
      "703:\tlearn: 8.6376510\ttotal: 4.32s\tremaining: 1.81s\n",
      "704:\tlearn: 8.6317708\ttotal: 4.32s\tremaining: 1.81s\n",
      "705:\tlearn: 8.6314971\ttotal: 4.33s\tremaining: 1.8s\n",
      "706:\tlearn: 8.6231221\ttotal: 4.34s\tremaining: 1.8s\n",
      "707:\tlearn: 8.6172049\ttotal: 4.34s\tremaining: 1.79s\n",
      "708:\tlearn: 8.6039287\ttotal: 4.35s\tremaining: 1.78s\n",
      "709:\tlearn: 8.6028087\ttotal: 4.35s\tremaining: 1.78s\n",
      "710:\tlearn: 8.5899326\ttotal: 4.36s\tremaining: 1.77s\n",
      "711:\tlearn: 8.5762361\ttotal: 4.37s\tremaining: 1.77s\n",
      "712:\tlearn: 8.5724385\ttotal: 4.37s\tremaining: 1.76s\n",
      "713:\tlearn: 8.5593110\ttotal: 4.38s\tremaining: 1.75s\n",
      "714:\tlearn: 8.5518413\ttotal: 4.38s\tremaining: 1.75s\n",
      "715:\tlearn: 8.5424458\ttotal: 4.39s\tremaining: 1.74s\n",
      "716:\tlearn: 8.5343496\ttotal: 4.4s\tremaining: 1.74s\n",
      "717:\tlearn: 8.5230249\ttotal: 4.4s\tremaining: 1.73s\n",
      "718:\tlearn: 8.5145934\ttotal: 4.41s\tremaining: 1.72s\n",
      "719:\tlearn: 8.5059147\ttotal: 4.42s\tremaining: 1.72s\n",
      "720:\tlearn: 8.4966714\ttotal: 4.42s\tremaining: 1.71s\n",
      "721:\tlearn: 8.4917688\ttotal: 4.43s\tremaining: 1.7s\n",
      "722:\tlearn: 8.4860310\ttotal: 4.43s\tremaining: 1.7s\n",
      "723:\tlearn: 8.4741021\ttotal: 4.44s\tremaining: 1.69s\n",
      "724:\tlearn: 8.4604399\ttotal: 4.44s\tremaining: 1.69s\n",
      "725:\tlearn: 8.4456169\ttotal: 4.45s\tremaining: 1.68s\n",
      "726:\tlearn: 8.4378856\ttotal: 4.46s\tremaining: 1.67s\n",
      "727:\tlearn: 8.4292143\ttotal: 4.46s\tremaining: 1.67s\n",
      "728:\tlearn: 8.4196817\ttotal: 4.47s\tremaining: 1.66s\n",
      "729:\tlearn: 8.4128772\ttotal: 4.47s\tremaining: 1.65s\n",
      "730:\tlearn: 8.4032580\ttotal: 4.48s\tremaining: 1.65s\n",
      "731:\tlearn: 8.3899025\ttotal: 4.49s\tremaining: 1.64s\n",
      "732:\tlearn: 8.3849889\ttotal: 4.49s\tremaining: 1.64s\n",
      "733:\tlearn: 8.3750505\ttotal: 4.5s\tremaining: 1.63s\n",
      "734:\tlearn: 8.3673744\ttotal: 4.5s\tremaining: 1.62s\n",
      "735:\tlearn: 8.3618702\ttotal: 4.51s\tremaining: 1.62s\n",
      "736:\tlearn: 8.3534864\ttotal: 4.51s\tremaining: 1.61s\n",
      "737:\tlearn: 8.3458534\ttotal: 4.52s\tremaining: 1.6s\n",
      "738:\tlearn: 8.3344095\ttotal: 4.53s\tremaining: 1.6s\n",
      "739:\tlearn: 8.3244225\ttotal: 4.53s\tremaining: 1.59s\n",
      "740:\tlearn: 8.3133435\ttotal: 4.54s\tremaining: 1.59s\n",
      "741:\tlearn: 8.3053940\ttotal: 4.55s\tremaining: 1.58s\n",
      "742:\tlearn: 8.3038611\ttotal: 4.56s\tremaining: 1.58s\n",
      "743:\tlearn: 8.2958215\ttotal: 4.56s\tremaining: 1.57s\n",
      "744:\tlearn: 8.2869165\ttotal: 4.57s\tremaining: 1.56s\n",
      "745:\tlearn: 8.2781241\ttotal: 4.58s\tremaining: 1.56s\n",
      "746:\tlearn: 8.2659432\ttotal: 4.58s\tremaining: 1.55s\n",
      "747:\tlearn: 8.2578374\ttotal: 4.59s\tremaining: 1.54s\n",
      "748:\tlearn: 8.2479635\ttotal: 4.59s\tremaining: 1.54s\n",
      "749:\tlearn: 8.2337426\ttotal: 4.6s\tremaining: 1.53s\n",
      "750:\tlearn: 8.2270019\ttotal: 4.61s\tremaining: 1.53s\n",
      "751:\tlearn: 8.2149620\ttotal: 4.61s\tremaining: 1.52s\n",
      "752:\tlearn: 8.2069143\ttotal: 4.62s\tremaining: 1.51s\n",
      "753:\tlearn: 8.1934248\ttotal: 4.62s\tremaining: 1.51s\n",
      "754:\tlearn: 8.1927445\ttotal: 4.63s\tremaining: 1.5s\n",
      "755:\tlearn: 8.1817168\ttotal: 4.63s\tremaining: 1.5s\n",
      "756:\tlearn: 8.1677003\ttotal: 4.64s\tremaining: 1.49s\n",
      "757:\tlearn: 8.1670456\ttotal: 4.64s\tremaining: 1.48s\n",
      "758:\tlearn: 8.1596603\ttotal: 4.65s\tremaining: 1.48s\n",
      "759:\tlearn: 8.1533089\ttotal: 4.66s\tremaining: 1.47s\n",
      "760:\tlearn: 8.1465223\ttotal: 4.66s\tremaining: 1.46s\n",
      "761:\tlearn: 8.1371957\ttotal: 4.67s\tremaining: 1.46s\n",
      "762:\tlearn: 8.1295194\ttotal: 4.67s\tremaining: 1.45s\n",
      "763:\tlearn: 8.1211752\ttotal: 4.68s\tremaining: 1.45s\n",
      "764:\tlearn: 8.1098433\ttotal: 4.68s\tremaining: 1.44s\n",
      "765:\tlearn: 8.1093922\ttotal: 4.69s\tremaining: 1.43s\n",
      "766:\tlearn: 8.0997448\ttotal: 4.7s\tremaining: 1.43s\n",
      "767:\tlearn: 8.0934738\ttotal: 4.7s\tremaining: 1.42s\n",
      "768:\tlearn: 8.0836506\ttotal: 4.71s\tremaining: 1.41s\n",
      "769:\tlearn: 8.0765388\ttotal: 4.71s\tremaining: 1.41s\n",
      "770:\tlearn: 8.0670274\ttotal: 4.72s\tremaining: 1.4s\n",
      "771:\tlearn: 8.0611276\ttotal: 4.72s\tremaining: 1.4s\n",
      "772:\tlearn: 8.0518246\ttotal: 4.73s\tremaining: 1.39s\n",
      "773:\tlearn: 8.0514652\ttotal: 4.74s\tremaining: 1.38s\n",
      "774:\tlearn: 8.0437257\ttotal: 4.74s\tremaining: 1.38s\n",
      "775:\tlearn: 8.0393974\ttotal: 4.75s\tremaining: 1.37s\n",
      "776:\tlearn: 8.0288394\ttotal: 4.75s\tremaining: 1.36s\n",
      "777:\tlearn: 8.0200454\ttotal: 4.76s\tremaining: 1.36s\n",
      "778:\tlearn: 8.0116311\ttotal: 4.76s\tremaining: 1.35s\n",
      "779:\tlearn: 8.0017060\ttotal: 4.77s\tremaining: 1.34s\n",
      "780:\tlearn: 8.0014198\ttotal: 4.78s\tremaining: 1.34s\n",
      "781:\tlearn: 8.0005058\ttotal: 4.78s\tremaining: 1.33s\n",
      "782:\tlearn: 7.9913266\ttotal: 4.79s\tremaining: 1.33s\n",
      "783:\tlearn: 7.9766433\ttotal: 4.79s\tremaining: 1.32s\n",
      "784:\tlearn: 7.9630858\ttotal: 4.8s\tremaining: 1.31s\n",
      "785:\tlearn: 7.9568673\ttotal: 4.8s\tremaining: 1.31s\n",
      "786:\tlearn: 7.9481682\ttotal: 4.81s\tremaining: 1.3s\n",
      "787:\tlearn: 7.9430562\ttotal: 4.82s\tremaining: 1.3s\n",
      "788:\tlearn: 7.9310785\ttotal: 4.82s\tremaining: 1.29s\n",
      "789:\tlearn: 7.9213230\ttotal: 4.83s\tremaining: 1.28s\n",
      "790:\tlearn: 7.9073274\ttotal: 4.83s\tremaining: 1.28s\n",
      "791:\tlearn: 7.8955085\ttotal: 4.84s\tremaining: 1.27s\n",
      "792:\tlearn: 7.8880315\ttotal: 4.84s\tremaining: 1.26s\n",
      "793:\tlearn: 7.8818242\ttotal: 4.85s\tremaining: 1.26s\n",
      "794:\tlearn: 7.8678095\ttotal: 4.86s\tremaining: 1.25s\n",
      "795:\tlearn: 7.8600019\ttotal: 4.86s\tremaining: 1.25s\n",
      "796:\tlearn: 7.8509594\ttotal: 4.87s\tremaining: 1.24s\n",
      "797:\tlearn: 7.8421296\ttotal: 4.87s\tremaining: 1.23s\n",
      "798:\tlearn: 7.8368579\ttotal: 4.88s\tremaining: 1.23s\n",
      "799:\tlearn: 7.8242851\ttotal: 4.88s\tremaining: 1.22s\n",
      "800:\tlearn: 7.8123482\ttotal: 4.89s\tremaining: 1.22s\n",
      "801:\tlearn: 7.8042299\ttotal: 4.9s\tremaining: 1.21s\n",
      "802:\tlearn: 7.7964274\ttotal: 4.9s\tremaining: 1.2s\n",
      "803:\tlearn: 7.7903526\ttotal: 4.91s\tremaining: 1.2s\n",
      "804:\tlearn: 7.7808654\ttotal: 4.91s\tremaining: 1.19s\n",
      "805:\tlearn: 7.7725900\ttotal: 4.92s\tremaining: 1.18s\n",
      "806:\tlearn: 7.7622646\ttotal: 4.93s\tremaining: 1.18s\n",
      "807:\tlearn: 7.7594003\ttotal: 4.93s\tremaining: 1.17s\n",
      "808:\tlearn: 7.7535145\ttotal: 4.94s\tremaining: 1.17s\n",
      "809:\tlearn: 7.7458562\ttotal: 4.94s\tremaining: 1.16s\n",
      "810:\tlearn: 7.7349607\ttotal: 4.95s\tremaining: 1.15s\n",
      "811:\tlearn: 7.7276976\ttotal: 4.96s\tremaining: 1.15s\n",
      "812:\tlearn: 7.7195839\ttotal: 4.96s\tremaining: 1.14s\n",
      "813:\tlearn: 7.7135891\ttotal: 4.97s\tremaining: 1.14s\n",
      "814:\tlearn: 7.7062923\ttotal: 4.97s\tremaining: 1.13s\n",
      "815:\tlearn: 7.6923775\ttotal: 4.98s\tremaining: 1.12s\n",
      "816:\tlearn: 7.6808622\ttotal: 4.99s\tremaining: 1.12s\n",
      "817:\tlearn: 7.6730174\ttotal: 4.99s\tremaining: 1.11s\n",
      "818:\tlearn: 7.6688633\ttotal: 5s\tremaining: 1.1s\n",
      "819:\tlearn: 7.6653408\ttotal: 5s\tremaining: 1.1s\n",
      "820:\tlearn: 7.6549834\ttotal: 5.01s\tremaining: 1.09s\n",
      "821:\tlearn: 7.6435519\ttotal: 5.01s\tremaining: 1.08s\n",
      "822:\tlearn: 7.6334136\ttotal: 5.02s\tremaining: 1.08s\n",
      "823:\tlearn: 7.6274871\ttotal: 5.03s\tremaining: 1.07s\n",
      "824:\tlearn: 7.6253418\ttotal: 5.03s\tremaining: 1.07s\n",
      "825:\tlearn: 7.6195074\ttotal: 5.04s\tremaining: 1.06s\n",
      "826:\tlearn: 7.6105867\ttotal: 5.04s\tremaining: 1.05s\n",
      "827:\tlearn: 7.6033011\ttotal: 5.05s\tremaining: 1.05s\n",
      "828:\tlearn: 7.5957889\ttotal: 5.05s\tremaining: 1.04s\n",
      "829:\tlearn: 7.5916682\ttotal: 5.06s\tremaining: 1.04s\n",
      "830:\tlearn: 7.5876772\ttotal: 5.07s\tremaining: 1.03s\n",
      "831:\tlearn: 7.5810604\ttotal: 5.07s\tremaining: 1.02s\n",
      "832:\tlearn: 7.5687876\ttotal: 5.08s\tremaining: 1.02s\n",
      "833:\tlearn: 7.5597749\ttotal: 5.09s\tremaining: 1.01s\n",
      "834:\tlearn: 7.5490869\ttotal: 5.09s\tremaining: 1.01s\n",
      "835:\tlearn: 7.5420773\ttotal: 5.1s\tremaining: 1s\n",
      "836:\tlearn: 7.5353060\ttotal: 5.11s\tremaining: 994ms\n",
      "837:\tlearn: 7.5349641\ttotal: 5.11s\tremaining: 988ms\n",
      "838:\tlearn: 7.5246048\ttotal: 5.12s\tremaining: 982ms\n",
      "839:\tlearn: 7.5127255\ttotal: 5.12s\tremaining: 976ms\n",
      "840:\tlearn: 7.5002807\ttotal: 5.13s\tremaining: 970ms\n",
      "841:\tlearn: 7.4877164\ttotal: 5.13s\tremaining: 964ms\n",
      "842:\tlearn: 7.4859855\ttotal: 5.14s\tremaining: 957ms\n",
      "843:\tlearn: 7.4856739\ttotal: 5.15s\tremaining: 951ms\n",
      "844:\tlearn: 7.4753075\ttotal: 5.15s\tremaining: 945ms\n",
      "845:\tlearn: 7.4649072\ttotal: 5.16s\tremaining: 939ms\n",
      "846:\tlearn: 7.4532187\ttotal: 5.16s\tremaining: 933ms\n",
      "847:\tlearn: 7.4459317\ttotal: 5.17s\tremaining: 927ms\n",
      "848:\tlearn: 7.4372772\ttotal: 5.17s\tremaining: 920ms\n",
      "849:\tlearn: 7.4332165\ttotal: 5.18s\tremaining: 914ms\n",
      "850:\tlearn: 7.4307000\ttotal: 5.19s\tremaining: 908ms\n",
      "851:\tlearn: 7.4229088\ttotal: 5.19s\tremaining: 902ms\n",
      "852:\tlearn: 7.4153807\ttotal: 5.2s\tremaining: 896ms\n",
      "853:\tlearn: 7.4117963\ttotal: 5.2s\tremaining: 890ms\n",
      "854:\tlearn: 7.4059257\ttotal: 5.21s\tremaining: 884ms\n",
      "855:\tlearn: 7.3989229\ttotal: 5.22s\tremaining: 877ms\n",
      "856:\tlearn: 7.3932791\ttotal: 5.22s\tremaining: 871ms\n",
      "857:\tlearn: 7.3869396\ttotal: 5.23s\tremaining: 865ms\n",
      "858:\tlearn: 7.3804882\ttotal: 5.23s\tremaining: 859ms\n",
      "859:\tlearn: 7.3709869\ttotal: 5.24s\tremaining: 853ms\n",
      "860:\tlearn: 7.3668648\ttotal: 5.24s\tremaining: 847ms\n",
      "861:\tlearn: 7.3578914\ttotal: 5.25s\tremaining: 841ms\n",
      "862:\tlearn: 7.3462071\ttotal: 5.26s\tremaining: 834ms\n",
      "863:\tlearn: 7.3360508\ttotal: 5.26s\tremaining: 828ms\n",
      "864:\tlearn: 7.3267723\ttotal: 5.27s\tremaining: 822ms\n",
      "865:\tlearn: 7.3216685\ttotal: 5.27s\tremaining: 816ms\n",
      "866:\tlearn: 7.3086976\ttotal: 5.28s\tremaining: 810ms\n",
      "867:\tlearn: 7.3015698\ttotal: 5.29s\tremaining: 804ms\n",
      "868:\tlearn: 7.2950815\ttotal: 5.29s\tremaining: 798ms\n",
      "869:\tlearn: 7.2931559\ttotal: 5.3s\tremaining: 792ms\n",
      "870:\tlearn: 7.2928544\ttotal: 5.3s\tremaining: 785ms\n",
      "871:\tlearn: 7.2794699\ttotal: 5.31s\tremaining: 779ms\n",
      "872:\tlearn: 7.2678042\ttotal: 5.31s\tremaining: 773ms\n",
      "873:\tlearn: 7.2620583\ttotal: 5.32s\tremaining: 767ms\n",
      "874:\tlearn: 7.2495774\ttotal: 5.33s\tremaining: 761ms\n",
      "875:\tlearn: 7.2306243\ttotal: 5.33s\tremaining: 755ms\n",
      "876:\tlearn: 7.2244229\ttotal: 5.34s\tremaining: 749ms\n",
      "877:\tlearn: 7.2190787\ttotal: 5.34s\tremaining: 742ms\n",
      "878:\tlearn: 7.2114679\ttotal: 5.35s\tremaining: 736ms\n",
      "879:\tlearn: 7.2070808\ttotal: 5.36s\tremaining: 730ms\n",
      "880:\tlearn: 7.2054962\ttotal: 5.36s\tremaining: 724ms\n",
      "881:\tlearn: 7.1967405\ttotal: 5.37s\tremaining: 718ms\n",
      "882:\tlearn: 7.1891287\ttotal: 5.37s\tremaining: 712ms\n",
      "883:\tlearn: 7.1855570\ttotal: 5.38s\tremaining: 706ms\n",
      "884:\tlearn: 7.1806194\ttotal: 5.38s\tremaining: 700ms\n",
      "885:\tlearn: 7.1735489\ttotal: 5.39s\tremaining: 693ms\n",
      "886:\tlearn: 7.1655943\ttotal: 5.39s\tremaining: 687ms\n",
      "887:\tlearn: 7.1560755\ttotal: 5.4s\tremaining: 681ms\n",
      "888:\tlearn: 7.1483311\ttotal: 5.41s\tremaining: 675ms\n",
      "889:\tlearn: 7.1372975\ttotal: 5.41s\tremaining: 669ms\n",
      "890:\tlearn: 7.1271783\ttotal: 5.42s\tremaining: 663ms\n",
      "891:\tlearn: 7.1162159\ttotal: 5.42s\tremaining: 657ms\n",
      "892:\tlearn: 7.1056247\ttotal: 5.43s\tremaining: 650ms\n",
      "893:\tlearn: 7.0962876\ttotal: 5.43s\tremaining: 644ms\n",
      "894:\tlearn: 7.0890192\ttotal: 5.44s\tremaining: 638ms\n",
      "895:\tlearn: 7.0779358\ttotal: 5.45s\tremaining: 632ms\n",
      "896:\tlearn: 7.0709581\ttotal: 5.45s\tremaining: 626ms\n",
      "897:\tlearn: 7.0699361\ttotal: 5.46s\tremaining: 620ms\n",
      "898:\tlearn: 7.0609315\ttotal: 5.46s\tremaining: 614ms\n",
      "899:\tlearn: 7.0467966\ttotal: 5.47s\tremaining: 608ms\n",
      "900:\tlearn: 7.0375229\ttotal: 5.47s\tremaining: 602ms\n",
      "901:\tlearn: 7.0303312\ttotal: 5.48s\tremaining: 596ms\n",
      "902:\tlearn: 7.0265348\ttotal: 5.49s\tremaining: 589ms\n",
      "903:\tlearn: 7.0229831\ttotal: 5.49s\tremaining: 583ms\n",
      "904:\tlearn: 7.0139439\ttotal: 5.5s\tremaining: 577ms\n",
      "905:\tlearn: 7.0094434\ttotal: 5.5s\tremaining: 571ms\n",
      "906:\tlearn: 7.0044339\ttotal: 5.51s\tremaining: 565ms\n",
      "907:\tlearn: 7.0012838\ttotal: 5.51s\tremaining: 559ms\n",
      "908:\tlearn: 6.9905808\ttotal: 5.52s\tremaining: 553ms\n",
      "909:\tlearn: 6.9830311\ttotal: 5.53s\tremaining: 547ms\n",
      "910:\tlearn: 6.9758865\ttotal: 5.53s\tremaining: 541ms\n",
      "911:\tlearn: 6.9673686\ttotal: 5.54s\tremaining: 534ms\n",
      "912:\tlearn: 6.9603011\ttotal: 5.54s\tremaining: 528ms\n",
      "913:\tlearn: 6.9525099\ttotal: 5.55s\tremaining: 522ms\n",
      "914:\tlearn: 6.9408641\ttotal: 5.56s\tremaining: 516ms\n",
      "915:\tlearn: 6.9340168\ttotal: 5.56s\tremaining: 510ms\n",
      "916:\tlearn: 6.9242555\ttotal: 5.57s\tremaining: 504ms\n",
      "917:\tlearn: 6.9239788\ttotal: 5.57s\tremaining: 498ms\n",
      "918:\tlearn: 6.9144784\ttotal: 5.58s\tremaining: 492ms\n",
      "919:\tlearn: 6.9084680\ttotal: 5.58s\tremaining: 486ms\n",
      "920:\tlearn: 6.9036748\ttotal: 5.59s\tremaining: 479ms\n",
      "921:\tlearn: 6.8935959\ttotal: 5.59s\tremaining: 473ms\n",
      "922:\tlearn: 6.8931973\ttotal: 5.6s\tremaining: 467ms\n",
      "923:\tlearn: 6.8839766\ttotal: 5.61s\tremaining: 461ms\n",
      "924:\tlearn: 6.8770921\ttotal: 5.61s\tremaining: 455ms\n",
      "925:\tlearn: 6.8719079\ttotal: 5.62s\tremaining: 449ms\n",
      "926:\tlearn: 6.8632722\ttotal: 5.62s\tremaining: 443ms\n",
      "927:\tlearn: 6.8526384\ttotal: 5.63s\tremaining: 437ms\n",
      "928:\tlearn: 6.8441330\ttotal: 5.63s\tremaining: 431ms\n",
      "929:\tlearn: 6.8352438\ttotal: 5.64s\tremaining: 425ms\n",
      "930:\tlearn: 6.8284258\ttotal: 5.65s\tremaining: 418ms\n",
      "931:\tlearn: 6.8221004\ttotal: 5.65s\tremaining: 412ms\n",
      "932:\tlearn: 6.8180439\ttotal: 5.66s\tremaining: 406ms\n",
      "933:\tlearn: 6.8113302\ttotal: 5.66s\tremaining: 400ms\n",
      "934:\tlearn: 6.8053497\ttotal: 5.67s\tremaining: 394ms\n",
      "935:\tlearn: 6.7989997\ttotal: 5.67s\tremaining: 388ms\n",
      "936:\tlearn: 6.7910445\ttotal: 5.68s\tremaining: 382ms\n",
      "937:\tlearn: 6.7847932\ttotal: 5.69s\tremaining: 376ms\n",
      "938:\tlearn: 6.7771927\ttotal: 5.69s\tremaining: 370ms\n",
      "939:\tlearn: 6.7751665\ttotal: 5.7s\tremaining: 364ms\n",
      "940:\tlearn: 6.7682416\ttotal: 5.7s\tremaining: 358ms\n",
      "941:\tlearn: 6.7577022\ttotal: 5.71s\tremaining: 352ms\n",
      "942:\tlearn: 6.7494887\ttotal: 5.72s\tremaining: 346ms\n",
      "943:\tlearn: 6.7426725\ttotal: 5.72s\tremaining: 339ms\n",
      "944:\tlearn: 6.7383108\ttotal: 5.73s\tremaining: 333ms\n",
      "945:\tlearn: 6.7282879\ttotal: 5.73s\tremaining: 327ms\n",
      "946:\tlearn: 6.7215028\ttotal: 5.74s\tremaining: 321ms\n",
      "947:\tlearn: 6.7169997\ttotal: 5.75s\tremaining: 315ms\n",
      "948:\tlearn: 6.7107643\ttotal: 5.75s\tremaining: 309ms\n",
      "949:\tlearn: 6.7011290\ttotal: 5.76s\tremaining: 303ms\n",
      "950:\tlearn: 6.6966091\ttotal: 5.76s\tremaining: 297ms\n",
      "951:\tlearn: 6.6884285\ttotal: 5.77s\tremaining: 291ms\n",
      "952:\tlearn: 6.6838878\ttotal: 5.78s\tremaining: 285ms\n",
      "953:\tlearn: 6.6836497\ttotal: 5.78s\tremaining: 279ms\n",
      "954:\tlearn: 6.6764880\ttotal: 5.79s\tremaining: 273ms\n",
      "955:\tlearn: 6.6696048\ttotal: 5.79s\tremaining: 267ms\n",
      "956:\tlearn: 6.6580819\ttotal: 5.8s\tremaining: 261ms\n",
      "957:\tlearn: 6.6506373\ttotal: 5.81s\tremaining: 255ms\n",
      "958:\tlearn: 6.6498089\ttotal: 5.81s\tremaining: 249ms\n",
      "959:\tlearn: 6.6422239\ttotal: 5.82s\tremaining: 242ms\n",
      "960:\tlearn: 6.6384226\ttotal: 5.83s\tremaining: 236ms\n",
      "961:\tlearn: 6.6300287\ttotal: 5.83s\tremaining: 230ms\n",
      "962:\tlearn: 6.6242407\ttotal: 5.84s\tremaining: 224ms\n",
      "963:\tlearn: 6.6164267\ttotal: 5.84s\tremaining: 218ms\n",
      "964:\tlearn: 6.6062595\ttotal: 5.85s\tremaining: 212ms\n",
      "965:\tlearn: 6.6013011\ttotal: 5.86s\tremaining: 206ms\n",
      "966:\tlearn: 6.5933647\ttotal: 5.86s\tremaining: 200ms\n",
      "967:\tlearn: 6.5902630\ttotal: 5.87s\tremaining: 194ms\n",
      "968:\tlearn: 6.5838980\ttotal: 5.87s\tremaining: 188ms\n",
      "969:\tlearn: 6.5762967\ttotal: 5.88s\tremaining: 182ms\n",
      "970:\tlearn: 6.5721522\ttotal: 5.89s\tremaining: 176ms\n",
      "971:\tlearn: 6.5718038\ttotal: 5.89s\tremaining: 170ms\n",
      "972:\tlearn: 6.5662875\ttotal: 5.9s\tremaining: 164ms\n",
      "973:\tlearn: 6.5568558\ttotal: 5.9s\tremaining: 158ms\n",
      "974:\tlearn: 6.5450129\ttotal: 5.91s\tremaining: 152ms\n",
      "975:\tlearn: 6.5361593\ttotal: 5.92s\tremaining: 145ms\n",
      "976:\tlearn: 6.5306115\ttotal: 5.92s\tremaining: 139ms\n",
      "977:\tlearn: 6.5241551\ttotal: 5.93s\tremaining: 133ms\n",
      "978:\tlearn: 6.5181532\ttotal: 5.93s\tremaining: 127ms\n",
      "979:\tlearn: 6.5097272\ttotal: 5.94s\tremaining: 121ms\n",
      "980:\tlearn: 6.5048471\ttotal: 5.94s\tremaining: 115ms\n",
      "981:\tlearn: 6.5044165\ttotal: 5.95s\tremaining: 109ms\n",
      "982:\tlearn: 6.4984125\ttotal: 5.95s\tremaining: 103ms\n",
      "983:\tlearn: 6.4916080\ttotal: 5.96s\tremaining: 96.9ms\n",
      "984:\tlearn: 6.4842470\ttotal: 5.97s\tremaining: 90.9ms\n",
      "985:\tlearn: 6.4750519\ttotal: 5.97s\tremaining: 84.8ms\n",
      "986:\tlearn: 6.4662163\ttotal: 5.98s\tremaining: 78.7ms\n",
      "987:\tlearn: 6.4599483\ttotal: 5.98s\tremaining: 72.7ms\n",
      "988:\tlearn: 6.4540603\ttotal: 5.99s\tremaining: 66.6ms\n",
      "989:\tlearn: 6.4511681\ttotal: 5.99s\tremaining: 60.5ms\n",
      "990:\tlearn: 6.4416495\ttotal: 6s\tremaining: 54.5ms\n",
      "991:\tlearn: 6.4329097\ttotal: 6s\tremaining: 48.4ms\n",
      "992:\tlearn: 6.4274002\ttotal: 6.01s\tremaining: 42.4ms\n",
      "993:\tlearn: 6.4230961\ttotal: 6.02s\tremaining: 36.3ms\n",
      "994:\tlearn: 6.4178317\ttotal: 6.02s\tremaining: 30.3ms\n",
      "995:\tlearn: 6.4087562\ttotal: 6.03s\tremaining: 24.2ms\n",
      "996:\tlearn: 6.4043916\ttotal: 6.03s\tremaining: 18.2ms\n",
      "997:\tlearn: 6.4002323\ttotal: 6.04s\tremaining: 12.1ms\n",
      "998:\tlearn: 6.3923108\ttotal: 6.04s\tremaining: 6.05ms\n",
      "999:\tlearn: 6.3802818\ttotal: 6.05s\tremaining: 0us\n",
      "RMSE: 40.16302590073308\n"
     ]
    }
   ],
   "source": [
    "model = CatBoostRegressor(iterations=1000, learning_rate=0.1, depth=6)\n",
    "model.fit(features_train, target_train)\n",
    "predictions = model.predict(features_test)\n",
    "rmse = mean_squared_error(target_test, predictions, squared=False)\n",
    "print('RMSE:', rmse)"
   ]
  },
  {
   "cell_type": "markdown",
   "metadata": {},
   "source": [
    "RMSE=40.16 < 48"
   ]
  },
  {
   "cell_type": "markdown",
   "metadata": {},
   "source": [
    "<b> Вывод: самой точной оказалась модель CatBoostRegressor."
   ]
  },
  {
   "cell_type": "code",
   "execution_count": 49,
   "metadata": {},
   "outputs": [
    {
     "data": {
      "text/plain": [
       "Text(0.5, 0, 'Дата и время')"
      ]
     },
     "execution_count": 49,
     "metadata": {},
     "output_type": "execute_result"
    },
    {
     "data": {
      "image/png": "[encoded data removed]",
      "text/plain": [
       "<Figure size 1440x720 with 1 Axes>"
      ]
     },
     "metadata": {},
     "output_type": "display_data"
    }
   ],
   "source": [
    "plt.figure(figsize=[20, 10])\n",
    "plt.suptitle('график различия реальности и прогноза модели CatBoostRegressor', fontsize=15)\n",
    "plt.grid(True)\n",
    "\n",
    "chart_for_predict = pd.DataFrame(data=predictions, index=target_test.index)\n",
    "plt.plot(chart_for_predict['2018-08-24':'2018-08-26'], label='Предсказания модели', color='r')\n",
    "plt.plot(target_test['2018-08-24':'2018-08-26'], label='Фактические результаты', color='b')\n",
    "plt.legend(edgecolor = 'r', facecolor = 'oldlace')\n",
    "plt.ylabel('Количество заказов', fontsize=13)\n",
    "plt.xlabel('Дата и время', fontsize=13)"
   ]
  },
  {
   "cell_type": "markdown",
   "metadata": {},
   "source": [
    "## Общий вывод"
   ]
  },
  {
   "cell_type": "markdown",
   "metadata": {},
   "source": [
    "**В данном проекте мы иследовали исторические данные о количестве заказов такси в разное время, и на их основании предсказывали количество на следующий час. В данных не было выбросов и пропусков, потому сразу перешли к анализу. Анализ показал плавный рост заказов с марта по август. Сезонность не выявлена. Затем были обучены 2 модели для предсказаний. Самой точной оказалось модель CatBoostRegressor. RMSE на тестовой выборке составил 40.16**"
   ]
  }
 ],
 "metadata": {
  "ExecuteTimeLog": [
   {
    "duration": 442,
    "start_time": "2023-07-24T08:34:13.053Z"
   },
   {
    "duration": 170,
    "start_time": "2023-07-24T08:34:47.566Z"
   },
   {
    "duration": 17,
    "start_time": "2023-07-24T08:35:07.921Z"
   },
   {
    "duration": 76,
    "start_time": "2023-07-24T08:38:34.396Z"
   },
   {
    "duration": 11,
    "start_time": "2023-07-24T08:38:37.643Z"
   },
   {
    "duration": 47,
    "start_time": "2023-07-24T08:38:59.844Z"
   },
   {
    "duration": 27,
    "start_time": "2023-07-24T08:39:29.706Z"
   },
   {
    "duration": 22,
    "start_time": "2023-07-24T08:42:24.297Z"
   },
   {
    "duration": 87,
    "start_time": "2023-07-24T08:43:04.473Z"
   },
   {
    "duration": 4,
    "start_time": "2023-07-24T08:43:10.096Z"
   },
   {
    "duration": 14,
    "start_time": "2023-07-24T08:43:22.823Z"
   },
   {
    "duration": 5,
    "start_time": "2023-07-24T08:44:44.976Z"
   },
   {
    "duration": 1428,
    "start_time": "2023-07-24T08:45:44.690Z"
   },
   {
    "duration": 6,
    "start_time": "2023-07-24T08:46:34.488Z"
   },
   {
    "duration": 468,
    "start_time": "2023-07-24T08:47:31.192Z"
   },
   {
    "duration": 59,
    "start_time": "2023-07-24T08:47:31.662Z"
   },
   {
    "duration": 14,
    "start_time": "2023-07-24T08:47:31.726Z"
   },
   {
    "duration": 26,
    "start_time": "2023-07-24T08:47:31.742Z"
   },
   {
    "duration": 40,
    "start_time": "2023-07-24T08:47:31.770Z"
   },
   {
    "duration": 55,
    "start_time": "2023-07-24T08:47:31.817Z"
   },
   {
    "duration": 26,
    "start_time": "2023-07-24T08:47:31.874Z"
   },
   {
    "duration": 52,
    "start_time": "2023-07-24T08:47:31.908Z"
   },
   {
    "duration": 1168,
    "start_time": "2023-07-24T08:47:31.962Z"
   },
   {
    "duration": 13,
    "start_time": "2023-07-24T08:47:57.569Z"
   },
   {
    "duration": 215,
    "start_time": "2023-07-24T08:49:49.560Z"
   },
   {
    "duration": 382,
    "start_time": "2023-08-26T14:40:58.508Z"
   },
   {
    "duration": 132,
    "start_time": "2023-08-26T14:40:58.891Z"
   },
   {
    "duration": 16,
    "start_time": "2023-08-26T14:40:59.025Z"
   },
   {
    "duration": 33,
    "start_time": "2023-08-26T14:40:59.044Z"
   },
   {
    "duration": 15,
    "start_time": "2023-08-26T14:40:59.079Z"
   },
   {
    "duration": 4,
    "start_time": "2023-08-26T14:40:59.096Z"
   },
   {
    "duration": 7,
    "start_time": "2023-08-26T14:40:59.102Z"
   },
   {
    "duration": 9,
    "start_time": "2023-08-26T14:40:59.111Z"
   },
   {
    "duration": 26,
    "start_time": "2023-08-26T14:40:59.122Z"
   },
   {
    "duration": 1066,
    "start_time": "2023-08-26T14:40:59.151Z"
   },
   {
    "duration": 834,
    "start_time": "2023-08-26T14:41:00.219Z"
   },
   {
    "duration": 817,
    "start_time": "2023-08-26T14:44:50.963Z"
   },
   {
    "duration": 440,
    "start_time": "2023-08-26T14:45:12.028Z"
   },
   {
    "duration": 52,
    "start_time": "2023-08-26T14:45:12.470Z"
   },
   {
    "duration": 12,
    "start_time": "2023-08-26T14:45:12.524Z"
   },
   {
    "duration": 11,
    "start_time": "2023-08-26T14:45:12.538Z"
   },
   {
    "duration": 14,
    "start_time": "2023-08-26T14:45:12.550Z"
   },
   {
    "duration": 4,
    "start_time": "2023-08-26T14:45:12.566Z"
   },
   {
    "duration": 44,
    "start_time": "2023-08-26T14:45:12.571Z"
   },
   {
    "duration": 27,
    "start_time": "2023-08-26T14:45:12.618Z"
   },
   {
    "duration": 12,
    "start_time": "2023-08-26T14:45:12.647Z"
   },
   {
    "duration": 817,
    "start_time": "2023-08-26T14:45:12.662Z"
   },
   {
    "duration": 840,
    "start_time": "2023-08-26T14:45:13.481Z"
   },
   {
    "duration": 15,
    "start_time": "2023-08-26T14:47:45.189Z"
   },
   {
    "duration": 8,
    "start_time": "2023-08-26T14:47:56.730Z"
   },
   {
    "duration": 197,
    "start_time": "2023-08-26T14:48:14.988Z"
   },
   {
    "duration": 48,
    "start_time": "2023-08-28T18:32:15.814Z"
   },
   {
    "duration": 1687,
    "start_time": "2023-08-28T18:32:24.818Z"
   },
   {
    "duration": 123,
    "start_time": "2023-08-28T18:32:26.507Z"
   },
   {
    "duration": 12,
    "start_time": "2023-08-28T18:32:26.632Z"
   },
   {
    "duration": 13,
    "start_time": "2023-08-28T18:32:26.645Z"
   },
   {
    "duration": 26,
    "start_time": "2023-08-28T18:32:26.660Z"
   },
   {
    "duration": 27,
    "start_time": "2023-08-28T18:32:26.687Z"
   },
   {
    "duration": 12,
    "start_time": "2023-08-28T18:32:26.716Z"
   },
   {
    "duration": 13,
    "start_time": "2023-08-28T18:32:26.729Z"
   },
   {
    "duration": 25,
    "start_time": "2023-08-28T18:32:26.744Z"
   },
   {
    "duration": 18,
    "start_time": "2023-08-28T18:32:26.771Z"
   },
   {
    "duration": 15,
    "start_time": "2023-08-28T18:32:26.791Z"
   },
   {
    "duration": 246,
    "start_time": "2023-08-28T18:32:26.807Z"
   },
   {
    "duration": 7,
    "start_time": "2023-08-28T18:35:39.270Z"
   },
   {
    "duration": 310,
    "start_time": "2023-08-28T18:36:27.400Z"
   },
   {
    "duration": 152,
    "start_time": "2023-08-28T18:36:36.682Z"
   },
   {
    "duration": 360,
    "start_time": "2023-08-28T18:36:56.230Z"
   },
   {
    "duration": 194,
    "start_time": "2023-08-28T18:37:12.320Z"
   },
   {
    "duration": 202,
    "start_time": "2023-08-28T18:38:09.187Z"
   },
   {
    "duration": 177,
    "start_time": "2023-08-28T18:38:13.443Z"
   },
   {
    "duration": 154,
    "start_time": "2023-08-28T18:48:01.901Z"
   },
   {
    "duration": 194,
    "start_time": "2023-08-28T18:48:18.210Z"
   },
   {
    "duration": 14,
    "start_time": "2023-08-28T19:09:20.501Z"
   },
   {
    "duration": 14,
    "start_time": "2023-08-28T19:09:34.976Z"
   },
   {
    "duration": 8,
    "start_time": "2023-08-28T19:11:33.225Z"
   },
   {
    "duration": 3,
    "start_time": "2023-08-28T19:12:44.589Z"
   },
   {
    "duration": 5,
    "start_time": "2023-08-28T19:14:09.199Z"
   },
   {
    "duration": 6,
    "start_time": "2023-08-28T19:14:46.225Z"
   },
   {
    "duration": 4,
    "start_time": "2023-08-28T19:14:53.814Z"
   },
   {
    "duration": 5,
    "start_time": "2023-08-28T19:16:04.868Z"
   },
   {
    "duration": 4,
    "start_time": "2023-08-28T19:17:04.618Z"
   },
   {
    "duration": 7,
    "start_time": "2023-08-28T19:18:37.175Z"
   },
   {
    "duration": 3,
    "start_time": "2023-08-28T19:19:48.183Z"
   },
   {
    "duration": 118,
    "start_time": "2023-08-28T19:20:41.624Z"
   },
   {
    "duration": 1132,
    "start_time": "2023-08-28T19:22:26.243Z"
   },
   {
    "duration": 1107,
    "start_time": "2023-08-28T19:23:47.610Z"
   },
   {
    "duration": 6,
    "start_time": "2023-08-28T19:24:58.591Z"
   },
   {
    "duration": 3,
    "start_time": "2023-08-28T19:25:00.108Z"
   },
   {
    "duration": 5,
    "start_time": "2023-08-28T19:25:15.066Z"
   },
   {
    "duration": 2128,
    "start_time": "2023-09-04T09:57:41.873Z"
   },
   {
    "duration": 144,
    "start_time": "2023-09-04T09:57:44.004Z"
   },
   {
    "duration": 14,
    "start_time": "2023-09-04T09:57:44.150Z"
   },
   {
    "duration": 9,
    "start_time": "2023-09-04T09:57:44.166Z"
   },
   {
    "duration": 11,
    "start_time": "2023-09-04T09:57:44.177Z"
   },
   {
    "duration": 5,
    "start_time": "2023-09-04T09:57:44.190Z"
   },
   {
    "duration": 6,
    "start_time": "2023-09-04T09:57:44.197Z"
   },
   {
    "duration": 21,
    "start_time": "2023-09-04T09:57:44.204Z"
   },
   {
    "duration": 20,
    "start_time": "2023-09-04T09:57:44.226Z"
   },
   {
    "duration": 5,
    "start_time": "2023-09-04T09:57:44.250Z"
   },
   {
    "duration": 10,
    "start_time": "2023-09-04T09:57:44.257Z"
   },
   {
    "duration": 365,
    "start_time": "2023-09-04T09:57:44.269Z"
   },
   {
    "duration": 13,
    "start_time": "2023-09-04T09:57:44.636Z"
   },
   {
    "duration": 298,
    "start_time": "2023-09-04T09:57:44.652Z"
   },
   {
    "duration": 236,
    "start_time": "2023-09-04T09:57:44.952Z"
   },
   {
    "duration": 269,
    "start_time": "2023-09-04T09:57:45.190Z"
   },
   {
    "duration": 272,
    "start_time": "2023-09-04T09:57:45.461Z"
   },
   {
    "duration": 14,
    "start_time": "2023-09-04T09:57:45.737Z"
   },
   {
    "duration": 51,
    "start_time": "2023-09-04T09:57:45.752Z"
   },
   {
    "duration": 21,
    "start_time": "2023-09-04T09:57:45.805Z"
   },
   {
    "duration": 11,
    "start_time": "2023-09-04T09:57:45.831Z"
   },
   {
    "duration": 10,
    "start_time": "2023-09-04T09:57:45.844Z"
   },
   {
    "duration": 6,
    "start_time": "2023-09-04T09:57:45.856Z"
   },
   {
    "duration": 7,
    "start_time": "2023-09-04T09:57:45.864Z"
   },
   {
    "duration": 8,
    "start_time": "2023-09-04T09:57:45.873Z"
   },
   {
    "duration": 258,
    "start_time": "2023-09-04T09:57:45.883Z"
   },
   {
    "duration": 8,
    "start_time": "2023-09-04T10:05:22.735Z"
   },
   {
    "duration": 115,
    "start_time": "2023-09-04T10:05:29.704Z"
   },
   {
    "duration": 3,
    "start_time": "2023-09-04T10:06:04.581Z"
   },
   {
    "duration": 55691,
    "start_time": "2023-09-04T10:06:05.069Z"
   },
   {
    "duration": 32869,
    "start_time": "2023-09-04T10:14:10.706Z"
   },
   {
    "duration": 30414,
    "start_time": "2023-09-04T10:32:14.806Z"
   },
   {
    "duration": 45559,
    "start_time": "2023-09-04T10:39:39.169Z"
   },
   {
    "duration": 19,
    "start_time": "2023-09-04T10:45:15.201Z"
   },
   {
    "duration": 2244,
    "start_time": "2023-09-04T10:45:36.984Z"
   },
   {
    "duration": 1959,
    "start_time": "2023-09-04T11:17:59.954Z"
   },
   {
    "duration": 17,
    "start_time": "2023-09-04T11:27:17.863Z"
   },
   {
    "duration": 4,
    "start_time": "2023-09-04T11:28:11.820Z"
   },
   {
    "duration": 383278,
    "start_time": "2023-09-04T11:28:20.156Z"
   },
   {
    "duration": 27093,
    "start_time": "2023-09-04T11:34:43.438Z"
   },
   {
    "duration": 1870,
    "start_time": "2023-09-25T07:49:49.644Z"
   },
   {
    "duration": 152,
    "start_time": "2023-09-25T07:49:51.516Z"
   },
   {
    "duration": 17,
    "start_time": "2023-09-25T07:49:51.670Z"
   },
   {
    "duration": 20,
    "start_time": "2023-09-25T07:49:51.689Z"
   },
   {
    "duration": 28,
    "start_time": "2023-09-25T07:49:51.711Z"
   },
   {
    "duration": 22,
    "start_time": "2023-09-25T07:49:51.742Z"
   },
   {
    "duration": 31,
    "start_time": "2023-09-25T07:49:51.766Z"
   },
   {
    "duration": 32,
    "start_time": "2023-09-25T07:49:51.799Z"
   },
   {
    "duration": 15,
    "start_time": "2023-09-25T07:49:51.833Z"
   },
   {
    "duration": 57,
    "start_time": "2023-09-25T07:49:51.851Z"
   },
   {
    "duration": 26,
    "start_time": "2023-09-25T07:49:51.910Z"
   },
   {
    "duration": 361,
    "start_time": "2023-09-25T07:49:51.938Z"
   },
   {
    "duration": 8,
    "start_time": "2023-09-25T07:49:52.301Z"
   },
   {
    "duration": 303,
    "start_time": "2023-09-25T07:49:52.312Z"
   },
   {
    "duration": 255,
    "start_time": "2023-09-25T07:49:52.617Z"
   },
   {
    "duration": 219,
    "start_time": "2023-09-25T07:49:52.875Z"
   },
   {
    "duration": 15,
    "start_time": "2023-09-25T07:49:53.097Z"
   },
   {
    "duration": 24,
    "start_time": "2023-09-25T07:49:53.114Z"
   },
   {
    "duration": 23,
    "start_time": "2023-09-25T07:49:53.139Z"
   },
   {
    "duration": 16,
    "start_time": "2023-09-25T07:49:53.164Z"
   },
   {
    "duration": 6,
    "start_time": "2023-09-25T07:49:53.182Z"
   },
   {
    "duration": 6,
    "start_time": "2023-09-25T07:49:53.190Z"
   },
   {
    "duration": 17,
    "start_time": "2023-09-25T07:49:53.198Z"
   },
   {
    "duration": 6,
    "start_time": "2023-09-25T07:49:53.216Z"
   },
   {
    "duration": 6,
    "start_time": "2023-09-25T07:49:53.224Z"
   },
   {
    "duration": 53875,
    "start_time": "2023-09-25T07:49:53.232Z"
   },
   {
    "duration": 28766,
    "start_time": "2023-09-25T07:50:47.109Z"
   },
   {
    "duration": 2153,
    "start_time": "2023-09-25T07:51:15.880Z"
   },
   {
    "duration": 154,
    "start_time": "2023-09-25T07:51:18.035Z"
   },
   {
    "duration": 3240,
    "start_time": "2023-09-25T07:52:15.974Z"
   },
   {
    "duration": 1846,
    "start_time": "2023-09-25T13:32:47.044Z"
   },
   {
    "duration": 120,
    "start_time": "2023-09-25T13:32:48.893Z"
   },
   {
    "duration": 17,
    "start_time": "2023-09-25T13:32:49.015Z"
   },
   {
    "duration": 31,
    "start_time": "2023-09-25T13:32:49.034Z"
   },
   {
    "duration": 32,
    "start_time": "2023-09-25T13:32:49.067Z"
   },
   {
    "duration": 27,
    "start_time": "2023-09-25T13:32:49.102Z"
   },
   {
    "duration": 26,
    "start_time": "2023-09-25T13:32:49.132Z"
   },
   {
    "duration": 35,
    "start_time": "2023-09-25T13:32:49.160Z"
   },
   {
    "duration": 44,
    "start_time": "2023-09-25T13:32:49.196Z"
   },
   {
    "duration": 21,
    "start_time": "2023-09-25T13:32:49.242Z"
   },
   {
    "duration": 38,
    "start_time": "2023-09-25T13:32:49.264Z"
   },
   {
    "duration": 337,
    "start_time": "2023-09-25T13:32:49.304Z"
   },
   {
    "duration": 8,
    "start_time": "2023-09-25T13:32:49.643Z"
   },
   {
    "duration": 279,
    "start_time": "2023-09-25T13:32:49.652Z"
   },
   {
    "duration": 209,
    "start_time": "2023-09-25T13:32:49.933Z"
   },
   {
    "duration": 207,
    "start_time": "2023-09-25T13:32:50.143Z"
   },
   {
    "duration": 5,
    "start_time": "2023-09-25T13:32:50.352Z"
   },
   {
    "duration": 69,
    "start_time": "2023-09-25T13:32:50.359Z"
   },
   {
    "duration": 161,
    "start_time": "2023-09-25T13:32:50.430Z"
   },
   {
    "duration": 0,
    "start_time": "2023-09-25T13:32:50.593Z"
   },
   {
    "duration": 0,
    "start_time": "2023-09-25T13:32:50.594Z"
   },
   {
    "duration": 0,
    "start_time": "2023-09-25T13:32:50.595Z"
   },
   {
    "duration": 0,
    "start_time": "2023-09-25T13:32:50.596Z"
   },
   {
    "duration": 0,
    "start_time": "2023-09-25T13:32:50.597Z"
   },
   {
    "duration": 0,
    "start_time": "2023-09-25T13:32:50.598Z"
   },
   {
    "duration": 0,
    "start_time": "2023-09-25T13:32:50.600Z"
   },
   {
    "duration": 0,
    "start_time": "2023-09-25T13:32:50.601Z"
   },
   {
    "duration": 0,
    "start_time": "2023-09-25T13:32:50.602Z"
   },
   {
    "duration": 0,
    "start_time": "2023-09-25T13:32:50.603Z"
   },
   {
    "duration": 0,
    "start_time": "2023-09-25T13:32:50.604Z"
   },
   {
    "duration": 1615,
    "start_time": "2023-09-25T13:33:25.935Z"
   },
   {
    "duration": 52,
    "start_time": "2023-09-25T13:33:27.552Z"
   },
   {
    "duration": 13,
    "start_time": "2023-09-25T13:33:27.605Z"
   },
   {
    "duration": 44,
    "start_time": "2023-09-25T13:33:27.620Z"
   },
   {
    "duration": 51,
    "start_time": "2023-09-25T13:33:27.666Z"
   },
   {
    "duration": 26,
    "start_time": "2023-09-25T13:33:27.719Z"
   },
   {
    "duration": 43,
    "start_time": "2023-09-25T13:33:27.747Z"
   },
   {
    "duration": 67,
    "start_time": "2023-09-25T13:33:27.792Z"
   },
   {
    "duration": 35,
    "start_time": "2023-09-25T13:33:27.861Z"
   },
   {
    "duration": 27,
    "start_time": "2023-09-25T13:33:27.899Z"
   },
   {
    "duration": 10,
    "start_time": "2023-09-25T13:33:27.927Z"
   },
   {
    "duration": 236,
    "start_time": "2023-09-25T13:33:27.938Z"
   },
   {
    "duration": 11,
    "start_time": "2023-09-25T13:33:28.176Z"
   },
   {
    "duration": 333,
    "start_time": "2023-09-25T13:33:28.188Z"
   },
   {
    "duration": 218,
    "start_time": "2023-09-25T13:33:28.524Z"
   },
   {
    "duration": 199,
    "start_time": "2023-09-25T13:33:28.744Z"
   },
   {
    "duration": 6,
    "start_time": "2023-09-25T13:33:28.945Z"
   },
   {
    "duration": 29,
    "start_time": "2023-09-25T13:33:28.953Z"
   },
   {
    "duration": 20,
    "start_time": "2023-09-25T13:33:28.984Z"
   },
   {
    "duration": 26,
    "start_time": "2023-09-25T13:33:29.006Z"
   },
   {
    "duration": 17,
    "start_time": "2023-09-25T13:33:29.034Z"
   },
   {
    "duration": 15,
    "start_time": "2023-09-25T13:33:29.053Z"
   },
   {
    "duration": 34,
    "start_time": "2023-09-25T13:33:29.070Z"
   },
   {
    "duration": 36,
    "start_time": "2023-09-25T13:33:29.106Z"
   },
   {
    "duration": 31,
    "start_time": "2023-09-25T13:33:29.143Z"
   },
   {
    "duration": 18,
    "start_time": "2023-09-25T13:33:29.176Z"
   },
   {
    "duration": 51604,
    "start_time": "2023-09-25T13:33:29.196Z"
   },
   {
    "duration": 1555,
    "start_time": "2023-09-25T13:34:31.131Z"
   },
   {
    "duration": 51,
    "start_time": "2023-09-25T13:34:32.687Z"
   },
   {
    "duration": 393,
    "start_time": "2023-09-25T13:34:32.740Z"
   },
   {
    "duration": 77,
    "start_time": "2023-09-25T13:34:33.135Z"
   },
   {
    "duration": 26,
    "start_time": "2023-09-25T13:34:33.214Z"
   },
   {
    "duration": 41,
    "start_time": "2023-09-25T13:34:33.242Z"
   },
   {
    "duration": 36,
    "start_time": "2023-09-25T13:34:33.285Z"
   },
   {
    "duration": 39,
    "start_time": "2023-09-25T13:34:33.323Z"
   },
   {
    "duration": 42,
    "start_time": "2023-09-25T13:34:33.364Z"
   },
   {
    "duration": 37,
    "start_time": "2023-09-25T13:34:33.408Z"
   },
   {
    "duration": 31,
    "start_time": "2023-09-25T13:34:33.447Z"
   },
   {
    "duration": 253,
    "start_time": "2023-09-25T13:34:33.480Z"
   },
   {
    "duration": 7,
    "start_time": "2023-09-25T13:34:33.735Z"
   },
   {
    "duration": 339,
    "start_time": "2023-09-25T13:34:33.744Z"
   },
   {
    "duration": 216,
    "start_time": "2023-09-25T13:34:34.084Z"
   },
   {
    "duration": 193,
    "start_time": "2023-09-25T13:34:34.302Z"
   },
   {
    "duration": 5,
    "start_time": "2023-09-25T13:34:34.498Z"
   },
   {
    "duration": 29,
    "start_time": "2023-09-25T13:34:34.505Z"
   },
   {
    "duration": 22,
    "start_time": "2023-09-25T13:34:34.536Z"
   },
   {
    "duration": 27,
    "start_time": "2023-09-25T13:34:34.559Z"
   },
   {
    "duration": 4,
    "start_time": "2023-09-25T13:34:34.588Z"
   },
   {
    "duration": 10,
    "start_time": "2023-09-25T13:34:34.594Z"
   },
   {
    "duration": 9,
    "start_time": "2023-09-25T13:34:34.605Z"
   },
   {
    "duration": 13,
    "start_time": "2023-09-25T13:34:34.616Z"
   },
   {
    "duration": 6,
    "start_time": "2023-09-25T13:34:34.631Z"
   },
   {
    "duration": 11,
    "start_time": "2023-09-25T13:34:34.639Z"
   },
   {
    "duration": 165434,
    "start_time": "2023-09-25T13:34:34.652Z"
   },
   {
    "duration": 91012,
    "start_time": "2023-09-25T13:37:20.090Z"
   },
   {
    "duration": 6567,
    "start_time": "2023-09-25T13:38:51.104Z"
   },
   {
    "duration": 7534,
    "start_time": "2023-09-25T13:38:57.673Z"
   },
   {
    "duration": 142,
    "start_time": "2023-09-25T13:43:48.332Z"
   },
   {
    "duration": 15,
    "start_time": "2023-09-25T13:44:03.880Z"
   },
   {
    "duration": 189,
    "start_time": "2023-09-25T13:45:23.303Z"
   },
   {
    "duration": 448,
    "start_time": "2023-09-25T13:53:59.973Z"
   },
   {
    "duration": 638,
    "start_time": "2023-09-25T13:54:52.773Z"
   },
   {
    "duration": 658,
    "start_time": "2023-09-25T13:55:17.318Z"
   },
   {
    "duration": 397,
    "start_time": "2023-09-25T13:55:34.718Z"
   },
   {
    "duration": 321,
    "start_time": "2023-09-25T13:55:47.574Z"
   },
   {
    "duration": 386,
    "start_time": "2023-09-25T13:56:16.866Z"
   },
   {
    "duration": 317,
    "start_time": "2023-09-25T13:56:38.272Z"
   },
   {
    "duration": 339,
    "start_time": "2023-09-25T13:56:56.116Z"
   },
   {
    "duration": 346,
    "start_time": "2023-09-25T13:57:04.907Z"
   },
   {
    "duration": 348,
    "start_time": "2023-09-25T13:57:14.304Z"
   },
   {
    "duration": 461,
    "start_time": "2023-09-25T13:57:45.647Z"
   },
   {
    "duration": 357,
    "start_time": "2023-09-25T13:58:00.597Z"
   },
   {
    "duration": 334,
    "start_time": "2023-09-25T13:58:25.336Z"
   },
   {
    "duration": 350,
    "start_time": "2023-09-25T13:58:38.828Z"
   },
   {
    "duration": 348,
    "start_time": "2023-09-25T13:58:48.703Z"
   },
   {
    "duration": 340,
    "start_time": "2023-09-25T13:58:55.940Z"
   }
  ],
  "kernelspec": {
   "display_name": "Python 3 (ipykernel)",
   "language": "python",
   "name": "python3"
  },
  "language_info": {
   "codemirror_mode": {
    "name": "ipython",
    "version": 3
   },
   "file_extension": ".py",
   "mimetype": "text/x-python",
   "name": "python",
   "nbconvert_exporter": "python",
   "pygments_lexer": "ipython3",
   "version": "3.9.5"
  },
  "toc": {
   "base_numbering": 1,
   "nav_menu": {},
   "number_sections": true,
   "sideBar": true,
   "skip_h1_title": true,
   "title_cell": "Содержание",
   "title_sidebar": "Contents",
   "toc_cell": true,
   "toc_position": {
    "height": "calc(100% - 180px)",
    "left": "10px",
    "top": "150px",
    "width": "210px"
   },
   "toc_section_display": true,
   "toc_window_display": true
  }
 },
 "nbformat": 4,
 "nbformat_minor": 2
}
