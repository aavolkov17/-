{
 "cells": [
  {
   "cell_type": "markdown",
   "id": "965fdcd7",
   "metadata": {},
   "source": [
    "# Проект ТелеДом"
   ]
  },
  {
   "cell_type": "markdown",
   "id": "a0768f3e",
   "metadata": {},
   "source": [
    "**Описание проекта**\n",
    "\n",
    "Оператор связи «ТелеДом» хочет бороться с оттоком клиентов. Для этого его сотрудники начнут предлагать промокоды и специальные условия всем, кто планирует отказаться от услуг связи. Чтобы заранее находить таких пользователей, «ТелеДому» нужна модель, которая будет предсказывать, разорвёт ли абонент договор. Команда оператора собрала персональные данные о некоторых клиентах, информацию об их тарифах и услугах. Ваша задача — обучить на этих данных модель для прогноза оттока клиентов."
   ]
  },
  {
   "cell_type": "markdown",
   "id": "6ec34182",
   "metadata": {},
   "source": [
    "**Описание услуг**\n",
    "\n",
    "Оператор предоставляет два основных типа услуг: \n",
    "- Стационарную телефонную связь. Телефон можно подключить к нескольким линиям одновременно.\n",
    "- Интернет. Подключение может быть двух типов: через телефонную линию (DSL, от англ. digital subscriber line — «цифровая абонентская линия») или оптоволоконный кабель (Fiber optic).\n",
    "\n",
    "Также доступны такие услуги:\n",
    "    \n",
    "- Интернет-безопасность: антивирус (DeviceProtection) и блокировка небезопасных сайтов (OnlineSecurity);\n",
    "- Выделенная линия технической поддержки (TechSupport);\n",
    "- Облачное хранилище файлов для резервного копирования данных (OnlineBackup);\n",
    "- Стриминговое телевидение (StreamingTV) и каталог фильмов (StreamingMovies).\n",
    "    \n",
    "Клиенты могут платить за услуги каждый месяц или заключить договор на 1–2 года. Возможно оплатить счёт разными способами, а также получить электронный чек."
   ]
  },
  {
   "cell_type": "markdown",
   "id": "98ed322e",
   "metadata": {},
   "source": [
    "**Описание данных**\n",
    "\n",
    "Данные состоят из нескольких файлов, полученных из разных источников:\n",
    "\n",
    "- contract_new.csv — информация о договоре;\n",
    "- personal_new.csv — персональные данные клиента;\n",
    "- internet_new.csv — информация об интернет-услугах;\n",
    "- phone_new.csv — информация об услугах телефонии.\n",
    "\n",
    "Файл contract_new.csv\n",
    "\n",
    "- customerID — идентификатор абонента;\n",
    "- BeginDate — дата начала действия договора;\n",
    "- EndDate — дата окончания действия договора;\n",
    "- Type — тип оплаты: раз в год-два или ежемесячно;\n",
    "- PaperlessBilling — электронный расчётный лист;\n",
    "- PaymentMethod — тип платежа;\n",
    "- MonthlyCharges — расходы за месяц;\n",
    "- TotalCharges — общие расходы абонента.\n",
    "\n",
    "Файл personal_new.csv\n",
    "\n",
    "- customerID — идентификатор пользователя;\n",
    "- gender — пол;\n",
    "- SeniorCitizen — является ли абонент пенсионером;\n",
    "- Partner — есть ли у абонента супруг или супруга;\n",
    "- Dependents — есть ли у абонента дети.\n",
    "\n",
    "Файл internet_new.csv\n",
    "\n",
    "- customerID — идентификатор пользователя;\n",
    "- InternetService — тип подключения;\n",
    "- OnlineSecurity — блокировка опасных сайтов;\n",
    "- OnlineBackup — облачное хранилище файлов для резервного копирования данных;\n",
    "- DeviceProtection — антивирус;\n",
    "- TechSupport — выделенная линия технической поддержки;\n",
    "- StreamingTV — стриминговое телевидение;\n",
    "- StreamingMovies — каталог фильмов.\n",
    "\n",
    "Файл phone_new.csv\n",
    "\n",
    "- customerID — идентификатор пользователя;\n",
    "- MultipleLines — подключение телефона к нескольким линиям одновременно.\n",
    "\n",
    "Во всех файлах столбец customerID содержит код клиента. Информация о договорах актуальна на 1 февраля 2020 года."
   ]
  },
  {
   "cell_type": "markdown",
   "id": "cc8a86f6",
   "metadata": {},
   "source": [
    "## Загрузка данных"
   ]
  },
  {
   "cell_type": "code",
   "execution_count": 1,
   "id": "f8e5ae51",
   "metadata": {},
   "outputs": [],
   "source": [
    "import numpy as np\n",
    "import pandas as pd\n",
    "import re\n",
    "import time\n",
    "import warnings\n",
    "warnings.filterwarnings(\"ignore\")\n",
    "import seaborn as sns\n",
    "import matplotlib.pyplot as plt\n",
    "from numpy.random import RandomState\n",
    "from sklearn.metrics import f1_score, roc_curve, roc_auc_score, f1_score, auc\n",
    "from sklearn.model_selection import train_test_split, RandomizedSearchCV\n",
    "from catboost import CatBoostClassifier, Pool\n",
    "from sklearn.linear_model import LogisticRegression\n",
    "from sklearn.ensemble import RandomForestClassifier\n",
    "from sklearn.preprocessing import StandardScaler"
   ]
  },
  {
   "cell_type": "markdown",
   "id": "b895d7cc",
   "metadata": {},
   "source": [
    "Загрузим наборы данных и рассмотрим их."
   ]
  },
  {
   "cell_type": "code",
   "execution_count": 2,
   "id": "40504e20",
   "metadata": {},
   "outputs": [],
   "source": [
    "contract = pd.read_csv('/datasets/contract_new.csv')\n",
    "personal = pd.read_csv('/datasets/personal_new.csv')\n",
    "internet = pd.read_csv('/datasets/internet_new.csv')\n",
    "phone = pd.read_csv('/datasets/phone_new.csv')"
   ]
  },
  {
   "cell_type": "code",
   "execution_count": 3,
   "id": "b01cd89a",
   "metadata": {},
   "outputs": [
    {
     "data": {
      "text/html": [
       "<div>\n",
       "<style scoped>\n",
       "    .dataframe tbody tr th:only-of-type {\n",
       "        vertical-align: middle;\n",
       "    }\n",
       "\n",
       "    .dataframe tbody tr th {\n",
       "        vertical-align: top;\n",
       "    }\n",
       "\n",
       "    .dataframe thead th {\n",
       "        text-align: right;\n",
       "    }\n",
       "</style>\n",
       "<table border=\"1\" class=\"dataframe\">\n",
       "  <thead>\n",
       "    <tr style=\"text-align: right;\">\n",
       "      <th></th>\n",
       "      <th>customerID</th>\n",
       "      <th>BeginDate</th>\n",
       "      <th>EndDate</th>\n",
       "      <th>Type</th>\n",
       "      <th>PaperlessBilling</th>\n",
       "      <th>PaymentMethod</th>\n",
       "      <th>MonthlyCharges</th>\n",
       "      <th>TotalCharges</th>\n",
       "    </tr>\n",
       "  </thead>\n",
       "  <tbody>\n",
       "    <tr>\n",
       "      <th>0</th>\n",
       "      <td>7590-VHVEG</td>\n",
       "      <td>2020-01-01</td>\n",
       "      <td>No</td>\n",
       "      <td>Month-to-month</td>\n",
       "      <td>Yes</td>\n",
       "      <td>Electronic check</td>\n",
       "      <td>29.85</td>\n",
       "      <td>31.04</td>\n",
       "    </tr>\n",
       "    <tr>\n",
       "      <th>1</th>\n",
       "      <td>5575-GNVDE</td>\n",
       "      <td>2017-04-01</td>\n",
       "      <td>No</td>\n",
       "      <td>One year</td>\n",
       "      <td>No</td>\n",
       "      <td>Mailed check</td>\n",
       "      <td>56.95</td>\n",
       "      <td>2071.84</td>\n",
       "    </tr>\n",
       "    <tr>\n",
       "      <th>2</th>\n",
       "      <td>3668-QPYBK</td>\n",
       "      <td>2019-10-01</td>\n",
       "      <td>No</td>\n",
       "      <td>Month-to-month</td>\n",
       "      <td>Yes</td>\n",
       "      <td>Mailed check</td>\n",
       "      <td>53.85</td>\n",
       "      <td>226.17</td>\n",
       "    </tr>\n",
       "    <tr>\n",
       "      <th>3</th>\n",
       "      <td>7795-CFOCW</td>\n",
       "      <td>2016-05-01</td>\n",
       "      <td>No</td>\n",
       "      <td>One year</td>\n",
       "      <td>No</td>\n",
       "      <td>Bank transfer (automatic)</td>\n",
       "      <td>42.30</td>\n",
       "      <td>1960.6</td>\n",
       "    </tr>\n",
       "    <tr>\n",
       "      <th>4</th>\n",
       "      <td>9237-HQITU</td>\n",
       "      <td>2019-09-01</td>\n",
       "      <td>No</td>\n",
       "      <td>Month-to-month</td>\n",
       "      <td>Yes</td>\n",
       "      <td>Electronic check</td>\n",
       "      <td>70.70</td>\n",
       "      <td>353.5</td>\n",
       "    </tr>\n",
       "  </tbody>\n",
       "</table>\n",
       "</div>"
      ],
      "text/plain": [
       "   customerID   BeginDate EndDate            Type PaperlessBilling  \\\n",
       "0  7590-VHVEG  2020-01-01      No  Month-to-month              Yes   \n",
       "1  5575-GNVDE  2017-04-01      No        One year               No   \n",
       "2  3668-QPYBK  2019-10-01      No  Month-to-month              Yes   \n",
       "3  7795-CFOCW  2016-05-01      No        One year               No   \n",
       "4  9237-HQITU  2019-09-01      No  Month-to-month              Yes   \n",
       "\n",
       "               PaymentMethod  MonthlyCharges TotalCharges  \n",
       "0           Electronic check           29.85        31.04  \n",
       "1               Mailed check           56.95      2071.84  \n",
       "2               Mailed check           53.85       226.17  \n",
       "3  Bank transfer (automatic)           42.30       1960.6  \n",
       "4           Electronic check           70.70        353.5  "
      ]
     },
     "execution_count": 3,
     "metadata": {},
     "output_type": "execute_result"
    }
   ],
   "source": [
    "contract.head()"
   ]
  },
  {
   "cell_type": "code",
   "execution_count": 4,
   "id": "badb9cd0",
   "metadata": {},
   "outputs": [
    {
     "name": "stdout",
     "output_type": "stream",
     "text": [
      "<class 'pandas.core.frame.DataFrame'>\n",
      "RangeIndex: 7043 entries, 0 to 7042\n",
      "Data columns (total 8 columns):\n",
      " #   Column            Non-Null Count  Dtype  \n",
      "---  ------            --------------  -----  \n",
      " 0   customerID        7043 non-null   object \n",
      " 1   BeginDate         7043 non-null   object \n",
      " 2   EndDate           7043 non-null   object \n",
      " 3   Type              7043 non-null   object \n",
      " 4   PaperlessBilling  7043 non-null   object \n",
      " 5   PaymentMethod     7043 non-null   object \n",
      " 6   MonthlyCharges    7043 non-null   float64\n",
      " 7   TotalCharges      7043 non-null   object \n",
      "dtypes: float64(1), object(7)\n",
      "memory usage: 440.3+ KB\n"
     ]
    }
   ],
   "source": [
    "contract.info()"
   ]
  },
  {
   "cell_type": "markdown",
   "id": "2a0b732d",
   "metadata": {},
   "source": [
    "Пропусков нет. Неправильный тип данных у столбцов \"BeginDate\", \"EndDate\" (должен быть datetime) и \"TotalCharges\" (должен быть float)"
   ]
  },
  {
   "cell_type": "code",
   "execution_count": 5,
   "id": "107cc0ea",
   "metadata": {},
   "outputs": [
    {
     "data": {
      "text/html": [
       "<div>\n",
       "<style scoped>\n",
       "    .dataframe tbody tr th:only-of-type {\n",
       "        vertical-align: middle;\n",
       "    }\n",
       "\n",
       "    .dataframe tbody tr th {\n",
       "        vertical-align: top;\n",
       "    }\n",
       "\n",
       "    .dataframe thead th {\n",
       "        text-align: right;\n",
       "    }\n",
       "</style>\n",
       "<table border=\"1\" class=\"dataframe\">\n",
       "  <thead>\n",
       "    <tr style=\"text-align: right;\">\n",
       "      <th></th>\n",
       "      <th>customerID</th>\n",
       "      <th>gender</th>\n",
       "      <th>SeniorCitizen</th>\n",
       "      <th>Partner</th>\n",
       "      <th>Dependents</th>\n",
       "    </tr>\n",
       "  </thead>\n",
       "  <tbody>\n",
       "    <tr>\n",
       "      <th>0</th>\n",
       "      <td>7590-VHVEG</td>\n",
       "      <td>Female</td>\n",
       "      <td>0</td>\n",
       "      <td>Yes</td>\n",
       "      <td>No</td>\n",
       "    </tr>\n",
       "    <tr>\n",
       "      <th>1</th>\n",
       "      <td>5575-GNVDE</td>\n",
       "      <td>Male</td>\n",
       "      <td>0</td>\n",
       "      <td>No</td>\n",
       "      <td>No</td>\n",
       "    </tr>\n",
       "    <tr>\n",
       "      <th>2</th>\n",
       "      <td>3668-QPYBK</td>\n",
       "      <td>Male</td>\n",
       "      <td>0</td>\n",
       "      <td>No</td>\n",
       "      <td>No</td>\n",
       "    </tr>\n",
       "    <tr>\n",
       "      <th>3</th>\n",
       "      <td>7795-CFOCW</td>\n",
       "      <td>Male</td>\n",
       "      <td>0</td>\n",
       "      <td>No</td>\n",
       "      <td>No</td>\n",
       "    </tr>\n",
       "    <tr>\n",
       "      <th>4</th>\n",
       "      <td>9237-HQITU</td>\n",
       "      <td>Female</td>\n",
       "      <td>0</td>\n",
       "      <td>No</td>\n",
       "      <td>No</td>\n",
       "    </tr>\n",
       "  </tbody>\n",
       "</table>\n",
       "</div>"
      ],
      "text/plain": [
       "   customerID  gender  SeniorCitizen Partner Dependents\n",
       "0  7590-VHVEG  Female              0     Yes         No\n",
       "1  5575-GNVDE    Male              0      No         No\n",
       "2  3668-QPYBK    Male              0      No         No\n",
       "3  7795-CFOCW    Male              0      No         No\n",
       "4  9237-HQITU  Female              0      No         No"
      ]
     },
     "execution_count": 5,
     "metadata": {},
     "output_type": "execute_result"
    }
   ],
   "source": [
    "personal.head()"
   ]
  },
  {
   "cell_type": "markdown",
   "id": "b04c8eba",
   "metadata": {},
   "source": [
    "В графе \"SeniorCitizen\" должно быть yes/no вместо 1/0."
   ]
  },
  {
   "cell_type": "code",
   "execution_count": 6,
   "id": "c7d3ab44",
   "metadata": {},
   "outputs": [
    {
     "name": "stdout",
     "output_type": "stream",
     "text": [
      "<class 'pandas.core.frame.DataFrame'>\n",
      "RangeIndex: 7043 entries, 0 to 7042\n",
      "Data columns (total 5 columns):\n",
      " #   Column         Non-Null Count  Dtype \n",
      "---  ------         --------------  ----- \n",
      " 0   customerID     7043 non-null   object\n",
      " 1   gender         7043 non-null   object\n",
      " 2   SeniorCitizen  7043 non-null   int64 \n",
      " 3   Partner        7043 non-null   object\n",
      " 4   Dependents     7043 non-null   object\n",
      "dtypes: int64(1), object(4)\n",
      "memory usage: 275.2+ KB\n"
     ]
    }
   ],
   "source": [
    "personal.info()"
   ]
  },
  {
   "cell_type": "markdown",
   "id": "5a4f469f",
   "metadata": {},
   "source": [
    "Пропусков нет."
   ]
  },
  {
   "cell_type": "code",
   "execution_count": 7,
   "id": "8fd14a7f",
   "metadata": {},
   "outputs": [
    {
     "data": {
      "text/html": [
       "<div>\n",
       "<style scoped>\n",
       "    .dataframe tbody tr th:only-of-type {\n",
       "        vertical-align: middle;\n",
       "    }\n",
       "\n",
       "    .dataframe tbody tr th {\n",
       "        vertical-align: top;\n",
       "    }\n",
       "\n",
       "    .dataframe thead th {\n",
       "        text-align: right;\n",
       "    }\n",
       "</style>\n",
       "<table border=\"1\" class=\"dataframe\">\n",
       "  <thead>\n",
       "    <tr style=\"text-align: right;\">\n",
       "      <th></th>\n",
       "      <th>customerID</th>\n",
       "      <th>InternetService</th>\n",
       "      <th>OnlineSecurity</th>\n",
       "      <th>OnlineBackup</th>\n",
       "      <th>DeviceProtection</th>\n",
       "      <th>TechSupport</th>\n",
       "      <th>StreamingTV</th>\n",
       "      <th>StreamingMovies</th>\n",
       "    </tr>\n",
       "  </thead>\n",
       "  <tbody>\n",
       "    <tr>\n",
       "      <th>0</th>\n",
       "      <td>7590-VHVEG</td>\n",
       "      <td>DSL</td>\n",
       "      <td>No</td>\n",
       "      <td>Yes</td>\n",
       "      <td>No</td>\n",
       "      <td>No</td>\n",
       "      <td>No</td>\n",
       "      <td>No</td>\n",
       "    </tr>\n",
       "    <tr>\n",
       "      <th>1</th>\n",
       "      <td>5575-GNVDE</td>\n",
       "      <td>DSL</td>\n",
       "      <td>Yes</td>\n",
       "      <td>No</td>\n",
       "      <td>Yes</td>\n",
       "      <td>No</td>\n",
       "      <td>No</td>\n",
       "      <td>No</td>\n",
       "    </tr>\n",
       "    <tr>\n",
       "      <th>2</th>\n",
       "      <td>3668-QPYBK</td>\n",
       "      <td>DSL</td>\n",
       "      <td>Yes</td>\n",
       "      <td>Yes</td>\n",
       "      <td>No</td>\n",
       "      <td>No</td>\n",
       "      <td>No</td>\n",
       "      <td>No</td>\n",
       "    </tr>\n",
       "    <tr>\n",
       "      <th>3</th>\n",
       "      <td>7795-CFOCW</td>\n",
       "      <td>DSL</td>\n",
       "      <td>Yes</td>\n",
       "      <td>No</td>\n",
       "      <td>Yes</td>\n",
       "      <td>Yes</td>\n",
       "      <td>No</td>\n",
       "      <td>No</td>\n",
       "    </tr>\n",
       "    <tr>\n",
       "      <th>4</th>\n",
       "      <td>9237-HQITU</td>\n",
       "      <td>Fiber optic</td>\n",
       "      <td>No</td>\n",
       "      <td>No</td>\n",
       "      <td>No</td>\n",
       "      <td>No</td>\n",
       "      <td>No</td>\n",
       "      <td>No</td>\n",
       "    </tr>\n",
       "  </tbody>\n",
       "</table>\n",
       "</div>"
      ],
      "text/plain": [
       "   customerID InternetService OnlineSecurity OnlineBackup DeviceProtection  \\\n",
       "0  7590-VHVEG             DSL             No          Yes               No   \n",
       "1  5575-GNVDE             DSL            Yes           No              Yes   \n",
       "2  3668-QPYBK             DSL            Yes          Yes               No   \n",
       "3  7795-CFOCW             DSL            Yes           No              Yes   \n",
       "4  9237-HQITU     Fiber optic             No           No               No   \n",
       "\n",
       "  TechSupport StreamingTV StreamingMovies  \n",
       "0          No          No              No  \n",
       "1          No          No              No  \n",
       "2          No          No              No  \n",
       "3         Yes          No              No  \n",
       "4          No          No              No  "
      ]
     },
     "execution_count": 7,
     "metadata": {},
     "output_type": "execute_result"
    }
   ],
   "source": [
    "internet.head()"
   ]
  },
  {
   "cell_type": "code",
   "execution_count": 8,
   "id": "dbf947bc",
   "metadata": {},
   "outputs": [
    {
     "name": "stdout",
     "output_type": "stream",
     "text": [
      "<class 'pandas.core.frame.DataFrame'>\n",
      "RangeIndex: 5517 entries, 0 to 5516\n",
      "Data columns (total 8 columns):\n",
      " #   Column            Non-Null Count  Dtype \n",
      "---  ------            --------------  ----- \n",
      " 0   customerID        5517 non-null   object\n",
      " 1   InternetService   5517 non-null   object\n",
      " 2   OnlineSecurity    5517 non-null   object\n",
      " 3   OnlineBackup      5517 non-null   object\n",
      " 4   DeviceProtection  5517 non-null   object\n",
      " 5   TechSupport       5517 non-null   object\n",
      " 6   StreamingTV       5517 non-null   object\n",
      " 7   StreamingMovies   5517 non-null   object\n",
      "dtypes: object(8)\n",
      "memory usage: 344.9+ KB\n"
     ]
    }
   ],
   "source": [
    "internet.info()"
   ]
  },
  {
   "cell_type": "markdown",
   "id": "d2f553ff",
   "metadata": {},
   "source": [
    "Пропусков нет. Тип данных определен верно."
   ]
  },
  {
   "cell_type": "code",
   "execution_count": 9,
   "id": "021fd109",
   "metadata": {},
   "outputs": [
    {
     "data": {
      "text/html": [
       "<div>\n",
       "<style scoped>\n",
       "    .dataframe tbody tr th:only-of-type {\n",
       "        vertical-align: middle;\n",
       "    }\n",
       "\n",
       "    .dataframe tbody tr th {\n",
       "        vertical-align: top;\n",
       "    }\n",
       "\n",
       "    .dataframe thead th {\n",
       "        text-align: right;\n",
       "    }\n",
       "</style>\n",
       "<table border=\"1\" class=\"dataframe\">\n",
       "  <thead>\n",
       "    <tr style=\"text-align: right;\">\n",
       "      <th></th>\n",
       "      <th>customerID</th>\n",
       "      <th>MultipleLines</th>\n",
       "    </tr>\n",
       "  </thead>\n",
       "  <tbody>\n",
       "    <tr>\n",
       "      <th>0</th>\n",
       "      <td>5575-GNVDE</td>\n",
       "      <td>No</td>\n",
       "    </tr>\n",
       "    <tr>\n",
       "      <th>1</th>\n",
       "      <td>3668-QPYBK</td>\n",
       "      <td>No</td>\n",
       "    </tr>\n",
       "    <tr>\n",
       "      <th>2</th>\n",
       "      <td>9237-HQITU</td>\n",
       "      <td>No</td>\n",
       "    </tr>\n",
       "    <tr>\n",
       "      <th>3</th>\n",
       "      <td>9305-CDSKC</td>\n",
       "      <td>Yes</td>\n",
       "    </tr>\n",
       "    <tr>\n",
       "      <th>4</th>\n",
       "      <td>1452-KIOVK</td>\n",
       "      <td>Yes</td>\n",
       "    </tr>\n",
       "  </tbody>\n",
       "</table>\n",
       "</div>"
      ],
      "text/plain": [
       "   customerID MultipleLines\n",
       "0  5575-GNVDE            No\n",
       "1  3668-QPYBK            No\n",
       "2  9237-HQITU            No\n",
       "3  9305-CDSKC           Yes\n",
       "4  1452-KIOVK           Yes"
      ]
     },
     "execution_count": 9,
     "metadata": {},
     "output_type": "execute_result"
    }
   ],
   "source": [
    "phone.head()"
   ]
  },
  {
   "cell_type": "code",
   "execution_count": 10,
   "id": "8eab8757",
   "metadata": {},
   "outputs": [
    {
     "name": "stdout",
     "output_type": "stream",
     "text": [
      "<class 'pandas.core.frame.DataFrame'>\n",
      "RangeIndex: 6361 entries, 0 to 6360\n",
      "Data columns (total 2 columns):\n",
      " #   Column         Non-Null Count  Dtype \n",
      "---  ------         --------------  ----- \n",
      " 0   customerID     6361 non-null   object\n",
      " 1   MultipleLines  6361 non-null   object\n",
      "dtypes: object(2)\n",
      "memory usage: 99.5+ KB\n"
     ]
    }
   ],
   "source": [
    "phone.info()"
   ]
  },
  {
   "cell_type": "markdown",
   "id": "98de1958",
   "metadata": {},
   "source": [
    "Пропусков нет. Тип данных определен верно."
   ]
  },
  {
   "cell_type": "markdown",
   "id": "ee0b5225",
   "metadata": {},
   "source": [
    "**Рассмотрели все наборы данных**"
   ]
  },
  {
   "cell_type": "markdown",
   "id": "baca5cb4",
   "metadata": {},
   "source": [
    "## Предобработка данных"
   ]
  },
  {
   "cell_type": "markdown",
   "id": "ec4577ad",
   "metadata": {},
   "source": [
    "Для удобства объединим все данные в один датафрейм"
   ]
  },
  {
   "cell_type": "code",
   "execution_count": 11,
   "id": "de7aec55",
   "metadata": {},
   "outputs": [],
   "source": [
    "full_df = contract.set_index('customerID').join(phone.set_index('customerID'))\n",
    "full_df = full_df.join(personal.set_index('customerID'))\n",
    "full_df = full_df.join(internet.set_index('customerID'))"
   ]
  },
  {
   "cell_type": "code",
   "execution_count": 12,
   "id": "9fef4f1b",
   "metadata": {
    "scrolled": true
   },
   "outputs": [
    {
     "name": "stdout",
     "output_type": "stream",
     "text": [
      "<class 'pandas.core.frame.DataFrame'>\n",
      "Index: 7043 entries, 7590-VHVEG to 3186-AJIEK\n",
      "Data columns (total 19 columns):\n",
      " #   Column            Non-Null Count  Dtype  \n",
      "---  ------            --------------  -----  \n",
      " 0   BeginDate         7043 non-null   object \n",
      " 1   EndDate           7043 non-null   object \n",
      " 2   Type              7043 non-null   object \n",
      " 3   PaperlessBilling  7043 non-null   object \n",
      " 4   PaymentMethod     7043 non-null   object \n",
      " 5   MonthlyCharges    7043 non-null   float64\n",
      " 6   TotalCharges      7043 non-null   object \n",
      " 7   MultipleLines     6361 non-null   object \n",
      " 8   gender            7043 non-null   object \n",
      " 9   SeniorCitizen     7043 non-null   int64  \n",
      " 10  Partner           7043 non-null   object \n",
      " 11  Dependents        7043 non-null   object \n",
      " 12  InternetService   5517 non-null   object \n",
      " 13  OnlineSecurity    5517 non-null   object \n",
      " 14  OnlineBackup      5517 non-null   object \n",
      " 15  DeviceProtection  5517 non-null   object \n",
      " 16  TechSupport       5517 non-null   object \n",
      " 17  StreamingTV       5517 non-null   object \n",
      " 18  StreamingMovies   5517 non-null   object \n",
      "dtypes: float64(1), int64(1), object(17)\n",
      "memory usage: 1.3+ MB\n"
     ]
    }
   ],
   "source": [
    "full_df.info()"
   ]
  },
  {
   "cell_type": "markdown",
   "id": "1ec6bbd2",
   "metadata": {},
   "source": [
    "Пропуски для колонок из \"internet\" и \"phone\", означающие, что такие услуги пользователям не оказывались, заменим на \"No\"."
   ]
  },
  {
   "cell_type": "markdown",
   "id": "614013c8",
   "metadata": {},
   "source": [
    "Заменяем на \"No\", тк в датасете используются обозначения \"Yes\"/\"No\", это легко увидеть, если вывести все уникальные значения типа object"
   ]
  },
  {
   "cell_type": "code",
   "execution_count": 13,
   "id": "f5873ba7",
   "metadata": {},
   "outputs": [
    {
     "name": "stdout",
     "output_type": "stream",
     "text": [
      "\n",
      "Type -  ['Month-to-month' 'One year' 'Two year']\n",
      "\n",
      "PaperlessBilling -  ['Yes' 'No']\n",
      "\n",
      "PaymentMethod -  ['Electronic check' 'Mailed check' 'Bank transfer (automatic)'\n",
      " 'Credit card (automatic)']\n",
      "\n",
      "TotalCharges -  ['31.04' '2071.84' '226.17' ... '325.6' '520.8' '7251.82']\n",
      "\n",
      "MultipleLines -  [nan 'No' 'Yes']\n",
      "\n",
      "gender -  ['Female' 'Male']\n",
      "\n",
      "Partner -  ['Yes' 'No']\n",
      "\n",
      "Dependents -  ['No' 'Yes']\n",
      "\n",
      "InternetService -  ['DSL' 'Fiber optic' nan]\n",
      "\n",
      "OnlineSecurity -  ['No' 'Yes' nan]\n",
      "\n",
      "OnlineBackup -  ['Yes' 'No' nan]\n",
      "\n",
      "DeviceProtection -  ['No' 'Yes' nan]\n",
      "\n",
      "TechSupport -  ['No' 'Yes' nan]\n",
      "\n",
      "StreamingTV -  ['No' 'Yes' nan]\n",
      "\n",
      "StreamingMovies -  ['No' 'Yes' nan]\n"
     ]
    }
   ],
   "source": [
    "for column in full_df.columns:\n",
    "    if (full_df[column].dtype == 'object') and (column != 'BeginDate') and (column != 'EndDate'):\n",
    "        print(f'\\n{column} - ', full_df[column].unique())"
   ]
  },
  {
   "cell_type": "code",
   "execution_count": 14,
   "id": "3685b5bb",
   "metadata": {},
   "outputs": [],
   "source": [
    "full_df.fillna('No', inplace=True)"
   ]
  },
  {
   "cell_type": "code",
   "execution_count": 15,
   "id": "60756f62",
   "metadata": {},
   "outputs": [
    {
     "name": "stdout",
     "output_type": "stream",
     "text": [
      "<class 'pandas.core.frame.DataFrame'>\n",
      "Index: 7043 entries, 7590-VHVEG to 3186-AJIEK\n",
      "Data columns (total 19 columns):\n",
      " #   Column            Non-Null Count  Dtype  \n",
      "---  ------            --------------  -----  \n",
      " 0   BeginDate         7043 non-null   object \n",
      " 1   EndDate           7043 non-null   object \n",
      " 2   Type              7043 non-null   object \n",
      " 3   PaperlessBilling  7043 non-null   object \n",
      " 4   PaymentMethod     7043 non-null   object \n",
      " 5   MonthlyCharges    7043 non-null   float64\n",
      " 6   TotalCharges      7043 non-null   object \n",
      " 7   MultipleLines     7043 non-null   object \n",
      " 8   gender            7043 non-null   object \n",
      " 9   SeniorCitizen     7043 non-null   int64  \n",
      " 10  Partner           7043 non-null   object \n",
      " 11  Dependents        7043 non-null   object \n",
      " 12  InternetService   7043 non-null   object \n",
      " 13  OnlineSecurity    7043 non-null   object \n",
      " 14  OnlineBackup      7043 non-null   object \n",
      " 15  DeviceProtection  7043 non-null   object \n",
      " 16  TechSupport       7043 non-null   object \n",
      " 17  StreamingTV       7043 non-null   object \n",
      " 18  StreamingMovies   7043 non-null   object \n",
      "dtypes: float64(1), int64(1), object(17)\n",
      "memory usage: 1.3+ MB\n"
     ]
    }
   ],
   "source": [
    "full_df.info()"
   ]
  },
  {
   "cell_type": "markdown",
   "id": "046c80b4",
   "metadata": {},
   "source": [
    "Пропусков больше нет"
   ]
  },
  {
   "cell_type": "markdown",
   "id": "db74d04f",
   "metadata": {},
   "source": [
    "Исправим названия столбцов на \"snake_case\""
   ]
  },
  {
   "cell_type": "code",
   "execution_count": 16,
   "id": "7690af72",
   "metadata": {},
   "outputs": [],
   "source": [
    "new_columns = ['begin_date', 'end_date', 'type', 'paperless_billing', 'payment_method', 'monthly_charges',\n",
    "               'total_charges', 'multiple_lines', 'gender', 'senior_citizen', 'partner', 'dependents',\n",
    "               'internet_service', 'online_security', 'online_backup', 'device_protection', 'tech_support',\n",
    "               'streaming_tv', 'streaming_movies']"
   ]
  },
  {
   "cell_type": "code",
   "execution_count": 17,
   "id": "fa7bb2d1",
   "metadata": {},
   "outputs": [],
   "source": [
    "full_df.columns = new_columns"
   ]
  },
  {
   "cell_type": "code",
   "execution_count": 18,
   "id": "fb91d5e7",
   "metadata": {},
   "outputs": [
    {
     "name": "stdout",
     "output_type": "stream",
     "text": [
      "<class 'pandas.core.frame.DataFrame'>\n",
      "Index: 7043 entries, 7590-VHVEG to 3186-AJIEK\n",
      "Data columns (total 19 columns):\n",
      " #   Column             Non-Null Count  Dtype  \n",
      "---  ------             --------------  -----  \n",
      " 0   begin_date         7043 non-null   object \n",
      " 1   end_date           7043 non-null   object \n",
      " 2   type               7043 non-null   object \n",
      " 3   paperless_billing  7043 non-null   object \n",
      " 4   payment_method     7043 non-null   object \n",
      " 5   monthly_charges    7043 non-null   float64\n",
      " 6   total_charges      7043 non-null   object \n",
      " 7   multiple_lines     7043 non-null   object \n",
      " 8   gender             7043 non-null   object \n",
      " 9   senior_citizen     7043 non-null   int64  \n",
      " 10  partner            7043 non-null   object \n",
      " 11  dependents         7043 non-null   object \n",
      " 12  internet_service   7043 non-null   object \n",
      " 13  online_security    7043 non-null   object \n",
      " 14  online_backup      7043 non-null   object \n",
      " 15  device_protection  7043 non-null   object \n",
      " 16  tech_support       7043 non-null   object \n",
      " 17  streaming_tv       7043 non-null   object \n",
      " 18  streaming_movies   7043 non-null   object \n",
      "dtypes: float64(1), int64(1), object(17)\n",
      "memory usage: 1.3+ MB\n"
     ]
    }
   ],
   "source": [
    "full_df.info()"
   ]
  },
  {
   "cell_type": "markdown",
   "id": "eb5af6e8",
   "metadata": {},
   "source": [
    "Исправим неверные типы данных."
   ]
  },
  {
   "cell_type": "code",
   "execution_count": 19,
   "id": "2fad1b61",
   "metadata": {},
   "outputs": [],
   "source": [
    "full_df['begin_date'] = pd.to_datetime(full_df['begin_date'])"
   ]
  },
  {
   "cell_type": "code",
   "execution_count": 20,
   "id": "b8d42b90",
   "metadata": {},
   "outputs": [
    {
     "data": {
      "text/plain": [
       "array(['No', '2017-05-01', '2016-03-01', '2018-09-01', '2018-11-01',\n",
       "       '2018-12-01', '2019-08-01', '2018-07-01', '2017-09-01',\n",
       "       '2015-09-01', '2016-07-01', '2016-06-01', '2018-03-01',\n",
       "       '2019-02-01', '2018-06-01', '2019-06-01', '2020-01-01',\n",
       "       '2019-11-01', '2016-09-01', '2015-06-01', '2016-12-01',\n",
       "       '2019-05-01', '2019-04-01', '2017-06-01', '2017-08-01',\n",
       "       '2018-04-01', '2018-08-01', '2018-02-01', '2019-07-01',\n",
       "       '2015-12-01', '2014-06-01', '2018-10-01', '2019-01-01',\n",
       "       '2017-07-01', '2017-12-01', '2018-05-01', '2015-11-01',\n",
       "       '2019-10-01', '2019-03-01', '2016-02-01', '2016-10-01',\n",
       "       '2018-01-01', '2017-11-01', '2015-10-01', '2019-12-01',\n",
       "       '2015-07-01', '2017-04-01', '2015-02-01', '2017-03-01',\n",
       "       '2016-05-01', '2016-11-01', '2015-08-01', '2019-09-01',\n",
       "       '2017-10-01', '2017-02-01', '2016-08-01', '2016-04-01',\n",
       "       '2015-05-01', '2014-09-01', '2014-10-01', '2017-01-01',\n",
       "       '2015-03-01', '2015-01-01', '2016-01-01', '2015-04-01',\n",
       "       '2014-12-01', '2014-11-01'], dtype=object)"
      ]
     },
     "execution_count": 20,
     "metadata": {},
     "output_type": "execute_result"
    }
   ],
   "source": [
    "full_df['end_date'].unique()"
   ]
  },
  {
   "cell_type": "markdown",
   "id": "11d1de2a",
   "metadata": {},
   "source": [
    "Значение \"No\" в колонке end_date заменим датой окочания датасета \"2020-02-01\", так как, если дата отсутсвует, значит клиент досрочно не прервал договор и он действовует до последней даты датасета, так мы сможем посчитать длительность контракта на момент выгрузки датасета для всех пользователей."
   ]
  },
  {
   "cell_type": "code",
   "execution_count": 21,
   "id": "37db4a19",
   "metadata": {},
   "outputs": [],
   "source": [
    "full_df['end_date'] = full_df['end_date'].replace('No', '2020-02-01')\n",
    "full_df['end_date'] = pd.to_datetime(full_df['end_date'])"
   ]
  },
  {
   "cell_type": "raw",
   "id": "74ab6c99",
   "metadata": {},
   "source": [
    "Можно оставить пропуски, где значения \"No\"\n",
    "full_df['end_date'] = pd.to_datetime(full_df['end_date'], errors='coerce')"
   ]
  },
  {
   "cell_type": "code",
   "execution_count": 22,
   "id": "816dcc70",
   "metadata": {},
   "outputs": [
    {
     "data": {
      "text/plain": [
       "dtype('<M8[ns]')"
      ]
     },
     "execution_count": 22,
     "metadata": {},
     "output_type": "execute_result"
    }
   ],
   "source": [
    "full_df['end_date'].dtype"
   ]
  },
  {
   "cell_type": "code",
   "execution_count": 23,
   "id": "a80a2689",
   "metadata": {},
   "outputs": [],
   "source": [
    "full_df['total_charges'] = pd.to_numeric(full_df['total_charges'], errors='coerce')"
   ]
  },
  {
   "cell_type": "code",
   "execution_count": 24,
   "id": "9db39a8c",
   "metadata": {},
   "outputs": [
    {
     "data": {
      "text/plain": [
       "11"
      ]
     },
     "execution_count": 24,
     "metadata": {},
     "output_type": "execute_result"
    }
   ],
   "source": [
    "full_df['total_charges'].isnull().sum()"
   ]
  },
  {
   "cell_type": "code",
   "execution_count": 25,
   "id": "d7f3c6cb",
   "metadata": {},
   "outputs": [
    {
     "data": {
      "text/html": [
       "<div>\n",
       "<style scoped>\n",
       "    .dataframe tbody tr th:only-of-type {\n",
       "        vertical-align: middle;\n",
       "    }\n",
       "\n",
       "    .dataframe tbody tr th {\n",
       "        vertical-align: top;\n",
       "    }\n",
       "\n",
       "    .dataframe thead th {\n",
       "        text-align: right;\n",
       "    }\n",
       "</style>\n",
       "<table border=\"1\" class=\"dataframe\">\n",
       "  <thead>\n",
       "    <tr style=\"text-align: right;\">\n",
       "      <th></th>\n",
       "      <th>begin_date</th>\n",
       "      <th>end_date</th>\n",
       "      <th>type</th>\n",
       "      <th>paperless_billing</th>\n",
       "      <th>payment_method</th>\n",
       "      <th>monthly_charges</th>\n",
       "      <th>total_charges</th>\n",
       "      <th>multiple_lines</th>\n",
       "      <th>gender</th>\n",
       "      <th>senior_citizen</th>\n",
       "      <th>partner</th>\n",
       "      <th>dependents</th>\n",
       "      <th>internet_service</th>\n",
       "      <th>online_security</th>\n",
       "      <th>online_backup</th>\n",
       "      <th>device_protection</th>\n",
       "      <th>tech_support</th>\n",
       "      <th>streaming_tv</th>\n",
       "      <th>streaming_movies</th>\n",
       "    </tr>\n",
       "    <tr>\n",
       "      <th>customerID</th>\n",
       "      <th></th>\n",
       "      <th></th>\n",
       "      <th></th>\n",
       "      <th></th>\n",
       "      <th></th>\n",
       "      <th></th>\n",
       "      <th></th>\n",
       "      <th></th>\n",
       "      <th></th>\n",
       "      <th></th>\n",
       "      <th></th>\n",
       "      <th></th>\n",
       "      <th></th>\n",
       "      <th></th>\n",
       "      <th></th>\n",
       "      <th></th>\n",
       "      <th></th>\n",
       "      <th></th>\n",
       "      <th></th>\n",
       "    </tr>\n",
       "  </thead>\n",
       "  <tbody>\n",
       "    <tr>\n",
       "      <th>4472-LVYGI</th>\n",
       "      <td>2020-02-01</td>\n",
       "      <td>2020-02-01</td>\n",
       "      <td>Two year</td>\n",
       "      <td>Yes</td>\n",
       "      <td>Bank transfer (automatic)</td>\n",
       "      <td>52.55</td>\n",
       "      <td>NaN</td>\n",
       "      <td>No</td>\n",
       "      <td>Female</td>\n",
       "      <td>0</td>\n",
       "      <td>Yes</td>\n",
       "      <td>Yes</td>\n",
       "      <td>DSL</td>\n",
       "      <td>Yes</td>\n",
       "      <td>No</td>\n",
       "      <td>Yes</td>\n",
       "      <td>Yes</td>\n",
       "      <td>Yes</td>\n",
       "      <td>No</td>\n",
       "    </tr>\n",
       "    <tr>\n",
       "      <th>3115-CZMZD</th>\n",
       "      <td>2020-02-01</td>\n",
       "      <td>2020-02-01</td>\n",
       "      <td>Two year</td>\n",
       "      <td>No</td>\n",
       "      <td>Mailed check</td>\n",
       "      <td>20.25</td>\n",
       "      <td>NaN</td>\n",
       "      <td>No</td>\n",
       "      <td>Male</td>\n",
       "      <td>0</td>\n",
       "      <td>No</td>\n",
       "      <td>Yes</td>\n",
       "      <td>No</td>\n",
       "      <td>No</td>\n",
       "      <td>No</td>\n",
       "      <td>No</td>\n",
       "      <td>No</td>\n",
       "      <td>No</td>\n",
       "      <td>No</td>\n",
       "    </tr>\n",
       "    <tr>\n",
       "      <th>5709-LVOEQ</th>\n",
       "      <td>2020-02-01</td>\n",
       "      <td>2020-02-01</td>\n",
       "      <td>Two year</td>\n",
       "      <td>No</td>\n",
       "      <td>Mailed check</td>\n",
       "      <td>80.85</td>\n",
       "      <td>NaN</td>\n",
       "      <td>No</td>\n",
       "      <td>Female</td>\n",
       "      <td>0</td>\n",
       "      <td>Yes</td>\n",
       "      <td>Yes</td>\n",
       "      <td>DSL</td>\n",
       "      <td>Yes</td>\n",
       "      <td>Yes</td>\n",
       "      <td>Yes</td>\n",
       "      <td>No</td>\n",
       "      <td>Yes</td>\n",
       "      <td>Yes</td>\n",
       "    </tr>\n",
       "    <tr>\n",
       "      <th>4367-NUYAO</th>\n",
       "      <td>2020-02-01</td>\n",
       "      <td>2020-02-01</td>\n",
       "      <td>Two year</td>\n",
       "      <td>No</td>\n",
       "      <td>Mailed check</td>\n",
       "      <td>25.75</td>\n",
       "      <td>NaN</td>\n",
       "      <td>Yes</td>\n",
       "      <td>Male</td>\n",
       "      <td>0</td>\n",
       "      <td>Yes</td>\n",
       "      <td>Yes</td>\n",
       "      <td>No</td>\n",
       "      <td>No</td>\n",
       "      <td>No</td>\n",
       "      <td>No</td>\n",
       "      <td>No</td>\n",
       "      <td>No</td>\n",
       "      <td>No</td>\n",
       "    </tr>\n",
       "    <tr>\n",
       "      <th>1371-DWPAZ</th>\n",
       "      <td>2020-02-01</td>\n",
       "      <td>2020-02-01</td>\n",
       "      <td>Two year</td>\n",
       "      <td>No</td>\n",
       "      <td>Credit card (automatic)</td>\n",
       "      <td>56.05</td>\n",
       "      <td>NaN</td>\n",
       "      <td>No</td>\n",
       "      <td>Female</td>\n",
       "      <td>0</td>\n",
       "      <td>Yes</td>\n",
       "      <td>Yes</td>\n",
       "      <td>DSL</td>\n",
       "      <td>Yes</td>\n",
       "      <td>Yes</td>\n",
       "      <td>Yes</td>\n",
       "      <td>Yes</td>\n",
       "      <td>Yes</td>\n",
       "      <td>No</td>\n",
       "    </tr>\n",
       "    <tr>\n",
       "      <th>7644-OMVMY</th>\n",
       "      <td>2020-02-01</td>\n",
       "      <td>2020-02-01</td>\n",
       "      <td>Two year</td>\n",
       "      <td>No</td>\n",
       "      <td>Mailed check</td>\n",
       "      <td>19.85</td>\n",
       "      <td>NaN</td>\n",
       "      <td>No</td>\n",
       "      <td>Male</td>\n",
       "      <td>0</td>\n",
       "      <td>Yes</td>\n",
       "      <td>Yes</td>\n",
       "      <td>No</td>\n",
       "      <td>No</td>\n",
       "      <td>No</td>\n",
       "      <td>No</td>\n",
       "      <td>No</td>\n",
       "      <td>No</td>\n",
       "      <td>No</td>\n",
       "    </tr>\n",
       "    <tr>\n",
       "      <th>3213-VVOLG</th>\n",
       "      <td>2020-02-01</td>\n",
       "      <td>2020-02-01</td>\n",
       "      <td>Two year</td>\n",
       "      <td>No</td>\n",
       "      <td>Mailed check</td>\n",
       "      <td>25.35</td>\n",
       "      <td>NaN</td>\n",
       "      <td>Yes</td>\n",
       "      <td>Male</td>\n",
       "      <td>0</td>\n",
       "      <td>Yes</td>\n",
       "      <td>Yes</td>\n",
       "      <td>No</td>\n",
       "      <td>No</td>\n",
       "      <td>No</td>\n",
       "      <td>No</td>\n",
       "      <td>No</td>\n",
       "      <td>No</td>\n",
       "      <td>No</td>\n",
       "    </tr>\n",
       "    <tr>\n",
       "      <th>2520-SGTTA</th>\n",
       "      <td>2020-02-01</td>\n",
       "      <td>2020-02-01</td>\n",
       "      <td>Two year</td>\n",
       "      <td>No</td>\n",
       "      <td>Mailed check</td>\n",
       "      <td>20.00</td>\n",
       "      <td>NaN</td>\n",
       "      <td>No</td>\n",
       "      <td>Female</td>\n",
       "      <td>0</td>\n",
       "      <td>Yes</td>\n",
       "      <td>Yes</td>\n",
       "      <td>No</td>\n",
       "      <td>No</td>\n",
       "      <td>No</td>\n",
       "      <td>No</td>\n",
       "      <td>No</td>\n",
       "      <td>No</td>\n",
       "      <td>No</td>\n",
       "    </tr>\n",
       "    <tr>\n",
       "      <th>2923-ARZLG</th>\n",
       "      <td>2020-02-01</td>\n",
       "      <td>2020-02-01</td>\n",
       "      <td>One year</td>\n",
       "      <td>Yes</td>\n",
       "      <td>Mailed check</td>\n",
       "      <td>19.70</td>\n",
       "      <td>NaN</td>\n",
       "      <td>No</td>\n",
       "      <td>Male</td>\n",
       "      <td>0</td>\n",
       "      <td>Yes</td>\n",
       "      <td>Yes</td>\n",
       "      <td>No</td>\n",
       "      <td>No</td>\n",
       "      <td>No</td>\n",
       "      <td>No</td>\n",
       "      <td>No</td>\n",
       "      <td>No</td>\n",
       "      <td>No</td>\n",
       "    </tr>\n",
       "    <tr>\n",
       "      <th>4075-WKNIU</th>\n",
       "      <td>2020-02-01</td>\n",
       "      <td>2020-02-01</td>\n",
       "      <td>Two year</td>\n",
       "      <td>No</td>\n",
       "      <td>Mailed check</td>\n",
       "      <td>73.35</td>\n",
       "      <td>NaN</td>\n",
       "      <td>Yes</td>\n",
       "      <td>Female</td>\n",
       "      <td>0</td>\n",
       "      <td>Yes</td>\n",
       "      <td>Yes</td>\n",
       "      <td>DSL</td>\n",
       "      <td>No</td>\n",
       "      <td>Yes</td>\n",
       "      <td>Yes</td>\n",
       "      <td>Yes</td>\n",
       "      <td>Yes</td>\n",
       "      <td>No</td>\n",
       "    </tr>\n",
       "    <tr>\n",
       "      <th>2775-SEFEE</th>\n",
       "      <td>2020-02-01</td>\n",
       "      <td>2020-02-01</td>\n",
       "      <td>Two year</td>\n",
       "      <td>Yes</td>\n",
       "      <td>Bank transfer (automatic)</td>\n",
       "      <td>61.90</td>\n",
       "      <td>NaN</td>\n",
       "      <td>Yes</td>\n",
       "      <td>Male</td>\n",
       "      <td>0</td>\n",
       "      <td>No</td>\n",
       "      <td>Yes</td>\n",
       "      <td>DSL</td>\n",
       "      <td>Yes</td>\n",
       "      <td>Yes</td>\n",
       "      <td>No</td>\n",
       "      <td>Yes</td>\n",
       "      <td>No</td>\n",
       "      <td>No</td>\n",
       "    </tr>\n",
       "  </tbody>\n",
       "</table>\n",
       "</div>"
      ],
      "text/plain": [
       "           begin_date   end_date      type paperless_billing  \\\n",
       "customerID                                                     \n",
       "4472-LVYGI 2020-02-01 2020-02-01  Two year               Yes   \n",
       "3115-CZMZD 2020-02-01 2020-02-01  Two year                No   \n",
       "5709-LVOEQ 2020-02-01 2020-02-01  Two year                No   \n",
       "4367-NUYAO 2020-02-01 2020-02-01  Two year                No   \n",
       "1371-DWPAZ 2020-02-01 2020-02-01  Two year                No   \n",
       "7644-OMVMY 2020-02-01 2020-02-01  Two year                No   \n",
       "3213-VVOLG 2020-02-01 2020-02-01  Two year                No   \n",
       "2520-SGTTA 2020-02-01 2020-02-01  Two year                No   \n",
       "2923-ARZLG 2020-02-01 2020-02-01  One year               Yes   \n",
       "4075-WKNIU 2020-02-01 2020-02-01  Two year                No   \n",
       "2775-SEFEE 2020-02-01 2020-02-01  Two year               Yes   \n",
       "\n",
       "                       payment_method  monthly_charges  total_charges  \\\n",
       "customerID                                                              \n",
       "4472-LVYGI  Bank transfer (automatic)            52.55            NaN   \n",
       "3115-CZMZD               Mailed check            20.25            NaN   \n",
       "5709-LVOEQ               Mailed check            80.85            NaN   \n",
       "4367-NUYAO               Mailed check            25.75            NaN   \n",
       "1371-DWPAZ    Credit card (automatic)            56.05            NaN   \n",
       "7644-OMVMY               Mailed check            19.85            NaN   \n",
       "3213-VVOLG               Mailed check            25.35            NaN   \n",
       "2520-SGTTA               Mailed check            20.00            NaN   \n",
       "2923-ARZLG               Mailed check            19.70            NaN   \n",
       "4075-WKNIU               Mailed check            73.35            NaN   \n",
       "2775-SEFEE  Bank transfer (automatic)            61.90            NaN   \n",
       "\n",
       "           multiple_lines  gender  senior_citizen partner dependents  \\\n",
       "customerID                                                             \n",
       "4472-LVYGI             No  Female               0     Yes        Yes   \n",
       "3115-CZMZD             No    Male               0      No        Yes   \n",
       "5709-LVOEQ             No  Female               0     Yes        Yes   \n",
       "4367-NUYAO            Yes    Male               0     Yes        Yes   \n",
       "1371-DWPAZ             No  Female               0     Yes        Yes   \n",
       "7644-OMVMY             No    Male               0     Yes        Yes   \n",
       "3213-VVOLG            Yes    Male               0     Yes        Yes   \n",
       "2520-SGTTA             No  Female               0     Yes        Yes   \n",
       "2923-ARZLG             No    Male               0     Yes        Yes   \n",
       "4075-WKNIU            Yes  Female               0     Yes        Yes   \n",
       "2775-SEFEE            Yes    Male               0      No        Yes   \n",
       "\n",
       "           internet_service online_security online_backup device_protection  \\\n",
       "customerID                                                                    \n",
       "4472-LVYGI              DSL             Yes            No               Yes   \n",
       "3115-CZMZD               No              No            No                No   \n",
       "5709-LVOEQ              DSL             Yes           Yes               Yes   \n",
       "4367-NUYAO               No              No            No                No   \n",
       "1371-DWPAZ              DSL             Yes           Yes               Yes   \n",
       "7644-OMVMY               No              No            No                No   \n",
       "3213-VVOLG               No              No            No                No   \n",
       "2520-SGTTA               No              No            No                No   \n",
       "2923-ARZLG               No              No            No                No   \n",
       "4075-WKNIU              DSL              No           Yes               Yes   \n",
       "2775-SEFEE              DSL             Yes           Yes                No   \n",
       "\n",
       "           tech_support streaming_tv streaming_movies  \n",
       "customerID                                             \n",
       "4472-LVYGI          Yes          Yes               No  \n",
       "3115-CZMZD           No           No               No  \n",
       "5709-LVOEQ           No          Yes              Yes  \n",
       "4367-NUYAO           No           No               No  \n",
       "1371-DWPAZ          Yes          Yes               No  \n",
       "7644-OMVMY           No           No               No  \n",
       "3213-VVOLG           No           No               No  \n",
       "2520-SGTTA           No           No               No  \n",
       "2923-ARZLG           No           No               No  \n",
       "4075-WKNIU          Yes          Yes               No  \n",
       "2775-SEFEE          Yes           No               No  "
      ]
     },
     "execution_count": 25,
     "metadata": {},
     "output_type": "execute_result"
    }
   ],
   "source": [
    "full_df[full_df['total_charges'].isna()]"
   ]
  },
  {
   "cell_type": "markdown",
   "id": "50e89e0f",
   "metadata": {},
   "source": [
    "Можно заметить, что люди с пропусками в общих затратах зарегистрировались недавно, поэтому в поле общие оставим месячные затраты."
   ]
  },
  {
   "cell_type": "code",
   "execution_count": 26,
   "id": "93c0532a",
   "metadata": {},
   "outputs": [],
   "source": [
    "full_df.loc[full_df['total_charges'].isna(), 'total_charges'] = full_df[full_df['total_charges'].isna()]['monthly_charges']"
   ]
  },
  {
   "cell_type": "markdown",
   "id": "a1c6314a",
   "metadata": {},
   "source": [
    "В графе \"senior_citizen\" заменим значения на типичные yes и no"
   ]
  },
  {
   "cell_type": "code",
   "execution_count": 27,
   "id": "9141023c",
   "metadata": {},
   "outputs": [],
   "source": [
    "full_df['senior_citizen'] = full_df['senior_citizen'].replace({0: 'No', 1: 'Yes'})"
   ]
  },
  {
   "cell_type": "code",
   "execution_count": 28,
   "id": "43ab8de2",
   "metadata": {},
   "outputs": [
    {
     "name": "stdout",
     "output_type": "stream",
     "text": [
      "<class 'pandas.core.frame.DataFrame'>\n",
      "Index: 7043 entries, 7590-VHVEG to 3186-AJIEK\n",
      "Data columns (total 19 columns):\n",
      " #   Column             Non-Null Count  Dtype         \n",
      "---  ------             --------------  -----         \n",
      " 0   begin_date         7043 non-null   datetime64[ns]\n",
      " 1   end_date           7043 non-null   datetime64[ns]\n",
      " 2   type               7043 non-null   object        \n",
      " 3   paperless_billing  7043 non-null   object        \n",
      " 4   payment_method     7043 non-null   object        \n",
      " 5   monthly_charges    7043 non-null   float64       \n",
      " 6   total_charges      7043 non-null   float64       \n",
      " 7   multiple_lines     7043 non-null   object        \n",
      " 8   gender             7043 non-null   object        \n",
      " 9   senior_citizen     7043 non-null   object        \n",
      " 10  partner            7043 non-null   object        \n",
      " 11  dependents         7043 non-null   object        \n",
      " 12  internet_service   7043 non-null   object        \n",
      " 13  online_security    7043 non-null   object        \n",
      " 14  online_backup      7043 non-null   object        \n",
      " 15  device_protection  7043 non-null   object        \n",
      " 16  tech_support       7043 non-null   object        \n",
      " 17  streaming_tv       7043 non-null   object        \n",
      " 18  streaming_movies   7043 non-null   object        \n",
      "dtypes: datetime64[ns](2), float64(2), object(15)\n",
      "memory usage: 1.3+ MB\n"
     ]
    }
   ],
   "source": [
    "full_df.info()"
   ]
  },
  {
   "cell_type": "markdown",
   "id": "0c5d4de8",
   "metadata": {},
   "source": [
    "Данные в датасете записаны в верхнем регистре -> приведем все к нижнему"
   ]
  },
  {
   "cell_type": "code",
   "execution_count": 29,
   "id": "b1188f32",
   "metadata": {},
   "outputs": [],
   "source": [
    "for column in full_df.columns:\n",
    "    if (full_df[column].dtype == 'object'):\n",
    "        full_df[column] = full_df[column].str.lower()"
   ]
  },
  {
   "cell_type": "code",
   "execution_count": 30,
   "id": "8f4443b9",
   "metadata": {},
   "outputs": [
    {
     "data": {
      "text/html": [
       "<div>\n",
       "<style scoped>\n",
       "    .dataframe tbody tr th:only-of-type {\n",
       "        vertical-align: middle;\n",
       "    }\n",
       "\n",
       "    .dataframe tbody tr th {\n",
       "        vertical-align: top;\n",
       "    }\n",
       "\n",
       "    .dataframe thead th {\n",
       "        text-align: right;\n",
       "    }\n",
       "</style>\n",
       "<table border=\"1\" class=\"dataframe\">\n",
       "  <thead>\n",
       "    <tr style=\"text-align: right;\">\n",
       "      <th></th>\n",
       "      <th>begin_date</th>\n",
       "      <th>end_date</th>\n",
       "      <th>type</th>\n",
       "      <th>paperless_billing</th>\n",
       "      <th>payment_method</th>\n",
       "      <th>monthly_charges</th>\n",
       "      <th>total_charges</th>\n",
       "      <th>multiple_lines</th>\n",
       "      <th>gender</th>\n",
       "      <th>senior_citizen</th>\n",
       "      <th>partner</th>\n",
       "      <th>dependents</th>\n",
       "      <th>internet_service</th>\n",
       "      <th>online_security</th>\n",
       "      <th>online_backup</th>\n",
       "      <th>device_protection</th>\n",
       "      <th>tech_support</th>\n",
       "      <th>streaming_tv</th>\n",
       "      <th>streaming_movies</th>\n",
       "    </tr>\n",
       "    <tr>\n",
       "      <th>customerID</th>\n",
       "      <th></th>\n",
       "      <th></th>\n",
       "      <th></th>\n",
       "      <th></th>\n",
       "      <th></th>\n",
       "      <th></th>\n",
       "      <th></th>\n",
       "      <th></th>\n",
       "      <th></th>\n",
       "      <th></th>\n",
       "      <th></th>\n",
       "      <th></th>\n",
       "      <th></th>\n",
       "      <th></th>\n",
       "      <th></th>\n",
       "      <th></th>\n",
       "      <th></th>\n",
       "      <th></th>\n",
       "      <th></th>\n",
       "    </tr>\n",
       "  </thead>\n",
       "  <tbody>\n",
       "    <tr>\n",
       "      <th>7590-VHVEG</th>\n",
       "      <td>2020-01-01</td>\n",
       "      <td>2020-02-01</td>\n",
       "      <td>month-to-month</td>\n",
       "      <td>yes</td>\n",
       "      <td>electronic check</td>\n",
       "      <td>29.85</td>\n",
       "      <td>31.04</td>\n",
       "      <td>no</td>\n",
       "      <td>female</td>\n",
       "      <td>no</td>\n",
       "      <td>yes</td>\n",
       "      <td>no</td>\n",
       "      <td>dsl</td>\n",
       "      <td>no</td>\n",
       "      <td>yes</td>\n",
       "      <td>no</td>\n",
       "      <td>no</td>\n",
       "      <td>no</td>\n",
       "      <td>no</td>\n",
       "    </tr>\n",
       "    <tr>\n",
       "      <th>5575-GNVDE</th>\n",
       "      <td>2017-04-01</td>\n",
       "      <td>2020-02-01</td>\n",
       "      <td>one year</td>\n",
       "      <td>no</td>\n",
       "      <td>mailed check</td>\n",
       "      <td>56.95</td>\n",
       "      <td>2071.84</td>\n",
       "      <td>no</td>\n",
       "      <td>male</td>\n",
       "      <td>no</td>\n",
       "      <td>no</td>\n",
       "      <td>no</td>\n",
       "      <td>dsl</td>\n",
       "      <td>yes</td>\n",
       "      <td>no</td>\n",
       "      <td>yes</td>\n",
       "      <td>no</td>\n",
       "      <td>no</td>\n",
       "      <td>no</td>\n",
       "    </tr>\n",
       "    <tr>\n",
       "      <th>3668-QPYBK</th>\n",
       "      <td>2019-10-01</td>\n",
       "      <td>2020-02-01</td>\n",
       "      <td>month-to-month</td>\n",
       "      <td>yes</td>\n",
       "      <td>mailed check</td>\n",
       "      <td>53.85</td>\n",
       "      <td>226.17</td>\n",
       "      <td>no</td>\n",
       "      <td>male</td>\n",
       "      <td>no</td>\n",
       "      <td>no</td>\n",
       "      <td>no</td>\n",
       "      <td>dsl</td>\n",
       "      <td>yes</td>\n",
       "      <td>yes</td>\n",
       "      <td>no</td>\n",
       "      <td>no</td>\n",
       "      <td>no</td>\n",
       "      <td>no</td>\n",
       "    </tr>\n",
       "    <tr>\n",
       "      <th>7795-CFOCW</th>\n",
       "      <td>2016-05-01</td>\n",
       "      <td>2020-02-01</td>\n",
       "      <td>one year</td>\n",
       "      <td>no</td>\n",
       "      <td>bank transfer (automatic)</td>\n",
       "      <td>42.30</td>\n",
       "      <td>1960.60</td>\n",
       "      <td>no</td>\n",
       "      <td>male</td>\n",
       "      <td>no</td>\n",
       "      <td>no</td>\n",
       "      <td>no</td>\n",
       "      <td>dsl</td>\n",
       "      <td>yes</td>\n",
       "      <td>no</td>\n",
       "      <td>yes</td>\n",
       "      <td>yes</td>\n",
       "      <td>no</td>\n",
       "      <td>no</td>\n",
       "    </tr>\n",
       "    <tr>\n",
       "      <th>9237-HQITU</th>\n",
       "      <td>2019-09-01</td>\n",
       "      <td>2020-02-01</td>\n",
       "      <td>month-to-month</td>\n",
       "      <td>yes</td>\n",
       "      <td>electronic check</td>\n",
       "      <td>70.70</td>\n",
       "      <td>353.50</td>\n",
       "      <td>no</td>\n",
       "      <td>female</td>\n",
       "      <td>no</td>\n",
       "      <td>no</td>\n",
       "      <td>no</td>\n",
       "      <td>fiber optic</td>\n",
       "      <td>no</td>\n",
       "      <td>no</td>\n",
       "      <td>no</td>\n",
       "      <td>no</td>\n",
       "      <td>no</td>\n",
       "      <td>no</td>\n",
       "    </tr>\n",
       "  </tbody>\n",
       "</table>\n",
       "</div>"
      ],
      "text/plain": [
       "           begin_date   end_date            type paperless_billing  \\\n",
       "customerID                                                           \n",
       "7590-VHVEG 2020-01-01 2020-02-01  month-to-month               yes   \n",
       "5575-GNVDE 2017-04-01 2020-02-01        one year                no   \n",
       "3668-QPYBK 2019-10-01 2020-02-01  month-to-month               yes   \n",
       "7795-CFOCW 2016-05-01 2020-02-01        one year                no   \n",
       "9237-HQITU 2019-09-01 2020-02-01  month-to-month               yes   \n",
       "\n",
       "                       payment_method  monthly_charges  total_charges  \\\n",
       "customerID                                                              \n",
       "7590-VHVEG           electronic check            29.85          31.04   \n",
       "5575-GNVDE               mailed check            56.95        2071.84   \n",
       "3668-QPYBK               mailed check            53.85         226.17   \n",
       "7795-CFOCW  bank transfer (automatic)            42.30        1960.60   \n",
       "9237-HQITU           electronic check            70.70         353.50   \n",
       "\n",
       "           multiple_lines  gender senior_citizen partner dependents  \\\n",
       "customerID                                                            \n",
       "7590-VHVEG             no  female             no     yes         no   \n",
       "5575-GNVDE             no    male             no      no         no   \n",
       "3668-QPYBK             no    male             no      no         no   \n",
       "7795-CFOCW             no    male             no      no         no   \n",
       "9237-HQITU             no  female             no      no         no   \n",
       "\n",
       "           internet_service online_security online_backup device_protection  \\\n",
       "customerID                                                                    \n",
       "7590-VHVEG              dsl              no           yes                no   \n",
       "5575-GNVDE              dsl             yes            no               yes   \n",
       "3668-QPYBK              dsl             yes           yes                no   \n",
       "7795-CFOCW              dsl             yes            no               yes   \n",
       "9237-HQITU      fiber optic              no            no                no   \n",
       "\n",
       "           tech_support streaming_tv streaming_movies  \n",
       "customerID                                             \n",
       "7590-VHVEG           no           no               no  \n",
       "5575-GNVDE           no           no               no  \n",
       "3668-QPYBK           no           no               no  \n",
       "7795-CFOCW          yes           no               no  \n",
       "9237-HQITU           no           no               no  "
      ]
     },
     "execution_count": 30,
     "metadata": {},
     "output_type": "execute_result"
    }
   ],
   "source": [
    "full_df.head()"
   ]
  },
  {
   "cell_type": "markdown",
   "id": "502ccd93",
   "metadata": {},
   "source": [
    "Убедимся, что в других столбцах нет аномалий."
   ]
  },
  {
   "cell_type": "code",
   "execution_count": 31,
   "id": "679a0512",
   "metadata": {},
   "outputs": [
    {
     "name": "stdout",
     "output_type": "stream",
     "text": [
      "\n",
      "type -  ['month-to-month' 'one year' 'two year']\n",
      "\n",
      "paperless_billing -  ['yes' 'no']\n",
      "\n",
      "payment_method -  ['electronic check' 'mailed check' 'bank transfer (automatic)'\n",
      " 'credit card (automatic)']\n",
      "\n",
      "multiple_lines -  ['no' 'yes']\n",
      "\n",
      "gender -  ['female' 'male']\n",
      "\n",
      "senior_citizen -  ['no' 'yes']\n",
      "\n",
      "partner -  ['yes' 'no']\n",
      "\n",
      "dependents -  ['no' 'yes']\n",
      "\n",
      "internet_service -  ['dsl' 'fiber optic' 'no']\n",
      "\n",
      "online_security -  ['no' 'yes']\n",
      "\n",
      "online_backup -  ['yes' 'no']\n",
      "\n",
      "device_protection -  ['no' 'yes']\n",
      "\n",
      "tech_support -  ['no' 'yes']\n",
      "\n",
      "streaming_tv -  ['no' 'yes']\n",
      "\n",
      "streaming_movies -  ['no' 'yes']\n"
     ]
    }
   ],
   "source": [
    "for column in full_df.columns:\n",
    "    if (full_df[column].dtype == 'object'):\n",
    "        print(f'\\n{column} - ', full_df[column].unique())"
   ]
  },
  {
   "cell_type": "markdown",
   "id": "1fbe1732",
   "metadata": {},
   "source": [
    "Аномалий нет."
   ]
  },
  {
   "cell_type": "code",
   "execution_count": 32,
   "id": "c8724ace",
   "metadata": {},
   "outputs": [
    {
     "data": {
      "text/plain": [
       "4"
      ]
     },
     "execution_count": 32,
     "metadata": {},
     "output_type": "execute_result"
    }
   ],
   "source": [
    "full_df.duplicated().sum()"
   ]
  },
  {
   "cell_type": "markdown",
   "id": "b231af7b",
   "metadata": {},
   "source": [
    "Есть дубликаты, но их очень мало, поэтому просто удалим их."
   ]
  },
  {
   "cell_type": "code",
   "execution_count": 33,
   "id": "ffd9c37a",
   "metadata": {},
   "outputs": [
    {
     "data": {
      "text/plain": [
       "0"
      ]
     },
     "execution_count": 33,
     "metadata": {},
     "output_type": "execute_result"
    }
   ],
   "source": [
    "full_df = full_df.drop_duplicates().reset_index(drop=True)\n",
    "full_df.duplicated().sum()"
   ]
  },
  {
   "cell_type": "markdown",
   "id": "2e416e8a",
   "metadata": {},
   "source": [
    "<b> Вывод: пропуски заполнены,типы данных исправлены, аномалий нет, дубликатов нет -> предобработка данных проведена"
   ]
  },
  {
   "cell_type": "markdown",
   "id": "9d194865",
   "metadata": {},
   "source": [
    "## Исследовательский анализ данных"
   ]
  },
  {
   "cell_type": "markdown",
   "id": "31f4ac8a",
   "metadata": {},
   "source": [
    "Добавим целевой признак в данные. Если дата конца договора равна последней дате в датасете - значит клиент остается, ставим 0. Если дата раньше конца датасета - значит клиент уже ушел, ставим 0"
   ]
  },
  {
   "cell_type": "code",
   "execution_count": 34,
   "id": "b0543df9",
   "metadata": {},
   "outputs": [],
   "source": [
    "full_df['exit'] = 1\n",
    "full_df.loc[full_df['end_date'] == '2020-02-01', 'exit'] = 0"
   ]
  },
  {
   "cell_type": "code",
   "execution_count": 35,
   "id": "ec4b8dc8",
   "metadata": {},
   "outputs": [
    {
     "data": {
      "text/plain": [
       "Text(0.5, 1.0, 'Баланс классов')"
      ]
     },
     "execution_count": 35,
     "metadata": {},
     "output_type": "execute_result"
    },
    {
     "data": {
      "image/png": "[encoded data removed]",
      "text/plain": [
       "<Figure size 1152x576 with 1 Axes>"
      ]
     },
     "metadata": {
      "needs_background": "light"
     },
     "output_type": "display_data"
    }
   ],
   "source": [
    "plt.figure(figsize=(16,8))\n",
    "sns.barplot(x=[0,1], y=full_df['exit'].value_counts() / full_df.shape[0])\n",
    "plt.xticks([0,1], ['Остались', 'Ушли'])\n",
    "plt.title('Баланс классов', fontsize=15)"
   ]
  },
  {
   "cell_type": "markdown",
   "id": "68cf9010",
   "metadata": {},
   "source": [
    "Наблюдается дисбаланс классов."
   ]
  },
  {
   "cell_type": "markdown",
   "id": "3a165870",
   "metadata": {},
   "source": [
    "<b> Составим портрет типичного ушедшего клиента"
   ]
  },
  {
   "cell_type": "markdown",
   "id": "8ac6fff8",
   "metadata": {},
   "source": [
    "Построим столбчатые диаграммы показывающие разницу в количестве клиентов определенного типа."
   ]
  },
  {
   "cell_type": "code",
   "execution_count": 36,
   "id": "498f2542",
   "metadata": {},
   "outputs": [
    {
     "data": {
      "image/png": "[encoded data removed]",
      "text/plain": [
       "<Figure size 1080x504 with 1 Axes>"
      ]
     },
     "metadata": {
      "needs_background": "light"
     },
     "output_type": "display_data"
    }
   ],
   "source": [
    "plt.figure(figsize=(15, 7))\n",
    "sns.countplot(data=full_df, y='type', hue='exit')\n",
    "plt.title('Количество клиентов по типу оплаты', fontsize=15)\n",
    "plt.grid()"
   ]
  },
  {
   "cell_type": "code",
   "execution_count": 37,
   "id": "ef89f44b",
   "metadata": {},
   "outputs": [
    {
     "data": {
      "text/plain": [
       "Text(0.5, 1.0, 'Количество клиентов с электронным чеком')"
      ]
     },
     "execution_count": 37,
     "metadata": {},
     "output_type": "execute_result"
    },
    {
     "data": {
      "image/png": "[encoded data removed]",
      "text/plain": [
       "<Figure size 1080x504 with 1 Axes>"
      ]
     },
     "metadata": {
      "needs_background": "light"
     },
     "output_type": "display_data"
    }
   ],
   "source": [
    "plt.figure(figsize=(15, 7))\n",
    "sns.countplot(data=full_df, y='paperless_billing', hue='exit')\n",
    "plt.title('Количество клиентов с электронным чеком', fontsize=15)"
   ]
  },
  {
   "cell_type": "code",
   "execution_count": 38,
   "id": "28838bd0",
   "metadata": {},
   "outputs": [
    {
     "data": {
      "text/plain": [
       "Text(0.5, 1.0, 'Количество клиентов по способу оплаты')"
      ]
     },
     "execution_count": 38,
     "metadata": {},
     "output_type": "execute_result"
    },
    {
     "data": {
      "image/png": "[encoded data removed]",
      "text/plain": [
       "<Figure size 1080x504 with 1 Axes>"
      ]
     },
     "metadata": {
      "needs_background": "light"
     },
     "output_type": "display_data"
    }
   ],
   "source": [
    "plt.figure(figsize=(15, 7))\n",
    "sns.countplot(data=full_df, x='payment_method', hue='exit')\n",
    "plt.title('Количество клиентов по способу оплаты', fontsize=15)"
   ]
  },
  {
   "cell_type": "code",
   "execution_count": 39,
   "id": "6cbc039d",
   "metadata": {},
   "outputs": [
    {
     "data": {
      "text/plain": [
       "Text(0.5, 1.0, 'Количество клиентов с подключением телефона к нескольким линиям')"
      ]
     },
     "execution_count": 39,
     "metadata": {},
     "output_type": "execute_result"
    },
    {
     "data": {
      "image/png": "[encoded data removed]",
      "text/plain": [
       "<Figure size 1080x504 with 1 Axes>"
      ]
     },
     "metadata": {
      "needs_background": "light"
     },
     "output_type": "display_data"
    }
   ],
   "source": [
    "plt.figure(figsize=(15, 7))\n",
    "sns.countplot(data=full_df, y='multiple_lines', hue='exit')\n",
    "plt.title('Количество клиентов с подключением телефона к нескольким линиям', fontsize=15)"
   ]
  },
  {
   "cell_type": "code",
   "execution_count": 40,
   "id": "954d9df8",
   "metadata": {},
   "outputs": [
    {
     "data": {
      "text/plain": [
       "Text(0.5, 1.0, 'Количество клиентов по полу')"
      ]
     },
     "execution_count": 40,
     "metadata": {},
     "output_type": "execute_result"
    },
    {
     "data": {
      "image/png": "[encoded data removed]",
      "text/plain": [
       "<Figure size 1080x504 with 1 Axes>"
      ]
     },
     "metadata": {
      "needs_background": "light"
     },
     "output_type": "display_data"
    }
   ],
   "source": [
    "plt.figure(figsize=(15, 7))\n",
    "sns.countplot(data=full_df, x='gender', hue='exit')\n",
    "plt.title('Количество клиентов по полу', fontsize=15)"
   ]
  },
  {
   "cell_type": "code",
   "execution_count": 41,
   "id": "69334a44",
   "metadata": {},
   "outputs": [
    {
     "data": {
      "text/plain": [
       "Text(0.5, 1.0, 'Количество пенсионеров')"
      ]
     },
     "execution_count": 41,
     "metadata": {},
     "output_type": "execute_result"
    },
    {
     "data": {
      "image/png": "[encoded data removed]",
      "text/plain": [
       "<Figure size 1080x504 with 1 Axes>"
      ]
     },
     "metadata": {
      "needs_background": "light"
     },
     "output_type": "display_data"
    }
   ],
   "source": [
    "plt.figure(figsize=(15, 7))\n",
    "sns.countplot(data=full_df, y='senior_citizen', hue='exit')\n",
    "plt.title('Количество пенсионеров', fontsize=15)"
   ]
  },
  {
   "cell_type": "code",
   "execution_count": 42,
   "id": "cec71853",
   "metadata": {},
   "outputs": [
    {
     "data": {
      "text/plain": [
       "Text(0.5, 1.0, 'Количество женатых клиентов')"
      ]
     },
     "execution_count": 42,
     "metadata": {},
     "output_type": "execute_result"
    },
    {
     "data": {
      "image/png": "[encoded data removed]",
      "text/plain": [
       "<Figure size 1080x504 with 1 Axes>"
      ]
     },
     "metadata": {
      "needs_background": "light"
     },
     "output_type": "display_data"
    }
   ],
   "source": [
    "plt.figure(figsize=(15, 7))\n",
    "sns.countplot(data=full_df, x='partner', hue='exit')\n",
    "plt.title('Количество женатых клиентов', fontsize=15)"
   ]
  },
  {
   "cell_type": "code",
   "execution_count": 43,
   "id": "4434169d",
   "metadata": {},
   "outputs": [
    {
     "data": {
      "text/plain": [
       "Text(0.5, 1.0, 'Количество клиентов с детьми')"
      ]
     },
     "execution_count": 43,
     "metadata": {},
     "output_type": "execute_result"
    },
    {
     "data": {
      "image/png": "[encoded data removed]",
      "text/plain": [
       "<Figure size 1080x504 with 1 Axes>"
      ]
     },
     "metadata": {
      "needs_background": "light"
     },
     "output_type": "display_data"
    }
   ],
   "source": [
    "plt.figure(figsize=(15, 7))\n",
    "sns.countplot(data=full_df, x='dependents', hue='exit')\n",
    "plt.title('Количество клиентов с детьми', fontsize=15)"
   ]
  },
  {
   "cell_type": "code",
   "execution_count": 44,
   "id": "72972529",
   "metadata": {},
   "outputs": [
    {
     "data": {
      "text/plain": [
       "Text(0.5, 1.0, 'Тип подключения к интернету')"
      ]
     },
     "execution_count": 44,
     "metadata": {},
     "output_type": "execute_result"
    },
    {
     "data": {
      "image/png": "[encoded data removed]",
      "text/plain": [
       "<Figure size 1080x504 with 1 Axes>"
      ]
     },
     "metadata": {
      "needs_background": "light"
     },
     "output_type": "display_data"
    }
   ],
   "source": [
    "plt.figure(figsize=(15, 7))\n",
    "sns.countplot(data=full_df, x='internet_service', hue='exit')\n",
    "plt.title('Тип подключения к интернету', fontsize=15)"
   ]
  },
  {
   "cell_type": "markdown",
   "id": "473983c0",
   "metadata": {},
   "source": [
    "<b> Вывод: Типичный портрет ушедшего клиента\n",
    "    \n",
    "    - платит ежемесячно\n",
    "    - получает электронный расчётный лист\n",
    "    - имеет подключение к нескольким электронным линиям\n",
    "    - женаты\n",
    "    - без детей\n",
    "    - подключены к интернету с помощью оптоволокна"
   ]
  },
  {
   "cell_type": "markdown",
   "id": "9f225099",
   "metadata": {},
   "source": [
    "## Подготовка данных"
   ]
  },
  {
   "cell_type": "markdown",
   "id": "dda7ba97",
   "metadata": {},
   "source": [
    "Используем 1 и 0 для практичности обучения моделей."
   ]
  },
  {
   "cell_type": "code",
   "execution_count": 45,
   "id": "5a0e24ac",
   "metadata": {},
   "outputs": [],
   "source": [
    "for column in ['paperless_billing',\n",
    "               'multiple_lines',\n",
    "               'senior_citizen',\n",
    "               'dependents',\n",
    "               'online_security',\n",
    "               'online_backup',\n",
    "               'tech_support',\n",
    "               'streaming_tv',\n",
    "               'streaming_movies',\n",
    "               'partner',\n",
    "               'device_protection']:\n",
    "    full_df[column].replace('yes', 1, inplace=True)\n",
    "    full_df[column].replace('no', 0, inplace=True)\n",
    "full_df['gender'] = full_df['gender'].replace({'male': 1, 'female': 0})"
   ]
  },
  {
   "cell_type": "code",
   "execution_count": 46,
   "id": "954267e9",
   "metadata": {},
   "outputs": [
    {
     "data": {
      "text/plain": [
       "array([0, 1])"
      ]
     },
     "execution_count": 46,
     "metadata": {},
     "output_type": "execute_result"
    }
   ],
   "source": [
    "full_df['gender'].unique()"
   ]
  },
  {
   "cell_type": "markdown",
   "id": "f366c39e",
   "metadata": {},
   "source": [
    "Для обучения моделей не можем использовать дату начала и конца договора, но можем использовать продолжительность."
   ]
  },
  {
   "cell_type": "code",
   "execution_count": 47,
   "id": "e0a9cbb4",
   "metadata": {},
   "outputs": [],
   "source": [
    "full_df['duration'] = (full_df['end_date'] - full_df['begin_date']).dt.days"
   ]
  },
  {
   "cell_type": "markdown",
   "id": "62228345",
   "metadata": {},
   "source": [
    "Даты больше не понадобятся нам, удалим их."
   ]
  },
  {
   "cell_type": "code",
   "execution_count": 48,
   "id": "e02b469c",
   "metadata": {},
   "outputs": [],
   "source": [
    "full_df.drop(['begin_date', 'end_date'], axis=1, inplace=True)"
   ]
  },
  {
   "cell_type": "markdown",
   "id": "67bd2943",
   "metadata": {},
   "source": [
    "ID клиента можно удалить, тк не несет в себе никакой информации."
   ]
  },
  {
   "cell_type": "code",
   "execution_count": 49,
   "id": "7ec6b291",
   "metadata": {},
   "outputs": [],
   "source": [
    "full_df.reset_index(inplace=True)\n",
    "full_df.drop(['index'], axis=1, inplace=True)"
   ]
  },
  {
   "cell_type": "markdown",
   "id": "99f6de0b",
   "metadata": {},
   "source": [
    "Посмотрим на корреляцию между признаками"
   ]
  },
  {
   "cell_type": "code",
   "execution_count": 50,
   "id": "a75ca9e4",
   "metadata": {},
   "outputs": [
    {
     "data": {
      "text/plain": [
       "<AxesSubplot:title={'center':'КОРРЕЛЯЦИЯ ПРИЗНАКОВ'}>"
      ]
     },
     "execution_count": 50,
     "metadata": {},
     "output_type": "execute_result"
    },
    {
     "data": {
      "image/png": "[encoded data removed]",
      "text/plain": [
       "<Figure size 1440x864 with 2 Axes>"
      ]
     },
     "metadata": {
      "needs_background": "light"
     },
     "output_type": "display_data"
    }
   ],
   "source": [
    "cor = full_df.corr()\n",
    "fig, ax = plt.subplots(figsize=(20,12))\n",
    "plt.title('КОРРЕЛЯЦИЯ ПРИЗНАКОВ', fontsize=20)\n",
    "sns.heatmap(cor, annot=True, cmap=\"coolwarm\",  fmt='.3g', linewidth=4)"
   ]
  },
  {
   "cell_type": "markdown",
   "id": "0656af13",
   "metadata": {},
   "source": [
    "Наибольшая корреляция между длительностью контракта и общей суммы оплаты, total_charges уберем."
   ]
  },
  {
   "cell_type": "code",
   "execution_count": 51,
   "id": "b0ff0492",
   "metadata": {},
   "outputs": [],
   "source": [
    "full_df.drop(['total_charges'], axis=1, inplace=True)"
   ]
  },
  {
   "cell_type": "code",
   "execution_count": 52,
   "id": "08bb1cbc",
   "metadata": {},
   "outputs": [
    {
     "name": "stdout",
     "output_type": "stream",
     "text": [
      "<class 'pandas.core.frame.DataFrame'>\n",
      "RangeIndex: 7039 entries, 0 to 7038\n",
      "Data columns (total 18 columns):\n",
      " #   Column             Non-Null Count  Dtype  \n",
      "---  ------             --------------  -----  \n",
      " 0   type               7039 non-null   object \n",
      " 1   paperless_billing  7039 non-null   int64  \n",
      " 2   payment_method     7039 non-null   object \n",
      " 3   monthly_charges    7039 non-null   float64\n",
      " 4   multiple_lines     7039 non-null   int64  \n",
      " 5   gender             7039 non-null   int64  \n",
      " 6   senior_citizen     7039 non-null   int64  \n",
      " 7   partner            7039 non-null   int64  \n",
      " 8   dependents         7039 non-null   int64  \n",
      " 9   internet_service   7039 non-null   object \n",
      " 10  online_security    7039 non-null   int64  \n",
      " 11  online_backup      7039 non-null   int64  \n",
      " 12  device_protection  7039 non-null   int64  \n",
      " 13  tech_support       7039 non-null   int64  \n",
      " 14  streaming_tv       7039 non-null   int64  \n",
      " 15  streaming_movies   7039 non-null   int64  \n",
      " 16  exit               7039 non-null   int64  \n",
      " 17  duration           7039 non-null   int64  \n",
      "dtypes: float64(1), int64(14), object(3)\n",
      "memory usage: 990.0+ KB\n"
     ]
    }
   ],
   "source": [
    "full_df.info()"
   ]
  },
  {
   "cell_type": "markdown",
   "id": "3466b551",
   "metadata": {},
   "source": [
    "Сформируем выборки для обучния моделей."
   ]
  },
  {
   "cell_type": "code",
   "execution_count": 53,
   "id": "2251869d",
   "metadata": {},
   "outputs": [],
   "source": [
    "features = full_df.drop(['exit'], axis=1)\n",
    "target = full_df['exit']"
   ]
  },
  {
   "cell_type": "code",
   "execution_count": 54,
   "id": "24fc91f6",
   "metadata": {},
   "outputs": [
    {
     "data": {
      "text/html": [
       "<div>\n",
       "<style scoped>\n",
       "    .dataframe tbody tr th:only-of-type {\n",
       "        vertical-align: middle;\n",
       "    }\n",
       "\n",
       "    .dataframe tbody tr th {\n",
       "        vertical-align: top;\n",
       "    }\n",
       "\n",
       "    .dataframe thead th {\n",
       "        text-align: right;\n",
       "    }\n",
       "</style>\n",
       "<table border=\"1\" class=\"dataframe\">\n",
       "  <thead>\n",
       "    <tr style=\"text-align: right;\">\n",
       "      <th></th>\n",
       "      <th>type</th>\n",
       "      <th>paperless_billing</th>\n",
       "      <th>payment_method</th>\n",
       "      <th>monthly_charges</th>\n",
       "      <th>multiple_lines</th>\n",
       "      <th>gender</th>\n",
       "      <th>senior_citizen</th>\n",
       "      <th>partner</th>\n",
       "      <th>dependents</th>\n",
       "      <th>internet_service</th>\n",
       "      <th>online_security</th>\n",
       "      <th>online_backup</th>\n",
       "      <th>device_protection</th>\n",
       "      <th>tech_support</th>\n",
       "      <th>streaming_tv</th>\n",
       "      <th>streaming_movies</th>\n",
       "      <th>duration</th>\n",
       "    </tr>\n",
       "  </thead>\n",
       "  <tbody>\n",
       "    <tr>\n",
       "      <th>0</th>\n",
       "      <td>month-to-month</td>\n",
       "      <td>1</td>\n",
       "      <td>electronic check</td>\n",
       "      <td>29.85</td>\n",
       "      <td>0</td>\n",
       "      <td>0</td>\n",
       "      <td>0</td>\n",
       "      <td>1</td>\n",
       "      <td>0</td>\n",
       "      <td>dsl</td>\n",
       "      <td>0</td>\n",
       "      <td>1</td>\n",
       "      <td>0</td>\n",
       "      <td>0</td>\n",
       "      <td>0</td>\n",
       "      <td>0</td>\n",
       "      <td>31</td>\n",
       "    </tr>\n",
       "    <tr>\n",
       "      <th>1</th>\n",
       "      <td>one year</td>\n",
       "      <td>0</td>\n",
       "      <td>mailed check</td>\n",
       "      <td>56.95</td>\n",
       "      <td>0</td>\n",
       "      <td>1</td>\n",
       "      <td>0</td>\n",
       "      <td>0</td>\n",
       "      <td>0</td>\n",
       "      <td>dsl</td>\n",
       "      <td>1</td>\n",
       "      <td>0</td>\n",
       "      <td>1</td>\n",
       "      <td>0</td>\n",
       "      <td>0</td>\n",
       "      <td>0</td>\n",
       "      <td>1036</td>\n",
       "    </tr>\n",
       "    <tr>\n",
       "      <th>2</th>\n",
       "      <td>month-to-month</td>\n",
       "      <td>1</td>\n",
       "      <td>mailed check</td>\n",
       "      <td>53.85</td>\n",
       "      <td>0</td>\n",
       "      <td>1</td>\n",
       "      <td>0</td>\n",
       "      <td>0</td>\n",
       "      <td>0</td>\n",
       "      <td>dsl</td>\n",
       "      <td>1</td>\n",
       "      <td>1</td>\n",
       "      <td>0</td>\n",
       "      <td>0</td>\n",
       "      <td>0</td>\n",
       "      <td>0</td>\n",
       "      <td>123</td>\n",
       "    </tr>\n",
       "    <tr>\n",
       "      <th>3</th>\n",
       "      <td>one year</td>\n",
       "      <td>0</td>\n",
       "      <td>bank transfer (automatic)</td>\n",
       "      <td>42.30</td>\n",
       "      <td>0</td>\n",
       "      <td>1</td>\n",
       "      <td>0</td>\n",
       "      <td>0</td>\n",
       "      <td>0</td>\n",
       "      <td>dsl</td>\n",
       "      <td>1</td>\n",
       "      <td>0</td>\n",
       "      <td>1</td>\n",
       "      <td>1</td>\n",
       "      <td>0</td>\n",
       "      <td>0</td>\n",
       "      <td>1371</td>\n",
       "    </tr>\n",
       "    <tr>\n",
       "      <th>4</th>\n",
       "      <td>month-to-month</td>\n",
       "      <td>1</td>\n",
       "      <td>electronic check</td>\n",
       "      <td>70.70</td>\n",
       "      <td>0</td>\n",
       "      <td>0</td>\n",
       "      <td>0</td>\n",
       "      <td>0</td>\n",
       "      <td>0</td>\n",
       "      <td>fiber optic</td>\n",
       "      <td>0</td>\n",
       "      <td>0</td>\n",
       "      <td>0</td>\n",
       "      <td>0</td>\n",
       "      <td>0</td>\n",
       "      <td>0</td>\n",
       "      <td>153</td>\n",
       "    </tr>\n",
       "  </tbody>\n",
       "</table>\n",
       "</div>"
      ],
      "text/plain": [
       "             type  paperless_billing             payment_method  \\\n",
       "0  month-to-month                  1           electronic check   \n",
       "1        one year                  0               mailed check   \n",
       "2  month-to-month                  1               mailed check   \n",
       "3        one year                  0  bank transfer (automatic)   \n",
       "4  month-to-month                  1           electronic check   \n",
       "\n",
       "   monthly_charges  multiple_lines  gender  senior_citizen  partner  \\\n",
       "0            29.85               0       0               0        1   \n",
       "1            56.95               0       1               0        0   \n",
       "2            53.85               0       1               0        0   \n",
       "3            42.30               0       1               0        0   \n",
       "4            70.70               0       0               0        0   \n",
       "\n",
       "   dependents internet_service  online_security  online_backup  \\\n",
       "0           0              dsl                0              1   \n",
       "1           0              dsl                1              0   \n",
       "2           0              dsl                1              1   \n",
       "3           0              dsl                1              0   \n",
       "4           0      fiber optic                0              0   \n",
       "\n",
       "   device_protection  tech_support  streaming_tv  streaming_movies  duration  \n",
       "0                  0             0             0                 0        31  \n",
       "1                  1             0             0                 0      1036  \n",
       "2                  0             0             0                 0       123  \n",
       "3                  1             1             0                 0      1371  \n",
       "4                  0             0             0                 0       153  "
      ]
     },
     "execution_count": 54,
     "metadata": {},
     "output_type": "execute_result"
    }
   ],
   "source": [
    "features.head()"
   ]
  },
  {
   "cell_type": "code",
   "execution_count": 55,
   "id": "ef118ac7",
   "metadata": {},
   "outputs": [],
   "source": [
    "features_train, features_test, target_train, target_test = train_test_split(\n",
    "    features, target, test_size=0.25, random_state=251223)"
   ]
  },
  {
   "cell_type": "code",
   "execution_count": 56,
   "id": "b84425b0",
   "metadata": {},
   "outputs": [
    {
     "name": "stdout",
     "output_type": "stream",
     "text": [
      "(5279, 17) (1760, 17)\n"
     ]
    }
   ],
   "source": [
    "print(features_train.shape, features_test.shape)"
   ]
  },
  {
   "cell_type": "markdown",
   "id": "b58fcae0",
   "metadata": {},
   "source": [
    "Закодируем строковые признаки."
   ]
  },
  {
   "cell_type": "code",
   "execution_count": 57,
   "id": "5a58512c",
   "metadata": {},
   "outputs": [],
   "source": [
    "features_train = pd.get_dummies(features_train, columns = [ 'payment_method', 'type', 'internet_service'], drop_first = True)\n",
    "features_test = pd.get_dummies(features_test, columns = [ 'payment_method', 'type', 'internet_service'], drop_first = True)"
   ]
  },
  {
   "cell_type": "code",
   "execution_count": 58,
   "id": "3d8b35d1",
   "metadata": {},
   "outputs": [
    {
     "data": {
      "text/plain": [
       "Index(['paperless_billing', 'monthly_charges', 'multiple_lines', 'gender',\n",
       "       'senior_citizen', 'partner', 'dependents', 'online_security',\n",
       "       'online_backup', 'device_protection', 'tech_support', 'streaming_tv',\n",
       "       'streaming_movies', 'duration',\n",
       "       'payment_method_credit card (automatic)',\n",
       "       'payment_method_electronic check', 'payment_method_mailed check',\n",
       "       'type_one year', 'type_two year', 'internet_service_fiber optic',\n",
       "       'internet_service_no'],\n",
       "      dtype='object')"
      ]
     },
     "execution_count": 58,
     "metadata": {},
     "output_type": "execute_result"
    }
   ],
   "source": [
    "features_train.columns"
   ]
  },
  {
   "cell_type": "code",
   "execution_count": 59,
   "id": "2d6542db",
   "metadata": {},
   "outputs": [
    {
     "data": {
      "text/plain": [
       "Index(['paperless_billing', 'monthly_charges', 'multiple_lines', 'gender',\n",
       "       'senior_citizen', 'partner', 'dependents', 'online_security',\n",
       "       'online_backup', 'device_protection', 'tech_support', 'streaming_tv',\n",
       "       'streaming_movies', 'duration',\n",
       "       'payment_method_credit card (automatic)',\n",
       "       'payment_method_electronic check', 'payment_method_mailed check',\n",
       "       'type_one year', 'type_two year', 'internet_service_fiber optic',\n",
       "       'internet_service_no'],\n",
       "      dtype='object')"
      ]
     },
     "execution_count": 59,
     "metadata": {},
     "output_type": "execute_result"
    }
   ],
   "source": [
    "features_test.columns"
   ]
  },
  {
   "cell_type": "code",
   "execution_count": 60,
   "id": "0f7b78ba",
   "metadata": {},
   "outputs": [
    {
     "data": {
      "text/plain": [
       "array([ True,  True,  True,  True,  True,  True,  True,  True,  True,\n",
       "        True,  True,  True,  True,  True,  True,  True,  True,  True,\n",
       "        True,  True,  True])"
      ]
     },
     "execution_count": 60,
     "metadata": {},
     "output_type": "execute_result"
    }
   ],
   "source": [
    "features_train.columns == features_test.columns"
   ]
  },
  {
   "cell_type": "markdown",
   "id": "ba860f61",
   "metadata": {},
   "source": [
    "После кодирования список признаков в тренировочной и тестовой выборках совпадает"
   ]
  },
  {
   "cell_type": "markdown",
   "id": "045edc09",
   "metadata": {},
   "source": [
    "Удалим ненужные переменные и приступим к обучению моделей."
   ]
  },
  {
   "cell_type": "code",
   "execution_count": 61,
   "id": "de735a3c",
   "metadata": {},
   "outputs": [],
   "source": [
    "del features, target, full_df, contract, personal, internet, phone"
   ]
  },
  {
   "cell_type": "markdown",
   "id": "811c1855",
   "metadata": {},
   "source": [
    "**Вывод: лишние признаки удалены, данные подготовлены к обучению моделей**"
   ]
  },
  {
   "cell_type": "markdown",
   "id": "2fd025e3",
   "metadata": {},
   "source": [
    "## Обучение моделей машинного обучения"
   ]
  },
  {
   "cell_type": "code",
   "execution_count": 62,
   "id": "22911642",
   "metadata": {},
   "outputs": [],
   "source": [
    "state = RandomState(251223)"
   ]
  },
  {
   "cell_type": "markdown",
   "id": "b261982b",
   "metadata": {},
   "source": [
    "**LogisticRegression**"
   ]
  },
  {
   "cell_type": "markdown",
   "id": "38d74336",
   "metadata": {},
   "source": [
    "Стандартизируем числовые данные"
   ]
  },
  {
   "cell_type": "code",
   "execution_count": 63,
   "id": "2366106b",
   "metadata": {},
   "outputs": [],
   "source": [
    "selected_columns = ['monthly_charges', 'duration']\n",
    "features_train_selected = features_train[selected_columns]\n",
    "features_test_selected = features_test[selected_columns]\n",
    "\n",
    "scaler = StandardScaler()\n",
    "features_train_selected_scaled = scaler.fit_transform(features_train_selected)\n",
    "features_test_selected_scaled = scaler.transform(features_test_selected)\n",
    "\n",
    "features_train_processed = np.concatenate((features_train_selected_scaled, features_train.drop(selected_columns, axis=1)), axis=1)\n",
    "features_test_processed = np.concatenate((features_test_selected_scaled, features_test.drop(selected_columns, axis=1)), axis=1)"
   ]
  },
  {
   "cell_type": "code",
   "execution_count": 64,
   "id": "50d3acab",
   "metadata": {},
   "outputs": [
    {
     "name": "stdout",
     "output_type": "stream",
     "text": [
      "{'C': 13}\n",
      "ROC_AUC: 0.7542287047526568\n",
      "Time: 0.10195957024892172\n",
      "CPU times: user 3.11 s, sys: 3.01 s, total: 6.12 s\n",
      "Wall time: 6.12 s\n"
     ]
    }
   ],
   "source": [
    "%%time\n",
    "start_time = time.time()\n",
    "model_lr_for_search = LogisticRegression(class_weight='balanced', solver='liblinear', max_iter=1000)\n",
    "params = dict(C=np.arange(1, 20, 1))\n",
    "search_for_lr = RandomizedSearchCV(model_lr_for_search, \n",
    "                                   params,\n",
    "                                   scoring='roc_auc',\n",
    "                                   random_state=state)\n",
    "search_for_lr.fit(features_train_processed, target_train)\n",
    "end_time = time.time()\n",
    "search_time = (end_time - start_time) / 60\n",
    "print(search_for_lr.best_params_)\n",
    "print('ROC_AUC:', search_for_lr.best_score_)\n",
    "print('Time:', search_time)"
   ]
  },
  {
   "cell_type": "markdown",
   "id": "97c940d7",
   "metadata": {},
   "source": [
    "**RandomForestClassifier**"
   ]
  },
  {
   "cell_type": "code",
   "execution_count": 65,
   "id": "ff64c4f9",
   "metadata": {},
   "outputs": [
    {
     "name": "stdout",
     "output_type": "stream",
     "text": [
      "{'n_jobs': -1, 'n_estimators': 800, 'max_depth': 7}\n",
      "ROC_AUC: 0.8179458248881902\n",
      "Time: 1.5874083558718364\n",
      "CPU times: user 1min 34s, sys: 706 ms, total: 1min 35s\n",
      "Wall time: 1min 35s\n"
     ]
    }
   ],
   "source": [
    "%%time\n",
    "start_time = time.time()\n",
    "model_rf_for_search = RandomForestClassifier(class_weight='balanced')\n",
    "\n",
    "params = dict(n_estimators=np.arange(100, 1000, 100),\n",
    "              max_depth=np.arange(5,11,1),\n",
    "              n_jobs=[1,-1])\n",
    "\n",
    "search_for_rf = RandomizedSearchCV(model_rf_for_search, \n",
    "                                   params,\n",
    "                                   scoring='roc_auc',\n",
    "                                   random_state=state)\n",
    "search_for_rf.fit(features_train, target_train)\n",
    "end_time = time.time()\n",
    "search_time = (end_time - start_time) / 60\n",
    "print(search_for_rf.best_params_)\n",
    "print('ROC_AUC:', search_for_rf.best_score_)\n",
    "print('Time:', search_time)"
   ]
  },
  {
   "cell_type": "markdown",
   "id": "a9e3e1e5",
   "metadata": {},
   "source": [
    "**CatBoostClassifier**"
   ]
  },
  {
   "cell_type": "code",
   "execution_count": 66,
   "id": "7938371f",
   "metadata": {},
   "outputs": [
    {
     "name": "stdout",
     "output_type": "stream",
     "text": [
      "\n",
      "bestTest = 0.8983693268\n",
      "bestIteration = 987\n",
      "\n",
      "\n",
      "bestTest = 0.877002337\n",
      "bestIteration = 354\n",
      "\n",
      "\n",
      "bestTest = 0.8550461839\n",
      "bestIteration = 999\n",
      "\n",
      "\n",
      "bestTest = 0.8591506883\n",
      "bestIteration = 991\n",
      "\n",
      "\n",
      "bestTest = 0.8122172834\n",
      "bestIteration = 1\n",
      "\n",
      "\n",
      "bestTest = 0.8406607794\n",
      "bestIteration = 141\n",
      "\n",
      "Training on fold [0/3]\n",
      "\n",
      "bestTest = 0.9142543436\n",
      "bestIteration = 952\n",
      "\n",
      "Training on fold [1/3]\n",
      "\n",
      "bestTest = 0.9073069498\n",
      "bestIteration = 980\n",
      "\n",
      "Training on fold [2/3]\n",
      "\n",
      "bestTest = 0.8942724983\n",
      "bestIteration = 885\n",
      "\n",
      "{'depth': 5, 'learning_rate': 0.1}\n",
      "Time: 1.31412087281545\n",
      "CPU times: user 1min 15s, sys: 1.14 s, total: 1min 16s\n",
      "Wall time: 1min 18s\n"
     ]
    }
   ],
   "source": [
    "%%time\n",
    "start_time = time.time()\n",
    "train_pool = Pool(features_train, target_train)\n",
    "cat_for_search = CatBoostClassifier(loss_function='Logloss',\n",
    "                                    eval_metric='AUC:hints=skip_train~false',\n",
    "                                    auto_class_weights='Balanced',\n",
    "                                    verbose=False)\n",
    "params = {\"depth\": [5,10], 'learning_rate': [0.1, 1, 0.01]}\n",
    "grid_search_results = cat_for_search.grid_search(params, train_pool, cv=3, verbose=False,  plot=False)\n",
    "end_time = time.time()\n",
    "search_time = (end_time - start_time) / 60\n",
    "print(grid_search_results['params'])\n",
    "print('Time:', search_time)"
   ]
  },
  {
   "cell_type": "code",
   "execution_count": 67,
   "id": "c95bc065",
   "metadata": {},
   "outputs": [
    {
     "data": {
      "text/html": [
       "<div>\n",
       "<style scoped>\n",
       "    .dataframe tbody tr th:only-of-type {\n",
       "        vertical-align: middle;\n",
       "    }\n",
       "\n",
       "    .dataframe tbody tr th {\n",
       "        vertical-align: top;\n",
       "    }\n",
       "\n",
       "    .dataframe thead th {\n",
       "        text-align: right;\n",
       "    }\n",
       "</style>\n",
       "<table border=\"1\" class=\"dataframe\">\n",
       "  <thead>\n",
       "    <tr style=\"text-align: right;\">\n",
       "      <th></th>\n",
       "      <th>Модель</th>\n",
       "      <th>AUK-ROC</th>\n",
       "    </tr>\n",
       "  </thead>\n",
       "  <tbody>\n",
       "    <tr>\n",
       "      <th>0</th>\n",
       "      <td>LogisticRegression</td>\n",
       "      <td>0.754229</td>\n",
       "    </tr>\n",
       "    <tr>\n",
       "      <th>1</th>\n",
       "      <td>RandomForestClassifier</td>\n",
       "      <td>0.817946</td>\n",
       "    </tr>\n",
       "    <tr>\n",
       "      <th>2</th>\n",
       "      <td>CatBoostClassifier</td>\n",
       "      <td>0.914254</td>\n",
       "    </tr>\n",
       "  </tbody>\n",
       "</table>\n",
       "</div>"
      ],
      "text/plain": [
       "                   Модель   AUK-ROC\n",
       "0      LogisticRegression  0.754229\n",
       "1  RandomForestClassifier  0.817946\n",
       "2      CatBoostClassifier  0.914254"
      ]
     },
     "execution_count": 67,
     "metadata": {},
     "output_type": "execute_result"
    }
   ],
   "source": [
    "models = ['LogisticRegression', 'RandomForestClassifier', 'CatBoostClassifier']\n",
    "auc1 = [search_for_lr.best_score_, search_for_rf.best_score_, 0.914254]\n",
    "\n",
    "result = pd.DataFrame({\n",
    "    'Модель': models, \n",
    "    'AUK-ROC': auc1\n",
    "}) \n",
    "result"
   ]
  },
  {
   "cell_type": "markdown",
   "id": "6cdc13ce",
   "metadata": {},
   "source": [
    "<b> Вывод: Обучены 3 модели и лучшей моделью по итогу кросс-валидации оказалась CatBoostClassifier с показателем AUK-ROC=0.914254"
   ]
  },
  {
   "cell_type": "markdown",
   "id": "ee66c17f",
   "metadata": {},
   "source": [
    "## Тестирование лучшей модели"
   ]
  },
  {
   "cell_type": "markdown",
   "id": "18328bd5",
   "metadata": {},
   "source": [
    "Обучим лучшую модель и проверим ее на тестовой выборке"
   ]
  },
  {
   "cell_type": "code",
   "execution_count": 68,
   "id": "3431e64a",
   "metadata": {},
   "outputs": [
    {
     "name": "stdout",
     "output_type": "stream",
     "text": [
      "0.9341488396742731\n"
     ]
    }
   ],
   "source": [
    "best_params = grid_search_results['params']\n",
    "best_model = CatBoostClassifier(loss_function='Logloss',\n",
    "                              eval_metric='AUC:hints=skip_train~false',\n",
    "                              auto_class_weights='Balanced',\n",
    "                              verbose=False,\n",
    "                              **best_params)\n",
    "best_model.fit(features_train, target_train)\n",
    "probabilities = best_model.predict_proba(features_test)[:, 1]\n",
    "auc_roc = roc_auc_score(target_test, probabilities)\n",
    "print(auc_roc)"
   ]
  },
  {
   "cell_type": "markdown",
   "id": "15d7e00f",
   "metadata": {},
   "source": [
    "По результатам тестирования модель выдала показатель лучше. чем на кросс-валидации!"
   ]
  },
  {
   "cell_type": "markdown",
   "id": "d739f983",
   "metadata": {},
   "source": [
    "Построим ROC-кривую"
   ]
  },
  {
   "cell_type": "code",
   "execution_count": 69,
   "id": "6ecf656f",
   "metadata": {},
   "outputs": [
    {
     "data": {
      "image/png": "[encoded data removed]",
      "text/plain": [
       "<Figure size 864x576 with 1 Axes>"
      ]
     },
     "metadata": {
      "needs_background": "light"
     },
     "output_type": "display_data"
    }
   ],
   "source": [
    "fpr, tpr, tresholds = roc_curve(target_test, probabilities)\n",
    "roc_auc = auc(fpr, tpr)\n",
    "plt.figure(figsize=[12, 8])\n",
    "plt.plot(fpr, tpr, color='darkorange',\n",
    "         label='ROC кривая (area = %0.2f)' % roc_auc)\n",
    "plt.plot([0, 1], [0, 1], color='navy', linestyle='--')\n",
    "plt.xlim([0.0, 1.0])\n",
    "plt.ylim([0.0, 1.05])\n",
    "plt.xlabel('False Positive Rate')\n",
    "plt.ylabel('True Positive Rate')\n",
    "plt.title('ROC-кривая')\n",
    "plt.legend(loc=\"lower right\")\n",
    "plt.show()"
   ]
  },
  {
   "cell_type": "markdown",
   "id": "cc656a64",
   "metadata": {},
   "source": [
    "Посмотрим на важность признаков"
   ]
  },
  {
   "cell_type": "code",
   "execution_count": 70,
   "id": "5859bc08",
   "metadata": {},
   "outputs": [],
   "source": [
    "features_for_cat = best_model.get_feature_importance(train_pool, prettified = True)"
   ]
  },
  {
   "cell_type": "code",
   "execution_count": 71,
   "id": "3e5aedd8",
   "metadata": {},
   "outputs": [
    {
     "data": {
      "image/png": "[encoded data removed]",
      "text/plain": [
       "<Figure size 1080x576 with 1 Axes>"
      ]
     },
     "metadata": {
      "needs_background": "light"
     },
     "output_type": "display_data"
    }
   ],
   "source": [
    "plt.figure(figsize=[15, 8])\n",
    "sns.set_style('darkgrid')\n",
    "plt.title('ВАЖНОСТЬ ПРИЗНАКОВ', fontsize=15)\n",
    "splot = sns.barplot(x='Feature Id', y='Importances', data=features_for_cat.reset_index())\n",
    "for p in splot.patches:\n",
    "    splot.annotate(format(p.get_height(), '.2f'), \n",
    "                   (p.get_x() + p.get_width() / 2., p.get_height()), \n",
    "                   ha = 'center', va = 'center', \n",
    "                   xytext = (0, 9), \n",
    "                   textcoords = 'offset points')\n",
    "plt.tick_params(axis='both', which='major', labelsize=10)\n",
    "plt.ylabel('Показатель', fontsize=13)\n",
    "plt.xlabel('Признаки', fontsize=13)\n",
    "plt.xticks(rotation=90);"
   ]
  },
  {
   "cell_type": "markdown",
   "id": "8d669c1c",
   "metadata": {},
   "source": [
    "<b> Самыми важными признаками влияющими на уход клиента оказались:\n",
    "1. Длительность договора\n",
    "2. Месячные траты\n",
    "3. Тип платежа \"раз в два года\"\n",
    "4. Наличия мужа/жены\n",
    "5. Тип платежа \"раз в год\"\n",
    "    \n",
    "    Что касается продуктов компании, особое внимание стоит обратить на подключение телефона к нескольким линиям и подключение к облачному хранилищу, эти услуги помогают удержать клиента."
   ]
  },
  {
   "cell_type": "markdown",
   "id": "f5a3c0f5",
   "metadata": {},
   "source": [
    "<b> Вывод: лучшая модель CatBoostClassifier показала метрику выше, чем на тестовой выборке - AUC-ROC = 0.934148"
   ]
  },
  {
   "cell_type": "markdown",
   "id": "b3f53a47",
   "metadata": {},
   "source": [
    "## Общий вывод и рекомендации заказчику"
   ]
  },
  {
   "cell_type": "markdown",
   "id": "e1d930cd",
   "metadata": {},
   "source": [
    "<b> В этом проекте я работал с данными о клиентах компании «ТелеДом» и строил модель, которая предсказывает разорвет ли клиент контракт или нет.\n",
    "\n",
    "    Проект выполнялся поэтапно:\n",
    "1. На первом этапе я изучил данные\n",
    "2. На втором обработал их (заполнил пропуски, исправил типы данных)\n",
    "3. На третем привел их в пригодный для обучения моделей вид (убрал лишние признаки, разделил на выборки)\n",
    "4. На четвертом обучил три разные модели и подабрал лучшие параметры\n",
    "5. На финальном этапе я протестировал лучшую модель\n",
    "    \n",
    "    Итог: лучшая модель - CatBoostClassifier и именно ее я рекомендую использовать заказчику для предсказаний об уходе клиентов\n",
    "    \n",
    "    AUC-ROC на тестовой выборке = 0.93856"
   ]
  },
  {
   "cell_type": "markdown",
   "id": "0d52bfcb",
   "metadata": {},
   "source": [
    "<b> Рекоммендации заказчику:\n",
    "    \n",
    "    1. использование модели CatBoostClassifier для предсказания об уходе клиентов\n",
    "    2. обратить внимание на такие услуги как подключение телефона к нескольким линиям и подключение к облачному хранилищу, ведь именно они играют ключевую роль в удержании клиента\n",
    "    3. Типичный портрет ушедшего клиента:\n",
    "- платит ежемесячно\n",
    "- получает электронный расчётный лист\n",
    "- имеет подключение к нескольким электронным линиям\n",
    "- женаты\n",
    "- без детей\n",
    "- подключены к интернету с помощью оптоволокна \n",
    "    \n",
    "    Возможно таким людям стоит чаще отправлять промокоды и делать скидки"
   ]
  }
 ],
 "metadata": {
  "ExecuteTimeLog": [
   {
    "duration": 1665,
    "start_time": "2024-01-10T14:01:45.639Z"
   },
   {
    "duration": 157,
    "start_time": "2024-01-10T14:01:48.250Z"
   },
   {
    "duration": 314,
    "start_time": "2024-01-10T14:06:50.192Z"
   },
   {
    "duration": 15,
    "start_time": "2024-01-10T14:08:21.286Z"
   },
   {
    "duration": 14,
    "start_time": "2024-01-10T14:09:03.744Z"
   },
   {
    "duration": 8,
    "start_time": "2024-01-10T14:20:20.316Z"
   },
   {
    "duration": 11,
    "start_time": "2024-01-10T14:20:28.243Z"
   },
   {
    "duration": 10,
    "start_time": "2024-01-10T14:20:47.146Z"
   },
   {
    "duration": 12,
    "start_time": "2024-01-10T14:20:57.804Z"
   },
   {
    "duration": 7,
    "start_time": "2024-01-10T14:22:03.356Z"
   },
   {
    "duration": 1561,
    "start_time": "2024-01-11T08:56:18.397Z"
   },
   {
    "duration": 324,
    "start_time": "2024-01-11T08:56:19.960Z"
   },
   {
    "duration": 14,
    "start_time": "2024-01-11T08:56:20.285Z"
   },
   {
    "duration": 41,
    "start_time": "2024-01-11T08:56:20.301Z"
   },
   {
    "duration": 62,
    "start_time": "2024-01-11T08:56:20.344Z"
   },
   {
    "duration": 21,
    "start_time": "2024-01-11T08:56:20.408Z"
   },
   {
    "duration": 16,
    "start_time": "2024-01-11T08:56:20.430Z"
   },
   {
    "duration": 56,
    "start_time": "2024-01-11T08:56:20.447Z"
   },
   {
    "duration": 21,
    "start_time": "2024-01-11T08:56:20.504Z"
   },
   {
    "duration": 18,
    "start_time": "2024-01-11T08:56:20.527Z"
   },
   {
    "duration": 41,
    "start_time": "2024-01-11T08:56:20.547Z"
   },
   {
    "duration": 17,
    "start_time": "2024-01-11T08:56:31.229Z"
   },
   {
    "duration": 14,
    "start_time": "2024-01-11T08:57:10.547Z"
   },
   {
    "duration": 22,
    "start_time": "2024-01-11T08:57:18.026Z"
   },
   {
    "duration": 3,
    "start_time": "2024-01-11T09:13:35.598Z"
   },
   {
    "duration": 3,
    "start_time": "2024-01-11T09:13:36.872Z"
   },
   {
    "duration": 20,
    "start_time": "2024-01-11T09:13:37.476Z"
   },
   {
    "duration": 6,
    "start_time": "2024-01-11T09:15:28.818Z"
   },
   {
    "duration": 3,
    "start_time": "2024-01-11T09:15:47.460Z"
   },
   {
    "duration": 3744,
    "start_time": "2024-01-11T09:16:06.474Z"
   },
   {
    "duration": 13,
    "start_time": "2024-01-11T09:16:48.381Z"
   },
   {
    "duration": 12,
    "start_time": "2024-01-11T09:16:58.515Z"
   },
   {
    "duration": 10,
    "start_time": "2024-01-11T09:25:42.480Z"
   },
   {
    "duration": 5,
    "start_time": "2024-01-11T09:26:06.984Z"
   },
   {
    "duration": 5,
    "start_time": "2024-01-11T09:26:25.601Z"
   },
   {
    "duration": 3,
    "start_time": "2024-01-11T09:26:48.545Z"
   },
   {
    "duration": 4,
    "start_time": "2024-01-11T09:26:59.728Z"
   },
   {
    "duration": 5,
    "start_time": "2024-01-11T09:27:07.382Z"
   },
   {
    "duration": 4,
    "start_time": "2024-01-11T09:28:39.391Z"
   },
   {
    "duration": 2034,
    "start_time": "2024-01-11T09:29:05.393Z"
   },
   {
    "duration": 6,
    "start_time": "2024-01-11T09:32:48.855Z"
   },
   {
    "duration": 16,
    "start_time": "2024-01-11T09:33:02.045Z"
   },
   {
    "duration": 46,
    "start_time": "2024-01-11T12:59:35.982Z"
   },
   {
    "duration": 1636,
    "start_time": "2024-01-11T12:59:46.315Z"
   },
   {
    "duration": 322,
    "start_time": "2024-01-11T12:59:47.953Z"
   },
   {
    "duration": 15,
    "start_time": "2024-01-11T12:59:48.277Z"
   },
   {
    "duration": 14,
    "start_time": "2024-01-11T12:59:48.294Z"
   },
   {
    "duration": 10,
    "start_time": "2024-01-11T12:59:48.309Z"
   },
   {
    "duration": 17,
    "start_time": "2024-01-11T12:59:48.321Z"
   },
   {
    "duration": 11,
    "start_time": "2024-01-11T12:59:48.340Z"
   },
   {
    "duration": 36,
    "start_time": "2024-01-11T12:59:48.352Z"
   },
   {
    "duration": 14,
    "start_time": "2024-01-11T12:59:48.390Z"
   },
   {
    "duration": 12,
    "start_time": "2024-01-11T12:59:48.408Z"
   },
   {
    "duration": 26,
    "start_time": "2024-01-11T12:59:48.421Z"
   },
   {
    "duration": 18,
    "start_time": "2024-01-11T12:59:48.449Z"
   },
   {
    "duration": 28,
    "start_time": "2024-01-11T12:59:48.469Z"
   },
   {
    "duration": 18,
    "start_time": "2024-01-11T12:59:48.499Z"
   },
   {
    "duration": 18,
    "start_time": "2024-01-11T12:59:48.518Z"
   },
   {
    "duration": 15,
    "start_time": "2024-01-11T12:59:48.537Z"
   },
   {
    "duration": 28,
    "start_time": "2024-01-11T12:59:48.553Z"
   },
   {
    "duration": 5,
    "start_time": "2024-01-11T12:59:48.583Z"
   },
   {
    "duration": 10,
    "start_time": "2024-01-11T12:59:48.589Z"
   },
   {
    "duration": 7,
    "start_time": "2024-01-11T12:59:48.600Z"
   },
   {
    "duration": 1040,
    "start_time": "2024-01-11T12:59:48.608Z"
   },
   {
    "duration": 0,
    "start_time": "2024-01-11T12:59:49.650Z"
   },
   {
    "duration": 6,
    "start_time": "2024-01-11T13:01:39.453Z"
   },
   {
    "duration": 9,
    "start_time": "2024-01-11T13:02:16.694Z"
   },
   {
    "duration": 4,
    "start_time": "2024-01-11T13:02:21.423Z"
   },
   {
    "duration": 22,
    "start_time": "2024-01-11T13:05:03.890Z"
   },
   {
    "duration": 545,
    "start_time": "2024-01-11T13:09:00.820Z"
   },
   {
    "duration": 6,
    "start_time": "2024-01-11T13:09:15.292Z"
   },
   {
    "duration": 15,
    "start_time": "2024-01-11T13:09:19.176Z"
   },
   {
    "duration": 5,
    "start_time": "2024-01-11T13:11:29.128Z"
   },
   {
    "duration": 15,
    "start_time": "2024-01-11T13:11:30.635Z"
   },
   {
    "duration": 37,
    "start_time": "2024-01-11T13:15:05.641Z"
   },
   {
    "duration": 17,
    "start_time": "2024-01-11T13:15:36.466Z"
   },
   {
    "duration": 16,
    "start_time": "2024-01-11T13:30:15.182Z"
   },
   {
    "duration": 15,
    "start_time": "2024-01-11T13:31:35.522Z"
   },
   {
    "duration": 13,
    "start_time": "2024-01-11T13:31:44.743Z"
   },
   {
    "duration": 15,
    "start_time": "2024-01-11T13:32:49.969Z"
   },
   {
    "duration": 16,
    "start_time": "2024-01-11T13:33:01.660Z"
   },
   {
    "duration": 6,
    "start_time": "2024-01-11T13:34:41.928Z"
   },
   {
    "duration": 16,
    "start_time": "2024-01-11T13:34:47.345Z"
   },
   {
    "duration": 35,
    "start_time": "2024-01-11T13:34:50.995Z"
   },
   {
    "duration": 16,
    "start_time": "2024-01-11T13:34:52.134Z"
   },
   {
    "duration": 16,
    "start_time": "2024-01-11T13:35:40.488Z"
   },
   {
    "duration": 1823,
    "start_time": "2024-01-12T08:28:22.943Z"
   },
   {
    "duration": 313,
    "start_time": "2024-01-12T08:28:24.768Z"
   },
   {
    "duration": 22,
    "start_time": "2024-01-12T08:28:25.083Z"
   },
   {
    "duration": 16,
    "start_time": "2024-01-12T08:28:25.107Z"
   },
   {
    "duration": 12,
    "start_time": "2024-01-12T08:28:25.127Z"
   },
   {
    "duration": 15,
    "start_time": "2024-01-12T08:28:25.141Z"
   },
   {
    "duration": 19,
    "start_time": "2024-01-12T08:28:25.159Z"
   },
   {
    "duration": 28,
    "start_time": "2024-01-12T08:28:25.180Z"
   },
   {
    "duration": 11,
    "start_time": "2024-01-12T08:28:25.211Z"
   },
   {
    "duration": 34,
    "start_time": "2024-01-12T08:28:25.224Z"
   },
   {
    "duration": 24,
    "start_time": "2024-01-12T08:28:25.261Z"
   },
   {
    "duration": 22,
    "start_time": "2024-01-12T08:28:25.289Z"
   },
   {
    "duration": 53,
    "start_time": "2024-01-12T08:28:25.313Z"
   },
   {
    "duration": 29,
    "start_time": "2024-01-12T08:28:25.369Z"
   },
   {
    "duration": 3,
    "start_time": "2024-01-12T08:28:25.400Z"
   },
   {
    "duration": 22,
    "start_time": "2024-01-12T08:28:25.405Z"
   },
   {
    "duration": 40,
    "start_time": "2024-01-12T08:28:25.430Z"
   },
   {
    "duration": 23,
    "start_time": "2024-01-12T08:28:25.473Z"
   },
   {
    "duration": 8,
    "start_time": "2024-01-12T08:28:25.498Z"
   },
   {
    "duration": 12,
    "start_time": "2024-01-12T08:28:25.508Z"
   },
   {
    "duration": 9,
    "start_time": "2024-01-12T08:28:25.522Z"
   },
   {
    "duration": 31,
    "start_time": "2024-01-12T08:28:25.544Z"
   },
   {
    "duration": 38,
    "start_time": "2024-01-12T08:28:25.578Z"
   },
   {
    "duration": 8,
    "start_time": "2024-01-12T08:28:25.622Z"
   },
   {
    "duration": 8,
    "start_time": "2024-01-12T08:28:25.632Z"
   },
   {
    "duration": 25,
    "start_time": "2024-01-12T08:28:25.643Z"
   },
   {
    "duration": 78,
    "start_time": "2024-01-12T08:28:25.670Z"
   },
   {
    "duration": 22,
    "start_time": "2024-01-12T08:28:25.750Z"
   },
   {
    "duration": 21,
    "start_time": "2024-01-12T08:28:25.774Z"
   },
   {
    "duration": 51,
    "start_time": "2024-01-12T08:28:25.797Z"
   },
   {
    "duration": 31,
    "start_time": "2024-01-12T08:30:17.531Z"
   },
   {
    "duration": 5,
    "start_time": "2024-01-12T08:45:28.928Z"
   },
   {
    "duration": 116,
    "start_time": "2024-01-12T08:58:01.615Z"
   },
   {
    "duration": 186,
    "start_time": "2024-01-12T08:58:47.745Z"
   },
   {
    "duration": 8,
    "start_time": "2024-01-12T09:06:02.706Z"
   },
   {
    "duration": 1485,
    "start_time": "2024-01-12T09:06:34.163Z"
   },
   {
    "duration": 94,
    "start_time": "2024-01-12T09:06:35.650Z"
   },
   {
    "duration": 14,
    "start_time": "2024-01-12T09:06:35.746Z"
   },
   {
    "duration": 18,
    "start_time": "2024-01-12T09:06:35.762Z"
   },
   {
    "duration": 23,
    "start_time": "2024-01-12T09:06:35.782Z"
   },
   {
    "duration": 31,
    "start_time": "2024-01-12T09:06:35.806Z"
   },
   {
    "duration": 16,
    "start_time": "2024-01-12T09:06:35.838Z"
   },
   {
    "duration": 25,
    "start_time": "2024-01-12T09:06:35.856Z"
   },
   {
    "duration": 24,
    "start_time": "2024-01-12T09:06:35.883Z"
   },
   {
    "duration": 24,
    "start_time": "2024-01-12T09:06:35.910Z"
   },
   {
    "duration": 47,
    "start_time": "2024-01-12T09:06:35.935Z"
   },
   {
    "duration": 27,
    "start_time": "2024-01-12T09:06:35.983Z"
   },
   {
    "duration": 23,
    "start_time": "2024-01-12T09:06:36.011Z"
   },
   {
    "duration": 18,
    "start_time": "2024-01-12T09:06:36.036Z"
   },
   {
    "duration": 3,
    "start_time": "2024-01-12T09:06:36.055Z"
   },
   {
    "duration": 6,
    "start_time": "2024-01-12T09:06:36.060Z"
   },
   {
    "duration": 20,
    "start_time": "2024-01-12T09:06:36.067Z"
   },
   {
    "duration": 6,
    "start_time": "2024-01-12T09:06:36.088Z"
   },
   {
    "duration": 7,
    "start_time": "2024-01-12T09:06:36.095Z"
   },
   {
    "duration": 7,
    "start_time": "2024-01-12T09:06:36.103Z"
   },
   {
    "duration": 31,
    "start_time": "2024-01-12T09:06:36.112Z"
   },
   {
    "duration": 7,
    "start_time": "2024-01-12T09:06:36.144Z"
   },
   {
    "duration": 10,
    "start_time": "2024-01-12T09:06:36.152Z"
   },
   {
    "duration": 26,
    "start_time": "2024-01-12T09:06:36.169Z"
   },
   {
    "duration": 5,
    "start_time": "2024-01-12T09:06:36.196Z"
   },
   {
    "duration": 9,
    "start_time": "2024-01-12T09:06:36.202Z"
   },
   {
    "duration": 30,
    "start_time": "2024-01-12T09:06:36.212Z"
   },
   {
    "duration": 39,
    "start_time": "2024-01-12T09:06:36.245Z"
   },
   {
    "duration": 16,
    "start_time": "2024-01-12T09:06:36.286Z"
   },
   {
    "duration": 38,
    "start_time": "2024-01-12T09:06:36.304Z"
   },
   {
    "duration": 13,
    "start_time": "2024-01-12T09:06:36.344Z"
   },
   {
    "duration": 32,
    "start_time": "2024-01-12T09:06:36.358Z"
   },
   {
    "duration": 4,
    "start_time": "2024-01-12T09:06:36.392Z"
   },
   {
    "duration": 198,
    "start_time": "2024-01-12T09:06:36.397Z"
   },
   {
    "duration": 5,
    "start_time": "2024-01-12T09:07:46.856Z"
   },
   {
    "duration": 23,
    "start_time": "2024-01-12T09:09:56.218Z"
   },
   {
    "duration": 145,
    "start_time": "2024-01-12T09:17:13.897Z"
   },
   {
    "duration": 265,
    "start_time": "2024-01-12T09:24:02.453Z"
   },
   {
    "duration": 79,
    "start_time": "2024-01-12T09:31:17.060Z"
   },
   {
    "duration": 164,
    "start_time": "2024-01-12T09:31:26.406Z"
   },
   {
    "duration": 86,
    "start_time": "2024-01-12T10:16:58.700Z"
   },
   {
    "duration": 72,
    "start_time": "2024-01-12T10:17:14.559Z"
   },
   {
    "duration": 246,
    "start_time": "2024-01-12T10:20:09.579Z"
   },
   {
    "duration": 172,
    "start_time": "2024-01-12T10:23:03.130Z"
   },
   {
    "duration": 167,
    "start_time": "2024-01-12T10:25:49.583Z"
   },
   {
    "duration": 165,
    "start_time": "2024-01-12T10:26:21.375Z"
   },
   {
    "duration": 165,
    "start_time": "2024-01-12T10:26:30.022Z"
   },
   {
    "duration": 144,
    "start_time": "2024-01-12T10:27:25.310Z"
   },
   {
    "duration": 146,
    "start_time": "2024-01-12T10:27:46.640Z"
   },
   {
    "duration": 169,
    "start_time": "2024-01-12T10:29:43.481Z"
   },
   {
    "duration": 75,
    "start_time": "2024-01-12T10:30:08.334Z"
   },
   {
    "duration": 206,
    "start_time": "2024-01-12T10:30:16.626Z"
   },
   {
    "duration": 16,
    "start_time": "2024-01-12T10:31:56.204Z"
   },
   {
    "duration": 162,
    "start_time": "2024-01-12T10:32:20.838Z"
   },
   {
    "duration": 159,
    "start_time": "2024-01-12T10:32:46.308Z"
   },
   {
    "duration": 186,
    "start_time": "2024-01-12T10:32:59.970Z"
   },
   {
    "duration": 169,
    "start_time": "2024-01-12T10:34:17.274Z"
   },
   {
    "duration": 155,
    "start_time": "2024-01-12T10:34:37.388Z"
   },
   {
    "duration": 98,
    "start_time": "2024-01-12T10:39:41.388Z"
   },
   {
    "duration": 1431,
    "start_time": "2024-01-12T10:39:48.156Z"
   },
   {
    "duration": 93,
    "start_time": "2024-01-12T10:39:49.588Z"
   },
   {
    "duration": 14,
    "start_time": "2024-01-12T10:39:49.682Z"
   },
   {
    "duration": 11,
    "start_time": "2024-01-12T10:39:49.698Z"
   },
   {
    "duration": 8,
    "start_time": "2024-01-12T10:39:49.711Z"
   },
   {
    "duration": 13,
    "start_time": "2024-01-12T10:39:49.720Z"
   },
   {
    "duration": 17,
    "start_time": "2024-01-12T10:39:49.735Z"
   },
   {
    "duration": 28,
    "start_time": "2024-01-12T10:39:49.753Z"
   },
   {
    "duration": 13,
    "start_time": "2024-01-12T10:39:49.782Z"
   },
   {
    "duration": 20,
    "start_time": "2024-01-12T10:39:49.796Z"
   },
   {
    "duration": 18,
    "start_time": "2024-01-12T10:39:49.818Z"
   },
   {
    "duration": 17,
    "start_time": "2024-01-12T10:39:49.838Z"
   },
   {
    "duration": 17,
    "start_time": "2024-01-12T10:39:49.856Z"
   },
   {
    "duration": 18,
    "start_time": "2024-01-12T10:39:49.875Z"
   },
   {
    "duration": 4,
    "start_time": "2024-01-12T10:39:49.894Z"
   },
   {
    "duration": 3,
    "start_time": "2024-01-12T10:39:49.899Z"
   },
   {
    "duration": 40,
    "start_time": "2024-01-12T10:39:49.904Z"
   },
   {
    "duration": 5,
    "start_time": "2024-01-12T10:39:49.946Z"
   },
   {
    "duration": 6,
    "start_time": "2024-01-12T10:39:49.953Z"
   },
   {
    "duration": 7,
    "start_time": "2024-01-12T10:39:49.961Z"
   },
   {
    "duration": 9,
    "start_time": "2024-01-12T10:39:49.969Z"
   },
   {
    "duration": 5,
    "start_time": "2024-01-12T10:39:49.980Z"
   },
   {
    "duration": 22,
    "start_time": "2024-01-12T10:39:49.987Z"
   },
   {
    "duration": 35,
    "start_time": "2024-01-12T10:39:50.011Z"
   },
   {
    "duration": 12,
    "start_time": "2024-01-12T10:39:50.047Z"
   },
   {
    "duration": 49,
    "start_time": "2024-01-12T10:39:50.060Z"
   },
   {
    "duration": 48,
    "start_time": "2024-01-12T10:39:50.111Z"
   },
   {
    "duration": 16,
    "start_time": "2024-01-12T10:39:50.161Z"
   },
   {
    "duration": 21,
    "start_time": "2024-01-12T10:39:50.179Z"
   },
   {
    "duration": 15,
    "start_time": "2024-01-12T10:39:50.201Z"
   },
   {
    "duration": 45,
    "start_time": "2024-01-12T10:39:50.218Z"
   },
   {
    "duration": 5,
    "start_time": "2024-01-12T10:39:50.264Z"
   },
   {
    "duration": 162,
    "start_time": "2024-01-12T10:39:50.271Z"
   },
   {
    "duration": 272,
    "start_time": "2024-01-12T10:39:50.442Z"
   },
   {
    "duration": 0,
    "start_time": "2024-01-12T10:39:50.716Z"
   },
   {
    "duration": 0,
    "start_time": "2024-01-12T10:39:50.717Z"
   },
   {
    "duration": 0,
    "start_time": "2024-01-12T10:39:50.718Z"
   },
   {
    "duration": 0,
    "start_time": "2024-01-12T10:39:50.719Z"
   },
   {
    "duration": 4,
    "start_time": "2024-01-12T10:43:42.061Z"
   },
   {
    "duration": 9,
    "start_time": "2024-01-12T10:43:46.914Z"
   },
   {
    "duration": 3,
    "start_time": "2024-01-12T10:43:50.791Z"
   },
   {
    "duration": 24,
    "start_time": "2024-01-12T10:44:44.575Z"
   },
   {
    "duration": 3,
    "start_time": "2024-01-12T10:44:47.006Z"
   },
   {
    "duration": 16,
    "start_time": "2024-01-12T10:45:06.239Z"
   },
   {
    "duration": 5,
    "start_time": "2024-01-12T10:45:06.944Z"
   },
   {
    "duration": 1483,
    "start_time": "2024-01-12T10:45:20.734Z"
   },
   {
    "duration": 93,
    "start_time": "2024-01-12T10:45:22.219Z"
   },
   {
    "duration": 15,
    "start_time": "2024-01-12T10:45:22.314Z"
   },
   {
    "duration": 15,
    "start_time": "2024-01-12T10:45:22.331Z"
   },
   {
    "duration": 8,
    "start_time": "2024-01-12T10:45:22.348Z"
   },
   {
    "duration": 25,
    "start_time": "2024-01-12T10:45:22.357Z"
   },
   {
    "duration": 11,
    "start_time": "2024-01-12T10:45:22.383Z"
   },
   {
    "duration": 11,
    "start_time": "2024-01-12T10:45:22.396Z"
   },
   {
    "duration": 6,
    "start_time": "2024-01-12T10:45:22.408Z"
   },
   {
    "duration": 27,
    "start_time": "2024-01-12T10:45:22.416Z"
   },
   {
    "duration": 34,
    "start_time": "2024-01-12T10:45:22.445Z"
   },
   {
    "duration": 16,
    "start_time": "2024-01-12T10:45:22.481Z"
   },
   {
    "duration": 13,
    "start_time": "2024-01-12T10:45:22.499Z"
   },
   {
    "duration": 29,
    "start_time": "2024-01-12T10:45:22.514Z"
   },
   {
    "duration": 3,
    "start_time": "2024-01-12T10:45:22.544Z"
   },
   {
    "duration": 15,
    "start_time": "2024-01-12T10:45:22.548Z"
   },
   {
    "duration": 19,
    "start_time": "2024-01-12T10:45:22.564Z"
   },
   {
    "duration": 5,
    "start_time": "2024-01-12T10:45:22.585Z"
   },
   {
    "duration": 8,
    "start_time": "2024-01-12T10:45:22.592Z"
   },
   {
    "duration": 41,
    "start_time": "2024-01-12T10:45:22.602Z"
   },
   {
    "duration": 5,
    "start_time": "2024-01-12T10:45:22.645Z"
   },
   {
    "duration": 8,
    "start_time": "2024-01-12T10:45:22.651Z"
   },
   {
    "duration": 13,
    "start_time": "2024-01-12T10:45:22.660Z"
   },
   {
    "duration": 36,
    "start_time": "2024-01-12T10:45:22.675Z"
   },
   {
    "duration": 5,
    "start_time": "2024-01-12T10:45:22.712Z"
   },
   {
    "duration": 12,
    "start_time": "2024-01-12T10:45:22.718Z"
   },
   {
    "duration": 19,
    "start_time": "2024-01-12T10:45:22.731Z"
   },
   {
    "duration": 38,
    "start_time": "2024-01-12T10:45:22.753Z"
   },
   {
    "duration": 24,
    "start_time": "2024-01-12T10:45:22.793Z"
   },
   {
    "duration": 35,
    "start_time": "2024-01-12T10:45:22.819Z"
   },
   {
    "duration": 31,
    "start_time": "2024-01-12T10:45:22.855Z"
   },
   {
    "duration": 33,
    "start_time": "2024-01-12T10:45:22.888Z"
   },
   {
    "duration": 5,
    "start_time": "2024-01-12T10:45:22.923Z"
   },
   {
    "duration": 166,
    "start_time": "2024-01-12T10:45:22.930Z"
   },
   {
    "duration": 190,
    "start_time": "2024-01-12T10:45:23.098Z"
   },
   {
    "duration": 206,
    "start_time": "2024-01-12T10:45:23.290Z"
   },
   {
    "duration": 234,
    "start_time": "2024-01-12T10:45:23.498Z"
   },
   {
    "duration": 173,
    "start_time": "2024-01-12T10:45:23.734Z"
   },
   {
    "duration": 10,
    "start_time": "2024-01-12T10:47:59.999Z"
   },
   {
    "duration": 5,
    "start_time": "2024-01-12T10:48:00.568Z"
   },
   {
    "duration": 1464,
    "start_time": "2024-01-12T10:49:54.741Z"
   },
   {
    "duration": 95,
    "start_time": "2024-01-12T10:49:56.207Z"
   },
   {
    "duration": 13,
    "start_time": "2024-01-12T10:49:56.304Z"
   },
   {
    "duration": 21,
    "start_time": "2024-01-12T10:49:56.319Z"
   },
   {
    "duration": 8,
    "start_time": "2024-01-12T10:49:56.342Z"
   },
   {
    "duration": 35,
    "start_time": "2024-01-12T10:49:56.351Z"
   },
   {
    "duration": 23,
    "start_time": "2024-01-12T10:49:56.388Z"
   },
   {
    "duration": 39,
    "start_time": "2024-01-12T10:49:56.412Z"
   },
   {
    "duration": 26,
    "start_time": "2024-01-12T10:49:56.453Z"
   },
   {
    "duration": 38,
    "start_time": "2024-01-12T10:49:56.482Z"
   },
   {
    "duration": 28,
    "start_time": "2024-01-12T10:49:56.522Z"
   },
   {
    "duration": 25,
    "start_time": "2024-01-12T10:49:56.551Z"
   },
   {
    "duration": 13,
    "start_time": "2024-01-12T10:49:56.577Z"
   },
   {
    "duration": 22,
    "start_time": "2024-01-12T10:49:56.591Z"
   },
   {
    "duration": 10,
    "start_time": "2024-01-12T10:49:56.615Z"
   },
   {
    "duration": 20,
    "start_time": "2024-01-12T10:49:56.626Z"
   },
   {
    "duration": 19,
    "start_time": "2024-01-12T10:49:56.647Z"
   },
   {
    "duration": 5,
    "start_time": "2024-01-12T10:49:56.668Z"
   },
   {
    "duration": 5,
    "start_time": "2024-01-12T10:49:56.674Z"
   },
   {
    "duration": 5,
    "start_time": "2024-01-12T10:49:56.680Z"
   },
   {
    "duration": 15,
    "start_time": "2024-01-12T10:49:56.687Z"
   },
   {
    "duration": 17,
    "start_time": "2024-01-12T10:49:56.703Z"
   },
   {
    "duration": 21,
    "start_time": "2024-01-12T10:49:56.721Z"
   },
   {
    "duration": 23,
    "start_time": "2024-01-12T10:49:56.744Z"
   },
   {
    "duration": 5,
    "start_time": "2024-01-12T10:49:56.769Z"
   },
   {
    "duration": 11,
    "start_time": "2024-01-12T10:49:56.775Z"
   },
   {
    "duration": 41,
    "start_time": "2024-01-12T10:49:56.787Z"
   },
   {
    "duration": 49,
    "start_time": "2024-01-12T10:49:56.831Z"
   },
   {
    "duration": 17,
    "start_time": "2024-01-12T10:49:56.883Z"
   },
   {
    "duration": 34,
    "start_time": "2024-01-12T10:49:56.902Z"
   },
   {
    "duration": 16,
    "start_time": "2024-01-12T10:49:56.938Z"
   },
   {
    "duration": 31,
    "start_time": "2024-01-12T10:49:56.955Z"
   },
   {
    "duration": 6,
    "start_time": "2024-01-12T10:49:56.988Z"
   },
   {
    "duration": 154,
    "start_time": "2024-01-12T10:49:56.996Z"
   },
   {
    "duration": 0,
    "start_time": "2024-01-12T10:49:57.152Z"
   },
   {
    "duration": 0,
    "start_time": "2024-01-12T10:49:57.153Z"
   },
   {
    "duration": 0,
    "start_time": "2024-01-12T10:49:57.154Z"
   },
   {
    "duration": 0,
    "start_time": "2024-01-12T10:49:57.155Z"
   },
   {
    "duration": 6,
    "start_time": "2024-01-12T10:52:43.773Z"
   },
   {
    "duration": 150,
    "start_time": "2024-01-12T10:52:46.136Z"
   },
   {
    "duration": 181,
    "start_time": "2024-01-12T11:01:28.150Z"
   },
   {
    "duration": 205,
    "start_time": "2024-01-12T11:01:29.198Z"
   },
   {
    "duration": 236,
    "start_time": "2024-01-12T11:01:35.392Z"
   },
   {
    "duration": 152,
    "start_time": "2024-01-12T11:01:36.768Z"
   },
   {
    "duration": 155,
    "start_time": "2024-01-12T11:01:56.652Z"
   },
   {
    "duration": 19,
    "start_time": "2024-01-12T11:03:27.897Z"
   },
   {
    "duration": 22,
    "start_time": "2024-01-12T11:04:10.503Z"
   },
   {
    "duration": 171,
    "start_time": "2024-01-12T11:05:12.232Z"
   },
   {
    "duration": 179,
    "start_time": "2024-01-12T11:14:59.253Z"
   },
   {
    "duration": 167,
    "start_time": "2024-01-12T11:17:38.399Z"
   },
   {
    "duration": 171,
    "start_time": "2024-01-12T12:08:13.134Z"
   },
   {
    "duration": 166,
    "start_time": "2024-01-12T12:13:04.334Z"
   },
   {
    "duration": 178,
    "start_time": "2024-01-12T12:14:15.631Z"
   },
   {
    "duration": 155,
    "start_time": "2024-01-12T12:15:14.211Z"
   },
   {
    "duration": 160,
    "start_time": "2024-01-12T12:15:32.355Z"
   },
   {
    "duration": 171,
    "start_time": "2024-01-12T12:16:02.002Z"
   },
   {
    "duration": 170,
    "start_time": "2024-01-12T12:16:20.526Z"
   },
   {
    "duration": 181,
    "start_time": "2024-01-12T12:20:48.453Z"
   },
   {
    "duration": 263,
    "start_time": "2024-01-12T12:25:02.505Z"
   },
   {
    "duration": 172,
    "start_time": "2024-01-12T12:25:10.074Z"
   },
   {
    "duration": 171,
    "start_time": "2024-01-12T12:25:58.632Z"
   },
   {
    "duration": 172,
    "start_time": "2024-01-12T12:26:03.909Z"
   },
   {
    "duration": 196,
    "start_time": "2024-01-12T12:27:29.365Z"
   },
   {
    "duration": 183,
    "start_time": "2024-01-12T12:27:57.883Z"
   },
   {
    "duration": 186,
    "start_time": "2024-01-12T12:28:08.029Z"
   },
   {
    "duration": 175,
    "start_time": "2024-01-12T12:28:30.035Z"
   },
   {
    "duration": 162,
    "start_time": "2024-01-12T12:30:15.421Z"
   },
   {
    "duration": 192,
    "start_time": "2024-01-12T12:30:33.054Z"
   },
   {
    "duration": 193,
    "start_time": "2024-01-12T12:30:48.199Z"
   },
   {
    "duration": 166,
    "start_time": "2024-01-12T12:31:13.709Z"
   },
   {
    "duration": 158,
    "start_time": "2024-01-12T12:31:31.674Z"
   },
   {
    "duration": 175,
    "start_time": "2024-01-12T12:35:08.653Z"
   },
   {
    "duration": 26,
    "start_time": "2024-01-12T12:35:39.223Z"
   },
   {
    "duration": 83,
    "start_time": "2024-01-12T12:35:51.540Z"
   },
   {
    "duration": 28,
    "start_time": "2024-01-12T12:38:25.571Z"
   },
   {
    "duration": 28,
    "start_time": "2024-01-12T12:38:31.796Z"
   },
   {
    "duration": 25,
    "start_time": "2024-01-12T12:38:46.591Z"
   },
   {
    "duration": 78,
    "start_time": "2024-01-12T12:39:04.754Z"
   },
   {
    "duration": 184,
    "start_time": "2024-01-12T12:39:13.950Z"
   },
   {
    "duration": 4,
    "start_time": "2024-01-12T12:39:36.567Z"
   },
   {
    "duration": 24,
    "start_time": "2024-01-12T12:39:54.451Z"
   },
   {
    "duration": 26,
    "start_time": "2024-01-12T12:40:19.084Z"
   },
   {
    "duration": 26,
    "start_time": "2024-01-12T12:40:32.818Z"
   },
   {
    "duration": 294,
    "start_time": "2024-01-12T12:40:46.915Z"
   },
   {
    "duration": 332,
    "start_time": "2024-01-12T12:54:36.982Z"
   },
   {
    "duration": 21,
    "start_time": "2024-01-12T12:58:14.338Z"
   },
   {
    "duration": 15,
    "start_time": "2024-01-12T12:58:17.741Z"
   },
   {
    "duration": 13,
    "start_time": "2024-01-12T12:59:34.708Z"
   },
   {
    "duration": 324,
    "start_time": "2024-01-12T12:59:37.162Z"
   },
   {
    "duration": 14,
    "start_time": "2024-01-12T13:00:08.352Z"
   },
   {
    "duration": 1473,
    "start_time": "2024-01-12T13:00:43.743Z"
   },
   {
    "duration": 98,
    "start_time": "2024-01-12T13:00:45.218Z"
   },
   {
    "duration": 14,
    "start_time": "2024-01-12T13:00:45.317Z"
   },
   {
    "duration": 15,
    "start_time": "2024-01-12T13:00:45.333Z"
   },
   {
    "duration": 18,
    "start_time": "2024-01-12T13:00:45.349Z"
   },
   {
    "duration": 38,
    "start_time": "2024-01-12T13:00:45.368Z"
   },
   {
    "duration": 11,
    "start_time": "2024-01-12T13:00:45.408Z"
   },
   {
    "duration": 11,
    "start_time": "2024-01-12T13:00:45.420Z"
   },
   {
    "duration": 6,
    "start_time": "2024-01-12T13:00:45.433Z"
   },
   {
    "duration": 17,
    "start_time": "2024-01-12T13:00:45.442Z"
   },
   {
    "duration": 29,
    "start_time": "2024-01-12T13:00:45.460Z"
   },
   {
    "duration": 19,
    "start_time": "2024-01-12T13:00:45.490Z"
   },
   {
    "duration": 14,
    "start_time": "2024-01-12T13:00:45.510Z"
   },
   {
    "duration": 28,
    "start_time": "2024-01-12T13:00:45.526Z"
   },
   {
    "duration": 3,
    "start_time": "2024-01-12T13:00:45.556Z"
   },
   {
    "duration": 5,
    "start_time": "2024-01-12T13:00:45.561Z"
   },
   {
    "duration": 20,
    "start_time": "2024-01-12T13:00:45.567Z"
   },
   {
    "duration": 6,
    "start_time": "2024-01-12T13:00:45.589Z"
   },
   {
    "duration": 21,
    "start_time": "2024-01-12T13:00:45.597Z"
   },
   {
    "duration": 26,
    "start_time": "2024-01-12T13:00:45.620Z"
   },
   {
    "duration": 5,
    "start_time": "2024-01-12T13:00:45.648Z"
   },
   {
    "duration": 6,
    "start_time": "2024-01-12T13:00:45.655Z"
   },
   {
    "duration": 6,
    "start_time": "2024-01-12T13:00:45.662Z"
   },
   {
    "duration": 22,
    "start_time": "2024-01-12T13:00:45.669Z"
   },
   {
    "duration": 5,
    "start_time": "2024-01-12T13:00:45.693Z"
   },
   {
    "duration": 8,
    "start_time": "2024-01-12T13:00:45.699Z"
   },
   {
    "duration": 52,
    "start_time": "2024-01-12T13:00:45.709Z"
   },
   {
    "duration": 49,
    "start_time": "2024-01-12T13:00:45.764Z"
   },
   {
    "duration": 34,
    "start_time": "2024-01-12T13:00:45.815Z"
   },
   {
    "duration": 46,
    "start_time": "2024-01-12T13:00:45.851Z"
   },
   {
    "duration": 15,
    "start_time": "2024-01-12T13:00:45.899Z"
   },
   {
    "duration": 29,
    "start_time": "2024-01-12T13:00:45.916Z"
   },
   {
    "duration": 5,
    "start_time": "2024-01-12T13:00:45.946Z"
   },
   {
    "duration": 163,
    "start_time": "2024-01-12T13:00:45.953Z"
   },
   {
    "duration": 189,
    "start_time": "2024-01-12T13:00:46.117Z"
   },
   {
    "duration": 173,
    "start_time": "2024-01-12T13:00:46.308Z"
   },
   {
    "duration": 199,
    "start_time": "2024-01-12T13:00:46.483Z"
   },
   {
    "duration": 250,
    "start_time": "2024-01-12T13:00:46.684Z"
   },
   {
    "duration": 173,
    "start_time": "2024-01-12T13:00:46.936Z"
   },
   {
    "duration": 157,
    "start_time": "2024-01-12T13:00:47.111Z"
   },
   {
    "duration": 166,
    "start_time": "2024-01-12T13:00:47.270Z"
   },
   {
    "duration": 176,
    "start_time": "2024-01-12T13:00:47.442Z"
   },
   {
    "duration": 180,
    "start_time": "2024-01-12T13:00:47.620Z"
   },
   {
    "duration": 49,
    "start_time": "2024-01-12T13:00:47.802Z"
   },
   {
    "duration": 13,
    "start_time": "2024-01-12T13:00:47.852Z"
   },
   {
    "duration": 1540,
    "start_time": "2024-01-12T13:00:47.866Z"
   },
   {
    "duration": 1627,
    "start_time": "2024-01-12T13:01:41.522Z"
   },
   {
    "duration": 1474,
    "start_time": "2024-01-12T13:02:38.677Z"
   },
   {
    "duration": 7,
    "start_time": "2024-01-12T13:09:24.958Z"
   },
   {
    "duration": 4,
    "start_time": "2024-01-12T13:09:27.122Z"
   },
   {
    "duration": 1514,
    "start_time": "2024-01-12T13:09:44.127Z"
   },
   {
    "duration": 97,
    "start_time": "2024-01-12T13:09:45.643Z"
   },
   {
    "duration": 20,
    "start_time": "2024-01-12T13:09:45.742Z"
   },
   {
    "duration": 14,
    "start_time": "2024-01-12T13:09:45.765Z"
   },
   {
    "duration": 27,
    "start_time": "2024-01-12T13:09:45.781Z"
   },
   {
    "duration": 16,
    "start_time": "2024-01-12T13:09:45.809Z"
   },
   {
    "duration": 22,
    "start_time": "2024-01-12T13:09:45.827Z"
   },
   {
    "duration": 12,
    "start_time": "2024-01-12T13:09:45.850Z"
   },
   {
    "duration": 7,
    "start_time": "2024-01-12T13:09:45.864Z"
   },
   {
    "duration": 26,
    "start_time": "2024-01-12T13:09:45.874Z"
   },
   {
    "duration": 28,
    "start_time": "2024-01-12T13:09:45.902Z"
   },
   {
    "duration": 26,
    "start_time": "2024-01-12T13:09:45.932Z"
   },
   {
    "duration": 13,
    "start_time": "2024-01-12T13:09:45.959Z"
   },
   {
    "duration": 19,
    "start_time": "2024-01-12T13:09:45.974Z"
   },
   {
    "duration": 2,
    "start_time": "2024-01-12T13:09:45.995Z"
   },
   {
    "duration": 7,
    "start_time": "2024-01-12T13:09:45.999Z"
   },
   {
    "duration": 46,
    "start_time": "2024-01-12T13:09:46.007Z"
   },
   {
    "duration": 6,
    "start_time": "2024-01-12T13:09:46.058Z"
   },
   {
    "duration": 7,
    "start_time": "2024-01-12T13:09:46.065Z"
   },
   {
    "duration": 7,
    "start_time": "2024-01-12T13:09:46.074Z"
   },
   {
    "duration": 5,
    "start_time": "2024-01-12T13:09:46.082Z"
   },
   {
    "duration": 6,
    "start_time": "2024-01-12T13:09:46.089Z"
   },
   {
    "duration": 5,
    "start_time": "2024-01-12T13:09:46.097Z"
   },
   {
    "duration": 59,
    "start_time": "2024-01-12T13:09:46.104Z"
   },
   {
    "duration": 4,
    "start_time": "2024-01-12T13:09:46.165Z"
   },
   {
    "duration": 6,
    "start_time": "2024-01-12T13:09:46.170Z"
   },
   {
    "duration": 17,
    "start_time": "2024-01-12T13:09:46.177Z"
   },
   {
    "duration": 56,
    "start_time": "2024-01-12T13:09:46.197Z"
   },
   {
    "duration": 16,
    "start_time": "2024-01-12T13:09:46.255Z"
   },
   {
    "duration": 16,
    "start_time": "2024-01-12T13:09:46.273Z"
   },
   {
    "duration": 16,
    "start_time": "2024-01-12T13:09:46.290Z"
   },
   {
    "duration": 60,
    "start_time": "2024-01-12T13:09:46.308Z"
   },
   {
    "duration": 7,
    "start_time": "2024-01-12T13:09:46.369Z"
   },
   {
    "duration": 174,
    "start_time": "2024-01-12T13:09:46.377Z"
   },
   {
    "duration": 193,
    "start_time": "2024-01-12T13:09:46.553Z"
   },
   {
    "duration": 182,
    "start_time": "2024-01-12T13:09:46.748Z"
   },
   {
    "duration": 214,
    "start_time": "2024-01-12T13:09:46.932Z"
   },
   {
    "duration": 279,
    "start_time": "2024-01-12T13:09:47.148Z"
   },
   {
    "duration": 172,
    "start_time": "2024-01-12T13:09:47.428Z"
   },
   {
    "duration": 168,
    "start_time": "2024-01-12T13:09:47.602Z"
   },
   {
    "duration": 170,
    "start_time": "2024-01-12T13:09:47.772Z"
   },
   {
    "duration": 172,
    "start_time": "2024-01-12T13:09:47.944Z"
   },
   {
    "duration": 177,
    "start_time": "2024-01-12T13:09:48.118Z"
   },
   {
    "duration": 56,
    "start_time": "2024-01-12T13:09:48.297Z"
   },
   {
    "duration": 5,
    "start_time": "2024-01-12T13:09:48.355Z"
   },
   {
    "duration": 1692,
    "start_time": "2024-01-12T13:09:48.362Z"
   },
   {
    "duration": 6,
    "start_time": "2024-01-12T13:14:18.399Z"
   },
   {
    "duration": 124,
    "start_time": "2024-01-12T13:16:01.414Z"
   },
   {
    "duration": 13,
    "start_time": "2024-01-12T13:16:23.686Z"
   },
   {
    "duration": 18,
    "start_time": "2024-01-12T13:17:22.865Z"
   },
   {
    "duration": 11,
    "start_time": "2024-01-12T13:17:42.230Z"
   },
   {
    "duration": 20,
    "start_time": "2024-01-12T13:18:07.288Z"
   },
   {
    "duration": 1491,
    "start_time": "2024-01-12T13:18:28.094Z"
   },
   {
    "duration": 94,
    "start_time": "2024-01-12T13:18:29.586Z"
   },
   {
    "duration": 16,
    "start_time": "2024-01-12T13:18:29.681Z"
   },
   {
    "duration": 15,
    "start_time": "2024-01-12T13:18:29.699Z"
   },
   {
    "duration": 21,
    "start_time": "2024-01-12T13:18:29.716Z"
   },
   {
    "duration": 13,
    "start_time": "2024-01-12T13:18:29.739Z"
   },
   {
    "duration": 11,
    "start_time": "2024-01-12T13:18:29.754Z"
   },
   {
    "duration": 18,
    "start_time": "2024-01-12T13:18:29.767Z"
   },
   {
    "duration": 9,
    "start_time": "2024-01-12T13:18:29.787Z"
   },
   {
    "duration": 43,
    "start_time": "2024-01-12T13:18:29.800Z"
   },
   {
    "duration": 18,
    "start_time": "2024-01-12T13:18:29.845Z"
   },
   {
    "duration": 17,
    "start_time": "2024-01-12T13:18:29.865Z"
   },
   {
    "duration": 17,
    "start_time": "2024-01-12T13:18:29.884Z"
   },
   {
    "duration": 44,
    "start_time": "2024-01-12T13:18:29.903Z"
   },
   {
    "duration": 3,
    "start_time": "2024-01-12T13:18:29.949Z"
   },
   {
    "duration": 12,
    "start_time": "2024-01-12T13:18:29.954Z"
   },
   {
    "duration": 19,
    "start_time": "2024-01-12T13:18:29.967Z"
   },
   {
    "duration": 13,
    "start_time": "2024-01-12T13:18:29.987Z"
   },
   {
    "duration": 8,
    "start_time": "2024-01-12T13:18:30.001Z"
   },
   {
    "duration": 40,
    "start_time": "2024-01-12T13:18:30.011Z"
   },
   {
    "duration": 41,
    "start_time": "2024-01-12T13:18:30.053Z"
   },
   {
    "duration": 41,
    "start_time": "2024-01-12T13:18:30.096Z"
   },
   {
    "duration": 59,
    "start_time": "2024-01-12T13:18:30.139Z"
   },
   {
    "duration": 59,
    "start_time": "2024-01-12T13:18:30.200Z"
   },
   {
    "duration": 18,
    "start_time": "2024-01-12T13:18:30.261Z"
   },
   {
    "duration": 71,
    "start_time": "2024-01-12T13:18:30.281Z"
   },
   {
    "duration": 87,
    "start_time": "2024-01-12T13:18:30.354Z"
   },
   {
    "duration": 112,
    "start_time": "2024-01-12T13:18:30.446Z"
   },
   {
    "duration": 18,
    "start_time": "2024-01-12T13:18:30.560Z"
   },
   {
    "duration": 97,
    "start_time": "2024-01-12T13:18:30.580Z"
   },
   {
    "duration": 43,
    "start_time": "2024-01-12T13:18:30.679Z"
   },
   {
    "duration": 60,
    "start_time": "2024-01-12T13:18:30.724Z"
   },
   {
    "duration": 12,
    "start_time": "2024-01-12T13:18:30.785Z"
   },
   {
    "duration": 187,
    "start_time": "2024-01-12T13:18:30.799Z"
   },
   {
    "duration": 215,
    "start_time": "2024-01-12T13:18:30.988Z"
   },
   {
    "duration": 193,
    "start_time": "2024-01-12T13:18:31.205Z"
   },
   {
    "duration": 283,
    "start_time": "2024-01-12T13:18:31.399Z"
   },
   {
    "duration": 203,
    "start_time": "2024-01-12T13:18:31.684Z"
   },
   {
    "duration": 192,
    "start_time": "2024-01-12T13:18:31.889Z"
   },
   {
    "duration": 200,
    "start_time": "2024-01-12T13:18:32.082Z"
   },
   {
    "duration": 193,
    "start_time": "2024-01-12T13:18:32.284Z"
   },
   {
    "duration": 193,
    "start_time": "2024-01-12T13:18:32.479Z"
   },
   {
    "duration": 187,
    "start_time": "2024-01-12T13:18:32.674Z"
   },
   {
    "duration": 48,
    "start_time": "2024-01-12T13:18:32.863Z"
   },
   {
    "duration": 8,
    "start_time": "2024-01-12T13:18:32.913Z"
   },
   {
    "duration": 66,
    "start_time": "2024-01-12T13:18:32.924Z"
   },
   {
    "duration": 179,
    "start_time": "2024-01-12T13:18:32.991Z"
   },
   {
    "duration": 0,
    "start_time": "2024-01-12T13:18:33.172Z"
   },
   {
    "duration": 0,
    "start_time": "2024-01-12T13:18:33.173Z"
   },
   {
    "duration": 13,
    "start_time": "2024-01-12T13:18:44.622Z"
   },
   {
    "duration": 3,
    "start_time": "2024-01-12T13:23:58.582Z"
   },
   {
    "duration": 21,
    "start_time": "2024-01-12T13:24:00.990Z"
   },
   {
    "duration": 12,
    "start_time": "2024-01-12T13:24:34.942Z"
   },
   {
    "duration": 1354,
    "start_time": "2024-01-12T13:24:46.300Z"
   },
   {
    "duration": 95,
    "start_time": "2024-01-12T13:24:47.655Z"
   },
   {
    "duration": 15,
    "start_time": "2024-01-12T13:24:47.754Z"
   },
   {
    "duration": 16,
    "start_time": "2024-01-12T13:24:47.771Z"
   },
   {
    "duration": 12,
    "start_time": "2024-01-12T13:24:47.789Z"
   },
   {
    "duration": 24,
    "start_time": "2024-01-12T13:24:47.803Z"
   },
   {
    "duration": 26,
    "start_time": "2024-01-12T13:24:47.829Z"
   },
   {
    "duration": 24,
    "start_time": "2024-01-12T13:24:47.857Z"
   },
   {
    "duration": 8,
    "start_time": "2024-01-12T13:24:47.884Z"
   },
   {
    "duration": 21,
    "start_time": "2024-01-12T13:24:47.894Z"
   },
   {
    "duration": 24,
    "start_time": "2024-01-12T13:24:47.917Z"
   },
   {
    "duration": 17,
    "start_time": "2024-01-12T13:24:47.942Z"
   },
   {
    "duration": 34,
    "start_time": "2024-01-12T13:24:47.960Z"
   },
   {
    "duration": 33,
    "start_time": "2024-01-12T13:24:47.996Z"
   },
   {
    "duration": 10,
    "start_time": "2024-01-12T13:24:48.030Z"
   },
   {
    "duration": 21,
    "start_time": "2024-01-12T13:24:48.042Z"
   },
   {
    "duration": 32,
    "start_time": "2024-01-12T13:24:48.065Z"
   },
   {
    "duration": 8,
    "start_time": "2024-01-12T13:24:48.099Z"
   },
   {
    "duration": 15,
    "start_time": "2024-01-12T13:24:48.108Z"
   },
   {
    "duration": 16,
    "start_time": "2024-01-12T13:24:48.124Z"
   },
   {
    "duration": 14,
    "start_time": "2024-01-12T13:24:48.141Z"
   },
   {
    "duration": 18,
    "start_time": "2024-01-12T13:24:48.156Z"
   },
   {
    "duration": 12,
    "start_time": "2024-01-12T13:24:48.176Z"
   },
   {
    "duration": 45,
    "start_time": "2024-01-12T13:24:48.190Z"
   },
   {
    "duration": 6,
    "start_time": "2024-01-12T13:24:48.238Z"
   },
   {
    "duration": 6,
    "start_time": "2024-01-12T13:24:48.246Z"
   },
   {
    "duration": 31,
    "start_time": "2024-01-12T13:24:48.257Z"
   },
   {
    "duration": 39,
    "start_time": "2024-01-12T13:24:48.290Z"
   },
   {
    "duration": 20,
    "start_time": "2024-01-12T13:24:48.341Z"
   },
   {
    "duration": 38,
    "start_time": "2024-01-12T13:24:48.362Z"
   },
   {
    "duration": 48,
    "start_time": "2024-01-12T13:24:48.402Z"
   },
   {
    "duration": 28,
    "start_time": "2024-01-12T13:24:48.452Z"
   },
   {
    "duration": 3,
    "start_time": "2024-01-12T13:24:48.482Z"
   },
   {
    "duration": 159,
    "start_time": "2024-01-12T13:24:48.486Z"
   },
   {
    "duration": 184,
    "start_time": "2024-01-12T13:24:48.646Z"
   },
   {
    "duration": 166,
    "start_time": "2024-01-12T13:24:48.831Z"
   },
   {
    "duration": 198,
    "start_time": "2024-01-12T13:24:48.999Z"
   },
   {
    "duration": 244,
    "start_time": "2024-01-12T13:24:49.198Z"
   },
   {
    "duration": 177,
    "start_time": "2024-01-12T13:24:49.443Z"
   },
   {
    "duration": 186,
    "start_time": "2024-01-12T13:24:49.622Z"
   },
   {
    "duration": 169,
    "start_time": "2024-01-12T13:24:49.809Z"
   },
   {
    "duration": 176,
    "start_time": "2024-01-12T13:24:49.980Z"
   },
   {
    "duration": 169,
    "start_time": "2024-01-12T13:24:50.157Z"
   },
   {
    "duration": 44,
    "start_time": "2024-01-12T13:24:50.327Z"
   },
   {
    "duration": 31,
    "start_time": "2024-01-12T13:24:50.373Z"
   },
   {
    "duration": 19,
    "start_time": "2024-01-12T13:24:50.406Z"
   },
   {
    "duration": 11,
    "start_time": "2024-01-12T13:24:50.427Z"
   },
   {
    "duration": 28,
    "start_time": "2024-01-12T13:24:50.440Z"
   },
   {
    "duration": 1865,
    "start_time": "2024-01-12T13:24:50.469Z"
   },
   {
    "duration": 6,
    "start_time": "2024-01-12T13:25:24.160Z"
   },
   {
    "duration": 13,
    "start_time": "2024-01-12T13:25:24.935Z"
   },
   {
    "duration": 1441,
    "start_time": "2024-01-12T13:25:35.069Z"
   },
   {
    "duration": 95,
    "start_time": "2024-01-12T13:25:36.511Z"
   },
   {
    "duration": 14,
    "start_time": "2024-01-12T13:25:36.607Z"
   },
   {
    "duration": 12,
    "start_time": "2024-01-12T13:25:36.622Z"
   },
   {
    "duration": 8,
    "start_time": "2024-01-12T13:25:36.636Z"
   },
   {
    "duration": 13,
    "start_time": "2024-01-12T13:25:36.645Z"
   },
   {
    "duration": 11,
    "start_time": "2024-01-12T13:25:36.659Z"
   },
   {
    "duration": 11,
    "start_time": "2024-01-12T13:25:36.672Z"
   },
   {
    "duration": 46,
    "start_time": "2024-01-12T13:25:36.684Z"
   },
   {
    "duration": 13,
    "start_time": "2024-01-12T13:25:36.732Z"
   },
   {
    "duration": 19,
    "start_time": "2024-01-12T13:25:36.747Z"
   },
   {
    "duration": 15,
    "start_time": "2024-01-12T13:25:36.767Z"
   },
   {
    "duration": 15,
    "start_time": "2024-01-12T13:25:36.784Z"
   },
   {
    "duration": 18,
    "start_time": "2024-01-12T13:25:36.801Z"
   },
   {
    "duration": 21,
    "start_time": "2024-01-12T13:25:36.821Z"
   },
   {
    "duration": 3,
    "start_time": "2024-01-12T13:25:36.845Z"
   },
   {
    "duration": 23,
    "start_time": "2024-01-12T13:25:36.849Z"
   },
   {
    "duration": 5,
    "start_time": "2024-01-12T13:25:36.873Z"
   },
   {
    "duration": 17,
    "start_time": "2024-01-12T13:25:36.880Z"
   },
   {
    "duration": 6,
    "start_time": "2024-01-12T13:25:36.898Z"
   },
   {
    "duration": 5,
    "start_time": "2024-01-12T13:25:36.906Z"
   },
   {
    "duration": 7,
    "start_time": "2024-01-12T13:25:36.912Z"
   },
   {
    "duration": 26,
    "start_time": "2024-01-12T13:25:36.920Z"
   },
   {
    "duration": 27,
    "start_time": "2024-01-12T13:25:36.948Z"
   },
   {
    "duration": 5,
    "start_time": "2024-01-12T13:25:36.977Z"
   },
   {
    "duration": 5,
    "start_time": "2024-01-12T13:25:36.984Z"
   },
   {
    "duration": 16,
    "start_time": "2024-01-12T13:25:36.990Z"
   },
   {
    "duration": 40,
    "start_time": "2024-01-12T13:25:37.044Z"
   },
   {
    "duration": 18,
    "start_time": "2024-01-12T13:25:37.086Z"
   },
   {
    "duration": 36,
    "start_time": "2024-01-12T13:25:37.106Z"
   },
   {
    "duration": 15,
    "start_time": "2024-01-12T13:25:37.144Z"
   },
   {
    "duration": 29,
    "start_time": "2024-01-12T13:25:37.161Z"
   },
   {
    "duration": 5,
    "start_time": "2024-01-12T13:25:37.192Z"
   },
   {
    "duration": 190,
    "start_time": "2024-01-12T13:25:37.198Z"
   },
   {
    "duration": 182,
    "start_time": "2024-01-12T13:25:37.389Z"
   },
   {
    "duration": 174,
    "start_time": "2024-01-12T13:25:37.572Z"
   },
   {
    "duration": 274,
    "start_time": "2024-01-12T13:25:37.747Z"
   },
   {
    "duration": 178,
    "start_time": "2024-01-12T13:25:38.023Z"
   },
   {
    "duration": 175,
    "start_time": "2024-01-12T13:25:38.203Z"
   },
   {
    "duration": 176,
    "start_time": "2024-01-12T13:25:38.380Z"
   },
   {
    "duration": 169,
    "start_time": "2024-01-12T13:25:38.558Z"
   },
   {
    "duration": 182,
    "start_time": "2024-01-12T13:25:38.728Z"
   },
   {
    "duration": 170,
    "start_time": "2024-01-12T13:25:38.911Z"
   },
   {
    "duration": 40,
    "start_time": "2024-01-12T13:25:39.082Z"
   },
   {
    "duration": 21,
    "start_time": "2024-01-12T13:25:39.123Z"
   },
   {
    "duration": 5,
    "start_time": "2024-01-12T13:25:39.146Z"
   },
   {
    "duration": 5,
    "start_time": "2024-01-12T13:25:39.153Z"
   },
   {
    "duration": 13,
    "start_time": "2024-01-12T13:25:39.160Z"
   },
   {
    "duration": 1648,
    "start_time": "2024-01-12T13:25:39.175Z"
   },
   {
    "duration": 11,
    "start_time": "2024-01-12T13:27:51.098Z"
   },
   {
    "duration": 12,
    "start_time": "2024-01-12T13:28:13.529Z"
   },
   {
    "duration": 5,
    "start_time": "2024-01-12T13:28:49.419Z"
   },
   {
    "duration": 11,
    "start_time": "2024-01-12T13:29:01.243Z"
   },
   {
    "duration": 34,
    "start_time": "2024-01-12T13:29:01.256Z"
   },
   {
    "duration": 14,
    "start_time": "2024-01-12T13:29:03.105Z"
   },
   {
    "duration": 10,
    "start_time": "2024-01-12T13:32:01.602Z"
   },
   {
    "duration": 3491,
    "start_time": "2024-01-12T13:32:22.881Z"
   },
   {
    "duration": 5,
    "start_time": "2024-01-12T13:33:24.129Z"
   },
   {
    "duration": 12,
    "start_time": "2024-01-12T14:11:34.343Z"
   },
   {
    "duration": 4,
    "start_time": "2024-01-12T14:13:44.854Z"
   },
   {
    "duration": 7,
    "start_time": "2024-01-12T14:15:21.078Z"
   },
   {
    "duration": 3,
    "start_time": "2024-01-12T14:16:19.862Z"
   },
   {
    "duration": 3,
    "start_time": "2024-01-12T14:18:13.504Z"
   },
   {
    "duration": 1635,
    "start_time": "2024-01-12T20:04:17.560Z"
   },
   {
    "duration": 322,
    "start_time": "2024-01-12T20:04:19.197Z"
   },
   {
    "duration": 18,
    "start_time": "2024-01-12T20:04:19.521Z"
   },
   {
    "duration": 19,
    "start_time": "2024-01-12T20:04:19.541Z"
   },
   {
    "duration": 8,
    "start_time": "2024-01-12T20:04:19.562Z"
   },
   {
    "duration": 12,
    "start_time": "2024-01-12T20:04:19.571Z"
   },
   {
    "duration": 16,
    "start_time": "2024-01-12T20:04:19.584Z"
   },
   {
    "duration": 37,
    "start_time": "2024-01-12T20:04:19.601Z"
   },
   {
    "duration": 7,
    "start_time": "2024-01-12T20:04:19.639Z"
   },
   {
    "duration": 10,
    "start_time": "2024-01-12T20:04:19.648Z"
   },
   {
    "duration": 20,
    "start_time": "2024-01-12T20:04:19.659Z"
   },
   {
    "duration": 15,
    "start_time": "2024-01-12T20:04:19.680Z"
   },
   {
    "duration": 12,
    "start_time": "2024-01-12T20:04:19.696Z"
   },
   {
    "duration": 17,
    "start_time": "2024-01-12T20:04:19.709Z"
   },
   {
    "duration": 3,
    "start_time": "2024-01-12T20:04:19.727Z"
   },
   {
    "duration": 18,
    "start_time": "2024-01-12T20:04:19.731Z"
   },
   {
    "duration": 30,
    "start_time": "2024-01-12T20:04:19.750Z"
   },
   {
    "duration": 5,
    "start_time": "2024-01-12T20:04:19.781Z"
   },
   {
    "duration": 9,
    "start_time": "2024-01-12T20:04:19.787Z"
   },
   {
    "duration": 7,
    "start_time": "2024-01-12T20:04:19.797Z"
   },
   {
    "duration": 4,
    "start_time": "2024-01-12T20:04:19.806Z"
   },
   {
    "duration": 27,
    "start_time": "2024-01-12T20:04:19.812Z"
   },
   {
    "duration": 5,
    "start_time": "2024-01-12T20:04:19.840Z"
   },
   {
    "duration": 27,
    "start_time": "2024-01-12T20:04:19.847Z"
   },
   {
    "duration": 5,
    "start_time": "2024-01-12T20:04:19.875Z"
   },
   {
    "duration": 6,
    "start_time": "2024-01-12T20:04:19.881Z"
   },
   {
    "duration": 22,
    "start_time": "2024-01-12T20:04:19.888Z"
   },
   {
    "duration": 52,
    "start_time": "2024-01-12T20:04:19.913Z"
   },
   {
    "duration": 17,
    "start_time": "2024-01-12T20:04:19.966Z"
   },
   {
    "duration": 36,
    "start_time": "2024-01-12T20:04:19.984Z"
   },
   {
    "duration": 14,
    "start_time": "2024-01-12T20:04:20.021Z"
   },
   {
    "duration": 29,
    "start_time": "2024-01-12T20:04:20.037Z"
   },
   {
    "duration": 5,
    "start_time": "2024-01-12T20:04:20.068Z"
   },
   {
    "duration": 162,
    "start_time": "2024-01-12T20:04:20.074Z"
   },
   {
    "duration": 177,
    "start_time": "2024-01-12T20:04:20.237Z"
   },
   {
    "duration": 170,
    "start_time": "2024-01-12T20:04:20.415Z"
   },
   {
    "duration": 273,
    "start_time": "2024-01-12T20:04:20.587Z"
   },
   {
    "duration": 165,
    "start_time": "2024-01-12T20:04:20.862Z"
   },
   {
    "duration": 157,
    "start_time": "2024-01-12T20:04:21.028Z"
   },
   {
    "duration": 158,
    "start_time": "2024-01-12T20:04:21.186Z"
   },
   {
    "duration": 161,
    "start_time": "2024-01-12T20:04:21.346Z"
   },
   {
    "duration": 169,
    "start_time": "2024-01-12T20:04:21.508Z"
   },
   {
    "duration": 168,
    "start_time": "2024-01-12T20:04:21.678Z"
   },
   {
    "duration": 47,
    "start_time": "2024-01-12T20:04:21.848Z"
   },
   {
    "duration": 4,
    "start_time": "2024-01-12T20:04:21.897Z"
   },
   {
    "duration": 6,
    "start_time": "2024-01-12T20:04:21.902Z"
   },
   {
    "duration": 5,
    "start_time": "2024-01-12T20:04:21.910Z"
   },
   {
    "duration": 6,
    "start_time": "2024-01-12T20:04:21.916Z"
   },
   {
    "duration": 47,
    "start_time": "2024-01-12T20:04:21.924Z"
   },
   {
    "duration": 3342,
    "start_time": "2024-01-12T20:04:21.973Z"
   },
   {
    "duration": 5,
    "start_time": "2024-01-12T20:04:25.316Z"
   },
   {
    "duration": 12,
    "start_time": "2024-01-12T20:04:25.322Z"
   },
   {
    "duration": 6,
    "start_time": "2024-01-12T20:04:25.335Z"
   },
   {
    "duration": 6,
    "start_time": "2024-01-12T20:04:25.343Z"
   },
   {
    "duration": 15,
    "start_time": "2024-01-12T20:04:25.350Z"
   },
   {
    "duration": 4,
    "start_time": "2024-01-12T20:04:25.367Z"
   },
   {
    "duration": 186,
    "start_time": "2024-01-12T20:08:24.676Z"
   },
   {
    "duration": 3,
    "start_time": "2024-01-12T20:08:57.262Z"
   },
   {
    "duration": 78,
    "start_time": "2024-01-12T20:08:58.902Z"
   },
   {
    "duration": 9814,
    "start_time": "2024-01-12T20:09:51.052Z"
   },
   {
    "duration": 9943,
    "start_time": "2024-01-12T20:15:06.729Z"
   },
   {
    "duration": 81,
    "start_time": "2024-01-12T20:16:49.248Z"
   },
   {
    "duration": 69631,
    "start_time": "2024-01-12T20:17:15.516Z"
   },
   {
    "duration": 69655,
    "start_time": "2024-01-12T20:18:39.174Z"
   },
   {
    "duration": 67077,
    "start_time": "2024-01-12T20:22:46.175Z"
   },
   {
    "duration": 67406,
    "start_time": "2024-01-12T20:24:37.288Z"
   },
   {
    "duration": 15,
    "start_time": "2024-01-12T20:41:19.332Z"
   },
   {
    "duration": 12,
    "start_time": "2024-01-12T20:41:23.910Z"
   },
   {
    "duration": 8,
    "start_time": "2024-01-12T20:41:50.046Z"
   },
   {
    "duration": 4,
    "start_time": "2024-01-12T20:42:47.649Z"
   },
   {
    "duration": 8,
    "start_time": "2024-01-12T20:43:57.317Z"
   },
   {
    "duration": 3,
    "start_time": "2024-01-12T20:48:05.318Z"
   },
   {
    "duration": 3099,
    "start_time": "2024-01-12T20:51:57.592Z"
   },
   {
    "duration": 2996,
    "start_time": "2024-01-12T20:52:23.707Z"
   },
   {
    "duration": 3405,
    "start_time": "2024-01-12T20:57:51.894Z"
   },
   {
    "duration": 3385,
    "start_time": "2024-01-12T20:59:30.999Z"
   },
   {
    "duration": 3439,
    "start_time": "2024-01-12T20:59:44.991Z"
   },
   {
    "duration": 51,
    "start_time": "2024-01-14T09:24:09.107Z"
   },
   {
    "duration": 1758,
    "start_time": "2024-01-14T09:25:35.416Z"
   },
   {
    "duration": 352,
    "start_time": "2024-01-14T09:25:37.176Z"
   },
   {
    "duration": 16,
    "start_time": "2024-01-14T09:25:37.529Z"
   },
   {
    "duration": 14,
    "start_time": "2024-01-14T09:25:37.547Z"
   },
   {
    "duration": 22,
    "start_time": "2024-01-14T09:25:37.563Z"
   },
   {
    "duration": 27,
    "start_time": "2024-01-14T09:25:37.587Z"
   },
   {
    "duration": 18,
    "start_time": "2024-01-14T09:25:37.616Z"
   },
   {
    "duration": 14,
    "start_time": "2024-01-14T09:25:37.636Z"
   },
   {
    "duration": 19,
    "start_time": "2024-01-14T09:25:37.651Z"
   },
   {
    "duration": 10,
    "start_time": "2024-01-14T09:25:37.673Z"
   },
   {
    "duration": 20,
    "start_time": "2024-01-14T09:25:37.700Z"
   },
   {
    "duration": 17,
    "start_time": "2024-01-14T09:25:37.722Z"
   },
   {
    "duration": 16,
    "start_time": "2024-01-14T09:25:37.740Z"
   },
   {
    "duration": 13,
    "start_time": "2024-01-14T09:25:37.758Z"
   },
   {
    "duration": 45,
    "start_time": "2024-01-14T09:25:37.773Z"
   },
   {
    "duration": 4,
    "start_time": "2024-01-14T09:25:37.819Z"
   },
   {
    "duration": 10,
    "start_time": "2024-01-14T09:25:37.824Z"
   },
   {
    "duration": 24,
    "start_time": "2024-01-14T09:25:37.836Z"
   },
   {
    "duration": 7,
    "start_time": "2024-01-14T09:25:37.861Z"
   },
   {
    "duration": 5,
    "start_time": "2024-01-14T09:25:37.869Z"
   },
   {
    "duration": 7,
    "start_time": "2024-01-14T09:25:37.899Z"
   },
   {
    "duration": 8,
    "start_time": "2024-01-14T09:25:37.908Z"
   },
   {
    "duration": 6,
    "start_time": "2024-01-14T09:25:37.918Z"
   },
   {
    "duration": 7,
    "start_time": "2024-01-14T09:25:37.925Z"
   },
   {
    "duration": 24,
    "start_time": "2024-01-14T09:25:37.934Z"
   },
   {
    "duration": 5,
    "start_time": "2024-01-14T09:25:37.960Z"
   },
   {
    "duration": 35,
    "start_time": "2024-01-14T09:25:37.967Z"
   },
   {
    "duration": 17,
    "start_time": "2024-01-14T09:25:38.007Z"
   },
   {
    "duration": 78,
    "start_time": "2024-01-14T09:25:38.026Z"
   },
   {
    "duration": 19,
    "start_time": "2024-01-14T09:25:38.105Z"
   },
   {
    "duration": 17,
    "start_time": "2024-01-14T09:25:38.126Z"
   },
   {
    "duration": 16,
    "start_time": "2024-01-14T09:25:38.146Z"
   },
   {
    "duration": 65,
    "start_time": "2024-01-14T09:25:38.164Z"
   },
   {
    "duration": 5,
    "start_time": "2024-01-14T09:25:38.231Z"
   },
   {
    "duration": 190,
    "start_time": "2024-01-14T09:25:38.238Z"
   },
   {
    "duration": 208,
    "start_time": "2024-01-14T09:25:38.430Z"
   },
   {
    "duration": 197,
    "start_time": "2024-01-14T09:25:38.639Z"
   },
   {
    "duration": 219,
    "start_time": "2024-01-14T09:25:38.838Z"
   },
   {
    "duration": 280,
    "start_time": "2024-01-14T09:25:39.059Z"
   },
   {
    "duration": 188,
    "start_time": "2024-01-14T09:25:39.340Z"
   },
   {
    "duration": 190,
    "start_time": "2024-01-14T09:25:39.530Z"
   },
   {
    "duration": 209,
    "start_time": "2024-01-14T09:25:39.723Z"
   },
   {
    "duration": 211,
    "start_time": "2024-01-14T09:25:39.934Z"
   },
   {
    "duration": 207,
    "start_time": "2024-01-14T09:25:40.147Z"
   },
   {
    "duration": 65,
    "start_time": "2024-01-14T09:25:40.355Z"
   },
   {
    "duration": 5,
    "start_time": "2024-01-14T09:25:40.422Z"
   },
   {
    "duration": 5,
    "start_time": "2024-01-14T09:25:40.429Z"
   },
   {
    "duration": 6,
    "start_time": "2024-01-14T09:25:40.436Z"
   },
   {
    "duration": 6,
    "start_time": "2024-01-14T09:25:40.443Z"
   },
   {
    "duration": 10,
    "start_time": "2024-01-14T09:25:40.451Z"
   },
   {
    "duration": 3961,
    "start_time": "2024-01-14T09:25:40.463Z"
   },
   {
    "duration": 5,
    "start_time": "2024-01-14T09:25:44.426Z"
   },
   {
    "duration": 15,
    "start_time": "2024-01-14T09:25:44.432Z"
   },
   {
    "duration": 4,
    "start_time": "2024-01-14T09:25:44.448Z"
   },
   {
    "duration": 10,
    "start_time": "2024-01-14T09:25:44.454Z"
   },
   {
    "duration": 4,
    "start_time": "2024-01-14T09:25:44.465Z"
   },
   {
    "duration": 32,
    "start_time": "2024-01-14T09:25:44.470Z"
   },
   {
    "duration": 7,
    "start_time": "2024-01-14T09:25:44.504Z"
   },
   {
    "duration": 10002,
    "start_time": "2024-01-14T09:25:44.512Z"
   },
   {
    "duration": 78661,
    "start_time": "2024-01-14T09:25:54.515Z"
   },
   {
    "duration": 74299,
    "start_time": "2024-01-14T09:27:13.178Z"
   },
   {
    "duration": 9,
    "start_time": "2024-01-14T09:28:27.479Z"
   },
   {
    "duration": 3431,
    "start_time": "2024-01-14T09:28:27.490Z"
   },
   {
    "duration": 107,
    "start_time": "2024-01-14T09:40:31.083Z"
   },
   {
    "duration": 3234,
    "start_time": "2024-01-14T09:41:56.486Z"
   },
   {
    "duration": 10,
    "start_time": "2024-01-14T09:47:48.224Z"
   },
   {
    "duration": 11,
    "start_time": "2024-01-14T09:52:34.740Z"
   },
   {
    "duration": 3565,
    "start_time": "2024-01-14T09:52:57.524Z"
   },
   {
    "duration": 110,
    "start_time": "2024-01-14T09:53:02.801Z"
   },
   {
    "duration": 12,
    "start_time": "2024-01-14T09:53:13.393Z"
   },
   {
    "duration": 18,
    "start_time": "2024-01-14T10:02:02.363Z"
   },
   {
    "duration": 5,
    "start_time": "2024-01-14T10:03:19.462Z"
   },
   {
    "duration": 148,
    "start_time": "2024-01-14T10:03:28.725Z"
   },
   {
    "duration": 203,
    "start_time": "2024-01-14T10:06:02.861Z"
   },
   {
    "duration": 176,
    "start_time": "2024-01-14T10:06:14.538Z"
   },
   {
    "duration": 31,
    "start_time": "2024-01-14T10:10:29.135Z"
   },
   {
    "duration": 546,
    "start_time": "2024-01-14T10:10:30.409Z"
   },
   {
    "duration": 680,
    "start_time": "2024-01-14T10:19:48.013Z"
   },
   {
    "duration": 1541,
    "start_time": "2024-01-14T10:38:10.209Z"
   },
   {
    "duration": 97,
    "start_time": "2024-01-14T10:38:11.752Z"
   },
   {
    "duration": 15,
    "start_time": "2024-01-14T10:38:11.851Z"
   },
   {
    "duration": 14,
    "start_time": "2024-01-14T10:38:11.869Z"
   },
   {
    "duration": 9,
    "start_time": "2024-01-14T10:38:11.884Z"
   },
   {
    "duration": 11,
    "start_time": "2024-01-14T10:38:11.895Z"
   },
   {
    "duration": 11,
    "start_time": "2024-01-14T10:38:11.908Z"
   },
   {
    "duration": 11,
    "start_time": "2024-01-14T10:38:11.921Z"
   },
   {
    "duration": 15,
    "start_time": "2024-01-14T10:38:11.934Z"
   },
   {
    "duration": 12,
    "start_time": "2024-01-14T10:38:11.953Z"
   },
   {
    "duration": 51,
    "start_time": "2024-01-14T10:38:11.966Z"
   },
   {
    "duration": 17,
    "start_time": "2024-01-14T10:38:12.019Z"
   },
   {
    "duration": 14,
    "start_time": "2024-01-14T10:38:12.037Z"
   },
   {
    "duration": 14,
    "start_time": "2024-01-14T10:38:12.053Z"
   },
   {
    "duration": 50,
    "start_time": "2024-01-14T10:38:12.068Z"
   },
   {
    "duration": 3,
    "start_time": "2024-01-14T10:38:12.120Z"
   },
   {
    "duration": 9,
    "start_time": "2024-01-14T10:38:12.125Z"
   },
   {
    "duration": 19,
    "start_time": "2024-01-14T10:38:12.136Z"
   },
   {
    "duration": 7,
    "start_time": "2024-01-14T10:38:12.157Z"
   },
   {
    "duration": 5,
    "start_time": "2024-01-14T10:38:12.165Z"
   },
   {
    "duration": 31,
    "start_time": "2024-01-14T10:38:12.172Z"
   },
   {
    "duration": 4,
    "start_time": "2024-01-14T10:38:12.205Z"
   },
   {
    "duration": 9,
    "start_time": "2024-01-14T10:38:12.210Z"
   },
   {
    "duration": 8,
    "start_time": "2024-01-14T10:38:12.221Z"
   },
   {
    "duration": 36,
    "start_time": "2024-01-14T10:38:12.230Z"
   },
   {
    "duration": 5,
    "start_time": "2024-01-14T10:38:12.268Z"
   },
   {
    "duration": 12,
    "start_time": "2024-01-14T10:38:12.275Z"
   },
   {
    "duration": 17,
    "start_time": "2024-01-14T10:38:12.300Z"
   },
   {
    "duration": 44,
    "start_time": "2024-01-14T10:38:12.318Z"
   },
   {
    "duration": 59,
    "start_time": "2024-01-14T10:38:12.364Z"
   },
   {
    "duration": 58,
    "start_time": "2024-01-14T10:38:12.425Z"
   },
   {
    "duration": 19,
    "start_time": "2024-01-14T10:38:12.484Z"
   },
   {
    "duration": 87,
    "start_time": "2024-01-14T10:38:12.504Z"
   },
   {
    "duration": 35,
    "start_time": "2024-01-14T10:38:12.592Z"
   },
   {
    "duration": 166,
    "start_time": "2024-01-14T10:38:12.629Z"
   },
   {
    "duration": 216,
    "start_time": "2024-01-14T10:38:12.797Z"
   },
   {
    "duration": 179,
    "start_time": "2024-01-14T10:38:13.015Z"
   },
   {
    "duration": 218,
    "start_time": "2024-01-14T10:38:13.200Z"
   },
   {
    "duration": 268,
    "start_time": "2024-01-14T10:38:13.420Z"
   },
   {
    "duration": 183,
    "start_time": "2024-01-14T10:38:13.690Z"
   },
   {
    "duration": 180,
    "start_time": "2024-01-14T10:38:13.875Z"
   },
   {
    "duration": 196,
    "start_time": "2024-01-14T10:38:14.057Z"
   },
   {
    "duration": 208,
    "start_time": "2024-01-14T10:38:14.255Z"
   },
   {
    "duration": 189,
    "start_time": "2024-01-14T10:38:14.465Z"
   },
   {
    "duration": 54,
    "start_time": "2024-01-14T10:38:14.656Z"
   },
   {
    "duration": 5,
    "start_time": "2024-01-14T10:38:14.711Z"
   },
   {
    "duration": 10,
    "start_time": "2024-01-14T10:38:14.718Z"
   },
   {
    "duration": 7,
    "start_time": "2024-01-14T10:38:14.730Z"
   },
   {
    "duration": 6,
    "start_time": "2024-01-14T10:38:14.739Z"
   },
   {
    "duration": 1979,
    "start_time": "2024-01-14T10:38:14.747Z"
   },
   {
    "duration": 4,
    "start_time": "2024-01-14T10:38:16.728Z"
   },
   {
    "duration": 18,
    "start_time": "2024-01-14T10:38:16.734Z"
   },
   {
    "duration": 5,
    "start_time": "2024-01-14T10:38:16.753Z"
   },
   {
    "duration": 17,
    "start_time": "2024-01-14T10:38:16.759Z"
   },
   {
    "duration": 23,
    "start_time": "2024-01-14T10:38:16.778Z"
   },
   {
    "duration": 19,
    "start_time": "2024-01-14T10:38:16.803Z"
   },
   {
    "duration": 144,
    "start_time": "2024-01-14T10:38:16.824Z"
   },
   {
    "duration": 0,
    "start_time": "2024-01-14T10:38:16.971Z"
   },
   {
    "duration": 0,
    "start_time": "2024-01-14T10:38:16.972Z"
   },
   {
    "duration": 0,
    "start_time": "2024-01-14T10:38:16.974Z"
   },
   {
    "duration": 0,
    "start_time": "2024-01-14T10:38:16.975Z"
   },
   {
    "duration": 0,
    "start_time": "2024-01-14T10:38:16.977Z"
   },
   {
    "duration": 0,
    "start_time": "2024-01-14T10:38:16.979Z"
   },
   {
    "duration": 0,
    "start_time": "2024-01-14T10:38:16.980Z"
   },
   {
    "duration": 0,
    "start_time": "2024-01-14T10:38:16.981Z"
   },
   {
    "duration": 0,
    "start_time": "2024-01-14T10:38:16.983Z"
   },
   {
    "duration": 0,
    "start_time": "2024-01-14T10:38:17.000Z"
   },
   {
    "duration": 0,
    "start_time": "2024-01-14T10:38:17.002Z"
   },
   {
    "duration": 4,
    "start_time": "2024-01-14T10:38:26.789Z"
   },
   {
    "duration": 4,
    "start_time": "2024-01-14T10:38:29.952Z"
   },
   {
    "duration": 4,
    "start_time": "2024-01-14T10:38:46.343Z"
   },
   {
    "duration": 5,
    "start_time": "2024-01-14T11:39:45.747Z"
   },
   {
    "duration": 3,
    "start_time": "2024-01-14T11:41:26.662Z"
   },
   {
    "duration": 3,
    "start_time": "2024-01-14T11:41:31.105Z"
   },
   {
    "duration": 1530,
    "start_time": "2024-01-14T11:47:34.653Z"
   },
   {
    "duration": 97,
    "start_time": "2024-01-14T11:47:36.185Z"
   },
   {
    "duration": 14,
    "start_time": "2024-01-14T11:47:36.284Z"
   },
   {
    "duration": 13,
    "start_time": "2024-01-14T11:47:36.301Z"
   },
   {
    "duration": 15,
    "start_time": "2024-01-14T11:47:36.316Z"
   },
   {
    "duration": 14,
    "start_time": "2024-01-14T11:47:36.333Z"
   },
   {
    "duration": 12,
    "start_time": "2024-01-14T11:47:36.348Z"
   },
   {
    "duration": 13,
    "start_time": "2024-01-14T11:47:36.361Z"
   },
   {
    "duration": 26,
    "start_time": "2024-01-14T11:47:36.376Z"
   },
   {
    "duration": 12,
    "start_time": "2024-01-14T11:47:36.404Z"
   },
   {
    "duration": 20,
    "start_time": "2024-01-14T11:47:36.418Z"
   },
   {
    "duration": 18,
    "start_time": "2024-01-14T11:47:36.439Z"
   },
   {
    "duration": 48,
    "start_time": "2024-01-14T11:47:36.459Z"
   },
   {
    "duration": 15,
    "start_time": "2024-01-14T11:47:36.509Z"
   },
   {
    "duration": 22,
    "start_time": "2024-01-14T11:47:36.525Z"
   },
   {
    "duration": 4,
    "start_time": "2024-01-14T11:47:36.549Z"
   },
   {
    "duration": 25,
    "start_time": "2024-01-14T11:47:36.555Z"
   },
   {
    "duration": 30,
    "start_time": "2024-01-14T11:47:36.581Z"
   },
   {
    "duration": 20,
    "start_time": "2024-01-14T11:47:36.613Z"
   },
   {
    "duration": 7,
    "start_time": "2024-01-14T11:47:36.635Z"
   },
   {
    "duration": 10,
    "start_time": "2024-01-14T11:47:36.644Z"
   },
   {
    "duration": 5,
    "start_time": "2024-01-14T11:47:36.655Z"
   },
   {
    "duration": 9,
    "start_time": "2024-01-14T11:47:36.661Z"
   },
   {
    "duration": 7,
    "start_time": "2024-01-14T11:47:36.672Z"
   },
   {
    "duration": 34,
    "start_time": "2024-01-14T11:47:36.680Z"
   },
   {
    "duration": 5,
    "start_time": "2024-01-14T11:47:36.716Z"
   },
   {
    "duration": 10,
    "start_time": "2024-01-14T11:47:36.722Z"
   },
   {
    "duration": 20,
    "start_time": "2024-01-14T11:47:36.736Z"
   },
   {
    "duration": 58,
    "start_time": "2024-01-14T11:47:36.757Z"
   },
   {
    "duration": 19,
    "start_time": "2024-01-14T11:47:36.816Z"
   },
   {
    "duration": 18,
    "start_time": "2024-01-14T11:47:36.837Z"
   },
   {
    "duration": 15,
    "start_time": "2024-01-14T11:47:36.856Z"
   },
   {
    "duration": 56,
    "start_time": "2024-01-14T11:47:36.872Z"
   },
   {
    "duration": 4,
    "start_time": "2024-01-14T11:47:36.930Z"
   },
   {
    "duration": 177,
    "start_time": "2024-01-14T11:47:36.936Z"
   },
   {
    "duration": 201,
    "start_time": "2024-01-14T11:47:37.115Z"
   },
   {
    "duration": 191,
    "start_time": "2024-01-14T11:47:37.318Z"
   },
   {
    "duration": 224,
    "start_time": "2024-01-14T11:47:37.510Z"
   },
   {
    "duration": 267,
    "start_time": "2024-01-14T11:47:37.736Z"
   },
   {
    "duration": 186,
    "start_time": "2024-01-14T11:47:38.005Z"
   },
   {
    "duration": 189,
    "start_time": "2024-01-14T11:47:38.193Z"
   },
   {
    "duration": 184,
    "start_time": "2024-01-14T11:47:38.384Z"
   },
   {
    "duration": 206,
    "start_time": "2024-01-14T11:47:38.571Z"
   },
   {
    "duration": 192,
    "start_time": "2024-01-14T11:47:38.778Z"
   },
   {
    "duration": 53,
    "start_time": "2024-01-14T11:47:38.971Z"
   },
   {
    "duration": 4,
    "start_time": "2024-01-14T11:47:39.026Z"
   },
   {
    "duration": 12,
    "start_time": "2024-01-14T11:47:39.032Z"
   },
   {
    "duration": 7,
    "start_time": "2024-01-14T11:47:39.046Z"
   },
   {
    "duration": 6,
    "start_time": "2024-01-14T11:47:39.054Z"
   },
   {
    "duration": 1997,
    "start_time": "2024-01-14T11:47:39.062Z"
   },
   {
    "duration": 6,
    "start_time": "2024-01-14T11:47:41.061Z"
   },
   {
    "duration": 23,
    "start_time": "2024-01-14T11:47:41.068Z"
   },
   {
    "duration": 10,
    "start_time": "2024-01-14T11:47:41.092Z"
   },
   {
    "duration": 148,
    "start_time": "2024-01-14T11:47:41.104Z"
   },
   {
    "duration": 0,
    "start_time": "2024-01-14T11:47:41.253Z"
   },
   {
    "duration": 0,
    "start_time": "2024-01-14T11:47:41.255Z"
   },
   {
    "duration": 0,
    "start_time": "2024-01-14T11:47:41.256Z"
   },
   {
    "duration": 0,
    "start_time": "2024-01-14T11:47:41.258Z"
   },
   {
    "duration": 0,
    "start_time": "2024-01-14T11:47:41.260Z"
   },
   {
    "duration": 0,
    "start_time": "2024-01-14T11:47:41.261Z"
   },
   {
    "duration": 0,
    "start_time": "2024-01-14T11:47:41.262Z"
   },
   {
    "duration": 0,
    "start_time": "2024-01-14T11:47:41.263Z"
   },
   {
    "duration": 0,
    "start_time": "2024-01-14T11:47:41.264Z"
   },
   {
    "duration": 0,
    "start_time": "2024-01-14T11:47:41.265Z"
   },
   {
    "duration": 0,
    "start_time": "2024-01-14T11:47:41.266Z"
   },
   {
    "duration": 0,
    "start_time": "2024-01-14T11:47:41.267Z"
   },
   {
    "duration": 0,
    "start_time": "2024-01-14T11:47:41.269Z"
   },
   {
    "duration": 0,
    "start_time": "2024-01-14T11:47:41.270Z"
   },
   {
    "duration": 0,
    "start_time": "2024-01-14T11:47:41.271Z"
   },
   {
    "duration": 0,
    "start_time": "2024-01-14T11:47:41.271Z"
   },
   {
    "duration": 13,
    "start_time": "2024-01-14T11:49:21.743Z"
   },
   {
    "duration": 1118,
    "start_time": "2024-01-14T11:50:10.018Z"
   },
   {
    "duration": 27,
    "start_time": "2024-01-14T11:51:28.441Z"
   },
   {
    "duration": 22,
    "start_time": "2024-01-14T11:52:00.790Z"
   },
   {
    "duration": 14,
    "start_time": "2024-01-14T11:58:59.645Z"
   },
   {
    "duration": 1606,
    "start_time": "2024-01-14T11:59:19.998Z"
   },
   {
    "duration": 97,
    "start_time": "2024-01-14T11:59:21.606Z"
   },
   {
    "duration": 16,
    "start_time": "2024-01-14T11:59:21.705Z"
   },
   {
    "duration": 33,
    "start_time": "2024-01-14T11:59:21.723Z"
   },
   {
    "duration": 15,
    "start_time": "2024-01-14T11:59:21.757Z"
   },
   {
    "duration": 47,
    "start_time": "2024-01-14T11:59:21.774Z"
   },
   {
    "duration": 16,
    "start_time": "2024-01-14T11:59:21.823Z"
   },
   {
    "duration": 28,
    "start_time": "2024-01-14T11:59:21.841Z"
   },
   {
    "duration": 33,
    "start_time": "2024-01-14T11:59:21.871Z"
   },
   {
    "duration": 28,
    "start_time": "2024-01-14T11:59:21.907Z"
   },
   {
    "duration": 42,
    "start_time": "2024-01-14T11:59:21.936Z"
   },
   {
    "duration": 19,
    "start_time": "2024-01-14T11:59:21.980Z"
   },
   {
    "duration": 28,
    "start_time": "2024-01-14T11:59:22.001Z"
   },
   {
    "duration": 20,
    "start_time": "2024-01-14T11:59:22.031Z"
   },
   {
    "duration": 32,
    "start_time": "2024-01-14T11:59:22.053Z"
   },
   {
    "duration": 18,
    "start_time": "2024-01-14T11:59:22.086Z"
   },
   {
    "duration": 21,
    "start_time": "2024-01-14T11:59:22.105Z"
   },
   {
    "duration": 30,
    "start_time": "2024-01-14T11:59:22.128Z"
   },
   {
    "duration": 10,
    "start_time": "2024-01-14T11:59:22.160Z"
   },
   {
    "duration": 16,
    "start_time": "2024-01-14T11:59:22.172Z"
   },
   {
    "duration": 29,
    "start_time": "2024-01-14T11:59:22.189Z"
   },
   {
    "duration": 17,
    "start_time": "2024-01-14T11:59:22.220Z"
   },
   {
    "duration": 14,
    "start_time": "2024-01-14T11:59:22.238Z"
   },
   {
    "duration": 16,
    "start_time": "2024-01-14T11:59:22.254Z"
   },
   {
    "duration": 35,
    "start_time": "2024-01-14T11:59:22.272Z"
   },
   {
    "duration": 6,
    "start_time": "2024-01-14T11:59:22.309Z"
   },
   {
    "duration": 16,
    "start_time": "2024-01-14T11:59:22.317Z"
   },
   {
    "duration": 24,
    "start_time": "2024-01-14T11:59:22.338Z"
   },
   {
    "duration": 55,
    "start_time": "2024-01-14T11:59:22.364Z"
   },
   {
    "duration": 19,
    "start_time": "2024-01-14T11:59:22.421Z"
   },
   {
    "duration": 30,
    "start_time": "2024-01-14T11:59:22.441Z"
   },
   {
    "duration": 43,
    "start_time": "2024-01-14T11:59:22.473Z"
   },
   {
    "duration": 38,
    "start_time": "2024-01-14T11:59:22.518Z"
   },
   {
    "duration": 5,
    "start_time": "2024-01-14T11:59:22.558Z"
   },
   {
    "duration": 169,
    "start_time": "2024-01-14T11:59:22.564Z"
   },
   {
    "duration": 208,
    "start_time": "2024-01-14T11:59:22.735Z"
   },
   {
    "duration": 220,
    "start_time": "2024-01-14T11:59:22.945Z"
   },
   {
    "duration": 213,
    "start_time": "2024-01-14T11:59:23.167Z"
   },
   {
    "duration": 268,
    "start_time": "2024-01-14T11:59:23.381Z"
   },
   {
    "duration": 189,
    "start_time": "2024-01-14T11:59:23.651Z"
   },
   {
    "duration": 206,
    "start_time": "2024-01-14T11:59:23.841Z"
   },
   {
    "duration": 191,
    "start_time": "2024-01-14T11:59:24.049Z"
   },
   {
    "duration": 200,
    "start_time": "2024-01-14T11:59:24.241Z"
   },
   {
    "duration": 192,
    "start_time": "2024-01-14T11:59:24.443Z"
   },
   {
    "duration": 68,
    "start_time": "2024-01-14T11:59:24.637Z"
   },
   {
    "duration": 5,
    "start_time": "2024-01-14T11:59:24.707Z"
   },
   {
    "duration": 13,
    "start_time": "2024-01-14T11:59:24.714Z"
   },
   {
    "duration": 31,
    "start_time": "2024-01-14T11:59:24.728Z"
   },
   {
    "duration": 31,
    "start_time": "2024-01-14T11:59:24.760Z"
   },
   {
    "duration": 2040,
    "start_time": "2024-01-14T11:59:24.793Z"
   },
   {
    "duration": 4,
    "start_time": "2024-01-14T11:59:26.835Z"
   },
   {
    "duration": 24,
    "start_time": "2024-01-14T11:59:26.841Z"
   },
   {
    "duration": 5,
    "start_time": "2024-01-14T11:59:26.867Z"
   },
   {
    "duration": 27,
    "start_time": "2024-01-14T11:59:26.874Z"
   },
   {
    "duration": 16,
    "start_time": "2024-01-14T11:59:26.903Z"
   },
   {
    "duration": 18,
    "start_time": "2024-01-14T11:59:26.921Z"
   },
   {
    "duration": 18,
    "start_time": "2024-01-14T11:59:26.941Z"
   },
   {
    "duration": 17,
    "start_time": "2024-01-14T11:59:26.961Z"
   },
   {
    "duration": 14,
    "start_time": "2024-01-14T11:59:26.980Z"
   },
   {
    "duration": 10,
    "start_time": "2024-01-14T11:59:26.996Z"
   },
   {
    "duration": 37,
    "start_time": "2024-01-14T11:59:27.008Z"
   },
   {
    "duration": 14,
    "start_time": "2024-01-14T11:59:27.047Z"
   },
   {
    "duration": 134,
    "start_time": "2024-01-14T11:59:27.063Z"
   },
   {
    "duration": 0,
    "start_time": "2024-01-14T11:59:27.198Z"
   },
   {
    "duration": 0,
    "start_time": "2024-01-14T11:59:27.199Z"
   },
   {
    "duration": 0,
    "start_time": "2024-01-14T11:59:27.200Z"
   },
   {
    "duration": 0,
    "start_time": "2024-01-14T11:59:27.201Z"
   },
   {
    "duration": 0,
    "start_time": "2024-01-14T11:59:27.202Z"
   },
   {
    "duration": 0,
    "start_time": "2024-01-14T11:59:27.203Z"
   },
   {
    "duration": 0,
    "start_time": "2024-01-14T11:59:27.204Z"
   },
   {
    "duration": 0,
    "start_time": "2024-01-14T11:59:27.206Z"
   },
   {
    "duration": 12,
    "start_time": "2024-01-14T12:00:28.977Z"
   },
   {
    "duration": 8395,
    "start_time": "2024-01-14T12:00:34.021Z"
   },
   {
    "duration": 1524,
    "start_time": "2024-01-14T12:00:51.498Z"
   },
   {
    "duration": 99,
    "start_time": "2024-01-14T12:00:53.025Z"
   },
   {
    "duration": 18,
    "start_time": "2024-01-14T12:00:53.126Z"
   },
   {
    "duration": 17,
    "start_time": "2024-01-14T12:00:53.147Z"
   },
   {
    "duration": 8,
    "start_time": "2024-01-14T12:00:53.165Z"
   },
   {
    "duration": 13,
    "start_time": "2024-01-14T12:00:53.175Z"
   },
   {
    "duration": 12,
    "start_time": "2024-01-14T12:00:53.200Z"
   },
   {
    "duration": 13,
    "start_time": "2024-01-14T12:00:53.214Z"
   },
   {
    "duration": 7,
    "start_time": "2024-01-14T12:00:53.229Z"
   },
   {
    "duration": 14,
    "start_time": "2024-01-14T12:00:53.239Z"
   },
   {
    "duration": 21,
    "start_time": "2024-01-14T12:00:53.255Z"
   },
   {
    "duration": 19,
    "start_time": "2024-01-14T12:00:53.301Z"
   },
   {
    "duration": 16,
    "start_time": "2024-01-14T12:00:53.322Z"
   },
   {
    "duration": 13,
    "start_time": "2024-01-14T12:00:53.340Z"
   },
   {
    "duration": 56,
    "start_time": "2024-01-14T12:00:53.355Z"
   },
   {
    "duration": 3,
    "start_time": "2024-01-14T12:00:53.413Z"
   },
   {
    "duration": 6,
    "start_time": "2024-01-14T12:00:53.418Z"
   },
   {
    "duration": 20,
    "start_time": "2024-01-14T12:00:53.426Z"
   },
   {
    "duration": 5,
    "start_time": "2024-01-14T12:00:53.448Z"
   },
   {
    "duration": 11,
    "start_time": "2024-01-14T12:00:53.455Z"
   },
   {
    "duration": 31,
    "start_time": "2024-01-14T12:00:53.468Z"
   },
   {
    "duration": 4,
    "start_time": "2024-01-14T12:00:53.501Z"
   },
   {
    "duration": 11,
    "start_time": "2024-01-14T12:00:53.507Z"
   },
   {
    "duration": 17,
    "start_time": "2024-01-14T12:00:53.520Z"
   },
   {
    "duration": 43,
    "start_time": "2024-01-14T12:00:53.539Z"
   },
   {
    "duration": 5,
    "start_time": "2024-01-14T12:00:53.584Z"
   },
   {
    "duration": 8,
    "start_time": "2024-01-14T12:00:53.590Z"
   },
   {
    "duration": 17,
    "start_time": "2024-01-14T12:00:53.602Z"
   },
   {
    "duration": 39,
    "start_time": "2024-01-14T12:00:53.621Z"
   },
   {
    "duration": 19,
    "start_time": "2024-01-14T12:00:53.662Z"
   },
   {
    "duration": 24,
    "start_time": "2024-01-14T12:00:53.699Z"
   },
   {
    "duration": 35,
    "start_time": "2024-01-14T12:00:53.725Z"
   },
   {
    "duration": 39,
    "start_time": "2024-01-14T12:00:53.761Z"
   },
   {
    "duration": 5,
    "start_time": "2024-01-14T12:00:53.801Z"
   },
   {
    "duration": 185,
    "start_time": "2024-01-14T12:00:53.808Z"
   },
   {
    "duration": 216,
    "start_time": "2024-01-14T12:00:53.994Z"
   },
   {
    "duration": 190,
    "start_time": "2024-01-14T12:00:54.211Z"
   },
   {
    "duration": 214,
    "start_time": "2024-01-14T12:00:54.403Z"
   },
   {
    "duration": 260,
    "start_time": "2024-01-14T12:00:54.619Z"
   },
   {
    "duration": 180,
    "start_time": "2024-01-14T12:00:54.881Z"
   },
   {
    "duration": 185,
    "start_time": "2024-01-14T12:00:55.062Z"
   },
   {
    "duration": 181,
    "start_time": "2024-01-14T12:00:55.248Z"
   },
   {
    "duration": 189,
    "start_time": "2024-01-14T12:00:55.431Z"
   },
   {
    "duration": 188,
    "start_time": "2024-01-14T12:00:55.622Z"
   },
   {
    "duration": 49,
    "start_time": "2024-01-14T12:00:55.812Z"
   },
   {
    "duration": 5,
    "start_time": "2024-01-14T12:00:55.862Z"
   },
   {
    "duration": 5,
    "start_time": "2024-01-14T12:00:55.868Z"
   },
   {
    "duration": 31,
    "start_time": "2024-01-14T12:00:55.874Z"
   },
   {
    "duration": 10,
    "start_time": "2024-01-14T12:00:55.906Z"
   },
   {
    "duration": 2002,
    "start_time": "2024-01-14T12:00:55.918Z"
   },
   {
    "duration": 5,
    "start_time": "2024-01-14T12:00:57.922Z"
   },
   {
    "duration": 37,
    "start_time": "2024-01-14T12:00:57.928Z"
   },
   {
    "duration": 5,
    "start_time": "2024-01-14T12:00:57.966Z"
   },
   {
    "duration": 37,
    "start_time": "2024-01-14T12:00:57.972Z"
   },
   {
    "duration": 20,
    "start_time": "2024-01-14T12:00:58.011Z"
   },
   {
    "duration": 25,
    "start_time": "2024-01-14T12:00:58.033Z"
   },
   {
    "duration": 37,
    "start_time": "2024-01-14T12:00:58.060Z"
   },
   {
    "duration": 3,
    "start_time": "2024-01-14T12:00:58.099Z"
   },
   {
    "duration": 24,
    "start_time": "2024-01-14T12:00:58.104Z"
   },
   {
    "duration": 13,
    "start_time": "2024-01-14T12:00:58.129Z"
   },
   {
    "duration": 23,
    "start_time": "2024-01-14T12:00:58.144Z"
   },
   {
    "duration": 30,
    "start_time": "2024-01-14T12:00:58.168Z"
   },
   {
    "duration": 59,
    "start_time": "2024-01-14T12:00:58.200Z"
   },
   {
    "duration": 8544,
    "start_time": "2024-01-14T12:00:58.262Z"
   },
   {
    "duration": 87683,
    "start_time": "2024-01-14T12:01:06.808Z"
   },
   {
    "duration": 74172,
    "start_time": "2024-01-14T12:02:34.493Z"
   },
   {
    "duration": 11,
    "start_time": "2024-01-14T12:03:48.667Z"
   },
   {
    "duration": 3195,
    "start_time": "2024-01-14T12:03:48.681Z"
   },
   {
    "duration": 119,
    "start_time": "2024-01-14T12:03:51.877Z"
   },
   {
    "duration": 0,
    "start_time": "2024-01-14T12:03:51.999Z"
   },
   {
    "duration": 0,
    "start_time": "2024-01-14T12:03:52.001Z"
   },
   {
    "duration": 1516,
    "start_time": "2024-01-14T12:10:53.861Z"
   },
   {
    "duration": 96,
    "start_time": "2024-01-14T12:10:55.379Z"
   },
   {
    "duration": 15,
    "start_time": "2024-01-14T12:10:55.477Z"
   },
   {
    "duration": 14,
    "start_time": "2024-01-14T12:10:55.493Z"
   },
   {
    "duration": 8,
    "start_time": "2024-01-14T12:10:55.508Z"
   },
   {
    "duration": 46,
    "start_time": "2024-01-14T12:10:55.518Z"
   },
   {
    "duration": 36,
    "start_time": "2024-01-14T12:10:55.566Z"
   },
   {
    "duration": 33,
    "start_time": "2024-01-14T12:10:55.604Z"
   },
   {
    "duration": 29,
    "start_time": "2024-01-14T12:10:55.639Z"
   },
   {
    "duration": 15,
    "start_time": "2024-01-14T12:10:55.671Z"
   },
   {
    "duration": 22,
    "start_time": "2024-01-14T12:10:55.688Z"
   },
   {
    "duration": 17,
    "start_time": "2024-01-14T12:10:55.712Z"
   },
   {
    "duration": 14,
    "start_time": "2024-01-14T12:10:55.731Z"
   },
   {
    "duration": 38,
    "start_time": "2024-01-14T12:10:55.746Z"
   },
   {
    "duration": 21,
    "start_time": "2024-01-14T12:10:55.785Z"
   },
   {
    "duration": 3,
    "start_time": "2024-01-14T12:10:55.808Z"
   },
   {
    "duration": 19,
    "start_time": "2024-01-14T12:10:55.812Z"
   },
   {
    "duration": 30,
    "start_time": "2024-01-14T12:10:55.832Z"
   },
   {
    "duration": 6,
    "start_time": "2024-01-14T12:10:55.864Z"
   },
   {
    "duration": 12,
    "start_time": "2024-01-14T12:10:55.871Z"
   },
   {
    "duration": 9,
    "start_time": "2024-01-14T12:10:55.884Z"
   },
   {
    "duration": 8,
    "start_time": "2024-01-14T12:10:55.895Z"
   },
   {
    "duration": 7,
    "start_time": "2024-01-14T12:10:55.904Z"
   },
   {
    "duration": 12,
    "start_time": "2024-01-14T12:10:55.913Z"
   },
   {
    "duration": 27,
    "start_time": "2024-01-14T12:10:55.926Z"
   },
   {
    "duration": 6,
    "start_time": "2024-01-14T12:10:55.954Z"
   },
   {
    "duration": 17,
    "start_time": "2024-01-14T12:10:55.961Z"
   },
   {
    "duration": 34,
    "start_time": "2024-01-14T12:10:55.982Z"
   },
   {
    "duration": 46,
    "start_time": "2024-01-14T12:10:56.018Z"
   },
   {
    "duration": 20,
    "start_time": "2024-01-14T12:10:56.066Z"
   },
   {
    "duration": 16,
    "start_time": "2024-01-14T12:10:56.101Z"
   },
   {
    "duration": 40,
    "start_time": "2024-01-14T12:10:56.118Z"
   },
   {
    "duration": 32,
    "start_time": "2024-01-14T12:10:56.160Z"
   },
   {
    "duration": 10,
    "start_time": "2024-01-14T12:10:56.193Z"
   },
   {
    "duration": 191,
    "start_time": "2024-01-14T12:10:56.204Z"
   },
   {
    "duration": 204,
    "start_time": "2024-01-14T12:10:56.397Z"
   },
   {
    "duration": 191,
    "start_time": "2024-01-14T12:10:56.603Z"
   },
   {
    "duration": 214,
    "start_time": "2024-01-14T12:10:56.800Z"
   },
   {
    "duration": 273,
    "start_time": "2024-01-14T12:10:57.016Z"
   },
   {
    "duration": 187,
    "start_time": "2024-01-14T12:10:57.291Z"
   },
   {
    "duration": 189,
    "start_time": "2024-01-14T12:10:57.480Z"
   },
   {
    "duration": 180,
    "start_time": "2024-01-14T12:10:57.671Z"
   },
   {
    "duration": 202,
    "start_time": "2024-01-14T12:10:57.853Z"
   },
   {
    "duration": 185,
    "start_time": "2024-01-14T12:10:58.057Z"
   },
   {
    "duration": 45,
    "start_time": "2024-01-14T12:10:58.244Z"
   },
   {
    "duration": 5,
    "start_time": "2024-01-14T12:10:58.300Z"
   },
   {
    "duration": 6,
    "start_time": "2024-01-14T12:10:58.306Z"
   },
   {
    "duration": 7,
    "start_time": "2024-01-14T12:10:58.314Z"
   },
   {
    "duration": 10,
    "start_time": "2024-01-14T12:10:58.323Z"
   },
   {
    "duration": 2000,
    "start_time": "2024-01-14T12:10:58.335Z"
   },
   {
    "duration": 4,
    "start_time": "2024-01-14T12:11:00.337Z"
   },
   {
    "duration": 77,
    "start_time": "2024-01-14T12:11:00.343Z"
   },
   {
    "duration": 26,
    "start_time": "2024-01-14T12:11:00.422Z"
   },
   {
    "duration": 100,
    "start_time": "2024-01-14T12:11:00.450Z"
   },
   {
    "duration": 124,
    "start_time": "2024-01-14T12:11:00.552Z"
   },
   {
    "duration": 25,
    "start_time": "2024-01-14T12:11:00.678Z"
   },
   {
    "duration": 52,
    "start_time": "2024-01-14T12:11:00.704Z"
   },
   {
    "duration": 34,
    "start_time": "2024-01-14T12:11:00.758Z"
   },
   {
    "duration": 63,
    "start_time": "2024-01-14T12:11:00.794Z"
   },
   {
    "duration": 30,
    "start_time": "2024-01-14T12:11:00.859Z"
   },
   {
    "duration": 38,
    "start_time": "2024-01-14T12:11:00.890Z"
   },
   {
    "duration": 28,
    "start_time": "2024-01-14T12:11:00.930Z"
   },
   {
    "duration": 152,
    "start_time": "2024-01-14T12:11:00.960Z"
   },
   {
    "duration": 0,
    "start_time": "2024-01-14T12:11:01.114Z"
   },
   {
    "duration": 0,
    "start_time": "2024-01-14T12:11:01.115Z"
   },
   {
    "duration": 0,
    "start_time": "2024-01-14T12:11:01.116Z"
   },
   {
    "duration": 0,
    "start_time": "2024-01-14T12:11:01.117Z"
   },
   {
    "duration": 0,
    "start_time": "2024-01-14T12:11:01.118Z"
   },
   {
    "duration": 0,
    "start_time": "2024-01-14T12:11:01.119Z"
   },
   {
    "duration": 0,
    "start_time": "2024-01-14T12:11:01.120Z"
   },
   {
    "duration": 0,
    "start_time": "2024-01-14T12:11:01.121Z"
   },
   {
    "duration": 14,
    "start_time": "2024-01-14T12:11:14.701Z"
   },
   {
    "duration": 1524,
    "start_time": "2024-01-14T12:11:20.554Z"
   },
   {
    "duration": 97,
    "start_time": "2024-01-14T12:11:22.080Z"
   },
   {
    "duration": 16,
    "start_time": "2024-01-14T12:11:22.178Z"
   },
   {
    "duration": 14,
    "start_time": "2024-01-14T12:11:22.197Z"
   },
   {
    "duration": 9,
    "start_time": "2024-01-14T12:11:22.212Z"
   },
   {
    "duration": 14,
    "start_time": "2024-01-14T12:11:22.222Z"
   },
   {
    "duration": 11,
    "start_time": "2024-01-14T12:11:22.237Z"
   },
   {
    "duration": 23,
    "start_time": "2024-01-14T12:11:22.250Z"
   },
   {
    "duration": 79,
    "start_time": "2024-01-14T12:11:22.274Z"
   },
   {
    "duration": 31,
    "start_time": "2024-01-14T12:11:22.356Z"
   },
   {
    "duration": 38,
    "start_time": "2024-01-14T12:11:22.388Z"
   },
   {
    "duration": 16,
    "start_time": "2024-01-14T12:11:22.428Z"
   },
   {
    "duration": 15,
    "start_time": "2024-01-14T12:11:22.445Z"
   },
   {
    "duration": 15,
    "start_time": "2024-01-14T12:11:22.461Z"
   },
   {
    "duration": 32,
    "start_time": "2024-01-14T12:11:22.477Z"
   },
   {
    "duration": 21,
    "start_time": "2024-01-14T12:11:22.510Z"
   },
   {
    "duration": 15,
    "start_time": "2024-01-14T12:11:22.533Z"
   },
   {
    "duration": 26,
    "start_time": "2024-01-14T12:11:22.550Z"
   },
   {
    "duration": 9,
    "start_time": "2024-01-14T12:11:22.578Z"
   },
   {
    "duration": 6,
    "start_time": "2024-01-14T12:11:22.589Z"
   },
   {
    "duration": 8,
    "start_time": "2024-01-14T12:11:22.597Z"
   },
   {
    "duration": 16,
    "start_time": "2024-01-14T12:11:22.606Z"
   },
   {
    "duration": 12,
    "start_time": "2024-01-14T12:11:22.624Z"
   },
   {
    "duration": 15,
    "start_time": "2024-01-14T12:11:22.637Z"
   },
   {
    "duration": 38,
    "start_time": "2024-01-14T12:11:22.653Z"
   },
   {
    "duration": 5,
    "start_time": "2024-01-14T12:11:22.692Z"
   },
   {
    "duration": 10,
    "start_time": "2024-01-14T12:11:22.698Z"
   },
   {
    "duration": 16,
    "start_time": "2024-01-14T12:11:22.712Z"
   },
   {
    "duration": 41,
    "start_time": "2024-01-14T12:11:22.729Z"
   },
   {
    "duration": 18,
    "start_time": "2024-01-14T12:11:22.772Z"
   },
   {
    "duration": 16,
    "start_time": "2024-01-14T12:11:22.800Z"
   },
   {
    "duration": 15,
    "start_time": "2024-01-14T12:11:22.817Z"
   },
   {
    "duration": 33,
    "start_time": "2024-01-14T12:11:22.834Z"
   },
   {
    "duration": 35,
    "start_time": "2024-01-14T12:11:22.868Z"
   },
   {
    "duration": 185,
    "start_time": "2024-01-14T12:11:22.904Z"
   },
   {
    "duration": 198,
    "start_time": "2024-01-14T12:11:23.091Z"
   },
   {
    "duration": 203,
    "start_time": "2024-01-14T12:11:23.291Z"
   },
   {
    "duration": 213,
    "start_time": "2024-01-14T12:11:23.496Z"
   },
   {
    "duration": 276,
    "start_time": "2024-01-14T12:11:23.710Z"
   },
   {
    "duration": 185,
    "start_time": "2024-01-14T12:11:23.988Z"
   },
   {
    "duration": 178,
    "start_time": "2024-01-14T12:11:24.175Z"
   },
   {
    "duration": 179,
    "start_time": "2024-01-14T12:11:24.355Z"
   },
   {
    "duration": 196,
    "start_time": "2024-01-14T12:11:24.535Z"
   },
   {
    "duration": 183,
    "start_time": "2024-01-14T12:11:24.733Z"
   },
   {
    "duration": 46,
    "start_time": "2024-01-14T12:11:24.917Z"
   },
   {
    "duration": 25,
    "start_time": "2024-01-14T12:11:24.964Z"
   },
   {
    "duration": 17,
    "start_time": "2024-01-14T12:11:24.991Z"
   },
   {
    "duration": 31,
    "start_time": "2024-01-14T12:11:25.009Z"
   },
   {
    "duration": 25,
    "start_time": "2024-01-14T12:11:25.042Z"
   },
   {
    "duration": 2016,
    "start_time": "2024-01-14T12:11:25.069Z"
   },
   {
    "duration": 5,
    "start_time": "2024-01-14T12:11:27.086Z"
   },
   {
    "duration": 13,
    "start_time": "2024-01-14T12:11:27.100Z"
   },
   {
    "duration": 4,
    "start_time": "2024-01-14T12:11:27.115Z"
   },
   {
    "duration": 26,
    "start_time": "2024-01-14T12:11:27.120Z"
   },
   {
    "duration": 45,
    "start_time": "2024-01-14T12:11:27.148Z"
   },
   {
    "duration": 7,
    "start_time": "2024-01-14T12:11:27.194Z"
   },
   {
    "duration": 32,
    "start_time": "2024-01-14T12:11:27.203Z"
   },
   {
    "duration": 8,
    "start_time": "2024-01-14T12:11:27.237Z"
   },
   {
    "duration": 5,
    "start_time": "2024-01-14T12:11:27.247Z"
   },
   {
    "duration": 5,
    "start_time": "2024-01-14T12:11:27.254Z"
   },
   {
    "duration": 3,
    "start_time": "2024-01-14T12:11:27.261Z"
   },
   {
    "duration": 10,
    "start_time": "2024-01-14T12:11:27.266Z"
   },
   {
    "duration": 26,
    "start_time": "2024-01-14T12:11:27.278Z"
   },
   {
    "duration": 9918,
    "start_time": "2024-01-14T12:11:27.305Z"
   },
   {
    "duration": 1544,
    "start_time": "2024-01-14T12:12:21.645Z"
   },
   {
    "duration": 95,
    "start_time": "2024-01-14T12:12:23.192Z"
   },
   {
    "duration": 15,
    "start_time": "2024-01-14T12:12:23.289Z"
   },
   {
    "duration": 14,
    "start_time": "2024-01-14T12:12:23.305Z"
   },
   {
    "duration": 8,
    "start_time": "2024-01-14T12:12:23.321Z"
   },
   {
    "duration": 13,
    "start_time": "2024-01-14T12:12:23.330Z"
   },
   {
    "duration": 22,
    "start_time": "2024-01-14T12:12:23.344Z"
   },
   {
    "duration": 14,
    "start_time": "2024-01-14T12:12:23.367Z"
   },
   {
    "duration": 21,
    "start_time": "2024-01-14T12:12:23.382Z"
   },
   {
    "duration": 11,
    "start_time": "2024-01-14T12:12:23.406Z"
   },
   {
    "duration": 20,
    "start_time": "2024-01-14T12:12:23.418Z"
   },
   {
    "duration": 17,
    "start_time": "2024-01-14T12:12:23.440Z"
   },
   {
    "duration": 48,
    "start_time": "2024-01-14T12:12:23.459Z"
   },
   {
    "duration": 14,
    "start_time": "2024-01-14T12:12:23.509Z"
   },
   {
    "duration": 21,
    "start_time": "2024-01-14T12:12:23.524Z"
   },
   {
    "duration": 3,
    "start_time": "2024-01-14T12:12:23.546Z"
   },
   {
    "duration": 13,
    "start_time": "2024-01-14T12:12:23.551Z"
   },
   {
    "duration": 42,
    "start_time": "2024-01-14T12:12:23.565Z"
   },
   {
    "duration": 6,
    "start_time": "2024-01-14T12:12:23.608Z"
   },
   {
    "duration": 7,
    "start_time": "2024-01-14T12:12:23.615Z"
   },
   {
    "duration": 7,
    "start_time": "2024-01-14T12:12:23.623Z"
   },
   {
    "duration": 8,
    "start_time": "2024-01-14T12:12:23.631Z"
   },
   {
    "duration": 6,
    "start_time": "2024-01-14T12:12:23.640Z"
   },
   {
    "duration": 10,
    "start_time": "2024-01-14T12:12:23.647Z"
   },
   {
    "duration": 54,
    "start_time": "2024-01-14T12:12:23.658Z"
   },
   {
    "duration": 5,
    "start_time": "2024-01-14T12:12:23.713Z"
   },
   {
    "duration": 5,
    "start_time": "2024-01-14T12:12:23.720Z"
   },
   {
    "duration": 16,
    "start_time": "2024-01-14T12:12:23.730Z"
   },
   {
    "duration": 66,
    "start_time": "2024-01-14T12:12:23.747Z"
   },
   {
    "duration": 27,
    "start_time": "2024-01-14T12:12:23.815Z"
   },
   {
    "duration": 17,
    "start_time": "2024-01-14T12:12:23.843Z"
   },
   {
    "duration": 15,
    "start_time": "2024-01-14T12:12:23.862Z"
   },
   {
    "duration": 51,
    "start_time": "2024-01-14T12:12:23.879Z"
   },
   {
    "duration": 5,
    "start_time": "2024-01-14T12:12:23.932Z"
   },
   {
    "duration": 193,
    "start_time": "2024-01-14T12:12:23.939Z"
   },
   {
    "duration": 207,
    "start_time": "2024-01-14T12:12:24.134Z"
   },
   {
    "duration": 189,
    "start_time": "2024-01-14T12:12:24.343Z"
   },
   {
    "duration": 228,
    "start_time": "2024-01-14T12:12:24.535Z"
   },
   {
    "duration": 277,
    "start_time": "2024-01-14T12:12:24.765Z"
   },
   {
    "duration": 198,
    "start_time": "2024-01-14T12:12:25.044Z"
   },
   {
    "duration": 180,
    "start_time": "2024-01-14T12:12:25.244Z"
   },
   {
    "duration": 188,
    "start_time": "2024-01-14T12:12:25.426Z"
   },
   {
    "duration": 193,
    "start_time": "2024-01-14T12:12:25.616Z"
   },
   {
    "duration": 193,
    "start_time": "2024-01-14T12:12:25.811Z"
   },
   {
    "duration": 47,
    "start_time": "2024-01-14T12:12:26.006Z"
   },
   {
    "duration": 5,
    "start_time": "2024-01-14T12:12:26.054Z"
   },
   {
    "duration": 7,
    "start_time": "2024-01-14T12:12:26.060Z"
   },
   {
    "duration": 32,
    "start_time": "2024-01-14T12:12:26.068Z"
   },
   {
    "duration": 5,
    "start_time": "2024-01-14T12:12:26.102Z"
   },
   {
    "duration": 1951,
    "start_time": "2024-01-14T12:12:26.109Z"
   },
   {
    "duration": 4,
    "start_time": "2024-01-14T12:12:28.062Z"
   },
   {
    "duration": 27,
    "start_time": "2024-01-14T12:12:28.068Z"
   },
   {
    "duration": 4,
    "start_time": "2024-01-14T12:12:28.097Z"
   },
   {
    "duration": 38,
    "start_time": "2024-01-14T12:12:28.103Z"
   },
   {
    "duration": 7,
    "start_time": "2024-01-14T12:12:28.143Z"
   },
   {
    "duration": 40,
    "start_time": "2024-01-14T12:12:28.151Z"
   },
   {
    "duration": 137,
    "start_time": "2024-01-14T12:12:28.193Z"
   },
   {
    "duration": 31,
    "start_time": "2024-01-14T12:12:28.332Z"
   },
   {
    "duration": 15,
    "start_time": "2024-01-14T12:12:28.365Z"
   },
   {
    "duration": 11,
    "start_time": "2024-01-14T12:12:28.382Z"
   },
   {
    "duration": 8,
    "start_time": "2024-01-14T12:12:28.395Z"
   },
   {
    "duration": 5,
    "start_time": "2024-01-14T12:12:28.405Z"
   },
   {
    "duration": 26,
    "start_time": "2024-01-14T12:12:28.411Z"
   },
   {
    "duration": 7476,
    "start_time": "2024-01-14T12:12:28.438Z"
   },
   {
    "duration": 89362,
    "start_time": "2024-01-14T12:12:35.916Z"
   },
   {
    "duration": 74153,
    "start_time": "2024-01-14T12:14:05.280Z"
   },
   {
    "duration": 8,
    "start_time": "2024-01-14T12:15:19.435Z"
   },
   {
    "duration": 3237,
    "start_time": "2024-01-14T12:15:19.445Z"
   },
   {
    "duration": 118,
    "start_time": "2024-01-14T12:15:22.684Z"
   },
   {
    "duration": 0,
    "start_time": "2024-01-14T12:15:22.803Z"
   },
   {
    "duration": 0,
    "start_time": "2024-01-14T12:15:22.804Z"
   },
   {
    "duration": 14,
    "start_time": "2024-01-14T12:18:19.492Z"
   },
   {
    "duration": 11,
    "start_time": "2024-01-14T12:20:50.259Z"
   },
   {
    "duration": 10,
    "start_time": "2024-01-14T12:20:55.911Z"
   },
   {
    "duration": 11,
    "start_time": "2024-01-14T12:21:46.011Z"
   },
   {
    "duration": 1529,
    "start_time": "2024-01-14T12:25:11.292Z"
   },
   {
    "duration": 96,
    "start_time": "2024-01-14T12:25:12.824Z"
   },
   {
    "duration": 17,
    "start_time": "2024-01-14T12:25:12.922Z"
   },
   {
    "duration": 14,
    "start_time": "2024-01-14T12:25:12.941Z"
   },
   {
    "duration": 10,
    "start_time": "2024-01-14T12:25:12.957Z"
   },
   {
    "duration": 13,
    "start_time": "2024-01-14T12:25:12.969Z"
   },
   {
    "duration": 10,
    "start_time": "2024-01-14T12:25:13.001Z"
   },
   {
    "duration": 15,
    "start_time": "2024-01-14T12:25:13.013Z"
   },
   {
    "duration": 7,
    "start_time": "2024-01-14T12:25:13.030Z"
   },
   {
    "duration": 11,
    "start_time": "2024-01-14T12:25:13.038Z"
   },
   {
    "duration": 19,
    "start_time": "2024-01-14T12:25:13.050Z"
   },
   {
    "duration": 17,
    "start_time": "2024-01-14T12:25:13.099Z"
   },
   {
    "duration": 24,
    "start_time": "2024-01-14T12:25:13.118Z"
   },
   {
    "duration": 12,
    "start_time": "2024-01-14T12:25:13.145Z"
   },
   {
    "duration": 19,
    "start_time": "2024-01-14T12:25:13.159Z"
   },
   {
    "duration": 3,
    "start_time": "2024-01-14T12:25:13.200Z"
   },
   {
    "duration": 7,
    "start_time": "2024-01-14T12:25:13.205Z"
   },
   {
    "duration": 21,
    "start_time": "2024-01-14T12:25:13.213Z"
   },
   {
    "duration": 16,
    "start_time": "2024-01-14T12:25:13.236Z"
   },
   {
    "duration": 6,
    "start_time": "2024-01-14T12:25:13.253Z"
   },
   {
    "duration": 8,
    "start_time": "2024-01-14T12:25:13.260Z"
   },
   {
    "duration": 6,
    "start_time": "2024-01-14T12:25:13.269Z"
   },
   {
    "duration": 23,
    "start_time": "2024-01-14T12:25:13.277Z"
   },
   {
    "duration": 6,
    "start_time": "2024-01-14T12:25:13.302Z"
   },
   {
    "duration": 23,
    "start_time": "2024-01-14T12:25:13.310Z"
   },
   {
    "duration": 5,
    "start_time": "2024-01-14T12:25:13.335Z"
   },
   {
    "duration": 10,
    "start_time": "2024-01-14T12:25:13.341Z"
   },
   {
    "duration": 25,
    "start_time": "2024-01-14T12:25:13.352Z"
   },
   {
    "duration": 43,
    "start_time": "2024-01-14T12:25:13.400Z"
   },
   {
    "duration": 18,
    "start_time": "2024-01-14T12:25:13.445Z"
   },
   {
    "duration": 46,
    "start_time": "2024-01-14T12:25:13.465Z"
   },
   {
    "duration": 20,
    "start_time": "2024-01-14T12:25:13.512Z"
   },
   {
    "duration": 34,
    "start_time": "2024-01-14T12:25:13.534Z"
   },
   {
    "duration": 4,
    "start_time": "2024-01-14T12:25:13.570Z"
   },
   {
    "duration": 196,
    "start_time": "2024-01-14T12:25:13.576Z"
   },
   {
    "duration": 205,
    "start_time": "2024-01-14T12:25:13.774Z"
   },
   {
    "duration": 205,
    "start_time": "2024-01-14T12:25:13.981Z"
   },
   {
    "duration": 216,
    "start_time": "2024-01-14T12:25:14.188Z"
   },
   {
    "duration": 270,
    "start_time": "2024-01-14T12:25:14.406Z"
   },
   {
    "duration": 192,
    "start_time": "2024-01-14T12:25:14.678Z"
   },
   {
    "duration": 175,
    "start_time": "2024-01-14T12:25:14.875Z"
   },
   {
    "duration": 183,
    "start_time": "2024-01-14T12:25:15.052Z"
   },
   {
    "duration": 188,
    "start_time": "2024-01-14T12:25:15.236Z"
   },
   {
    "duration": 187,
    "start_time": "2024-01-14T12:25:15.426Z"
   },
   {
    "duration": 44,
    "start_time": "2024-01-14T12:25:15.615Z"
   },
   {
    "duration": 6,
    "start_time": "2024-01-14T12:25:15.660Z"
   },
   {
    "duration": 8,
    "start_time": "2024-01-14T12:25:15.667Z"
   },
   {
    "duration": 6,
    "start_time": "2024-01-14T12:25:15.705Z"
   },
   {
    "duration": 25,
    "start_time": "2024-01-14T12:25:15.712Z"
   },
   {
    "duration": 1943,
    "start_time": "2024-01-14T12:25:15.739Z"
   },
   {
    "duration": 4,
    "start_time": "2024-01-14T12:25:17.684Z"
   },
   {
    "duration": 25,
    "start_time": "2024-01-14T12:25:17.690Z"
   },
   {
    "duration": 5,
    "start_time": "2024-01-14T12:25:17.717Z"
   },
   {
    "duration": 18,
    "start_time": "2024-01-14T12:25:17.724Z"
   },
   {
    "duration": 11,
    "start_time": "2024-01-14T12:25:17.744Z"
   },
   {
    "duration": 5,
    "start_time": "2024-01-14T12:25:17.757Z"
   },
   {
    "duration": 43,
    "start_time": "2024-01-14T12:25:17.763Z"
   },
   {
    "duration": 4,
    "start_time": "2024-01-14T12:25:17.807Z"
   },
   {
    "duration": 28,
    "start_time": "2024-01-14T12:25:17.813Z"
   },
   {
    "duration": 14,
    "start_time": "2024-01-14T12:25:17.843Z"
   },
   {
    "duration": 6,
    "start_time": "2024-01-14T12:25:17.858Z"
   },
   {
    "duration": 8,
    "start_time": "2024-01-14T12:25:17.865Z"
   },
   {
    "duration": 18,
    "start_time": "2024-01-14T12:25:17.874Z"
   },
   {
    "duration": 7717,
    "start_time": "2024-01-14T12:25:17.893Z"
   },
   {
    "duration": 92284,
    "start_time": "2024-01-14T12:25:25.611Z"
   },
   {
    "duration": 75607,
    "start_time": "2024-01-14T12:26:57.897Z"
   },
   {
    "duration": 10,
    "start_time": "2024-01-14T12:28:13.505Z"
   },
   {
    "duration": 3267,
    "start_time": "2024-01-14T12:28:13.516Z"
   },
   {
    "duration": 116,
    "start_time": "2024-01-14T12:28:16.784Z"
   },
   {
    "duration": 0,
    "start_time": "2024-01-14T12:28:16.901Z"
   },
   {
    "duration": 0,
    "start_time": "2024-01-14T12:28:16.903Z"
   },
   {
    "duration": 0,
    "start_time": "2024-01-14T12:28:16.903Z"
   },
   {
    "duration": 169,
    "start_time": "2024-01-14T12:28:35.214Z"
   },
   {
    "duration": 24,
    "start_time": "2024-01-14T12:28:40.968Z"
   },
   {
    "duration": 565,
    "start_time": "2024-01-14T12:28:42.633Z"
   },
   {
    "duration": 9,
    "start_time": "2024-01-14T12:29:41.978Z"
   },
   {
    "duration": 9,
    "start_time": "2024-01-14T12:30:20.141Z"
   },
   {
    "duration": 1869,
    "start_time": "2024-02-13T09:40:30.811Z"
   },
   {
    "duration": 355,
    "start_time": "2024-02-13T09:40:32.682Z"
   },
   {
    "duration": 16,
    "start_time": "2024-02-13T09:40:33.039Z"
   },
   {
    "duration": 16,
    "start_time": "2024-02-13T09:40:33.057Z"
   },
   {
    "duration": 37,
    "start_time": "2024-02-13T09:40:33.074Z"
   },
   {
    "duration": 11,
    "start_time": "2024-02-13T09:40:33.113Z"
   },
   {
    "duration": 11,
    "start_time": "2024-02-13T09:40:33.126Z"
   },
   {
    "duration": 14,
    "start_time": "2024-02-13T09:40:33.139Z"
   },
   {
    "duration": 9,
    "start_time": "2024-02-13T09:40:33.155Z"
   },
   {
    "duration": 40,
    "start_time": "2024-02-13T09:40:33.167Z"
   },
   {
    "duration": 21,
    "start_time": "2024-02-13T09:40:33.209Z"
   },
   {
    "duration": 18,
    "start_time": "2024-02-13T09:40:33.231Z"
   },
   {
    "duration": 14,
    "start_time": "2024-02-13T09:40:33.251Z"
   },
   {
    "duration": 45,
    "start_time": "2024-02-13T09:40:33.267Z"
   },
   {
    "duration": 19,
    "start_time": "2024-02-13T09:40:33.314Z"
   },
   {
    "duration": 3,
    "start_time": "2024-02-13T09:40:33.335Z"
   },
   {
    "duration": 7,
    "start_time": "2024-02-13T09:40:33.339Z"
   },
   {
    "duration": 25,
    "start_time": "2024-02-13T09:40:33.347Z"
   },
   {
    "duration": 5,
    "start_time": "2024-02-13T09:40:33.374Z"
   },
   {
    "duration": 9,
    "start_time": "2024-02-13T09:40:33.398Z"
   },
   {
    "duration": 7,
    "start_time": "2024-02-13T09:40:33.409Z"
   },
   {
    "duration": 19,
    "start_time": "2024-02-13T09:40:33.418Z"
   },
   {
    "duration": 8,
    "start_time": "2024-02-13T09:40:33.439Z"
   },
   {
    "duration": 13,
    "start_time": "2024-02-13T09:40:33.448Z"
   },
   {
    "duration": 35,
    "start_time": "2024-02-13T09:40:33.463Z"
   },
   {
    "duration": 5,
    "start_time": "2024-02-13T09:40:33.504Z"
   },
   {
    "duration": 14,
    "start_time": "2024-02-13T09:40:33.511Z"
   },
   {
    "duration": 17,
    "start_time": "2024-02-13T09:40:33.529Z"
   },
   {
    "duration": 57,
    "start_time": "2024-02-13T09:40:33.547Z"
   },
   {
    "duration": 19,
    "start_time": "2024-02-13T09:40:33.606Z"
   },
   {
    "duration": 18,
    "start_time": "2024-02-13T09:40:33.627Z"
   },
   {
    "duration": 15,
    "start_time": "2024-02-13T09:40:33.646Z"
   },
   {
    "duration": 60,
    "start_time": "2024-02-13T09:40:33.662Z"
   },
   {
    "duration": 5,
    "start_time": "2024-02-13T09:40:33.723Z"
   },
   {
    "duration": 187,
    "start_time": "2024-02-13T09:40:33.729Z"
   },
   {
    "duration": 221,
    "start_time": "2024-02-13T09:40:33.918Z"
   },
   {
    "duration": 202,
    "start_time": "2024-02-13T09:40:34.141Z"
   },
   {
    "duration": 235,
    "start_time": "2024-02-13T09:40:34.345Z"
   },
   {
    "duration": 271,
    "start_time": "2024-02-13T09:40:34.581Z"
   },
   {
    "duration": 190,
    "start_time": "2024-02-13T09:40:34.854Z"
   },
   {
    "duration": 193,
    "start_time": "2024-02-13T09:40:35.046Z"
   },
   {
    "duration": 232,
    "start_time": "2024-02-13T09:40:35.240Z"
   },
   {
    "duration": 233,
    "start_time": "2024-02-13T09:40:35.475Z"
   },
   {
    "duration": 198,
    "start_time": "2024-02-13T09:40:35.710Z"
   },
   {
    "duration": 47,
    "start_time": "2024-02-13T09:40:35.910Z"
   },
   {
    "duration": 4,
    "start_time": "2024-02-13T09:40:35.959Z"
   },
   {
    "duration": 7,
    "start_time": "2024-02-13T09:40:35.965Z"
   },
   {
    "duration": 8,
    "start_time": "2024-02-13T09:40:35.996Z"
   },
   {
    "duration": 6,
    "start_time": "2024-02-13T09:40:36.006Z"
   },
   {
    "duration": 2070,
    "start_time": "2024-02-13T09:40:36.014Z"
   },
   {
    "duration": 21,
    "start_time": "2024-02-13T09:40:38.086Z"
   },
   {
    "duration": 12,
    "start_time": "2024-02-13T09:40:38.109Z"
   },
   {
    "duration": 58,
    "start_time": "2024-02-13T09:40:38.124Z"
   },
   {
    "duration": 50,
    "start_time": "2024-02-13T09:40:38.185Z"
   },
   {
    "duration": 74,
    "start_time": "2024-02-13T09:40:38.236Z"
   },
   {
    "duration": 60,
    "start_time": "2024-02-13T09:40:38.311Z"
   },
   {
    "duration": 51,
    "start_time": "2024-02-13T09:40:38.372Z"
   },
   {
    "duration": 83,
    "start_time": "2024-02-13T09:40:38.424Z"
   },
   {
    "duration": 21,
    "start_time": "2024-02-13T09:40:38.509Z"
   },
   {
    "duration": 42,
    "start_time": "2024-02-13T09:40:38.532Z"
   },
   {
    "duration": 8,
    "start_time": "2024-02-13T09:40:38.576Z"
   },
   {
    "duration": 31,
    "start_time": "2024-02-13T09:40:38.586Z"
   },
   {
    "duration": 7990,
    "start_time": "2024-02-13T09:40:38.619Z"
   },
   {
    "duration": 103197,
    "start_time": "2024-02-13T09:40:46.611Z"
   },
   {
    "duration": 89133,
    "start_time": "2024-02-13T09:42:29.810Z"
   },
   {
    "duration": 9,
    "start_time": "2024-02-13T09:43:58.944Z"
   },
   {
    "duration": 4033,
    "start_time": "2024-02-13T09:43:58.954Z"
   },
   {
    "duration": 180,
    "start_time": "2024-02-13T09:44:02.989Z"
   },
   {
    "duration": 35,
    "start_time": "2024-02-13T09:44:03.171Z"
   },
   {
    "duration": 611,
    "start_time": "2024-02-13T09:44:03.208Z"
   },
   {
    "duration": 1590,
    "start_time": "2024-02-13T09:47:29.316Z"
   },
   {
    "duration": 101,
    "start_time": "2024-02-13T09:47:30.908Z"
   },
   {
    "duration": 61,
    "start_time": "2024-02-13T09:47:31.011Z"
   },
   {
    "duration": 115,
    "start_time": "2024-02-13T09:47:31.074Z"
   },
   {
    "duration": 154,
    "start_time": "2024-02-13T09:47:31.191Z"
   },
   {
    "duration": 68,
    "start_time": "2024-02-13T09:47:31.346Z"
   },
   {
    "duration": 105,
    "start_time": "2024-02-13T09:47:31.416Z"
   },
   {
    "duration": 191,
    "start_time": "2024-02-13T09:47:31.523Z"
   },
   {
    "duration": 116,
    "start_time": "2024-02-13T09:47:31.716Z"
   },
   {
    "duration": 28,
    "start_time": "2024-02-13T09:47:31.835Z"
   },
   {
    "duration": 56,
    "start_time": "2024-02-13T09:47:31.864Z"
   },
   {
    "duration": 37,
    "start_time": "2024-02-13T09:47:31.922Z"
   },
   {
    "duration": 50,
    "start_time": "2024-02-13T09:47:31.961Z"
   },
   {
    "duration": 38,
    "start_time": "2024-02-13T09:47:32.012Z"
   },
   {
    "duration": 58,
    "start_time": "2024-02-13T09:47:32.052Z"
   },
   {
    "duration": 57,
    "start_time": "2024-02-13T09:47:32.111Z"
   },
   {
    "duration": 38,
    "start_time": "2024-02-13T09:47:32.170Z"
   },
   {
    "duration": 61,
    "start_time": "2024-02-13T09:47:32.209Z"
   },
   {
    "duration": 15,
    "start_time": "2024-02-13T09:47:32.272Z"
   },
   {
    "duration": 21,
    "start_time": "2024-02-13T09:47:32.289Z"
   },
   {
    "duration": 34,
    "start_time": "2024-02-13T09:47:32.312Z"
   },
   {
    "duration": 56,
    "start_time": "2024-02-13T09:47:32.347Z"
   },
   {
    "duration": 35,
    "start_time": "2024-02-13T09:47:32.405Z"
   },
   {
    "duration": 35,
    "start_time": "2024-02-13T09:47:32.443Z"
   },
   {
    "duration": 48,
    "start_time": "2024-02-13T09:47:32.480Z"
   },
   {
    "duration": 6,
    "start_time": "2024-02-13T09:47:32.530Z"
   },
   {
    "duration": 21,
    "start_time": "2024-02-13T09:47:32.538Z"
   },
   {
    "duration": 52,
    "start_time": "2024-02-13T09:47:32.563Z"
   },
   {
    "duration": 54,
    "start_time": "2024-02-13T09:47:32.616Z"
   },
   {
    "duration": 29,
    "start_time": "2024-02-13T09:47:32.672Z"
   },
   {
    "duration": 38,
    "start_time": "2024-02-13T09:47:32.704Z"
   },
   {
    "duration": 27,
    "start_time": "2024-02-13T09:47:32.744Z"
   },
   {
    "duration": 47,
    "start_time": "2024-02-13T09:47:32.773Z"
   },
   {
    "duration": 27,
    "start_time": "2024-02-13T09:47:32.822Z"
   },
   {
    "duration": 215,
    "start_time": "2024-02-13T09:47:32.851Z"
   },
   {
    "duration": 207,
    "start_time": "2024-02-13T09:47:33.068Z"
   },
   {
    "duration": 201,
    "start_time": "2024-02-13T09:47:33.277Z"
   },
   {
    "duration": 246,
    "start_time": "2024-02-13T09:47:33.480Z"
   },
   {
    "duration": 292,
    "start_time": "2024-02-13T09:47:33.728Z"
   },
   {
    "duration": 195,
    "start_time": "2024-02-13T09:47:34.022Z"
   },
   {
    "duration": 189,
    "start_time": "2024-02-13T09:47:34.219Z"
   },
   {
    "duration": 198,
    "start_time": "2024-02-13T09:47:34.409Z"
   },
   {
    "duration": 196,
    "start_time": "2024-02-13T09:47:34.609Z"
   },
   {
    "duration": 203,
    "start_time": "2024-02-13T09:47:34.806Z"
   },
   {
    "duration": 51,
    "start_time": "2024-02-13T09:47:35.011Z"
   },
   {
    "duration": 4,
    "start_time": "2024-02-13T09:47:35.064Z"
   },
   {
    "duration": 28,
    "start_time": "2024-02-13T09:47:35.070Z"
   },
   {
    "duration": 6,
    "start_time": "2024-02-13T09:47:35.104Z"
   },
   {
    "duration": 67,
    "start_time": "2024-02-13T09:47:35.111Z"
   },
   {
    "duration": 2060,
    "start_time": "2024-02-13T09:47:35.180Z"
   },
   {
    "duration": 4,
    "start_time": "2024-02-13T09:47:37.242Z"
   },
   {
    "duration": 36,
    "start_time": "2024-02-13T09:47:37.248Z"
   },
   {
    "duration": 27,
    "start_time": "2024-02-13T09:47:37.286Z"
   },
   {
    "duration": 47,
    "start_time": "2024-02-13T09:47:37.315Z"
   },
   {
    "duration": 46,
    "start_time": "2024-02-13T09:47:37.363Z"
   },
   {
    "duration": 18,
    "start_time": "2024-02-13T09:47:37.410Z"
   },
   {
    "duration": 59,
    "start_time": "2024-02-13T09:47:37.429Z"
   },
   {
    "duration": 20,
    "start_time": "2024-02-13T09:47:37.489Z"
   },
   {
    "duration": 32,
    "start_time": "2024-02-13T09:47:37.511Z"
   },
   {
    "duration": 23,
    "start_time": "2024-02-13T09:47:37.545Z"
   },
   {
    "duration": 37,
    "start_time": "2024-02-13T09:47:37.569Z"
   },
   {
    "duration": 23,
    "start_time": "2024-02-13T09:47:37.609Z"
   },
   {
    "duration": 40,
    "start_time": "2024-02-13T09:47:37.634Z"
   },
   {
    "duration": 6134,
    "start_time": "2024-02-13T09:47:37.675Z"
   },
   {
    "duration": 95249,
    "start_time": "2024-02-13T09:47:43.812Z"
   },
   {
    "duration": 78853,
    "start_time": "2024-02-13T09:49:19.063Z"
   },
   {
    "duration": 9,
    "start_time": "2024-02-13T09:50:37.918Z"
   },
   {
    "duration": 3623,
    "start_time": "2024-02-13T09:50:37.928Z"
   },
   {
    "duration": 184,
    "start_time": "2024-02-13T09:50:41.553Z"
   },
   {
    "duration": 28,
    "start_time": "2024-02-13T09:50:41.738Z"
   },
   {
    "duration": 595,
    "start_time": "2024-02-13T09:50:41.768Z"
   }
  ],
  "kernelspec": {
   "display_name": "Python 3 (ipykernel)",
   "language": "python",
   "name": "python3"
  },
  "language_info": {
   "codemirror_mode": {
    "name": "ipython",
    "version": 3
   },
   "file_extension": ".py",
   "mimetype": "text/x-python",
   "name": "python",
   "nbconvert_exporter": "python",
   "pygments_lexer": "ipython3",
   "version": "3.9.5"
  },
  "toc": {
   "base_numbering": 1,
   "nav_menu": {},
   "number_sections": true,
   "sideBar": true,
   "skip_h1_title": true,
   "title_cell": "Table of Contents",
   "title_sidebar": "Contents",
   "toc_cell": false,
   "toc_position": {
    "height": "47.7109px",
    "left": "29px",
    "top": "170.141px",
    "width": "212px"
   },
   "toc_section_display": true,
   "toc_window_display": false
  }
 },
 "nbformat": 4,
 "nbformat_minor": 5
}
