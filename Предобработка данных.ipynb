{
 "cells": [
  {
   "cell_type": "markdown",
   "id": "628b174a",
   "metadata": {},
   "source": [
    "<div style=\"border:solid steelblue 3px; padding: 20px; border-radius: 10px\">\n",
    "\n",
    "**Привет, Александр!** 👋\n",
    "\n",
    "Меня зовут Алексей Манелюк, я буду проверять твой проект. В Яндекс Практикуме принято общаться на \"ты\" 😉, но если некомфортно - скажи и перейдем на \"Вы\".\n",
    "\n",
    "Моя цель - не указать на ошибки, а поделиться опытом и помочь в освоении анализа данных.\n",
    "\n",
    "В тетрадке ты увидишь мои комментарии, пожалуйста, не удаляй, не перемещай и не изменяй их. У комментариев могут быть приписки **V2**, **V3**, **V...**, которые соответствуют каждой версии проверки. \n",
    "    \n",
    "Я буду использовать цветовую разметку:\n",
    "<p>\n",
    "<div class=\"alert-danger\" style=\"padding: 20px; border-radius: 10px\">\n",
    "<b>Комментарий ревьюера ❌</b>\n",
    "\n",
    "Так выделены критические замечания. Без их отработки я не смогу принять проект. </div>\n",
    "\n",
    "<div class=\"alert-warning\" style=\"padding: 20px; border-radius: 10px\">\n",
    "<b>  Комментарий ревьюера ⚠️</b>\n",
    "\n",
    "Так выделены небольшие замечания или полезные советы. Постарайся учесть их.</div>\n",
    "<p>\n",
    "<div class=\"alert-success\" style=\"padding: 20px; border-radius: 10px\">\n",
    "<b>Комментарий ревьюера ✔️</b>\n",
    "\n",
    "Так выделены правильные решения.</div>\n",
    "\n",
    "Предлагаю работать в диалоге: если что-то дорабатываешь или отвечаешь на мой комментарий - пиши об этом. Мне будет удобней, если ты выделишь свои комментарии:\n",
    "<p>\n",
    "<div class=\"alert-info\" style=\"padding: 20px; border-radius: 10px\">\n",
    "<b>Комментарий студента 💎</b>\n",
    "\n",
    "Здесь исправил.</div>\n",
    "\n",
    "Все это поможет мне быстрее принять твой проект.</div>"
   ]
  },
  {
   "cell_type": "markdown",
   "id": "51fc2955",
   "metadata": {},
   "source": [
    "<div class=\"alert-info\" style=\"padding: 20px; border-radius: 10px\">\n",
    "<b>Комментарий студента 💎</b>\n",
    "\n",
    "Написать свой комментарий можно, скопировав этот блок в ячейку Markdown.</div>"
   ]
  },
  {
   "cell_type": "markdown",
   "id": "514f3dde",
   "metadata": {
    "deletable": false,
    "editable": false,
    "id": "c81daeeb"
   },
   "source": [
    "# Исследование надежности заемщиков\n"
   ]
  },
  {
   "cell_type": "markdown",
   "id": "0bcab656",
   "metadata": {
    "deletable": false,
    "editable": false,
    "id": "827c20bf"
   },
   "source": [
    "Во второй части проекта вы выполните шаги 3 и 4. Их вручную проверит ревьюер.\n",
    "Чтобы вам не пришлось писать код заново для шагов 1 и 2, мы добавили авторские решения в ячейки с кодом. \n",
    "\n"
   ]
  },
  {
   "cell_type": "markdown",
   "id": "d041a7f1",
   "metadata": {},
   "source": [
    "<div class=\"alert-warning\" style=\"padding: 20px; border-radius: 10px\">\n",
    "<b>Комментарий ревьюера ⚠️</b>\n",
    "\n",
    "Несмотря на то, что первая часть этого проекта проверяется автоматизрованно, дам по ней пару советов - они пригодятся тебе в следующих проектах. \n",
    "\n",
    "**Сейчас их отрабатывать необязательно**\n",
    "\n",
    "📌 После названия, обязательно нужно добавлять бриф, цели исследования, описание данных и план работы.</div>"
   ]
  },
  {
   "cell_type": "markdown",
   "id": "66b9659e",
   "metadata": {
    "deletable": false,
    "editable": false,
    "id": "744d7639"
   },
   "source": [
    "## Откройте таблицу и изучите общую информацию о данных"
   ]
  },
  {
   "cell_type": "markdown",
   "id": "59c2c802",
   "metadata": {
    "deletable": false,
    "editable": false,
    "id": "e7a14c31"
   },
   "source": [
    "**Задание 1. Импортируйте библиотеку pandas. Считайте данные из csv-файла в датафрейм и сохраните в переменную `data`. Путь к файлу:**\n",
    "\n",
    "`/datasets/data.csv`"
   ]
  },
  {
   "cell_type": "code",
   "execution_count": 1,
   "id": "9e861bf9",
   "metadata": {
    "deletable": false,
    "id": "7bcf75c9"
   },
   "outputs": [],
   "source": [
    "import pandas as pd\n",
    "\n",
    "try:\n",
    "    data = pd.read_csv('/datasets/data.csv')\n",
    "except:\n",
    "    data = pd.read_csv('https://code.s3.yandex.net/datasets/data.csv')"
   ]
  },
  {
   "cell_type": "markdown",
   "id": "1743a035",
   "metadata": {
    "deletable": false,
    "editable": false,
    "id": "b8038fe3"
   },
   "source": [
    "**Задание 2. Выведите первые 20 строчек датафрейма `data` на экран.**"
   ]
  },
  {
   "cell_type": "code",
   "execution_count": 2,
   "id": "7fc1c930",
   "metadata": {
    "deletable": false,
    "id": "2a7cab99",
    "outputId": "1a8f3ef2-d323-4ec2-ddf7-89670b5944c4"
   },
   "outputs": [
    {
     "data": {
      "text/html": [
       "<div>\n",
       "<style scoped>\n",
       "    .dataframe tbody tr th:only-of-type {\n",
       "        vertical-align: middle;\n",
       "    }\n",
       "\n",
       "    .dataframe tbody tr th {\n",
       "        vertical-align: top;\n",
       "    }\n",
       "\n",
       "    .dataframe thead th {\n",
       "        text-align: right;\n",
       "    }\n",
       "</style>\n",
       "<table border=\"1\" class=\"dataframe\">\n",
       "  <thead>\n",
       "    <tr style=\"text-align: right;\">\n",
       "      <th></th>\n",
       "      <th>children</th>\n",
       "      <th>days_employed</th>\n",
       "      <th>dob_years</th>\n",
       "      <th>education</th>\n",
       "      <th>education_id</th>\n",
       "      <th>family_status</th>\n",
       "      <th>family_status_id</th>\n",
       "      <th>gender</th>\n",
       "      <th>income_type</th>\n",
       "      <th>debt</th>\n",
       "      <th>total_income</th>\n",
       "      <th>purpose</th>\n",
       "    </tr>\n",
       "  </thead>\n",
       "  <tbody>\n",
       "    <tr>\n",
       "      <th>0</th>\n",
       "      <td>1</td>\n",
       "      <td>-8437.673028</td>\n",
       "      <td>42</td>\n",
       "      <td>высшее</td>\n",
       "      <td>0</td>\n",
       "      <td>женат / замужем</td>\n",
       "      <td>0</td>\n",
       "      <td>F</td>\n",
       "      <td>сотрудник</td>\n",
       "      <td>0</td>\n",
       "      <td>253875.639453</td>\n",
       "      <td>покупка жилья</td>\n",
       "    </tr>\n",
       "    <tr>\n",
       "      <th>1</th>\n",
       "      <td>1</td>\n",
       "      <td>-4024.803754</td>\n",
       "      <td>36</td>\n",
       "      <td>среднее</td>\n",
       "      <td>1</td>\n",
       "      <td>женат / замужем</td>\n",
       "      <td>0</td>\n",
       "      <td>F</td>\n",
       "      <td>сотрудник</td>\n",
       "      <td>0</td>\n",
       "      <td>112080.014102</td>\n",
       "      <td>приобретение автомобиля</td>\n",
       "    </tr>\n",
       "    <tr>\n",
       "      <th>2</th>\n",
       "      <td>0</td>\n",
       "      <td>-5623.422610</td>\n",
       "      <td>33</td>\n",
       "      <td>Среднее</td>\n",
       "      <td>1</td>\n",
       "      <td>женат / замужем</td>\n",
       "      <td>0</td>\n",
       "      <td>M</td>\n",
       "      <td>сотрудник</td>\n",
       "      <td>0</td>\n",
       "      <td>145885.952297</td>\n",
       "      <td>покупка жилья</td>\n",
       "    </tr>\n",
       "    <tr>\n",
       "      <th>3</th>\n",
       "      <td>3</td>\n",
       "      <td>-4124.747207</td>\n",
       "      <td>32</td>\n",
       "      <td>среднее</td>\n",
       "      <td>1</td>\n",
       "      <td>женат / замужем</td>\n",
       "      <td>0</td>\n",
       "      <td>M</td>\n",
       "      <td>сотрудник</td>\n",
       "      <td>0</td>\n",
       "      <td>267628.550329</td>\n",
       "      <td>дополнительное образование</td>\n",
       "    </tr>\n",
       "    <tr>\n",
       "      <th>4</th>\n",
       "      <td>0</td>\n",
       "      <td>340266.072047</td>\n",
       "      <td>53</td>\n",
       "      <td>среднее</td>\n",
       "      <td>1</td>\n",
       "      <td>гражданский брак</td>\n",
       "      <td>1</td>\n",
       "      <td>F</td>\n",
       "      <td>пенсионер</td>\n",
       "      <td>0</td>\n",
       "      <td>158616.077870</td>\n",
       "      <td>сыграть свадьбу</td>\n",
       "    </tr>\n",
       "    <tr>\n",
       "      <th>5</th>\n",
       "      <td>0</td>\n",
       "      <td>-926.185831</td>\n",
       "      <td>27</td>\n",
       "      <td>высшее</td>\n",
       "      <td>0</td>\n",
       "      <td>гражданский брак</td>\n",
       "      <td>1</td>\n",
       "      <td>M</td>\n",
       "      <td>компаньон</td>\n",
       "      <td>0</td>\n",
       "      <td>255763.565419</td>\n",
       "      <td>покупка жилья</td>\n",
       "    </tr>\n",
       "    <tr>\n",
       "      <th>6</th>\n",
       "      <td>0</td>\n",
       "      <td>-2879.202052</td>\n",
       "      <td>43</td>\n",
       "      <td>высшее</td>\n",
       "      <td>0</td>\n",
       "      <td>женат / замужем</td>\n",
       "      <td>0</td>\n",
       "      <td>F</td>\n",
       "      <td>компаньон</td>\n",
       "      <td>0</td>\n",
       "      <td>240525.971920</td>\n",
       "      <td>операции с жильем</td>\n",
       "    </tr>\n",
       "    <tr>\n",
       "      <th>7</th>\n",
       "      <td>0</td>\n",
       "      <td>-152.779569</td>\n",
       "      <td>50</td>\n",
       "      <td>СРЕДНЕЕ</td>\n",
       "      <td>1</td>\n",
       "      <td>женат / замужем</td>\n",
       "      <td>0</td>\n",
       "      <td>M</td>\n",
       "      <td>сотрудник</td>\n",
       "      <td>0</td>\n",
       "      <td>135823.934197</td>\n",
       "      <td>образование</td>\n",
       "    </tr>\n",
       "    <tr>\n",
       "      <th>8</th>\n",
       "      <td>2</td>\n",
       "      <td>-6929.865299</td>\n",
       "      <td>35</td>\n",
       "      <td>ВЫСШЕЕ</td>\n",
       "      <td>0</td>\n",
       "      <td>гражданский брак</td>\n",
       "      <td>1</td>\n",
       "      <td>F</td>\n",
       "      <td>сотрудник</td>\n",
       "      <td>0</td>\n",
       "      <td>95856.832424</td>\n",
       "      <td>на проведение свадьбы</td>\n",
       "    </tr>\n",
       "    <tr>\n",
       "      <th>9</th>\n",
       "      <td>0</td>\n",
       "      <td>-2188.756445</td>\n",
       "      <td>41</td>\n",
       "      <td>среднее</td>\n",
       "      <td>1</td>\n",
       "      <td>женат / замужем</td>\n",
       "      <td>0</td>\n",
       "      <td>M</td>\n",
       "      <td>сотрудник</td>\n",
       "      <td>0</td>\n",
       "      <td>144425.938277</td>\n",
       "      <td>покупка жилья для семьи</td>\n",
       "    </tr>\n",
       "    <tr>\n",
       "      <th>10</th>\n",
       "      <td>2</td>\n",
       "      <td>-4171.483647</td>\n",
       "      <td>36</td>\n",
       "      <td>высшее</td>\n",
       "      <td>0</td>\n",
       "      <td>женат / замужем</td>\n",
       "      <td>0</td>\n",
       "      <td>M</td>\n",
       "      <td>компаньон</td>\n",
       "      <td>0</td>\n",
       "      <td>113943.491460</td>\n",
       "      <td>покупка недвижимости</td>\n",
       "    </tr>\n",
       "    <tr>\n",
       "      <th>11</th>\n",
       "      <td>0</td>\n",
       "      <td>-792.701887</td>\n",
       "      <td>40</td>\n",
       "      <td>среднее</td>\n",
       "      <td>1</td>\n",
       "      <td>женат / замужем</td>\n",
       "      <td>0</td>\n",
       "      <td>F</td>\n",
       "      <td>сотрудник</td>\n",
       "      <td>0</td>\n",
       "      <td>77069.234271</td>\n",
       "      <td>покупка коммерческой недвижимости</td>\n",
       "    </tr>\n",
       "    <tr>\n",
       "      <th>12</th>\n",
       "      <td>0</td>\n",
       "      <td>NaN</td>\n",
       "      <td>65</td>\n",
       "      <td>среднее</td>\n",
       "      <td>1</td>\n",
       "      <td>гражданский брак</td>\n",
       "      <td>1</td>\n",
       "      <td>M</td>\n",
       "      <td>пенсионер</td>\n",
       "      <td>0</td>\n",
       "      <td>NaN</td>\n",
       "      <td>сыграть свадьбу</td>\n",
       "    </tr>\n",
       "    <tr>\n",
       "      <th>13</th>\n",
       "      <td>0</td>\n",
       "      <td>-1846.641941</td>\n",
       "      <td>54</td>\n",
       "      <td>неоконченное высшее</td>\n",
       "      <td>2</td>\n",
       "      <td>женат / замужем</td>\n",
       "      <td>0</td>\n",
       "      <td>F</td>\n",
       "      <td>сотрудник</td>\n",
       "      <td>0</td>\n",
       "      <td>130458.228857</td>\n",
       "      <td>приобретение автомобиля</td>\n",
       "    </tr>\n",
       "    <tr>\n",
       "      <th>14</th>\n",
       "      <td>0</td>\n",
       "      <td>-1844.956182</td>\n",
       "      <td>56</td>\n",
       "      <td>высшее</td>\n",
       "      <td>0</td>\n",
       "      <td>гражданский брак</td>\n",
       "      <td>1</td>\n",
       "      <td>F</td>\n",
       "      <td>компаньон</td>\n",
       "      <td>1</td>\n",
       "      <td>165127.911772</td>\n",
       "      <td>покупка жилой недвижимости</td>\n",
       "    </tr>\n",
       "    <tr>\n",
       "      <th>15</th>\n",
       "      <td>1</td>\n",
       "      <td>-972.364419</td>\n",
       "      <td>26</td>\n",
       "      <td>среднее</td>\n",
       "      <td>1</td>\n",
       "      <td>женат / замужем</td>\n",
       "      <td>0</td>\n",
       "      <td>F</td>\n",
       "      <td>сотрудник</td>\n",
       "      <td>0</td>\n",
       "      <td>116820.904450</td>\n",
       "      <td>строительство собственной недвижимости</td>\n",
       "    </tr>\n",
       "    <tr>\n",
       "      <th>16</th>\n",
       "      <td>0</td>\n",
       "      <td>-1719.934226</td>\n",
       "      <td>35</td>\n",
       "      <td>среднее</td>\n",
       "      <td>1</td>\n",
       "      <td>женат / замужем</td>\n",
       "      <td>0</td>\n",
       "      <td>F</td>\n",
       "      <td>сотрудник</td>\n",
       "      <td>0</td>\n",
       "      <td>289202.704229</td>\n",
       "      <td>недвижимость</td>\n",
       "    </tr>\n",
       "    <tr>\n",
       "      <th>17</th>\n",
       "      <td>0</td>\n",
       "      <td>-2369.999720</td>\n",
       "      <td>33</td>\n",
       "      <td>высшее</td>\n",
       "      <td>0</td>\n",
       "      <td>гражданский брак</td>\n",
       "      <td>1</td>\n",
       "      <td>M</td>\n",
       "      <td>сотрудник</td>\n",
       "      <td>0</td>\n",
       "      <td>90410.586745</td>\n",
       "      <td>строительство недвижимости</td>\n",
       "    </tr>\n",
       "    <tr>\n",
       "      <th>18</th>\n",
       "      <td>0</td>\n",
       "      <td>400281.136913</td>\n",
       "      <td>53</td>\n",
       "      <td>среднее</td>\n",
       "      <td>1</td>\n",
       "      <td>вдовец / вдова</td>\n",
       "      <td>2</td>\n",
       "      <td>F</td>\n",
       "      <td>пенсионер</td>\n",
       "      <td>0</td>\n",
       "      <td>56823.777243</td>\n",
       "      <td>на покупку подержанного автомобиля</td>\n",
       "    </tr>\n",
       "    <tr>\n",
       "      <th>19</th>\n",
       "      <td>0</td>\n",
       "      <td>-10038.818549</td>\n",
       "      <td>48</td>\n",
       "      <td>СРЕДНЕЕ</td>\n",
       "      <td>1</td>\n",
       "      <td>в разводе</td>\n",
       "      <td>3</td>\n",
       "      <td>F</td>\n",
       "      <td>сотрудник</td>\n",
       "      <td>0</td>\n",
       "      <td>242831.107982</td>\n",
       "      <td>на покупку своего автомобиля</td>\n",
       "    </tr>\n",
       "  </tbody>\n",
       "</table>\n",
       "</div>"
      ],
      "text/plain": [
       "    children  days_employed  dob_years            education  education_id  \\\n",
       "0          1   -8437.673028         42               высшее             0   \n",
       "1          1   -4024.803754         36              среднее             1   \n",
       "2          0   -5623.422610         33              Среднее             1   \n",
       "3          3   -4124.747207         32              среднее             1   \n",
       "4          0  340266.072047         53              среднее             1   \n",
       "5          0    -926.185831         27               высшее             0   \n",
       "6          0   -2879.202052         43               высшее             0   \n",
       "7          0    -152.779569         50              СРЕДНЕЕ             1   \n",
       "8          2   -6929.865299         35               ВЫСШЕЕ             0   \n",
       "9          0   -2188.756445         41              среднее             1   \n",
       "10         2   -4171.483647         36               высшее             0   \n",
       "11         0    -792.701887         40              среднее             1   \n",
       "12         0            NaN         65              среднее             1   \n",
       "13         0   -1846.641941         54  неоконченное высшее             2   \n",
       "14         0   -1844.956182         56               высшее             0   \n",
       "15         1    -972.364419         26              среднее             1   \n",
       "16         0   -1719.934226         35              среднее             1   \n",
       "17         0   -2369.999720         33               высшее             0   \n",
       "18         0  400281.136913         53              среднее             1   \n",
       "19         0  -10038.818549         48              СРЕДНЕЕ             1   \n",
       "\n",
       "       family_status  family_status_id gender income_type  debt  \\\n",
       "0    женат / замужем                 0      F   сотрудник     0   \n",
       "1    женат / замужем                 0      F   сотрудник     0   \n",
       "2    женат / замужем                 0      M   сотрудник     0   \n",
       "3    женат / замужем                 0      M   сотрудник     0   \n",
       "4   гражданский брак                 1      F   пенсионер     0   \n",
       "5   гражданский брак                 1      M   компаньон     0   \n",
       "6    женат / замужем                 0      F   компаньон     0   \n",
       "7    женат / замужем                 0      M   сотрудник     0   \n",
       "8   гражданский брак                 1      F   сотрудник     0   \n",
       "9    женат / замужем                 0      M   сотрудник     0   \n",
       "10   женат / замужем                 0      M   компаньон     0   \n",
       "11   женат / замужем                 0      F   сотрудник     0   \n",
       "12  гражданский брак                 1      M   пенсионер     0   \n",
       "13   женат / замужем                 0      F   сотрудник     0   \n",
       "14  гражданский брак                 1      F   компаньон     1   \n",
       "15   женат / замужем                 0      F   сотрудник     0   \n",
       "16   женат / замужем                 0      F   сотрудник     0   \n",
       "17  гражданский брак                 1      M   сотрудник     0   \n",
       "18    вдовец / вдова                 2      F   пенсионер     0   \n",
       "19         в разводе                 3      F   сотрудник     0   \n",
       "\n",
       "     total_income                                 purpose  \n",
       "0   253875.639453                           покупка жилья  \n",
       "1   112080.014102                 приобретение автомобиля  \n",
       "2   145885.952297                           покупка жилья  \n",
       "3   267628.550329              дополнительное образование  \n",
       "4   158616.077870                         сыграть свадьбу  \n",
       "5   255763.565419                           покупка жилья  \n",
       "6   240525.971920                       операции с жильем  \n",
       "7   135823.934197                             образование  \n",
       "8    95856.832424                   на проведение свадьбы  \n",
       "9   144425.938277                 покупка жилья для семьи  \n",
       "10  113943.491460                    покупка недвижимости  \n",
       "11   77069.234271       покупка коммерческой недвижимости  \n",
       "12            NaN                         сыграть свадьбу  \n",
       "13  130458.228857                 приобретение автомобиля  \n",
       "14  165127.911772              покупка жилой недвижимости  \n",
       "15  116820.904450  строительство собственной недвижимости  \n",
       "16  289202.704229                            недвижимость  \n",
       "17   90410.586745              строительство недвижимости  \n",
       "18   56823.777243      на покупку подержанного автомобиля  \n",
       "19  242831.107982            на покупку своего автомобиля  "
      ]
     },
     "execution_count": 2,
     "metadata": {},
     "output_type": "execute_result"
    }
   ],
   "source": [
    "data.head(20)"
   ]
  },
  {
   "cell_type": "markdown",
   "id": "d74b8496",
   "metadata": {
    "deletable": false,
    "editable": false,
    "id": "1c12e233"
   },
   "source": [
    "**Задание 3. Выведите основную информацию о датафрейме с помощью метода `info()`.**"
   ]
  },
  {
   "cell_type": "code",
   "execution_count": 3,
   "id": "a979e1c4",
   "metadata": {
    "deletable": false,
    "id": "2b757bca",
    "outputId": "15376089-8dad-46c9-b520-c05248d43158"
   },
   "outputs": [
    {
     "name": "stdout",
     "output_type": "stream",
     "text": [
      "<class 'pandas.core.frame.DataFrame'>\n",
      "RangeIndex: 21525 entries, 0 to 21524\n",
      "Data columns (total 12 columns):\n",
      " #   Column            Non-Null Count  Dtype  \n",
      "---  ------            --------------  -----  \n",
      " 0   children          21525 non-null  int64  \n",
      " 1   days_employed     19351 non-null  float64\n",
      " 2   dob_years         21525 non-null  int64  \n",
      " 3   education         21525 non-null  object \n",
      " 4   education_id      21525 non-null  int64  \n",
      " 5   family_status     21525 non-null  object \n",
      " 6   family_status_id  21525 non-null  int64  \n",
      " 7   gender            21525 non-null  object \n",
      " 8   income_type       21525 non-null  object \n",
      " 9   debt              21525 non-null  int64  \n",
      " 10  total_income      19351 non-null  float64\n",
      " 11  purpose           21525 non-null  object \n",
      "dtypes: float64(2), int64(5), object(5)\n",
      "memory usage: 2.0+ MB\n"
     ]
    }
   ],
   "source": [
    "data.info()"
   ]
  },
  {
   "cell_type": "markdown",
   "id": "a3c727c5",
   "metadata": {},
   "source": [
    "<div class=\"alert-warning\" style=\"padding: 20px; border-radius: 10px\">\n",
    "<b>Комментарий ревьюера ⚠️</b>\n",
    "\n",
    "📌 Каждый раздел работы стоит завершать кратким выводом, о том что было сделано и какие результаты получены.\n",
    "\n",
    "Как правильно оформить проект ты можешь прочитать в материалах курса:\n",
    "\n",
    "`Полезные инструкции для учёбы - Оформление проекта - Рекомендации по выполнению проектов`\n",
    "</div>"
   ]
  },
  {
   "cell_type": "markdown",
   "id": "b9960759",
   "metadata": {
    "deletable": false,
    "editable": false,
    "id": "333ec665"
   },
   "source": [
    "## Предобработка данных"
   ]
  },
  {
   "cell_type": "markdown",
   "id": "21e89763",
   "metadata": {
    "deletable": false,
    "editable": false,
    "id": "02d92d53"
   },
   "source": [
    "### Удаление пропусков"
   ]
  },
  {
   "cell_type": "markdown",
   "id": "c92dbbfd",
   "metadata": {
    "deletable": false,
    "editable": false,
    "id": "cd84967c"
   },
   "source": [
    "**Задание 4. Выведите количество пропущенных значений для каждого столбца. Используйте комбинацию двух методов.**"
   ]
  },
  {
   "cell_type": "code",
   "execution_count": 4,
   "id": "2671f929",
   "metadata": {
    "deletable": false,
    "id": "7f9b2309",
    "outputId": "81f4d817-781c-465c-ed15-91ce4446810d"
   },
   "outputs": [
    {
     "data": {
      "text/plain": [
       "children               0\n",
       "days_employed       2174\n",
       "dob_years              0\n",
       "education              0\n",
       "education_id           0\n",
       "family_status          0\n",
       "family_status_id       0\n",
       "gender                 0\n",
       "income_type            0\n",
       "debt                   0\n",
       "total_income        2174\n",
       "purpose                0\n",
       "dtype: int64"
      ]
     },
     "execution_count": 4,
     "metadata": {},
     "output_type": "execute_result"
    }
   ],
   "source": [
    "data.isna().sum()"
   ]
  },
  {
   "cell_type": "markdown",
   "id": "31a1dae7",
   "metadata": {
    "deletable": false,
    "editable": false,
    "id": "db86e27b"
   },
   "source": [
    "**Задание 5. В двух столбцах есть пропущенные значения. Один из них — `days_employed`. Пропуски в этом столбце вы обработаете на следующем этапе. Другой столбец с пропущенными значениями — `total_income` — хранит данные о доходах. На сумму дохода сильнее всего влияет тип занятости, поэтому заполнить пропуски в этом столбце нужно медианным значением по каждому типу из столбца `income_type`. Например, у человека с типом занятости `сотрудник` пропуск в столбце `total_income` должен быть заполнен медианным доходом среди всех записей с тем же типом.**"
   ]
  },
  {
   "cell_type": "code",
   "execution_count": 5,
   "id": "d8a9340f",
   "metadata": {
    "deletable": false,
    "id": "42006a93"
   },
   "outputs": [],
   "source": [
    "for t in data['income_type'].unique():\n",
    "    data.loc[(data['income_type'] == t) & (data['total_income'].isna()), 'total_income'] = \\\n",
    "    data.loc[(data['income_type'] == t), 'total_income'].median()"
   ]
  },
  {
   "cell_type": "markdown",
   "id": "aa2c2129",
   "metadata": {
    "deletable": false,
    "editable": false,
    "id": "89da5ece"
   },
   "source": [
    "### Обработка аномальных значений"
   ]
  },
  {
   "cell_type": "markdown",
   "id": "3ba5914c",
   "metadata": {
    "deletable": false,
    "editable": false,
    "id": "57964554"
   },
   "source": [
    "**Задание 6. В данных могут встречаться артефакты (аномалии) — значения, которые не отражают действительность и появились по какой-то ошибке. таким артефактом будет отрицательное количество дней трудового стажа в столбце `days_employed`. Для реальных данных это нормально. Обработайте значения в этом столбце: замените все отрицательные значения положительными с помощью метода `abs()`.**"
   ]
  },
  {
   "cell_type": "code",
   "execution_count": 6,
   "id": "7bba2f8e",
   "metadata": {
    "deletable": false,
    "id": "f6f055bf"
   },
   "outputs": [],
   "source": [
    "data['days_employed'] = data['days_employed'].abs()"
   ]
  },
  {
   "cell_type": "markdown",
   "id": "e43abbe5",
   "metadata": {
    "deletable": false,
    "editable": false,
    "id": "6107dd2f"
   },
   "source": [
    "**Задание 7. Для каждого типа занятости выведите медианное значение трудового стажа `days_employed` в днях.**"
   ]
  },
  {
   "cell_type": "code",
   "execution_count": 7,
   "id": "531c1819",
   "metadata": {
    "deletable": false,
    "id": "85a5faf6",
    "outputId": "801ef80e-522b-4668-f34e-565af7432bcf"
   },
   "outputs": [
    {
     "data": {
      "text/plain": [
       "income_type\n",
       "безработный        366413.652744\n",
       "в декрете            3296.759962\n",
       "госслужащий          2689.368353\n",
       "компаньон            1547.382223\n",
       "пенсионер          365213.306266\n",
       "предприниматель       520.848083\n",
       "сотрудник            1574.202821\n",
       "студент               578.751554\n",
       "Name: days_employed, dtype: float64"
      ]
     },
     "execution_count": 7,
     "metadata": {},
     "output_type": "execute_result"
    }
   ],
   "source": [
    "data.groupby('income_type')['days_employed'].agg('median')"
   ]
  },
  {
   "cell_type": "markdown",
   "id": "f188c14b",
   "metadata": {
    "deletable": false,
    "editable": false,
    "id": "38d1a030"
   },
   "source": [
    "У двух типов (безработные и пенсионеры) получатся аномально большие значения. Исправить такие значения сложно, поэтому оставьте их как есть. Тем более этот столбец не понадобится вам для исследования."
   ]
  },
  {
   "cell_type": "markdown",
   "id": "d614f3b1",
   "metadata": {
    "deletable": false,
    "editable": false,
    "id": "d8a9f147"
   },
   "source": [
    "**Задание 8. Выведите перечень уникальных значений столбца `children`.**"
   ]
  },
  {
   "cell_type": "code",
   "execution_count": 8,
   "id": "afcaf3d9",
   "metadata": {
    "deletable": false,
    "id": "ef5056eb",
    "outputId": "6975b15c-7f95-4697-d16d-a0c79b657b03"
   },
   "outputs": [
    {
     "data": {
      "text/plain": [
       "array([ 1,  0,  3,  2, -1,  4, 20,  5])"
      ]
     },
     "execution_count": 8,
     "metadata": {},
     "output_type": "execute_result"
    }
   ],
   "source": [
    "data['children'].unique()"
   ]
  },
  {
   "cell_type": "markdown",
   "id": "b8f3b664",
   "metadata": {
    "deletable": false,
    "editable": false,
    "id": "40b9ebf2"
   },
   "source": [
    "**Задание 9. В столбце `children` есть два аномальных значения. Удалите строки, в которых встречаются такие аномальные значения из датафрейма `data`.**"
   ]
  },
  {
   "cell_type": "code",
   "execution_count": 9,
   "id": "2b788286",
   "metadata": {
    "deletable": false,
    "id": "3ff9801d"
   },
   "outputs": [],
   "source": [
    "data = data[(data['children'] != -1) & (data['children'] != 20)]"
   ]
  },
  {
   "cell_type": "markdown",
   "id": "83d8ffd1",
   "metadata": {
    "deletable": false,
    "editable": false,
    "id": "bbc4d0ce"
   },
   "source": [
    "**Задание 10. Ещё раз выведите перечень уникальных значений столбца `children`, чтобы убедиться, что артефакты удалены.**"
   ]
  },
  {
   "cell_type": "code",
   "execution_count": 10,
   "id": "16529fc6",
   "metadata": {
    "deletable": false,
    "id": "ad4fa8b7",
    "outputId": "b2097101-d49d-44d9-901b-32a65c9463d1"
   },
   "outputs": [
    {
     "data": {
      "text/plain": [
       "array([1, 0, 3, 2, 4, 5])"
      ]
     },
     "execution_count": 10,
     "metadata": {},
     "output_type": "execute_result"
    }
   ],
   "source": [
    "data['children'].unique()"
   ]
  },
  {
   "cell_type": "markdown",
   "id": "212001b1",
   "metadata": {
    "deletable": false,
    "editable": false,
    "id": "75440b63"
   },
   "source": [
    "### Удаление пропусков (продолжение)"
   ]
  },
  {
   "cell_type": "markdown",
   "id": "c75de5a1",
   "metadata": {
    "deletable": false,
    "editable": false,
    "id": "f4ea573f"
   },
   "source": [
    "**Задание 11. Заполните пропуски в столбце `days_employed` медианными значениями по каждого типа занятости `income_type`.**"
   ]
  },
  {
   "cell_type": "code",
   "execution_count": 11,
   "id": "19d0449a",
   "metadata": {
    "deletable": false,
    "id": "af6b1a7e"
   },
   "outputs": [],
   "source": [
    "for t in data['income_type'].unique():\n",
    "    data.loc[(data['income_type'] == t) & (data['days_employed'].isna()), 'days_employed'] = \\\n",
    "    data.loc[(data['income_type'] == t), 'days_employed'].median()"
   ]
  },
  {
   "cell_type": "markdown",
   "id": "f8155d28",
   "metadata": {
    "deletable": false,
    "editable": false,
    "id": "2753f40d"
   },
   "source": [
    "**Задание 12. Убедитесь, что все пропуски заполнены. Проверьте себя и ещё раз выведите количество пропущенных значений для каждого столбца с помощью двух методов.**"
   ]
  },
  {
   "cell_type": "code",
   "execution_count": 12,
   "id": "93654514",
   "metadata": {
    "deletable": false,
    "id": "55f78bc2",
    "outputId": "8da1e4e1-358e-4e87-98c9-f261bce0a7b2"
   },
   "outputs": [
    {
     "data": {
      "text/plain": [
       "children            0\n",
       "days_employed       0\n",
       "dob_years           0\n",
       "education           0\n",
       "education_id        0\n",
       "family_status       0\n",
       "family_status_id    0\n",
       "gender              0\n",
       "income_type         0\n",
       "debt                0\n",
       "total_income        0\n",
       "purpose             0\n",
       "dtype: int64"
      ]
     },
     "execution_count": 12,
     "metadata": {},
     "output_type": "execute_result"
    }
   ],
   "source": [
    "data.isna().sum()"
   ]
  },
  {
   "cell_type": "markdown",
   "id": "0f404867",
   "metadata": {
    "deletable": false,
    "editable": false,
    "id": "ddc81e43"
   },
   "source": [
    "### Изменение типов данных"
   ]
  },
  {
   "cell_type": "markdown",
   "id": "0e15c05b",
   "metadata": {
    "deletable": false,
    "editable": false,
    "id": "42d19d24"
   },
   "source": [
    "**Задание 13. Замените вещественный тип данных в столбце `total_income` на целочисленный с помощью метода `astype()`.**"
   ]
  },
  {
   "cell_type": "code",
   "execution_count": 13,
   "id": "59a22b32",
   "metadata": {
    "deletable": false,
    "id": "920b65ad"
   },
   "outputs": [],
   "source": [
    "data['total_income'] = data['total_income'].astype(int)"
   ]
  },
  {
   "cell_type": "markdown",
   "id": "e533c225",
   "metadata": {
    "deletable": false,
    "editable": false,
    "id": "80c420ba"
   },
   "source": [
    "### Обработка дубликатов"
   ]
  },
  {
   "cell_type": "markdown",
   "id": "9906d1f5",
   "metadata": {
    "deletable": false,
    "editable": false
   },
   "source": [
    "**Задание 14. Обработайте неявные дубликаты в столбце `education`. В этом столбце есть одни и те же значения, но записанные по-разному: с использованием заглавных и строчных букв. Приведите их к нижнему регистру. Проверьте остальные столбцы.**"
   ]
  },
  {
   "cell_type": "code",
   "execution_count": 14,
   "id": "ef80a621",
   "metadata": {
    "deletable": false
   },
   "outputs": [],
   "source": [
    "data['education'] = data['education'].str.lower()"
   ]
  },
  {
   "cell_type": "markdown",
   "id": "de5e964a",
   "metadata": {
    "deletable": false,
    "editable": false,
    "id": "dc587695"
   },
   "source": [
    "**Задание 15. Выведите на экран количество строк-дубликатов в данных. Если такие строки присутствуют, удалите их.**"
   ]
  },
  {
   "cell_type": "code",
   "execution_count": 15,
   "id": "1b7a450e",
   "metadata": {
    "deletable": false,
    "id": "3ee445e4",
    "outputId": "9684deba-1934-42d1-99e1-cda61740f822"
   },
   "outputs": [
    {
     "data": {
      "text/plain": [
       "71"
      ]
     },
     "execution_count": 15,
     "metadata": {},
     "output_type": "execute_result"
    }
   ],
   "source": [
    "data.duplicated().sum()"
   ]
  },
  {
   "cell_type": "code",
   "execution_count": 16,
   "id": "4b75637c",
   "metadata": {
    "deletable": false,
    "id": "8575fe05"
   },
   "outputs": [],
   "source": [
    "data = data.drop_duplicates()"
   ]
  },
  {
   "cell_type": "markdown",
   "id": "2fcb92d9",
   "metadata": {
    "deletable": false,
    "editable": false,
    "id": "9904cf55"
   },
   "source": [
    "### Категоризация данных"
   ]
  },
  {
   "cell_type": "markdown",
   "id": "0d745f98",
   "metadata": {
    "deletable": false,
    "editable": false,
    "id": "72fcc8a2"
   },
   "source": [
    "**Задание 16. На основании диапазонов, указанных ниже, создайте в датафрейме `data` столбец `total_income_category` с категориями:**\n",
    "\n",
    "- 0–30000 — `'E'`;\n",
    "- 30001–50000 — `'D'`;\n",
    "- 50001–200000 — `'C'`;\n",
    "- 200001–1000000 — `'B'`;\n",
    "- 1000001 и выше — `'A'`.\n",
    "\n",
    "\n",
    "**Например, кредитополучателю с доходом 25000 нужно назначить категорию `'E'`, а клиенту, получающему 235000, — `'B'`. Используйте собственную функцию с именем `categorize_income()` и метод `apply()`.**"
   ]
  },
  {
   "cell_type": "code",
   "execution_count": 17,
   "id": "47234862",
   "metadata": {
    "deletable": false,
    "id": "e1771346"
   },
   "outputs": [],
   "source": [
    "def categorize_income(income):\n",
    "    try:\n",
    "        if 0 <= income <= 30000:\n",
    "            return 'E'\n",
    "        elif 30001 <= income <= 50000:\n",
    "            return 'D'\n",
    "        elif 50001 <= income <= 200000:\n",
    "            return 'C'\n",
    "        elif 200001 <= income <= 1000000:\n",
    "            return 'B'\n",
    "        elif income >= 1000001:\n",
    "            return 'A'\n",
    "    except:\n",
    "        pass"
   ]
  },
  {
   "cell_type": "code",
   "execution_count": 18,
   "id": "c06d7104",
   "metadata": {
    "deletable": false,
    "id": "d5f3586d"
   },
   "outputs": [],
   "source": [
    "data['total_income_category'] = data['total_income'].apply(categorize_income)"
   ]
  },
  {
   "cell_type": "markdown",
   "id": "a53bee2f",
   "metadata": {
    "deletable": false,
    "editable": false,
    "id": "dde49b5c"
   },
   "source": [
    "**Задание 17. Выведите на экран перечень уникальных целей взятия кредита из столбца `purpose`.**"
   ]
  },
  {
   "cell_type": "code",
   "execution_count": 19,
   "id": "a4efbd00",
   "metadata": {
    "deletable": false,
    "id": "f67ce9b3",
    "outputId": "673c12d9-7d7e-4ae0-9812-c622c89dd244"
   },
   "outputs": [
    {
     "data": {
      "text/plain": [
       "array(['покупка жилья', 'приобретение автомобиля',\n",
       "       'дополнительное образование', 'сыграть свадьбу',\n",
       "       'операции с жильем', 'образование', 'на проведение свадьбы',\n",
       "       'покупка жилья для семьи', 'покупка недвижимости',\n",
       "       'покупка коммерческой недвижимости', 'покупка жилой недвижимости',\n",
       "       'строительство собственной недвижимости', 'недвижимость',\n",
       "       'строительство недвижимости', 'на покупку подержанного автомобиля',\n",
       "       'на покупку своего автомобиля',\n",
       "       'операции с коммерческой недвижимостью',\n",
       "       'строительство жилой недвижимости', 'жилье',\n",
       "       'операции со своей недвижимостью', 'автомобили',\n",
       "       'заняться образованием', 'сделка с подержанным автомобилем',\n",
       "       'получение образования', 'автомобиль', 'свадьба',\n",
       "       'получение дополнительного образования', 'покупка своего жилья',\n",
       "       'операции с недвижимостью', 'получение высшего образования',\n",
       "       'свой автомобиль', 'сделка с автомобилем',\n",
       "       'профильное образование', 'высшее образование',\n",
       "       'покупка жилья для сдачи', 'на покупку автомобиля', 'ремонт жилью',\n",
       "       'заняться высшим образованием'], dtype=object)"
      ]
     },
     "execution_count": 19,
     "metadata": {},
     "output_type": "execute_result"
    }
   ],
   "source": [
    "data['purpose'].unique()"
   ]
  },
  {
   "cell_type": "markdown",
   "id": "2c2dcfc2",
   "metadata": {
    "deletable": false,
    "editable": false,
    "id": "85d0aef0"
   },
   "source": [
    "**Задание 18. Создайте функцию, которая на основании данных из столбца `purpose` сформирует новый столбец `purpose_category`, в который войдут следующие категории:**\n",
    "\n",
    "- `'операции с автомобилем'`,\n",
    "- `'операции с недвижимостью'`,\n",
    "- `'проведение свадьбы'`,\n",
    "- `'получение образования'`.\n",
    "\n",
    "**Например, если в столбце `purpose` находится подстрока `'на покупку автомобиля'`, то в столбце `purpose_category` должна появиться строка `'операции с автомобилем'`.**\n",
    "\n",
    "**Используйте собственную функцию с именем `categorize_purpose()` и метод `apply()`. Изучите данные в столбце `purpose` и определите, какие подстроки помогут вам правильно определить категорию.**"
   ]
  },
  {
   "cell_type": "code",
   "execution_count": 20,
   "id": "2168f578",
   "metadata": {
    "deletable": false,
    "id": "e149fab4"
   },
   "outputs": [],
   "source": [
    "def categorize_purpose(row):\n",
    "    try:\n",
    "        if 'автом' in row:\n",
    "            return 'операции с автомобилем'\n",
    "        elif 'жил' in row or 'недвиж' in row:\n",
    "            return 'операции с недвижимостью'\n",
    "        elif 'свад' in row:\n",
    "            return 'проведение свадьбы'\n",
    "        elif 'образов' in row:\n",
    "            return 'получение образования'\n",
    "    except:\n",
    "        return 'нет категории'"
   ]
  },
  {
   "cell_type": "code",
   "execution_count": 21,
   "id": "feb24315",
   "metadata": {
    "deletable": false,
    "id": "bf36e69b"
   },
   "outputs": [],
   "source": [
    "data['purpose_category'] = data['purpose'].apply(categorize_purpose)"
   ]
  },
  {
   "cell_type": "markdown",
   "id": "4cdb7c52",
   "metadata": {
    "deletable": false,
    "editable": false,
    "id": "09b242bf"
   },
   "source": [
    "### Шаг 3. Исследуйте данные и ответьте на вопросы"
   ]
  },
  {
   "cell_type": "markdown",
   "id": "79206896",
   "metadata": {
    "deletable": false,
    "editable": false,
    "id": "c5d66278"
   },
   "source": [
    "#### 3.1 Есть ли зависимость между количеством детей и возвратом кредита в срок?"
   ]
  },
  {
   "cell_type": "markdown",
   "id": "37a6774a",
   "metadata": {
    "deletable": false,
    "id": "2cacfc4a"
   },
   "source": [
    "Посмотрим сколько всего и какой процент людей в каждой группе по колличеству детей имеют долги."
   ]
  },
  {
   "cell_type": "code",
   "execution_count": 22,
   "id": "e393ef8d",
   "metadata": {},
   "outputs": [
    {
     "data": {
      "text/html": [
       "<div>\n",
       "<style scoped>\n",
       "    .dataframe tbody tr th:only-of-type {\n",
       "        vertical-align: middle;\n",
       "    }\n",
       "\n",
       "    .dataframe tbody tr th {\n",
       "        vertical-align: top;\n",
       "    }\n",
       "\n",
       "    .dataframe thead th {\n",
       "        text-align: right;\n",
       "    }\n",
       "</style>\n",
       "<table border=\"1\" class=\"dataframe\">\n",
       "  <thead>\n",
       "    <tr style=\"text-align: right;\">\n",
       "      <th></th>\n",
       "      <th>count</th>\n",
       "      <th>sum</th>\n",
       "      <th>percent</th>\n",
       "    </tr>\n",
       "    <tr>\n",
       "      <th>children</th>\n",
       "      <th></th>\n",
       "      <th></th>\n",
       "      <th></th>\n",
       "    </tr>\n",
       "  </thead>\n",
       "  <tbody>\n",
       "    <tr>\n",
       "      <th>0</th>\n",
       "      <td>14091</td>\n",
       "      <td>1063</td>\n",
       "      <td>0.075438</td>\n",
       "    </tr>\n",
       "    <tr>\n",
       "      <th>1</th>\n",
       "      <td>4808</td>\n",
       "      <td>444</td>\n",
       "      <td>0.092346</td>\n",
       "    </tr>\n",
       "    <tr>\n",
       "      <th>2</th>\n",
       "      <td>2052</td>\n",
       "      <td>194</td>\n",
       "      <td>0.094542</td>\n",
       "    </tr>\n",
       "    <tr>\n",
       "      <th>3</th>\n",
       "      <td>330</td>\n",
       "      <td>27</td>\n",
       "      <td>0.081818</td>\n",
       "    </tr>\n",
       "    <tr>\n",
       "      <th>4</th>\n",
       "      <td>41</td>\n",
       "      <td>4</td>\n",
       "      <td>0.097561</td>\n",
       "    </tr>\n",
       "    <tr>\n",
       "      <th>5</th>\n",
       "      <td>9</td>\n",
       "      <td>0</td>\n",
       "      <td>0.000000</td>\n",
       "    </tr>\n",
       "  </tbody>\n",
       "</table>\n",
       "</div>"
      ],
      "text/plain": [
       "          count   sum   percent\n",
       "children                       \n",
       "0         14091  1063  0.075438\n",
       "1          4808   444  0.092346\n",
       "2          2052   194  0.094542\n",
       "3           330    27  0.081818\n",
       "4            41     4  0.097561\n",
       "5             9     0  0.000000"
      ]
     },
     "execution_count": 22,
     "metadata": {},
     "output_type": "execute_result"
    }
   ],
   "source": [
    "gr_count = data.groupby('children')['debt'].count()\n",
    "gr_sum = data.groupby('children')['debt'].sum()\n",
    "percent_whith_debt = gr_sum/gr_count\n",
    "gr = pd.merge(gr_count, gr_sum, right_index = True, left_index = True)\n",
    "gr = pd.merge(gr, percent_whith_debt, right_index = True, left_index = True)\n",
    "gr = gr.rename(columns={'debt_x':'count', 'debt_y':'sum', 'debt':'percent'})\n",
    "gr"
   ]
  },
  {
   "cell_type": "markdown",
   "id": "87c6aebd",
   "metadata": {},
   "source": [
    "<div class=\"alert-success\" style=\"border-radius: 10px; padding: 10px\">\n",
    "<b>Комментарий ревьюера V2 ✔️</b>\n",
    "\n",
    "Это правильная сводная таблица со всеми нужными для сравнения категорий данными. 👌</div>"
   ]
  },
  {
   "cell_type": "markdown",
   "id": "bd0c55c5",
   "metadata": {},
   "source": [
    "Больше всего долгов у людей без детей и с одним ребенком (1063 и 444 из 14091 и 4808 соответсвенно). <br>\n",
    " В семьях с двумя детьми 194 должника из 2052 человек. <br> В остальных группах в сумме 380 человек (что в 4 раза меньше, чем в самой наименьшей из трех крупнейших), из них 31 должник, что составляет 8.15% от общего числа. Группа слишком малочисленна, и процент в ней меньше, чем в других, поэтому ее можно не рассматривать. <br><br>\n",
    " Сравним процентное соотношение должников в трех крупнейших группах: в группах, где 1 или 2 ребенка примерно равные доли должников - 9.23% и 9.45%. У людей без детей процент людей с долгом 7.54%. Можно заметить разницу в более 1.5% между первой группой и оставшимися двумя, что является существенной разницей. Из этого можно сделать вывод, что группы людей с 1-2 детьми самые рискованные заемщики. "
   ]
  },
  {
   "cell_type": "markdown",
   "id": "579d5ccd",
   "metadata": {
    "deletable": false,
    "id": "3a6b99ec"
   },
   "source": [
    "**Вывод:** <br> \n",
    "- *Самые рисковые категории заемщиков: с 1 или 2 детьми* <br> \n",
    "- *Менее рисковые категории: все остальные*"
   ]
  },
  {
   "cell_type": "markdown",
   "id": "6fbf21bd",
   "metadata": {},
   "source": [
    "<div class=\"alert-warning\" style=\"border-radius: 10px; padding: 10px\">\n",
    "<b>Комментарий ревьюера V2 ⚠️</b>\n",
    "\n",
    "Обрати внимание, что выборки несбалансированны, поэтому, если сравнить только самые большие, сопоставимые по размеру выборки с 0, 1 и 2 детьми, можно сказать что заемщики с большим количеством детей чаще допускают просрочку.</div>"
   ]
  },
  {
   "cell_type": "markdown",
   "id": "c165d7ee",
   "metadata": {},
   "source": [
    "<div class=\"alert-info\" style=\"padding: 20px; border-radius: 10px\">\n",
    "<b>Комментарий студента 💎</b>\n",
    "\n",
    "Переделал все пункты. Не получилось сделать сводную таблицу методом \"groupby\". Если не сложно, можешь, пожалуйста, показать, как это сделать в комментариях. </div>"
   ]
  },
  {
   "cell_type": "markdown",
   "id": "62b7fc33",
   "metadata": {},
   "source": [
    "<div class=\"alert-success\" style=\"border-radius: 10px; padding: 10px\">\n",
    "<b>Комментарий ревьюера V2 ✔️</b>\n",
    "\n",
    "С помощью `groupby()` нужную сводную таблицу можно вывести так: 👇</div>"
   ]
  },
  {
   "cell_type": "code",
   "execution_count": 27,
   "id": "a0ffc468",
   "metadata": {},
   "outputs": [
    {
     "data": {
      "text/html": [
       "<div>\n",
       "<style scoped>\n",
       "    .dataframe tbody tr th:only-of-type {\n",
       "        vertical-align: middle;\n",
       "    }\n",
       "\n",
       "    .dataframe tbody tr th {\n",
       "        vertical-align: top;\n",
       "    }\n",
       "\n",
       "    .dataframe thead th {\n",
       "        text-align: right;\n",
       "    }\n",
       "</style>\n",
       "<table border=\"1\" class=\"dataframe\">\n",
       "  <thead>\n",
       "    <tr style=\"text-align: right;\">\n",
       "      <th></th>\n",
       "      <th>count</th>\n",
       "      <th>sum</th>\n",
       "      <th>mean</th>\n",
       "    </tr>\n",
       "    <tr>\n",
       "      <th>children</th>\n",
       "      <th></th>\n",
       "      <th></th>\n",
       "      <th></th>\n",
       "    </tr>\n",
       "  </thead>\n",
       "  <tbody>\n",
       "    <tr>\n",
       "      <th>4</th>\n",
       "      <td>41</td>\n",
       "      <td>4</td>\n",
       "      <td>0.097561</td>\n",
       "    </tr>\n",
       "    <tr>\n",
       "      <th>2</th>\n",
       "      <td>2052</td>\n",
       "      <td>194</td>\n",
       "      <td>0.094542</td>\n",
       "    </tr>\n",
       "    <tr>\n",
       "      <th>1</th>\n",
       "      <td>4808</td>\n",
       "      <td>444</td>\n",
       "      <td>0.092346</td>\n",
       "    </tr>\n",
       "    <tr>\n",
       "      <th>3</th>\n",
       "      <td>330</td>\n",
       "      <td>27</td>\n",
       "      <td>0.081818</td>\n",
       "    </tr>\n",
       "    <tr>\n",
       "      <th>0</th>\n",
       "      <td>14091</td>\n",
       "      <td>1063</td>\n",
       "      <td>0.075438</td>\n",
       "    </tr>\n",
       "    <tr>\n",
       "      <th>5</th>\n",
       "      <td>9</td>\n",
       "      <td>0</td>\n",
       "      <td>0.000000</td>\n",
       "    </tr>\n",
       "  </tbody>\n",
       "</table>\n",
       "</div>"
      ],
      "text/plain": [
       "          count   sum      mean\n",
       "children                       \n",
       "4            41     4  0.097561\n",
       "2          2052   194  0.094542\n",
       "1          4808   444  0.092346\n",
       "3           330    27  0.081818\n",
       "0         14091  1063  0.075438\n",
       "5             9     0  0.000000"
      ]
     },
     "execution_count": 27,
     "metadata": {},
     "output_type": "execute_result"
    }
   ],
   "source": [
    "# Код ревьюера\n",
    "data.groupby('children')['debt'].agg(['count', 'sum', 'mean'])\\\n",
    "  .sort_values(by = 'mean', ascending = False)"
   ]
  },
  {
   "cell_type": "markdown",
   "id": "198ed29b",
   "metadata": {},
   "source": [
    "<div class=\"alert-danger\" style=\"padding: 20px; border-radius: 10px\">\n",
    "<b>Комментарий ревьюера ❌</b>\n",
    "\n",
    "Ты посчитал процент должников в каждой категории заемщиков. Но для сравнения нам также нужно общее количество заемщиков в каждой категории. \n",
    "\n",
    "Для наглядного сравнения нужно вывести сводную таблицу, в которой будут следующие столбцы:\n",
    "- название категории\n",
    "- количество заемщиков (кредитов)\n",
    "- количество должников (этот столбец опциональный)\n",
    "- средний процент просрочки по категории\n",
    "\n",
    "Вывести такую таблицу можно с использованием методов как `groupby()`, так и `pivot_table()`.\n",
    "\n",
    "Такие сводные таблицы нужно будет вывести для каждого вопроса, далее в работе. \n",
    "\n",
    "Когда ты выведешь такую таблицу, обрати внимание на то, что выборки не сбалансированы, поэтому выявлять зависимости стоит сравнивая самые многочисленные категории заемщиков.\n",
    "\n",
    "Кроме того, для нашего заказчика - банка, разница даже в полпроцента на большом объеме кредитного портфеля будет существенна, поэтому здесь и далее давай выявим более и менее рискованные категории заемщиков.</div>"
   ]
  },
  {
   "cell_type": "markdown",
   "id": "02ef16ff",
   "metadata": {
    "deletable": false,
    "editable": false,
    "id": "97be82ca"
   },
   "source": [
    "#### 3.2 Есть ли зависимость между семейным положением и возвратом кредита в срок?"
   ]
  },
  {
   "cell_type": "code",
   "execution_count": 23,
   "id": "8f45ee89",
   "metadata": {
    "deletable": false,
    "id": "dc3f7ee8"
   },
   "outputs": [
    {
     "data": {
      "text/html": [
       "<div>\n",
       "<style scoped>\n",
       "    .dataframe tbody tr th:only-of-type {\n",
       "        vertical-align: middle;\n",
       "    }\n",
       "\n",
       "    .dataframe tbody tr th {\n",
       "        vertical-align: top;\n",
       "    }\n",
       "\n",
       "    .dataframe thead th {\n",
       "        text-align: right;\n",
       "    }\n",
       "</style>\n",
       "<table border=\"1\" class=\"dataframe\">\n",
       "  <thead>\n",
       "    <tr style=\"text-align: right;\">\n",
       "      <th></th>\n",
       "      <th>count</th>\n",
       "      <th>sum</th>\n",
       "      <th>percent</th>\n",
       "    </tr>\n",
       "    <tr>\n",
       "      <th>family_status</th>\n",
       "      <th></th>\n",
       "      <th></th>\n",
       "      <th></th>\n",
       "    </tr>\n",
       "  </thead>\n",
       "  <tbody>\n",
       "    <tr>\n",
       "      <th>Не женат / не замужем</th>\n",
       "      <td>2796</td>\n",
       "      <td>273</td>\n",
       "      <td>0.097639</td>\n",
       "    </tr>\n",
       "    <tr>\n",
       "      <th>в разводе</th>\n",
       "      <td>1189</td>\n",
       "      <td>84</td>\n",
       "      <td>0.070648</td>\n",
       "    </tr>\n",
       "    <tr>\n",
       "      <th>вдовец / вдова</th>\n",
       "      <td>951</td>\n",
       "      <td>63</td>\n",
       "      <td>0.066246</td>\n",
       "    </tr>\n",
       "    <tr>\n",
       "      <th>гражданский брак</th>\n",
       "      <td>4134</td>\n",
       "      <td>385</td>\n",
       "      <td>0.093130</td>\n",
       "    </tr>\n",
       "    <tr>\n",
       "      <th>женат / замужем</th>\n",
       "      <td>12261</td>\n",
       "      <td>927</td>\n",
       "      <td>0.075606</td>\n",
       "    </tr>\n",
       "  </tbody>\n",
       "</table>\n",
       "</div>"
      ],
      "text/plain": [
       "                       count  sum   percent\n",
       "family_status                              \n",
       "Не женат / не замужем   2796  273  0.097639\n",
       "в разводе               1189   84  0.070648\n",
       "вдовец / вдова           951   63  0.066246\n",
       "гражданский брак        4134  385  0.093130\n",
       "женат / замужем        12261  927  0.075606"
      ]
     },
     "execution_count": 23,
     "metadata": {},
     "output_type": "execute_result"
    }
   ],
   "source": [
    "\n",
    "gr_count = data.groupby('family_status')['debt'].count()\n",
    "gr_sum = data.groupby('family_status')['debt'].sum()\n",
    "percent_whith_debt = gr_sum/gr_count\n",
    "gr = pd.merge(gr_count, gr_sum, right_index = True, left_index = True)\n",
    "gr = pd.merge(gr, percent_whith_debt, right_index = True, left_index = True)\n",
    "gr = gr.rename(columns={'debt_x':'count', 'debt_y':'sum', 'debt':'percent'})\n",
    "gr"
   ]
  },
  {
   "cell_type": "markdown",
   "id": "b8a626cc",
   "metadata": {},
   "source": [
    "В самых малочисленных группах \"в разводе\" и \"вдовец/вдова\" самые маленькие доли должников 7.06% и 6.62% <br> В самой многочисленной группе \"женат/замужем\" 7.56% должников, что не сильно больше вышеупомянутых групп <br> \n",
    "Самый большой процент во второй и третьей группе по численности \"гражданский брак\" и \"не женат/не замужем\" 9.31% и 9.76% соответственно."
   ]
  },
  {
   "cell_type": "markdown",
   "id": "8c1ddc05",
   "metadata": {
    "deletable": false,
    "id": "1cef7837"
   },
   "source": [
    "**Вывод:** <br> \n",
    "- *Самые рисковые категории заемщиков: \"не женат/не замужем\", \"гражданский брак* <br> \n",
    "- *Менее рисковые категории: \"в разводе\", \"вдовец/вдова\", \"женат/замужем\"*"
   ]
  },
  {
   "cell_type": "markdown",
   "id": "8921329d",
   "metadata": {},
   "source": [
    "<div class=\"alert-success\" style=\"border-radius: 10px; padding: 10px\">\n",
    "<b>Комментарий ревьюера V2 ✔️</b>\n",
    "\n",
    "Верно, если обобщить категории по отношению к браку, можно сказать, что заемщики состоящие или состоявшие в браке выглядят более надежными.</div>"
   ]
  },
  {
   "cell_type": "markdown",
   "id": "888ba269",
   "metadata": {
    "deletable": false,
    "editable": false,
    "id": "1e8b2fca"
   },
   "source": [
    "#### 3.3 Есть ли зависимость между уровнем дохода и возвратом кредита в срок?"
   ]
  },
  {
   "cell_type": "code",
   "execution_count": 24,
   "id": "3ec17458",
   "metadata": {
    "deletable": false,
    "id": "cd7e3720"
   },
   "outputs": [
    {
     "data": {
      "text/html": [
       "<div>\n",
       "<style scoped>\n",
       "    .dataframe tbody tr th:only-of-type {\n",
       "        vertical-align: middle;\n",
       "    }\n",
       "\n",
       "    .dataframe tbody tr th {\n",
       "        vertical-align: top;\n",
       "    }\n",
       "\n",
       "    .dataframe thead th {\n",
       "        text-align: right;\n",
       "    }\n",
       "</style>\n",
       "<table border=\"1\" class=\"dataframe\">\n",
       "  <thead>\n",
       "    <tr style=\"text-align: right;\">\n",
       "      <th></th>\n",
       "      <th>count</th>\n",
       "      <th>sum</th>\n",
       "      <th>percent</th>\n",
       "    </tr>\n",
       "    <tr>\n",
       "      <th>total_income_category</th>\n",
       "      <th></th>\n",
       "      <th></th>\n",
       "      <th></th>\n",
       "    </tr>\n",
       "  </thead>\n",
       "  <tbody>\n",
       "    <tr>\n",
       "      <th>A</th>\n",
       "      <td>25</td>\n",
       "      <td>2</td>\n",
       "      <td>0.080000</td>\n",
       "    </tr>\n",
       "    <tr>\n",
       "      <th>B</th>\n",
       "      <td>5014</td>\n",
       "      <td>354</td>\n",
       "      <td>0.070602</td>\n",
       "    </tr>\n",
       "    <tr>\n",
       "      <th>C</th>\n",
       "      <td>15921</td>\n",
       "      <td>1353</td>\n",
       "      <td>0.084982</td>\n",
       "    </tr>\n",
       "    <tr>\n",
       "      <th>D</th>\n",
       "      <td>349</td>\n",
       "      <td>21</td>\n",
       "      <td>0.060172</td>\n",
       "    </tr>\n",
       "    <tr>\n",
       "      <th>E</th>\n",
       "      <td>22</td>\n",
       "      <td>2</td>\n",
       "      <td>0.090909</td>\n",
       "    </tr>\n",
       "  </tbody>\n",
       "</table>\n",
       "</div>"
      ],
      "text/plain": [
       "                       count   sum   percent\n",
       "total_income_category                       \n",
       "A                         25     2  0.080000\n",
       "B                       5014   354  0.070602\n",
       "C                      15921  1353  0.084982\n",
       "D                        349    21  0.060172\n",
       "E                         22     2  0.090909"
      ]
     },
     "execution_count": 24,
     "metadata": {},
     "output_type": "execute_result"
    }
   ],
   "source": [
    "gr_count = data.groupby('total_income_category')['debt'].count()\n",
    "gr_sum = data.groupby('total_income_category')['debt'].sum()\n",
    "percent_whith_debt = gr_sum/gr_count\n",
    "gr = pd.merge(gr_count, gr_sum, right_index = True, left_index = True)\n",
    "gr = pd.merge(gr, percent_whith_debt, right_index = True, left_index = True)\n",
    "gr = gr.rename(columns={'debt_x':'count', 'debt_y':'sum', 'debt':'percent'})\n",
    "gr"
   ]
  },
  {
   "cell_type": "markdown",
   "id": "66e815ca",
   "metadata": {},
   "source": [
    "Группы \"A\", \"D\", \"E\" слишком малы по численности, чтобы объективно их оценить. <br>\n",
    "Рассмотрим людей с доходами относящимися к \"B\" и \"C\":\n",
    "- \"В\" - 7.06% должников\n",
    "- \"С\" - 8.5% должников <br>\n",
    "Заметим, что у людей с доходом, относящимся к категории \"С\", доля людей с долгом больше более чем на 1%, следовательно это самая рисковая группа людей."
   ]
  },
  {
   "cell_type": "markdown",
   "id": "14d62f58",
   "metadata": {
    "deletable": false,
    "id": "e8593def"
   },
   "source": [
    "**Вывод:** <br> \n",
    "- *Самые рисковые категории заемщиков: \"С\"* <br> \n",
    "- *Менее рисковые категории: \"В\"*"
   ]
  },
  {
   "cell_type": "markdown",
   "id": "1193072a",
   "metadata": {},
   "source": [
    "<div class=\"alert-success\" style=\"border-radius: 10px; padding: 10px\">\n",
    "<b>Комментарий ревьюера V2 ✔️</b>\n",
    "\n",
    "Верно, если сравнить самые большие категории B и C, можно сказать, что заемщики с более высоким доходом платят кредиты вовремя лучше.</div>"
   ]
  },
  {
   "cell_type": "markdown",
   "id": "cc29d010",
   "metadata": {
    "deletable": false,
    "editable": false,
    "id": "99ecbd1f"
   },
   "source": [
    "#### 3.4 Как разные цели кредита влияют на его возврат в срок?"
   ]
  },
  {
   "cell_type": "code",
   "execution_count": 25,
   "id": "d30aa187",
   "metadata": {
    "deletable": false,
    "id": "2b687290"
   },
   "outputs": [
    {
     "data": {
      "text/html": [
       "<div>\n",
       "<style scoped>\n",
       "    .dataframe tbody tr th:only-of-type {\n",
       "        vertical-align: middle;\n",
       "    }\n",
       "\n",
       "    .dataframe tbody tr th {\n",
       "        vertical-align: top;\n",
       "    }\n",
       "\n",
       "    .dataframe thead th {\n",
       "        text-align: right;\n",
       "    }\n",
       "</style>\n",
       "<table border=\"1\" class=\"dataframe\">\n",
       "  <thead>\n",
       "    <tr style=\"text-align: right;\">\n",
       "      <th></th>\n",
       "      <th>count</th>\n",
       "      <th>sum</th>\n",
       "      <th>percent</th>\n",
       "    </tr>\n",
       "    <tr>\n",
       "      <th>purpose_category</th>\n",
       "      <th></th>\n",
       "      <th></th>\n",
       "      <th></th>\n",
       "    </tr>\n",
       "  </thead>\n",
       "  <tbody>\n",
       "    <tr>\n",
       "      <th>операции с автомобилем</th>\n",
       "      <td>4279</td>\n",
       "      <td>400</td>\n",
       "      <td>0.093480</td>\n",
       "    </tr>\n",
       "    <tr>\n",
       "      <th>операции с недвижимостью</th>\n",
       "      <td>10751</td>\n",
       "      <td>780</td>\n",
       "      <td>0.072551</td>\n",
       "    </tr>\n",
       "    <tr>\n",
       "      <th>получение образования</th>\n",
       "      <td>3988</td>\n",
       "      <td>369</td>\n",
       "      <td>0.092528</td>\n",
       "    </tr>\n",
       "    <tr>\n",
       "      <th>проведение свадьбы</th>\n",
       "      <td>2313</td>\n",
       "      <td>183</td>\n",
       "      <td>0.079118</td>\n",
       "    </tr>\n",
       "  </tbody>\n",
       "</table>\n",
       "</div>"
      ],
      "text/plain": [
       "                          count  sum   percent\n",
       "purpose_category                              \n",
       "операции с автомобилем     4279  400  0.093480\n",
       "операции с недвижимостью  10751  780  0.072551\n",
       "получение образования      3988  369  0.092528\n",
       "проведение свадьбы         2313  183  0.079118"
      ]
     },
     "execution_count": 25,
     "metadata": {},
     "output_type": "execute_result"
    }
   ],
   "source": [
    "gr_count = data.groupby('purpose_category')['debt'].count()\n",
    "gr_sum = data.groupby('purpose_category')['debt'].sum()\n",
    "percent_whith_debt = gr_sum/gr_count\n",
    "gr = pd.merge(gr_count, gr_sum, right_index = True, left_index = True)\n",
    "gr = pd.merge(gr, percent_whith_debt, right_index = True, left_index = True)\n",
    "gr = gr.rename(columns={'debt_x':'count', 'debt_y':'sum', 'debt':'percent'})\n",
    "gr"
   ]
  },
  {
   "cell_type": "markdown",
   "id": "dfc0eb70",
   "metadata": {},
   "source": [
    "Все группы людей достаточно большие, чтоб объективно оценить их, сравнив доли должников. <br>\n",
    "У 9.35% людей с кредитом на автомобиль есть долги - это наибольший показатель.   <br>\n",
    "Затем идут люди с кредитом на образование. Их доля 9.25%, что не намного меньше самой рисковой группы. <br>\n",
    "У 7.26% людей с кредитом на операции с недвижимостью есть долги - это наименьший показатель показатель. <br>\n",
    "И 7.91% доля должников среди людей с кредитом на проведение свадьбы, что больше самой маленькой на около 0.6%, но меньше почти на 2% чем первые две группы."
   ]
  },
  {
   "cell_type": "markdown",
   "id": "404c334f",
   "metadata": {
    "deletable": false,
    "id": "b4bb2ce6"
   },
   "source": [
    "**Вывод:** <br> \n",
    "- *Самые рисковые категории заемщиков: \"операции с автомобилем\", \"получение образования\"* <br> \n",
    "- *Менее рисковые категории: \"операции с недвижимостью\", \"проведение свадьбы\"*"
   ]
  },
  {
   "cell_type": "markdown",
   "id": "8b52b5b5",
   "metadata": {},
   "source": [
    "<div class=\"alert-success\" style=\"border-radius: 10px; padding: 10px\">\n",
    "<b>Комментарий ревьюера V2 ✔️</b>\n",
    "\n",
    "Да, все верно! 👌</div>"
   ]
  },
  {
   "cell_type": "markdown",
   "id": "5a5de7e2",
   "metadata": {},
   "source": [
    "<div class=\"alert-danger\" style=\"padding: 20px; border-radius: 10px\">\n",
    "<b>Комментарий ревьюера ❌</b>\n",
    "\n",
    "Аналогичные замечания и по остальным вопросам по выявлению зависимостей просрочки от различных факторов.</div>"
   ]
  },
  {
   "cell_type": "markdown",
   "id": "587b3be9",
   "metadata": {
    "deletable": false,
    "editable": false,
    "id": "09c3ac4c"
   },
   "source": [
    "#### 3.5 Приведите возможные причины появления пропусков в исходных данных."
   ]
  },
  {
   "cell_type": "markdown",
   "id": "a75ab986",
   "metadata": {
    "deletable": false,
    "id": "9da2ceda"
   },
   "source": [
    "*Ответ:* пропуски могут появлятся случайно, при внесеннии данных в ручную, из-за человеческого фактора. Человек специально может скрывать данные, либо их может не существовать вовсе. Также может быть техническая ошибка у аппарате используемом для измерений чего-либо."
   ]
  },
  {
   "cell_type": "markdown",
   "id": "714a2174",
   "metadata": {},
   "source": [
    "<div class=\"alert-warning\" style=\"padding: 20px; border-radius: 10px\">\n",
    "<b>Комментарий ревьюера ⚠️</b>\n",
    "\n",
    "Ты правильно указал человеческий фактор, как наиболее вероятную причину образования пропусков в данных. Но какая причина еще может вызвать потерю данных?</div>"
   ]
  },
  {
   "cell_type": "markdown",
   "id": "bd4f2932",
   "metadata": {},
   "source": [
    "<div class=\"alert-info\" style=\"padding: 20px; border-radius: 10px\">\n",
    "<b>Комментарий студента 💎</b>\n",
    "\n",
    "Дополнил.</div>"
   ]
  },
  {
   "cell_type": "markdown",
   "id": "6c74a820",
   "metadata": {},
   "source": [
    "<div class=\"alert-success\" style=\"border-radius: 10px; padding: 10px\">\n",
    "<b>Комментарий ревьюера V2 ✔️</b>\n",
    "\n",
    "Согласен, техническую ошибку также исключать нельзя.</div>"
   ]
  },
  {
   "cell_type": "markdown",
   "id": "588e04b8",
   "metadata": {
    "deletable": false,
    "editable": false,
    "id": "7b0487d6"
   },
   "source": [
    "#### 3.6 Объясните, почему заполнить пропуски медианным значением — лучшее решение для количественных переменных."
   ]
  },
  {
   "cell_type": "markdown",
   "id": "7d01ff81",
   "metadata": {
    "deletable": false,
    "id": "7ecf2b8e"
   },
   "source": [
    "*Ответ:*  среднее значение может искажать реальность, из-за выбросов (очень больших или маленьких значениий), которые сдвигают среднее ближе к своему значению."
   ]
  },
  {
   "cell_type": "markdown",
   "id": "6f9cbf0a",
   "metadata": {},
   "source": [
    "<div class=\"alert-success\" style=\"padding: 20px; border-radius: 10px\">\n",
    "<b>Комментарий ревьюера ✔️</b>\n",
    "\n",
    "Совершенно верно, медиана менее чувствительна к выбросам, чем среднее значение.</div>"
   ]
  },
  {
   "cell_type": "markdown",
   "id": "7e2f5966",
   "metadata": {
    "deletable": false,
    "editable": false,
    "id": "6db5255a"
   },
   "source": [
    "### Шаг 4: общий вывод."
   ]
  },
  {
   "cell_type": "markdown",
   "id": "a1432469",
   "metadata": {
    "deletable": false,
    "id": "bad65432"
   },
   "source": [
    "###### В этом исследоввнии я работал с датасетом, содержащим информацию о клиентах банка, которыевзяли кредит. В таблице находится такая информация, как количество детей, семейный статус, доход и цель кредита. Главной целью было выявить влияние этих факторов на возврат кредита в срок, чтобы определить надежность заемщиков. <br>\n",
    "###### В исходных данных были пропуски и ошибки, которые были устранены на первом этапе работы. Далее для удобства данные были объединены в категории по доходу и по цели кредита.\n",
    "###### Чтобы выявить определенные зависимости, в каждой группе были представленны сводные таблицы, состоящие из общего числа людей в группе, количества должников и их доли в общем числе. На их основании можно составить портреты идеального и самого рискового заемщика. \n",
    "- портрет идеального заемщика: человек без детей, находящийся в разводе или являющийся вдовцем/вдовой, имеющий доход от 200тыс до миллиона рублей, который берет кредит на преобретение недвижимости.\n",
    "- портрет самого рискового заемщика: человек с одним или двумя детьми, холостой или находящийся в гражданском браке, с доходом от 50 до 200 тысяч рублей, который берет кредит на автомобиль. <br><br>\n",
    "Подробные результаты исследования можно увидеть в самой работе."
   ]
  },
  {
   "cell_type": "markdown",
   "id": "541efddb",
   "metadata": {},
   "source": [
    "<div class=\"alert-success\" style=\"border-radius: 10px; padding: 10px\">\n",
    "<b>Комментарий ревьюера V2 ✔️</b>\n",
    "\n",
    "Теперь у тебя получился подробный общий вывод, отражающий все основные результаты исследования. 👌</div>"
   ]
  },
  {
   "cell_type": "markdown",
   "id": "d526a283",
   "metadata": {},
   "source": [
    "<div class=\"alert-info\" style=\"padding: 20px; border-radius: 10px\">\n",
    "<b>Комментарий студента 💎</b>\n",
    "\n",
    "Переписал.</div>"
   ]
  },
  {
   "cell_type": "markdown",
   "id": "2c053000",
   "metadata": {},
   "source": [
    "<div class=\"alert-danger\" style=\"padding: 20px; border-radius: 10px\">\n",
    "<b>Комментарий ревьюера ❌</b>\n",
    "\n",
    "Общий вывод - важный элемент работы. Его нужно сформулировать, взяв основные результаты из всех шагов проекта. Начать нужно с того, с какими данными мы работали и какие действия провели на этапе предобработки, сформулировать все выявленные зависимости просрочки от различных факторов (после внесения доработок), можно дать портрет идеального и рискованного заемщика и закончить выявленными при ответе на вопросы зависимостями и рекомендациями заказчику по улучшению сбора данных и системы скоринга.\n",
    "\n",
    "Заказчик, зачастую, читает только общий вывод исследования - поэтому он должен быть максимально информативным.</div>"
   ]
  },
  {
   "cell_type": "markdown",
   "id": "8247bd8b",
   "metadata": {},
   "source": [
    "<div style=\"border:solid steelblue 3px; padding: 20px; border-radius: 10px\">\n",
    "    \n",
    "<b>Общий комментарий ревьюера:</b>\n",
    "\n",
    "Ты проделал большую работу, но нужно кое-что исправить, чтобы я ее принял.\n",
    "    \n",
    "Есть несколько критических замечаний:\n",
    "- по выводу сводных таблиц для ответов по поиску зависимостей\n",
    "- по выявлению зависимостей просрочки от различных факторов (дети, семейный статус, уровень дохода, цель кредита)\n",
    "- по вопросу касательно заполнения пропусков медианой\n",
    "- по общему выводу\n",
    "    \n",
    "Буду ждать твой доработанный проект. ⌛️</div>"
   ]
  },
  {
   "cell_type": "code",
   "execution_count": 26,
   "id": "c435f23d",
   "metadata": {},
   "outputs": [
    {
     "name": "stdout",
     "output_type": "stream",
     "text": [
      "Спасибо, Алексей, за проверку!\n"
     ]
    }
   ],
   "source": [
    "print('Спасибо, Алексей, за проверку!')"
   ]
  },
  {
   "cell_type": "markdown",
   "id": "82559bb5",
   "metadata": {},
   "source": [
    "<div style=\"border:solid steelblue 3px; padding: 20px; border-radius: 10px\">\n",
    "    \n",
    "<b>Общий комментарий ревьюера V2</b>\n",
    "\n",
    "Тебе спасибо, что доработал проект! 🤝 Критических замечаний больше нет, получилась очень хорошая работа.\n",
    "    \n",
    "Успехов в дальнейшем обучении! 🏆\n",
    "    \n",
    "</div>"
   ]
  },
  {
   "cell_type": "code",
   "execution_count": null,
   "id": "db590637",
   "metadata": {},
   "outputs": [],
   "source": []
  }
 ],
 "metadata": {
  "ExecuteTimeLog": [
   {
    "duration": 461,
    "start_time": "2023-02-21T17:18:38.659Z"
   },
   {
    "duration": 23,
    "start_time": "2023-02-21T17:18:39.122Z"
   },
   {
    "duration": 14,
    "start_time": "2023-02-21T17:18:39.147Z"
   },
   {
    "duration": 14,
    "start_time": "2023-02-21T17:18:39.163Z"
   },
   {
    "duration": 45,
    "start_time": "2023-02-21T17:18:39.179Z"
   },
   {
    "duration": 3,
    "start_time": "2023-02-21T17:18:39.226Z"
   },
   {
    "duration": 15,
    "start_time": "2023-02-21T17:18:39.231Z"
   },
   {
    "duration": 5,
    "start_time": "2023-02-21T17:18:39.248Z"
   },
   {
    "duration": 10,
    "start_time": "2023-02-21T17:18:39.254Z"
   },
   {
    "duration": 6,
    "start_time": "2023-02-21T17:18:39.265Z"
   },
   {
    "duration": 54,
    "start_time": "2023-02-21T17:18:39.272Z"
   },
   {
    "duration": 8,
    "start_time": "2023-02-21T17:18:39.327Z"
   },
   {
    "duration": 6,
    "start_time": "2023-02-21T17:18:39.337Z"
   },
   {
    "duration": 10,
    "start_time": "2023-02-21T17:18:39.346Z"
   },
   {
    "duration": 18,
    "start_time": "2023-02-21T17:18:39.358Z"
   },
   {
    "duration": 39,
    "start_time": "2023-02-21T17:18:39.378Z"
   },
   {
    "duration": 4,
    "start_time": "2023-02-21T17:18:39.419Z"
   },
   {
    "duration": 15,
    "start_time": "2023-02-21T17:18:39.425Z"
   },
   {
    "duration": 11,
    "start_time": "2023-02-21T17:18:39.442Z"
   },
   {
    "duration": 6,
    "start_time": "2023-02-21T17:18:39.455Z"
   },
   {
    "duration": 15,
    "start_time": "2023-02-21T17:18:39.462Z"
   },
   {
    "duration": 9,
    "start_time": "2023-02-21T17:18:39.479Z"
   },
   {
    "duration": 3,
    "start_time": "2023-02-21T17:18:39.503Z"
   },
   {
    "duration": 7,
    "start_time": "2023-02-21T17:18:39.508Z"
   },
   {
    "duration": 7,
    "start_time": "2023-02-21T17:18:39.517Z"
   },
   {
    "duration": 9,
    "start_time": "2023-02-21T17:35:20.733Z"
   },
   {
    "duration": 9,
    "start_time": "2023-02-21T17:35:50.057Z"
   },
   {
    "duration": 10,
    "start_time": "2023-02-21T17:46:37.690Z"
   },
   {
    "duration": 11,
    "start_time": "2023-02-21T17:57:13.909Z"
   },
   {
    "duration": 14,
    "start_time": "2023-02-21T17:57:19.121Z"
   },
   {
    "duration": 10,
    "start_time": "2023-02-21T17:57:41.919Z"
   },
   {
    "duration": 11,
    "start_time": "2023-02-21T17:57:57.775Z"
   },
   {
    "duration": 12,
    "start_time": "2023-02-21T17:58:57.017Z"
   },
   {
    "duration": 749,
    "start_time": "2023-02-22T20:29:24.760Z"
   },
   {
    "duration": 22,
    "start_time": "2023-02-22T20:29:25.512Z"
   },
   {
    "duration": 21,
    "start_time": "2023-02-22T20:29:25.536Z"
   },
   {
    "duration": 24,
    "start_time": "2023-02-22T20:29:25.559Z"
   },
   {
    "duration": 56,
    "start_time": "2023-02-22T20:29:25.585Z"
   },
   {
    "duration": 4,
    "start_time": "2023-02-22T20:29:25.643Z"
   },
   {
    "duration": 31,
    "start_time": "2023-02-22T20:29:25.649Z"
   },
   {
    "duration": 24,
    "start_time": "2023-02-22T20:29:25.682Z"
   },
   {
    "duration": 37,
    "start_time": "2023-02-22T20:29:25.708Z"
   },
   {
    "duration": 36,
    "start_time": "2023-02-22T20:29:25.747Z"
   },
   {
    "duration": 46,
    "start_time": "2023-02-22T20:29:25.785Z"
   },
   {
    "duration": 9,
    "start_time": "2023-02-22T20:29:25.833Z"
   },
   {
    "duration": 19,
    "start_time": "2023-02-22T20:29:25.843Z"
   },
   {
    "duration": 34,
    "start_time": "2023-02-22T20:29:25.865Z"
   },
   {
    "duration": 32,
    "start_time": "2023-02-22T20:29:25.901Z"
   },
   {
    "duration": 16,
    "start_time": "2023-02-22T20:29:25.935Z"
   },
   {
    "duration": 33,
    "start_time": "2023-02-22T20:29:25.953Z"
   },
   {
    "duration": 30,
    "start_time": "2023-02-22T20:29:25.987Z"
   },
   {
    "duration": 30,
    "start_time": "2023-02-22T20:29:26.019Z"
   },
   {
    "duration": 36,
    "start_time": "2023-02-22T20:29:26.051Z"
   },
   {
    "duration": 49,
    "start_time": "2023-02-22T20:29:26.090Z"
   },
   {
    "duration": 38,
    "start_time": "2023-02-22T20:29:26.141Z"
   },
   {
    "duration": 33,
    "start_time": "2023-02-22T20:29:26.181Z"
   },
   {
    "duration": 12,
    "start_time": "2023-02-22T20:29:26.217Z"
   },
   {
    "duration": 33,
    "start_time": "2023-02-22T20:29:26.231Z"
   },
   {
    "duration": 415,
    "start_time": "2023-02-23T13:16:48.031Z"
   },
   {
    "duration": 29,
    "start_time": "2023-02-23T13:16:48.449Z"
   },
   {
    "duration": 18,
    "start_time": "2023-02-23T13:16:48.479Z"
   },
   {
    "duration": 11,
    "start_time": "2023-02-23T13:16:48.499Z"
   },
   {
    "duration": 40,
    "start_time": "2023-02-23T13:16:48.512Z"
   },
   {
    "duration": 3,
    "start_time": "2023-02-23T13:16:48.554Z"
   },
   {
    "duration": 24,
    "start_time": "2023-02-23T13:16:48.559Z"
   },
   {
    "duration": 7,
    "start_time": "2023-02-23T13:16:48.584Z"
   },
   {
    "duration": 6,
    "start_time": "2023-02-23T13:16:48.592Z"
   },
   {
    "duration": 5,
    "start_time": "2023-02-23T13:16:48.600Z"
   },
   {
    "duration": 33,
    "start_time": "2023-02-23T13:16:48.607Z"
   },
   {
    "duration": 10,
    "start_time": "2023-02-23T13:16:48.642Z"
   },
   {
    "duration": 6,
    "start_time": "2023-02-23T13:16:48.654Z"
   },
   {
    "duration": 38,
    "start_time": "2023-02-23T13:16:48.661Z"
   },
   {
    "duration": 22,
    "start_time": "2023-02-23T13:16:48.700Z"
   },
   {
    "duration": 15,
    "start_time": "2023-02-23T13:16:48.723Z"
   },
   {
    "duration": 3,
    "start_time": "2023-02-23T13:16:48.740Z"
   },
   {
    "duration": 14,
    "start_time": "2023-02-23T13:16:48.744Z"
   },
   {
    "duration": 6,
    "start_time": "2023-02-23T13:16:48.759Z"
   },
   {
    "duration": 26,
    "start_time": "2023-02-23T13:16:48.766Z"
   },
   {
    "duration": 11,
    "start_time": "2023-02-23T13:16:48.793Z"
   },
   {
    "duration": 8,
    "start_time": "2023-02-23T13:16:48.805Z"
   },
   {
    "duration": 9,
    "start_time": "2023-02-23T13:16:48.815Z"
   },
   {
    "duration": 8,
    "start_time": "2023-02-23T13:16:48.825Z"
   },
   {
    "duration": 10,
    "start_time": "2023-02-23T13:16:48.834Z"
   },
   {
    "duration": 480,
    "start_time": "2023-02-25T15:15:50.448Z"
   },
   {
    "duration": 21,
    "start_time": "2023-02-25T15:15:50.930Z"
   },
   {
    "duration": 14,
    "start_time": "2023-02-25T15:15:50.952Z"
   },
   {
    "duration": 9,
    "start_time": "2023-02-25T15:15:50.967Z"
   },
   {
    "duration": 34,
    "start_time": "2023-02-25T15:15:50.978Z"
   },
   {
    "duration": 3,
    "start_time": "2023-02-25T15:15:51.013Z"
   },
   {
    "duration": 11,
    "start_time": "2023-02-25T15:15:51.018Z"
   },
   {
    "duration": 4,
    "start_time": "2023-02-25T15:15:51.031Z"
   },
   {
    "duration": 27,
    "start_time": "2023-02-25T15:15:51.036Z"
   },
   {
    "duration": 29,
    "start_time": "2023-02-25T15:15:51.065Z"
   },
   {
    "duration": 50,
    "start_time": "2023-02-25T15:15:51.096Z"
   },
   {
    "duration": 9,
    "start_time": "2023-02-25T15:15:51.148Z"
   },
   {
    "duration": 10,
    "start_time": "2023-02-25T15:15:51.159Z"
   },
   {
    "duration": 16,
    "start_time": "2023-02-25T15:15:51.171Z"
   },
   {
    "duration": 45,
    "start_time": "2023-02-25T15:15:51.189Z"
   },
   {
    "duration": 20,
    "start_time": "2023-02-25T15:15:51.236Z"
   },
   {
    "duration": 5,
    "start_time": "2023-02-25T15:15:51.257Z"
   },
   {
    "duration": 15,
    "start_time": "2023-02-25T15:15:51.264Z"
   },
   {
    "duration": 8,
    "start_time": "2023-02-25T15:15:51.281Z"
   },
   {
    "duration": 17,
    "start_time": "2023-02-25T15:15:51.290Z"
   },
   {
    "duration": 16,
    "start_time": "2023-02-25T15:15:51.309Z"
   },
   {
    "duration": 21,
    "start_time": "2023-02-25T15:15:51.327Z"
   },
   {
    "duration": 31,
    "start_time": "2023-02-25T15:15:51.350Z"
   },
   {
    "duration": 25,
    "start_time": "2023-02-25T15:15:51.383Z"
   },
   {
    "duration": 36,
    "start_time": "2023-02-25T15:15:51.410Z"
   },
   {
    "duration": 65,
    "start_time": "2023-02-25T15:18:48.546Z"
   },
   {
    "duration": 12,
    "start_time": "2023-02-25T15:39:05.932Z"
   },
   {
    "duration": 17,
    "start_time": "2023-02-25T15:41:25.658Z"
   },
   {
    "duration": 13,
    "start_time": "2023-02-25T15:41:56.108Z"
   },
   {
    "duration": 19,
    "start_time": "2023-02-25T15:42:15.537Z"
   },
   {
    "duration": 15,
    "start_time": "2023-02-25T15:42:24.804Z"
   },
   {
    "duration": 15,
    "start_time": "2023-02-25T15:43:27.909Z"
   },
   {
    "duration": 14,
    "start_time": "2023-02-25T15:44:21.409Z"
   },
   {
    "duration": 13,
    "start_time": "2023-02-25T15:44:36.429Z"
   },
   {
    "duration": 15,
    "start_time": "2023-02-25T15:44:44.684Z"
   },
   {
    "duration": 16,
    "start_time": "2023-02-25T15:46:35.180Z"
   },
   {
    "duration": 11,
    "start_time": "2023-02-25T15:46:41.573Z"
   },
   {
    "duration": 50,
    "start_time": "2023-02-25T18:11:39.663Z"
   },
   {
    "duration": 550,
    "start_time": "2023-02-25T18:11:47.509Z"
   },
   {
    "duration": 23,
    "start_time": "2023-02-25T18:11:48.061Z"
   },
   {
    "duration": 15,
    "start_time": "2023-02-25T18:11:48.086Z"
   },
   {
    "duration": 9,
    "start_time": "2023-02-25T18:11:48.103Z"
   },
   {
    "duration": 41,
    "start_time": "2023-02-25T18:11:48.113Z"
   },
   {
    "duration": 3,
    "start_time": "2023-02-25T18:11:48.156Z"
   },
   {
    "duration": 29,
    "start_time": "2023-02-25T18:11:48.161Z"
   },
   {
    "duration": 5,
    "start_time": "2023-02-25T18:11:48.192Z"
   },
   {
    "duration": 18,
    "start_time": "2023-02-25T18:11:48.199Z"
   },
   {
    "duration": 10,
    "start_time": "2023-02-25T18:11:48.220Z"
   },
   {
    "duration": 33,
    "start_time": "2023-02-25T18:11:48.232Z"
   },
   {
    "duration": 9,
    "start_time": "2023-02-25T18:11:48.267Z"
   },
   {
    "duration": 7,
    "start_time": "2023-02-25T18:11:48.277Z"
   },
   {
    "duration": 11,
    "start_time": "2023-02-25T18:11:48.287Z"
   },
   {
    "duration": 40,
    "start_time": "2023-02-25T18:11:48.300Z"
   },
   {
    "duration": 16,
    "start_time": "2023-02-25T18:11:48.341Z"
   },
   {
    "duration": 3,
    "start_time": "2023-02-25T18:11:48.359Z"
   },
   {
    "duration": 13,
    "start_time": "2023-02-25T18:11:48.363Z"
   },
   {
    "duration": 7,
    "start_time": "2023-02-25T18:11:48.378Z"
   },
   {
    "duration": 3,
    "start_time": "2023-02-25T18:11:48.387Z"
   },
   {
    "duration": 14,
    "start_time": "2023-02-25T18:11:48.392Z"
   },
   {
    "duration": 15,
    "start_time": "2023-02-25T18:11:48.426Z"
   },
   {
    "duration": 16,
    "start_time": "2023-02-25T18:11:48.442Z"
   },
   {
    "duration": 15,
    "start_time": "2023-02-25T18:11:48.460Z"
   },
   {
    "duration": 15,
    "start_time": "2023-02-25T18:11:48.477Z"
   },
   {
    "duration": 17,
    "start_time": "2023-02-25T18:12:12.903Z"
   },
   {
    "duration": 16,
    "start_time": "2023-02-25T18:12:19.301Z"
   },
   {
    "duration": 18,
    "start_time": "2023-02-25T18:12:25.764Z"
   },
   {
    "duration": 3,
    "start_time": "2023-02-25T18:56:27.121Z"
   },
   {
    "duration": 4,
    "start_time": "2023-02-25T20:36:12.464Z"
   },
   {
    "duration": 461,
    "start_time": "2023-02-25T22:24:00.752Z"
   },
   {
    "duration": 22,
    "start_time": "2023-02-25T22:24:01.215Z"
   },
   {
    "duration": 35,
    "start_time": "2023-02-25T22:24:01.238Z"
   },
   {
    "duration": 15,
    "start_time": "2023-02-25T22:24:01.276Z"
   },
   {
    "duration": 56,
    "start_time": "2023-02-25T22:24:01.293Z"
   },
   {
    "duration": 4,
    "start_time": "2023-02-25T22:24:01.351Z"
   },
   {
    "duration": 11,
    "start_time": "2023-02-25T22:24:01.357Z"
   },
   {
    "duration": 5,
    "start_time": "2023-02-25T22:24:01.369Z"
   },
   {
    "duration": 23,
    "start_time": "2023-02-25T22:24:01.375Z"
   },
   {
    "duration": 10,
    "start_time": "2023-02-25T22:24:01.401Z"
   },
   {
    "duration": 44,
    "start_time": "2023-02-25T22:24:01.413Z"
   },
   {
    "duration": 9,
    "start_time": "2023-02-25T22:24:01.459Z"
   },
   {
    "duration": 4,
    "start_time": "2023-02-25T22:24:01.471Z"
   },
   {
    "duration": 25,
    "start_time": "2023-02-25T22:24:01.477Z"
   },
   {
    "duration": 44,
    "start_time": "2023-02-25T22:24:01.505Z"
   },
   {
    "duration": 20,
    "start_time": "2023-02-25T22:24:01.552Z"
   },
   {
    "duration": 4,
    "start_time": "2023-02-25T22:24:01.574Z"
   },
   {
    "duration": 43,
    "start_time": "2023-02-25T22:24:01.580Z"
   },
   {
    "duration": 37,
    "start_time": "2023-02-25T22:24:01.625Z"
   },
   {
    "duration": 30,
    "start_time": "2023-02-25T22:24:01.664Z"
   },
   {
    "duration": 44,
    "start_time": "2023-02-25T22:24:01.696Z"
   },
   {
    "duration": 23,
    "start_time": "2023-02-25T22:24:01.741Z"
   },
   {
    "duration": 26,
    "start_time": "2023-02-25T22:24:01.766Z"
   },
   {
    "duration": 29,
    "start_time": "2023-02-25T22:24:01.793Z"
   },
   {
    "duration": 18,
    "start_time": "2023-02-25T22:24:01.824Z"
   },
   {
    "duration": 3,
    "start_time": "2023-02-25T22:24:01.843Z"
   },
   {
    "duration": 72,
    "start_time": "2023-02-26T21:34:18.972Z"
   },
   {
    "duration": 453,
    "start_time": "2023-02-27T07:38:30.277Z"
   },
   {
    "duration": 23,
    "start_time": "2023-02-27T07:38:30.733Z"
   },
   {
    "duration": 34,
    "start_time": "2023-02-27T07:38:30.760Z"
   },
   {
    "duration": 34,
    "start_time": "2023-02-27T07:38:30.796Z"
   },
   {
    "duration": 61,
    "start_time": "2023-02-27T07:38:30.832Z"
   },
   {
    "duration": 28,
    "start_time": "2023-02-27T07:38:30.895Z"
   },
   {
    "duration": 54,
    "start_time": "2023-02-27T07:38:30.925Z"
   },
   {
    "duration": 56,
    "start_time": "2023-02-27T07:38:30.981Z"
   },
   {
    "duration": 40,
    "start_time": "2023-02-27T07:38:31.040Z"
   },
   {
    "duration": 48,
    "start_time": "2023-02-27T07:38:31.081Z"
   },
   {
    "duration": 88,
    "start_time": "2023-02-27T07:38:31.130Z"
   },
   {
    "duration": 15,
    "start_time": "2023-02-27T07:38:31.220Z"
   },
   {
    "duration": 30,
    "start_time": "2023-02-27T07:38:31.237Z"
   },
   {
    "duration": 68,
    "start_time": "2023-02-27T07:38:31.269Z"
   },
   {
    "duration": 60,
    "start_time": "2023-02-27T07:38:31.340Z"
   },
   {
    "duration": 39,
    "start_time": "2023-02-27T07:38:31.402Z"
   },
   {
    "duration": 16,
    "start_time": "2023-02-27T07:38:31.443Z"
   },
   {
    "duration": 31,
    "start_time": "2023-02-27T07:38:31.461Z"
   },
   {
    "duration": 50,
    "start_time": "2023-02-27T07:38:31.494Z"
   },
   {
    "duration": 14,
    "start_time": "2023-02-27T07:38:31.545Z"
   },
   {
    "duration": 30,
    "start_time": "2023-02-27T07:38:31.560Z"
   },
   {
    "duration": 34,
    "start_time": "2023-02-27T07:38:31.591Z"
   },
   {
    "duration": 34,
    "start_time": "2023-02-27T07:38:31.626Z"
   },
   {
    "duration": 17,
    "start_time": "2023-02-27T07:38:31.662Z"
   },
   {
    "duration": 32,
    "start_time": "2023-02-27T07:38:31.681Z"
   },
   {
    "duration": 7,
    "start_time": "2023-02-27T07:38:31.715Z"
   },
   {
    "duration": 17,
    "start_time": "2023-02-27T07:39:04.657Z"
   }
  ],
  "colab": {
   "name": "dpp_template_part2.ipynb",
   "provenance": []
  },
  "kernelspec": {
   "display_name": "Python 3 (ipykernel)",
   "language": "python",
   "name": "python3"
  },
  "language_info": {
   "codemirror_mode": {
    "name": "ipython",
    "version": 3
   },
   "file_extension": ".py",
   "mimetype": "text/x-python",
   "name": "python",
   "nbconvert_exporter": "python",
   "pygments_lexer": "ipython3",
   "version": "3.9.5"
  },
  "toc": {
   "base_numbering": 1,
   "nav_menu": {},
   "number_sections": true,
   "sideBar": true,
   "skip_h1_title": true,
   "title_cell": "Table of Contents",
   "title_sidebar": "Contents",
   "toc_cell": false,
   "toc_position": {},
   "toc_section_display": true,
   "toc_window_display": false
  }
 },
 "nbformat": 4,
 "nbformat_minor": 5
}
